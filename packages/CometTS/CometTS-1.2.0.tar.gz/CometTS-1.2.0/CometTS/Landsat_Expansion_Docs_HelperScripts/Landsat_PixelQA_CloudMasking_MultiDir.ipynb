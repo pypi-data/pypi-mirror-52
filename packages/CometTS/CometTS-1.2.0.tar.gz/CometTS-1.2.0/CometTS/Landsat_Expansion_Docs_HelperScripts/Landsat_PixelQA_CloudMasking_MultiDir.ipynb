{
 "cells": [
  {
   "cell_type": "code",
   "execution_count": 4,
   "metadata": {},
   "outputs": [
    {
     "name": "stdout",
     "output_type": "stream",
     "text": [
      "['LC080250402017052401T1-SC20180108111006/', 'LC080250392017052401T1-SC20180108111208/']\n"
     ]
    },
    {
     "data": {
      "application/vnd.jupyter.widget-view+json": {
       "model_id": "74e15dad28d240f19576775f4f9f7df9",
       "version_major": 2,
       "version_minor": 0
      },
      "text/html": [
       "<p>Failed to display Jupyter Widget of type <code>HBox</code>.</p>\n",
       "<p>\n",
       "  If you're reading this message in the Jupyter Notebook or JupyterLab Notebook, it may mean\n",
       "  that the widgets JavaScript is still loading. If this message persists, it\n",
       "  likely means that the widgets JavaScript library is either not installed or\n",
       "  not enabled. See the <a href=\"https://ipywidgets.readthedocs.io/en/stable/user_install.html\">Jupyter\n",
       "  Widgets Documentation</a> for setup instructions.\n",
       "</p>\n",
       "<p>\n",
       "  If you're reading this message in another frontend (for example, a static\n",
       "  rendering on GitHub or <a href=\"https://nbviewer.jupyter.org/\">NBViewer</a>),\n",
       "  it may mean that your frontend doesn't currently support widgets.\n",
       "</p>\n"
      ],
      "text/plain": [
       "HBox(children=(IntProgress(value=0, max=2), HTML(value=u'')))"
      ]
     },
     "metadata": {},
     "output_type": "display_data"
    },
    {
     "name": "stdout",
     "output_type": "stream",
     "text": [
      "LC080250402017052401T1-SC20180108111006/\n",
      "LC080250392017052401T1-SC20180108111208/\n",
      "\n"
     ]
    }
   ],
   "source": [
    "import numpy as np\n",
    "import gdal\n",
    "import os\n",
    "import glob\n",
    "import sys\n",
    "from tqdm import tqdm_notebook as tqdm\n",
    "\n",
    "\n",
    "input_dir=\"/Landsat/p25r39\"\n",
    "os.chdir(input_dir)\n",
    "driver = gdal.GetDriverByName(\"GTiff\")\n",
    "\n",
    "directories=glob.glob(\"*/\")\n",
    "print directories\n",
    "for directory in tqdm(directories):\n",
    "    os.chdir(directory)\n",
    "    print(directory)\n",
    "    pixel_qa_name= glob.glob(\"*pixel_qa.tif\")[0]\n",
    "    numtrim=pixel_qa_name[3:4]\n",
    "    LSnum=int(numtrim)\n",
    "    pixel_qa=gdal.Open(pixel_qa_name)\n",
    "    geo = pixel_qa.GetGeoTransform()  \n",
    "    proj = pixel_qa.GetProjection()\n",
    "    \n",
    "    pixel_qa=pixel_qa.ReadAsArray()\n",
    "    shape=pixel_qa.shape\n",
    "    pixel_qa_out=np.zeros(shape,np.int8)\n",
    "    \n",
    "    if LSnum==8:\n",
    "        pixel_qa_out[np.where(pixel_qa==1)] = 255\n",
    "        #Cloud Shadow\n",
    "        pixel_qa_out[np.where(pixel_qa==328)] = 1\n",
    "        pixel_qa_out[np.where(pixel_qa==392)] = 1\n",
    "        pixel_qa_out[np.where(pixel_qa==840)] = 1\n",
    "        pixel_qa_out[np.where(pixel_qa==904)] = 1\n",
    "        pixel_qa_out[np.where(pixel_qa==1350)] = 1\n",
    "        #Snow/Ice\n",
    "        pixel_qa_out[np.where(pixel_qa==336)] = 1\n",
    "        pixel_qa_out[np.where(pixel_qa==368)] = 1\n",
    "        pixel_qa_out[np.where(pixel_qa==400)] = 1\n",
    "        pixel_qa_out[np.where(pixel_qa==432)] = 1\n",
    "        pixel_qa_out[np.where(pixel_qa==848)] = 1\n",
    "        pixel_qa_out[np.where(pixel_qa==880)] = 1\n",
    "        pixel_qa_out[np.where(pixel_qa==912)] = 1\n",
    "        pixel_qa_out[np.where(pixel_qa==944)] = 1\n",
    "        pixel_qa_out[np.where(pixel_qa==1352)] = 1\n",
    "        #Medium Confidence Clouds\n",
    "        pixel_qa_out[np.where(pixel_qa==386)] = 1\n",
    "        pixel_qa_out[np.where(pixel_qa==388)] = 1\n",
    "        pixel_qa_out[np.where(pixel_qa==416)] = 1\n",
    "        pixel_qa_out[np.where(pixel_qa==898)] = 1\n",
    "        pixel_qa_out[np.where(pixel_qa==900)] = 1\n",
    "        pixel_qa_out[np.where(pixel_qa==928)] = 1\n",
    "        #High Confidence Clouds\n",
    "        pixel_qa_out[np.where(pixel_qa==480)] = 1\n",
    "        pixel_qa_out[np.where(pixel_qa==992)] = 1\n",
    "        #High Confidence Cirrus\n",
    "        pixel_qa_out[np.where(pixel_qa==834)] = 1\n",
    "        pixel_qa_out[np.where(pixel_qa==836)] = 1\n",
    "        pixel_qa_out[np.where(pixel_qa==840)] = 1\n",
    "        pixel_qa_out[np.where(pixel_qa==848)] = 1\n",
    "        pixel_qa_out[np.where(pixel_qa==864)] = 1\n",
    "        pixel_qa_out[np.where(pixel_qa==912)] = 1\n",
    "        #Terrain\n",
    "        pixel_qa_out[np.where(pixel_qa==1346)] = 1\n",
    "        pixel_qa_out[np.where(pixel_qa==1348)] = 1\n",
    "\n",
    "        \n",
    "        \n",
    "    if LSnum<=7:\n",
    "        pixel_qa_out[np.where(pixel_qa==1)] = 255\n",
    "        #Cloud Shadow\n",
    "        pixel_qa_out[np.where(pixel_qa==72)] = 1\n",
    "        pixel_qa_out[np.where(pixel_qa==136)] = 1\n",
    "        #Snow/Ice\n",
    "        pixel_qa_out[np.where(pixel_qa==80)] = 1\n",
    "        pixel_qa_out[np.where(pixel_qa==112)] = 1\n",
    "        pixel_qa_out[np.where(pixel_qa==144)] = 1\n",
    "        pixel_qa_out[np.where(pixel_qa==176)] = 1\n",
    "        #Medium Confidence Clouds\n",
    "        pixel_qa_out[np.where(pixel_qa==130)] = 1\n",
    "        pixel_qa_out[np.where(pixel_qa==132)] = 1\n",
    "        pixel_qa_out[np.where(pixel_qa==160)] = 1\n",
    "        #High Confidence Clouds\n",
    "        pixel_qa_out[np.where(pixel_qa==224)] = 1\n",
    "        \n",
    "    MaskLayerOut=pixel_qa_name.split(\"_pixel_qa.tif\")[0] + \"_cMask.tif\"    \n",
    "    MaskLayer_Output = driver.Create(MaskLayerOut, shape[1], shape[0], 1, gdal.GDT_Byte)\n",
    "    MaskLayer_Output.SetGeoTransform( geo )\n",
    "    MaskLayer_Output.SetProjection( proj )\n",
    "    MaskLayer_Output.GetRasterBand(1).WriteArray(pixel_qa_out)\n",
    "    MaskLayer_Output.GetRasterBand(1).SetNoDataValue(255)\n",
    "    del MaskLayer_Output\n",
    "    os.chdir(input_dir)\n",
    "    \n",
    "\n",
    "    \n",
    "\n",
    "\n",
    "                \n",
    "            \n",
    "\n",
    "\n",
    "\n",
    "\n",
    "\n",
    "\n"
   ]
  },
  {
   "cell_type": "code",
   "execution_count": 5,
   "metadata": {},
   "outputs": [],
   "source": [
    "del MaskLayer_Output"
   ]
  },
  {
   "cell_type": "code",
   "execution_count": null,
   "metadata": {},
   "outputs": [],
   "source": []
  }
 ],
 "metadata": {
  "kernelspec": {
   "display_name": "Python 2",
   "language": "python",
   "name": "python2"
  },
  "language_info": {
   "codemirror_mode": {
    "name": "ipython",
    "version": 2
   },
   "file_extension": ".py",
   "mimetype": "text/x-python",
   "name": "python",
   "nbconvert_exporter": "python",
   "pygments_lexer": "ipython2",
   "version": "2.7.14"
  }
 },
 "nbformat": 4,
 "nbformat_minor": 2
}
