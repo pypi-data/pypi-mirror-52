{
 "cells": [
  {
   "cell_type": "markdown",
   "metadata": {},
   "source": [
    "Voorbeeld notebook om met de dataportal van hkv.services te werken.\n",
    "\n",
    "Allereerst, importeer de module als volgt:"
   ]
  },
  {
   "cell_type": "code",
   "execution_count": 1,
   "metadata": {},
   "outputs": [
    {
     "name": "stdout",
     "output_type": "stream",
     "text": [
      "Dataservice is recognized. https://demo-hkv-domain/dataportal/ will be used as portal\n"
     ]
    }
   ],
   "source": [
    "import hkvportal\n",
    "dp = hkvportal.Service('https://demo-hkv-domain/dataportal/')"
   ]
  },
  {
   "cell_type": "markdown",
   "metadata": {},
   "source": [
    "In de dataportal kunnen verschillende databases worden aangemaakt (`createDatabase`). In een bestaande database mogen entries worden:\n",
    "- aangemaakt (`setEntry`)\n",
    "- bijgewerkt (`updateEntry`)\n",
    "- opgehaald (`getEntry`) of \n",
    "- verwijderd (`deleteEntry`)\n",
    "\n",
    "Om een database uit te lezen moet er eerst een verbinding met de dataservice worden gemaakt. Anders is de dataservice niet bekend.\n",
    "\n",
    "Een dataservice wordt initieel meegegeven, maar kan gewijzigd worden met de `setDataservice` functie:"
   ]
  },
  {
   "cell_type": "code",
   "execution_count": 2,
   "metadata": {},
   "outputs": [
    {
     "name": "stdout",
     "output_type": "stream",
     "text": [
      "Dataservice is recognized. http://test-hkv-domain/dataportal/ will be used as portal\n"
     ]
    }
   ],
   "source": [
    "dp.setDataservice(dataservice='http://test-hkv-domain/dataportal/')"
   ]
  },
  {
   "cell_type": "markdown",
   "metadata": {},
   "source": [
    "Om te starten maak je een database aan"
   ]
  },
  {
   "cell_type": "code",
   "execution_count": 3,
   "metadata": {},
   "outputs": [
    {
     "data": {
      "text/plain": [
       "{'exception': 'database name already exists'}"
      ]
     },
     "execution_count": 3,
     "metadata": {},
     "output_type": "execute_result"
    }
   ],
   "source": [
    "dp.createDatabase(database='demoDatabase')"
   ]
  },
  {
   "cell_type": "markdown",
   "metadata": {},
   "source": [
    "Met `listDatabase` kan je uitlezen wat er in de database zit. Dit is nu nog niets:"
   ]
  },
  {
   "cell_type": "code",
   "execution_count": 4,
   "metadata": {},
   "outputs": [
    {
     "data": {
      "text/plain": [
       "[{'id': '1dc9f0fb-5edc-4ff1-ac16-499a3e4fce5e',\n",
       "  'key': 'array4digits',\n",
       "  'date': '2019-09-12 11:08:00',\n",
       "  'description': 'array van getallen'}]"
      ]
     },
     "execution_count": 4,
     "metadata": {},
     "output_type": "execute_result"
    }
   ],
   "source": [
    "dp.listDatabase(database='demoDatabase')"
   ]
  },
  {
   "cell_type": "markdown",
   "metadata": {},
   "source": [
    "Een nieuwe entry kan toegevoegd worden met `setEntryDatabase`, deze heeft de volgende parameters nodig:\n",
    "- database = (str) naam van de database in kwestie\n",
    "- key = (str) naam waaronder de entry weer opgevraagd kan worden\n",
    "- data = (str) het dataobject (wanneer de data later in een visualisatie gebruikt wordt moet dit row-oriented JSON zijn ['records'-style in pandas]).\n",
    "- description = (str) beschrijving van de entry"
   ]
  },
  {
   "cell_type": "code",
   "execution_count": 5,
   "metadata": {},
   "outputs": [
    {
     "name": "stdout",
     "output_type": "stream",
     "text": [
      "available at http://test-hkv-domain/dataportal/data.ashx?database=demoDatabase&key=array4digits&contentType=SET_BY_USER\n"
     ]
    },
    {
     "data": {
      "text/plain": [
       "{'id': '1dc9f0fb-5edc-4ff1-ac16-499a3e4fce5e',\n",
       " 'key': 'array4digits',\n",
       " 'date': '2019-09-12 11:11:12'}"
      ]
     },
     "execution_count": 5,
     "metadata": {},
     "output_type": "execute_result"
    }
   ],
   "source": [
    "dp.setEntryDatabase(\n",
    "    database='demoDatabase',\n",
    "    key='array4digits',\n",
    "    data='[1,2,3,4]',\n",
    "    description='array van getallen'\n",
    ")"
   ]
  },
  {
   "cell_type": "markdown",
   "metadata": {},
   "source": [
    "Deze data kan weer uitgelezen worden met `getEntryDatabase`. Hiervoor zijn alleen de `database` en `key` van belang. De functie toont ook de URL waarmee de data direct vanuit de browser of andere omgevingen en scripts uitgelezen kan worden."
   ]
  },
  {
   "cell_type": "code",
   "execution_count": 8,
   "metadata": {},
   "outputs": [
    {
     "name": "stdout",
     "output_type": "stream",
     "text": [
      "http://test-hkv-domain/dataportal/data.ashx?database=demoDatabase&key=array4digits&contentType=application/json\n"
     ]
    },
    {
     "data": {
      "text/plain": [
       "[5, 6, 7, 8]"
      ]
     },
     "execution_count": 8,
     "metadata": {},
     "output_type": "execute_result"
    }
   ],
   "source": [
    "dp.getEntryDatabase(\n",
    "    database='demoDatabase',\n",
    "    key='array4digits'\n",
    ")"
   ]
  },
  {
   "cell_type": "markdown",
   "metadata": {},
   "source": [
    "Met `updateEntryDatabase` kan een bestaande entry bijgewerkt worden. De entry wordt in z'n geheel vernieuwd. Er is geen append of prepend functionaliteit"
   ]
  },
  {
   "cell_type": "code",
   "execution_count": 7,
   "metadata": {},
   "outputs": [
    {
     "data": {
      "text/plain": [
       "{'database': 'demoDatabase', 'version': '0.2.0.0', 'recordsaffected': '1'}"
      ]
     },
     "execution_count": 7,
     "metadata": {},
     "output_type": "execute_result"
    }
   ],
   "source": [
    "dp.updateEntryDatabase(\n",
    "    database='demoDatabase',\n",
    "    key='array4digits',\n",
    "    data='[5,6,7,8]',\n",
    "    description='array van nieuwe getallen'\n",
    ")"
   ]
  },
  {
   "cell_type": "markdown",
   "metadata": {},
   "source": [
    "Met de listDatabase functie is zichtbaar dat er een enkel entry in de database zit."
   ]
  },
  {
   "cell_type": "code",
   "execution_count": 9,
   "metadata": {},
   "outputs": [
    {
     "data": {
      "text/plain": [
       "[{'id': '1dc9f0fb-5edc-4ff1-ac16-499a3e4fce5e',\n",
       "  'key': 'array4digits',\n",
       "  'date': '2019-09-12 11:11:42',\n",
       "  'description': 'array van nieuwe getallen'}]"
      ]
     },
     "execution_count": 9,
     "metadata": {},
     "output_type": "execute_result"
    }
   ],
   "source": [
    "dp.listDatabase(database='demoDatabase')"
   ]
  },
  {
   "cell_type": "markdown",
   "metadata": {},
   "source": [
    "Om een entry uit de database te verwijderen kan de `deleteEntryDatabase` functie gebruikt worden"
   ]
  },
  {
   "cell_type": "code",
   "execution_count": 13,
   "metadata": {},
   "outputs": [
    {
     "data": {
      "text/plain": [
       "{'database': 'demoDatabase', 'version': '0.2.0.0', 'recordsaffected': '0'}"
      ]
     },
     "execution_count": 13,
     "metadata": {},
     "output_type": "execute_result"
    }
   ],
   "source": [
    "dp.deleteEntryDatabase(database='demoDatabase', key='array4digits')"
   ]
  },
  {
   "cell_type": "markdown",
   "metadata": {},
   "source": [
    "Double check om te kijken of de entry echt weg is"
   ]
  },
  {
   "cell_type": "code",
   "execution_count": 11,
   "metadata": {},
   "outputs": [
    {
     "data": {
      "text/plain": [
       "[]"
      ]
     },
     "execution_count": 11,
     "metadata": {},
     "output_type": "execute_result"
    }
   ],
   "source": [
    "dp.listDatabase(database='demoDatabase')"
   ]
  }
 ],
 "metadata": {
  "kernelspec": {
   "display_name": "Python 3",
   "language": "python",
   "name": "python3"
  },
  "language_info": {
   "codemirror_mode": {
    "name": "ipython",
    "version": 3
   },
   "file_extension": ".py",
   "mimetype": "text/x-python",
   "name": "python",
   "nbconvert_exporter": "python",
   "pygments_lexer": "ipython3",
   "version": "3.6.5"
  }
 },
 "nbformat": 4,
 "nbformat_minor": 4
}
