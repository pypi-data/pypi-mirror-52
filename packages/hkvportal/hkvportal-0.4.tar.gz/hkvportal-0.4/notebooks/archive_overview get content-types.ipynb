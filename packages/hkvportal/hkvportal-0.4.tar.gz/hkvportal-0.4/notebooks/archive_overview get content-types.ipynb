{
 "cells": [
  {
   "cell_type": "code",
   "execution_count": 1,
   "metadata": {},
   "outputs": [],
   "source": [
    "import hkvportal"
   ]
  },
  {
   "cell_type": "code",
   "execution_count": 2,
   "metadata": {},
   "outputs": [
    {
     "name": "stdout",
     "output_type": "stream",
     "text": [
      "Dataservice is recognized. https://test-hkv-domain/dataportal/ will be used as portal\n"
     ]
    }
   ],
   "source": [
    "dp = hkvportal.Service('https://test-hkv-domain/dataportal/')"
   ]
  },
  {
   "cell_type": "markdown",
   "metadata": {},
   "source": [
    "## **Get HTML from dataportal**"
   ]
  },
  {
   "cell_type": "code",
   "execution_count": 3,
   "metadata": {},
   "outputs": [
    {
     "name": "stdout",
     "output_type": "stream",
     "text": [
      "https://test-hkv-domain/dataportal/data.ashx?database=waterman&key=altair_html&contentType=text/html\n"
     ]
    },
    {
     "data": {
      "text/html": [
       "\n",
       "        <iframe\n",
       "            width=\"100%\"\n",
       "            height=\"350\"\n",
       "            src=\"https://test-hkv-domain/dataportal/data.ashx?database=waterman&key=altair_html&contentType=text/html\"\n",
       "            frameborder=\"0\"\n",
       "            allowfullscreen\n",
       "        ></iframe>\n",
       "        "
      ],
      "text/plain": [
       "<IPython.lib.display.IFrame at 0x907bfd0>"
      ]
     },
     "execution_count": 3,
     "metadata": {},
     "output_type": "execute_result"
    }
   ],
   "source": [
    "as_iframe = dp.getEntryDatabase(\n",
    "    database='waterman',\n",
    "    key='altair_html',\n",
    "    content_type='text/html'\n",
    ")\n",
    "\n",
    "as_iframe"
   ]
  },
  {
   "cell_type": "code",
   "execution_count": 4,
   "metadata": {},
   "outputs": [
    {
     "name": "stdout",
     "output_type": "stream",
     "text": [
      "https://test-hkv-domain/dataportal/data.ashx?database=waterman&key=altair_html&contentType=text/plain\n"
     ]
    },
    {
     "data": {
      "text/plain": [
       "'<!DOCTYPE html>\\n<html>\\n<head>\\n  <style>\\n    .vega-actions a {\\n        margin-right: 12px;\\n        co'"
      ]
     },
     "execution_count": 4,
     "metadata": {},
     "output_type": "execute_result"
    }
   ],
   "source": [
    "as_string = dp.getEntryDatabase(\n",
    "    database='waterman',\n",
    "    key='altair_html',\n",
    "    content_type='text/plain'\n",
    ")\n",
    "\n",
    "as_string[0:100]"
   ]
  },
  {
   "cell_type": "markdown",
   "metadata": {},
   "source": [
    "## **Get JSON from dataportal**"
   ]
  },
  {
   "cell_type": "code",
   "execution_count": 5,
   "metadata": {},
   "outputs": [
    {
     "name": "stdout",
     "output_type": "stream",
     "text": [
      "https://test-hkv-domain/dataportal/data.ashx?database=waterman&key=pandas_json&contentType=application/json\n"
     ]
    },
    {
     "data": {
      "text/html": [
       "<div>\n",
       "<style scoped>\n",
       "    .dataframe tbody tr th:only-of-type {\n",
       "        vertical-align: middle;\n",
       "    }\n",
       "\n",
       "    .dataframe tbody tr th {\n",
       "        vertical-align: top;\n",
       "    }\n",
       "\n",
       "    .dataframe thead th {\n",
       "        text-align: right;\n",
       "    }\n",
       "</style>\n",
       "<table border=\"1\" class=\"dataframe\">\n",
       "  <thead>\n",
       "    <tr style=\"text-align: right;\">\n",
       "      <th></th>\n",
       "      <th>col1</th>\n",
       "      <th>col2</th>\n",
       "    </tr>\n",
       "  </thead>\n",
       "  <tbody>\n",
       "    <tr>\n",
       "      <th>0</th>\n",
       "      <td>1</td>\n",
       "      <td>3</td>\n",
       "    </tr>\n",
       "    <tr>\n",
       "      <th>1</th>\n",
       "      <td>2</td>\n",
       "      <td>4</td>\n",
       "    </tr>\n",
       "  </tbody>\n",
       "</table>\n",
       "</div>"
      ],
      "text/plain": [
       "   col1  col2\n",
       "0     1     3\n",
       "1     2     4"
      ]
     },
     "execution_count": 5,
     "metadata": {},
     "output_type": "execute_result"
    }
   ],
   "source": [
    "as_json_df = dp.getEntryDatabase(\n",
    "    database='waterman',\n",
    "    key='pandas_json',\n",
    "    content_type='application/json'\n",
    ")\n",
    "\n",
    "as_json_df"
   ]
  },
  {
   "cell_type": "code",
   "execution_count": 6,
   "metadata": {},
   "outputs": [
    {
     "name": "stdout",
     "output_type": "stream",
     "text": [
      "https://test-hkv-domain/dataportal/data.ashx?database=waterman&key=pandas_json&contentType=text/plain\n"
     ]
    },
    {
     "data": {
      "text/plain": [
       "'[{\"col1\":1,\"col2\":3},{\"col1\":2,\"col2\":4}]'"
      ]
     },
     "execution_count": 6,
     "metadata": {},
     "output_type": "execute_result"
    }
   ],
   "source": [
    "as_json_str = dp.getEntryDatabase(\n",
    "    database='waterman',\n",
    "    key='pandas_json',\n",
    "    content_type='text/plain'\n",
    ")\n",
    "\n",
    "as_json_str"
   ]
  },
  {
   "cell_type": "markdown",
   "metadata": {},
   "source": [
    "## **Get CSV from dataportal**"
   ]
  },
  {
   "cell_type": "code",
   "execution_count": 7,
   "metadata": {},
   "outputs": [
    {
     "name": "stdout",
     "output_type": "stream",
     "text": [
      "https://test-hkv-domain/dataportal/data.ashx?database=waterman&key=pandas_csv&contentType=text/csv\n"
     ]
    },
    {
     "data": {
      "text/html": [
       "<div>\n",
       "<style scoped>\n",
       "    .dataframe tbody tr th:only-of-type {\n",
       "        vertical-align: middle;\n",
       "    }\n",
       "\n",
       "    .dataframe tbody tr th {\n",
       "        vertical-align: top;\n",
       "    }\n",
       "\n",
       "    .dataframe thead th {\n",
       "        text-align: right;\n",
       "    }\n",
       "</style>\n",
       "<table border=\"1\" class=\"dataframe\">\n",
       "  <thead>\n",
       "    <tr style=\"text-align: right;\">\n",
       "      <th></th>\n",
       "      <th>Unnamed: 0</th>\n",
       "      <th>col1</th>\n",
       "      <th>col2</th>\n",
       "    </tr>\n",
       "  </thead>\n",
       "  <tbody>\n",
       "    <tr>\n",
       "      <th>0</th>\n",
       "      <td>0</td>\n",
       "      <td>1</td>\n",
       "      <td>3</td>\n",
       "    </tr>\n",
       "    <tr>\n",
       "      <th>1</th>\n",
       "      <td>1</td>\n",
       "      <td>2</td>\n",
       "      <td>4</td>\n",
       "    </tr>\n",
       "  </tbody>\n",
       "</table>\n",
       "</div>"
      ],
      "text/plain": [
       "   Unnamed: 0  col1  col2\n",
       "0           0     1     3\n",
       "1           1     2     4"
      ]
     },
     "execution_count": 7,
     "metadata": {},
     "output_type": "execute_result"
    }
   ],
   "source": [
    "as_csv_df = dp.getEntryDatabase(\n",
    "    database='waterman',\n",
    "    key='pandas_csv',\n",
    "    content_type='text/csv'\n",
    ")\n",
    "\n",
    "as_csv_df"
   ]
  },
  {
   "cell_type": "code",
   "execution_count": 8,
   "metadata": {},
   "outputs": [
    {
     "name": "stdout",
     "output_type": "stream",
     "text": [
      "https://test-hkv-domain/dataportal/data.ashx?database=waterman&key=pandas_csv&contentType=text/plain\n"
     ]
    },
    {
     "data": {
      "text/plain": [
       "',col1,col2\\r\\n0,1,3\\r\\n1,2,4\\r\\n'"
      ]
     },
     "execution_count": 8,
     "metadata": {},
     "output_type": "execute_result"
    }
   ],
   "source": [
    "as_csv_str = dp.getEntryDatabase(\n",
    "    database='waterman',\n",
    "    key='pandas_csv',\n",
    "    content_type='text/plain'\n",
    ")\n",
    "\n",
    "as_csv_str"
   ]
  },
  {
   "cell_type": "markdown",
   "metadata": {},
   "source": [
    "## **Get PNG from dataportal**"
   ]
  },
  {
   "cell_type": "code",
   "execution_count": 9,
   "metadata": {},
   "outputs": [
    {
     "name": "stdout",
     "output_type": "stream",
     "text": [
      "https://test-hkv-domain/dataportal/data.ashx?database=waterman&key=pyplot_png&contentType=image/png\n"
     ]
    },
    {
     "data": {
      "image/png": "[encoded data removed]",
      "text/plain": [
       "<PIL.PngImagePlugin.PngImageFile image mode=RGBA size=450x300 at 0x91D29E8>"
      ]
     },
     "metadata": {},
     "output_type": "display_data"
    }
   ],
   "source": [
    "dp.getEntryDatabase(\n",
    "    database='waterman',\n",
    "    key='pyplot_png',\n",
    "    content_type='image/png'\n",
    ")"
   ]
  },
  {
   "cell_type": "code",
   "execution_count": 10,
   "metadata": {},
   "outputs": [
    {
     "name": "stdout",
     "output_type": "stream",
     "text": [
      "https://test-hkv-domain/dataportal/data.ashx?database=waterman&key=pyplot_png&contentType=text/plain\n"
     ]
    },
    {
     "data": {
      "text/plain": [
       "{'encoding': None, 'confidence': 0.0, 'language': None}"
      ]
     },
     "execution_count": 10,
     "metadata": {},
     "output_type": "execute_result"
    }
   ],
   "source": [
    "dp.getEntryDatabase(\n",
    "    database='waterman',\n",
    "    key='pyplot_png',\n",
    "    content_type='text/plain'\n",
    ")"
   ]
  },
  {
   "cell_type": "markdown",
   "metadata": {},
   "source": [
    "## **Get SVG from dataportal**"
   ]
  },
  {
   "cell_type": "code",
   "execution_count": 11,
   "metadata": {},
   "outputs": [
    {
     "name": "stdout",
     "output_type": "stream",
     "text": [
      "https://test-hkv-domain/dataportal/data.ashx?database=waterman&key=altair_svg&contentType=image/svg\n"
     ]
    },
    {
     "data": {
      "image/svg+xml": [
       "<svg class=\"marks\" height=\"342\" version=\"1.1\" viewBox=\"0 0 523 342\" width=\"523\" xmlns=\"http://www.w3.org/2000/svg\" xmlns:xlink=\"http://www.w3.org/1999/xlink\"><g transform=\"translate(41,5)\"><g class=\"mark-group role-frame root\"><g transform=\"translate(0,0)\"><path class=\"background\" d=\"M0.5,0.5h400v300h-400Z\" style=\"fill: none; stroke: #ddd;\"/><g><g class=\"mark-group role-axis\"><g transform=\"translate(0.5,300.5)\"><path class=\"background\" d=\"M0,0h0v0h0Z\" style=\"pointer-events: none; fill: none;\"/><g><g class=\"mark-rule role-axis-grid\" style=\"pointer-events: none;\"><line style=\"fill: none; stroke: #ddd; stroke-width: 1; opacity: 1;\" transform=\"translate(0,-300)\" x2=\"0\" y2=\"300\"/><line style=\"fill: none; stroke: #ddd; stroke-width: 1; opacity: 1;\" transform=\"translate(29,-300)\" x2=\"0\" y2=\"300\"/><line style=\"fill: none; stroke: #ddd; stroke-width: 1; opacity: 1;\" transform=\"translate(57,-300)\" x2=\"0\" y2=\"300\"/><line style=\"fill: none; stroke: #ddd; stroke-width: 1; opacity: 1;\" transform=\"translate(86,-300)\" x2=\"0\" y2=\"300\"/><line style=\"fill: none; stroke: #ddd; stroke-width: 1; opacity: 1;\" transform=\"translate(114,-300)\" x2=\"0\" y2=\"300\"/><line style=\"fill: none; stroke: #ddd; stroke-width: 1; opacity: 1;\" transform=\"translate(143,-300)\" x2=\"0\" y2=\"300\"/><line style=\"fill: none; stroke: #ddd; stroke-width: 1; opacity: 1;\" transform=\"translate(171,-300)\" x2=\"0\" y2=\"300\"/><line style=\"fill: none; stroke: #ddd; stroke-width: 1; opacity: 1;\" transform=\"translate(200,-300)\" x2=\"0\" y2=\"300\"/><line style=\"fill: none; stroke: #ddd; stroke-width: 1; opacity: 1;\" transform=\"translate(229,-300)\" x2=\"0\" y2=\"300\"/><line style=\"fill: none; stroke: #ddd; stroke-width: 1; opacity: 1;\" transform=\"translate(257,-300)\" x2=\"0\" y2=\"300\"/><line style=\"fill: none; stroke: #ddd; stroke-width: 1; opacity: 1;\" transform=\"translate(286,-300)\" x2=\"0\" y2=\"300\"/><line style=\"fill: none; stroke: #ddd; stroke-width: 1; opacity: 1;\" transform=\"translate(314,-300)\" x2=\"0\" y2=\"300\"/><line style=\"fill: none; stroke: #ddd; stroke-width: 1; opacity: 1;\" transform=\"translate(343,-300)\" x2=\"0\" y2=\"300\"/><line style=\"fill: none; stroke: #ddd; stroke-width: 1; opacity: 1;\" transform=\"translate(371,-300)\" x2=\"0\" y2=\"300\"/><line style=\"fill: none; stroke: #ddd; stroke-width: 1; opacity: 1;\" transform=\"translate(400,-300)\" x2=\"0\" y2=\"300\"/></g></g></g></g><g class=\"mark-group role-axis\"><g transform=\"translate(0.5,0.5)\"><path class=\"background\" d=\"M0,0h0v0h0Z\" style=\"pointer-events: none; fill: none;\"/><g><g class=\"mark-rule role-axis-grid\" style=\"pointer-events: none;\"><line style=\"fill: none; stroke: #ddd; stroke-width: 1; opacity: 1;\" transform=\"translate(0,300)\" x2=\"400\" y2=\"0\"/><line style=\"fill: none; stroke: #ddd; stroke-width: 1; opacity: 1;\" transform=\"translate(0,242)\" x2=\"400\" y2=\"0\"/><line style=\"fill: none; stroke: #ddd; stroke-width: 1; opacity: 1;\" transform=\"translate(0,185)\" x2=\"400\" y2=\"0\"/><line style=\"fill: none; stroke: #ddd; stroke-width: 1; opacity: 1;\" transform=\"translate(0,127)\" x2=\"400\" y2=\"0\"/><line style=\"fill: none; stroke: #ddd; stroke-width: 1; opacity: 1;\" transform=\"translate(0,69)\" x2=\"400\" y2=\"0\"/><line style=\"fill: none; stroke: #ddd; stroke-width: 1; opacity: 1;\" transform=\"translate(0,12)\" x2=\"400\" y2=\"0\"/></g></g></g></g><g class=\"mark-symbol role-mark marks\"><path d=\"M2.7386127875258306,0A2.7386127875258306,2.7386127875258306,0,1,1,-2.7386127875258306,0A2.7386127875258306,2.7386127875258306,0,1,1,2.7386127875258306,0\" style=\"fill: none; stroke: #4c78a8; stroke-width: 2; opacity: 0.7;\" transform=\"translate(80,276.9230769230769)\"/><path d=\"M2.7386127875258306,0A2.7386127875258306,2.7386127875258306,0,1,1,-2.7386127875258306,0A2.7386127875258306,2.7386127875258306,0,1,1,2.7386127875258306,0\" style=\"fill: none; stroke: #4c78a8; stroke-width: 2; opacity: 0.7;\" transform=\"translate(80,276.9230769230769)\"/><path d=\"M2.7386127875258306,0A2.7386127875258306,2.7386127875258306,0,1,1,-2.7386127875258306,0A2.7386127875258306,2.7386127875258306,0,1,1,2.7386127875258306,0\" style=\"fill: none; stroke: #4c78a8; stroke-width: 2; opacity: 0.7;\" transform=\"translate(74.28571428571429,276.9230769230769)\"/><path d=\"M2.7386127875258306,0A2.7386127875258306,2.7386127875258306,0,1,1,-2.7386127875258306,0A2.7386127875258306,2.7386127875258306,0,1,1,2.7386127875258306,0\" style=\"fill: none; stroke: #4c78a8; stroke-width: 2; opacity: 0.7;\" transform=\"translate(85.71428571428571,276.9230769230769)\"/><path d=\"M2.7386127875258306,0A2.7386127875258306,2.7386127875258306,0,1,1,-2.7386127875258306,0A2.7386127875258306,2.7386127875258306,0,1,1,2.7386127875258306,0\" style=\"fill: none; stroke: #4c78a8; stroke-width: 2; opacity: 0.7;\" transform=\"translate(80,276.9230769230769)\"/><path d=\"M2.7386127875258306,0A2.7386127875258306,2.7386127875258306,0,1,1,-2.7386127875258306,0A2.7386127875258306,2.7386127875258306,0,1,1,2.7386127875258306,0\" style=\"fill: none; stroke: #4c78a8; stroke-width: 2; opacity: 0.7;\" transform=\"translate(97.14285714285715,253.84615384615384)\"/><path d=\"M2.7386127875258306,0A2.7386127875258306,2.7386127875258306,0,1,1,-2.7386127875258306,0A2.7386127875258306,2.7386127875258306,0,1,1,2.7386127875258306,0\" style=\"fill: none; stroke: #4c78a8; stroke-width: 2; opacity: 0.7;\" transform=\"translate(80,265.38461538461536)\"/><path d=\"M2.7386127875258306,0A2.7386127875258306,2.7386127875258306,0,1,1,-2.7386127875258306,0A2.7386127875258306,2.7386127875258306,0,1,1,2.7386127875258306,0\" style=\"fill: none; stroke: #4c78a8; stroke-width: 2; opacity: 0.7;\" transform=\"translate(85.71428571428571,276.9230769230769)\"/><path d=\"M2.7386127875258306,0A2.7386127875258306,2.7386127875258306,0,1,1,-2.7386127875258306,0A2.7386127875258306,2.7386127875258306,0,1,1,2.7386127875258306,0\" style=\"fill: none; stroke: #4c78a8; stroke-width: 2; opacity: 0.7;\" transform=\"translate(80,276.9230769230769)\"/><path d=\"M2.7386127875258306,0A2.7386127875258306,2.7386127875258306,0,1,1,-2.7386127875258306,0A2.7386127875258306,2.7386127875258306,0,1,1,2.7386127875258306,0\" style=\"fill: none; stroke: #4c78a8; stroke-width: 2; opacity: 0.7;\" transform=\"translate(85.71428571428571,288.46153846153845)\"/><path d=\"M2.7386127875258306,0A2.7386127875258306,2.7386127875258306,0,1,1,-2.7386127875258306,0A2.7386127875258306,2.7386127875258306,0,1,1,2.7386127875258306,0\" style=\"fill: none; stroke: #4c78a8; stroke-width: 2; opacity: 0.7;\" transform=\"translate(85.71428571428571,276.9230769230769)\"/><path d=\"M2.7386127875258306,0A2.7386127875258306,2.7386127875258306,0,1,1,-2.7386127875258306,0A2.7386127875258306,2.7386127875258306,0,1,1,2.7386127875258306,0\" style=\"fill: none; stroke: #4c78a8; stroke-width: 2; opacity: 0.7;\" transform=\"translate(91.42857142857143,276.9230769230769)\"/><path d=\"M2.7386127875258306,0A2.7386127875258306,2.7386127875258306,0,1,1,-2.7386127875258306,0A2.7386127875258306,2.7386127875258306,0,1,1,2.7386127875258306,0\" style=\"fill: none; stroke: #4c78a8; stroke-width: 2; opacity: 0.7;\" transform=\"translate(80,288.46153846153845)\"/><path d=\"M2.7386127875258306,0A2.7386127875258306,2.7386127875258306,0,1,1,-2.7386127875258306,0A2.7386127875258306,2.7386127875258306,0,1,1,2.7386127875258306,0\" style=\"fill: none; stroke: #4c78a8; stroke-width: 2; opacity: 0.7;\" transform=\"translate(62.85714285714287,288.46153846153845)\"/><path d=\"M2.7386127875258306,0A2.7386127875258306,2.7386127875258306,0,1,1,-2.7386127875258306,0A2.7386127875258306,2.7386127875258306,0,1,1,2.7386127875258306,0\" style=\"fill: none; stroke: #4c78a8; stroke-width: 2; opacity: 0.7;\" transform=\"translate(68.57142857142857,276.9230769230769)\"/><path d=\"M2.7386127875258306,0A2.7386127875258306,2.7386127875258306,0,1,1,-2.7386127875258306,0A2.7386127875258306,2.7386127875258306,0,1,1,2.7386127875258306,0\" style=\"fill: none; stroke: #4c78a8; stroke-width: 2; opacity: 0.7;\" transform=\"translate(85.71428571428571,253.84615384615384)\"/><path d=\"M2.7386127875258306,0A2.7386127875258306,2.7386127875258306,0,1,1,-2.7386127875258306,0A2.7386127875258306,2.7386127875258306,0,1,1,2.7386127875258306,0\" style=\"fill: none; stroke: #4c78a8; stroke-width: 2; opacity: 0.7;\" transform=\"translate(74.28571428571429,253.84615384615384)\"/><path d=\"M2.7386127875258306,0A2.7386127875258306,2.7386127875258306,0,1,1,-2.7386127875258306,0A2.7386127875258306,2.7386127875258306,0,1,1,2.7386127875258306,0\" style=\"fill: none; stroke: #4c78a8; stroke-width: 2; opacity: 0.7;\" transform=\"translate(80,265.38461538461536)\"/><path d=\"M2.7386127875258306,0A2.7386127875258306,2.7386127875258306,0,1,1,-2.7386127875258306,0A2.7386127875258306,2.7386127875258306,0,1,1,2.7386127875258306,0\" style=\"fill: none; stroke: #4c78a8; stroke-width: 2; opacity: 0.7;\" transform=\"translate(97.14285714285715,265.38461538461536)\"/><path d=\"M2.7386127875258306,0A2.7386127875258306,2.7386127875258306,0,1,1,-2.7386127875258306,0A2.7386127875258306,2.7386127875258306,0,1,1,2.7386127875258306,0\" style=\"fill: none; stroke: #4c78a8; stroke-width: 2; opacity: 0.7;\" transform=\"translate(85.71428571428571,265.38461538461536)\"/><path d=\"M2.7386127875258306,0A2.7386127875258306,2.7386127875258306,0,1,1,-2.7386127875258306,0A2.7386127875258306,2.7386127875258306,0,1,1,2.7386127875258306,0\" style=\"fill: none; stroke: #4c78a8; stroke-width: 2; opacity: 0.7;\" transform=\"translate(97.14285714285715,276.9230769230769)\"/><path d=\"M2.7386127875258306,0A2.7386127875258306,2.7386127875258306,0,1,1,-2.7386127875258306,0A2.7386127875258306,2.7386127875258306,0,1,1,2.7386127875258306,0\" style=\"fill: none; stroke: #4c78a8; stroke-width: 2; opacity: 0.7;\" transform=\"translate(85.71428571428571,253.84615384615384)\"/><path d=\"M2.7386127875258306,0A2.7386127875258306,2.7386127875258306,0,1,1,-2.7386127875258306,0A2.7386127875258306,2.7386127875258306,0,1,1,2.7386127875258306,0\" style=\"fill: none; stroke: #4c78a8; stroke-width: 2; opacity: 0.7;\" transform=\"translate(57.14285714285714,276.9230769230769)\"/><path d=\"M2.7386127875258306,0A2.7386127875258306,2.7386127875258306,0,1,1,-2.7386127875258306,0A2.7386127875258306,2.7386127875258306,0,1,1,2.7386127875258306,0\" style=\"fill: none; stroke: #4c78a8; stroke-width: 2; opacity: 0.7;\" transform=\"translate(97.14285714285715,242.30769230769232)\"/><path d=\"M2.7386127875258306,0A2.7386127875258306,2.7386127875258306,0,1,1,-2.7386127875258306,0A2.7386127875258306,2.7386127875258306,0,1,1,2.7386127875258306,0\" style=\"fill: none; stroke: #4c78a8; stroke-width: 2; opacity: 0.7;\" transform=\"translate(108.57142857142857,276.9230769230769)\"/><path d=\"M2.7386127875258306,0A2.7386127875258306,2.7386127875258306,0,1,1,-2.7386127875258306,0A2.7386127875258306,2.7386127875258306,0,1,1,2.7386127875258306,0\" style=\"fill: none; stroke: #4c78a8; stroke-width: 2; opacity: 0.7;\" transform=\"translate(91.42857142857143,276.9230769230769)\"/><path d=\"M2.7386127875258306,0A2.7386127875258306,2.7386127875258306,0,1,1,-2.7386127875258306,0A2.7386127875258306,2.7386127875258306,0,1,1,2.7386127875258306,0\" style=\"fill: none; stroke: #4c78a8; stroke-width: 2; opacity: 0.7;\" transform=\"translate(91.42857142857143,253.84615384615384)\"/><path d=\"M2.7386127875258306,0A2.7386127875258306,2.7386127875258306,0,1,1,-2.7386127875258306,0A2.7386127875258306,2.7386127875258306,0,1,1,2.7386127875258306,0\" style=\"fill: none; stroke: #4c78a8; stroke-width: 2; opacity: 0.7;\" transform=\"translate(85.71428571428571,276.9230769230769)\"/><path d=\"M2.7386127875258306,0A2.7386127875258306,2.7386127875258306,0,1,1,-2.7386127875258306,0A2.7386127875258306,2.7386127875258306,0,1,1,2.7386127875258306,0\" style=\"fill: none; stroke: #4c78a8; stroke-width: 2; opacity: 0.7;\" transform=\"translate(80,276.9230769230769)\"/><path d=\"M2.7386127875258306,0A2.7386127875258306,2.7386127875258306,0,1,1,-2.7386127875258306,0A2.7386127875258306,2.7386127875258306,0,1,1,2.7386127875258306,0\" style=\"fill: none; stroke: #4c78a8; stroke-width: 2; opacity: 0.7;\" transform=\"translate(91.42857142857143,276.9230769230769)\"/><path d=\"M2.7386127875258306,0A2.7386127875258306,2.7386127875258306,0,1,1,-2.7386127875258306,0A2.7386127875258306,2.7386127875258306,0,1,1,2.7386127875258306,0\" style=\"fill: none; stroke: #4c78a8; stroke-width: 2; opacity: 0.7;\" transform=\"translate(91.42857142857143,276.9230769230769)\"/><path d=\"M2.7386127875258306,0A2.7386127875258306,2.7386127875258306,0,1,1,-2.7386127875258306,0A2.7386127875258306,2.7386127875258306,0,1,1,2.7386127875258306,0\" style=\"fill: none; stroke: #4c78a8; stroke-width: 2; opacity: 0.7;\" transform=\"translate(85.71428571428571,253.84615384615384)\"/><path d=\"M2.7386127875258306,0A2.7386127875258306,2.7386127875258306,0,1,1,-2.7386127875258306,0A2.7386127875258306,2.7386127875258306,0,1,1,2.7386127875258306,0\" style=\"fill: none; stroke: #4c78a8; stroke-width: 2; opacity: 0.7;\" transform=\"translate(85.71428571428571,288.46153846153845)\"/><path d=\"M2.7386127875258306,0A2.7386127875258306,2.7386127875258306,0,1,1,-2.7386127875258306,0A2.7386127875258306,2.7386127875258306,0,1,1,2.7386127875258306,0\" style=\"fill: none; stroke: #4c78a8; stroke-width: 2; opacity: 0.7;\" transform=\"translate(80,276.9230769230769)\"/><path d=\"M2.7386127875258306,0A2.7386127875258306,2.7386127875258306,0,1,1,-2.7386127875258306,0A2.7386127875258306,2.7386127875258306,0,1,1,2.7386127875258306,0\" style=\"fill: none; stroke: #4c78a8; stroke-width: 2; opacity: 0.7;\" transform=\"translate(85.71428571428571,276.9230769230769)\"/><path d=\"M2.7386127875258306,0A2.7386127875258306,2.7386127875258306,0,1,1,-2.7386127875258306,0A2.7386127875258306,2.7386127875258306,0,1,1,2.7386127875258306,0\" style=\"fill: none; stroke: #4c78a8; stroke-width: 2; opacity: 0.7;\" transform=\"translate(68.57142857142857,276.9230769230769)\"/><path d=\"M2.7386127875258306,0A2.7386127875258306,2.7386127875258306,0,1,1,-2.7386127875258306,0A2.7386127875258306,2.7386127875258306,0,1,1,2.7386127875258306,0\" style=\"fill: none; stroke: #4c78a8; stroke-width: 2; opacity: 0.7;\" transform=\"translate(74.28571428571429,276.9230769230769)\"/><path d=\"M2.7386127875258306,0A2.7386127875258306,2.7386127875258306,0,1,1,-2.7386127875258306,0A2.7386127875258306,2.7386127875258306,0,1,1,2.7386127875258306,0\" style=\"fill: none; stroke: #4c78a8; stroke-width: 2; opacity: 0.7;\" transform=\"translate(80,288.46153846153845)\"/><path d=\"M2.7386127875258306,0A2.7386127875258306,2.7386127875258306,0,1,1,-2.7386127875258306,0A2.7386127875258306,2.7386127875258306,0,1,1,2.7386127875258306,0\" style=\"fill: none; stroke: #4c78a8; stroke-width: 2; opacity: 0.7;\" transform=\"translate(74.28571428571429,276.9230769230769)\"/><path d=\"M2.7386127875258306,0A2.7386127875258306,2.7386127875258306,0,1,1,-2.7386127875258306,0A2.7386127875258306,2.7386127875258306,0,1,1,2.7386127875258306,0\" style=\"fill: none; stroke: #4c78a8; stroke-width: 2; opacity: 0.7;\" transform=\"translate(85.71428571428571,276.9230769230769)\"/><path d=\"M2.7386127875258306,0A2.7386127875258306,2.7386127875258306,0,1,1,-2.7386127875258306,0A2.7386127875258306,2.7386127875258306,0,1,1,2.7386127875258306,0\" style=\"fill: none; stroke: #4c78a8; stroke-width: 2; opacity: 0.7;\" transform=\"translate(74.28571428571429,265.38461538461536)\"/><path d=\"M2.7386127875258306,0A2.7386127875258306,2.7386127875258306,0,1,1,-2.7386127875258306,0A2.7386127875258306,2.7386127875258306,0,1,1,2.7386127875258306,0\" style=\"fill: none; stroke: #4c78a8; stroke-width: 2; opacity: 0.7;\" transform=\"translate(74.28571428571429,265.38461538461536)\"/><path d=\"M2.7386127875258306,0A2.7386127875258306,2.7386127875258306,0,1,1,-2.7386127875258306,0A2.7386127875258306,2.7386127875258306,0,1,1,2.7386127875258306,0\" style=\"fill: none; stroke: #4c78a8; stroke-width: 2; opacity: 0.7;\" transform=\"translate(74.28571428571429,276.9230769230769)\"/><path d=\"M2.7386127875258306,0A2.7386127875258306,2.7386127875258306,0,1,1,-2.7386127875258306,0A2.7386127875258306,2.7386127875258306,0,1,1,2.7386127875258306,0\" style=\"fill: none; stroke: #4c78a8; stroke-width: 2; opacity: 0.7;\" transform=\"translate(91.42857142857143,230.76923076923077)\"/><path d=\"M2.7386127875258306,0A2.7386127875258306,2.7386127875258306,0,1,1,-2.7386127875258306,0A2.7386127875258306,2.7386127875258306,0,1,1,2.7386127875258306,0\" style=\"fill: none; stroke: #4c78a8; stroke-width: 2; opacity: 0.7;\" transform=\"translate(108.57142857142857,253.84615384615384)\"/><path d=\"M2.7386127875258306,0A2.7386127875258306,2.7386127875258306,0,1,1,-2.7386127875258306,0A2.7386127875258306,2.7386127875258306,0,1,1,2.7386127875258306,0\" style=\"fill: none; stroke: #4c78a8; stroke-width: 2; opacity: 0.7;\" transform=\"translate(80,265.38461538461536)\"/><path d=\"M2.7386127875258306,0A2.7386127875258306,2.7386127875258306,0,1,1,-2.7386127875258306,0A2.7386127875258306,2.7386127875258306,0,1,1,2.7386127875258306,0\" style=\"fill: none; stroke: #4c78a8; stroke-width: 2; opacity: 0.7;\" transform=\"translate(91.42857142857143,276.9230769230769)\"/><path d=\"M2.7386127875258306,0A2.7386127875258306,2.7386127875258306,0,1,1,-2.7386127875258306,0A2.7386127875258306,2.7386127875258306,0,1,1,2.7386127875258306,0\" style=\"fill: none; stroke: #4c78a8; stroke-width: 2; opacity: 0.7;\" transform=\"translate(80,276.9230769230769)\"/><path d=\"M2.7386127875258306,0A2.7386127875258306,2.7386127875258306,0,1,1,-2.7386127875258306,0A2.7386127875258306,2.7386127875258306,0,1,1,2.7386127875258306,0\" style=\"fill: none; stroke: #4c78a8; stroke-width: 2; opacity: 0.7;\" transform=\"translate(85.71428571428571,276.9230769230769)\"/><path d=\"M2.7386127875258306,0A2.7386127875258306,2.7386127875258306,0,1,1,-2.7386127875258306,0A2.7386127875258306,2.7386127875258306,0,1,1,2.7386127875258306,0\" style=\"fill: none; stroke: #4c78a8; stroke-width: 2; opacity: 0.7;\" transform=\"translate(80,276.9230769230769)\"/><path d=\"M2.7386127875258306,0A2.7386127875258306,2.7386127875258306,0,1,1,-2.7386127875258306,0A2.7386127875258306,2.7386127875258306,0,1,1,2.7386127875258306,0\" style=\"fill: none; stroke: #f58518; stroke-width: 2; opacity: 0.7;\" transform=\"translate(268.5714285714286,138.46153846153848)\"/><path d=\"M2.7386127875258306,0A2.7386127875258306,2.7386127875258306,0,1,1,-2.7386127875258306,0A2.7386127875258306,2.7386127875258306,0,1,1,2.7386127875258306,0\" style=\"fill: none; stroke: #f58518; stroke-width: 2; opacity: 0.7;\" transform=\"translate(257.14285714285717,126.92307692307693)\"/><path d=\"M2.7386127875258306,0A2.7386127875258306,2.7386127875258306,0,1,1,-2.7386127875258306,0A2.7386127875258306,2.7386127875258306,0,1,1,2.7386127875258306,0\" style=\"fill: none; stroke: #f58518; stroke-width: 2; opacity: 0.7;\" transform=\"translate(280,126.92307692307693)\"/><path d=\"M2.7386127875258306,0A2.7386127875258306,2.7386127875258306,0,1,1,-2.7386127875258306,0A2.7386127875258306,2.7386127875258306,0,1,1,2.7386127875258306,0\" style=\"fill: none; stroke: #f58518; stroke-width: 2; opacity: 0.7;\" transform=\"translate(228.57142857142856,150)\"/><path d=\"M2.7386127875258306,0A2.7386127875258306,2.7386127875258306,0,1,1,-2.7386127875258306,0A2.7386127875258306,2.7386127875258306,0,1,1,2.7386127875258306,0\" style=\"fill: none; stroke: #f58518; stroke-width: 2; opacity: 0.7;\" transform=\"translate(262.85714285714283,126.92307692307693)\"/><path d=\"M2.7386127875258306,0A2.7386127875258306,2.7386127875258306,0,1,1,-2.7386127875258306,0A2.7386127875258306,2.7386127875258306,0,1,1,2.7386127875258306,0\" style=\"fill: none; stroke: #f58518; stroke-width: 2; opacity: 0.7;\" transform=\"translate(257.14285714285717,150)\"/><path d=\"M2.7386127875258306,0A2.7386127875258306,2.7386127875258306,0,1,1,-2.7386127875258306,0A2.7386127875258306,2.7386127875258306,0,1,1,2.7386127875258306,0\" style=\"fill: none; stroke: #f58518; stroke-width: 2; opacity: 0.7;\" transform=\"translate(268.5714285714286,115.38461538461539)\"/><path d=\"M2.7386127875258306,0A2.7386127875258306,2.7386127875258306,0,1,1,-2.7386127875258306,0A2.7386127875258306,2.7386127875258306,0,1,1,2.7386127875258306,0\" style=\"fill: none; stroke: #f58518; stroke-width: 2; opacity: 0.7;\" transform=\"translate(188.57142857142856,184.61538461538464)\"/><path d=\"M2.7386127875258306,0A2.7386127875258306,2.7386127875258306,0,1,1,-2.7386127875258306,0A2.7386127875258306,2.7386127875258306,0,1,1,2.7386127875258306,0\" style=\"fill: none; stroke: #f58518; stroke-width: 2; opacity: 0.7;\" transform=\"translate(262.85714285714283,150)\"/><path d=\"M2.7386127875258306,0A2.7386127875258306,2.7386127875258306,0,1,1,-2.7386127875258306,0A2.7386127875258306,2.7386127875258306,0,1,1,2.7386127875258306,0\" style=\"fill: none; stroke: #f58518; stroke-width: 2; opacity: 0.7;\" transform=\"translate(222.85714285714286,138.46153846153848)\"/><path d=\"M2.7386127875258306,0A2.7386127875258306,2.7386127875258306,0,1,1,-2.7386127875258306,0A2.7386127875258306,2.7386127875258306,0,1,1,2.7386127875258306,0\" style=\"fill: none; stroke: #f58518; stroke-width: 2; opacity: 0.7;\" transform=\"translate(200,184.61538461538464)\"/><path d=\"M2.7386127875258306,0A2.7386127875258306,2.7386127875258306,0,1,1,-2.7386127875258306,0A2.7386127875258306,2.7386127875258306,0,1,1,2.7386127875258306,0\" style=\"fill: none; stroke: #f58518; stroke-width: 2; opacity: 0.7;\" transform=\"translate(240,126.92307692307693)\"/><path d=\"M2.7386127875258306,0A2.7386127875258306,2.7386127875258306,0,1,1,-2.7386127875258306,0A2.7386127875258306,2.7386127875258306,0,1,1,2.7386127875258306,0\" style=\"fill: none; stroke: #f58518; stroke-width: 2; opacity: 0.7;\" transform=\"translate(228.57142857142856,184.61538461538464)\"/><path d=\"M2.7386127875258306,0A2.7386127875258306,2.7386127875258306,0,1,1,-2.7386127875258306,0A2.7386127875258306,2.7386127875258306,0,1,1,2.7386127875258306,0\" style=\"fill: none; stroke: #f58518; stroke-width: 2; opacity: 0.7;\" transform=\"translate(268.5714285714286,138.46153846153848)\"/><path d=\"M2.7386127875258306,0A2.7386127875258306,2.7386127875258306,0,1,1,-2.7386127875258306,0A2.7386127875258306,2.7386127875258306,0,1,1,2.7386127875258306,0\" style=\"fill: none; stroke: #f58518; stroke-width: 2; opacity: 0.7;\" transform=\"translate(205.71428571428575,150)\"/><path d=\"M2.7386127875258306,0A2.7386127875258306,2.7386127875258306,0,1,1,-2.7386127875258306,0A2.7386127875258306,2.7386127875258306,0,1,1,2.7386127875258306,0\" style=\"fill: none; stroke: #f58518; stroke-width: 2; opacity: 0.7;\" transform=\"translate(251.42857142857147,138.46153846153848)\"/><path d=\"M2.7386127875258306,0A2.7386127875258306,2.7386127875258306,0,1,1,-2.7386127875258306,0A2.7386127875258306,2.7386127875258306,0,1,1,2.7386127875258306,0\" style=\"fill: none; stroke: #f58518; stroke-width: 2; opacity: 0.7;\" transform=\"translate(257.14285714285717,126.92307692307693)\"/><path d=\"M2.7386127875258306,0A2.7386127875258306,2.7386127875258306,0,1,1,-2.7386127875258306,0A2.7386127875258306,2.7386127875258306,0,1,1,2.7386127875258306,0\" style=\"fill: none; stroke: #f58518; stroke-width: 2; opacity: 0.7;\" transform=\"translate(234.28571428571425,184.61538461538464)\"/><path d=\"M2.7386127875258306,0A2.7386127875258306,2.7386127875258306,0,1,1,-2.7386127875258306,0A2.7386127875258306,2.7386127875258306,0,1,1,2.7386127875258306,0\" style=\"fill: none; stroke: #f58518; stroke-width: 2; opacity: 0.7;\" transform=\"translate(257.14285714285717,126.92307692307693)\"/><path d=\"M2.7386127875258306,0A2.7386127875258306,2.7386127875258306,0,1,1,-2.7386127875258306,0A2.7386127875258306,2.7386127875258306,0,1,1,2.7386127875258306,0\" style=\"fill: none; stroke: #f58518; stroke-width: 2; opacity: 0.7;\" transform=\"translate(222.85714285714286,173.0769230769231)\"/><path d=\"M2.7386127875258306,0A2.7386127875258306,2.7386127875258306,0,1,1,-2.7386127875258306,0A2.7386127875258306,2.7386127875258306,0,1,1,2.7386127875258306,0\" style=\"fill: none; stroke: #f58518; stroke-width: 2; opacity: 0.7;\" transform=\"translate(274.2857142857143,92.30769230769232)\"/><path d=\"M2.7386127875258306,0A2.7386127875258306,2.7386127875258306,0,1,1,-2.7386127875258306,0A2.7386127875258306,2.7386127875258306,0,1,1,2.7386127875258306,0\" style=\"fill: none; stroke: #f58518; stroke-width: 2; opacity: 0.7;\" transform=\"translate(228.57142857142856,150)\"/><path d=\"M2.7386127875258306,0A2.7386127875258306,2.7386127875258306,0,1,1,-2.7386127875258306,0A2.7386127875258306,2.7386127875258306,0,1,1,2.7386127875258306,0\" style=\"fill: none; stroke: #f58518; stroke-width: 2; opacity: 0.7;\" transform=\"translate(280,126.92307692307693)\"/><path d=\"M2.7386127875258306,0A2.7386127875258306,2.7386127875258306,0,1,1,-2.7386127875258306,0A2.7386127875258306,2.7386127875258306,0,1,1,2.7386127875258306,0\" style=\"fill: none; stroke: #f58518; stroke-width: 2; opacity: 0.7;\" transform=\"translate(268.5714285714286,161.53846153846155)\"/><path d=\"M2.7386127875258306,0A2.7386127875258306,2.7386127875258306,0,1,1,-2.7386127875258306,0A2.7386127875258306,2.7386127875258306,0,1,1,2.7386127875258306,0\" style=\"fill: none; stroke: #f58518; stroke-width: 2; opacity: 0.7;\" transform=\"translate(245.7142857142857,150)\"/><path d=\"M2.7386127875258306,0A2.7386127875258306,2.7386127875258306,0,1,1,-2.7386127875258306,0A2.7386127875258306,2.7386127875258306,0,1,1,2.7386127875258306,0\" style=\"fill: none; stroke: #f58518; stroke-width: 2; opacity: 0.7;\" transform=\"translate(251.42857142857147,138.46153846153848)\"/><path d=\"M2.7386127875258306,0A2.7386127875258306,2.7386127875258306,0,1,1,-2.7386127875258306,0A2.7386127875258306,2.7386127875258306,0,1,1,2.7386127875258306,0\" style=\"fill: none; stroke: #f58518; stroke-width: 2; opacity: 0.7;\" transform=\"translate(274.2857142857143,138.46153846153848)\"/><path d=\"M2.7386127875258306,0A2.7386127875258306,2.7386127875258306,0,1,1,-2.7386127875258306,0A2.7386127875258306,2.7386127875258306,0,1,1,2.7386127875258306,0\" style=\"fill: none; stroke: #f58518; stroke-width: 2; opacity: 0.7;\" transform=\"translate(285.7142857142857,103.84615384615384)\"/><path d=\"M2.7386127875258306,0A2.7386127875258306,2.7386127875258306,0,1,1,-2.7386127875258306,0A2.7386127875258306,2.7386127875258306,0,1,1,2.7386127875258306,0\" style=\"fill: none; stroke: #f58518; stroke-width: 2; opacity: 0.7;\" transform=\"translate(257.14285714285717,126.92307692307693)\"/><path d=\"M2.7386127875258306,0A2.7386127875258306,2.7386127875258306,0,1,1,-2.7386127875258306,0A2.7386127875258306,2.7386127875258306,0,1,1,2.7386127875258306,0\" style=\"fill: none; stroke: #f58518; stroke-width: 2; opacity: 0.7;\" transform=\"translate(200,184.61538461538464)\"/><path d=\"M2.7386127875258306,0A2.7386127875258306,2.7386127875258306,0,1,1,-2.7386127875258306,0A2.7386127875258306,2.7386127875258306,0,1,1,2.7386127875258306,0\" style=\"fill: none; stroke: #f58518; stroke-width: 2; opacity: 0.7;\" transform=\"translate(217.14285714285714,173.0769230769231)\"/><path d=\"M2.7386127875258306,0A2.7386127875258306,2.7386127875258306,0,1,1,-2.7386127875258306,0A2.7386127875258306,2.7386127875258306,0,1,1,2.7386127875258306,0\" style=\"fill: none; stroke: #f58518; stroke-width: 2; opacity: 0.7;\" transform=\"translate(211.42857142857144,184.61538461538464)\"/><path d=\"M2.7386127875258306,0A2.7386127875258306,2.7386127875258306,0,1,1,-2.7386127875258306,0A2.7386127875258306,2.7386127875258306,0,1,1,2.7386127875258306,0\" style=\"fill: none; stroke: #f58518; stroke-width: 2; opacity: 0.7;\" transform=\"translate(222.85714285714286,161.53846153846155)\"/><path d=\"M2.7386127875258306,0A2.7386127875258306,2.7386127875258306,0,1,1,-2.7386127875258306,0A2.7386127875258306,2.7386127875258306,0,1,1,2.7386127875258306,0\" style=\"fill: none; stroke: #f58518; stroke-width: 2; opacity: 0.7;\" transform=\"translate(291.4285714285714,115.38461538461539)\"/><path d=\"M2.7386127875258306,0A2.7386127875258306,2.7386127875258306,0,1,1,-2.7386127875258306,0A2.7386127875258306,2.7386127875258306,0,1,1,2.7386127875258306,0\" style=\"fill: none; stroke: #f58518; stroke-width: 2; opacity: 0.7;\" transform=\"translate(257.14285714285717,126.92307692307693)\"/><path d=\"M2.7386127875258306,0A2.7386127875258306,2.7386127875258306,0,1,1,-2.7386127875258306,0A2.7386127875258306,2.7386127875258306,0,1,1,2.7386127875258306,0\" style=\"fill: none; stroke: #f58518; stroke-width: 2; opacity: 0.7;\" transform=\"translate(257.14285714285717,115.38461538461539)\"/><path d=\"M2.7386127875258306,0A2.7386127875258306,2.7386127875258306,0,1,1,-2.7386127875258306,0A2.7386127875258306,2.7386127875258306,0,1,1,2.7386127875258306,0\" style=\"fill: none; stroke: #f58518; stroke-width: 2; opacity: 0.7;\" transform=\"translate(268.5714285714286,126.92307692307693)\"/><path d=\"M2.7386127875258306,0A2.7386127875258306,2.7386127875258306,0,1,1,-2.7386127875258306,0A2.7386127875258306,2.7386127875258306,0,1,1,2.7386127875258306,0\" style=\"fill: none; stroke: #f58518; stroke-width: 2; opacity: 0.7;\" transform=\"translate(251.42857142857147,150)\"/><path d=\"M2.7386127875258306,0A2.7386127875258306,2.7386127875258306,0,1,1,-2.7386127875258306,0A2.7386127875258306,2.7386127875258306,0,1,1,2.7386127875258306,0\" style=\"fill: none; stroke: #f58518; stroke-width: 2; opacity: 0.7;\" transform=\"translate(234.28571428571425,150)\"/><path d=\"M2.7386127875258306,0A2.7386127875258306,2.7386127875258306,0,1,1,-2.7386127875258306,0A2.7386127875258306,2.7386127875258306,0,1,1,2.7386127875258306,0\" style=\"fill: none; stroke: #f58518; stroke-width: 2; opacity: 0.7;\" transform=\"translate(228.57142857142856,150)\"/><path d=\"M2.7386127875258306,0A2.7386127875258306,2.7386127875258306,0,1,1,-2.7386127875258306,0A2.7386127875258306,2.7386127875258306,0,1,1,2.7386127875258306,0\" style=\"fill: none; stroke: #f58518; stroke-width: 2; opacity: 0.7;\" transform=\"translate(251.42857142857147,161.53846153846155)\"/><path d=\"M2.7386127875258306,0A2.7386127875258306,2.7386127875258306,0,1,1,-2.7386127875258306,0A2.7386127875258306,2.7386127875258306,0,1,1,2.7386127875258306,0\" style=\"fill: none; stroke: #f58518; stroke-width: 2; opacity: 0.7;\" transform=\"translate(262.85714285714283,138.46153846153848)\"/><path d=\"M2.7386127875258306,0A2.7386127875258306,2.7386127875258306,0,1,1,-2.7386127875258306,0A2.7386127875258306,2.7386127875258306,0,1,1,2.7386127875258306,0\" style=\"fill: none; stroke: #f58518; stroke-width: 2; opacity: 0.7;\" transform=\"translate(228.57142857142856,161.53846153846155)\"/><path d=\"M2.7386127875258306,0A2.7386127875258306,2.7386127875258306,0,1,1,-2.7386127875258306,0A2.7386127875258306,2.7386127875258306,0,1,1,2.7386127875258306,0\" style=\"fill: none; stroke: #f58518; stroke-width: 2; opacity: 0.7;\" transform=\"translate(188.57142857142856,184.61538461538464)\"/><path d=\"M2.7386127875258306,0A2.7386127875258306,2.7386127875258306,0,1,1,-2.7386127875258306,0A2.7386127875258306,2.7386127875258306,0,1,1,2.7386127875258306,0\" style=\"fill: none; stroke: #f58518; stroke-width: 2; opacity: 0.7;\" transform=\"translate(240,150)\"/><path d=\"M2.7386127875258306,0A2.7386127875258306,2.7386127875258306,0,1,1,-2.7386127875258306,0A2.7386127875258306,2.7386127875258306,0,1,1,2.7386127875258306,0\" style=\"fill: none; stroke: #f58518; stroke-width: 2; opacity: 0.7;\" transform=\"translate(240,161.53846153846155)\"/><path d=\"M2.7386127875258306,0A2.7386127875258306,2.7386127875258306,0,1,1,-2.7386127875258306,0A2.7386127875258306,2.7386127875258306,0,1,1,2.7386127875258306,0\" style=\"fill: none; stroke: #f58518; stroke-width: 2; opacity: 0.7;\" transform=\"translate(240,150)\"/><path d=\"M2.7386127875258306,0A2.7386127875258306,2.7386127875258306,0,1,1,-2.7386127875258306,0A2.7386127875258306,2.7386127875258306,0,1,1,2.7386127875258306,0\" style=\"fill: none; stroke: #f58518; stroke-width: 2; opacity: 0.7;\" transform=\"translate(245.7142857142857,150)\"/><path d=\"M2.7386127875258306,0A2.7386127875258306,2.7386127875258306,0,1,1,-2.7386127875258306,0A2.7386127875258306,2.7386127875258306,0,1,1,2.7386127875258306,0\" style=\"fill: none; stroke: #f58518; stroke-width: 2; opacity: 0.7;\" transform=\"translate(171.42857142857142,173.0769230769231)\"/><path d=\"M2.7386127875258306,0A2.7386127875258306,2.7386127875258306,0,1,1,-2.7386127875258306,0A2.7386127875258306,2.7386127875258306,0,1,1,2.7386127875258306,0\" style=\"fill: none; stroke: #f58518; stroke-width: 2; opacity: 0.7;\" transform=\"translate(234.28571428571425,150)\"/><path d=\"M2.7386127875258306,0A2.7386127875258306,2.7386127875258306,0,1,1,-2.7386127875258306,0A2.7386127875258306,2.7386127875258306,0,1,1,2.7386127875258306,0\" style=\"fill: none; stroke: #e45756; stroke-width: 2; opacity: 0.7;\" transform=\"translate(342.85714285714283,11.538461538461547)\"/><path d=\"M2.7386127875258306,0A2.7386127875258306,2.7386127875258306,0,1,1,-2.7386127875258306,0A2.7386127875258306,2.7386127875258306,0,1,1,2.7386127875258306,0\" style=\"fill: none; stroke: #e45756; stroke-width: 2; opacity: 0.7;\" transform=\"translate(291.4285714285714,80.76923076923077)\"/><path d=\"M2.7386127875258306,0A2.7386127875258306,2.7386127875258306,0,1,1,-2.7386127875258306,0A2.7386127875258306,2.7386127875258306,0,1,1,2.7386127875258306,0\" style=\"fill: none; stroke: #e45756; stroke-width: 2; opacity: 0.7;\" transform=\"translate(337.14285714285717,57.69230769230768)\"/><path d=\"M2.7386127875258306,0A2.7386127875258306,2.7386127875258306,0,1,1,-2.7386127875258306,0A2.7386127875258306,2.7386127875258306,0,1,1,2.7386127875258306,0\" style=\"fill: none; stroke: #e45756; stroke-width: 2; opacity: 0.7;\" transform=\"translate(320,92.30769230769232)\"/><path d=\"M2.7386127875258306,0A2.7386127875258306,2.7386127875258306,0,1,1,-2.7386127875258306,0A2.7386127875258306,2.7386127875258306,0,1,1,2.7386127875258306,0\" style=\"fill: none; stroke: #e45756; stroke-width: 2; opacity: 0.7;\" transform=\"translate(331.4285714285714,46.15384615384616)\"/><path d=\"M2.7386127875258306,0A2.7386127875258306,2.7386127875258306,0,1,1,-2.7386127875258306,0A2.7386127875258306,2.7386127875258306,0,1,1,2.7386127875258306,0\" style=\"fill: none; stroke: #e45756; stroke-width: 2; opacity: 0.7;\" transform=\"translate(377.1428571428571,57.69230769230768)\"/><path d=\"M2.7386127875258306,0A2.7386127875258306,2.7386127875258306,0,1,1,-2.7386127875258306,0A2.7386127875258306,2.7386127875258306,0,1,1,2.7386127875258306,0\" style=\"fill: none; stroke: #e45756; stroke-width: 2; opacity: 0.7;\" transform=\"translate(257.14285714285717,103.84615384615384)\"/><path d=\"M2.7386127875258306,0A2.7386127875258306,2.7386127875258306,0,1,1,-2.7386127875258306,0A2.7386127875258306,2.7386127875258306,0,1,1,2.7386127875258306,0\" style=\"fill: none; stroke: #e45756; stroke-width: 2; opacity: 0.7;\" transform=\"translate(360,92.30769230769232)\"/><path d=\"M2.7386127875258306,0A2.7386127875258306,2.7386127875258306,0,1,1,-2.7386127875258306,0A2.7386127875258306,2.7386127875258306,0,1,1,2.7386127875258306,0\" style=\"fill: none; stroke: #e45756; stroke-width: 2; opacity: 0.7;\" transform=\"translate(331.4285714285714,92.30769230769232)\"/><path d=\"M2.7386127875258306,0A2.7386127875258306,2.7386127875258306,0,1,1,-2.7386127875258306,0A2.7386127875258306,2.7386127875258306,0,1,1,2.7386127875258306,0\" style=\"fill: none; stroke: #e45756; stroke-width: 2; opacity: 0.7;\" transform=\"translate(348.57142857142856,11.538461538461547)\"/><path d=\"M2.7386127875258306,0A2.7386127875258306,2.7386127875258306,0,1,1,-2.7386127875258306,0A2.7386127875258306,2.7386127875258306,0,1,1,2.7386127875258306,0\" style=\"fill: none; stroke: #e45756; stroke-width: 2; opacity: 0.7;\" transform=\"translate(291.4285714285714,69.23076923076925)\"/><path d=\"M2.7386127875258306,0A2.7386127875258306,2.7386127875258306,0,1,1,-2.7386127875258306,0A2.7386127875258306,2.7386127875258306,0,1,1,2.7386127875258306,0\" style=\"fill: none; stroke: #e45756; stroke-width: 2; opacity: 0.7;\" transform=\"translate(302.85714285714283,80.76923076923077)\"/><path d=\"M2.7386127875258306,0A2.7386127875258306,2.7386127875258306,0,1,1,-2.7386127875258306,0A2.7386127875258306,2.7386127875258306,0,1,1,2.7386127875258306,0\" style=\"fill: none; stroke: #e45756; stroke-width: 2; opacity: 0.7;\" transform=\"translate(314.2857142857143,57.69230769230768)\"/><path d=\"M2.7386127875258306,0A2.7386127875258306,2.7386127875258306,0,1,1,-2.7386127875258306,0A2.7386127875258306,2.7386127875258306,0,1,1,2.7386127875258306,0\" style=\"fill: none; stroke: #e45756; stroke-width: 2; opacity: 0.7;\" transform=\"translate(285.7142857142857,69.23076923076925)\"/><path d=\"M2.7386127875258306,0A2.7386127875258306,2.7386127875258306,0,1,1,-2.7386127875258306,0A2.7386127875258306,2.7386127875258306,0,1,1,2.7386127875258306,0\" style=\"fill: none; stroke: #e45756; stroke-width: 2; opacity: 0.7;\" transform=\"translate(291.4285714285714,23.076923076923094)\"/><path d=\"M2.7386127875258306,0A2.7386127875258306,2.7386127875258306,0,1,1,-2.7386127875258306,0A2.7386127875258306,2.7386127875258306,0,1,1,2.7386127875258306,0\" style=\"fill: none; stroke: #e45756; stroke-width: 2; opacity: 0.7;\" transform=\"translate(302.85714285714283,34.61538461538464)\"/><path d=\"M2.7386127875258306,0A2.7386127875258306,2.7386127875258306,0,1,1,-2.7386127875258306,0A2.7386127875258306,2.7386127875258306,0,1,1,2.7386127875258306,0\" style=\"fill: none; stroke: #e45756; stroke-width: 2; opacity: 0.7;\" transform=\"translate(314.2857142857143,92.30769230769232)\"/><path d=\"M2.7386127875258306,0A2.7386127875258306,2.7386127875258306,0,1,1,-2.7386127875258306,0A2.7386127875258306,2.7386127875258306,0,1,1,2.7386127875258306,0\" style=\"fill: none; stroke: #e45756; stroke-width: 2; opacity: 0.7;\" transform=\"translate(382.8571428571429,46.15384615384616)\"/><path d=\"M2.7386127875258306,0A2.7386127875258306,2.7386127875258306,0,1,1,-2.7386127875258306,0A2.7386127875258306,2.7386127875258306,0,1,1,2.7386127875258306,0\" style=\"fill: none; stroke: #e45756; stroke-width: 2; opacity: 0.7;\" transform=\"translate(394.28571428571433,34.61538461538464)\"/><path d=\"M2.7386127875258306,0A2.7386127875258306,2.7386127875258306,0,1,1,-2.7386127875258306,0A2.7386127875258306,2.7386127875258306,0,1,1,2.7386127875258306,0\" style=\"fill: none; stroke: #e45756; stroke-width: 2; opacity: 0.7;\" transform=\"translate(285.7142857142857,126.92307692307693)\"/><path d=\"M2.7386127875258306,0A2.7386127875258306,2.7386127875258306,0,1,1,-2.7386127875258306,0A2.7386127875258306,2.7386127875258306,0,1,1,2.7386127875258306,0\" style=\"fill: none; stroke: #e45756; stroke-width: 2; opacity: 0.7;\" transform=\"translate(325.7142857142857,34.61538461538464)\"/><path d=\"M2.7386127875258306,0A2.7386127875258306,2.7386127875258306,0,1,1,-2.7386127875258306,0A2.7386127875258306,2.7386127875258306,0,1,1,2.7386127875258306,0\" style=\"fill: none; stroke: #e45756; stroke-width: 2; opacity: 0.7;\" transform=\"translate(280,69.23076923076925)\"/><path d=\"M2.7386127875258306,0A2.7386127875258306,2.7386127875258306,0,1,1,-2.7386127875258306,0A2.7386127875258306,2.7386127875258306,0,1,1,2.7386127875258306,0\" style=\"fill: none; stroke: #e45756; stroke-width: 2; opacity: 0.7;\" transform=\"translate(382.8571428571429,69.23076923076925)\"/><path d=\"M2.7386127875258306,0A2.7386127875258306,2.7386127875258306,0,1,1,-2.7386127875258306,0A2.7386127875258306,2.7386127875258306,0,1,1,2.7386127875258306,0\" style=\"fill: none; stroke: #e45756; stroke-width: 2; opacity: 0.7;\" transform=\"translate(280,92.30769230769232)\"/><path d=\"M2.7386127875258306,0A2.7386127875258306,2.7386127875258306,0,1,1,-2.7386127875258306,0A2.7386127875258306,2.7386127875258306,0,1,1,2.7386127875258306,0\" style=\"fill: none; stroke: #e45756; stroke-width: 2; opacity: 0.7;\" transform=\"translate(325.7142857142857,57.69230769230768)\"/><path d=\"M2.7386127875258306,0A2.7386127875258306,2.7386127875258306,0,1,1,-2.7386127875258306,0A2.7386127875258306,2.7386127875258306,0,1,1,2.7386127875258306,0\" style=\"fill: none; stroke: #e45756; stroke-width: 2; opacity: 0.7;\" transform=\"translate(342.85714285714283,92.30769230769232)\"/><path d=\"M2.7386127875258306,0A2.7386127875258306,2.7386127875258306,0,1,1,-2.7386127875258306,0A2.7386127875258306,2.7386127875258306,0,1,1,2.7386127875258306,0\" style=\"fill: none; stroke: #e45756; stroke-width: 2; opacity: 0.7;\" transform=\"translate(274.2857142857143,92.30769230769232)\"/><path d=\"M2.7386127875258306,0A2.7386127875258306,2.7386127875258306,0,1,1,-2.7386127875258306,0A2.7386127875258306,2.7386127875258306,0,1,1,2.7386127875258306,0\" style=\"fill: none; stroke: #e45756; stroke-width: 2; opacity: 0.7;\" transform=\"translate(280,92.30769230769232)\"/><path d=\"M2.7386127875258306,0A2.7386127875258306,2.7386127875258306,0,1,1,-2.7386127875258306,0A2.7386127875258306,2.7386127875258306,0,1,1,2.7386127875258306,0\" style=\"fill: none; stroke: #e45756; stroke-width: 2; opacity: 0.7;\" transform=\"translate(320,57.69230769230768)\"/><path d=\"M2.7386127875258306,0A2.7386127875258306,2.7386127875258306,0,1,1,-2.7386127875258306,0A2.7386127875258306,2.7386127875258306,0,1,1,2.7386127875258306,0\" style=\"fill: none; stroke: #e45756; stroke-width: 2; opacity: 0.7;\" transform=\"translate(331.4285714285714,115.38461538461539)\"/><path d=\"M2.7386127875258306,0A2.7386127875258306,2.7386127875258306,0,1,1,-2.7386127875258306,0A2.7386127875258306,2.7386127875258306,0,1,1,2.7386127875258306,0\" style=\"fill: none; stroke: #e45756; stroke-width: 2; opacity: 0.7;\" transform=\"translate(348.57142857142856,80.76923076923077)\"/><path d=\"M2.7386127875258306,0A2.7386127875258306,2.7386127875258306,0,1,1,-2.7386127875258306,0A2.7386127875258306,2.7386127875258306,0,1,1,2.7386127875258306,0\" style=\"fill: none; stroke: #e45756; stroke-width: 2; opacity: 0.7;\" transform=\"translate(365.7142857142857,69.23076923076925)\"/><path d=\"M2.7386127875258306,0A2.7386127875258306,2.7386127875258306,0,1,1,-2.7386127875258306,0A2.7386127875258306,2.7386127875258306,0,1,1,2.7386127875258306,0\" style=\"fill: none; stroke: #e45756; stroke-width: 2; opacity: 0.7;\" transform=\"translate(320,46.15384615384616)\"/><path d=\"M2.7386127875258306,0A2.7386127875258306,2.7386127875258306,0,1,1,-2.7386127875258306,0A2.7386127875258306,2.7386127875258306,0,1,1,2.7386127875258306,0\" style=\"fill: none; stroke: #e45756; stroke-width: 2; opacity: 0.7;\" transform=\"translate(291.4285714285714,126.92307692307693)\"/><path d=\"M2.7386127875258306,0A2.7386127875258306,2.7386127875258306,0,1,1,-2.7386127875258306,0A2.7386127875258306,2.7386127875258306,0,1,1,2.7386127875258306,0\" style=\"fill: none; stroke: #e45756; stroke-width: 2; opacity: 0.7;\" transform=\"translate(320,138.46153846153848)\"/><path d=\"M2.7386127875258306,0A2.7386127875258306,2.7386127875258306,0,1,1,-2.7386127875258306,0A2.7386127875258306,2.7386127875258306,0,1,1,2.7386127875258306,0\" style=\"fill: none; stroke: #e45756; stroke-width: 2; opacity: 0.7;\" transform=\"translate(348.57142857142856,34.61538461538464)\"/><path d=\"M2.7386127875258306,0A2.7386127875258306,2.7386127875258306,0,1,1,-2.7386127875258306,0A2.7386127875258306,2.7386127875258306,0,1,1,2.7386127875258306,0\" style=\"fill: none; stroke: #e45756; stroke-width: 2; opacity: 0.7;\" transform=\"translate(320,23.076923076923094)\"/><path d=\"M2.7386127875258306,0A2.7386127875258306,2.7386127875258306,0,1,1,-2.7386127875258306,0A2.7386127875258306,2.7386127875258306,0,1,1,2.7386127875258306,0\" style=\"fill: none; stroke: #e45756; stroke-width: 2; opacity: 0.7;\" transform=\"translate(314.2857142857143,92.30769230769232)\"/><path d=\"M2.7386127875258306,0A2.7386127875258306,2.7386127875258306,0,1,1,-2.7386127875258306,0A2.7386127875258306,2.7386127875258306,0,1,1,2.7386127875258306,0\" style=\"fill: none; stroke: #e45756; stroke-width: 2; opacity: 0.7;\" transform=\"translate(274.2857142857143,92.30769230769232)\"/><path d=\"M2.7386127875258306,0A2.7386127875258306,2.7386127875258306,0,1,1,-2.7386127875258306,0A2.7386127875258306,2.7386127875258306,0,1,1,2.7386127875258306,0\" style=\"fill: none; stroke: #e45756; stroke-width: 2; opacity: 0.7;\" transform=\"translate(308.5714285714286,57.69230769230768)\"/><path d=\"M2.7386127875258306,0A2.7386127875258306,2.7386127875258306,0,1,1,-2.7386127875258306,0A2.7386127875258306,2.7386127875258306,0,1,1,2.7386127875258306,0\" style=\"fill: none; stroke: #e45756; stroke-width: 2; opacity: 0.7;\" transform=\"translate(320,23.076923076923094)\"/><path d=\"M2.7386127875258306,0A2.7386127875258306,2.7386127875258306,0,1,1,-2.7386127875258306,0A2.7386127875258306,2.7386127875258306,0,1,1,2.7386127875258306,0\" style=\"fill: none; stroke: #e45756; stroke-width: 2; opacity: 0.7;\" transform=\"translate(291.4285714285714,34.61538461538464)\"/><path d=\"M2.7386127875258306,0A2.7386127875258306,2.7386127875258306,0,1,1,-2.7386127875258306,0A2.7386127875258306,2.7386127875258306,0,1,1,2.7386127875258306,0\" style=\"fill: none; stroke: #e45756; stroke-width: 2; opacity: 0.7;\" transform=\"translate(291.4285714285714,80.76923076923077)\"/><path d=\"M2.7386127875258306,0A2.7386127875258306,2.7386127875258306,0,1,1,-2.7386127875258306,0A2.7386127875258306,2.7386127875258306,0,1,1,2.7386127875258306,0\" style=\"fill: none; stroke: #e45756; stroke-width: 2; opacity: 0.7;\" transform=\"translate(337.14285714285717,34.61538461538464)\"/><path d=\"M2.7386127875258306,0A2.7386127875258306,2.7386127875258306,0,1,1,-2.7386127875258306,0A2.7386127875258306,2.7386127875258306,0,1,1,2.7386127875258306,0\" style=\"fill: none; stroke: #e45756; stroke-width: 2; opacity: 0.7;\" transform=\"translate(325.7142857142857,11.538461538461547)\"/><path d=\"M2.7386127875258306,0A2.7386127875258306,2.7386127875258306,0,1,1,-2.7386127875258306,0A2.7386127875258306,2.7386127875258306,0,1,1,2.7386127875258306,0\" style=\"fill: none; stroke: #e45756; stroke-width: 2; opacity: 0.7;\" transform=\"translate(297.14285714285717,34.61538461538464)\"/><path d=\"M2.7386127875258306,0A2.7386127875258306,2.7386127875258306,0,1,1,-2.7386127875258306,0A2.7386127875258306,2.7386127875258306,0,1,1,2.7386127875258306,0\" style=\"fill: none; stroke: #e45756; stroke-width: 2; opacity: 0.7;\" transform=\"translate(285.7142857142857,80.76923076923077)\"/><path d=\"M2.7386127875258306,0A2.7386127875258306,2.7386127875258306,0,1,1,-2.7386127875258306,0A2.7386127875258306,2.7386127875258306,0,1,1,2.7386127875258306,0\" style=\"fill: none; stroke: #e45756; stroke-width: 2; opacity: 0.7;\" transform=\"translate(297.14285714285717,69.23076923076925)\"/><path d=\"M2.7386127875258306,0A2.7386127875258306,2.7386127875258306,0,1,1,-2.7386127875258306,0A2.7386127875258306,2.7386127875258306,0,1,1,2.7386127875258306,0\" style=\"fill: none; stroke: #e45756; stroke-width: 2; opacity: 0.7;\" transform=\"translate(308.5714285714286,34.61538461538464)\"/><path d=\"M2.7386127875258306,0A2.7386127875258306,2.7386127875258306,0,1,1,-2.7386127875258306,0A2.7386127875258306,2.7386127875258306,0,1,1,2.7386127875258306,0\" style=\"fill: none; stroke: #e45756; stroke-width: 2; opacity: 0.7;\" transform=\"translate(291.4285714285714,92.30769230769232)\"/></g><g class=\"mark-group role-legend\"><g transform=\"translate(418,0)\"><path class=\"background\" d=\"M0,0h59v61h-59Z\" style=\"pointer-events: none; fill: none;\"/><g><g class=\"mark-group role-legend-entry\"><g transform=\"translate(0,16)\"><path class=\"background\" d=\"M0,0h0v0h0Z\" style=\"pointer-events: none; fill: none;\"/><g><g class=\"mark-group role-scope\"><g transform=\"translate(0,0)\"><path class=\"background\" d=\"M0,0h58.7880859375v12.5h-58.7880859375Z\" style=\"pointer-events: none; fill: none; opacity: 1;\"/><g><g class=\"mark-symbol role-legend-symbol\" style=\"pointer-events: none;\"><path d=\"M5,0A5,5,0,1,1,-5,0A5,5,0,1,1,5,0\" style=\"fill: none; stroke: #4c78a8; stroke-width: 1.5; opacity: 0.7;\" transform=\"translate(6,6)\"/></g><g class=\"mark-text role-legend-label\" style=\"pointer-events: none;\"><text style=\"font-family: sans-serif; font-size: 10px; fill: #000; opacity: 1;\" text-anchor=\"start\" transform=\"translate(16,9)\">setosa</text></g></g></g><g transform=\"translate(0,16)\"><path class=\"background\" d=\"M0,0h58.7880859375v12.5h-58.7880859375Z\" style=\"pointer-events: none; fill: none; opacity: 1;\"/><g><g class=\"mark-symbol role-legend-symbol\" style=\"pointer-events: none;\"><path d=\"M5,0A5,5,0,1,1,-5,0A5,5,0,1,1,5,0\" style=\"fill: none; stroke: #f58518; stroke-width: 1.5; opacity: 0.7;\" transform=\"translate(6,6)\"/></g><g class=\"mark-text role-legend-label\" style=\"pointer-events: none;\"><text style=\"font-family: sans-serif; font-size: 10px; fill: #000; opacity: 1;\" text-anchor=\"start\" transform=\"translate(16,9)\">versicolor</text></g></g></g><g transform=\"translate(0,32)\"><path class=\"background\" d=\"M0,0h58.7880859375v12.5h-58.7880859375Z\" style=\"pointer-events: none; fill: none; opacity: 1;\"/><g><g class=\"mark-symbol role-legend-symbol\" style=\"pointer-events: none;\"><path d=\"M5,0A5,5,0,1,1,-5,0A5,5,0,1,1,5,0\" style=\"fill: none; stroke: #e45756; stroke-width: 1.5; opacity: 0.7;\" transform=\"translate(6,6)\"/></g><g class=\"mark-text role-legend-label\" style=\"pointer-events: none;\"><text style=\"font-family: sans-serif; font-size: 10px; fill: #000; opacity: 1;\" text-anchor=\"start\" transform=\"translate(16,9)\">virginica</text></g></g></g></g></g></g></g><g class=\"mark-text role-legend-title\" style=\"pointer-events: none;\"><text style=\"font-family: sans-serif; font-size: 11px; font-weight: bold; fill: #000; opacity: 1;\" text-anchor=\"start\" transform=\"translate(0,9)\">species</text></g></g></g></g><g class=\"mark-group role-axis\"><g transform=\"translate(0.5,300.5)\"><path class=\"background\" d=\"M0,0h0v0h0Z\" style=\"pointer-events: none; fill: none;\"/><g><g class=\"mark-rule role-axis-tick\" style=\"pointer-events: none;\"><line style=\"fill: none; stroke: #888; stroke-width: 1; opacity: 1;\" transform=\"translate(0,0)\" x2=\"0\" y2=\"5\"/><line style=\"fill: none; stroke: #888; stroke-width: 1; opacity: 1;\" transform=\"translate(29,0)\" x2=\"0\" y2=\"5\"/><line style=\"fill: none; stroke: #888; stroke-width: 1; opacity: 1;\" transform=\"translate(57,0)\" x2=\"0\" y2=\"5\"/><line style=\"fill: none; stroke: #888; stroke-width: 1; opacity: 1;\" transform=\"translate(86,0)\" x2=\"0\" y2=\"5\"/><line style=\"fill: none; stroke: #888; stroke-width: 1; opacity: 1;\" transform=\"translate(114,0)\" x2=\"0\" y2=\"5\"/><line style=\"fill: none; stroke: #888; stroke-width: 1; opacity: 1;\" transform=\"translate(143,0)\" x2=\"0\" y2=\"5\"/><line style=\"fill: none; stroke: #888; stroke-width: 1; opacity: 1;\" transform=\"translate(171,0)\" x2=\"0\" y2=\"5\"/><line style=\"fill: none; stroke: #888; stroke-width: 1; opacity: 1;\" transform=\"translate(200,0)\" x2=\"0\" y2=\"5\"/><line style=\"fill: none; stroke: #888; stroke-width: 1; opacity: 1;\" transform=\"translate(229,0)\" x2=\"0\" y2=\"5\"/><line style=\"fill: none; stroke: #888; stroke-width: 1; opacity: 1;\" transform=\"translate(257,0)\" x2=\"0\" y2=\"5\"/><line style=\"fill: none; stroke: #888; stroke-width: 1; opacity: 1;\" transform=\"translate(286,0)\" x2=\"0\" y2=\"5\"/><line style=\"fill: none; stroke: #888; stroke-width: 1; opacity: 1;\" transform=\"translate(314,0)\" x2=\"0\" y2=\"5\"/><line style=\"fill: none; stroke: #888; stroke-width: 1; opacity: 1;\" transform=\"translate(343,0)\" x2=\"0\" y2=\"5\"/><line style=\"fill: none; stroke: #888; stroke-width: 1; opacity: 1;\" transform=\"translate(371,0)\" x2=\"0\" y2=\"5\"/><line style=\"fill: none; stroke: #888; stroke-width: 1; opacity: 1;\" transform=\"translate(400,0)\" x2=\"0\" y2=\"5\"/></g><g class=\"mark-text role-axis-label\" style=\"pointer-events: none;\"><text style=\"font-family: sans-serif; font-size: 10px; fill: #000; opacity: 1;\" text-anchor=\"start\" transform=\"translate(0,15)\">0.0</text><text style=\"font-family: sans-serif; font-size: 10px; fill: #000; opacity: 1;\" text-anchor=\"middle\" transform=\"translate(28.57142857142857,15)\">0.5</text><text style=\"font-family: sans-serif; font-size: 10px; fill: #000; opacity: 1;\" text-anchor=\"middle\" transform=\"translate(57.14285714285714,15)\">1.0</text><text style=\"font-family: sans-serif; font-size: 10px; fill: #000; opacity: 1;\" text-anchor=\"middle\" transform=\"translate(85.71428571428571,15)\">1.5</text><text style=\"font-family: sans-serif; font-size: 10px; fill: #000; opacity: 1;\" text-anchor=\"middle\" transform=\"translate(114.28571428571428,15)\">2.0</text><text style=\"font-family: sans-serif; font-size: 10px; fill: #000; opacity: 1;\" text-anchor=\"middle\" transform=\"translate(142.85714285714286,15)\">2.5</text><text style=\"font-family: sans-serif; font-size: 10px; fill: #000; opacity: 1;\" text-anchor=\"middle\" transform=\"translate(171.42857142857142,15)\">3.0</text><text style=\"font-family: sans-serif; font-size: 10px; fill: #000; opacity: 1;\" text-anchor=\"middle\" transform=\"translate(200,15)\">3.5</text><text style=\"font-family: sans-serif; font-size: 10px; fill: #000; opacity: 1;\" text-anchor=\"middle\" transform=\"translate(228.57142857142856,15)\">4.0</text><text style=\"font-family: sans-serif; font-size: 10px; fill: #000; opacity: 1;\" text-anchor=\"middle\" transform=\"translate(257.14285714285717,15)\">4.5</text><text style=\"font-family: sans-serif; font-size: 10px; fill: #000; opacity: 1;\" text-anchor=\"middle\" transform=\"translate(285.7142857142857,15)\">5.0</text><text style=\"font-family: sans-serif; font-size: 10px; fill: #000; opacity: 1;\" text-anchor=\"middle\" transform=\"translate(314.2857142857143,15)\">5.5</text><text style=\"font-family: sans-serif; font-size: 10px; fill: #000; opacity: 1;\" text-anchor=\"middle\" transform=\"translate(342.85714285714283,15)\">6.0</text><text style=\"font-family: sans-serif; font-size: 10px; fill: #000; opacity: 1;\" text-anchor=\"middle\" transform=\"translate(371.42857142857144,15)\">6.5</text><text style=\"font-family: sans-serif; font-size: 10px; fill: #000; opacity: 1;\" text-anchor=\"end\" transform=\"translate(400,15)\">7.0</text></g><g class=\"mark-rule role-axis-domain\" style=\"pointer-events: none;\"><line style=\"fill: none; stroke: #888; stroke-width: 1; opacity: 1;\" transform=\"translate(0,0)\" x2=\"400\" y2=\"0\"/></g><g class=\"mark-text role-axis-title\" style=\"pointer-events: none;\"><text style=\"font-family: sans-serif; font-size: 11px; font-weight: bold; fill: #000; opacity: 1;\" text-anchor=\"middle\" transform=\"translate(200,30)\">petalLength</text></g></g></g></g><g class=\"mark-group role-axis\"><g transform=\"translate(0.5,0.5)\"><path class=\"background\" d=\"M0,0h0v0h0Z\" style=\"pointer-events: none; fill: none;\"/><g><g class=\"mark-rule role-axis-tick\" style=\"pointer-events: none;\"><line style=\"fill: none; stroke: #888; stroke-width: 1; opacity: 1;\" transform=\"translate(0,300)\" x2=\"-5\" y2=\"0\"/><line style=\"fill: none; stroke: #888; stroke-width: 1; opacity: 1;\" transform=\"translate(0,242)\" x2=\"-5\" y2=\"0\"/><line style=\"fill: none; stroke: #888; stroke-width: 1; opacity: 1;\" transform=\"translate(0,185)\" x2=\"-5\" y2=\"0\"/><line style=\"fill: none; stroke: #888; stroke-width: 1; opacity: 1;\" transform=\"translate(0,127)\" x2=\"-5\" y2=\"0\"/><line style=\"fill: none; stroke: #888; stroke-width: 1; opacity: 1;\" transform=\"translate(0,69)\" x2=\"-5\" y2=\"0\"/><line style=\"fill: none; stroke: #888; stroke-width: 1; opacity: 1;\" transform=\"translate(0,12)\" x2=\"-5\" y2=\"0\"/></g><g class=\"mark-text role-axis-label\" style=\"pointer-events: none;\"><text style=\"font-family: sans-serif; font-size: 10px; fill: #000; opacity: 1;\" text-anchor=\"end\" transform=\"translate(-7,303)\">0.0</text><text style=\"font-family: sans-serif; font-size: 10px; fill: #000; opacity: 1;\" text-anchor=\"end\" transform=\"translate(-7,245.30769230769232)\">0.5</text><text style=\"font-family: sans-serif; font-size: 10px; fill: #000; opacity: 1;\" text-anchor=\"end\" transform=\"translate(-7,187.61538461538464)\">1.0</text><text style=\"font-family: sans-serif; font-size: 10px; fill: #000; opacity: 1;\" text-anchor=\"end\" transform=\"translate(-7,129.92307692307693)\">1.5</text><text style=\"font-family: sans-serif; font-size: 10px; fill: #000; opacity: 1;\" text-anchor=\"end\" transform=\"translate(-7,72.23076923076925)\">2.0</text><text style=\"font-family: sans-serif; font-size: 10px; fill: #000; opacity: 1;\" text-anchor=\"end\" transform=\"translate(-7,14.538461538461547)\">2.5</text></g><g class=\"mark-rule role-axis-domain\" style=\"pointer-events: none;\"><line style=\"fill: none; stroke: #888; stroke-width: 1; opacity: 1;\" transform=\"translate(0,300)\" x2=\"0\" y2=\"-300\"/></g><g class=\"mark-text role-axis-title\" style=\"pointer-events: none;\"><text style=\"font-family: sans-serif; font-size: 11px; font-weight: bold; fill: #000; opacity: 1;\" text-anchor=\"middle\" transform=\"translate(-24.9013671875,150) rotate(-90) translate(0,-2)\">petalWidth</text></g></g></g></g></g></g></g></g></svg>"
      ],
      "text/plain": [
       "<IPython.core.display.SVG object>"
      ]
     },
     "metadata": {},
     "output_type": "display_data"
    }
   ],
   "source": [
    "dp.getEntryDatabase(\n",
    "    database='waterman',\n",
    "    key='altair_svg',\n",
    "    content_type='image/svg'\n",
    ")"
   ]
  },
  {
   "cell_type": "markdown",
   "metadata": {},
   "source": [
    "## **Get XML from dataportal**"
   ]
  },
  {
   "cell_type": "code",
   "execution_count": 12,
   "metadata": {},
   "outputs": [
    {
     "name": "stdout",
     "output_type": "stream",
     "text": [
      "https://test-hkv-domain/dataportal/data.ashx?database=waterman&key=xml&contentType=text/xml\n"
     ]
    },
    {
     "data": {
      "text/plain": [
       "'blah'"
      ]
     },
     "execution_count": 12,
     "metadata": {},
     "output_type": "execute_result"
    }
   ],
   "source": [
    "as_untangle = dp.getEntryDatabase(\n",
    "    database='waterman',\n",
    "    key='xml',\n",
    "    content_type='text/xml'\n",
    ")\n",
    "\n",
    "as_untangle.root.doc.field1['name']"
   ]
  },
  {
   "cell_type": "code",
   "execution_count": 13,
   "metadata": {},
   "outputs": [
    {
     "name": "stdout",
     "output_type": "stream",
     "text": [
      "https://test-hkv-domain/dataportal/data.ashx?database=waterman&key=xml&contentType=text/plain\n"
     ]
    },
    {
     "data": {
      "text/plain": [
       "'<root><doc><field1 name=\"blah\">some value1</field1><field2 name=\"asdfasd\">some vlaue2</field2></doc></root>'"
      ]
     },
     "execution_count": 13,
     "metadata": {},
     "output_type": "execute_result"
    }
   ],
   "source": [
    "as_xml_str = dp.getEntryDatabase(\n",
    "    database='waterman',\n",
    "    key='xml',\n",
    "    content_type='text/plain'\n",
    ")\n",
    "\n",
    "as_xml_str"
   ]
  }
 ],
 "metadata": {
  "kernelspec": {
   "display_name": "Python 3",
   "language": "python",
   "name": "python3"
  },
  "language_info": {
   "codemirror_mode": {
    "name": "ipython",
    "version": 3
   },
   "file_extension": ".py",
   "mimetype": "text/x-python",
   "name": "python",
   "nbconvert_exporter": "python",
   "pygments_lexer": "ipython3",
   "version": "3.6.5"
  }
 },
 "nbformat": 4,
 "nbformat_minor": 4
}
