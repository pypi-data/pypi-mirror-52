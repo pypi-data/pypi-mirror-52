{
 "cells": [
  {
   "cell_type": "markdown",
   "metadata": {},
   "source": [
    "Voorbeeld notebook om met de dataportal van hkv.services te werken.\n",
    "\n",
    "Allereerst, importeer de module als volgt:"
   ]
  },
  {
   "cell_type": "code",
   "execution_count": 1,
   "metadata": {},
   "outputs": [],
   "source": [
    "import hkvportal"
   ]
  },
  {
   "cell_type": "code",
   "execution_count": 2,
   "metadata": {},
   "outputs": [
    {
     "name": "stdout",
     "output_type": "stream",
     "text": [
      "Dataservice is recognized. https://tsws.hkvservices.nl/mangrove.ws/entry.asmx?WSDL will be used as portal\n"
     ]
    }
   ],
   "source": [
    "service_url = 'https://tsws.hkvservices.nl/mangrove.ws/'\n",
    "\n",
    "# request Rolf or Mattijn for your own user_id\n",
    "user_id = 'my_little_userid' \n",
    "dp = hkvportal.Service(service_url, user_id)"
   ]
  },
  {
   "cell_type": "markdown",
   "metadata": {},
   "source": [
    "In de dataportal kunnen verschillende databases worden aangemaakt (`create_database`). In een bestaande database mogen entries worden:\n",
    "- aangemaakt (`new_entry`)\n",
    "- bijgewerkt (`update_entry`)\n",
    "- opgehaald (`get_entry`) of \n",
    "- verwijderd (`delete_entry`)\n",
    "\n",
    "Om een database uit te lezen moet er eerst een verbinding met de dataservice worden gemaakt. Anders is de dataservice niet bekend."
   ]
  },
  {
   "cell_type": "markdown",
   "metadata": {},
   "source": [
    "Om te starten maak je een database aan"
   ]
  },
  {
   "cell_type": "code",
   "execution_count": 3,
   "metadata": {},
   "outputs": [
    {
     "data": {
      "text/plain": [
       "{'exception': 'database name already exists'}"
      ]
     },
     "execution_count": 3,
     "metadata": {},
     "output_type": "execute_result"
    }
   ],
   "source": [
    "dp.create_database(database='demo_database')"
   ]
  },
  {
   "cell_type": "markdown",
   "metadata": {},
   "source": [
    "Met de `info` kunctie kan je uitlezen wat er in de database zit. Dit is nu nog niets:"
   ]
  },
  {
   "cell_type": "code",
   "execution_count": 4,
   "metadata": {},
   "outputs": [
    {
     "data": {
      "text/plain": [
       "{'database': 'demo_database',\n",
       " 'version': '0.3.0.0',\n",
       " 'date': '2019-09-17 09:56:05',\n",
       " 'data': []}"
      ]
     },
     "execution_count": 4,
     "metadata": {},
     "output_type": "execute_result"
    }
   ],
   "source": [
    "dp.info(database='demo_database')"
   ]
  },
  {
   "cell_type": "markdown",
   "metadata": {},
   "source": [
    "Een nieuwe entry kan toegevoegd worden met de functie `new_entry`, deze heeft de volgende parameters nodig:\n",
    "- `database` = (`str`) naam van de database in kwestie\n",
    "- `key` = (`str`) naam waaronder de entry weer opgevraagd kan worden\n",
    "- `data` = het data-object\n",
    "- `description` = (`str`) beschrijving van de entry"
   ]
  },
  {
   "cell_type": "code",
   "execution_count": 5,
   "metadata": {},
   "outputs": [
    {
     "name": "stdout",
     "output_type": "stream",
     "text": [
      "entry available at:\n",
      "https://tsws.hkvservices.nl/mangrove.ws/data.ashx?function=dataportal.db.getdata&parameters={database:'demo_database',key:'array4digits'}&contentType=SET_BY_USER\n"
     ]
    }
   ],
   "source": [
    "dp.new_entry(\n",
    "    database='demo_database',\n",
    "    key='array4digits',\n",
    "    data='[1,2,3,4]',\n",
    "    description='array van getallen'\n",
    ")"
   ]
  },
  {
   "cell_type": "markdown",
   "metadata": {},
   "source": [
    "De `content_type` is data afhankelijk en staat daarom default op `SET_BY_USER`. Bij het opvragen van de URL moet je een contentType meegeven, voorbeeld data types zijn `text/html`, `application/json`, `text/csv` `application/pdf`, `text/xml`. Zie notebook `overview set content-types.ipynb` voor een overzicht hoe je met deze verschillende data typen kunt werken met hkvportal.\n",
    "\n",
    "De weggeschreven data kan weer uitgelezen worden met de functie `get_entry`. Hiervoor zijn de `database` en `key` van belang in combinatie met de `content_type`. De functie toont ook de URL waarmee de data vanuit de browser en scripts uitgelezen kan worden.\n",
    "\n",
    "Zoals gezegd geeft de `content_type` aan wat voor type data er verwacht wordt. Voor een correcte interpretatie moet je deze meegeven bij het opvragen van de data entry. Zie `overview get content-types.ipynb` hoe je verschillende data typen kunt opvragen."
   ]
  },
  {
   "cell_type": "code",
   "execution_count": 6,
   "metadata": {},
   "outputs": [
    {
     "name": "stdout",
     "output_type": "stream",
     "text": [
      "entry available at:\n",
      "https://tsws.hkvservices.nl/mangrove.ws/data.ashx?function=dataportal.db.getdata&parameters={database:'demo_database',key:'array4digits'}&contentType=application/json\n"
     ]
    },
    {
     "data": {
      "text/html": [
       "<div>\n",
       "<style scoped>\n",
       "    .dataframe tbody tr th:only-of-type {\n",
       "        vertical-align: middle;\n",
       "    }\n",
       "\n",
       "    .dataframe tbody tr th {\n",
       "        vertical-align: top;\n",
       "    }\n",
       "\n",
       "    .dataframe thead th {\n",
       "        text-align: right;\n",
       "    }\n",
       "</style>\n",
       "<table border=\"1\" class=\"dataframe\">\n",
       "  <thead>\n",
       "    <tr style=\"text-align: right;\">\n",
       "      <th></th>\n",
       "      <th>0</th>\n",
       "    </tr>\n",
       "  </thead>\n",
       "  <tbody>\n",
       "    <tr>\n",
       "      <th>0</th>\n",
       "      <td>1</td>\n",
       "    </tr>\n",
       "    <tr>\n",
       "      <th>1</th>\n",
       "      <td>2</td>\n",
       "    </tr>\n",
       "    <tr>\n",
       "      <th>2</th>\n",
       "      <td>3</td>\n",
       "    </tr>\n",
       "    <tr>\n",
       "      <th>3</th>\n",
       "      <td>4</td>\n",
       "    </tr>\n",
       "  </tbody>\n",
       "</table>\n",
       "</div>"
      ],
      "text/plain": [
       "   0\n",
       "0  1\n",
       "1  2\n",
       "2  3\n",
       "3  4"
      ]
     },
     "execution_count": 6,
     "metadata": {},
     "output_type": "execute_result"
    }
   ],
   "source": [
    "dp.get_entry(\n",
    "    database='demo_database',\n",
    "    key='array4digits',\n",
    "    content_type='application/json'\n",
    ")"
   ]
  },
  {
   "cell_type": "markdown",
   "metadata": {},
   "source": [
    "Met `update_entry` kan een bestaande entry bijgewerkt worden. De entry wordt in z'n geheel vernieuwd. Er is geen append of prepend functionaliteit"
   ]
  },
  {
   "cell_type": "code",
   "execution_count": 7,
   "metadata": {},
   "outputs": [
    {
     "name": "stdout",
     "output_type": "stream",
     "text": [
      "entry available at:\n",
      "https://tsws.hkvservices.nl/mangrove.ws/data.ashx?function=dataportal.db.getdata&parameters={database:'demo_database',key:'array4digits'}&contentType=SET_BY_USER\n"
     ]
    }
   ],
   "source": [
    "dp.update_entry(\n",
    "    database='demo_database',\n",
    "    key='array4digits',\n",
    "    data='[5,6,7,8]',\n",
    "    description='array van nieuwe getallen'\n",
    ")"
   ]
  },
  {
   "cell_type": "markdown",
   "metadata": {},
   "source": [
    "Met de listDatabase functie is zichtbaar dat er een enkel entry in de database zit."
   ]
  },
  {
   "cell_type": "code",
   "execution_count": 8,
   "metadata": {},
   "outputs": [
    {
     "data": {
      "text/plain": [
       "{'database': 'demo_database',\n",
       " 'version': '0.3.0.0',\n",
       " 'date': '2019-09-17 09:56:05',\n",
       " 'data': [{'id': '625411e7-7956-4ff3-a74f-6b571d0ed235',\n",
       "   'key': 'array4digits',\n",
       "   'date': '2019-09-17 12:10:04',\n",
       "   'description': 'array van nieuwe getallen'}]}"
      ]
     },
     "execution_count": 8,
     "metadata": {},
     "output_type": "execute_result"
    }
   ],
   "source": [
    "dp.info(database='demo_database')"
   ]
  },
  {
   "cell_type": "markdown",
   "metadata": {},
   "source": [
    "Om een entry uit de database te verwijderen kan de `delete_entry` functie gebruikt worden"
   ]
  },
  {
   "cell_type": "code",
   "execution_count": 9,
   "metadata": {},
   "outputs": [
    {
     "data": {
      "text/plain": [
       "{'database': 'demo_database', 'version': '0.3.0.0', 'recordsaffected': '1'}"
      ]
     },
     "execution_count": 9,
     "metadata": {},
     "output_type": "execute_result"
    }
   ],
   "source": [
    "dp.delete_entry(database='demo_database', key='array4digits')"
   ]
  },
  {
   "cell_type": "markdown",
   "metadata": {},
   "source": [
    "Double check om te kijken of de entry echt weg is"
   ]
  },
  {
   "cell_type": "code",
   "execution_count": 10,
   "metadata": {},
   "outputs": [
    {
     "data": {
      "text/plain": [
       "{'database': 'demo_database',\n",
       " 'version': '0.3.0.0',\n",
       " 'date': '2019-09-17 09:56:05',\n",
       " 'data': []}"
      ]
     },
     "execution_count": 10,
     "metadata": {},
     "output_type": "execute_result"
    }
   ],
   "source": [
    "dp.info(database='demo_database')"
   ]
  },
  {
   "cell_type": "code",
   "execution_count": null,
   "metadata": {},
   "outputs": [],
   "source": []
  }
 ],
 "metadata": {
  "kernelspec": {
   "display_name": "Python 3",
   "language": "python",
   "name": "python3"
  },
  "language_info": {
   "codemirror_mode": {
    "name": "ipython",
    "version": 3
   },
   "file_extension": ".py",
   "mimetype": "text/x-python",
   "name": "python",
   "nbconvert_exporter": "python",
   "pygments_lexer": "ipython3",
   "version": "3.6.5"
  }
 },
 "nbformat": 4,
 "nbformat_minor": 4
}
