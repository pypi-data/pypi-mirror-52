{
 "cells": [
  {
   "cell_type": "code",
   "execution_count": 8,
   "metadata": {},
   "outputs": [],
   "source": [
    "    import abc, jsonschema, rdflib, collections, copy, pyld.jsonld as jsonld, pandas\n",
    "    import strict_rfc3339, rfc3986, rfc3987, IPython"
   ]
  },
  {
   "cell_type": "code",
   "execution_count": 9,
   "metadata": {},
   "outputs": [],
   "source": [
    "    class JsonSchemaMeta(abc.ABCMeta):\n",
    "        schema = None\n",
    "        def __init_subclass__(cls, **kwargs): \n",
    "            jsonschema.validate(kwargs, cls.schema or {}, format_checker=jsonschema.FormatChecker())\n",
    "            cls.schema = kwargs\n",
    "\n",
    "    class JsonSchema(JsonSchemaMeta, **jsonschema.Draft7Validator.META_SCHEMA): \n",
    "        def __new__(cls, object=None, *args, **kwargs):\n",
    "            object= super().__new__(cls, object, *args, **kwargs)\n",
    "            jsonschema.validate(object.schema, cls.schema, format_checker=jsonschema.FormatChecker())\n",
    "            return object\n",
    "\n",
    "    class Type(metaclass=JsonSchema): \n",
    "        type = rdflib.namespace.XSD.type\n",
    "        schema = {}\n",
    "        def __new__(cls, object=None, *args, **kwargs):\n",
    "            schema = cls.class_schema()\n",
    "            if object is None: object = copy.copy(schema.get('default'))\n",
    "            return jsonschema.validate(object, schema, format_checker=jsonschema.FormatChecker()) or super().__new__(cls, object, *args, **kwargs)\n",
    "\n",
    "        def __init_subclass__(cls, **kwargs): cls.schema = kwargs\n",
    "            \n",
    "        @classmethod\n",
    "        def class_schema(cls): return {**collections.ChainMap(*(getattr(object, 'schema', {}) or {} for object in cls.__mro__)), 'title': cls.__name__, }\n",
    "        @classmethod\n",
    "        def class_context(cls): return {**collections.ChainMap(*(getattr(object, 'schema', {}).get('@context', {}) or {} for object in cls.__mro__))}\n",
    "        \n",
    "        @classmethod\n",
    "        def object(type, object=None):\n",
    "            for cls in (type.__subclasses__()):\n",
    "                try: return cls.object(object)\n",
    "                except BaseException as e: ...\n",
    "            else: return type(object)\n",
    "        \n",
    "        def expand(self, context=None): \n",
    "            context = {**self.class_context(), **(context or {})}\n",
    "            return jsonld.expand({self.type: self, **{x: getattr(self, x) for x in context if hasattr(self, 'x')}}, options=dict(expandContext=context))\n"
   ]
  },
  {
   "cell_type": "code",
   "execution_count": 10,
   "metadata": {},
   "outputs": [],
   "source": [
    "    class Literal(Type):\n",
    "        def _repr_json_(self): return self.expand(), {'expanded': True, 'root': type(self).__name__}\n",
    "        \n",
    "    class Null(Literal, type='null'): \n",
    "        def __new__(cls, object=None, *args, **kwargs): return jsonschema.validate(object, cls.class_schema(), format_checker=jsonschema.FormatChecker())\n",
    "\n",
    "    class String(Literal, str, type='string', default=''): type = rdflib.namespace.XSD.string\n",
    "    class Number(Literal, float, type='number', default=''): type = rdflib.namespace.XSD.decimal\n",
    "    class Integer(Literal, int, type='integer', default=''): type = rdflib.namespace.XSD.integer"
   ]
  },
  {
   "cell_type": "code",
   "execution_count": 11,
   "metadata": {},
   "outputs": [],
   "source": [
    "    class Container(Literal): \n",
    "        def _repr_json_(self): return self, {'expanded': True, 'root': type(self).__name__, '@graph': self.expand()}\n",
    "    class List(Container, list, type='array', default=[]): ...\n",
    "    class Dict(Container, dict, type='object', default={}): ..."
   ]
  },
  {
   "cell_type": "code",
   "execution_count": 12,
   "metadata": {},
   "outputs": [],
   "source": [
    "    class Email(String, format='email'): type = rdflib.namespace.XSD.email\n",
    "    class Uri(String, format='uri'): ...\n",
    "    class Pointer(Uri, format='json-pointer'): ...\n",
    "    class Date(String, format='date'): type = rdflib.namespace.XSD.date\n",
    "    class Datetime(String, format='date-time'): type = rdflib.namespace.XSD.datetime\n",
    "    class Time(String, format='time'): type = rdflib.namespace.XSD.time        "
   ]
  }
 ],
 "metadata": {
  "kernelspec": {
   "display_name": "Python [conda env:root] *",
   "language": "python",
   "name": "conda-root-py"
  },
  "language_info": {
   "codemirror_mode": {
    "name": "ipython",
    "version": 3
   },
   "file_extension": ".py",
   "mimetype": "text/x-python",
   "name": "python",
   "nbconvert_exporter": "python",
   "pygments_lexer": "ipython3",
   "version": "3.7.3"
  }
 },
 "nbformat": 4,
 "nbformat_minor": 4
}
