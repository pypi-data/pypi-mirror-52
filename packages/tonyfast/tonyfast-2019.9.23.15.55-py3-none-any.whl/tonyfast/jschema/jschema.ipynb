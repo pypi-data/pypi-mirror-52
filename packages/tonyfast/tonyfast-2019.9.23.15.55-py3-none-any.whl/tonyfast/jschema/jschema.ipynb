{
 "cells": [
  {
   "cell_type": "code",
   "execution_count": 1,
   "metadata": {},
   "outputs": [],
   "source": [
    "    import abc, jsonschema, rdflib, collections, copy, pyld.jsonld as jsonld, ast, pathlib\n",
    "    import strict_rfc3339, rfc3986, rfc3987, IPython"
   ]
  },
  {
   "cell_type": "code",
   "execution_count": 2,
   "metadata": {},
   "outputs": [],
   "source": [
    "    pathlib.Path.text = pathlib.Path.read_text\n",
    "    pathlib.Path.json = lambda x: __import__('json').loads(x.text())"
   ]
  },
  {
   "cell_type": "code",
   "execution_count": 3,
   "metadata": {},
   "outputs": [],
   "source": [
    "    class Schema:\n",
    "        @classmethod\n",
    "        def schema(cls): return {**collections.ChainMap(*(getattr(object, '__annotations__', {}) or {} for object in cls.__mro__)), 'title': cls.__name__, }\n",
    "        @classmethod\n",
    "        def validate(cls, object, schema=None): jsonschema.validate(object, schema or cls.schema(), format_checker=jsonschema.FormatChecker())"
   ]
  },
  {
   "cell_type": "code",
   "execution_count": 4,
   "metadata": {},
   "outputs": [],
   "source": [
    "    class JsonSchemaMeta(Schema, abc.ABCMeta):\n",
    "        def __init_subclass__(cls, **kwargs):  cls.__annotations__ = cls.validate(kwargs) or kwargs\n",
    "\n",
    "    class JsonSchema(JsonSchemaMeta, **jsonschema.Draft7Validator.META_SCHEMA): \n",
    "        def __new__(cls, object=None, *args, **kwargs):\n",
    "            object= super().__new__(cls, object, *args, **kwargs)\n",
    "            return object"
   ]
  },
  {
   "cell_type": "code",
   "execution_count": 5,
   "metadata": {},
   "outputs": [],
   "source": [
    "    class Pandas:\n",
    "        def frame(self): return __import__('pandas').DataFrame(self)\n",
    "        def series(self): return __import__('pandas').Series(self)        "
   ]
  },
  {
   "cell_type": "code",
   "execution_count": 24,
   "metadata": {},
   "outputs": [],
   "source": [
    "    class Type(Schema, metaclass=JsonSchema): \n",
    "        __annotations__ = {}\n",
    "        def __new__(cls, object=None, *args, **kwargs):\n",
    "            schema = cls.schema()\n",
    "            if object is None: object = copy.copy(schema.get('default'))\n",
    "            object = super().__new__(cls, object, *args, **kwargs)\n",
    "            return cls.validate(object) or object\n",
    "\n",
    "        def __init_subclass__(cls, **kwargs):  cls.__annotations__ = type(cls).validate(kwargs) or kwargs\n",
    "\n",
    "        @classmethod\n",
    "        def object(type, object=None):\n",
    "            for cls in (type.__subclasses__()):\n",
    "                try: return cls.object(object)\n",
    "                except BaseException as e: ...\n",
    "            else: return type(object)\n",
    "    class List(Pandas, Type, list, type='array', default=[]): ... \n",
    "    class Dict(Pandas, Type, dict, type='object', default={}): ...\n",
    "\n",
    "    class Null(Type, type='null'): \n",
    "        def __new__(cls, object=None, *args, **kwargs): return cls.validate(cls, object)\n",
    "    class Integer(Type, int, type='integer', default=''): ...\n",
    "    class Number(Type, float, type='number', default=''): ...\n",
    "    \n",
    "    class String(Type, str, type='string', default=''): \n",
    "        def text(self): return str(self)\n",
    "        def yaml(self): \n",
    "            try: from ruamel import yaml\n",
    "            except: import yaml\n",
    "            return Type.object(yaml.safe_load(self.text()))\n",
    "        def json(self): \n",
    "            try: import ujson as json\n",
    "            except: import json\n",
    "            return json.loads(self.text())\n",
    "        def path(self): return pathlib.Path(self)\n",
    "    class Date(String, format='date'): ...\n",
    "    class Datetime(String, format='date-time'): ...\n",
    "    class Time(String, format='time'): ...\n",
    "    class Color(String, format='color'): ...\n",
    "    \n",
    "    class Email(String, format='email'): ...\n",
    "    class Uri(String, format='uri'):         \n",
    "        def text(self, **object): return __import__('requests').get(self, **object).text\n",
    "    \n",
    "        \n",
    "    class File(String): \n",
    "        @classmethod\n",
    "        def validate(cls, object, schema=None):\n",
    "            if object.path().exists(): return \n",
    "            raise ValueError(F\"{object} is not a file.\")\n",
    "    class Dir(File): \n",
    "        @classmethod\n",
    "        def validate(cls, object, schema=None):\n",
    "            if object.path().is_dir(): return \n",
    "            raise ValueError(F\"{object} is not a file.\")"
   ]
  },
  {
   "cell_type": "code",
   "execution_count": 21,
   "metadata": {},
   "outputs": [],
   "source": [
    "    class StringTypes(ast.NodeTransformer):\n",
    "        def visit_Str(self, node):\n",
    "            next = ast.parse(F\"\"\"__import__('importlib').import_module('{__name__}').String.object('')\"\"\").body[0].value\n",
    "            next.args = [node]\n",
    "            return ast.copy_location(next, node)\n",
    "        visit_JoinedStr = visit_Str"
   ]
  },
  {
   "cell_type": "code",
   "execution_count": 8,
   "metadata": {},
   "outputs": [],
   "source": [
    "    def unload_ipython_extension(shell): shell.ast_transformers = [x for x in shell.ast_transformers if not isinstance(x, StringTypes)]\n",
    "    def load_ipython_extension(shell): unload_ipython_extension(shell) or shell.ast_transformers.append(StringTypes())\n",
    "    __name__ == '__main__' and load_ipython_extension(get_ipython())"
   ]
  }
 ],
 "metadata": {
  "kernelspec": {
   "display_name": "Python [conda env:root] *",
   "language": "python",
   "name": "conda-root-py"
  },
  "language_info": {
   "codemirror_mode": {
    "name": "ipython",
    "version": 3
   },
   "file_extension": ".py",
   "mimetype": "text/x-python",
   "name": "python",
   "nbconvert_exporter": "python",
   "pygments_lexer": "ipython3",
   "version": "3.7.3"
  }
 },
 "nbformat": 4,
 "nbformat_minor": 4
}
