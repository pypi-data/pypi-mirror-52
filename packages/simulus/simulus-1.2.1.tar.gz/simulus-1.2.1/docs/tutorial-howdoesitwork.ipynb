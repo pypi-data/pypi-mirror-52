{
 "cells": [
  {
   "cell_type": "markdown",
   "metadata": {},
   "source": [
    "## How Does It Work?"
   ]
  },
  {
   "cell_type": "markdown",
   "metadata": {},
   "source": [
    "Simulus works in two ways. One way is through events. You can schedule events and process them. We call it *direct event scheduling*. The other way is through processes. You can create processes and have them run and interact. We call it *process scheduling*. Of course, there's a third way, by combining them and having both event schedule and process scheduling in the models."
   ]
  },
  {
   "cell_type": "markdown",
   "metadata": {},
   "source": [
    "### Direct Event Scheduling"
   ]
  },
  {
   "cell_type": "markdown",
   "metadata": {},
   "source": [
    "In simulus, an event is simply a function to be invoked at a designated time. This can be illustrated using the following hello-world example."
   ]
  },
  {
   "cell_type": "markdown",
   "metadata": {},
   "source": [
    "#### The Hello-World Example"
   ]
  },
  {
   "cell_type": "code",
   "execution_count": 1,
   "metadata": {},
   "outputs": [
    {
     "name": "stdout",
     "output_type": "stream",
     "text": [
      "Hello world at time 10\n"
     ]
    }
   ],
   "source": [
    "# %load \"../examples/basics/helloworld.py\"\n",
    "import simulus\n",
    "\n",
    "def print_message():\n",
    "    print(\"Hello world at time\", sim.now)\n",
    "    \n",
    "sim = simulus.simulator()\n",
    "sim.sched(print_message, until=10)\n",
    "sim.run()\n"
   ]
  },
  {
   "cell_type": "markdown",
   "metadata": {},
   "source": [
    "In order to use the simulator, we need to first import the `simulus` package and then create a simulator using the `simulator()` function. A simulator maintains an event list where all events will be sorted in their timestamp order. A simulator also keeps the current simulation time, which gets advanced while executing the events on the event list. One can find out the current time of the simulator by inspecting the `now` variable of the simulator.\n",
    "\n",
    "In the example, the function `print_message()` is scheduled to run at time 10. We schedule the function using the `sched()` method of the simulator, and passing the name of the function with the `until` argument to specify the time at which the function should be invoked. In discrete-event simulation terminology, the `print_message()` function is also called an *event handler*. In simulus, an event handler can be any Python function or method.\n",
    "\n",
    "To run the simulation, we simply use the `run()` method of the simulator. Without an argument, the `run()` method will process *all* events on the event list; the function returns only when there are no more events on the event list."
   ]
  },
  {
   "cell_type": "markdown",
   "metadata": {},
   "source": [
    "#### Passing Arguments to Event Handlers"
   ]
  },
  {
   "cell_type": "markdown",
   "metadata": {},
   "source": [
    "The next example shows how to pass arguments between `sched()` and the event handler. "
   ]
  },
  {
   "cell_type": "code",
   "execution_count": 2,
   "metadata": {},
   "outputs": [
    {
     "name": "stdout",
     "output_type": "stream",
     "text": [
      "print_params_1(a='hello', b=100, c='named') invoked at time 10\n",
      "print_params_2(a='hello', b=100, args=('yes', 'no'), c=1, kwargs={'arg1': True, 'arg2': 2}) invoked at time 20\n",
      "print_params_3(a=10, b=11, c=12) invoked at 30\n",
      "print_params_3(a=10, b=11, c=12) invoked at 40\n"
     ]
    }
   ],
   "source": [
    "# %load \"../examples/basics/passargs.py\"\n",
    "import simulus\n",
    "\n",
    "def print_params_1(a, b, c=\"named\"):\n",
    "    print(\"print_params_1(a=%r, b=%r, c=%r) invoked at time %g\" %\n",
    "          (a, b, c, sim.now))\n",
    "\n",
    "def print_params_2(mysim, a, b, *args, c=\"named\", **kwargs):\n",
    "    print(\"print_params_2(a=%r, b=%r, args=%r, c=%r, kwargs=%r) invoked at time %g\" %\n",
    "          (a, b, args, c, kwargs, mysim.now))\n",
    "\n",
    "class myclass:\n",
    "    def __init__(self, a):\n",
    "        self.a = a\n",
    "\n",
    "    def print_params_3(self, b, c):\n",
    "        print(\"print_params_3(a=%r, b=%r, c=%r) invoked at %g\" %\n",
    "              (self.a, b, c, sim.now))\n",
    "    \n",
    "sim = simulus.simulator()\n",
    "sim.sched(print_params_1, \"hello\", 100, until=10)\n",
    "sim.sched(print_params_2, sim, \"hello\", 100, \"yes\", \"no\", arg1=True, arg2=2, c=1, until=20)\n",
    "cls = myclass(10)\n",
    "sim.sched(myclass.print_params_3, cls, 11, 12, until=30)\n",
    "sim.sched(cls.print_params_3, 11, 12, until=40)\n",
    "sim.run()\n"
   ]
  },
  {
   "cell_type": "markdown",
   "metadata": {},
   "source": [
    "In the previous hello-world example, we did not pass any arguments to the `print_message()` function. The `sim` variable is module scoped. That is, as long as the function stays in the same module where `sim` is defined, it'll be fine. But this would not work in a more complicated scenario, e.g., when we develop a model that spreads into multiple python modules, or when the functions need parameters.\n",
    "\n",
    "In this example, we schedule three functions: `print_params_1()` at time 10, `print_params_1()` at time 20, and `print_params_3()` at both time 30 and time 40. We can pass arguments from `sched()` to an event handler by placing the arguments right after the function name (the first argument of `sched()`). Here we take advantage of Python's ability to take both positional arguments and keyword arguments. In Python, the single-asterisk form of `*args` can be used to take a non-keyword variable-length list of arguments passed to a function. The double asterisk form of `**kwargs` can be used to take a keyword, variable-length dictionary of arguments passed to a function. \n",
    "\n",
    "In `print_params_1()`, the variables `a` and `b` are positional arguments, and `c` is a keyword argument. In `print_params_2()`, the variables `mysim`, `a`, and `b` are three positional arguments, which take `sim`, the string \"hello\", and the value 100 from the call to `sched()`. The additional positional arguments, \"yes\" and \"no\", are placed into the list `args`. The variable `c` is a keyword argument. The rest of the keyword arguments are placed into the dictionary `kwargs`. \n",
    "\n",
    "`print_params_3()` is a method inside `myclass`. We show two ways to identify it as an event handler. One way is pass the class method as the name of the function, followed by the class instance as the first positional argument. The other way is to directly use the method of the specific class instance. Python is smart enough to unpack it to be the class method and the class instance when `sched()` is called.\n",
    "\n",
    "The `sched()` function takes its own arguments. They are all keyword arguments, such as `until`. The `sched()` function will first filter out the recognized keyword arguments for itself, before scheduling the user intended function to be invoked at the designated time. All positional arguments and all unfiltered keyword arguments are passed onto the event handler.\n",
    "\n",
    "In Python, the parameters of a function need to occur in a particular order: first, the formal positional arguments, then `*args`, followed by the keyword arguments, and finally `**kwargs`. That's exactly what we did for the `print_params_2` function."
   ]
  },
  {
   "cell_type": "markdown",
   "metadata": {},
   "source": [
    "#### The Life of a Professor"
   ]
  },
  {
   "cell_type": "markdown",
   "metadata": {},
   "source": [
    "In simulus, one can of course schedule more functions to run within an event handler. The whole point of simulation is to help capture and examine the complicated logic or processes of the world (or system) as the events unfold. \n",
    "\n",
    "In the next example, we show the \"complicated\" life of a professor."
   ]
  },
  {
   "cell_type": "code",
   "execution_count": 3,
   "metadata": {},
   "outputs": [
    {
     "name": "stdout",
     "output_type": "stream",
     "text": [
      "professor wakes up at 04:00:00\n",
      "professor starts drinking coffee at 04:05:00\n",
      "professor starts reading at 04:10:00\n",
      "professor finishes drinking coffee at 04:20:00\n",
      "professor finishes reading at 06:10:00\n",
      "professor breakfasts at 06:30:00\n",
      "professor shows at 06:50:00\n",
      "professor leaves home and drives to school at 07:30:00\n",
      "professor arrives at school at 08:15:00\n",
      "professor has first meeting at 09:00:00\n",
      "professor has second meeting at 10:00:00\n"
     ]
    }
   ],
   "source": [
    "# %load \"../examples/basics/professor.py\"\n",
    "import simulus\n",
    "\n",
    "from time import gmtime, strftime\n",
    "def strnow():\n",
    "    return strftime(\"%H:%M:%S\", gmtime(sim.now))\n",
    "\n",
    "def wake_up():\n",
    "    print(\"professor wakes up at \"+strnow())\n",
    "    sim.sched(start_coffee, offset=5*60) # 5 minutes from now\n",
    "    sim.sched(breakfast, offset=2*3600+30*60) # 2 hours and 30 minutes from now\n",
    "    sim.sched(shower, offset=2*3600+50*60) # 2 hours and 50 minutes from now\n",
    "    sim.sched(leave, offset=3*3600+30*60) # 3 hours and 30 minutes from now\n",
    "    \n",
    "def start_coffee():\n",
    "    print(\"professor starts drinking coffee at \"+strnow())\n",
    "    sim.sched(finish_coffee, offset=15*60) # 15 minutes from now\n",
    "    sim.sched(start_read, offset=5*60) # 5 minutes from now\n",
    "\n",
    "def finish_coffee():\n",
    "    print(\"professor finishes drinking coffee at \"+strnow())\n",
    "    \n",
    "def start_read():\n",
    "    print(\"professor starts reading at \"+strnow())\n",
    "    sim.sched(finish_read, offset=2*3600) # 2 hours from now\n",
    "    \n",
    "def finish_read():\n",
    "    print(\"professor finishes reading at \"+strnow())\n",
    "\n",
    "def breakfast():\n",
    "    print(\"professor breakfasts at \"+strnow())\n",
    "\n",
    "def shower():\n",
    "    print(\"professor shows at \"+strnow())\n",
    "\n",
    "def leave():\n",
    "    print(\"professor leaves home and drives to school at \"+strnow())\n",
    "    sim.sched(arrive, offset=45*60) # 45 minutes from now\n",
    "\n",
    "def arrive():\n",
    "    print(\"professor arrives at school at \"+strnow())\n",
    "\n",
    "def meeting1():\n",
    "    print(\"professor has first meeting at \"+strnow())\n",
    "\n",
    "def meeting2():\n",
    "    print(\"professor has second meeting at \"+strnow())\n",
    "\n",
    "sim = simulus.simulator()\n",
    "sim.sched(wake_up, until=4*3600) # 4:00\n",
    "sim.sched(meeting1, until=9*3600) # 9:00\n",
    "sim.sched(meeting2, until=10*3600) # 10:00\n",
    "sim.run()\n"
   ]
  },
  {
   "cell_type": "markdown",
   "metadata": {},
   "source": [
    "This example is mostly self-explanatory. There's but one subtle point. The simulation time in simulus is represented as an integer or a floating point number. In this example, we represent time in seconds from midnight. To make things a bit more comprehensible for the printout, in this example we use the standard `time` module in Python to convert the seconds into human readable formats: hours, minutes, and seconds."
   ]
  },
  {
   "cell_type": "markdown",
   "metadata": {},
   "source": [
    "#### Canceling and Rescheduling Events"
   ]
  },
  {
   "cell_type": "markdown",
   "metadata": {},
   "source": [
    "So far, the professor's schedule is rather boring. In real life, we make appointments and we cancel them sometimes. We also reschedule appointments. Let's make things a bit more interesting for the professor's life. Let's assume that today there's a big traffic jam. So instead of taking only 45 minutes, the professor takes 2 hours 45 minutes to get to school. Obviously, the professor will miss the first meeting and get late for the second one. So she cancels the first meeting and reschedules the second meeting. \n",
    "\n",
    "To do that we need to use the return value from the `sched()` method. It is actually a reference to an event that's got scheduled onto the simulator's event list. Event in simulus is an opaque object. That is, we can make a reference to the event (in order to cancel or reschedule the event), but we should not directly access the member variables and methods within the event instance. In this example, we call the simulator's `cancel()` and `resched()` methods and pass the event as the argument. The professor cancels and reschedules the events when she is about to leave home (assuming she can predict that the traffic jam is about to happen by then).\n",
    "\n",
    "Another difference of this example from the previous one is that we make professor's waking up a daily repeatable event (with a 24 hour interval). In this case, the professor always gets up at 4 AM every day and carries out the same set of activities (my goodness!). If we `run()` the simulation without an argument, it would never return as there will always be events on the event list. Because of that, in this example, we call `run()` with a designated simulation end-time using the keyword argument `until`. Specifically for this example, we run the simulation for a duration of three days."
   ]
  },
  {
   "cell_type": "code",
   "execution_count": 4,
   "metadata": {},
   "outputs": [
    {
     "name": "stdout",
     "output_type": "stream",
     "text": [
      "professor wakes up at 04:00:00\n",
      "professor starts drinking coffee at 04:05:00\n",
      "professor starts reading at 04:10:00\n",
      "professor finishes drinking coffee at 04:20:00\n",
      "professor finishes reading at 06:10:00\n",
      "professor breakfasts at 06:30:00\n",
      "professor showers at 06:50:00\n",
      "professor leaves home and drives to school at 07:30:00\n",
      "professor arrives at school at 10:15:00\n",
      "professor has second meeting at 11:00:00\n",
      "professor wakes up at 04:00:00\n",
      "professor starts drinking coffee at 04:05:00\n",
      "professor starts reading at 04:10:00\n",
      "professor finishes drinking coffee at 04:20:00\n",
      "professor finishes reading at 06:10:00\n",
      "professor breakfasts at 06:30:00\n",
      "professor showers at 06:50:00\n",
      "professor leaves home and drives to school at 07:30:00\n",
      "professor arrives at school at 08:15:00\n",
      "professor wakes up at 04:00:00\n",
      "professor starts drinking coffee at 04:05:00\n",
      "professor starts reading at 04:10:00\n",
      "professor finishes drinking coffee at 04:20:00\n",
      "professor finishes reading at 06:10:00\n",
      "professor breakfasts at 06:30:00\n",
      "professor showers at 06:50:00\n",
      "professor leaves home and drives to school at 07:30:00\n",
      "professor arrives at school at 08:15:00\n"
     ]
    }
   ],
   "source": [
    "# %load \"../examples/basics/professor-flex.py\"\n",
    "import simulus\n",
    "\n",
    "from time import gmtime, strftime\n",
    "def strnow():\n",
    "    return strftime(\"%H:%M:%S\", gmtime(sim.now))\n",
    "\n",
    "def wake_up():\n",
    "    print(\"professor wakes up at \"+strnow())\n",
    "    sim.sched(start_coffee, offset=5*60) # 5 minutes from now\n",
    "    sim.sched(breakfast, offset=2*3600+30*60) # 2 hours and 30 minutes from now\n",
    "    sim.sched(shower, offset=2*3600+50*60) # 2 hours and 50 minutes from now\n",
    "    sim.sched(leave, offset=3*3600+30*60) # 3 hours and 30 minutes from now\n",
    "    \n",
    "def start_coffee():\n",
    "    print(\"professor starts drinking coffee at \"+strnow())\n",
    "    sim.sched(finish_coffee, offset=15*60) # 15 minutes from now\n",
    "    sim.sched(start_read, offset=5*60) # 5 minutes from now\n",
    "\n",
    "def finish_coffee():\n",
    "    print(\"professor finishes drinking coffee at \"+strnow())\n",
    "    \n",
    "def start_read():\n",
    "    print(\"professor starts reading at \"+strnow())\n",
    "    sim.sched(finish_read, offset=2*3600) # 2 hours from now\n",
    "    \n",
    "def finish_read():\n",
    "    print(\"professor finishes reading at \"+strnow())\n",
    "\n",
    "def breakfast():\n",
    "    print(\"professor breakfasts at \"+strnow())\n",
    "\n",
    "def shower():\n",
    "    print(\"professor showers at \"+strnow())\n",
    "\n",
    "def leave():\n",
    "    print(\"professor leaves home and drives to school at \"+strnow())\n",
    "    if sim.now < 24*3600:\n",
    "        # traffic jam at the first day\n",
    "        sim.sched(arrive, offset=2*3600+45*60) # 2 hours and 45 minutes from now\n",
    "        # the two meetings are only at the first day\n",
    "        sim.cancel(e1)\n",
    "        sim.resched(e2, until=11*3600) # 11:00\n",
    "    else:\n",
    "        # no traffic jam in the following days\n",
    "        sim.sched(arrive, offset=45*60) # 45 minutes from now\n",
    "\n",
    "def arrive():\n",
    "    print(\"professor arrives at school at \"+strnow())\n",
    "\n",
    "def meeting1():\n",
    "    print(\"professor has first meeting at \"+strnow())\n",
    "\n",
    "def meeting2():\n",
    "    print(\"professor has second meeting at \"+strnow())\n",
    "\n",
    "sim = simulus.simulator()\n",
    "sim.sched(wake_up, until=4*3600, repeat_intv=24*3600) # 4:00 \n",
    "e1 = sim.sched(meeting1, until=9*3600) # 9:00\n",
    "e2 = sim.sched(meeting2, until=10*3600) # 10:00\n",
    "sim.run(until=72*3600)\n"
   ]
  },
  {
   "cell_type": "markdown",
   "metadata": {},
   "source": [
    "#### More on Simulators"
   ]
  },
  {
   "cell_type": "markdown",
   "metadata": {},
   "source": [
    "By default, a simulator starts at time zero. Instead, we can use the `init_time` argument to change the start simulation time when we create the simulator. \n",
    "\n",
    "A simulator can also have an optional name using the `name` argument. If specified, the simulator's name should be unique. In this case, one can use the `get_simulator()` function to retrieve the simulator using the name. If the name is not unique, a simulator created at a later time will replace the one created earlier with the same name. In that case, the earlier simulator will no longer be retrievable using the name. A simulator's name is optional. A simulator can be created without a name. In this case, one cannot use the `get_simulator()` function to retrieve it. Giving a simulator a name can be useful when we deal with distributed simulation. We will discuss it more when we get to simulus' parallel and distributed simulation support. \n",
    "\n",
    "All the previous examples create had one simulator at a time. In fact, one can simultaneously run multiple simulators, each maintaining its own event list and its own current simulation time. If multiple simulators are created, they will all run independently. The event handlers at different simulators are invoked in separate timelines. That is, the current time at one simulator has no relation to the current time of another simulator. This is the default behavior. Simulators can also be time synchronized (using the `sync()` function). We will return to this topic later when we discuss the parallel and distributed simulation support of simulus.\n",
    "\n",
    "Each simulator processes its own events when we call the `run()` function. We can specify either `offset` or `until` when we call `run()`, in which case the simulator will process all events with timestamps smaller than the designated time. The `offset` argument specifies a relative time from the simulator's current simulation time. The `until` argument specifies an absolute time. When the `run()` function returns, the current time of the simulator will be advanced to the designated time and all events on the event list with timestamps smaller than the designated time have already been processed. If both `offset` and `until` are ignored, the simulator will run as long as there are events on the event list. The user should be aware that, in this case, a simulator may run forever as in some simulation models there are always new events generated when the event handlers are invoked (like in the previous example).\n",
    "\n",
    "We can also step through simulation by processing one event at a time. This is achieved by the simulator's `step()` function, which only processes the next event on the event list and advances the simulation time to the time of the event before it returns. If there is no event available on the event list, the method has no effect and returns immediately. \n",
    "\n",
    "To determine the time of the next event, we can use the simulator's `peek()` function. We can also list all future events on the event list using the simulator's `show_calendar()` function. This function is supposed to be used only for debugging purposes. Listing all events on an event list can be quite expensive for some simulators.\n",
    "\n",
    "The following example illustrates some of the functions we just mentioned in this section."
   ]
  },
  {
   "cell_type": "code",
   "execution_count": 5,
   "metadata": {},
   "outputs": [
    {
     "name": "stdout",
     "output_type": "stream",
     "text": [
      "list of all future events (num=5) at time 100 on simulator 'sim1':\n",
      "  105: dir_evt=handle() \n",
      "  125: dir_evt=handle() \n",
      "  145: dir_evt=handle() \n",
      "  165: dir_evt=handle() \n",
      "  185: dir_evt=handle() \n",
      "list of all future events (num=7) at time -100 on simulator 'sim2':\n",
      "  -95: dir_evt=handle() \n",
      "  -65: dir_evt=handle() \n",
      "  -35: dir_evt=handle() \n",
      "  -5: dir_evt=handle() \n",
      "  25: dir_evt=handle() \n",
      "  55: dir_evt=handle() \n",
      "  85: dir_evt=handle() \n",
      "'sim1' handles event at time 105\n",
      "'sim2' handles event at time -95\n",
      "'sim1' handles event at time 125\n",
      "'sim2' handles event at time -65\n",
      "'sim1' handles event at time 145\n",
      "'sim2' handles event at time -35\n",
      "'sim1' handles event at time 165\n",
      "'sim2' handles event at time -5\n",
      "'sim1' handles event at time 185\n",
      "'sim2' handles event at time 25\n",
      "'sim2' handles event at time 55\n",
      "'sim2' handles event at time 85\n"
     ]
    }
   ],
   "source": [
    "# %load \"../examples/basics/twosims.py\"\n",
    "import simulus\n",
    "\n",
    "def handle(sim):\n",
    "    print(\"'%s' handles event at time %g\" % (sim.name, sim.now))\n",
    "\n",
    "sim1 = simulus.simulator(name=\"sim1\", init_time=100)\n",
    "sim2 = simulus.simulator(name=\"sim2\", init_time=-100)\n",
    "\n",
    "for i in range(5, 100, 20):\n",
    "    sim1.sched(handle, sim1, offset=i)\n",
    "for i in range(5, 200, 30):\n",
    "    sim2.sched(handle, sim2, offset=i)\n",
    "sim1.show_calendar()\n",
    "sim2.show_calendar()\n",
    "\n",
    "while True:\n",
    "    t1, t2 = sim1.peek(), sim2.peek()\n",
    "    if t1 < simulus.infinite_time:\n",
    "        sim1.step()\n",
    "    if t2 < simulus.infinite_time:\n",
    "        sim2.step()\n",
    "    if t1 == simulus.infinite_time and \\\n",
    "       t2 == simulus.infinite_time:\n",
    "        break\n"
   ]
  },
  {
   "cell_type": "markdown",
   "metadata": {},
   "source": [
    "In this example, we create two simulators, the first starting from time 100 and the second from time -100. (Yes, we can use negative simulation time!) For the first simulator, we schedule a function to be invoked for 5 times at a regular time interval of 20 starting at an offset of 5 from the simulator's start time. For the second simulator, we schedule the same function to be invoked for 7 times at a regular time interval of 30 starting at an offset of 5 from that simulator's start time. We step through the scheduled events of the two simulators, processing one event at a time for each simulator in an alternative fashion as long as the simulation has events."
   ]
  },
  {
   "cell_type": "markdown",
   "metadata": {},
   "source": [
    "### Process Scheduling"
   ]
  },
  {
   "cell_type": "markdown",
   "metadata": {},
   "source": [
    "Another way to model the world is to use simulation processes. Conceptually, a process is just a thread of control, similar to running through a sequential program that constitutes a bunch of statements, if-else branches, while-loops, and function calls. During its execution, a simulation process can be suspended, either sleeping for some time, or being blocked when requesting for some resources currently unavailable. The process will resume execution after the specified time has passed or when the resource blocking conditions have been removed. "
   ]
  },
  {
   "cell_type": "markdown",
   "metadata": {},
   "source": [
    "#### Hello-World Using Process"
   ]
  },
  {
   "cell_type": "markdown",
   "metadata": {},
   "source": [
    "The following is a modified hello-world example, which we now use a process."
   ]
  },
  {
   "cell_type": "code",
   "execution_count": 6,
   "metadata": {},
   "outputs": [
    {
     "name": "stdout",
     "output_type": "stream",
     "text": [
      "Hello world at time 10\n",
      "Hello world at time 11\n",
      "Hello world at time 12\n",
      "Hello world at time 13\n",
      "Hello world at time 14\n",
      "Hello world at time 15\n",
      "Hello world at time 16\n",
      "Hello world at time 17\n",
      "Hello world at time 18\n",
      "Hello world at time 19\n"
     ]
    }
   ],
   "source": [
    "# %load \"../examples/basics/helloworld-proc.py\"\n",
    "import simulus\n",
    "\n",
    "def print_message():\n",
    "    for _ in range(10):\n",
    "        print(\"Hello world at time\", sim.now)\n",
    "        sim.sleep(1)\n",
    "    \n",
    "sim = simulus.simulator()\n",
    "sim.process(print_message, until=10)\n",
    "sim.run()\n"
   ]
  },
  {
   "cell_type": "markdown",
   "metadata": {},
   "source": [
    "In this example, the function `print_message()` is the starting function of a process. We create the process using the `process()` function of the simulator. We schedule the process to run at time 10 using the `until` argument. If the argument is missing, the process will start immediately at the same simulation time.\n",
    "\n",
    "As with the original hello-world example that uses the `sched()` method, we can pass arguments to the starting function when we create the process---either as positional arguments, or keyword arguments, or both. They will be passed to the starting function when the process starts running at the designated time.\n",
    "\n",
    "In this modified hello-world example, the process loops for 10 times; at each iteration, it prints out a hello message and sleeps for 1 second. The `sleep()` method takes one argument: either an `offset` argument, which specifies the amount of time the process will be put on hold, or an `until` argument, which provides the absolute simulation time at which the process should resume execution. We didn't explicitly name the argument as `offset` as in this example; it's the default positional argument."
   ]
  },
  {
   "cell_type": "markdown",
   "metadata": {},
   "source": [
    "#### The Professor's Life as a Process"
   ]
  },
  {
   "cell_type": "markdown",
   "metadata": {},
   "source": [
    "We now return to the previous example and use a process to simulate the professor's complicated life."
   ]
  },
  {
   "cell_type": "code",
   "execution_count": 7,
   "metadata": {},
   "outputs": [
    {
     "name": "stdout",
     "output_type": "stream",
     "text": [
      "professor wakes up at 04:00:00\n",
      "professor starts drinking coffee at 04:05:00\n",
      "professor starts reading at 04:10:00\n",
      "professor finishes drinking coffee at 04:20:00\n",
      "professor finishes reading at 06:10:00\n",
      "professor breakfasts at 06:30:00\n",
      "professor showers at 06:50:00\n",
      "professor leaves home and drives to school at 07:30:00\n",
      "professor arrives at school at 10:15:00\n",
      "professor has second meeting at 11:00:00\n",
      "professor wakes up at 04:00:00\n",
      "professor starts drinking coffee at 04:05:00\n",
      "professor starts reading at 04:10:00\n",
      "professor finishes drinking coffee at 04:20:00\n",
      "professor finishes reading at 06:10:00\n",
      "professor breakfasts at 06:30:00\n",
      "professor showers at 06:50:00\n",
      "professor leaves home and drives to school at 07:30:00\n",
      "professor arrives at school at 08:15:00\n",
      "professor wakes up at 04:00:00\n",
      "professor starts drinking coffee at 04:05:00\n",
      "professor starts reading at 04:10:00\n",
      "professor finishes drinking coffee at 04:20:00\n",
      "professor finishes reading at 06:10:00\n",
      "professor breakfasts at 06:30:00\n",
      "professor showers at 06:50:00\n",
      "professor leaves home and drives to school at 07:30:00\n",
      "professor arrives at school at 08:15:00\n"
     ]
    }
   ],
   "source": [
    "# %load \"../examples/basics/professor-proc.py\"\n",
    "import simulus\n",
    "\n",
    "from time import gmtime, strftime\n",
    "def strnow():\n",
    "    return strftime(\"%H:%M:%S\", gmtime(sim.now))\n",
    "\n",
    "def prof_life():\n",
    "    while True:\n",
    "        start_of_the_day = sim.now\n",
    "        \n",
    "        sim.sleep(4*3600) # 4 hours from midnight\n",
    "        print(\"professor wakes up at \"+strnow())\n",
    "        \n",
    "        sim.sleep(offset=5*60) # 5 minutes from now\n",
    "        print(\"professor starts drinking coffee at \"+strnow())\n",
    "    \n",
    "        sim.sleep(offset=5*60) # 5 minutes from now\n",
    "        print(\"professor starts reading at \"+strnow())\n",
    "\n",
    "        sim.sleep(offset=(15-5)*60) # 15 minus 5 minutes from now\n",
    "        print(\"professor finishes drinking coffee at \"+strnow())\n",
    "\n",
    "        sim.sleep(offset=2*3600-10*60) # 2 hours minus 10 minutes from now\n",
    "        print(\"professor finishes reading at \"+strnow())\n",
    "\n",
    "        sim.sleep(until=start_of_the_day+6*3600+30*60) # 6:30\n",
    "        print(\"professor breakfasts at \"+strnow())\n",
    "        \n",
    "        sim.sleep(until=start_of_the_day+6*3600+50*60) # 6:50\n",
    "        print(\"professor showers at \"+strnow())\n",
    "\n",
    "        sim.sleep(until=start_of_the_day+7*3600+30*60) # 7:30\n",
    "        print(\"professor leaves home and drives to school at \"+strnow())\n",
    "\n",
    "        if sim.now < 24*3600:\n",
    "            # traffic jam at the first day\n",
    "            sim.sleep(offset=2*3600+45*60) # 2 hours and 45 minutes from now\n",
    "            print(\"professor arrives at school at \"+strnow())\n",
    "\n",
    "            if sim.now < 9*3600:\n",
    "                # if arrives before the 9 o'clock, attend both meetings\n",
    "                sim.sleep(until=9*3600)\n",
    "                print(\"professor has first meeting at \"+strnow())\n",
    "\n",
    "                sim.sleep(until=10*3600)\n",
    "                print(\"professor has second meeting at \"+strnow())\n",
    "            else:\n",
    "                # if late, no the first meeting and resched the second\n",
    "                sim.sleep(until=11*3600)\n",
    "                print(\"professor has second meeting at \"+strnow())\n",
    "        else:\n",
    "            # no traffic jam in the following days\n",
    "            sim.sleep(offset=45*60) # 45 minutes from now\n",
    "            print(\"professor arrives at school at \"+strnow())\n",
    "\n",
    "        # the rest of the day is a blur for the professor\n",
    "        rest_of_the_day(start_of_the_day)\n",
    "\n",
    "def rest_of_the_day(start):\n",
    "    # sleep until the start of the next day\n",
    "    sim.sleep(until=start+24*3600)\n",
    "            \n",
    "sim = simulus.simulator()\n",
    "sim.process(prof_life) \n",
    "sim.run(until=72*3600)\n"
   ]
  },
  {
   "cell_type": "markdown",
   "metadata": {},
   "source": [
    "Rather than having many event handlers as in the earlier example, the professor's life now becomes one process. It's one big loop. Each iteration of the loop represents one day of the professor's life. As a process, the professor calls `sleep()` to advance the simulation time. \n",
    "\n",
    "It is important to know that the `sleep()` method can only be called when a process is running, either in the starting function of the process, or in a function that's directly or indirectly invoked by the starting function. Otherwise, simulus will raise an exception.\n",
    "\n",
    "At each iteration, the professor goes through all the chores of the day. At the end of those chores, she calls the function `rest_of_the_day()` to simulate all the activities she would take for the rest of the day. We are still in the process when that function is called. In the function, the process sleeps until the beginning of the next day. After the function returns, the loop continues to the next iteration to simulate the next day. "
   ]
  },
  {
   "cell_type": "markdown",
   "metadata": {},
   "source": [
    "#### Processes Everywhere"
   ]
  },
  {
   "cell_type": "markdown",
   "metadata": {},
   "source": [
    "Of course, the world does not have just the professor in it. There are other professors and students, and many other people as well. If we simulate a multi-agent system, for example, each agent can be treated an autonomic entity with its own agenda. So it's natural to simulate such a system using the processes to represent independent agents. Each agent may also use multiple processes. Recall that professor in the previous example actually has coffee and reads at the same time? Conceptually any two overlapping activities can be modeled as separate processes.\n",
    "\n",
    "Our world is a complicated world. And processes interact. The agents in a multi-agent system may communicate and synchronize with one another and they compete for resources. Simulus provides the necessary facilities for processes to fulfill these functions. We will deal with the more complicated issues later.\n",
    "\n",
    "As for now, let's examine a simple example showing the creation and execution of multiple processes. We also show a simple way to synchronize the processes by having one process waiting for the completion of other processes."
   ]
  },
  {
   "cell_type": "code",
   "execution_count": 8,
   "metadata": {},
   "outputs": [
    {
     "name": "stdout",
     "output_type": "stream",
     "text": [
      "homework assigned at 10\n",
      "student 1 starts to work at 10.1022\n",
      "student 3 starts to work at 13.5473\n",
      "student 4 starts to work at 14.5952\n",
      "student 0 starts to work at 15.3892\n",
      "student 2 starts to work at 27.4415\n",
      "student 4 finishes working at 108.348\n",
      "student 1 finishes working at 109.514\n",
      "student 2 finishes working at 111.156\n",
      "student 0 finishes working at 122.177\n",
      "student 3 finishes working at 141.183\n",
      "last student finishes homework at 141.18344556219594\n"
     ]
    }
   ],
   "source": [
    "# %load \"../examples/basics/homework.py\"\n",
    "import simulus\n",
    "\n",
    "from random import seed, expovariate, gauss\n",
    "seed(12345)\n",
    "\n",
    "def student(student_id):\n",
    "    print(\"student %d starts to work at %g\" % \n",
    "          (student_id, sim.now))\n",
    "    sim.sleep(gauss(30, 5)) # work on part one\n",
    "    sim.sleep(expovariate(1/10.)) # take some rest\n",
    "    sim.sleep(gauss(60, 10)) # work on part two\n",
    "    print(\"student %d finishes working at %g\" % \n",
    "          (student_id, sim.now))\n",
    "\n",
    "def homework():\n",
    "    print(\"homework assigned at \"+str(sim.now))\n",
    "    # five students working on the homework each starts at a random \n",
    "    # time (exponentially distributed with mean of 10)\n",
    "    students = []\n",
    "    for i in range(5):\n",
    "        s = sim.process(student, i, offset=expovariate(1/10.))\n",
    "        students.append(s)\n",
    "    # wait for all student processes to complete\n",
    "    sim.wait(students)\n",
    "    print(\"last student finishes homework at \"+str(sim.now))\n",
    "\n",
    "sim = simulus.simulator()\n",
    "sim.process(homework, offset=10) \n",
    "sim.run()\n"
   ]
  },
  {
   "cell_type": "markdown",
   "metadata": {},
   "source": [
    "In this example, a `homework` process is created and scheduled to run at time 10, at which the homework is said to be officially assigned. Five students, each represented as a separate process created by the `homework` process, will work on the assignment. Each `student` process starts at a random time, sleeps for some random time to represent the student's working on the first part of the homework, sleeps again for some random time representing the student's taking a break, and finally sleeps for another random time representing the student's working on the second part of the homework. The `homework` process waits for all the student processes to finish using the magical `wait()` method. We will have much to say about the magic behind this method later.\n",
    "\n",
    "This example is the first time in this tutorial we deal with random numbers. It needs a bit explanation. We use Python's `random` package. In particular, we use the `seed()` function to select a random seed for the default random number generator, so that every time we run this example, we should get the same results. In simulation, we call the series of numbers generated by the `random` package *pseudo-random numbers*. The numbers indeed look random, but they are not really random. They follow a fixed sequence although seemingly unpredictable. As long as we start the random sequence with a fixed seed, the sequence is guaranteed be the same.\n",
    "\n",
    "In this example, we use random numbers from two distributions. The `expovariate()` method generates an exponentially distributed random number. The argument to the method is one divided by the desired mean of the distribution. The `gauss()` method generates a Gaussian (normally) distributed random number. The arguments to the method is the desired mean and standard deviation of the normal distribution. \n"
   ]
  }
 ],
 "metadata": {
  "kernelspec": {
   "display_name": "Python 3",
   "language": "python",
   "name": "python3"
  },
  "language_info": {
   "codemirror_mode": {
    "name": "ipython",
    "version": 3
   },
   "file_extension": ".py",
   "mimetype": "text/x-python",
   "name": "python",
   "nbconvert_exporter": "python",
   "pygments_lexer": "ipython3",
   "version": "3.7.3"
  }
 },
 "nbformat": 4,
 "nbformat_minor": 2
}
