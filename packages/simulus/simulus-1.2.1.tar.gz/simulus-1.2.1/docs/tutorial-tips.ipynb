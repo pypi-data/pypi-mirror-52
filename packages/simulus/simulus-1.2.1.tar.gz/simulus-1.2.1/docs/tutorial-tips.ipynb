{
 "cells": [
  {
   "cell_type": "markdown",
   "metadata": {},
   "source": [
    "## Useful Tips"
   ]
  },
  {
   "cell_type": "markdown",
   "metadata": {},
   "source": [
    "In this section, we discuss some useful mechanisms provided by simulus to help accomplish modeling tasks."
   ]
  },
  {
   "cell_type": "markdown",
   "metadata": {},
   "source": [
    "### Pseudo-Random Numbers"
   ]
  },
  {
   "cell_type": "markdown",
   "metadata": {},
   "source": [
    "So far we have been using Python's `random` module to generate all the needed pseudo-random numbers in our examples. One can also use `numpy.random` to generate random numbers. Both generators use Mersenne Twister, which has been proven to have very good random properties. Using `numpy.random`, however, has a couple of advantages: one is that it can generate more random distributions; the other is that the numpy random module understands numpy arrays and can be used to generate random numpy arrays quite efficiently. The only downside of using `numpy.random` is that it requires that one installs numpy first (you can use `pip install`). \n",
    "\n",
    "The following shows the single-server queue example which we discussed earlier, but at this time, we use different random distributions for the inter-arrival time and the service time. We use a Pareto distribution to sample to the inter-arrival times and use a Gamma distribution to sample the service times."
   ]
  },
  {
   "cell_type": "code",
   "execution_count": 1,
   "metadata": {},
   "outputs": [
    {
     "name": "stdout",
     "output_type": "stream",
     "text": [
      "2.50792: job(1) arrives\n",
      "2.50792: job(1) gains access\n",
      "2.93383: job(2) arrives\n",
      "3.71817: job(3) arrives\n",
      "6.62659: job(1) releases\n",
      "6.62659: job(2) gains access\n",
      "7.3872: job(2) releases\n",
      "7.3872: job(3) gains access\n",
      "7.56079: job(3) releases\n"
     ]
    }
   ],
   "source": [
    "# %load '../examples/misc/mm1-numpy.py'\n",
    "import numpy # assuming numpy has been installed\n",
    "import simulus\n",
    "\n",
    "numpy.random.seed(123)\n",
    "\n",
    "def job(idx):\n",
    "    r.acquire()\n",
    "    print(\"%g: job(%d) gains access\" % (sim.now,idx))\n",
    "    sim.sleep(numpy.random.gamma(2, 2))\n",
    "    print(\"%g: job(%d) releases\" % (sim.now,idx))\n",
    "    r.release()\n",
    "\n",
    "def arrival():\n",
    "    i = 0\n",
    "    while True:\n",
    "        i += 1\n",
    "        sim.sleep(numpy.random.pareto(0.95))\n",
    "        print(\"%g: job(%d) arrives\" % (sim.now,i))\n",
    "        sim.process(job, i)\n",
    "\n",
    "sim = simulus.simulator()\n",
    "r = sim.resource()\n",
    "sim.process(arrival)\n",
    "sim.run(10)\n"
   ]
  },
  {
   "cell_type": "markdown",
   "metadata": {},
   "source": [
    "All our examples so far use the random module's default random generator (`random` or `numpy.random`). All the functions supplied by the module (such as `randrange` and `gauss`) are actually bound methods of a hidden instance of the corresponding random generator class (`random.Random` or `numpy.random.RandomState`). Although it's OK for all the examples we have shown (and we will continue to follow this practice since it's simple), there is a slight problem in certain cases if we use the module-bound random generators. For example:\n",
    "\n",
    "* When we instantiate more than one simulators in a simulation (such as using the Jupyter notebook), they will draw from the same random sequence (unless they are separately seeded and used sequentially). This means the results from simulation may be different from running each simulator alone. This potentially could make debugging difficult.\n",
    "\n",
    "* When we run parallel and distributed simulation (as we will discuss later), we instantiate multiple simulator instances, each running on a separate machine. In this case, if all simulator instances start with the same random seed, they would use the same random sequence. This would not a good idea because this would artificially introduce correlations among supposedly independent random processes.\n",
    "\n",
    "Simulus provides an easy way to allow users to draw from an independent random sequence at each simulator. The simulator's `rng()` method returns a random number generator that's attached to the simulator. There is unique at each simulator, meaning that repeated calls to `rng()` returns the same random number generator, and the random numbers drawn from the random number generator is independent from other simulators.\n",
    "\n",
    "Internally, the simulator's random number generator is created with a seed, which is partially taken from the name of the simulator, which is expected to be uniquely chosen by the user, or by simulus if the simulator is created anonymously. The seed also takes from a namespace, which is a universally unique identifier (UUID). Simulus creates the namespace from a random number drawn from the `random` module's default random sequence when the first simulator is created. Thus, if the `random` module's default random sequence is seeded with the same constant, the namespace will be consistent across all simulation runs (even when we run simulus for parallel and distributed simulation).\n",
    "\n",
    "In short, the random number generator attached to each simulator is guaranteed to consistent and independent, as long as we use the same random seed for the random module to start the simulation. "
   ]
  },
  {
   "cell_type": "code",
   "execution_count": 2,
   "metadata": {},
   "outputs": [
    {
     "name": "stdout",
     "output_type": "stream",
     "text": [
      "2.66537: job(1) arrives\n",
      "2.66537: job(1) gains access\n",
      "3.50478: job(2) arrives\n",
      "8.74783: job(1) releases\n",
      "8.74783: job(2) gains access\n",
      "8.92963: job(2) releases\n"
     ]
    }
   ],
   "source": [
    "# %load '../examples/misc/mm1-simrng.py'\n",
    "import numpy # assuming numpy has been installed\n",
    "import random, simulus\n",
    "\n",
    "# this determines the random module's default random sequence, \n",
    "# which also determines the simulation namespace\n",
    "random.seed(123)\n",
    "\n",
    "def job(idx):\n",
    "    r.acquire()\n",
    "    print(\"%g: job(%d) gains access\" % (sim.now,idx))\n",
    "    sim.sleep(rng.gamma(2, 2))\n",
    "    print(\"%g: job(%d) releases\" % (sim.now,idx))\n",
    "    r.release()\n",
    "\n",
    "def arrival():\n",
    "    i = 0\n",
    "    while True:\n",
    "        i += 1\n",
    "        sim.sleep(rng.pareto(0.95))\n",
    "        print(\"%g: job(%d) arrives\" % (sim.now,i))\n",
    "        sim.process(job, i)\n",
    "\n",
    "sim = simulus.simulator('unique_name')\n",
    "rng = numpy.random.RandomState(sim.rng().randrange(2**32))\n",
    "r = sim.resource()\n",
    "sim.process(arrival)\n",
    "sim.run(10)\n"
   ]
  },
  {
   "cell_type": "markdown",
   "metadata": {},
   "source": [
    "In the above example, we create a numpy random number generator `rng` (which is an instance of `numpy.random.RandomState`) and seed it using the simulator's attached generator `sim.rng()`. The simulator is also named explicitly. In this case, we are assure that the random number generator `rng` is going to be consistent and independent, regardless whether the simulator is running together with other simulators or as a part of a parallel and distributed simulation running on different machines.\n",
    "\n",
    "Note that in the example, the random number generator `rng` is dependent only on the initial random seed 123 for the Python's random module. The random seed determines the namespace. A simulator within the same namespace (i.e., using the same random seed) and having a unique name is guaranteed to generate a consistent and independent random sequence. "
   ]
  },
  {
   "cell_type": "markdown",
   "metadata": {},
   "source": [
    "### Statistical Data Collection"
   ]
  },
  {
   "cell_type": "markdown",
   "metadata": {},
   "source": [
    "Simulus provides quite extensive support for users to collect statistics for resources, stores, and mailboxes. To understand simulus' statistical data collection method. We need to first understand the types of data that simulus may collect for statistics:\n",
    "\n",
    "1. *TimeMarks*: TimeMarks consists of a sequence of non-decreasing time instances: $t_1, t_2, t_3$, ... which represent some events that take place over time, for example, the time of job arrivals at a resource, or the time of retrieving messages from a mailbox. Collecting timemarks is cheap. At the end of simulation, one may get the total number of timemarks as well as the average rate, which is the total number of timemarks divided by the simulation time. One can also store all the timemarks in a list if desired. Of course, the user should understand doing so would incur the cost of storing the list, especially if there are a lot of timemarks.\n",
    "\n",
    "2. *DataSeries*: DataSeries simply represents a series of numbers: $v_1, v_2, v_3$, ... For example, dataseries can be the inter-arrival time of jobs or the waiting time of jobs in the queue before entering service at a resource. Collecting dataseries is also cheap. At the end of simulation, one may get some meaningful statistics, including the total number, the mean, the variance and standard deviation, as well as the min and max of the numbers. They can be calculated easily on the run as the numbers are added during the simulation. Of course, one can also store all the numbers in a list if desired. Again, in this case, the user should understand doing so would incur the cost of storing the list, especially if there are a lot of numbers.\n",
    "\n",
    "3. *TimeSeries*: TimeSeries consists of a sequence of time-value pairs: $(t_1, v_1), (t_2, v_2), (t_3, v_3)$, ... where the times $t_1, t_2, t_3$, ... must in non-decreasing order. For example, a timeseries may be the number of jobs currently waiting in the queue at a resource, or the number of items for a put request at a store. TimeSeries basically combines the functions of both TimeMarks and DataSeries. One can get the number of sample, the rate, as well as the mean, variance, standard deviation, min, and max of the values. In addition, one can also get the average over time. This is different from the mean, which simply takes the average of the values. The \"average over time\" is calculated by integrating the area of the values over time and then dividing it by time. One can also store all the time-value pairs in a list if desired. In this case, the user should understand doing so would incur the cost of storing the list, especially if there are a lot of samples.\n",
    "\n",
    "To enable data collection, the user need to pass an instance or instances of `DataCollector` when creating the resources, stores, or mailboxes. To create a DataCollector, we specify the list of attributes that we want to collect data and pass them as keyword arguments. In the following example, we collect data for the resource, including the job arrival time (`arrivals`), the job inter-arrival time (`inter_arrivals`), the length of time that jobs are waiting and using the resource (`system_times`), the number of jobs in the resource (`in_systems`), and the number of jobs waiting in the queue (`in_queues`). These attributes are pre-defined by the resource and they have to be of specific types. There are more attributes defined by the resource; we can select only those we want to collect data. The value of the keyword arguments to `DataCollector` specify the type of the attributes and whether we would like \n",
    "to store all the samples in a list. For the latter, we use the `all` parameter.\n",
    "\n",
    "The instance of the `DataCollector` is then passed to the resource using the keyword argument `collect`. In the example, at the end of the simulation we print out a nice summary of the collected data using the `report()` method of the DataCollector. To do that, we need to pass the end simulation time as some of the statistics would need it."
   ]
  },
  {
   "cell_type": "code",
   "execution_count": 3,
   "metadata": {},
   "outputs": [
    {
     "name": "stdout",
     "output_type": "stream",
     "text": [
      "arrivals (timemarks): samples=1001\n",
      "  data=[0.053784393390292756, 0.1450082787542893, 0.2589614221257033] ...\n",
      "  rate = 1.001\n",
      "inter_arrivals (dataseries): samples=1001\n",
      "  mean = 0.998714\n",
      "  stdev = 0.989336\n",
      "  var = 0.978785\n",
      "  min = 0.00034846\n",
      "  max = 9.35352\n",
      "system_times (dataseries): samples=994\n",
      "  data=[0.47542605365258694, 0.4195663293328595, 1.0040734156806599] ...\n",
      "  mean = 5.9483\n",
      "  stdev = 4.64061\n",
      "  var = 21.5353\n",
      "  min = 0.00781643\n",
      "  max = 21.8591\n",
      "in_systems (timeseries): samples=1995\n",
      "  data=[(0.053784393390292756, 1), (0.1450082787542893, 2), (0.2589614221257033, 3)] ...\n",
      "  rate = 1.995\n",
      "  mean = 6.43409\n",
      "  stdev = 5.16524\n",
      "  var = 26.6797\n",
      "  min = 0\n",
      "  max = 22\n",
      "  avg_over_time=5.93883\n",
      "in_queues (timeseries): samples=1996\n",
      "  data=[(0.053784393390292756, 1), (0.053784393390292756, 0), (0.1450082787542893, 1)] ...\n",
      "  rate = 1.996\n",
      "  mean = 5.55411\n",
      "  stdev = 5.03321\n",
      "  var = 25.3332\n",
      "  min = 0\n",
      "  max = 21\n",
      "  avg_over_time=5.07294\n"
     ]
    }
   ],
   "source": [
    "# %load '../examples/misc/mm1-dc.py'\n",
    "import simulus, random\n",
    "\n",
    "random.seed(123)\n",
    "\n",
    "def job():\n",
    "    r.acquire()\n",
    "    sim.sleep(random.expovariate(1.1))\n",
    "    r.release()\n",
    "\n",
    "def arrival():\n",
    "    while True:\n",
    "        sim.sleep(random.expovariate(1))\n",
    "        sim.process(job)\n",
    "\n",
    "sim = simulus.simulator()\n",
    "\n",
    "dc = simulus.DataCollector(\n",
    "    arrivals='timemarks(all)', \n",
    "    inter_arrivals='dataseries()',\n",
    "    system_times='dataseries(all)',\n",
    "    in_systems='timeseries(all)',\n",
    "    in_queues='timeseries(all)'\n",
    ")\n",
    "r = sim.resource(collect=dc)\n",
    "\n",
    "sim.process(arrival)\n",
    "sim.run(1000)\n",
    "dc.report(sim.now)\n"
   ]
  },
  {
   "cell_type": "markdown",
   "metadata": {},
   "source": [
    "From the report we see that there were 1001 job `arrivals` at the resource during the simulation, at a rate of 1.001 arrivals per second. We asked to store all samples in a list, and `data` shows the first three samples. We also see the same number of samples for `inter_arrivals`, which is of type DataSeries. We didn't ask to store the samples, so there is no `data`. But it reports the mean, standard deviation, variance, min, and max of the samples. `in_systems` reports the number of jobs in the resource over time (either waiting for the resource or using the resource). It's of type TimeSeries. We asked to store all the samples in a list, and therefore `data` shows the first three key-value pairs. A TimeSeries attribute reports the rate as TimeMarks, and the mean, stdev, var, min, and max as DataSeries. In addition, it also reports the average value over time. For `in_systems`, that'll be the average number of jobs waiting or using the resource at any given time.\n",
    "\n",
    "The stored samples can be used to generate nice plots:"
   ]
  },
  {
   "cell_type": "code",
   "execution_count": 4,
   "metadata": {},
   "outputs": [
    {
     "data": {
      "image/png": "[encoded data removed]",
      "text/plain": [
       "<Figure size 432x288 with 2 Axes>"
      ]
     },
     "metadata": {
      "needs_background": "light"
     },
     "output_type": "display_data"
    }
   ],
   "source": [
    "%matplotlib inline\n",
    "import matplotlib.pyplot as plt\n",
    "\n",
    "fig, axs = plt.subplots(1, 2, tight_layout=True)\n",
    "insys = dc.in_systems.data()\n",
    "inque = dc.in_queues.data()\n",
    "axs[0].step(*zip(*insys), where='post', label=\"number in system\")\n",
    "axs[0].step(*zip(*inque), where='post', label=\"number in queue\")\n",
    "axs[0].set_xlim([0,12])\n",
    "axs[0].set_ylim([0,9])\n",
    "axs[0].set_title('Jobs in Resource over Time')\n",
    "axs[0].set_xlabel('time')\n",
    "axs[0].set_ylabel('number of jobs')\n",
    "axs[0].legend(loc='upper left')\n",
    "\n",
    "st = dc.system_times.data()\n",
    "axs[1].hist(st, bins=20, density=True, histtype='step')\n",
    "axs[1].set_title('Time in Resource Histogram')\n",
    "axs[1].set_xlabel('time')\n",
    "axs[1].set_ylabel('probability')\n",
    "\n",
    "plt.show()"
   ]
  },
  {
   "cell_type": "markdown",
   "metadata": {},
   "source": [
    "Resource, store, and mailbox in simulus require different attributes for the DataCollectors. The following shows the attributes accepted for resources:\n",
    "\n",
    "| Resource Attributes    | Type    | data collected    |\n",
    "| :--------------------- | :------ | :---------------- |\n",
    "| **arrivals** | `timemarks` | time of job arrivals\n",
    "| **services** | `timemarks` | time of jobs entering services |\n",
    "| **reneges** | `timemarks` | time of jobs reneging from queue |\n",
    "| **departs** | `timemarks` | time of jobs departing from system |\n",
    "| **inter_arrivals** | `dataseries` | job inter-arrival time |\n",
    "| **queue_times** | `dataseries` | time of jobs in queue before servicing |\n",
    "| **renege_times** | `dataseries` | time of jobs in queue before reneging |\n",
    "| **service_times** | `dataseries` | time of jobs in service |\n",
    "| **system_times** | `dataseries` | time of jobs in system |\n",
    "| **in_systems** | `timeseries` | number of jobs in system |\n",
    "| **in_services** | `timeseries` | number of jobs in service |\n",
    "| **in_queues** | `timeseries` | number of jobs in queue |\n",
    "\n",
    "The stores accept different DataCollector attributes. The available attributes are shown below:\n",
    "\n",
    "| Store Attributes    | Type    | data collected    |\n",
    "| :------------------ | :------ | :---------------- |\n",
    "| **puts** | `timeseries` | time and amount of put requests |\n",
    "| **put_times** | `dataseries` | waiting time to put items |\n",
    "| **put_queues** | `timeseries` | number of processes waiting to put items |\n",
    "| **gets** | `timeseries` | time and amount of get requests |\n",
    "| **get_times** | `dataseries` | waiting time to get items |\n",
    "| **get_queues** | `timeseries` | number of processes waiting to get items |\n",
    "| **levels** | `timeseries` | storage levels |\n",
    "\n",
    "The following example shows the previous gas station example. We use a data collector to get the gas reservoir level at the station."
   ]
  },
  {
   "cell_type": "code",
   "execution_count": 5,
   "metadata": {},
   "outputs": [
    {
     "name": "stdout",
     "output_type": "stream",
     "text": [
      "levels (timeseries): samples=145\n",
      "  data=[(0, 2000), (0.26892196695146375, 1957), (0.7250413937714464, 1921)] ...\n",
      "  rate = 0.145\n",
      "  mean = 1009.81\n",
      "  stdev = 578.789\n",
      "  var = 334997\n",
      "  min = 18\n",
      "  max = 2000\n",
      "  avg_over_time=391.148\n"
     ]
    }
   ],
   "source": [
    "# %load '../examples/misc/gas-dc.py'\n",
    "import itertools, random, simulus\n",
    "\n",
    "GAS_STATION_SIZE = 2000    # gas station reservoir size\n",
    "GAS_PUMPS = 10             # number of gas pumps\n",
    "REFUEL_THRESHOLD = 25      # min reservoir level (in %) before calling the tank truck\n",
    "FUEL_TANK_SIZE = 50        # car's fuel task size\n",
    "FUEL_TANK_LEVEL = [1, 15]  # min/max tank level before refueling\n",
    "REFUELING_SPEED = 2        # speed of the pump\n",
    "TANK_TRUCK_TIME = 300      # tank truck travel time\n",
    "INTER_ARRIVAL = 5          # inter-arrival time of cars\n",
    "\n",
    "def car_generator(sim, gas_station, fuel_pump):\n",
    "    for i in itertools.count():\n",
    "        sim.sleep(random.expovariate(1.0/INTER_ARRIVAL))\n",
    "        sim.process(car, sim, gas_station, fuel_pump)\n",
    "\n",
    "def car(sim, gas_station, fuel_pump):\n",
    "    fuel_tank_level = random.randint(*FUEL_TANK_LEVEL)\n",
    "    gas_station.acquire() # dumb wait\n",
    "    liters_required = FUEL_TANK_SIZE - fuel_tank_level\n",
    "    fuel_pump.get(liters_required) # another dumb wait\n",
    "    sim.sleep(liters_required / REFUELING_SPEED)\n",
    "    gas_station.release()\n",
    "\n",
    "def gas_station_control(sim, fuel_pump):\n",
    "    while True:\n",
    "        if fuel_pump.level/fuel_pump.capacity*100 < REFUEL_THRESHOLD:\n",
    "            sim.wait(sim.process(tank_truck, sim, fuel_pump))\n",
    "        sim.sleep(10)  # check every 10 seconds\n",
    "\n",
    "def tank_truck(sim, fuel_pump):\n",
    "    sim.sleep(random.expovariate(1.0/TANK_TRUCK_TIME))\n",
    "    amt = fuel_pump.capacity - fuel_pump.level\n",
    "    fuel_pump.put(amt)\n",
    "\n",
    "random.seed(123)\n",
    "sim = simulus.simulator()\n",
    "gas_station = sim.resource(GAS_PUMPS)\n",
    "dc = simulus.DataCollector(levels='timeseries(all)')\n",
    "fuel_pump = sim.store(GAS_STATION_SIZE, GAS_STATION_SIZE, collect=dc)\n",
    "sim.process(gas_station_control, sim, fuel_pump)\n",
    "sim.process(car_generator, sim, gas_station, fuel_pump)\n",
    "sim.run(until=1000)\n",
    "dc.report(sim.now)\n"
   ]
  },
  {
   "cell_type": "code",
   "execution_count": 6,
   "metadata": {},
   "outputs": [
    {
     "data": {
      "image/png": "[encoded data removed]",
      "text/plain": [
       "<Figure size 432x288 with 1 Axes>"
      ]
     },
     "metadata": {
      "needs_background": "light"
     },
     "output_type": "display_data"
    }
   ],
   "source": [
    "import matplotlib.pyplot as plt\n",
    "levels = dc.levels.data()\n",
    "plt.step(*zip(*levels), where='post')\n",
    "plt.title('Gas Station Reservoir Level')\n",
    "plt.xlabel('time')\n",
    "plt.ylabel('fuel level (liters)')\n",
    "plt.show()"
   ]
  },
  {
   "cell_type": "markdown",
   "metadata": {},
   "source": [
    "The above plot shows the that the station seems to have a problem that the reservoir is too small to hold the enough gas. Most of the time the gas station would run dry.\n",
    "\n",
    "Mailboxes also accept attributes for data collectors. They are listed below:\n",
    "\n",
    "| Mailbox Attributes    | Type    | data collected    |\n",
    "| :-------------------- | :------ | :---------------- |\n",
    "| **arrivals** | `timemarks` | time of message arrivals |\n",
    "| **retrievals** | `timemarks` | time of message retrieval requests |\n",
    "| **messages** | `timeseries` | number of messages in mailbox |\n",
    "\n",
    "A mailbox can have more than one partitions. In that case, one can use a separate data collector for each partition. In the default case, there's only one partition, so one needs only to use one data collector. In the following, we show the example we used previously to illustrate the difference between receiving one message and receiving all messages from a mailbox. Rather than using a callback function to show the messages stored at the mailbox, we simply use a data collector with the `messages` attribute. We then plot the number of messages in the mailbox and see how it grows and shrinks over time."
   ]
  },
  {
   "cell_type": "code",
   "execution_count": 7,
   "metadata": {},
   "outputs": [
    {
     "name": "stdout",
     "output_type": "stream",
     "text": [
      "messages (timeseries): samples=102\n",
      "  data=[(0.5389162854563174, 1), (1, 0), (2.254685865860081, 1)] ...\n",
      "  rate = 4.63636\n",
      "  mean = 7.54902\n",
      "  stdev = 6.46351\n",
      "  var = 41.777\n",
      "  min = 0\n",
      "  max = 25\n",
      "  avg_over_time=6.45331\n"
     ]
    }
   ],
   "source": [
    "# %load '../examples/misc/delivery-dc.py'\n",
    "import simulus\n",
    "\n",
    "from random import seed, expovariate, randint\n",
    "seed(12345)\n",
    "\n",
    "def generate():\n",
    "    num = 0\n",
    "    while True:\n",
    "        sim.sleep(expovariate(1))\n",
    "        for _ in range(randint(1,5)): # send a bunch\n",
    "            mb.send(num)\n",
    "            num += 1\n",
    "\n",
    "def get_one():\n",
    "    while True:\n",
    "        sim.sleep(1)\n",
    "        msg = mb.recv(isall=False)\n",
    "\n",
    "def get_all():\n",
    "    while True:\n",
    "        sim.sleep(5)\n",
    "        msgs = mb.recv()\n",
    "\n",
    "sim = simulus.simulator()\n",
    "dc = simulus.DataCollector(messages='timeseries(all)')\n",
    "mb = sim.mailbox(collect=dc)\n",
    "sim.process(generate)\n",
    "sim.process(get_one)\n",
    "sim.process(get_all)\n",
    "sim.run(22)\n",
    "dc.report(sim.now)\n"
   ]
  },
  {
   "cell_type": "code",
   "execution_count": 8,
   "metadata": {},
   "outputs": [
    {
     "data": {
      "image/png": "[encoded data removed]",
      "text/plain": [
       "<Figure size 432x288 with 1 Axes>"
      ]
     },
     "metadata": {
      "needs_background": "light"
     },
     "output_type": "display_data"
    }
   ],
   "source": [
    "import matplotlib.pyplot as plt\n",
    "\n",
    "msgs = dc.messages.data()\n",
    "plt.step(*zip(*msgs), where='post')\n",
    "plt.xlabel('time')\n",
    "plt.ylabel('number of messages')\n",
    "plt.show()\n"
   ]
  }
 ],
 "metadata": {
  "kernelspec": {
   "display_name": "Python 3",
   "language": "python",
   "name": "python3"
  },
  "language_info": {
   "codemirror_mode": {
    "name": "ipython",
    "version": 3
   },
   "file_extension": ".py",
   "mimetype": "text/x-python",
   "name": "python",
   "nbconvert_exporter": "python",
   "pygments_lexer": "ipython3",
   "version": "3.7.3"
  }
 },
 "nbformat": 4,
 "nbformat_minor": 2
}
