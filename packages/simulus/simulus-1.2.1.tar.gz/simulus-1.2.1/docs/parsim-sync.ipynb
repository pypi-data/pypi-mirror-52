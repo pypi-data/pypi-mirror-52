{
 "cells": [
  {
   "cell_type": "markdown",
   "metadata": {},
   "source": [
    "## Parallel and Distributed Simulaion"
   ]
  },
  {
   "cell_type": "markdown",
   "metadata": {},
   "source": [
    "Simulus supports parallel and distributed simulation via concurrent execution of multiple simulators. These simulators can be created and run simultaneously on different processors or cores on the same or different machines in a cluster. To distinguish the two cases, we use the term \"parallel simulation\" to refer to running simulation on shared-memory multiprocessors, and use the term \"distributed simulation\" to refer to running simulation on distributed-memory machines in a cluster. The use of these terms have not been standardized in the community. For example, people have been using the term \"parallel simulation\" to refer to both cases. \n",
    "\n",
    "To understand how simulus handles parallel and distributed simulation, we first introduce the concept of a synchronized group of simulators, where time advances synchronously among the simulators in the group. In addition, when a simulator belongs to a synchronized group, it can also communicate with the other simulators in the group. A synchronized group may consist of simulators running on multiprocessors or on parallel machines in a cluster. "
   ]
  },
  {
   "cell_type": "markdown",
   "metadata": {},
   "source": [
    "### Synchronized Group"
   ]
  },
  {
   "cell_type": "markdown",
   "metadata": {},
   "source": [
    "A synchronized group is a group of simulators whose simulation clocks will advance synchronously. That is, although each simulator still processes events on its own event list according to the timestamp ordering, the simulators in a synchronized group will advance their simulation clock in a coordinated fashion such that no one simulator will get too far ahead in simulation time from the rest of the simulators in the group. \n",
    "\n",
    "Here, synchronization or coordination must take place so as to guarantee that an event generated from one simulator destined for another simulator in the synchronized group would not arrive in the simulated past. This would happen, however, if the other simulator's clock gets too far ahead into the simulated future, so when other simulators generate messages destined for this simulator, these messages may arrive at the simulator's past. In parallel discrete-event simulation terminology, this is called a causality error. \n",
    "\n",
    "Causality error should never happen in simulation as long as we are modeling a world without time traveling. In parallel simulation, one has to contemplate the possibility of causality errors as simulators may executed on separate processors or cores, or even on separate machines. To solve the problem, one should either constrain the time advancement of the simulators to prevent causality errors from ever happening, or somehow rollback the simulators to an earlier state to correct the causality errors. \n",
    "\n",
    "The former is called \"conservative simulation\". The latter is called \"optimistic simulation\". Simulus implements the synchronized group using a conservative simulation approach. In this case, a synchronized group is created with a \"lookahead\", which dictates how far a simulator can advance its simulation clock ahead of the rest of the simulators in the group.\n",
    "\n",
    "Let's look at an example. First, let's create a couple of simulators:"
   ]
  },
  {
   "cell_type": "code",
   "execution_count": 1,
   "metadata": {},
   "outputs": [
    {
     "name": "stdout",
     "output_type": "stream",
     "text": [
      "'sim1' gets to 0.315117\n",
      "'sim1' gets to 0.498901\n",
      "'sim1' gets to 1.78212\n",
      "'sim1' gets to 2.46515\n",
      "'sim1' gets to 4.82285\n",
      "'sim2' gets to 0.414588\n",
      "'sim2' gets to 0.69689\n",
      "'sim2' gets to 1.67856\n",
      "'sim2' gets to 1.72484\n"
     ]
    }
   ],
   "source": [
    "import random, simulus\n",
    "random.seed(13579)\n",
    "\n",
    "def p(sim, mean_intv):\n",
    "    while True:\n",
    "        sim.sleep(random.expovariate(1/mean_intv))\n",
    "        print(\"'%s' gets to %g\" % (sim.name, sim.now))\n",
    "        \n",
    "sim1 = simulus.simulator('sim1')\n",
    "sim1.process(p, sim1, 1)\n",
    "\n",
    "sim2 = simulus.simulator('sim2')\n",
    "sim2.process(p, sim2, 0.5)\n",
    "\n",
    "sim1.run(5)\n",
    "sim2.run(2)"
   ]
  },
  {
   "cell_type": "markdown",
   "metadata": {},
   "source": [
    "The two simulators, `sim1` and `sim2`, each runs one process starting from the same function `p()`, which takes two arguments: the simulator instance and the mean sleep interval. The process simply sleeps for some random time, which is exponentially distributed with the given mean, prints out a message, and then repeats.\n",
    "\n",
    "We run both simulators separately, one to time 5 and the other to time 2. As expected, both simulators advance their simulation time separately. Their simulation time is not synchronized or coordinated."
   ]
  },
  {
   "cell_type": "code",
   "execution_count": 2,
   "metadata": {},
   "outputs": [
    {
     "data": {
      "text/plain": [
       "(5, 2)"
      ]
     },
     "execution_count": 2,
     "metadata": {},
     "output_type": "execute_result"
    }
   ],
   "source": [
    "sim1.now, sim2.now"
   ]
  },
  {
   "cell_type": "markdown",
   "metadata": {},
   "source": [
    "We now create a synchronized group to include both simulators above. This can be done by calling `sync()` and pass as the parameter either a list of names of the simulators or a list of simulator instances. `sync()` will first bring all simulators in the group to synchrony by advancing the simulation time of the simulators in the group independently to the maximum simulation time among all simulators (that's 5, in our example). "
   ]
  },
  {
   "cell_type": "code",
   "execution_count": 3,
   "metadata": {},
   "outputs": [
    {
     "name": "stdout",
     "output_type": "stream",
     "text": [
      "'sim2' gets to 3.4852\n",
      "'sim2' gets to 3.672\n",
      "'sim2' gets to 4.11777\n"
     ]
    }
   ],
   "source": [
    "# this cell can be run only once, because each simulator\n",
    "# can belong to only one synchronized group and the \n",
    "# membership is immutable; one has to restart the \n",
    "# notebook's kernel in order to to run this cell again\n",
    "g = simulus.sync([sim1, 'sim2'], lookahead=2)"
   ]
  },
  {
   "cell_type": "markdown",
   "metadata": {},
   "source": [
    "We see that `sim2` gets to advance its simulation from time 2 to 5. Both simulators' current simulation time should be 5 by now. To find out about the current simulation time, we can either inspect each simulator's `now` variable, or using the `now` variable provided by the synchronized group. "
   ]
  },
  {
   "cell_type": "code",
   "execution_count": 4,
   "metadata": {},
   "outputs": [
    {
     "data": {
      "text/plain": [
       "(5, 5, 5)"
      ]
     },
     "execution_count": 4,
     "metadata": {},
     "output_type": "execute_result"
    }
   ],
   "source": [
    "sim1.now, sim2.now, g.now"
   ]
  },
  {
   "cell_type": "markdown",
   "metadata": {},
   "source": [
    "From now on, both simulators are bound to the synchronized group. That is, their simulation time will be advanced synchronously. In the above example, when we call `sync()`, we have also specified the lookahead to be 2. That is, the simulation clock of one simulator will never gets ahead of the other by more than 2. A more technical definition is that the lookahead is the maximum difference in simulation time of the next events of the simulators. (Later we will see that we don't need to specify the lookahead at all when creating the synchronized group; simulus calculates the lookahead automatically).\n",
    "\n",
    "We can now run all simulators together using the `run()` method of the synchronized group. The method is similar to the simulator's `run()` method. The user can specify either 'offset' or 'until' (but not both). Each simulator will process their events in timestamp order up to the given time, and yet the simulators are guaranteed not to get too far ahead of the other simulators in the group as dictated by the lookahead. Simulus handles the synchronization, so that when messages are sent between the simulators (described in the next section), the messages will not produce causality errors."
   ]
  },
  {
   "cell_type": "code",
   "execution_count": 5,
   "metadata": {},
   "outputs": [
    {
     "name": "stdout",
     "output_type": "stream",
     "text": [
      "'sim1' gets to 5.20161\n",
      "'sim1' gets to 5.2917\n",
      "'sim1' gets to 5.77787\n",
      "'sim1' gets to 5.79523\n",
      "'sim2' gets to 5.84559\n",
      "'sim2' gets to 5.90297\n",
      "'sim2' gets to 6.00801\n",
      "'sim2' gets to 6.09771\n",
      "'sim2' gets to 6.7076\n",
      "'sim2' gets to 6.7555\n",
      "'sim1' gets to 7.84578\n",
      "'sim1' gets to 8.35717\n",
      "'sim1' gets to 8.55197\n",
      "'sim1' gets to 8.76079\n",
      "'sim2' gets to 7.53865\n",
      "'sim2' gets to 8.68613\n",
      "'sim2' gets to 9.35494\n"
     ]
    }
   ],
   "source": [
    "# 5 is the offset (as a positional argument)\n",
    "g.run(5)"
   ]
  },
  {
   "cell_type": "markdown",
   "metadata": {},
   "source": [
    "We see that both simulators gets to run from time 5 to time 10. But since the lookahead is 2, the simulators don't gets too far ahead of the others. And eventually both simulators reach time 10."
   ]
  },
  {
   "cell_type": "code",
   "execution_count": 6,
   "metadata": {},
   "outputs": [
    {
     "data": {
      "text/plain": [
       "(10, 10, 10)"
      ]
     },
     "execution_count": 6,
     "metadata": {},
     "output_type": "execute_result"
    }
   ],
   "source": [
    "sim1.now, sim2.now, g.now"
   ]
  },
  {
   "cell_type": "markdown",
   "metadata": {},
   "source": [
    "### Communication among Simulators"
   ]
  },
  {
   "cell_type": "markdown",
   "metadata": {},
   "source": [
    "There's no obviously advantage for having multiple simulators in a synchronized group unless we want to have them participate in a larger model with each simulator modeling a component of the system. For example, when simulating a computer system, we could have one or more simulators to model the processor cores, one to model the memory, one for each I/O devices, and so on. To be part of a large model, the simulators need to communicate by sending timestamped messages to each other.\n",
    "\n",
    "Simulus facilitates communication between simulators through mailboxes. Recall a mailbox in simulus is a facility for message passing between processes or functions. A mailbox consists of one or more compartments or partitions. A sender can send a message to one of the partitions of a mailbox with a specified delay. The messages are delivered to the designated mailboxes at the expected time. The messages are stored in the designated partitions until a receiver retrieves them and removes them from the mailbox.\n",
    "\n",
    "Simulators in a synchronized group can send messages to named mailboxes that belong to other simulators. A message in simulus takes a broader meaning: a message could be any Python object as long as it's pickle-able. This is because, as we will see, the simulators can potentially run in different processes (with different Python interpreters) and also on separate machines. Simulus depends on the 'pickle' module to serialize and deserialize the Python objects.\n",
    "\n",
    "In the following example, we create two simulators each having a mailbox. A ping-pong message will be sent back and forth between the two simulators."
   ]
  },
  {
   "cell_type": "code",
   "execution_count": 7,
   "metadata": {},
   "outputs": [
    {
     "name": "stdout",
     "output_type": "stream",
     "text": [
      "1: 'sim1' rcvd msg 'ping'\n",
      "2: 'sim2' rcvd msg 'pong'\n",
      "3: 'sim1' rcvd msg 'ping'\n",
      "4: 'sim2' rcvd msg 'pong'\n",
      "5: 'sim1' rcvd msg 'ping'\n",
      "6: 'sim2' rcvd msg 'pong'\n",
      "7: 'sim1' rcvd msg 'ping'\n",
      "8: 'sim2' rcvd msg 'pong'\n",
      "9: 'sim1' rcvd msg 'ping'\n"
     ]
    }
   ],
   "source": [
    "# %load \"../examples/advanced/pingpong.py\"\n",
    "import simulus\n",
    "\n",
    "def p(sim, mbox, mbname):\n",
    "    while True:\n",
    "        msg = mbox.recv(isall=False)\n",
    "        print(\"%g: '%s' rcvd msg '%s'\" % (sim.now, sim.name, msg))\n",
    "        sim.sync().send(sim, mbname, 'pong' if msg=='ping' else 'ping')\n",
    "        \n",
    "sim1 = simulus.simulator('sim1')\n",
    "mb1 = sim1.mailbox('mb1', 1)\n",
    "sim1.process(p, sim1, mb1, 'mb2')\n",
    "\n",
    "sim2 = simulus.simulator('sim2')\n",
    "mb2 = sim2.mailbox('mb2', 1)\n",
    "sim2.process(p, sim2, mb2, 'mb1')\n",
    "\n",
    "mb1.send('ping') # send initial message to start ping-ponging\n",
    "\n",
    "g = simulus.sync([sim1, sim2])\n",
    "g.run(10)\n"
   ]
  },
  {
   "cell_type": "markdown",
   "metadata": {},
   "source": [
    "In the above example, each simulator creates a mailbox with a distinct name. Each mailbox also has a 'min_delay', which, as the name suggests, is the minimum delay for which messages are expected to be delivered to the mailbox. Simulus uses the min_delay of all the named mailboxes in the synchronized group to calculate the lookahead. \n",
    "\n",
    "It is required that the min_delay of all named mailboxes for the simulators in the synchronized group be strictly positive. The overhead of parallel simulation is directly related to the size of the lookahead. In general, a larger min_delay is always preferable. A larger min_delay for mailboxes would mean a larger lookahead; and a larger lookahead would entail less synchronization overhead and therefore better parallel performance.\n",
    "\n",
    "The simulators communicate by sending messages using the `send()` method of the synchronized group to which they belong. (A simulator can find its synchronized group using the `sync()` method.) The `send()` method of the synchronized group takes at least three arguments: 'sim' is the simulator from which the message will be sent; 'name' is the name of the mailbox to which the message is expected to be delivered (the mailbox has to belong to one of the simulators in the group), 'msg' is the message itself, which can be any Python object as long as it's pickle-able (a message cannot be None). Optionally, one can specify the 'delay' of the message. If it is ignored, the delay will be set to be the min_delay of the target mailbox; if it is set, the delay value must not be smaller than the min_delay of the mailbox. One can also specify the parameter 'part', which is the partition number of the mailbox to which the message will be delivered; the default is zero.\n",
    "\n",
    "In the example, the process at each simulator directly uses the `recv()` method of the mailbox to receive the messages. This method must be called within a process context (in a starting function of a process or at a function called directly or indirectly from the starting function). If the mailbox partition is empty when the call is made, the process will be put on hold until a message arrives. When this method returns, at least one message will be retrieved from the mailbox. It will return a list containing all the messages currently stored at the mailbox partition, if 'isall' is True (by default). If 'isall' is False, this method returns only the first arrived message (not wrapped in a list)."
   ]
  },
  {
   "cell_type": "markdown",
   "metadata": {},
   "source": [
    "### Parallel Simulation on Shared-Memory Multiprocessors"
   ]
  },
  {
   "cell_type": "markdown",
   "metadata": {},
   "source": [
    "A synchronized group of simulators can run sequentially (as shown in the previous section) or in parallel. In the latter case, they can run on shared-memory multiprocessors, or on distributed-memory machines in a cluster, or a combination of both. \n",
    "\n",
    "Most computers today are shared-memory multiprocessors. A computer with multiple CPUs or cores can support parallel execution of multiple processes. For example, my laptop has one CPU with two cores. With hyper-threading enabled, the machine in theory has four \"processors\" for parallel execution. \n",
    "\n",
    "To take advantage of parallel simulation, we need to set `enable_smp` to be True when we create the synchronized group. In that case, simulus will automatically fork separate processes to run the simulators in the group. By default, simulus will use as many processes as the number of \"processors\" (four on my laptop) to run the simulators. If there are more simulators in the synchronized group than the processors, simulus tries to evenly divide the simulators among the processors, in which case each processor may run multiple simulators. If the number of simulators is less than the number of processors, each simulator will run as a separate process and each process will run on a different processor.\n",
    "\n",
    "In the following example, we run the ping-pong example on shared-memory multiprocessors. The main difference here from the previous example is that we set `enable_smp` to be True when calling `sync()`. We also set `show_runtime_report` to be True so that we view the performance report of the simulation run."
   ]
  },
  {
   "cell_type": "code",
   "execution_count": 8,
   "metadata": {},
   "outputs": [
    {
     "name": "stdout",
     "output_type": "stream",
     "text": [
      "2: 'sim2' rcvd msg 'pong'\n",
      "4: 'sim2' rcvd msg 'pong'\n",
      "6: 'sim2' rcvd msg 'pong'\n",
      "8: 'sim2' rcvd msg 'pong'\n",
      "1: 'sim1' rcvd msg 'ping'\n",
      "3: 'sim1' rcvd msg 'ping'\n",
      "5: 'sim1' rcvd msg 'ping'\n",
      "7: 'sim1' rcvd msg 'ping'\n",
      "9: 'sim1' rcvd msg 'ping'\n",
      "*********** sync group performance metrics ***********\n",
      "partitioning information (simulator assignment):\n",
      "  'sim1' on rank 0 proc 0\n",
      "  'sim2' on rank 0 proc 1\n",
      "execution time: 0.0464962\n",
      "scheduled events: 12 (rate=258.086)\n",
      "executed events: 11 (rate=236.579)\n",
      "cancelled events: 0\n",
      "created processes: 2\n",
      "finished processes: 0\n",
      "cancelled processes: 0\n",
      "process context switches: 11\n"
     ]
    }
   ],
   "source": [
    "# %load \"../examples/advanced/pingpong-smp.py\"\n",
    "import simulus\n",
    "\n",
    "def p(sim, mbox, mbname):\n",
    "    while True:\n",
    "        msg = mbox.recv(isall=False)\n",
    "        print(\"%g: '%s' rcvd msg '%s'\" % (sim.now, sim.name, msg))\n",
    "        sim.sync().send(sim, mbname, 'pong' if msg=='ping' else 'ping')\n",
    "        \n",
    "sim1 = simulus.simulator('sim1')\n",
    "mb1 = sim1.mailbox('mb1', 1)\n",
    "sim1.process(p, sim1, mb1, 'mb2')\n",
    "\n",
    "sim2 = simulus.simulator('sim2')\n",
    "mb2 = sim2.mailbox('mb2', 1)\n",
    "sim2.process(p, sim2, mb2, 'mb1')\n",
    "\n",
    "mb1.send('ping') # send initial message to start ping-ponging\n",
    "\n",
    "g = simulus.sync([sim1, sim2], enable_smp=True)\n",
    "g.run(10, show_runtime_report=True)\n"
   ]
  },
  {
   "cell_type": "markdown",
   "metadata": {},
   "source": [
    "We note that the output is no longer in strict ordering according to what is happening in time. We have two simulators running on separate processes. The print-out from the two processes are buffered separately by the Python system and mixed together in the standard output. We see, however, the output from each process is still in the proper order. \n",
    "\n",
    "The performance report shows that the two simulators are assigned to separate processes ('proc 0' and 'proc 1'). They are both running on rank 0 (this machine). In the next section, we discuss how to run simulus on parallel machines in a cluster using MPI.\n",
    "\n",
    "In the following example, we show a situation where there are more than two simulators. More specifically, we create 15 simulators and organize them in a ring. A simulator receives a message ('hello') from the previous simulator in the ring and forwards the message to the next one in the ring. "
   ]
  },
  {
   "cell_type": "code",
   "execution_count": 9,
   "metadata": {},
   "outputs": [
    {
     "name": "stdout",
     "output_type": "stream",
     "text": [
      "1: 'sim0' rcvd msg 'hello'\n",
      "2: 'sim1' rcvd msg 'hello'\n",
      "3: 'sim2' rcvd msg 'hello'\n",
      "4: 'sim3' rcvd msg 'hello'\n",
      "5: 'sim4' rcvd msg 'hello'\n",
      "6: 'sim5' rcvd msg 'hello'\n",
      "7: 'sim6' rcvd msg 'hello'\n",
      "8: 'sim7' rcvd msg 'hello'\n",
      "9: 'sim8' rcvd msg 'hello'\n",
      "10: 'sim9' rcvd msg 'hello'\n",
      "11: 'sim10' rcvd msg 'hello'\n",
      "12: 'sim11' rcvd msg 'hello'\n",
      "13: 'sim12' rcvd msg 'hello'\n",
      "14: 'sim13' rcvd msg 'hello'\n",
      "*********** sync group performance metrics ***********\n",
      "partitioning information (simulator assignment):\n",
      "  'sim0' on rank 0 proc 0\n",
      "  'sim1' on rank 0 proc 0\n",
      "  'sim2' on rank 0 proc 0\n",
      "  'sim3' on rank 0 proc 0\n",
      "  'sim4' on rank 0 proc 1\n",
      "  'sim5' on rank 0 proc 1\n",
      "  'sim6' on rank 0 proc 1\n",
      "  'sim7' on rank 0 proc 1\n",
      "  'sim8' on rank 0 proc 2\n",
      "  'sim9' on rank 0 proc 2\n",
      "  'sim10' on rank 0 proc 2\n",
      "  'sim11' on rank 0 proc 2\n",
      "  'sim12' on rank 0 proc 3\n",
      "  'sim13' on rank 0 proc 3\n",
      "  'sim14' on rank 0 proc 3\n",
      "execution time: 0.100925\n",
      "scheduled events: 30 (rate=297.251)\n",
      "executed events: 29 (rate=287.342)\n",
      "cancelled events: 0\n",
      "created processes: 15\n",
      "finished processes: 0\n",
      "cancelled processes: 0\n",
      "process context switches: 29\n"
     ]
    }
   ],
   "source": [
    "# %load \"../examples/advanced/ring-smp.py\"\n",
    "import simulus\n",
    "\n",
    "from functools import partial\n",
    "print = partial(print, flush=True)\n",
    "\n",
    "def p(sim, idx, mbox):\n",
    "    while True:\n",
    "        msg = mbox.recv(isall=False)\n",
    "        print(\"%g: '%s' rcvd msg '%s'\" % (sim.now, sim.name, msg))\n",
    "        sim.sync().send(sim, 'mb%d'% ((idx+1)%nnodes), msg)\n",
    "        \n",
    "nnodes = 15\n",
    "sims = []\n",
    "for i in range(nnodes):\n",
    "    sim = simulus.simulator('sim%d'%i)\n",
    "    sims.append(sim)\n",
    "    mbox = sim.mailbox('mb%d'%i, 1)\n",
    "    sim.process(p, sim, i, mbox)\n",
    "\n",
    "g = simulus.sync(sims, enable_smp=True)\n",
    "g.send(sims[0], 'mb0', 'hello') # send initial message to start circulation\n",
    "g.run(10)\n",
    "g.run(5, show_runtime_report=True)\n"
   ]
  },
  {
   "cell_type": "markdown",
   "metadata": {},
   "source": [
    "In this example, in order to sort the print-outs according to the time it is generated, we flush the output of the print function by redefining it using the `partial` function. Just for demonstration, we also call `run()` twice, once with 'offset' (as the default positional argument) being 10 and the other time with 'offset' being 5. That is, accumulatively, we run the simulation for a total of 15.\n",
    "\n",
    "The final performance report shows that, on my laptop, the simulators are evenly partitioned into four groups: 'sim0' to 'sim3' on 'proc 0', 'sim4' to sim7' on 'proc 1', so on and so forth. The assignment is done automatically by simulus using a block decomposition scheme (where neighboring simulators are assigned to the same processors if possible).\n",
    "\n",
    "We can control the number of SMP processes used for parallel simulation by setting the `smp_ways` parameter when creating the synchronized group. In the following, we use the same example except that each simulator now runs on a separate \"processor\". If the number of simulators is larger than the physical processors on the machine, the system is going to multiplex them onto the physical processors.  "
   ]
  },
  {
   "cell_type": "code",
   "execution_count": 10,
   "metadata": {},
   "outputs": [
    {
     "name": "stdout",
     "output_type": "stream",
     "text": [
      "1: 'sim0' rcvd msg 'hello'\n",
      "2: 'sim1' rcvd msg 'hello'\n",
      "3: 'sim2' rcvd msg 'hello'\n",
      "4: 'sim3' rcvd msg 'hello'\n",
      "5: 'sim4' rcvd msg 'hello'\n",
      "6: 'sim5' rcvd msg 'hello'\n",
      "7: 'sim6' rcvd msg 'hello'\n",
      "8: 'sim7' rcvd msg 'hello'\n",
      "9: 'sim8' rcvd msg 'hello'\n",
      "10: 'sim9' rcvd msg 'hello'\n",
      "11: 'sim10' rcvd msg 'hello'\n",
      "12: 'sim11' rcvd msg 'hello'\n",
      "13: 'sim12' rcvd msg 'hello'\n",
      "14: 'sim13' rcvd msg 'hello'\n",
      "*********** sync group performance metrics ***********\n",
      "partitioning information (simulator assignment):\n",
      "  'sim0' on rank 0 proc 0\n",
      "  'sim1' on rank 0 proc 1\n",
      "  'sim2' on rank 0 proc 2\n",
      "  'sim3' on rank 0 proc 3\n",
      "  'sim4' on rank 0 proc 4\n",
      "  'sim5' on rank 0 proc 5\n",
      "  'sim6' on rank 0 proc 6\n",
      "  'sim7' on rank 0 proc 7\n",
      "  'sim8' on rank 0 proc 8\n",
      "  'sim9' on rank 0 proc 9\n",
      "  'sim10' on rank 0 proc 10\n",
      "  'sim11' on rank 0 proc 11\n",
      "  'sim12' on rank 0 proc 12\n",
      "  'sim13' on rank 0 proc 13\n",
      "  'sim14' on rank 0 proc 14\n",
      "execution time: 0.308509\n",
      "scheduled events: 30 (rate=97.2418)\n",
      "executed events: 29 (rate=94.0004)\n",
      "cancelled events: 0\n",
      "created processes: 15\n",
      "finished processes: 0\n",
      "cancelled processes: 0\n",
      "process context switches: 29\n"
     ]
    }
   ],
   "source": [
    "import simulus\n",
    "\n",
    "from functools import partial\n",
    "print = partial(print, flush=True)\n",
    "\n",
    "def p(sim, idx, mbox):\n",
    "    while True:\n",
    "        msg = mbox.recv(isall=False)\n",
    "        print(\"%g: '%s' rcvd msg '%s'\" % (sim.now, sim.name, msg))\n",
    "        sim.sync().send(sim, 'mb%d'% ((idx+1)%nnodes), msg)\n",
    "        \n",
    "nnodes = 15\n",
    "sims = []\n",
    "for i in range(nnodes):\n",
    "    sim = simulus.simulator('sim%d'%i)\n",
    "    sims.append(sim)\n",
    "    mbox = sim.mailbox('mb%d'%i, 1)\n",
    "    sim.process(p, sim, i, mbox)\n",
    "\n",
    "g = simulus.sync(sims, enable_smp=True, smp_ways=len(sims))\n",
    "g.send(sims[0], 'mb0', 'hello') # send initial message to start circulation\n",
    "g.run(15, show_runtime_report=True)\n"
   ]
  },
  {
   "cell_type": "markdown",
   "metadata": {},
   "source": [
    "### Distributed Simulation Using MPI"
   ]
  },
  {
   "cell_type": "markdown",
   "metadata": {},
   "source": [
    "Running parallel simulation on a single machine has its obvious limitations. First, the number of processors available on one machine is small, which would severely limit the level of parallelism and therefore the achievable speedup. Theoretically, with even perfect parallelism, it would be impossible for parallel simulation on 16 processors to achieve a speedup beyond 16.  Second, the amount of memory available on one machine is very limited. Large-scale simulation commonly consumes an enormous amount of memory and therefore would not fit on a single machine. Last, modern parallel architectures are popular with high-end clusters which consist of a large number of distributed-memory computing servers connected via high-speed interconnect. \n",
    "\n",
    "Simulus supports distributed simulation allowing the synchronized group of simulators to be instantiated and run on a parallel cluster. When running on parallel machines, simulus instances need to communicate using the Message-Passing Interface (MPI) under the hood."
   ]
  },
  {
   "cell_type": "markdown",
   "metadata": {},
   "source": [
    "#### MPI for Python (MPI4Py)"
   ]
  },
  {
   "cell_type": "markdown",
   "metadata": {},
   "source": [
    "The Message Passing Interface (MPI) is the de facto standard library for communication on parallel computers. The MPI standard defines common message-passing functions and data types, which allow users to write portable scientific code in C/C++ or Fortran.  \n",
    "\n",
    "[MPI4Py](https://mpi4py.readthedocs.io/en/stable/index.html) (or MPI for Python) provides a Python interface for MPI. It translates the syntax and semantics of standard MPI version 2 bindings for C++ to Python. Simulus uses MPI4Py as the communication substrate to support message passing among the simulator instances running on parallel computers. It is important to note that simulus users do not use MPI or MPI4Py directly. MPI functions under the hood. However, one does need to install MPI and MPI4Py so that simulus is able to take advantage of the MPI functions.\n",
    "\n",
    "There are several popular MPI implementation, such as [MPICH](https://www.mpich.org) and [OpenMPI](https://www.open-mpi.org). Refer to the specific implementation for installation instructions. Many parallel computers should already have MPI installed. \n",
    "\n",
    "MPI4Py requires a working MPI implementation before it can be installed. If that's already done, MPI4Py can be easily installed using pip. For example:\n",
    "\n",
    "```\n",
    "python -m pip install --user mpi4py\n",
    "```\n",
    "\n",
    "For the rest of this section, we assume that you have already installed MPI4Py on your machine."
   ]
  },
  {
   "cell_type": "markdown",
   "metadata": {},
   "source": [
    "#### Single Program Multiple Data (SPMD)"
   ]
  },
  {
   "cell_type": "markdown",
   "metadata": {},
   "source": [
    "Single Program Multiple Data (SPMD) is the most common parallel programming paradigm. In SPMD, multiple machines simultaneously execute the same program, each operating on a different input or a different portion of the same data. Each machine is identified with a rank, which is an integer that ranges from 0 to the total number of machines minus one. Note that we use the word 'machine' here to generally refer to an MPI process. An MPI process is actually just a regular process that uses MPI routines for communication. One can create as many MPI processes as needed, which can be mapped to the parallel computers on which applications are run. MPI provides methods to create the mapping: one can map each MPI process to a separate computer; one can also map multiple MPI processes onto one computer (say, one corresponding to each processor or core).\n",
    "\n",
    "Simulus offers an SPMD programming style for distributed simulation on parallel computers, which can also be combined with shared-memory multiprocessing as we described in the previous section. Each simulus instance runs as an MPI process. One can create as many simulus instances as needed. Each simulus instance is identified by a rank, which is an integer that ranges from 0 to the total number of simulus instances. The simulus instances are mapped by MPI onto the parallel computers for large-scale models, say one on each physical machine. Each simulus instance can also create multiple processes, say one for each processor core.\n",
    "\n",
    "The following example shows how the simulus instances are identified when running the same Python program. One can get the rank and the total number of simulus instances, using the static methods: `comm_rank()` and `comm_size()`, both defined in `sync`. "
   ]
  },
  {
   "cell_type": "code",
   "execution_count": 11,
   "metadata": {},
   "outputs": [
    {
     "name": "stdout",
     "output_type": "stream",
     "text": [
      "rank=0, psize=1\n"
     ]
    }
   ],
   "source": [
    "# %load '../examples/advanced/whoami.py'\n",
    "import simulus\n",
    "\n",
    "rank = simulus.sync.comm_rank()\n",
    "psize = simulus.sync.comm_size()\n",
    "\n",
    "print('rank=%d, psize=%d' % (rank, psize))\n"
   ]
  },
  {
   "cell_type": "markdown",
   "metadata": {},
   "source": [
    "If we simply run this script (shift-enter in Jupyter notebook), we will get rank=0 and psize=1. By default, simulus is running as a standalone program, meaning that there is no distributed simulation and there is only one simulus instance. \n",
    "\n",
    "If we opt to use distributed simulation, we need to run the script using either `mpiexec` or `mpirun` command. The `-np 4` argument means that we are running four MPI processes (i.e., four simulus instances). They are ranked from 0 to 3."
   ]
  },
  {
   "cell_type": "code",
   "execution_count": 12,
   "metadata": {},
   "outputs": [
    {
     "name": "stdout",
     "output_type": "stream",
     "text": [
      "rank=1, psize=4\r\n",
      "rank=2, psize=4\r\n",
      "rank=3, psize=4\r\n",
      "rank=0, psize=4\r\n"
     ]
    }
   ],
   "source": [
    "!mpiexec -np 4 python ../examples/advanced/whoami.py -x"
   ]
  },
  {
   "cell_type": "markdown",
   "metadata": {},
   "source": [
    "The '-x' option is important here. It tells simulus that we are running the script using MPI. Without it, simulus would simply run as standalone (the default) and it would be similar to making four separate simulation runs, as opposed to running one simulation with four simulus instances operating in parallel."
   ]
  },
  {
   "cell_type": "code",
   "execution_count": 13,
   "metadata": {},
   "outputs": [
    {
     "name": "stdout",
     "output_type": "stream",
     "text": [
      "rank=0, psize=1\r\n",
      "rank=0, psize=1\r\n",
      "rank=0, psize=1\r\n",
      "rank=0, psize=1\r\n"
     ]
    }
   ],
   "source": [
    "!mpiexec -np 4 python ../examples/advanced/whoami.py"
   ]
  },
  {
   "cell_type": "markdown",
   "metadata": {},
   "source": [
    "In the next example, we extend the ring example from the previous section and create an SPMD version for distributed simulation. Recall that the model creates 15 simulators organized as a ring and passes a \"hello\" message around the ring."
   ]
  },
  {
   "cell_type": "raw",
   "metadata": {
    "raw_mimetype": "text/x-python"
   },
   "source": [
    "# ../examples/advanced/ring-spmd.py\n",
    "import simulus\n",
    "\n",
    "from functools import partial\n",
    "print = partial(print, flush=True)\n",
    "\n",
    "rank = simulus.sync.comm_rank()\n",
    "psize = simulus.sync.comm_size()\n",
    "\n",
    "def p(sim, idx, mbox):\n",
    "    while True:\n",
    "        msg = mbox.recv(isall=False)\n",
    "        print(\"%g: '%s' rcvd msg '%s'\" % (sim.now, sim.name, msg))\n",
    "        sim.sync().send(sim, 'mb%d'% ((idx+1)%nnodes), msg)\n",
    "        \n",
    "nnodes = 15\n",
    "sims = []\n",
    "for i in range(rank, nnodes, psize):\n",
    "    sim = simulus.simulator('sim%d'%i)\n",
    "    sims.append(sim)\n",
    "    mbox = sim.mailbox('mb%d'%i, 1)\n",
    "    sim.process(p, sim, i, mbox)\n",
    "\n",
    "g = simulus.sync(sims, enable_spmd=True)\n",
    "\n",
    "if rank > 0: \n",
    "    g.run()\n",
    "else:\n",
    "    g.send(sims[0], 'mb0', 'hello') # send initial message to start circulation\n",
    "    g.run(5)\n",
    "    g.run(10, show_runtime_report=True)"
   ]
  },
  {
   "cell_type": "markdown",
   "metadata": {},
   "source": [
    "The same program shall be run by all simulus instances. For each instance, we first find out its rank and the total number of simulus instances. The 15 simulators shall be divided among the simulus instances. For example, if we run the program on four MPI processes, each MPI process (which corresponds to one simulus instance) will need to create and run 3 or 4 simulators. \n",
    "\n",
    "In this example, rank 0 will be responsible for simulator 0, 4, 8, and 12; rank 1 will be responsible for simulator 1, 5, 9, and 13; rank 2 will be responsible for simulator 2, 6, 10, and 14; and finally rank 3 will be responsible for simulator 3, 7, and 11. This is called \"cyclic data decomposition\". The simulators are divided among the simulus instances in a round-robin fashion. (Later we will use another method called \"block data decomposition\").\n",
    "\n",
    "We create a synchronized group like before; however at this time, each simulus instance only presents a list of simulators created by the instance; and we set `enable_spmd` to be True. \n",
    "\n",
    "If the rank of the simulus instance is greater than zero, it is what we call a 'worker instance'. In this case, one needs to run the simulation using `run()` without passing any arguments. If the rank of the simulus instance is zero, it is what we call a 'manager/worker instance'. In this case, one can call `run()` and provide as an argument the end simulation time using 'offset' (it's the default positional argument) or 'until'. One can also choose to view the performance of the entire simulation run by setting `show_runtime_report` to be True, like before."
   ]
  },
  {
   "cell_type": "code",
   "execution_count": 14,
   "metadata": {},
   "outputs": [
    {
     "name": "stdout",
     "output_type": "stream",
     "text": [
      "1: 'sim0' rcvd msg 'hello'\r\n",
      "2: 'sim1' rcvd msg 'hello'\r\n",
      "3: 'sim2' rcvd msg 'hello'\r\n",
      "4: 'sim3' rcvd msg 'hello'\r\n",
      "5: 'sim4' rcvd msg 'hello'\r\n",
      "6: 'sim5' rcvd msg 'hello'\r\n",
      "7: 'sim6' rcvd msg 'hello'\r\n",
      "8: 'sim7' rcvd msg 'hello'\r\n",
      "9: 'sim8' rcvd msg 'hello'\r\n",
      "10: 'sim9' rcvd msg 'hello'\r\n",
      "11: 'sim10' rcvd msg 'hello'\r\n",
      "12: 'sim11' rcvd msg 'hello'\r\n",
      "13: 'sim12' rcvd msg 'hello'\r\n",
      "14: 'sim13' rcvd msg 'hello'\r\n",
      "*********** sync group performance metrics ***********\r\n",
      "partitioning information (simulator assignment):\r\n",
      "  'sim0' on rank 0 proc 0\r\n",
      "  'sim4' on rank 0 proc 0\r\n",
      "  'sim8' on rank 0 proc 0\r\n",
      "  'sim12' on rank 0 proc 0\r\n",
      "  'sim1' on rank 1 proc 0\r\n",
      "  'sim5' on rank 1 proc 0\r\n",
      "  'sim9' on rank 1 proc 0\r\n",
      "  'sim13' on rank 1 proc 0\r\n",
      "  'sim2' on rank 2 proc 0\r\n",
      "  'sim6' on rank 2 proc 0\r\n",
      "  'sim10' on rank 2 proc 0\r\n",
      "  'sim14' on rank 2 proc 0\r\n",
      "  'sim3' on rank 3 proc 0\r\n",
      "  'sim7' on rank 3 proc 0\r\n",
      "  'sim11' on rank 3 proc 0\r\n",
      "execution time: 0.0184951\r\n",
      "scheduled events: 30 (rate=1622.05)\r\n",
      "executed events: 29 (rate=1567.98)\r\n",
      "cancelled events: 0\r\n",
      "created processes: 15\r\n",
      "finished processes: 0\r\n",
      "cancelled processes: 0\r\n",
      "process context switches: 29\r\n"
     ]
    }
   ],
   "source": [
    "!mpiexec -np 4 python ../examples/advanced/ring-spmd.py -x"
   ]
  },
  {
   "cell_type": "markdown",
   "metadata": {},
   "source": [
    "Again, the output of the simulation may be mixed together, since the simulus instances are run concurrently. The performance report shows the assignment of the simulators, as expected.\n",
    "\n",
    "We can combine SPMD and SMP simulation so that one can run simulation on parallel clusters that consist of shared-memory multiprocessors. It's only a single-line change (when we create the synchronized group):"
   ]
  },
  {
   "cell_type": "raw",
   "metadata": {
    "raw_mimetype": "text/x-python"
   },
   "source": [
    "# ../examples/advanced/ring-spmd-smp.py\n",
    "import simulus\n",
    "\n",
    "from functools import partial\n",
    "print = partial(print, flush=True)\n",
    "\n",
    "rank = simulus.sync.comm_rank()\n",
    "psize = simulus.sync.comm_size()\n",
    "\n",
    "def p(sim, idx, mbox):\n",
    "    while True:\n",
    "        msg = mbox.recv(isall=False)\n",
    "        print(\"%g: '%s' rcvd msg '%s'\" % (sim.now, sim.name, msg))\n",
    "        sim.sync().send(sim, 'mb%d'% ((idx+1)%nnodes), msg)\n",
    "        \n",
    "nnodes = 15\n",
    "sims = []\n",
    "for i in range(rank, nnodes, psize):\n",
    "    sim = simulus.simulator('sim%d'%i)\n",
    "    sims.append(sim)\n",
    "    mbox = sim.mailbox('mb%d'%i, 1)\n",
    "    sim.process(p, sim, i, mbox)\n",
    "\n",
    "g = simulus.sync(sims, enable_spmd=True, enable_smp=True)\n",
    "\n",
    "if rank > 0: \n",
    "    g.run()\n",
    "else:\n",
    "    g.send(sims[0], 'mb0', 'hello') # send initial message to start circulation\n",
    "    g.run(5)\n",
    "    g.run(10, show_runtime_report=True)\n"
   ]
  },
  {
   "cell_type": "markdown",
   "metadata": {},
   "source": [
    "When we run the simulation, the performance result shows the assignment of the simulators, including both the instance rank and the process id for each simulator. In the following, we see that the simulators are assigned to four simulus instances, rank 0 to rank 3. On each rank, the simulators are assigned to different processes."
   ]
  },
  {
   "cell_type": "code",
   "execution_count": 15,
   "metadata": {},
   "outputs": [
    {
     "name": "stdout",
     "output_type": "stream",
     "text": [
      "1: 'sim0' rcvd msg 'hello'\n",
      "2: 'sim1' rcvd msg 'hello'\n",
      "3: 'sim2' rcvd msg 'hello'\n",
      "4: 'sim3' rcvd msg 'hello'\n",
      "5: 'sim4' rcvd msg 'hello'\n",
      "6: 'sim5' rcvd msg 'hello'\n",
      "7: 'sim6' rcvd msg 'hello'\n",
      "8: 'sim7' rcvd msg 'hello'\n",
      "9: 'sim8' rcvd msg 'hello'\n",
      "10: 'sim9' rcvd msg 'hello'\n",
      "11: 'sim10' rcvd msg 'hello'\n",
      "12: 'sim11' rcvd msg 'hello'\n",
      "13: 'sim12' rcvd msg 'hello'\n",
      "14: 'sim13' rcvd msg 'hello'\n",
      "*********** sync group performance metrics ***********\n",
      "partitioning information (simulator assignment):\n",
      "  'sim0' on rank 0 proc 0\n",
      "  'sim4' on rank 0 proc 1\n",
      "  'sim8' on rank 0 proc 2\n",
      "  'sim12' on rank 0 proc 3\n",
      "  'sim1' on rank 1 proc 0\n",
      "  'sim5' on rank 1 proc 1\n",
      "  'sim9' on rank 1 proc 2\n",
      "  'sim13' on rank 1 proc 3\n",
      "  'sim2' on rank 2 proc 0\n",
      "  'sim6' on rank 2 proc 1\n",
      "  'sim10' on rank 2 proc 2\n",
      "  'sim14' on rank 2 proc 3\n",
      "  'sim3' on rank 3 proc 0\n",
      "  'sim7' on rank 3 proc 1\n",
      "  'sim11' on rank 3 proc 2\n",
      "execution time: 0.101676\n",
      "scheduled events: 30 (rate=295.055)\n",
      "executed events: 29 (rate=285.22)\n",
      "cancelled events: 0\n",
      "created processes: 15\n",
      "finished processes: 0\n",
      "cancelled processes: 0\n",
      "process context switches: 29\n"
     ]
    }
   ],
   "source": [
    "!mpiexec -np 4 python ../examples/advanced/ring-spmd-smp.py -x"
   ]
  },
  {
   "cell_type": "markdown",
   "metadata": {},
   "source": [
    "#### The PHOLD Example Revisited"
   ]
  },
  {
   "cell_type": "markdown",
   "metadata": {},
   "source": [
    "Earlier when we were introducing the mailbox facility provided by simulus, we discussed an example called PHOLD. In this section, we extend the model so that it can run for parallel and distributed simulation.\n",
    "\n",
    "The PHOLD model consists of a number of nodes that are passing messages to one another. First, we define a class for the nodes. Each node runs in a simulator ('sim'). It has an index number ('node_idx') that ranges from zero to the total number of nodes ('total_nodes') minus one. Each node also contains a mailbox ('mbox') with a distinct name (derived from the node's index, 'node_idx'). The mailbox also has a minimum delay ('lookahead'). Each node also creates a process with a starting function called 'forward_jobs()'. During simulation, the process repeatedly waits for jobs (from this and other nodes) and then forward them to other randomly selected nodes."
   ]
  },
  {
   "cell_type": "raw",
   "metadata": {
    "raw_mimetype": "text/x-python"
   },
   "source": [
    "import simulus, random\n",
    "random.seed(12345)\n",
    "\n",
    "class node(object):\n",
    "    def __init__(self, sim, idx, total, lookahead):\n",
    "        self.sim = sim\n",
    "        self.node_idx = idx\n",
    "        self.total_nodes = total\n",
    "        self.lookahead = lookahead\n",
    "        self.mbox = sim.mailbox(name='mb%d'%idx, min_delay=lookahead)\n",
    "        sim.process(self.forward_jobs)\n",
    "\n",
    "    def forward_jobs(self):\n",
    "        while True:\n",
    "            job = self.mbox.recv(isall=False) # one at a time\n",
    "            target = self.sim.rng().randrange(self.total_nodes)\n",
    "            delay = self.sim.rng().expovariate(1)+self.lookahead\n",
    "            self.sim.sync().send(self.sim, 'mb%d'%target, job, delay)\n",
    "            print(\"%g: n%d recv j%d, sent to n%d with d=%g (%g)\" %\n",
    "                  (self.sim.now, self.node_idx, job, target, delay, self.sim.now+delay))"
   ]
  },
  {
   "cell_type": "markdown",
   "metadata": {},
   "source": [
    "Second, we parse the command-line arguments. Simulus actually takes several optional command-line arguments (e.g., we used '-x' earlier). These arguments are filtered out automatically from the list of command-line arguments (`sys.argv`) when the simulus package is imported. In the following, we show that the PHOLD model uses the standard argparse module in Python to parse the command line. \n",
    "\n",
    "The model takes three positional (mandatory) arguments: 'NNODES' for the total number of nodes, 'NJOBS' for the total number of initial jobs, and 'ENDTIME' for the simulation end time. The PHOLD model also takes optional arguments, including '-m' or '--nsims' for the total number of simulators (by default, each node runs on a separate simulator), '-l' or '--lookahead' for the minimum delay of the mailboxes (default is 1.0), and '-c' or '--choice' for the type of the synchronized group.\n",
    "\n",
    "One can choose to run the simulation for one of four types of synchronized group: 1 for sequential simulation (which is the default), 2 for parallel simulation on shared-memory multiprocessors (with SMP enabled), 3 for distributed simulation using MPI (with SPMD enabled), and 4 for parallel simulation using both MPI and multiprocessing (with both SMP and SPMD enabled)."
   ]
  },
  {
   "cell_type": "raw",
   "metadata": {
    "raw_mimetype": "text/x-python"
   },
   "source": [
    "import argparse, textwrap\n",
    "\n",
    "rank = simulus.sync.comm_rank()\n",
    "psize = simulus.sync.comm_size()\n",
    "\n",
    "parser = argparse.ArgumentParser(\n",
    "    parents=[simulus.parser], # allow -h or --help to show simulus arguments\n",
    "    description='The PHOLD model.',\n",
    "    formatter_class=argparse.RawDescriptionHelpFormatter,\n",
    "    epilog=textwrap.dedent('''\\\n",
    "        CHOICE (-c or --choice) can be any of the following:\n",
    "          1: sequential simulation (default)\n",
    "          2: parallel simulation on shared-memory multiprocessors\n",
    "          3: parallel simulation using mpi\n",
    "          4: parallel simulation with mpi and multiprocessing\n",
    "    '''))\n",
    "parser.add_argument('total_nodes', metavar='NNODES', type=int,\n",
    "                    help='total number of nodes')\n",
    "parser.add_argument('init_jobs', metavar='NJOBS', type=int,\n",
    "                    help='total number of initial jobs')\n",
    "parser.add_argument('endtime', metavar='ENDTIME', type=int,\n",
    "                    help='simulation end time')\n",
    "parser.add_argument(\"-m\", \"--nsims\", type=int, metavar='NSIMS', default=None,\n",
    "                    help=\"total number of simulators\")\n",
    "parser.add_argument(\"-c\", \"--choice\", type=int, metavar='CHOICE', default=1,\n",
    "                    help=\"choose simulation method (see below)\")\n",
    "parser.add_argument(\"-l\", \"--lookahead\", type=float, metavar='LOOKAHEAD', default=1.0,\n",
    "                    help=\"min delay of mailboxes\")\n",
    "args = parser.parse_args()\n",
    "if args.nsims is None:\n",
    "    args.nsims = args.total_nodes\n",
    "elif args.nsims < psize or args.nsims > args.total_nodes:\n",
    "    raise ValueError('nsims must be an integer between PSIZE (%d) and NNODES (%d)' %\n",
    "                     (psize, args.total_nodes))"
   ]
  },
  {
   "cell_type": "markdown",
   "metadata": {},
   "source": [
    "We can use -h or --help to list all the command-line options for the PHOLD model. By having 'parents' to include 'simulus.argparse' when creating 'argparse.ArgumentParser', the help message includes all the optional command-line options that simulus is taking."
   ]
  },
  {
   "cell_type": "code",
   "execution_count": 16,
   "metadata": {},
   "outputs": [
    {
     "name": "stdout",
     "output_type": "stream",
     "text": [
      "usage: phold.py [-h] [-s SEED] [-v] [-vv] [-x] [-m NSIMS] [-c CHOICE]\r\n",
      "                [-l LOOKAHEAD]\r\n",
      "                NNODES NJOBS ENDTIME\r\n",
      "\r\n",
      "The PHOLD model.\r\n",
      "\r\n",
      "positional arguments:\r\n",
      "  NNODES                total number of nodes\r\n",
      "  NJOBS                 total number of initial jobs\r\n",
      "  ENDTIME               simulation end time\r\n",
      "\r\n",
      "optional arguments:\r\n",
      "  -h, --help            show this help message and exit\r\n",
      "  -s SEED, --seed SEED  set global random seed\r\n",
      "  -v, --verbose         enable verbose information\r\n",
      "  -vv, --debug          enable debug information\r\n",
      "  -x, --mpi             enable mpi for parallel simulation\r\n",
      "  -m NSIMS, --nsims NSIMS\r\n",
      "                        total number of simulators\r\n",
      "  -c CHOICE, --choice CHOICE\r\n",
      "                        choose simulation method (see below)\r\n",
      "  -l LOOKAHEAD, --lookahead LOOKAHEAD\r\n",
      "                        min delay of mailboxes\r\n",
      "\r\n",
      "CHOICE (-c or --choice) can be any of the following:\r\n",
      "  1: sequential simulation (default)\r\n",
      "  2: parallel simulation on shared-memory multiprocessors\r\n",
      "  3: parallel simulation using mpi\r\n",
      "  4: parallel simulation with mpi and multiprocessing\r\n"
     ]
    }
   ],
   "source": [
    "!python ../examples/advanced/phold.py -h"
   ]
  },
  {
   "cell_type": "markdown",
   "metadata": {},
   "source": [
    "Third, we create the nodes and the simulators. But before that, we define four utility functions to determine the corresponding starting and ending indices of an array of 'n' numbers that belongs to process 'id', if the array is to be divided among 'p' processes using the \"block decomposition method\". The block decomposition method assigns adjacent elements of the array to the same process. These utility functions are described in the book: \"Parallel Programming in C with MPI and OpenMP\", by Michael J. Quinn, McGraw-Hill, 2003."
   ]
  },
  {
   "cell_type": "raw",
   "metadata": {
    "raw_mimetype": "text/x-python"
   },
   "source": [
    "def BLOCK_LOW(id,p,n): return int(id*n/p)\n",
    "def BLOCK_HIGH(id,p,n): return BLOCK_LOW(id+1,p,n)-1\n",
    "def BLOCK_SIZE(id,p,n): return BLOCK_LOW(id+1)-BLOCK_LOW(id)\n",
    "def BLOCK_OWNER(index,p,n): return int((p*(index+1)-1)/n)"
   ]
  },
  {
   "cell_type": "markdown",
   "metadata": {},
   "source": [
    "We now create the simulators that belong to the current simulus instance. Their indices can be determined using the utility function `BLOCK_LOW()` defined above. There are 'args.nsims' number of simulators to be divided among 'psize' number of simulus instances. The index for the first simulator belonging to the current rank is given by `BLOCK_LOW(rank, psize, args.nsims)`; the index for the last simulator belonging to the current rank is given by `BLOCK_LOW(rank+1, psize, args.nsims)-1`.  All the simulators belonging to the current rank are stored in the array 'sims'.\n",
    "\n",
    "We then create the nodes belong to the simulator of index 's'. There are 'args.total_nodes' number of nodes to be divided among 'args.nsims' number of simulators. The index of the first node belonging to simulator 's' is given by `BLOCK_LOW(s, args.nsims, args.total_nodes)`, and the index of the last node belonging to simulator 's' is given by `BLOCK_LOW(s+1, args.nsims, args.total_nodes)-1`.  "
   ]
  },
  {
   "cell_type": "raw",
   "metadata": {
    "raw_mimetype": "text/x-python"
   },
   "source": [
    "sims = [] # all simulators instantiated on this machine\n",
    "for s in range(BLOCK_LOW(rank, psize, args.nsims), BLOCK_LOW(rank+1, psize, args.nsims)):\n",
    "    sim = simulus.simulator(name='sim%d'%s)\n",
    "    sims.append(sim)\n",
    "    #print('[%d] creating simulator %s...' % (rank, sim.name))\n",
    "\n",
    "    for idx in range(BLOCK_LOW(s, args.nsims, args.total_nodes),\n",
    "                     BLOCK_LOW(s+1, args.nsims, args.total_nodes)):\n",
    "        #print('[%d]  creating node %d...' % (rank, idx))\n",
    "        node(sim, idx, args.total_nodes, args.lookahead)"
   ]
  },
  {
   "cell_type": "markdown",
   "metadata": {},
   "source": [
    "Now we are ready to create the synchronized group and run the simulation. We create the synchronized group according to the user's choice from the command line. If the choice is 1, we run sequential simulation; we create a synchronized group with both SMP and SPMD disabled (the default). If the choice is 2, we run parallel simulation on shared-memory multiprocessors; we create the synchronized group with `enable_smp` set to be True. If the choice is 3, we run parallel simulation using MPI; we create the synchronized group with `enable_spmd` set to be True. If the choice is 4, we run parallel simulation both using MPI and multiprocessing; we create the synchronized group with both `enable_smp` and `enable_spmd` set to be True.\n",
    "\n",
    "Regardless of the choice, if the rank is greater than zero, it's a worker instance, in which case we simply call `run()` (without parameters). If the rank is zero, it's a manager/worker instance, in which case we call `run()` and pass as an argument the simulation end time ('args.endtime'). On rank zero, before running the simulation, we also need to send the initial jobs to the randomly selected mailboxes.\n",
    "\n",
    "In this example, we call `show_runtime_report()` separately after `run()` with the argument 'prefix'. In this case, all print-out lines will be prefixed by the given string. This would be helpful if one wants to find the report among a large amount of output from the parallel simulation run. "
   ]
  },
  {
   "cell_type": "raw",
   "metadata": {
    "raw_mimetype": "text/x-python"
   },
   "source": [
    "if args.choice == 1:\n",
    "    syn = simulus.sync(sims)\n",
    "elif args.choice == 2:\n",
    "    syn = simulus.sync(sims, enable_smp=True)\n",
    "elif args.choice == 3:\n",
    "    syn = simulus.sync(sims, enable_spmd=True)\n",
    "elif args.choice == 4:\n",
    "    syn = simulus.sync(sims, enable_smp=True, enable_spmd=True)\n",
    "else:\n",
    "    raise ValueError(\"CHOICE (%d) should be 1-4\" % choice)\n",
    "\n",
    "if rank > 0:\n",
    "    syn.run()\n",
    "else:\n",
    "    # send initial jobs (on rank 0)\n",
    "    for idx in range(args.init_jobs):\n",
    "        target = random.randrange(args.total_nodes)\n",
    "        delay = random.expovariate(1)+args.lookahead\n",
    "        syn.send(sims[0], 'mb%d'%target, idx, delay)\n",
    "        print(\"-init- sent j%d to n%d with d=%g\" %\n",
    "              (idx, target, delay))\n",
    "\n",
    "    # run simulation and get runtime performance report\n",
    "    syn.run(args.endtime)\n",
    "    syn.show_runtime_report(prefix='>')"
   ]
  },
  {
   "cell_type": "markdown",
   "metadata": {},
   "source": [
    "Let's first run the simulation sequentially (choice \\#1). We use a small model with 10 nodes (each on a separate simulator) and 5 initial jobs, and we run the simulation for 5 seconds. "
   ]
  },
  {
   "cell_type": "code",
   "execution_count": 17,
   "metadata": {},
   "outputs": [
    {
     "name": "stdout",
     "output_type": "stream",
     "text": [
      "> MODEL PARAMETERS:\r\n",
      ">> TOTAL NODES: 10\r\n",
      ">> TOTAL INIT JOBS: 5\r\n",
      ">> LOOKAHEAD: 1.0\r\n",
      ">> CHOICE: 1\r\n",
      ">> TOTAL SIMS:  10\r\n",
      ">> TOTAL SPMD PROCESSES: 1\r\n",
      "-init- sent j0 to n6 with d=2.31933\r\n",
      "-init- sent j1 to n4 with d=2.93198\r\n",
      "-init- sent j2 to n3 with d=1.31505\r\n",
      "-init- sent j3 to n6 with d=1.17636\r\n",
      "-init- sent j4 to n1 with d=3.07286\r\n",
      "1.31505: n3 recv j2, sent to n3 with d=2.8346 (4.14964)\r\n",
      "1.17636: n6 recv j3, sent to n6 with d=1.19807 (2.37443)\r\n",
      "3.07286: n1 recv j4, sent to n4 with d=2.01853 (5.09139)\r\n",
      "2.93198: n4 recv j1, sent to n0 with d=1.179 (4.11098)\r\n",
      "2.31933: n6 recv j0, sent to n1 with d=1.21847 (3.5378)\r\n",
      "2.37443: n6 recv j3, sent to n0 with d=1.97344 (4.34788)\r\n",
      "4.11098: n0 recv j1, sent to n8 with d=1.20257 (5.31355)\r\n",
      "4.34788: n0 recv j3, sent to n1 with d=1.2599 (5.60777)\r\n",
      "3.5378: n1 recv j0, sent to n7 with d=1.74854 (5.28634)\r\n",
      "4.14964: n3 recv j2, sent to n8 with d=1.04599 (5.19563)\r\n",
      ">*********** sync group performance metrics ***********\r\n",
      ">partitioning information (simulator assignment):\r\n",
      ">  'sim0' on rank 0 proc 0\r\n",
      ">  'sim1' on rank 0 proc 0\r\n",
      ">  'sim2' on rank 0 proc 0\r\n",
      ">  'sim3' on rank 0 proc 0\r\n",
      ">  'sim4' on rank 0 proc 0\r\n",
      ">  'sim5' on rank 0 proc 0\r\n",
      ">  'sim6' on rank 0 proc 0\r\n",
      ">  'sim7' on rank 0 proc 0\r\n",
      ">  'sim8' on rank 0 proc 0\r\n",
      ">  'sim9' on rank 0 proc 0\r\n",
      ">execution time: 0.00151014\r\n",
      ">scheduled events: 25 (rate=16554.7)\r\n",
      ">executed events: 20 (rate=13243.8)\r\n",
      ">cancelled events: 0\r\n",
      ">created processes: 10\r\n",
      ">finished processes: 0\r\n",
      ">cancelled processes: 0\r\n",
      ">process context switches: 20\r\n"
     ]
    }
   ],
   "source": [
    "!python ../examples/advanced/phold.py 10 5 5 -c 1"
   ]
  },
  {
   "cell_type": "markdown",
   "metadata": {},
   "source": [
    "Next, we run the same simulation model on shared-memory multiprocessors (choice \\#2). On my laptop, the simulation is run on four processors."
   ]
  },
  {
   "cell_type": "code",
   "execution_count": 18,
   "metadata": {},
   "outputs": [
    {
     "name": "stdout",
     "output_type": "stream",
     "text": [
      "> MODEL PARAMETERS:\r\n",
      ">> TOTAL NODES: 10\r\n",
      ">> TOTAL INIT JOBS: 5\r\n",
      ">> LOOKAHEAD: 1.0\r\n",
      ">> CHOICE: 2\r\n",
      ">> TOTAL SIMS:  10\r\n",
      ">> TOTAL SPMD PROCESSES: 1\r\n",
      "-init- sent j0 to n6 with d=2.31933\r\n",
      "-init- sent j1 to n4 with d=2.93198\r\n",
      "-init- sent j2 to n3 with d=1.31505\r\n",
      "-init- sent j3 to n6 with d=1.17636\r\n",
      "-init- sent j4 to n1 with d=3.07286\r\n",
      "1.31505: n3 recv j2, sent to n3 with d=2.8346 (4.14964)\r\n",
      "1.17636: n6 recv j3, sent to n6 with d=1.19807 (2.37443)\r\n",
      "3.07286: n1 recv j4, sent to n4 with d=2.01853 (5.09139)\r\n",
      "2.31933: n6 recv j0, sent to n1 with d=1.21847 (3.5378)\r\n",
      "2.37443: n6 recv j3, sent to n0 with d=1.97344 (4.34788)\r\n",
      "2.93198: n4 recv j1, sent to n0 with d=1.179 (4.11098)\r\n",
      "4.11098: n0 recv j1, sent to n8 with d=1.20257 (5.31355)\r\n",
      "4.34788: n0 recv j3, sent to n1 with d=1.2599 (5.60777)\r\n",
      "3.5378: n1 recv j0, sent to n7 with d=1.74854 (5.28634)\r\n",
      "4.14964: n3 recv j2, sent to n8 with d=1.04599 (5.19563)\r\n",
      ">*********** sync group performance metrics ***********\r\n",
      ">partitioning information (simulator assignment):\r\n",
      ">  'sim0' on rank 0 proc 0\r\n",
      ">  'sim1' on rank 0 proc 0\r\n",
      ">  'sim2' on rank 0 proc 0\r\n",
      ">  'sim3' on rank 0 proc 1\r\n",
      ">  'sim4' on rank 0 proc 1\r\n",
      ">  'sim5' on rank 0 proc 1\r\n",
      ">  'sim6' on rank 0 proc 2\r\n",
      ">  'sim7' on rank 0 proc 2\r\n",
      ">  'sim8' on rank 0 proc 3\r\n",
      ">  'sim9' on rank 0 proc 3\r\n",
      ">execution time: 0.0224149\r\n",
      ">scheduled events: 25 (rate=1115.33)\r\n",
      ">executed events: 20 (rate=892.263)\r\n",
      ">cancelled events: 0\r\n",
      ">created processes: 10\r\n",
      ">finished processes: 0\r\n",
      ">cancelled processes: 0\r\n",
      ">process context switches: 20\r\n"
     ]
    }
   ],
   "source": [
    "!python ../examples/advanced/phold.py 10 5 5 -c 2"
   ]
  },
  {
   "cell_type": "markdown",
   "metadata": {},
   "source": [
    "Now we will the simulation using MPI (choice \\#3)."
   ]
  },
  {
   "cell_type": "code",
   "execution_count": 19,
   "metadata": {},
   "outputs": [
    {
     "name": "stdout",
     "output_type": "stream",
     "text": [
      "> MODEL PARAMETERS:\r\n",
      ">> TOTAL NODES: 10\r\n",
      ">> TOTAL INIT JOBS: 5\r\n",
      ">> LOOKAHEAD: 1.0\r\n",
      ">> CHOICE: 3\r\n",
      ">> TOTAL SIMS:  10\r\n",
      ">> TOTAL SPMD PROCESSES: 4\r\n",
      "-init- sent j0 to n6 with d=2.31933\r\n",
      "-init- sent j1 to n4 with d=2.93198\r\n",
      "-init- sent j2 to n3 with d=1.31505\r\n",
      "-init- sent j3 to n6 with d=1.17636\r\n",
      "-init- sent j4 to n1 with d=3.07286\r\n",
      "3.07286: n1 recv j4, sent to n4 with d=2.01853 (5.09139)\r\n",
      "4.11098: n0 recv j1, sent to n8 with d=1.20257 (5.31355)\r\n",
      "4.34788: n0 recv j3, sent to n1 with d=1.2599 (5.60777)\r\n",
      "3.5378: n1 recv j0, sent to n7 with d=1.74854 (5.28634)\r\n",
      ">*********** sync group performance metrics ***********\r\n",
      ">partitioning information (simulator assignment):\r\n",
      ">  'sim0' on rank 0 proc 0\r\n",
      ">  'sim1' on rank 0 proc 0\r\n",
      ">  'sim2' on rank 1 proc 0\r\n",
      ">  'sim3' on rank 1 proc 0\r\n",
      ">  'sim4' on rank 1 proc 0\r\n",
      ">  'sim5' on rank 2 proc 0\r\n",
      ">  'sim6' on rank 2 proc 0\r\n",
      ">  'sim7' on rank 3 proc 0\r\n",
      ">  'sim8' on rank 3 proc 0\r\n",
      ">  'sim9' on rank 3 proc 0\r\n",
      ">execution time: 0.0157859\r\n",
      ">scheduled events: 25 (rate=1583.69)\r\n",
      ">executed events: 20 (rate=1266.95)\r\n",
      ">cancelled events: 0\r\n",
      ">created processes: 10\r\n",
      ">finished processes: 0\r\n",
      ">cancelled processes: 0\r\n",
      ">process context switches: 20\r\n",
      "1.17636: n6 recv j3, sent to n6 with d=1.19807 (2.37443)\r\n",
      "2.31933: n6 recv j0, sent to n1 with d=1.21847 (3.5378)\r\n",
      "2.37443: n6 recv j3, sent to n0 with d=1.97344 (4.34788)\r\n",
      "1.31505: n3 recv j2, sent to n3 with d=2.8346 (4.14964)\r\n",
      "2.93198: n4 recv j1, sent to n0 with d=1.179 (4.11098)\r\n",
      "4.14964: n3 recv j2, sent to n8 with d=1.04599 (5.19563)\r\n"
     ]
    }
   ],
   "source": [
    "!mpiexec -np 4 python ../examples/advanced/phold.py 10 5 5 -x -c 3"
   ]
  },
  {
   "cell_type": "markdown",
   "metadata": {},
   "source": [
    "Finally, we run the simulation with both MPI and multiprocessing (choice \\#4)."
   ]
  },
  {
   "cell_type": "code",
   "execution_count": 20,
   "metadata": {},
   "outputs": [
    {
     "name": "stdout",
     "output_type": "stream",
     "text": [
      "> MODEL PARAMETERS:\n",
      ">> TOTAL NODES: 10\n",
      ">> TOTAL INIT JOBS: 5\n",
      ">> LOOKAHEAD: 1.0\n",
      ">> CHOICE: 4\n",
      ">> TOTAL SIMS:  10\n",
      ">> TOTAL SPMD PROCESSES: 4\n",
      "-init- sent j0 to n6 with d=2.31933\n",
      "-init- sent j1 to n4 with d=2.93198\n",
      "-init- sent j2 to n3 with d=1.31505\n",
      "-init- sent j3 to n6 with d=1.17636\n",
      "-init- sent j4 to n1 with d=3.07286\n",
      "4.11098: n0 recv j1, sent to n8 with d=1.20257 (5.31355)\n",
      "4.34788: n0 recv j3, sent to n1 with d=1.2599 (5.60777)\n",
      ">*********** sync group performance metrics ***********\n",
      ">partitioning information (simulator assignment):\n",
      ">  'sim0' on rank 0 proc 0\n",
      ">  'sim1' on rank 0 proc 1\n",
      ">  'sim2' on rank 1 proc 0\n",
      ">  'sim3' on rank 1 proc 1\n",
      ">  'sim4' on rank 1 proc 2\n",
      ">  'sim5' on rank 2 proc 0\n",
      ">  'sim6' on rank 2 proc 1\n",
      ">  'sim7' on rank 3 proc 0\n",
      ">  'sim8' on rank 3 proc 1\n",
      ">  'sim9' on rank 3 proc 2\n",
      ">execution time: 0.0632179\n",
      ">scheduled events: 25 (rate=395.458)\n",
      ">executed events: 20 (rate=316.366)\n",
      ">cancelled events: 0\n",
      ">created processes: 10\n",
      ">finished processes: 0\n",
      ">cancelled processes: 0\n",
      ">process context switches: 20\n",
      "3.07286: n1 recv j4, sent to n4 with d=2.01853 (5.09139)\n",
      "3.5378: n1 recv j0, sent to n7 with d=1.74854 (5.28634)\n",
      "1.31505: n3 recv j2, sent to n3 with d=2.8346 (4.14964)\n",
      "4.14964: n3 recv j2, sent to n8 with d=1.04599 (5.19563)\n",
      "2.93198: n4 recv j1, sent to n0 with d=1.179 (4.11098)\n",
      "1.17636: n6 recv j3, sent to n6 with d=1.19807 (2.37443)\n",
      "2.31933: n6 recv j0, sent to n1 with d=1.21847 (3.5378)\n",
      "2.37443: n6 recv j3, sent to n0 with d=1.97344 (4.34788)\n"
     ]
    }
   ],
   "source": [
    "!mpiexec -np 4 python ../examples/advanced/phold.py 10 5 5 -x -c 4"
   ]
  },
  {
   "cell_type": "markdown",
   "metadata": {},
   "source": [
    "We can observe that, regardless of the choice, as long as the number of simulators is the same, they all produce the same results. This is because the random sequence generated by the simulators is the same regardless where the simulator is run. As we mentioned previously, the random number generator of the simulator is seeded using the global random seed (12345) and the name of the simulator, both of which remain the same across different configurations."
   ]
  },
  {
   "cell_type": "code",
   "execution_count": null,
   "metadata": {},
   "outputs": [],
   "source": []
  }
 ],
 "metadata": {
  "celltoolbar": "Raw Cell Format",
  "kernelspec": {
   "display_name": "Python 3",
   "language": "python",
   "name": "python3"
  },
  "language_info": {
   "codemirror_mode": {
    "name": "ipython",
    "version": 3
   },
   "file_extension": ".py",
   "mimetype": "text/x-python",
   "name": "python",
   "nbconvert_exporter": "python",
   "pygments_lexer": "ipython3",
   "version": "3.7.3"
  }
 },
 "nbformat": 4,
 "nbformat_minor": 2
}
