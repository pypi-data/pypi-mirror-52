{
 "cells": [
  {
   "cell_type": "markdown",
   "metadata": {},
   "source": [
    "# Advanced Use Cases\n",
    "\n",
    "Simulus is a discrete-event simulator in Python. \n",
    "\n",
    "Be sure to follow [the tutorial on simple use cases](simple-use-cases.ipynb) before carrying on with this tutorial."
   ]
  },
  {
   "cell_type": "markdown",
   "metadata": {},
   "source": [
    "## Use Case #1: Parallel Simulation\n",
    "\n",
    "Simulus supports current execution of multiple simulators. These simulators can be created and run simultaneously on the same machine or on different machines. To distinguish the two cases, we hereby call the former \"parallel simulation\", and the latter \"distributed simulation\"."
   ]
  },
  {
   "cell_type": "markdown",
   "metadata": {},
   "source": [
    "<font color='red'>Note: parallel simulation has not yet been implemented in simulus 1.0. The following example is but an idea at the moment.</font>"
   ]
  },
  {
   "cell_type": "code",
   "execution_count": null,
   "metadata": {},
   "outputs": [],
   "source": [
    "# run three simulators\n",
    "%run ../examples/simple-case1.py\n",
    "%run ../examples/simple-case2.py\n",
    "%run ../examples/simple-case3.py"
   ]
  },
  {
   "cell_type": "code",
   "execution_count": null,
   "metadata": {},
   "outputs": [],
   "source": [
    "# %load \"../examples/adv-case1.py\"\n",
    "import simulus\n",
    "\n",
    "# simulus.sync brings all simulators in synchrony; that is,\n",
    "# the simulation clock of the simulators from now on will \n",
    "# be advanced in a coordinated fashion; when this function \n",
    "# returns, the simulation clock of the simulators will be \n",
    "# the maximum simulation clock time of all simulators\n",
    "simulus.sync([sim1, sim2, sim3], lookahead=1.0)\n",
    "print(\"sim1.now=\" + str(sim1.now))\n",
    "print(\"sim2.now=\" + str(sim2.now))\n",
    "print(\"sim3.now=\" + str(sim3.now))\n",
    "\n",
    "# advance simulation for another 100 seconds (since the \n",
    "# simulators are synchronized now; all simulators will \n",
    "# advance the time together)\n",
    "sim1.run(offset=100)\n",
    "print(\"simulator.run() ends at \" + str(sim1.now))\n"
   ]
  },
  {
   "cell_type": "code",
   "execution_count": null,
   "metadata": {},
   "outputs": [],
   "source": []
  }
 ],
 "metadata": {
  "kernelspec": {
   "display_name": "Python 3",
   "language": "python",
   "name": "python3"
  },
  "language_info": {
   "codemirror_mode": {
    "name": "ipython",
    "version": 3
   },
   "file_extension": ".py",
   "mimetype": "text/x-python",
   "name": "python",
   "nbconvert_exporter": "python",
   "pygments_lexer": "ipython3",
   "version": "3.7.3"
  }
 },
 "nbformat": 4,
 "nbformat_minor": 2
}
