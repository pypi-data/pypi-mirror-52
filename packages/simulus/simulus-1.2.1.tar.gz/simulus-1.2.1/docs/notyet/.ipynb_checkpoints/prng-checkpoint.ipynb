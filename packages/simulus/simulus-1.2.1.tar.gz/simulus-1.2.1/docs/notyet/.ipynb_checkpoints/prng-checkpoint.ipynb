{
 "cells": [
  {
   "cell_type": "markdown",
   "metadata": {},
   "source": [
    "## Random Number Generation for Simulation\n",
    "\n",
    "<img src=\"coin.jpg\" width=\"40%\" align=\"left\" alt=\"coin\">"
   ]
  },
  {
   "cell_type": "markdown",
   "metadata": {},
   "source": [
    "Random number generation is essential to simulation. Before we discuss how to simulate different queuing models, we need to first describe how to generate random numbers in simulation, particularly in simulus.\n",
    "\n",
    "In this tutorial, we will use the `scipy.stats` module to generate random numbers to simulate the queuing models. Python's  native `random` module can also be used for this purpose. (In fact, `simulus` uses the `random` module as its core random number generator.) But the `scipy.stats` module contains a huge number of probability distributions (more than 120 of them!), as well as many useful statistical functions, which are extremely useful for simulation tasks, and of course it would be more than sufficient for our tutorial.\n",
    "\n",
    "The `scipy.stats` module uses the pseudo-random number generator provided by `numpy`. Both `numpy` and Python's `random` module use the Mersenne Twister as the core generator. This generator produces 53-bit precision floats and has a period of $2^{19937}-1$. It has been proven that this generator has very good random properties.\n",
    "\n",
    "Before we start this section of the tutorial, run the following cell so that we set up the environment by importing the necessary packages."
   ]
  },
  {
   "cell_type": "code",
   "execution_count": 1,
   "metadata": {},
   "outputs": [],
   "source": [
    "# for random distributions, random number generators, statistics\n",
    "import random\n",
    "import numpy as np\n",
    "import scipy.stats as stats\n",
    "\n",
    "# for simulation\n",
    "import simulus\n",
    "\n",
    "# for data visualization\n",
    "import matplotlib.pyplot as plt\n",
    "%matplotlib inline\n",
    "\n",
    "# for animation inside the notebook\n",
    "import ipywidgets as widgets\n",
    "from ipywidgets import interact"
   ]
  },
  {
   "cell_type": "markdown",
   "metadata": {},
   "source": [
    "### Random Variables in `scipy.stats`\n",
    "\n",
    "The `scipy.stats` module contains a large number of probability distributions. Let's first examine a few. One of the most common distribution used in simulation is the exponential distribution. The function `expon(scale)` creates an exponential random variable and the parameter 'scale' is the mean of the distribution. "
   ]
  },
  {
   "cell_type": "code",
   "execution_count": 2,
   "metadata": {},
   "outputs": [],
   "source": [
    "x = stats.expon(scale=2)"
   ]
  },
  {
   "cell_type": "markdown",
   "metadata": {},
   "source": [
    "We can eaily find the mean, the median, and the standard deviation of the random variable, using the following functions:"
   ]
  },
  {
   "cell_type": "code",
   "execution_count": 3,
   "metadata": {},
   "outputs": [
    {
     "data": {
      "text/plain": [
       "(2.0, 1.3862943611198906, 2.0)"
      ]
     },
     "execution_count": 3,
     "metadata": {},
     "output_type": "execute_result"
    }
   ],
   "source": [
    "x.mean(), x.median(), x.std()"
   ]
  },
  {
   "cell_type": "markdown",
   "metadata": {},
   "source": [
    "We can also use the `stats(moments)` method to find the mean(‘m’), variance (‘v’), skew (‘s’), and kurtosis(‘k’), where the argument 'moments' specifies which we would like to have. In the following, we print them all:"
   ]
  },
  {
   "cell_type": "code",
   "execution_count": 4,
   "metadata": {},
   "outputs": [
    {
     "name": "stdout",
     "output_type": "stream",
     "text": [
      "mean=2, var=4, skew=2, kurtosis=6\n"
     ]
    }
   ],
   "source": [
    "m, v, s, k = x.stats(moments='mvsk')\n",
    "print('mean=%g, var=%g, skew=%g, kurtosis=%g' % (m, v, s, k))"
   ]
  },
  {
   "cell_type": "markdown",
   "metadata": {},
   "source": [
    "We can plot the probability density function (pdf) and the cumulative density function (cdf) of the random variable. In the following, we first define a couple of functions to get ready for plotting:"
   ]
  },
  {
   "cell_type": "code",
   "execution_count": 5,
   "metadata": {},
   "outputs": [],
   "source": [
    "def plot_rv(rv, title, xmin=None, xmax=None):\n",
    "    # find the range (ppf() is the inverse cdf)\n",
    "    if xmin is None: xmin = rv.ppf(0.01)\n",
    "    if xmax is None: xmax = rv.ppf(0.99)\n",
    "    xs = np.linspace(xmin, xmax, 100)\n",
    "\n",
    "    # get the data points for pdf and cdf\n",
    "    ys = rv.pdf(xs)\n",
    "    zs = rv.cdf(xs)\n",
    "    \n",
    "    plt.fill_between(xs, ys, color='#7fc97f', alpha=0.7)\n",
    "    plt.plot(xs, ys, color='#7fc97f', lw=3, alpha=0.9, label='pdf')\n",
    "\n",
    "    plt.fill_between(xs, zs, color='#beaed4', alpha=0.7)\n",
    "    plt.plot(xs, zs, color='#beaed4', lw=3, alpha=0.9, label='cdf')\n",
    "    \n",
    "    plt.title(title)\n",
    "    plt.xlim(xmin, xmax)\n",
    "    plt.ylim(0)\n",
    "    plt.legend()\n",
    "    plt.show()"
   ]
  },
  {
   "cell_type": "markdown",
   "metadata": {},
   "source": [
    "The above function takes a random variable, a string title of the plot, and the optional min and max data range for plotting. If min and max are ignored, we choose the 1% and 99% of the distribution as the range for plotting. The following function creates an exponentially distributed random variable with the given scale (mean) and uses the above function to plot it. "
   ]
  },
  {
   "cell_type": "code",
   "execution_count": 6,
   "metadata": {},
   "outputs": [],
   "source": [
    "def plot_expon(scale):\n",
    "    rv = stats.expon(scale=scale)\n",
    "    plot_rv(rv, \"exponential (scale=%g)\" % scale)"
   ]
  },
  {
   "cell_type": "markdown",
   "metadata": {},
   "source": [
    "Now we are ready to plot the exponential distribution:"
   ]
  },
  {
   "cell_type": "code",
   "execution_count": 7,
   "metadata": {
    "scrolled": true
   },
   "outputs": [
    {
     "data": {
      "image/png": "[encoded data removed]",
      "text/plain": [
       "<Figure size 432x288 with 1 Axes>"
      ]
     },
     "metadata": {
      "needs_background": "light"
     },
     "output_type": "display_data"
    }
   ],
   "source": [
    "plot_expon(2.0)"
   ]
  },
  {
   "cell_type": "markdown",
   "metadata": {},
   "source": [
    "Using ipywidgets, we can dynamically change the 'scale' parameter (using a slider) and plot the distribution on the fly. In the following, we can move the slider to change the scale value and therefore alter the pdf and cdf curves."
   ]
  },
  {
   "cell_type": "code",
   "execution_count": 8,
   "metadata": {},
   "outputs": [
    {
     "data": {
      "application/vnd.jupyter.widget-view+json": {
       "model_id": "167ecb56029f4542b3f5648bbd2c3dec",
       "version_major": 2,
       "version_minor": 0
      },
      "text/plain": [
       "interactive(children=(FloatSlider(value=2.0, description='scale', max=5.0, min=0.1), Output()), _dom_classes=(…"
      ]
     },
     "metadata": {},
     "output_type": "display_data"
    }
   ],
   "source": [
    "slider = widgets.FloatSlider(min=0.1, max=5, value=2)\n",
    "interact(plot_expon, scale=slider)\n",
    "None"
   ]
  },
  {
   "cell_type": "markdown",
   "metadata": {},
   "source": [
    "Let's do the same for two other distributions, gamma and normal, just for fun:"
   ]
  },
  {
   "cell_type": "code",
   "execution_count": 9,
   "metadata": {},
   "outputs": [
    {
     "data": {
      "application/vnd.jupyter.widget-view+json": {
       "model_id": "7b08275d0f824e27b47b0c8a4a1bf832",
       "version_major": 2,
       "version_minor": 0
      },
      "text/plain": [
       "interactive(children=(FloatSlider(value=2.5, description='a', max=5.0, min=0.1), FloatSlider(value=0.4, descri…"
      ]
     },
     "metadata": {},
     "output_type": "display_data"
    }
   ],
   "source": [
    "def plot_gamma(a, scale):\n",
    "    rv = stats.gamma(a=a, scale=scale)\n",
    "    plot_rv(rv, \"gamma (a=%g, scale=%g)\" % (a,scale))\n",
    "\n",
    "slider_a = widgets.FloatSlider(min=0.1, max=5, value=2.5)\n",
    "slider_scale = widgets.FloatSlider(min=0.1, max=5, value=0.4)\n",
    "interact(plot_gamma, a=slider_a, scale=slider_scale)\n",
    "None"
   ]
  },
  {
   "cell_type": "code",
   "execution_count": 10,
   "metadata": {},
   "outputs": [
    {
     "data": {
      "application/vnd.jupyter.widget-view+json": {
       "model_id": "0d5b006159504828bb26c7d3952d44d6",
       "version_major": 2,
       "version_minor": 0
      },
      "text/plain": [
       "interactive(children=(FloatSlider(value=0.0, description='loc', max=2.0, min=-2.0), FloatSlider(value=1.0, des…"
      ]
     },
     "metadata": {},
     "output_type": "display_data"
    }
   ],
   "source": [
    "def plot_norm(loc, scale):\n",
    "    rv = stats.norm(loc=loc, scale=scale)\n",
    "    plot_rv(rv, \"normal (loc=%g, scale=%g)\" % (loc, scale))\n",
    "    \n",
    "slider_loc = widgets.FloatSlider(min=-2, max=2, value=0)\n",
    "slider_scale = widgets.FloatSlider(min=0.1, max=2, value=1)\n",
    "interact(plot_norm, loc=slider_loc, scale=slider_scale)\n",
    "None"
   ]
  },
  {
   "cell_type": "markdown",
   "metadata": {},
   "source": [
    "### Generating Random Variates\n",
    "\n",
    "The values obtained from the random variables (such as the mean, the standard deviation, pdf and cdf) are all deterministic as the probability distribution. Once a random variable is created, one can use the `rvs(size)` method to draw random samples from the distribution, where the 'size' argument (as a positional argument) specifies the number of samples. \n",
    "\n",
    "Random samples depend on the random number generator. To get repeatable results, we can first set a random seed. Recall that the `scipy.stats` module uses the pseudo-random number generator provided in the `numpy` module. Therefore, we should set the random seed using the `numpy.random.seed()` function (as opposed to `random.seed()`, which is used for the Python's `random` module)."
   ]
  },
  {
   "cell_type": "code",
   "execution_count": 11,
   "metadata": {},
   "outputs": [
    {
     "name": "stdout",
     "output_type": "stream",
     "text": [
      "the first 1000 samples: array([0.36717359, 0.71748813, 0.24954749])...\n",
      "the second 1000 samples: array([0.82463564, 0.88634089, 1.43507555])...\n"
     ]
    }
   ],
   "source": [
    "# x is a random variable (with a probability distribution)\n",
    "x = stats.expon(scale=2.0)\n",
    "\n",
    "# set the random seed, and get the first 1000 random \n",
    "# samples; we show the first 3 random numbers\n",
    "np.random.seed(13579)\n",
    "xs1 = x.rvs(1000)\n",
    "print('the first 1000 samples: %r...' % xs1[:3])\n",
    "\n",
    "# set another random seed, and get another 1000 random\n",
    "# samples; again we show the first 3 random numbers\n",
    "np.random.seed(24680)\n",
    "xs2 = x.rvs(1000)\n",
    "print('the second 1000 samples: %r...' % xs2[:3])"
   ]
  },
  {
   "cell_type": "markdown",
   "metadata": {},
   "source": [
    "The random seed determines the random sequence of the random number generator. If we reuse the same random seed, we should be able to get the same random sequence."
   ]
  },
  {
   "cell_type": "code",
   "execution_count": 12,
   "metadata": {},
   "outputs": [
    {
     "name": "stdout",
     "output_type": "stream",
     "text": [
      "repeat the first 1000 samples: array([0.36717359, 0.71748813, 0.24954749])...\n",
      "repeat the second 1000 samples: array([0.82463564, 0.88634089, 1.43507555])...\n"
     ]
    }
   ],
   "source": [
    "np.random.seed(13579) # reuse the seed from previous\n",
    "xs1 = x.rvs(1000)\n",
    "print('repeat the first 1000 samples: %r...' % xs1[:3])\n",
    "\n",
    "np.random.seed(24680) # reuse the seed from previous\n",
    "xs2 = x.rvs(1000)\n",
    "print('repeat the second 1000 samples: %r...' % xs2[:3])"
   ]
  },
  {
   "cell_type": "markdown",
   "metadata": {},
   "source": [
    "We can investigate whether the random numbers are indeed drawn from the expected random distribution. To do that, we can plot a histogram of the random numbers and compare that with the true distribution."
   ]
  },
  {
   "cell_type": "code",
   "execution_count": 13,
   "metadata": {
    "scrolled": true
   },
   "outputs": [
    {
     "data": {
      "image/png": "[encoded data removed]",
      "text/plain": [
       "<Figure size 720x360 with 2 Axes>"
      ]
     },
     "metadata": {
      "needs_background": "light"
     },
     "output_type": "display_data"
    }
   ],
   "source": [
    "plt.figure(figsize=(10,5))\n",
    "\n",
    "xmin, xmax = x.ppf(0.001), x.ppf(0.999)\n",
    "xs = np.linspace(xmin, xmax, 100)\n",
    "ys = x.pdf(xs)\n",
    "\n",
    "axs = plt.subplot(1, 2, 1)\n",
    "axs.hist(xs1, alpha=0.5, bins='auto', density=True)\n",
    "axs.plot(xs, ys, 'r-')\n",
    "axs.set_xlim(xmin, xmax)\n",
    "axs.set_title(\"histogram of xs1\")\n",
    "\n",
    "axs = plt.subplot(1, 2, 2)\n",
    "axs.hist(xs2, alpha=0.5, bins='auto', density=True)\n",
    "axs.plot(xs, ys, 'r-')\n",
    "axs.set_xlim(xmin, xmax)\n",
    "axs.set_title(\"histogram of xs2\")\n",
    "\n",
    "plt.show()"
   ]
  },
  {
   "cell_type": "markdown",
   "metadata": {},
   "source": [
    "### Repeatable Random Sequences in Simulation\n",
    "\n",
    "#### Global Random Seed\n",
    "\n",
    "Simulus uses the Python's `random` module as the default random number generator. In order to obtain repeatable results, one needs to set the random seed using `random.seed()` before calling any simulus functions (such as creating a simulator). \n",
    "\n",
    "The following example a simple instance of simulus that uses the default random number generator in the `random` module. The example generates a series of random integers between 0 and 99."
   ]
  },
  {
   "cell_type": "code",
   "execution_count": 14,
   "metadata": {},
   "outputs": [
    {
     "name": "stdout",
     "output_type": "stream",
     "text": [
      "[34, 3, 21, 85, 92, 15, 63, 35, 70, 40]\n"
     ]
    }
   ],
   "source": [
    "random.seed(13579) # the global random seed\n",
    "\n",
    "sim = simulus.simulator()\n",
    "x = [random.randint(0,99) for _ in range(10)]\n",
    "print(x)"
   ]
  },
  {
   "cell_type": "markdown",
   "metadata": {},
   "source": [
    "The random seed in the above example (13579) is called *the global random seed*. One can set the global random seed before the first simulator in simulus is created. (Simulus uses the random number generator defined in the `random` module to create a namespace when the first simulator is created. The namespace will partially determine the random sequence of the random number generators attached to the simulators. We will discuss this momentarily.)\n",
    "\n",
    "The above example can run repeatedly and the same random sequence (34, 3, 21, ...) will be generated each time. This is obvious because we use the same seed each time we run the example. However, if we are using the `scipy.stats` module, we also need to set the random seed for the `numpy.random` module. We can do this by getting a random (32-bit) integer from the `random` module, and use it as the seed for the `numpy.random` module. In doing so, the simulation can run repeatedly with the same results as long as we use the same global random seed."
   ]
  },
  {
   "cell_type": "code",
   "execution_count": 15,
   "metadata": {
    "scrolled": true
   },
   "outputs": [
    {
     "name": "stdout",
     "output_type": "stream",
     "text": [
      "numpy.random's seed=4121229328\n",
      "[84 97 77 42 51 90 51 82 78 56]\n"
     ]
    }
   ],
   "source": [
    "random.seed(13597) # the global random seed\n",
    "\n",
    "s = random.randrange(2**32)\n",
    "print(\"numpy.random's seed=%d\" % s)\n",
    "np.random.seed(s)\n",
    "\n",
    "sim = simulus.simulator()\n",
    "x = stats.randint(0, 99).rvs(10)\n",
    "print(x)"
   ]
  },
  {
   "cell_type": "markdown",
   "metadata": {},
   "source": [
    "#### Simulator-Specific Random Sequence\n",
    "\n",
    "In simulus, the global random seed determines all the random sequences of the simulation. This would satisfy most of the simulation needs in terms of repeatability. However, there are cases this may not be sufficient. \n",
    "\n",
    "For example, we may want to have a unique random sequence sepecific to a simulator. This can be important if we run our model in parallel with multiple simulators, say, one on each CPU core. So if a machine has 24 cores, we may have 24 simulators running simultaneously on the machine. And if run simulus distributedly on 100 such machines in a cluster, we may have a simulation with 2400 simulators, each dealing with a smaller part of a large model. In this scenario, each simulator should have its own random sequence in order to get repeatable results.\n",
    "\n",
    "A random sequence from a simulator is uniquely determined by the global random seed and the name of the simulator. Simulus guarantees that as long as we choose the same global random seed and use the same name for a simulator, we can obtain the same random sequence, regardless of where we run the simulator (even if on a different CPU core and on a different machine in the cluster).\n",
    "\n",
    "The following example shows how to use the simulator-specific random number generator (using `sim.rng().randint` as opposed of using `random.randint`). This example again generates a series of random integers between 0 and 99. The sequence would be dependent on the simulator's name 'myname'. If the simulator's name is fixed, the random sequence then would only change if we change the global random seed next time we run the example."
   ]
  },
  {
   "cell_type": "code",
   "execution_count": 16,
   "metadata": {},
   "outputs": [
    {
     "name": "stdout",
     "output_type": "stream",
     "text": [
      "[42, 20, 56, 40, 73, 31, 95, 94, 67, 22]\n"
     ]
    }
   ],
   "source": [
    "random.seed(13579) # the global random seed\n",
    "\n",
    "sim = simulus.simulator('myname')\n",
    "x = [sim.rng().randint(0,99) for _ in range(10)] # simulator-specific random sequence\n",
    "print(x)"
   ]
  },
  {
   "cell_type": "markdown",
   "metadata": {},
   "source": [
    "#### Separate Random Streams\n",
    "\n",
    "Even within a simulator, we may need to use separate random sequences, a.k.a. *random streams* --- for example, one for the customer inter-arrival time and the other for the service time. Having multiple random streams would make it easier to debug the models, since one can keep the same random sequence for each part of the model, even if we have to change the other parts. \n",
    "\n",
    "In the following example, we create two `numpy` random number generators ('rng1' and 'rng2') using two 32-bit random integers ('s1' and 's2') from the simulator-specific random sequence. We attach the rangom number generators to the random variables, 'rv1' and 'rv2', by setting the `random_state` of the corresponding random variables."
   ]
  },
  {
   "cell_type": "code",
   "execution_count": 17,
   "metadata": {},
   "outputs": [
    {
     "name": "stdout",
     "output_type": "stream",
     "text": [
      "create rng1 with seed=691080952\n",
      "create rng2 with seed=4265267818\n",
      "stream1: array([32, 67, 27, 38, 69, 12, 92, 97, 38, 69])\n",
      "stream2: array([59, 19, 96, 87, 97, 89, 40,  6, 95, 37])\n"
     ]
    }
   ],
   "source": [
    "random.seed(13579) # the global random seed\n",
    "\n",
    "sim = simulus.simulator('myname')\n",
    "\n",
    "s1 = sim.rng().randrange(2**32)\n",
    "rng1= np.random.RandomState(s1)\n",
    "print(\"create rng1 with seed=%d\" % s1)\n",
    "\n",
    "s2 = sim.rng().randrange(2**32)\n",
    "rng2= np.random.RandomState(s2)\n",
    "print(\"create rng2 with seed=%d\" % s2)\n",
    "\n",
    "rv1 = stats.randint(0, 99)\n",
    "rv1.random_state = rng1\n",
    "\n",
    "rv2 = stats.randint(0, 99)\n",
    "rv2.random_state = rng2\n",
    "\n",
    "print('stream1: %r' % rv1.rvs(10))\n",
    "print('stream2: %r' % rv2.rvs(10))"
   ]
  },
  {
   "cell_type": "markdown",
   "metadata": {},
   "source": [
    "Now if we change one random stream, say, by replacing the random variable 'rv1' with a geometric distribution and also by changing the number of random samples drawn from the distribution (from 10 to 20), the other random stream would remain the same."
   ]
  },
  {
   "cell_type": "code",
   "execution_count": 18,
   "metadata": {},
   "outputs": [
    {
     "name": "stdout",
     "output_type": "stream",
     "text": [
      "create rng1 with seed=691080952\n",
      "create rng2 with seed=4265267818\n",
      "stream1: array([1, 2, 6, 1, 6, 1, 3, 4, 1, 8, 1, 4, 3, 2, 7, 3, 2, 1, 2, 2])\n",
      "stream2 (should be same): array([59, 19, 96, 87, 97, 89, 40,  6, 95, 37])\n"
     ]
    }
   ],
   "source": [
    "random.seed(13579) # the global random seed\n",
    "\n",
    "sim = simulus.simulator('myname')\n",
    "\n",
    "s1 = sim.rng().randrange(2**32)\n",
    "rng1= np.random.RandomState(s1)\n",
    "print(\"create rng1 with seed=%d\" % s1)\n",
    "\n",
    "s2 = sim.rng().randrange(2**32)\n",
    "rng2= np.random.RandomState(s2)\n",
    "print(\"create rng2 with seed=%d\" % s2)\n",
    "\n",
    "rv1 = stats.geom(0.25)\n",
    "rv1.random_state = rng1\n",
    "\n",
    "rv2 = stats.randint(0, 99)\n",
    "rv2.random_state = rng2\n",
    "\n",
    "print('stream1: %r' % rv1.rvs(20))\n",
    "print('stream2 (should be same): %r' % rv2.rvs(10))"
   ]
  },
  {
   "cell_type": "markdown",
   "metadata": {},
   "source": [
    "### Using Python Generator Functions\n",
    "\n",
    "The practice of simulation can be different from pure statistical analysis in that simulation tends to use the random numbers one at a time. For example, we draw one random number to represent the time it takes for the next customer to arrive at queue, and then we draw another to represent the time it takes for the customer to be served, although the two random numbers are drawn from different probability distributions. \n",
    "\n",
    "This can be accomplished easily using generator functions. Generator functions in Python are functions that can be paused and resumed on the fly, each time returning an object. The object can be inside an interation. For random number generation, the returned objects are random numbers from a probability distribution. \n",
    "\n",
    "To create a generator, one simply define a function that uses the 'yield' statement instead of 'return'. In the following example, we define a generator function `exp_generator()` which returns one random number at a time drawn from an exponential distribution with the given mean. We create two generator instances each with a separate random stream: one for the inter-arrival time and the other for the service time. The two random streams are \"attached\" with the simulator named 'myname'. As a result, they are independent, unique, and repeatable, as long as we use the same global random seed. "
   ]
  },
  {
   "cell_type": "code",
   "execution_count": 21,
   "metadata": {
    "scrolled": true
   },
   "outputs": [
    {
     "name": "stdout",
     "output_type": "stream",
     "text": [
      "0: iatime=0.0696941, svctime=0.659787\n",
      "1: iatime=0.510813, svctime=0.0816539\n",
      "2: iatime=1.46227, svctime=1.05767\n",
      "3: iatime=0.0529955, svctime=3.02943\n",
      "4: iatime=1.58114, svctime=1.33523\n",
      "...\n"
     ]
    }
   ],
   "source": [
    "random.seed(13579) # the global random seed\n",
    "\n",
    "def exp_generator(sim, mean):\n",
    "    s = sim.rng().randrange(2**32)\n",
    "    rv = stats.expon(scale=mean)\n",
    "    rv.random_state = np.random.RandomState(s)\n",
    "    while True:\n",
    "        # generate 100 random numbers in a batch and return\n",
    "        # them one by one, each time when this generator\n",
    "        # is called using next()\n",
    "        for x in rv.rvs(100):\n",
    "            yield x\n",
    "\n",
    "sim = simulus.simulator('myname')\n",
    "inter_arrival_time = exp_generator(sim, 1.0)\n",
    "service_time = exp_generator(sim, 0.8)\n",
    "\n",
    "for i in range(5):\n",
    "    print(\"%d: iatime=%g, svctime=%g\" % \n",
    "          (i, next(inter_arrival_time), next(service_time)))\n",
    "print('...')"
   ]
  }
 ],
 "metadata": {
  "kernelspec": {
   "display_name": "Python 3",
   "language": "python",
   "name": "python3"
  },
  "language_info": {
   "codemirror_mode": {
    "name": "ipython",
    "version": 3
   },
   "file_extension": ".py",
   "mimetype": "text/x-python",
   "name": "python",
   "nbconvert_exporter": "python",
   "pygments_lexer": "ipython3",
   "version": "3.7.3"
  }
 },
 "nbformat": 4,
 "nbformat_minor": 2
}
