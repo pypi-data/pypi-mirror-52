{
 "cells": [
  {
   "cell_type": "markdown",
   "metadata": {},
   "source": [
    "## Single-Server Queue with FIFO Discipline\n",
    "\n",
    "We start with a single-server queue with a FIFO queuing discipline. There is only one server for the queue. When a customer arrives at the queue, he find himself at the end of the queue. He waits in the queue until he gets to the front. He enters service when the server finishes with the previous customer. The customer is served for some time and then leaves the system. We use simulus to simulate this scenario.\n",
    "\n",
    "Before we start this section, let's first run the following so that we can set up the environment and import the necessary packages."
   ]
  },
  {
   "cell_type": "code",
   "execution_count": 1,
   "metadata": {},
   "outputs": [],
   "source": [
    "# for random distributions, random number generators, statistics\n",
    "import random\n",
    "import numpy as np\n",
    "import scipy.stats as stats\n",
    "\n",
    "# for simulation\n",
    "import simulus\n",
    "\n",
    "# for data visualization\n",
    "import matplotlib.pyplot as plt\n",
    "%matplotlib inline\n",
    "\n",
    "# for animation inside the notebook\n",
    "import ipywidgets as widgets\n",
    "from ipywidgets import interact"
   ]
  },
  {
   "cell_type": "markdown",
   "metadata": {},
   "source": [
    "You should have finished the previous section on pseudo-random number generation for simulation. We pick up from there and first create two generator functions to get the random numbers, one from an exponential distribution with a given mean, and the other from a truncated normal distribution at a specified range. The random sequence will start with a given random seed."
   ]
  },
  {
   "cell_type": "code",
   "execution_count": 2,
   "metadata": {},
   "outputs": [],
   "source": [
    "def exp_generator(mean, seed):\n",
    "    rv = stats.expon(scale=mean)\n",
    "    rv.random_state = np.random.RandomState(seed)\n",
    "    while True:\n",
    "        # 100 random numbers as a batch\n",
    "        for x in rv.rvs(100):\n",
    "            yield x\n",
    "\n",
    "def truncnorm_generator(a, b, seed):\n",
    "    rv = stats.truncnorm(a, b)\n",
    "    rv.random_state = np.random.RandomState(seed)\n",
    "    while True:\n",
    "        # 100 random numbers as a batch\n",
    "        for x in rv.rvs(100):\n",
    "            yield x"
   ]
  },
  {
   "cell_type": "markdown",
   "metadata": {},
   "source": [
    "### Event-Driven Approach\n",
    "\n",
    "Let's start with the easy way, by using the event-driven approach, where we handle the customer arrival and departure events, since these are the only instances when the state the queue may change.\n",
    "\n",
    "When a customer arrives at the queue, two things happen. One is that we need to schedule the arrival of the next customer. The other is that we check whether the customer can be served immediately (that is, the customer is the only one in the system upon arrival). If so, we need to schedule the departure of this customer. \n",
    "\n",
    "In simulus, to schedule an event in the future, we use the simulator's `sched()`, which takes the name of a function (which we call the event handler), followed by the list of arguments to be passed to the event handler (we have none for this example). The 'offset' argument is a keyworded argument for the `sched()` function (not for the event handler); it specifies the relative time from now the event is scheduled to happen.\n",
    "\n",
    "The event handler for customer arrival is listed below:"
   ]
  },
  {
   "cell_type": "code",
   "execution_count": 3,
   "metadata": {},
   "outputs": [],
   "source": [
    "def arrive():\n",
    "    global num_in_system\n",
    "    print('%g: customer arrives (num_in_system=%d->%d)' %\n",
    "          (sim.now, num_in_system, num_in_system+1))\n",
    "    \n",
    "    # increment the total number of customers in system\n",
    "    num_in_system += 1\n",
    "    \n",
    "    # schedule next customer's arrival\n",
    "    sim.sched(arrive, offset=next(inter_arrival_time))\n",
    "    \n",
    "    # the arrived customer is the only one in system\n",
    "    if num_in_system == 1:\n",
    "        # schedule the customer's departure\n",
    "        sim.sched(depart, offset=next(service_time))"
   ]
  },
  {
   "cell_type": "markdown",
   "metadata": {},
   "source": [
    "When a customer gets served, he leaves the system. After that, if there are other customers waiting, the next customer will be served immediately. For that, we need to schedule the departure of that customer. \n",
    "\n",
    "The event handler for customer departure is listed below:"
   ]
  },
  {
   "cell_type": "code",
   "execution_count": 4,
   "metadata": {},
   "outputs": [],
   "source": [
    "def depart():\n",
    "    global num_in_system\n",
    "    print('%g: customer departs (num_in_system=%d->%d)' %\n",
    "          (sim.now, num_in_system, num_in_system-1))\n",
    "    \n",
    "    # decrement the total number of customers in system\n",
    "    num_in_system -= 1\n",
    "    \n",
    "    # there are remaining customers in system\n",
    "    if num_in_system > 0:\n",
    "        # schedule the next customer's departure\n",
    "        sim.sched(depart, offset=next(service_time))"
   ]
  },
  {
   "cell_type": "markdown",
   "metadata": {},
   "source": [
    "Now we are ready to simulate the queue. We instantiate a simulator. We then create two generators, one for the inter-arrival time and the other for the service time. The two generators use separate random streams, seeded from the simulator-specific random sequence. Before we start the simulation, we schedule the first customer's arrival. And finally we run the simulation for 10 simulated seconds."
   ]
  },
  {
   "cell_type": "code",
   "execution_count": 5,
   "metadata": {
    "scrolled": true
   },
   "outputs": [
    {
     "name": "stdout",
     "output_type": "stream",
     "text": [
      "0.0317216: customer arrives (num_in_system=0->1)\n",
      "0.171341: customer departs (num_in_system=1->0)\n",
      "0.450915: customer arrives (num_in_system=0->1)\n",
      "1.13174: customer departs (num_in_system=1->0)\n",
      "2.76384: customer arrives (num_in_system=0->1)\n",
      "3.74348: customer departs (num_in_system=1->0)\n",
      "4.53929: customer arrives (num_in_system=0->1)\n",
      "4.58801: customer departs (num_in_system=1->0)\n",
      "5.84336: customer arrives (num_in_system=0->1)\n",
      "6.15646: customer departs (num_in_system=1->0)\n",
      "6.64925: customer arrives (num_in_system=0->1)\n",
      "6.76268: customer departs (num_in_system=1->0)\n",
      "8.03519: customer arrives (num_in_system=0->1)\n",
      "8.08347: customer arrives (num_in_system=1->2)\n",
      "8.12795: customer arrives (num_in_system=2->3)\n",
      "8.26366: customer arrives (num_in_system=3->4)\n",
      "8.40052: customer departs (num_in_system=4->3)\n",
      "8.68481: customer departs (num_in_system=3->2)\n"
     ]
    }
   ],
   "source": [
    "random.seed(13579) # global random seed\n",
    "\n",
    "sim = simulus.simulator('ssq')\n",
    "inter_arrival_time = exp_generator(1.2, sim.rng().randrange(2**32))\n",
    "service_time = exp_generator(0.8, sim.rng().randrange(2**32))\n",
    "\n",
    "num_in_system = 0\n",
    "sim.sched(arrive, offset=next(inter_arrival_time))\n",
    "sim.run(10)"
   ]
  },
  {
   "cell_type": "markdown",
   "metadata": {},
   "source": [
    "The output from simulation is kind of boring. Let's gather some statistics and try to plot them. \n",
    "\n",
    "We want to collect the wait time of the customers. To do that, we need to remember the time when the customer arrives at the system and also the time when the customer departs from the system. There are many ways to do the bookkeeping, the easy way we found is to simply use a data structure to keep track of the waiting customers. We use a deque (double-ended queue). We insert the time at which a customer enters the system and remove a time when the customer leaves. The time in-between is the customers wait time (including both queuing time and time in service). \n",
    "\n",
    "We also want to track the number of customers in the system as it changes over time. For this, we use a list and each entry in the list is a tuple consisted of the time and the number of customers enqueued at the time.\n",
    "\n",
    "The event handlers revised with bookkeeping are listed below:"
   ]
  },
  {
   "cell_type": "code",
   "execution_count": 6,
   "metadata": {},
   "outputs": [],
   "source": [
    "from collections import deque\n",
    "\n",
    "def arrive():\n",
    "    # add the customer to the end of the queue\n",
    "    queue.append(sim.now)\n",
    "    in_systems.append((sim.now, len(queue)))\n",
    "    \n",
    "    # schedule next customer's arrival\n",
    "    sim.sched(arrive, offset=next(inter_arrival_time))\n",
    "    \n",
    "    # the arrived customer is the only one in system\n",
    "    if len(queue) == 1:\n",
    "        # schedule the customer's departure\n",
    "        sim.sched(depart, offset=next(service_time))\n",
    "        \n",
    "def depart():\n",
    "    # remove a customer from the head of the queue\n",
    "    t = queue.popleft()\n",
    "    in_systems.append((sim.now, len(queue)))\n",
    "    waits.append(sim.now-t)\n",
    "    \n",
    "    # there are remaining customers in system\n",
    "    if len(queue) > 0:\n",
    "        # schedule the next customer's departure\n",
    "        sim.sched(depart, offset=next(service_time))"
   ]
  },
  {
   "cell_type": "markdown",
   "metadata": {},
   "source": [
    "Now we can run the simulation to gather the statistics. We can calculate the sample mean and standard deviation of the wait time. We can also calculate the average number of customers in the system. "
   ]
  },
  {
   "cell_type": "code",
   "execution_count": 7,
   "metadata": {},
   "outputs": [
    {
     "name": "stdout",
     "output_type": "stream",
     "text": [
      "waits: [0.1396196817329908, 0.6808302178418295, 0.9796324169967114]...\n",
      "in_systems: [(0, 0), (0.031721620996692464, 1), (0.17134130272968326, 0)]...\n",
      "wait time: mean=2.59974, stdev=2.71376\n",
      "avg in system = 2.18839\n"
     ]
    }
   ],
   "source": [
    "queue = deque()\n",
    "in_systems = [(0,0)]\n",
    "waits = []\n",
    "\n",
    "sim = simulus.simulator('ssq')\n",
    "inter_arrival_time = exp_generator(1.2, sim.rng().randrange(2**32))\n",
    "service_time = exp_generator(0.8, sim.rng().randrange(2**32))\n",
    "sim.sched(arrive, offset=next(inter_arrival_time))\n",
    "sim.run(10000)\n",
    "\n",
    "print('waits: %r...' % waits[:3])\n",
    "print('in_systems: %r...' % in_systems[:3])\n",
    "\n",
    "waits = np.array(waits)\n",
    "print(\"wait time: mean=%g, stdev=%g\" % \n",
    "      (waits.mean(), waits.std()))\n",
    "\n",
    "# area under curve divided by time is the \n",
    "# average number of customers in system\n",
    "aoc, last_t, last_l = 0, 0, 0\n",
    "for t, l in in_systems:\n",
    "    aoc += (t-last_t)*last_l\n",
    "    last_t, last_l = t, l\n",
    "print(\"avg in system = %g\" % (aoc/last_t))"
   ]
  },
  {
   "cell_type": "markdown",
   "metadata": {},
   "source": [
    "The queuing theory for M/M/1 queue tells us that for steady state, the mean wait time should be $1/(\\mu - \\lambda)$ and the mean number of customers in system should be $\\lambda/(\\mu - \\lambda)$. That is, $\\lambda=1/1.2=6/5$ and $\\mu=1/0.8=5/4$. Therefore, the mean wait time should be 2.4, and the mean number of customers in system should be 2.0. We can use long-run simulation to obtain better steady-state estimations. But in most simulation cases, we'd be more interested in the transient behanviors of the system under study.  \n",
    "\n",
    "The data collected during simulation can also be used to generate many interesting plots. For example, we can plot the number of customers in the system as it changes over time. In the following, we only plot the first few."
   ]
  },
  {
   "cell_type": "code",
   "execution_count": 11,
   "metadata": {},
   "outputs": [
    {
     "data": {
      "image/png": "[encoded data removed]",
      "text/plain": [
       "<Figure size 432x288 with 1 Axes>"
      ]
     },
     "metadata": {
      "needs_background": "light"
     },
     "output_type": "display_data"
    }
   ],
   "source": [
    "plt.step(*zip(*in_systems[:20]), where='post')\n",
    "plt.title(\"M/M/1 Queue\")\n",
    "plt.xlabel(\"Time\")\n",
    "plt.ylabel(\"Number Customers in System\")\n",
    "plt.show()"
   ]
  },
  {
   "cell_type": "markdown",
   "metadata": {},
   "source": [
    "We can plot histogram of the wait time. And we can examine the percentage of customers who have experienced long wait time, say, more than 10 seconds. "
   ]
  },
  {
   "cell_type": "code",
   "execution_count": 23,
   "metadata": {},
   "outputs": [
    {
     "data": {
      "image/png": "[encoded data removed]",
      "text/plain": [
       "<Figure size 432x288 with 1 Axes>"
      ]
     },
     "metadata": {
      "needs_background": "light"
     },
     "output_type": "display_data"
    },
    {
     "name": "stdout",
     "output_type": "stream",
     "text": [
      "2.61376% customers experienced wait time more than 10 seconds,\n",
      "while 90% customers experienced wait time no more than 6.06863 seconds\n"
     ]
    }
   ],
   "source": [
    "plt.hist(waits, alpha=0.5, bins='auto', density=True)\n",
    "plt.show()\n",
    "print('%g%% customers experienced wait time more than 10 seconds,' % \n",
    "      (100*(waits>10).sum()/len(waits)))\n",
    "print('while 90%% of customers experienced wait time no more than %g seconds' % \n",
    "      np.percentile(waits, 90))"
   ]
  },
  {
   "cell_type": "markdown",
   "metadata": {},
   "source": [
    "### Process-Oriented Approach\n",
    "\n",
    "The event-driven approach is more than sufficient to handle the single-server queue with the FIFO queuing discipline. However, the situation may get more complicated using the event-driven approach, when we deal with multiple servers with multiple queues and with more complicated queuing disciplines (such as priority-based scheduling with preemption). A strong aspect of simulus that distinguishes simulus from most other simulators is its natural support for process-oriented simulation. Simulus provides high-level modeling abstractions (such as traps, semaphores, resources, stores, and mailboxes) in order for users to create more intuitive and expressive simulation models using the process-oriented approach. We start here with the single-server queue and later we will expand it for more complicated queuing scenarios.\n",
    "\n",
    "Rather than directly scheduling events (one still can, if needs to), one create processes and have the processes to run their own course. Each process is a single thread of control. A process can be suspended, sleeping for time or waiting for resources. A process can resume execution, after sleep or when the wait conditions have been satisfied.\n",
    "\n",
    "For the single-server queue, we use a process to generate the customers. A process starts from a normal function, in this case, `gen_arrivals()`. Within the function, the process enters a forever loop, in which the process sleeps for some time (which is a random value returned from the `inter_arrival_time` generator function), and then creates another process that starts from a function called customer. As its name suggests, the process represents a customer who arrives at the queue. "
   ]
  },
  {
   "cell_type": "code",
   "execution_count": 24,
   "metadata": {},
   "outputs": [],
   "source": [
    "def gen_arrivals():\n",
    "    while True:\n",
    "        sim.sleep(next(inter_arrival_time))\n",
    "        sim.process(customer)"
   ]
  },
  {
   "cell_type": "markdown",
   "metadata": {},
   "source": [
    "The customer process waits for a server to be available. A server in this case is implemented as a resource. A process trying to acquire the resource may be suspended if the resource is unavailable (i.e., already acquired by another customer process). In that case, the process will be waiting in a queue maintained by the resource. Once the server becomes available, one of the waiting processes will be selected. By default, the resource selects the waiting process which enters the queue first. When the selected process acquires the server, and then sleeps for some time (which is a random value returned from the `service_time` generator function). After the sleep, the process releases the server so that if there are other customer processes waiting for the server, the server will select the next customer in queue."
   ]
  },
  {
   "cell_type": "code",
   "execution_count": 33,
   "metadata": {},
   "outputs": [],
   "source": [
    "def customer():\n",
    "    print('%g: customer arrives (num_in_system=%d->%d)' %\n",
    "          (sim.now, server.num_in_system(), server.num_in_system()+1))\n",
    "    server.acquire()\n",
    "    sim.sleep(next(service_time))\n",
    "    print('%g: customer departs (num_in_system=%d->%d)' %\n",
    "          (sim.now, server.num_in_system(), server.num_in_system()-1))\n",
    "    server.release()"
   ]
  },
  {
   "cell_type": "markdown",
   "metadata": {},
   "source": [
    "Now we are ready to simulate the queue. Like before, we instantiate a simulator and then create the two generators for the inter-arrival time and for the service time. We create the server as a resource and then starts the gen_arrivals process. Finally we run the simulation for 10 simulated seconds. The results should be exactly the same as the event-driven approach."
   ]
  },
  {
   "cell_type": "code",
   "execution_count": 34,
   "metadata": {},
   "outputs": [
    {
     "name": "stdout",
     "output_type": "stream",
     "text": [
      "0.0317216: customer arrives (num_in_system=0->1)\n",
      "0.171341: customer departs (num_in_system=1->0)\n",
      "0.450915: customer arrives (num_in_system=0->1)\n",
      "1.13174: customer departs (num_in_system=1->0)\n",
      "2.76384: customer arrives (num_in_system=0->1)\n",
      "3.74348: customer departs (num_in_system=1->0)\n",
      "4.53929: customer arrives (num_in_system=0->1)\n",
      "4.58801: customer departs (num_in_system=1->0)\n",
      "5.84336: customer arrives (num_in_system=0->1)\n",
      "6.15646: customer departs (num_in_system=1->0)\n",
      "6.64925: customer arrives (num_in_system=0->1)\n",
      "6.76268: customer departs (num_in_system=1->0)\n",
      "8.03519: customer arrives (num_in_system=0->1)\n",
      "8.08347: customer arrives (num_in_system=1->2)\n",
      "8.12795: customer arrives (num_in_system=2->3)\n",
      "8.26366: customer arrives (num_in_system=3->4)\n",
      "8.40052: customer departs (num_in_system=4->3)\n",
      "8.68481: customer departs (num_in_system=3->2)\n"
     ]
    }
   ],
   "source": [
    "sim = simulus.simulator('ssq')\n",
    "inter_arrival_time = exp_generator(1.2, sim.rng().randrange(2**32))\n",
    "service_time = exp_generator(0.8, sim.rng().randrange(2**32))\n",
    "server = sim.resource()\n",
    "sim.process(gen_arrivals)\n",
    "sim.run(10)"
   ]
  },
  {
   "cell_type": "code",
   "execution_count": null,
   "metadata": {},
   "outputs": [],
   "source": [
    "import random, simulus\n",
    "\n",
    "# set the global random seed for repeatability\n",
    "random.seed(13579)\n",
    "\n",
    "MEAN_IATIME = 1.0 # mean inter-arrival time\n",
    "MEAN_STIME = 0.8 # mean service time\n",
    "\n",
    "def iatime(rng): \n",
    "    return rng.expovariate(1/MEAN_IATIME)\n",
    "\n",
    "def svtime(rng):\n",
    "    return rng.expovariate(1/MEAN_STIME)\n",
    "\n",
    "def job(sim, job_id, rsc):\n",
    "    t = sim.now\n",
    "    print('%g: job[%d] arrives (jobs_in_system=%d)' % \n",
    "          (sim.now, job_id, rsc.num_in_system()+1))\n",
    "    \n",
    "    rsc.acquire()\n",
    "    print('%g: job[%d] enters service (queue_time=%g)' % \n",
    "          (sim.now, job_id, sim.now-t))\n",
    "    \n",
    "    sim.sleep(svtime(sim.rng()))\n",
    "    rsc.release()\n",
    "    print('%g: job[%d] departs (time_in_system=%g, jobs_in_system=%d)' % \n",
    "          (sim.now, job_id, sim.now-t, rsc.num_in_system()))\n",
    "    \n",
    "def arrive(sim, rsc):\n",
    "    job_id = 0\n",
    "    while True:\n",
    "        sim.sleep(iatime(sim.rng()))\n",
    "        sim.process(job, sim, job_id, rsc)\n",
    "        job_id += 1\n",
    "\n",
    "sim = sm.simulator('ssq')\n",
    "rsc = sim.resource()\n",
    "sim.process(arrive, sim, rsc)\n",
    "sim.run(10)"
   ]
  }
 ],
 "metadata": {
  "kernelspec": {
   "display_name": "Python 3",
   "language": "python",
   "name": "python3"
  },
  "language_info": {
   "codemirror_mode": {
    "name": "ipython",
    "version": 3
   },
   "file_extension": ".py",
   "mimetype": "text/x-python",
   "name": "python",
   "nbconvert_exporter": "python",
   "pygments_lexer": "ipython3",
   "version": "3.7.3"
  }
 },
 "nbformat": 4,
 "nbformat_minor": 2
}
