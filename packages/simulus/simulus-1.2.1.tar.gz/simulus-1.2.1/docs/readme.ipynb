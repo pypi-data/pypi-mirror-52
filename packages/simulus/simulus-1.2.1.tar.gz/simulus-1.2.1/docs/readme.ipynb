{
 "cells": [
  {
   "cell_type": "markdown",
   "metadata": {},
   "source": [
    "# Quick Start"
   ]
  },
  {
   "cell_type": "markdown",
   "metadata": {},
   "source": [
    "Simulus is an open-source discrete-event simulator in Python. Simulus implements a process-oriented simulation world-view with several advanced features to ease modeling and simulation tasks with both events and processes.  Simulus also supports parallel and distributed simulation (since version 1.2). We will soon add support for real-time simulation (planned for version 1.3).\n",
    "\n",
    "* Online documentation:\n",
    "http://simulus.readthedocs.io/\n",
    "\n",
    "* Source code repository:\n",
    "https://github.com/liuxfiu/simulus/\n",
    "\n",
    "* License:\n",
    "MIT -- see the file LICENSE for details."
   ]
  },
  {
   "cell_type": "markdown",
   "metadata": {},
   "source": [
    "## Installation"
   ]
  },
  {
   "cell_type": "markdown",
   "metadata": {},
   "source": [
    "Simulus should run with Python version 2.8 and above. If your python is too old, you should consider updating your Python as well as `pip` (Python’s package manager).\n",
    "\n",
    "You should be able to install simulus with `pip`:\n",
    "\n",
    "```\n",
    "pip install simulus\n",
    "```\n",
    "\n",
    "This will install simulus system-wide for all users (assuming you have the necessary privilege on your machine). The installation will also automatically include all Python packages needed by simulus.\n",
    "\n",
    "You can also install simulus for just yourself, using:\n",
    "\n",
    "```\n",
    "pip install --user simulus\n",
    "```\n",
    "\n",
    "If you had simulus installed previously, you can always upgrade the existing simulus installation with the newest release, using:\n",
    "\n",
    "```\n",
    "pip install --upgrade --user simulus\n",
    "```\n",
    "\n",
    "You can also install the most recent development version via:\n",
    "\n",
    "```\n",
    "pip install -e git+https://github.com/liuxfiu/simulus.git#egg=simulus\n",
    "```"
   ]
  },
  {
   "cell_type": "markdown",
   "metadata": {},
   "source": [
    "## Basic Usage"
   ]
  },
  {
   "cell_type": "markdown",
   "metadata": {},
   "source": [
    "We show the basic use of simulus in the following. The purpose here is show some of the basic capabilities of simulus. For more detailed explanation and to learn to use simulus, you should check out the simulus tutorial mentioned above.\n",
    "\n",
    "Simulus can work in two ways. One way is through events. The user schedules events. Simulus makes sure all events are sorted in timestamp order. When an event happens, simulus advances the simulation time to the event and calls the event handler, which is just a user-defined function. While processing the event, the user can schedule new events into the simulated future. We call this approach *direct event scheduling*. \n",
    "\n",
    "The other way is through processes. The user can create processes and have them run and interact. Each process is a separate thread of control. During its execution, a process may be suspended, by either sleeping for some time or getting blocked when requesting for some resources currently unavailable. The process resumes execution when the specified time has passed or after the resource blocking conditions have been removed. We call this approach *process scheduling*. \n",
    "\n",
    "In simulus, both direct event scheduling and process scheduling can be used together seamlessly to achieve the modeling tasks.\n",
    "\n",
    "The following is a hello-world example, which simply schedules a function (a.k.a. an event handler) to be invoked in the simulated future. Inside the function, the user schedules the same function again."
   ]
  },
  {
   "cell_type": "code",
   "execution_count": 1,
   "metadata": {},
   "outputs": [
    {
     "name": "stdout",
     "output_type": "stream",
     "text": [
      "Hello world at time 10\n",
      "Hello world at time 20\n",
      "Hello world at time 30\n",
      "Hello world at time 40\n",
      "Hello world at time 50\n",
      "Hello world at time 60\n",
      "Hello world at time 70\n",
      "Hello world at time 80\n",
      "Hello world at time 90\n"
     ]
    }
   ],
   "source": [
    "import simulus\n",
    "\n",
    "def print_message():\n",
    "    print(\"Hello world at time\", sim.now)\n",
    "    sim.sched(print_message, offset=10)\n",
    "    \n",
    "sim = simulus.simulator()\n",
    "sim.sched(print_message, until=10)\n",
    "sim.run(100)"
   ]
  },
  {
   "cell_type": "markdown",
   "metadata": {},
   "source": [
    "The following is the same hello-world example, but instead we use a process. A process is a continuous thread of execution. In the example, once started, the process loops forever. Inside each iteration, the process prints out a message and then sleeps for some time."
   ]
  },
  {
   "cell_type": "code",
   "execution_count": 2,
   "metadata": {},
   "outputs": [
    {
     "name": "stdout",
     "output_type": "stream",
     "text": [
      "Hello world at time 10\n",
      "Hello world at time 20\n",
      "Hello world at time 30\n",
      "Hello world at time 40\n",
      "Hello world at time 50\n",
      "Hello world at time 60\n",
      "Hello world at time 70\n",
      "Hello world at time 80\n",
      "Hello world at time 90\n"
     ]
    }
   ],
   "source": [
    "import simulus\n",
    "\n",
    "def print_message():\n",
    "    while True:\n",
    "        print(\"Hello world at time\", sim.now)\n",
    "        sim.sleep(10)\n",
    "    \n",
    "sim = simulus.simulator()\n",
    "sim.process(print_message, until=10)\n",
    "sim.run(100)"
   ]
  },
  {
   "cell_type": "markdown",
   "metadata": {},
   "source": [
    "Simulus allows events and processes to coexist. For example, simulus supports conditional-wait on both events and processes. The following shows an example that models Tom and Jerry entering a race. \n",
    "\n",
    "Tom is modeled by processes. Each time Tom enters the race, we create a process, which calls `sleep()` to represent the time duration for the run. The time duration is a random variable from a normal distribution with a mean of 100 and a standard deviation of 50 (and a cutoff below zero). Jerry is modeled by events. Each time Jerry enters the race, we schedule an event using `sched()` with a time offset representing the time duration for the run. The time duration is a random variable from a uniform distribution between 50 and 100. \n",
    "\n",
    "Tom and Jerry compete for ten times; the next race would start as soon as the previous one finishes. For each race, whoever runs the fastest wins. But if they run for more than 100, both are disqualified for that race. The simulation finds out who eventually wins more races."
   ]
  },
  {
   "cell_type": "code",
   "execution_count": 3,
   "metadata": {},
   "outputs": [
    {
     "name": "stdout",
     "output_type": "stream",
     "text": [
      "<--- competition starts at 0 -->\n",
      "77.5459: jerry finished\n",
      "77.5459: jerry wins\n",
      "<--- competition starts at 77.5459 -->\n",
      "171.749: jerry finished\n",
      "171.749: jerry wins\n",
      "<--- competition starts at 171.749 -->\n",
      "271.749: both disqualified\n",
      "<--- competition starts at 271.749 -->\n",
      "357.072: tom finished\n",
      "357.072: tom wins\n",
      "<--- competition starts at 357.072 -->\n",
      "430.387: tom finished\n",
      "430.387: tom wins\n",
      "<--- competition starts at 430.387 -->\n",
      "485.297: tom finished\n",
      "485.297: tom wins\n",
      "<--- competition starts at 485.297 -->\n",
      "585.297: both disqualified\n",
      "<--- competition starts at 585.297 -->\n",
      "611.838: tom finished\n",
      "611.838: tom wins\n",
      "<--- competition starts at 611.838 -->\n",
      "711.838: both disqualified\n",
      "<--- competition starts at 711.838 -->\n",
      "811.838: both disqualified\n",
      "final result: tom:jerry=4:2\n"
     ]
    }
   ],
   "source": [
    "import simulus\n",
    "\n",
    "from random import seed, gauss, uniform\n",
    "seed(321)\n",
    "\n",
    "def tom():\n",
    "    sim.sleep(max(0, gauss(100, 50)))\n",
    "    print(\"%g: tom finished\" % sim.now)\n",
    "\n",
    "def jerry():\n",
    "    print(\"%g: jerry finished\" % sim.now)\n",
    "\n",
    "def compete():\n",
    "    tom_won, jerry_won = 0, 0\n",
    "    for _ in range(10):\n",
    "        print(\"<--- competition starts at %g -->\" % sim.now)\n",
    "\n",
    "        p = sim.process(tom) # run, tom, run!\n",
    "        e = sim.sched(jerry, offset=uniform(50, 150)) # run, jerry, run!\n",
    "    \n",
    "        # let the race begin...\n",
    "        (r1, r2), timedout = sim.wait((p, e), 100, method=any)\n",
    "        # the return values indicate which wait conditions have been satisfied\n",
    "        if timedout:\n",
    "            print(\"%g: both disqualified\" % sim.now)\n",
    "            sim.cancel(p) # both tom and ...\n",
    "            sim.cancel(e) # jerry can stop running now\n",
    "        elif r1: \n",
    "            print(\"%g: tom wins\" % sim.now)\n",
    "            tom_won += 1\n",
    "            sim.cancel(e) # jerry can stop running now\n",
    "        else:\n",
    "            print(\"%g: jerry wins\" % sim.now)\n",
    "            jerry_won += 1\n",
    "            sim.cancel(p) # tom can stop running now\n",
    "    print(\"final result: tom:jerry=%d:%d\" % (tom_won, jerry_won))\n",
    "\n",
    "sim = simulus.simulator()\n",
    "sim.process(compete)\n",
    "sim.run()"
   ]
  },
  {
   "cell_type": "markdown",
   "metadata": {},
   "source": [
    "Simulus also provides several advanced features to ease the common modeling and simulation tasks, including those for modeling single-server or multi-server queues, for performing producer-consumer synchronization over bounded buffers, and for conducting message-passing communication among the processes.\n",
    "\n",
    "For example, simulus provides the modeling abstraction of a \"store\", which is a facility for storing countable objects (such as jobs in a queue, packets in a network router, and i/o requests arrived at a storage device), or for storing uncountable quantities or volumes (such as gas in a tank, water in a reservoir, and battery power in a mobile device). The following example shows the use of store as a bounded buffer with multiple producers and consumers."
   ]
  },
  {
   "cell_type": "code",
   "execution_count": 4,
   "metadata": {},
   "outputs": [
    {
     "name": "stdout",
     "output_type": "stream",
     "text": [
      "0.010221: producer 1 produces item [0]\n",
      "0.010221: producer 1 stores item [0] in buffer\n",
      "0.010221: consumer 0 retrieves item [0] from buffer\n",
      "0.364955: consumer 0 consumes item [0]\n",
      "0.538916: producer 0 produces item [1]\n",
      "0.538916: producer 0 stores item [1] in buffer\n",
      "0.538916: consumer 2 retrieves item [1] from buffer\n",
      "0.754168: consumer 2 consumes item [1]\n",
      "0.998434: producer 0 produces item [2]\n",
      "0.998434: producer 0 stores item [2] in buffer\n",
      "0.998434: consumer 1 retrieves item [2] from buffer\n",
      "1.174799: consumer 1 consumes item [2]\n",
      "1.754371: producer 1 produces item [3]\n",
      "1.754371: producer 1 stores item [3] in buffer\n",
      "1.754371: consumer 0 retrieves item [3] from buffer\n",
      "1.833163: producer 0 produces item [4]\n",
      "1.833163: producer 0 stores item [4] in buffer\n",
      "1.833163: consumer 2 retrieves item [4] from buffer\n",
      "1.887065: producer 1 produces item [5]\n",
      "1.887065: producer 1 stores item [5] in buffer\n",
      "1.887065: consumer 1 retrieves item [5] from buffer\n",
      "2.024740: consumer 2 consumes item [4]\n",
      "2.321655: consumer 0 consumes item [3]\n",
      "2.325417: consumer 1 consumes item [5]\n",
      "2.658879: producer 0 produces item [6]\n",
      "2.658879: producer 0 stores item [6] in buffer\n",
      "2.658879: consumer 2 retrieves item [6] from buffer\n",
      "2.692757: producer 1 produces item [7]\n",
      "2.692757: producer 1 stores item [7] in buffer\n",
      "2.692757: consumer 0 retrieves item [7] from buffer\n",
      "2.754613: consumer 2 consumes item [6]\n",
      "3.223988: consumer 0 consumes item [7]\n"
     ]
    }
   ],
   "source": [
    "import simulus\n",
    "\n",
    "from random import seed, expovariate\n",
    "seed(12345)\n",
    "\n",
    "items_produced = 0 # keep track the number of items being produced\n",
    "\n",
    "def producer(idx):\n",
    "    global items_produced\n",
    "    while True:\n",
    "        sim.sleep(expovariate(1)) # take time to produce an item\n",
    "        serial_no = items_produced\n",
    "        items_produced += 1\n",
    "        print(\"%f: producer %d produces item [%d]\" % (sim.now, idx, serial_no))\n",
    "        s.put(obj=serial_no)\n",
    "        print(\"%f: producer %d stores item [%d] in buffer\" % \n",
    "              (sim.now, idx, serial_no))\n",
    "        \n",
    "def consumer(idx):\n",
    "    while True:\n",
    "        serial_no = s.get()\n",
    "        print(\"%f: consumer %d retrieves item [%d] from buffer\" %\n",
    "              (sim.now, idx, serial_no))\n",
    "        sim.sleep(expovariate(1)) # take time to consume the item\n",
    "        print(\"%f: consumer %d consumes item [%d]\" % (sim.now, idx, serial_no))\n",
    "\n",
    "sim = simulus.simulator()\n",
    "\n",
    "# create a buffer with 3 slots\n",
    "s = sim.store(capacity=3)\n",
    "\n",
    "# create 2 producers and 3 consumers\n",
    "for i in range(2): \n",
    "    sim.process(producer, i)\n",
    "for i in range(3):\n",
    "    sim.process(consumer, i)\n",
    "\n",
    "sim.run(5)\n"
   ]
  },
  {
   "cell_type": "markdown",
   "metadata": {},
   "source": [
    "## Credits"
   ]
  },
  {
   "cell_type": "markdown",
   "metadata": {},
   "source": [
    "Simulus is developed and maintained by Jason Liu (jasonxliu2010@gmail.com). The project started as a summer pet project in 2019. Simulus is open source and free. The author hopes that you'll find simulus useful in your projects, for teaching, for research development, or for any endeavors.\n",
    "\n",
    "If you are using simulus in any extended way, the author would appreciate if you can drop a brief email to let him know about your projects using simulus. If you have any questions or comments about simulus, send emails to him too. The author would certainly try his best to respond to them in a timely fashion."
   ]
  },
  {
   "cell_type": "code",
   "execution_count": null,
   "metadata": {},
   "outputs": [],
   "source": []
  }
 ],
 "metadata": {
  "kernelspec": {
   "display_name": "Python 3",
   "language": "python",
   "name": "python3"
  },
  "language_info": {
   "codemirror_mode": {
    "name": "ipython",
    "version": 3
   },
   "file_extension": ".py",
   "mimetype": "text/x-python",
   "name": "python",
   "nbconvert_exporter": "python",
   "pygments_lexer": "ipython3",
   "version": "3.7.3"
  }
 },
 "nbformat": 4,
 "nbformat_minor": 2
}
