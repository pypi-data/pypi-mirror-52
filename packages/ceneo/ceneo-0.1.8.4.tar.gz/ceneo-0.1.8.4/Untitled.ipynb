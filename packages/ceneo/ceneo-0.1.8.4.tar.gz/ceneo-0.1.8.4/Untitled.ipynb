{
 "cells": [
  {
   "cell_type": "code",
   "execution_count": 1,
   "metadata": {},
   "outputs": [],
   "source": [
    "import ceneo\n",
    "import luminati"
   ]
  },
  {
   "cell_type": "code",
   "execution_count": 2,
   "metadata": {},
   "outputs": [],
   "source": [
    "session = luminati.session(\"lum-customer-hl_7c6aa799-zone-zone1\", \"7nli0zglq1l2\")"
   ]
  },
  {
   "cell_type": "code",
   "execution_count": 4,
   "metadata": {},
   "outputs": [
    {
     "data": {
      "text/plain": [
       "['https://www.ceneo.pl/60762673',\n",
       " 'https://www.ceneo.pl/60540273',\n",
       " 'https://www.ceneo.pl/53797315',\n",
       " 'https://www.ceneo.pl/52352232',\n",
       " 'https://www.ceneo.pl/25943100']"
      ]
     },
     "execution_count": 4,
     "metadata": {},
     "output_type": "execute_result"
    }
   ],
   "source": [
    "q=\"MIX PALETA ZABAWKI, KUCHNIE KLASA A, DISNEY (7598236683)\"\n",
    "links=ceneo.items(q,session=session)\n",
    "links"
   ]
  },
  {
   "cell_type": "code",
   "execution_count": null,
   "metadata": {},
   "outputs": [],
   "source": [
    "link=links[0]\n"
   ]
  }
 ],
 "metadata": {
  "kernelspec": {
   "display_name": "Python 3",
   "language": "python",
   "name": "python3"
  },
  "language_info": {
   "codemirror_mode": {
    "name": "ipython",
    "version": 3
   },
   "file_extension": ".py",
   "mimetype": "text/x-python",
   "name": "python",
   "nbconvert_exporter": "python",
   "pygments_lexer": "ipython3",
   "version": "3.7.3"
  }
 },
 "nbformat": 4,
 "nbformat_minor": 2
}
