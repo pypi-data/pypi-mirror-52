{
 "cells": [
  {
   "cell_type": "code",
   "execution_count": 1,
   "metadata": {},
   "outputs": [],
   "source": [
    "import ceneo\n",
    "import luminati"
   ]
  },
  {
   "cell_type": "code",
   "execution_count": 2,
   "metadata": {},
   "outputs": [],
   "source": [
    "session = luminati.session(\"lum-customer-hl_7c6aa799-zone-zone1\", \"7nli0zglq1l2\")"
   ]
  },
  {
   "cell_type": "code",
   "execution_count": 3,
   "metadata": {},
   "outputs": [
    {
     "data": {
      "text/plain": [
       "['https://www.ceneo.pl/60762673',\n",
       " 'https://www.ceneo.pl/60540273',\n",
       " 'https://www.ceneo.pl/53797315',\n",
       " 'https://www.ceneo.pl/52352232',\n",
       " 'https://www.ceneo.pl/25943100']"
      ]
     },
     "execution_count": 3,
     "metadata": {},
     "output_type": "execute_result"
    }
   ],
   "source": [
    "q=\"MIX PALETA ZABAWKI, KUCHNIE KLASA A, DISNEY (7598236683)\"\n",
    "links=ceneo.items(q,session=session)\n",
    "links"
   ]
  },
  {
   "cell_type": "code",
   "execution_count": 4,
   "metadata": {},
   "outputs": [
    {
     "data": {
      "text/plain": [
       "{'breadcrumbs': ['Ceneo', 'Dla dziecka', 'Zabawki', 'Klocki'],\n",
       " 'image': '//image.ceneostatic.pl/data/products/60762673/f-playmobil-cysterna-na-wode-9144.jpg',\n",
       " 'name': ' Playmobil Cysterna Na Wodę (9144)',\n",
       " 'price': 78.9,\n",
       " 'product_score': 5.0,\n",
       " 'description': '\\nCysterna na wodę 9144. Pojazd to kolejna propozycja z serii \"Playmobil Sand\", która doskonale nadaje się do zabawy z piaskiem i wodą. Duże i wytrzymałe auto zostało skonstruowane tak, by dzieci mogły cieszyć się jego funkcjonalnością podczas wspaniałej zabawy na świeżym powietrzu. Kabina ma miejsce dla 2 figurek z kolekcji Playmobil 1.2.3, które w łatwy sposób można ulokować we wnętrzu pojazdu. Na naczepie umieszczono cysternę, do której można wlać wodę. Dzięki wyprofilowanemu uchwytowi i lejkowi, ta część zabawki tworzy swoistą, łatwą w użyciu dla dziecięcych dłoni - konewkę. Ponadto całość uzupełniają elementy specjalnych szyn, które mają w razie konieczności ułatwić wyjazd ciężarówki z grząskiego gruntu. Cysterną kieruje figurka budowlańca. Zawartość zestawu: pojazd cysterna z funkcją konewki figurka kierowcy 2 szyny Przedział wiekowy Od 2 lat Wymiary opakowania 30cm x 42 cm x 17 cm Playmobil to bogata paleta zestawów, nawiązujących w swej tematyce do otaczającej dzieci rzeczywistości, a także do historii znanych z bajek i świata fantazji. Serie Playmobil pozwalają dzieciom stworzyć własne, miniaturowe \"królestwo\", odgrywać scenki i wchodzić w role poszczególnych postaci. Te cechy zabawek Playmobil sprawiają, że wpływają one na rozwój kreatywności, fantazji i wrażliwości u dzieci, a także zachęcają do poznawania świata. Różnorodna tematyka: zoo, lecznica, farma, stadnina, wakacje, szkoła, las, Afryka, piraci - sprawia, że każde dziecko znajdzie tu coś dla siebie. Najwyższa jakość produktów, zaawansowana technologia i linia produkcyjna wyłącznie na terenie Europy, a także piękna, żywa kolorystyka to kolejne, istotne cechy zabawek Playmobil, dzięki którym zyskały one zaufanie rodziców na całym świecie, a dzieciom dostarczają wiele godzin fantastycznej zabawy. Aukcja wystawiona automatycznie przez xSale                            ',\n",
       " 'atts': {'Producent': 'Playmobil > Klocki Playmobil',\n",
       "  'Przeznaczenie': 'Uniwersalne > Klocki dla chłopców i dziewczynek',\n",
       "  'Wiek dziecka': 'Dla malucha (<3 lat)',\n",
       "  'Popularne serie': 'Playmobil Sand',\n",
       "  'Rodzaj': 'Plastikowe > Klocki dla dzieci Plastikowe'},\n",
       " 'offers': [{'name': 'korob.pl', 'price': 74.0, 'comments_count': 891.0},\n",
       "  {'name': 'krainazabawy.pl', 'price': 78.0, 'comments_count': 891.0},\n",
       "  {'name': 'emag.pl', 'price': 84.0, 'comments_count': 891.0},\n",
       "  {'name': 'komputronik.pl', 'price': 81.0, 'comments_count': 891.0},\n",
       "  {'name': 'krainazabawek24.pl', 'price': 75.0, 'comments_count': 891.0},\n",
       "  {'name': 'karen.pl', 'price': 76.0, 'comments_count': 891.0},\n",
       "  {'name': 'net-s.pl', 'price': 78.0, 'comments_count': 891.0},\n",
       "  {'name': 'allegro.pl', 'price': 81.0, 'comments_count': 891.0},\n",
       "  {'name': 'hulahop.pl', 'price': 83.0, 'comments_count': 891.0},\n",
       "  {'name': 'smyk.com', 'price': 86.0, 'comments_count': 891.0}],\n",
       " 'Marka': 'Playmobil',\n",
       " 'Bohater': ''}"
      ]
     },
     "execution_count": 4,
     "metadata": {},
     "output_type": "execute_result"
    }
   ],
   "source": [
    "link=links[0]\n",
    "ceneo.parse(link)"
   ]
  }
 ],
 "metadata": {
  "kernelspec": {
   "display_name": "Python 3",
   "language": "python",
   "name": "python3"
  },
  "language_info": {
   "codemirror_mode": {
    "name": "ipython",
    "version": 3
   },
   "file_extension": ".py",
   "mimetype": "text/x-python",
   "name": "python",
   "nbconvert_exporter": "python",
   "pygments_lexer": "ipython3",
   "version": "3.7.3"
  }
 },
 "nbformat": 4,
 "nbformat_minor": 2
}
