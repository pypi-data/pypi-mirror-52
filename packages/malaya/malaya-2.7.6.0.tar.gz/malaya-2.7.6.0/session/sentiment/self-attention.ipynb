{
 "cells": [
  {
   "cell_type": "code",
   "execution_count": 1,
   "metadata": {},
   "outputs": [
    {
     "name": "stderr",
     "output_type": "stream",
     "text": [
      "/usr/local/lib/python3.6/dist-packages/sklearn/cross_validation.py:41: DeprecationWarning: This module was deprecated in version 0.18 in favor of the model_selection module into which all the refactored classes and functions are moved. Also note that the interface of the new CV iterators are different from that of this module. This module will be removed in 0.20.\n",
      "  \"This module will be removed in 0.20.\", DeprecationWarning)\n"
     ]
    }
   ],
   "source": [
    "import re\n",
    "import numpy as np\n",
    "import collections\n",
    "from sklearn import metrics\n",
    "from sklearn.cross_validation import train_test_split\n",
    "import tensorflow as tf\n",
    "import pandas as pd\n",
    "from unidecode import unidecode\n",
    "from sklearn.preprocessing import LabelEncoder\n",
    "from tqdm import tqdm\n",
    "import time\n",
    "import malaya"
   ]
  },
  {
   "cell_type": "code",
   "execution_count": 2,
   "metadata": {},
   "outputs": [],
   "source": [
    "tokenizer = malaya.preprocessing._SocialTokenizer().tokenize\n",
    "rules_normalizer = malaya.texts._tatabahasa.rules_normalizer\n",
    "\n",
    "def is_number_regex(s):\n",
    "    if re.match(\"^\\d+?\\.\\d+?$\", s) is None:\n",
    "        return s.isdigit()\n",
    "    return True\n",
    "\n",
    "def detect_money(word):\n",
    "    if word[:2] == 'rm' and is_number_regex(word[2:]):\n",
    "        return True\n",
    "    else:\n",
    "        return False\n",
    "\n",
    "def preprocessing(string):\n",
    "    tokenized = tokenizer(unidecode(string))\n",
    "    tokenized = [malaya.stem.naive(w) for w in tokenized]\n",
    "    tokenized = [w.lower() for w in tokenized if len(w) > 1]\n",
    "    tokenized = [rules_normalizer.get(w, w) for w in tokenized]\n",
    "    tokenized = ['<NUM>' if is_number_regex(w) else w for w in tokenized]\n",
    "    tokenized = ['<MONEY>' if detect_money(w) else w for w in tokenized]\n",
    "    return tokenized"
   ]
  },
  {
   "cell_type": "code",
   "execution_count": 3,
   "metadata": {},
   "outputs": [],
   "source": [
    "def build_dataset(words, n_words):\n",
    "    count = [['GO', 0], ['PAD', 1], ['EOS', 2], ['UNK', 3]]\n",
    "    counter = collections.Counter(words).most_common(n_words)\n",
    "    count.extend(counter)\n",
    "    dictionary = dict()\n",
    "    for word, _ in count:\n",
    "        dictionary[word] = len(dictionary)\n",
    "    data = list()\n",
    "    unk_count = 0\n",
    "    for word in words:\n",
    "        index = dictionary.get(word, 3)\n",
    "        if index == 0:\n",
    "            unk_count += 1\n",
    "        data.append(index)\n",
    "    count[0][1] = unk_count\n",
    "    reversed_dictionary = dict(zip(dictionary.values(), dictionary.keys()))\n",
    "    return data, count, dictionary, reversed_dictionary\n",
    "\n",
    "def str_idx(corpus, dic, maxlen, UNK = 3):\n",
    "    X = np.zeros((len(corpus), maxlen))\n",
    "    for i in range(len(corpus)):\n",
    "        for no, k in enumerate(corpus[i][:maxlen][::-1]):\n",
    "            X[i, -1 - no] = dic.get(k, UNK)\n",
    "    return X"
   ]
  },
  {
   "cell_type": "code",
   "execution_count": 4,
   "metadata": {},
   "outputs": [
    {
     "data": {
      "text/plain": [
       "['raja',\n",
       " 'benar',\n",
       " 'sangat',\n",
       " 'benci',\n",
       " 'rakyat',\n",
       " 'minyak',\n",
       " 'naik',\n",
       " 'gala',\n",
       " 'jadi']"
      ]
     },
     "execution_count": 4,
     "metadata": {},
     "output_type": "execute_result"
    }
   ],
   "source": [
    "preprocessing('kerajaan sebenarnya sangat bencikan rakyatnya, minyak naik dan segalanya jd')"
   ]
  },
  {
   "cell_type": "code",
   "execution_count": 5,
   "metadata": {},
   "outputs": [],
   "source": [
    "import json\n",
    "\n",
    "with open('tokenization.json') as fopen:\n",
    "    dataset = json.load(fopen)\n",
    "texts = dataset['texts']\n",
    "labels = dataset['labels']\n",
    "del dataset"
   ]
  },
  {
   "cell_type": "code",
   "execution_count": 6,
   "metadata": {},
   "outputs": [],
   "source": [
    "with open('sentiment-dictionary.json') as fopen:\n",
    "    d = json.load(fopen)\n",
    "dictionary = d['dictionary']\n",
    "rev_dictionary = d['reverse_dictionary']"
   ]
  },
  {
   "cell_type": "code",
   "execution_count": 7,
   "metadata": {},
   "outputs": [],
   "source": [
    "def position_encoding(inputs):\n",
    "    T = tf.shape(inputs)[1]\n",
    "    repr_dim = inputs.get_shape()[-1].value\n",
    "    pos = tf.reshape(tf.range(0.0, tf.to_float(T), dtype=tf.float32), [-1, 1])\n",
    "    i = np.arange(0, repr_dim, 2, np.float32)\n",
    "    denom = np.reshape(np.power(10000.0, i / repr_dim), [1, -1])\n",
    "    enc = tf.expand_dims(tf.concat([tf.sin(pos / denom), tf.cos(pos / denom)], 1), 0)\n",
    "    return tf.tile(enc, [tf.shape(inputs)[0], 1, 1])\n",
    "\n",
    "def layer_norm(inputs, epsilon=1e-8):\n",
    "    mean, variance = tf.nn.moments(inputs, [-1], keep_dims=True)\n",
    "    normalized = (inputs - mean) / (tf.sqrt(variance + epsilon))\n",
    "    params_shape = inputs.get_shape()[-1:]\n",
    "    gamma = tf.get_variable('gamma', params_shape, tf.float32, tf.ones_initializer())\n",
    "    beta = tf.get_variable('beta', params_shape, tf.float32, tf.zeros_initializer())\n",
    "    return gamma * normalized + beta\n",
    "\n",
    "def Attention(inputs, num_units, num_heads = 8, activation = None):\n",
    "    inputs = tf.layers.dropout(inputs, 0.3, training=True)\n",
    "    T_q = T_k = tf.shape(inputs)[1]\n",
    "    Q_K_V = tf.layers.dense(inputs, 3*num_units, activation)\n",
    "    Q, K, V = tf.split(Q_K_V, 3, -1)\n",
    "    Q_ = tf.concat(tf.split(Q, num_heads, axis=2), 0)\n",
    "    K_ = tf.concat(tf.split(K, num_heads, axis=2), 0)\n",
    "    V_ = tf.concat(tf.split(V, num_heads, axis=2), 0)\n",
    "    align = tf.matmul(Q_, K_, transpose_b=True)\n",
    "    align *= tf.rsqrt(tf.to_float(K_.get_shape()[-1].value))\n",
    "    paddings = tf.fill(tf.shape(align), float('-inf'))\n",
    "    lower_tri = tf.ones([T_q, T_k])\n",
    "    lower_tri = tf.linalg.LinearOperatorLowerTriangular(lower_tri).to_dense()\n",
    "    masks = tf.tile(tf.expand_dims(lower_tri,0), [tf.shape(align)[0],1,1])\n",
    "    align = tf.where(tf.equal(masks, 0), paddings, align)\n",
    "    align = tf.nn.softmax(align)\n",
    "    alignments = tf.transpose(align, [0, 2, 1]) \n",
    "    x = tf.matmul(align, V_)\n",
    "    x = tf.concat(tf.split(x, num_heads, axis=0), 2)\n",
    "    x += inputs\n",
    "    x = layer_norm(x)\n",
    "    return x, alignments\n",
    "\n",
    "class Model:\n",
    "    def __init__(self, size_layer, embed_size, dict_size, dimension_output, learning_rate = 1e-3):\n",
    "        self.X = tf.placeholder(tf.int32, [None, None])\n",
    "        self.Y = tf.placeholder(tf.int32, [None])\n",
    "        \n",
    "        encoder_embeddings = tf.Variable(tf.random_uniform([dict_size, embed_size], -1, 1))\n",
    "        x = tf.nn.embedding_lookup(encoder_embeddings, self.X)\n",
    "        x += position_encoding(x)\n",
    "        x = tf.layers.dropout(x, 0.3, training=True) \n",
    "        \n",
    "        x, self.alignments = Attention(x, size_layer)\n",
    "        self.logits_seq = tf.layers.dense(x, dimension_output)\n",
    "        self.logits_seq = tf.identity(self.logits_seq, name = 'logits_seq')\n",
    "        self.logits = self.logits_seq[:,-1]\n",
    "        self.logits = tf.identity(self.logits, name = 'logits')\n",
    "\n",
    "        self.cost = tf.reduce_mean(\n",
    "            tf.nn.sparse_softmax_cross_entropy_with_logits(\n",
    "                logits = self.logits, labels = self.Y\n",
    "            )\n",
    "        )\n",
    "        self.optimizer = tf.train.AdamOptimizer(learning_rate).minimize(\n",
    "            self.cost\n",
    "        )\n",
    "        correct_pred = tf.equal(\n",
    "            tf.argmax(self.logits, 1, output_type = tf.int32), self.Y\n",
    "        )\n",
    "        self.accuracy = tf.reduce_mean(tf.cast(correct_pred, tf.float32))\n",
    "        self.attention = tf.identity(tf.reduce_mean(self.alignments[0], 1), name = 'alphas')"
   ]
  },
  {
   "cell_type": "code",
   "execution_count": 8,
   "metadata": {},
   "outputs": [
    {
     "data": {
      "text/plain": [
       "'only-attention/model.ckpt'"
      ]
     },
     "execution_count": 8,
     "metadata": {},
     "output_type": "execute_result"
    }
   ],
   "source": [
    "size_layer = 256\n",
    "dimension_output = 2\n",
    "learning_rate = 1e-4\n",
    "batch_size = 32\n",
    "maxlen = 100\n",
    "\n",
    "tf.reset_default_graph()\n",
    "sess = tf.InteractiveSession()\n",
    "model = Model(\n",
    "    size_layer,\n",
    "    size_layer,\n",
    "    len(dictionary),\n",
    "    dimension_output,\n",
    "    learning_rate,\n",
    ")\n",
    "sess.run(tf.global_variables_initializer())\n",
    "saver = tf.train.Saver(tf.trainable_variables())\n",
    "saver.save(sess, 'only-attention/model.ckpt')"
   ]
  },
  {
   "cell_type": "code",
   "execution_count": 9,
   "metadata": {},
   "outputs": [],
   "source": [
    "strings = ','.join(\n",
    "    [\n",
    "        n.name\n",
    "        for n in tf.get_default_graph().as_graph_def().node\n",
    "        if ('Variable' in n.op\n",
    "        or 'Placeholder' in n.name\n",
    "        or 'logits' in n.name\n",
    "        or 'alphas' in n.name)\n",
    "        and 'Adam' not in n.name\n",
    "        and '_power' not in n.name\n",
    "    ]\n",
    ")"
   ]
  },
  {
   "cell_type": "code",
   "execution_count": 10,
   "metadata": {},
   "outputs": [
    {
     "data": {
      "text/plain": [
       "['Placeholder',\n",
       " 'Placeholder_1',\n",
       " 'Variable',\n",
       " 'dense/kernel',\n",
       " 'dense/bias',\n",
       " 'gamma',\n",
       " 'beta',\n",
       " 'dense_1/kernel',\n",
       " 'dense_1/bias',\n",
       " 'logits_seq',\n",
       " 'logits',\n",
       " 'alphas']"
      ]
     },
     "execution_count": 10,
     "metadata": {},
     "output_type": "execute_result"
    }
   ],
   "source": [
    "strings.split(',')"
   ]
  },
  {
   "cell_type": "code",
   "execution_count": 11,
   "metadata": {},
   "outputs": [
    {
     "data": {
      "text/plain": [
       "[<tf.Variable 'Variable:0' shape=(124794, 256) dtype=float32_ref>,\n",
       " <tf.Variable 'dense/kernel:0' shape=(256, 768) dtype=float32_ref>,\n",
       " <tf.Variable 'dense/bias:0' shape=(768,) dtype=float32_ref>,\n",
       " <tf.Variable 'gamma:0' shape=(256,) dtype=float32_ref>,\n",
       " <tf.Variable 'beta:0' shape=(256,) dtype=float32_ref>,\n",
       " <tf.Variable 'dense_1/kernel:0' shape=(256, 2) dtype=float32_ref>,\n",
       " <tf.Variable 'dense_1/bias:0' shape=(2,) dtype=float32_ref>]"
      ]
     },
     "execution_count": 11,
     "metadata": {},
     "output_type": "execute_result"
    }
   ],
   "source": [
    "tf.trainable_variables()"
   ]
  },
  {
   "cell_type": "code",
   "execution_count": 12,
   "metadata": {},
   "outputs": [],
   "source": [
    "train_X, test_X, train_Y, test_Y = train_test_split(\n",
    "    texts, labels, test_size = 0.2\n",
    ")"
   ]
  },
  {
   "cell_type": "code",
   "execution_count": 13,
   "metadata": {},
   "outputs": [
    {
     "name": "stderr",
     "output_type": "stream",
     "text": [
      "train minibatch loop: 100%|██████████| 16876/16876 [13:57<00:00, 20.14it/s, accuracy=0.833, cost=0.42] \n",
      "test minibatch loop: 100%|██████████| 4219/4219 [00:35<00:00, 118.07it/s, accuracy=0.724, cost=0.549]\n",
      "train minibatch loop:   0%|          | 3/16876 [00:00<13:58, 20.12it/s, accuracy=0.594, cost=0.601]"
     ]
    },
    {
     "name": "stdout",
     "output_type": "stream",
     "text": [
      "epoch: 0, pass acc: 0.000000, current acc: 0.715723\n",
      "time taken: 873.6518127918243\n",
      "epoch: 0, training loss: 0.595912, training acc: 0.675681, valid loss: 0.551319, valid acc: 0.715723\n",
      "\n"
     ]
    },
    {
     "name": "stderr",
     "output_type": "stream",
     "text": [
      "train minibatch loop: 100%|██████████| 16876/16876 [13:57<00:00, 20.15it/s, accuracy=0.778, cost=0.419]\n",
      "test minibatch loop: 100%|██████████| 4219/4219 [00:35<00:00, 118.83it/s, accuracy=0.724, cost=0.492]\n",
      "train minibatch loop:   0%|          | 3/16876 [00:00<14:01, 20.06it/s, accuracy=0.719, cost=0.49] "
     ]
    },
    {
     "name": "stdout",
     "output_type": "stream",
     "text": [
      "epoch: 1, pass acc: 0.715723, current acc: 0.737070\n",
      "time taken: 872.8621339797974\n",
      "epoch: 1, training loss: 0.538746, training acc: 0.726348, valid loss: 0.524194, valid acc: 0.737070\n",
      "\n"
     ]
    },
    {
     "name": "stderr",
     "output_type": "stream",
     "text": [
      "train minibatch loop: 100%|██████████| 16876/16876 [13:57<00:00, 20.15it/s, accuracy=0.944, cost=0.335]\n",
      "test minibatch loop: 100%|██████████| 4219/4219 [00:35<00:00, 118.67it/s, accuracy=0.759, cost=0.437]\n",
      "train minibatch loop:   0%|          | 3/16876 [00:00<13:59, 20.10it/s, accuracy=0.75, cost=0.524] "
     ]
    },
    {
     "name": "stdout",
     "output_type": "stream",
     "text": [
      "epoch: 2, pass acc: 0.737070, current acc: 0.747819\n",
      "time taken: 872.872700214386\n",
      "epoch: 2, training loss: 0.516308, training acc: 0.743540, valid loss: 0.508608, valid acc: 0.747819\n",
      "\n"
     ]
    },
    {
     "name": "stderr",
     "output_type": "stream",
     "text": [
      "train minibatch loop: 100%|██████████| 16876/16876 [13:57<00:00, 20.46it/s, accuracy=0.944, cost=0.29] \n",
      "test minibatch loop: 100%|██████████| 4219/4219 [00:35<00:00, 118.83it/s, accuracy=0.759, cost=0.447]\n",
      "train minibatch loop:   0%|          | 2/16876 [00:00<14:38, 19.22it/s, accuracy=0.906, cost=0.394]"
     ]
    },
    {
     "name": "stdout",
     "output_type": "stream",
     "text": [
      "epoch: 3, pass acc: 0.747819, current acc: 0.753670\n",
      "time taken: 872.786773443222\n",
      "epoch: 3, training loss: 0.503027, training acc: 0.753103, valid loss: 0.500447, valid acc: 0.753670\n",
      "\n"
     ]
    },
    {
     "name": "stderr",
     "output_type": "stream",
     "text": [
      "train minibatch loop: 100%|██████████| 16876/16876 [13:57<00:00, 20.15it/s, accuracy=0.833, cost=0.332]\n",
      "test minibatch loop: 100%|██████████| 4219/4219 [00:35<00:00, 118.86it/s, accuracy=0.828, cost=0.436]\n",
      "train minibatch loop:   0%|          | 3/16876 [00:00<13:56, 20.17it/s, accuracy=0.844, cost=0.389]"
     ]
    },
    {
     "name": "stdout",
     "output_type": "stream",
     "text": [
      "epoch: 4, pass acc: 0.753670, current acc: 0.759175\n",
      "time taken: 872.8474028110504\n",
      "epoch: 4, training loss: 0.494213, training acc: 0.759081, valid loss: 0.493601, valid acc: 0.759175\n",
      "\n"
     ]
    },
    {
     "name": "stderr",
     "output_type": "stream",
     "text": [
      "train minibatch loop: 100%|██████████| 16876/16876 [13:57<00:00, 20.44it/s, accuracy=0.833, cost=0.341]\n",
      "test minibatch loop: 100%|██████████| 4219/4219 [00:35<00:00, 118.63it/s, accuracy=0.759, cost=0.447]\n",
      "train minibatch loop:   0%|          | 3/16876 [00:00<13:58, 20.12it/s, accuracy=0.75, cost=0.478] "
     ]
    },
    {
     "name": "stdout",
     "output_type": "stream",
     "text": [
      "epoch: 5, pass acc: 0.759175, current acc: 0.763107\n",
      "time taken: 873.0266923904419\n",
      "epoch: 5, training loss: 0.487159, training acc: 0.764167, valid loss: 0.487517, valid acc: 0.763107\n",
      "\n"
     ]
    },
    {
     "name": "stderr",
     "output_type": "stream",
     "text": [
      "train minibatch loop: 100%|██████████| 16876/16876 [13:57<00:00, 20.15it/s, accuracy=0.833, cost=0.305]\n",
      "test minibatch loop: 100%|██████████| 4219/4219 [00:35<00:00, 118.87it/s, accuracy=0.759, cost=0.44] \n",
      "train minibatch loop:   0%|          | 3/16876 [00:00<13:58, 20.13it/s, accuracy=0.906, cost=0.404]"
     ]
    },
    {
     "name": "stdout",
     "output_type": "stream",
     "text": [
      "epoch: 6, pass acc: 0.763107, current acc: 0.764522\n",
      "time taken: 872.9059422016144\n",
      "epoch: 6, training loss: 0.481288, training acc: 0.767570, valid loss: 0.484200, valid acc: 0.764522\n",
      "\n"
     ]
    },
    {
     "name": "stderr",
     "output_type": "stream",
     "text": [
      "train minibatch loop: 100%|██████████| 16876/16876 [13:57<00:00, 20.15it/s, accuracy=0.944, cost=0.254]\n",
      "test minibatch loop: 100%|██████████| 4219/4219 [00:35<00:00, 118.72it/s, accuracy=0.69, cost=0.49]  \n",
      "train minibatch loop:   0%|          | 3/16876 [00:00<13:57, 20.14it/s, accuracy=0.75, cost=0.421] "
     ]
    },
    {
     "name": "stdout",
     "output_type": "stream",
     "text": [
      "epoch: 7, pass acc: 0.764522, current acc: 0.768298\n",
      "time taken: 872.9461388587952\n",
      "epoch: 7, training loss: 0.476970, training acc: 0.770630, valid loss: 0.480285, valid acc: 0.768298\n",
      "\n"
     ]
    },
    {
     "name": "stderr",
     "output_type": "stream",
     "text": [
      "train minibatch loop: 100%|██████████| 16876/16876 [13:57<00:00, 20.15it/s, accuracy=0.944, cost=0.238]\n",
      "test minibatch loop: 100%|██████████| 4219/4219 [00:35<00:00, 118.74it/s, accuracy=0.759, cost=0.447]\n",
      "train minibatch loop:   0%|          | 3/16876 [00:00<13:56, 20.18it/s, accuracy=0.812, cost=0.419]"
     ]
    },
    {
     "name": "stdout",
     "output_type": "stream",
     "text": [
      "epoch: 8, pass acc: 0.768298, current acc: 0.769396\n",
      "time taken: 873.0376634597778\n",
      "epoch: 8, training loss: 0.473226, training acc: 0.772856, valid loss: 0.477995, valid acc: 0.769396\n",
      "\n"
     ]
    },
    {
     "name": "stderr",
     "output_type": "stream",
     "text": [
      "train minibatch loop: 100%|██████████| 16876/16876 [13:57<00:00, 20.15it/s, accuracy=0.944, cost=0.293]\n",
      "test minibatch loop: 100%|██████████| 4219/4219 [00:35<00:00, 118.68it/s, accuracy=0.828, cost=0.422]\n",
      "train minibatch loop:   0%|          | 3/16876 [00:00<14:00, 20.08it/s, accuracy=0.875, cost=0.35]"
     ]
    },
    {
     "name": "stdout",
     "output_type": "stream",
     "text": [
      "epoch: 9, pass acc: 0.769396, current acc: 0.770027\n",
      "time taken: 873.0693907737732\n",
      "epoch: 9, training loss: 0.469894, training acc: 0.774875, valid loss: 0.475846, valid acc: 0.770027\n",
      "\n"
     ]
    },
    {
     "name": "stderr",
     "output_type": "stream",
     "text": [
      "train minibatch loop: 100%|██████████| 16876/16876 [13:57<00:00, 20.15it/s, accuracy=0.944, cost=0.269]\n",
      "test minibatch loop: 100%|██████████| 4219/4219 [00:35<00:00, 118.65it/s, accuracy=0.655, cost=0.495]\n",
      "train minibatch loop:   0%|          | 3/16876 [00:00<13:55, 20.19it/s, accuracy=0.844, cost=0.391]"
     ]
    },
    {
     "name": "stdout",
     "output_type": "stream",
     "text": [
      "epoch: 10, pass acc: 0.770027, current acc: 0.770912\n",
      "time taken: 873.1026468276978\n",
      "epoch: 10, training loss: 0.466412, training acc: 0.777606, valid loss: 0.474340, valid acc: 0.770912\n",
      "\n"
     ]
    },
    {
     "name": "stderr",
     "output_type": "stream",
     "text": [
      "train minibatch loop: 100%|██████████| 16876/16876 [13:57<00:00, 20.43it/s, accuracy=0.889, cost=0.301]\n",
      "test minibatch loop: 100%|██████████| 4219/4219 [00:35<00:00, 118.63it/s, accuracy=0.828, cost=0.427]\n",
      "train minibatch loop:   0%|          | 3/16876 [00:00<13:54, 20.23it/s, accuracy=0.812, cost=0.41] "
     ]
    },
    {
     "name": "stdout",
     "output_type": "stream",
     "text": [
      "epoch: 11, pass acc: 0.770912, current acc: 0.771190\n",
      "time taken: 873.1505410671234\n",
      "epoch: 11, training loss: 0.463504, training acc: 0.779456, valid loss: 0.474276, valid acc: 0.771190\n",
      "\n"
     ]
    },
    {
     "name": "stderr",
     "output_type": "stream",
     "text": [
      "train minibatch loop: 100%|██████████| 16876/16876 [13:57<00:00, 20.44it/s, accuracy=0.944, cost=0.228]\n",
      "test minibatch loop: 100%|██████████| 4219/4219 [00:35<00:00, 118.84it/s, accuracy=0.724, cost=0.424]\n",
      "train minibatch loop:   0%|          | 3/16876 [00:00<13:55, 20.20it/s, accuracy=0.812, cost=0.437]"
     ]
    },
    {
     "name": "stdout",
     "output_type": "stream",
     "text": [
      "epoch: 12, pass acc: 0.771190, current acc: 0.773262\n",
      "time taken: 873.0738255977631\n",
      "epoch: 12, training loss: 0.461311, training acc: 0.780315, valid loss: 0.471637, valid acc: 0.773262\n",
      "\n"
     ]
    },
    {
     "name": "stderr",
     "output_type": "stream",
     "text": [
      "train minibatch loop: 100%|██████████| 16876/16876 [13:57<00:00, 20.15it/s, accuracy=0.944, cost=0.244]\n",
      "test minibatch loop: 100%|██████████| 4219/4219 [00:35<00:00, 118.80it/s, accuracy=0.793, cost=0.419]\n",
      "train minibatch loop:   0%|          | 3/16876 [00:00<13:55, 20.21it/s, accuracy=0.812, cost=0.389]"
     ]
    },
    {
     "name": "stdout",
     "output_type": "stream",
     "text": [
      "epoch: 13, pass acc: 0.773262, current acc: 0.774974\n",
      "time taken: 873.0719096660614\n",
      "epoch: 13, training loss: 0.458761, training acc: 0.782322, valid loss: 0.469102, valid acc: 0.774974\n",
      "\n"
     ]
    },
    {
     "name": "stderr",
     "output_type": "stream",
     "text": [
      "train minibatch loop: 100%|██████████| 16876/16876 [13:57<00:00, 20.15it/s, accuracy=0.944, cost=0.232]\n",
      "test minibatch loop: 100%|██████████| 4219/4219 [00:35<00:00, 118.58it/s, accuracy=0.793, cost=0.393]\n",
      "train minibatch loop:   0%|          | 3/16876 [00:00<13:56, 20.18it/s, accuracy=0.781, cost=0.448]"
     ]
    },
    {
     "name": "stdout",
     "output_type": "stream",
     "text": [
      "time taken: 873.2016248703003\n",
      "epoch: 14, training loss: 0.456533, training acc: 0.783382, valid loss: 0.469040, valid acc: 0.773382\n",
      "\n"
     ]
    },
    {
     "name": "stderr",
     "output_type": "stream",
     "text": [
      "train minibatch loop: 100%|██████████| 16876/16876 [13:57<00:00, 20.15it/s, accuracy=1, cost=0.257]    \n",
      "test minibatch loop: 100%|██████████| 4219/4219 [00:35<00:00, 118.64it/s, accuracy=0.724, cost=0.475]\n",
      "train minibatch loop:   0%|          | 3/16876 [00:00<13:53, 20.24it/s, accuracy=0.75, cost=0.446] "
     ]
    },
    {
     "name": "stdout",
     "output_type": "stream",
     "text": [
      "epoch: 15, pass acc: 0.774974, current acc: 0.775913\n",
      "time taken: 873.0704691410065\n",
      "epoch: 15, training loss: 0.453938, training acc: 0.784770, valid loss: 0.468686, valid acc: 0.775913\n",
      "\n"
     ]
    },
    {
     "name": "stderr",
     "output_type": "stream",
     "text": [
      "train minibatch loop: 100%|██████████| 16876/16876 [13:57<00:00, 20.15it/s, accuracy=1, cost=0.221]    \n",
      "test minibatch loop: 100%|██████████| 4219/4219 [00:35<00:00, 118.76it/s, accuracy=0.724, cost=0.448]\n",
      "train minibatch loop:   0%|          | 3/16876 [00:00<13:55, 20.20it/s, accuracy=0.844, cost=0.366]"
     ]
    },
    {
     "name": "stdout",
     "output_type": "stream",
     "text": [
      "time taken: 873.0411856174469\n",
      "epoch: 16, training loss: 0.452284, training acc: 0.786289, valid loss: 0.466593, valid acc: 0.775839\n",
      "\n"
     ]
    },
    {
     "name": "stderr",
     "output_type": "stream",
     "text": [
      "train minibatch loop: 100%|██████████| 16876/16876 [13:57<00:00, 20.15it/s, accuracy=1, cost=0.224]    \n",
      "test minibatch loop: 100%|██████████| 4219/4219 [00:35<00:00, 118.62it/s, accuracy=0.759, cost=0.431]\n",
      "train minibatch loop:   0%|          | 2/16876 [00:00<14:11, 19.81it/s, accuracy=0.844, cost=0.343]"
     ]
    },
    {
     "name": "stdout",
     "output_type": "stream",
     "text": [
      "epoch: 17, pass acc: 0.775913, current acc: 0.776062\n",
      "time taken: 873.122752904892\n",
      "epoch: 17, training loss: 0.451134, training acc: 0.786990, valid loss: 0.467707, valid acc: 0.776062\n",
      "\n"
     ]
    },
    {
     "name": "stderr",
     "output_type": "stream",
     "text": [
      "train minibatch loop: 100%|██████████| 16876/16876 [13:57<00:00, 20.15it/s, accuracy=1, cost=0.218]    \n",
      "test minibatch loop: 100%|██████████| 4219/4219 [00:35<00:00, 118.65it/s, accuracy=0.724, cost=0.463]\n",
      "train minibatch loop:   0%|          | 3/16876 [00:00<13:55, 20.19it/s, accuracy=0.844, cost=0.364]"
     ]
    },
    {
     "name": "stdout",
     "output_type": "stream",
     "text": [
      "epoch: 18, pass acc: 0.776062, current acc: 0.776773\n",
      "time taken: 873.0830545425415\n",
      "epoch: 18, training loss: 0.448639, training acc: 0.788359, valid loss: 0.467222, valid acc: 0.776773\n",
      "\n"
     ]
    },
    {
     "name": "stderr",
     "output_type": "stream",
     "text": [
      "train minibatch loop: 100%|██████████| 16876/16876 [13:57<00:00, 20.15it/s, accuracy=1, cost=0.22]     \n",
      "test minibatch loop: 100%|██████████| 4219/4219 [00:35<00:00, 118.44it/s, accuracy=0.724, cost=0.422]\n",
      "train minibatch loop:   0%|          | 3/16876 [00:00<13:54, 20.21it/s, accuracy=0.938, cost=0.347]"
     ]
    },
    {
     "name": "stdout",
     "output_type": "stream",
     "text": [
      "epoch: 19, pass acc: 0.776773, current acc: 0.776832\n",
      "time taken: 873.164381980896\n",
      "epoch: 19, training loss: 0.447150, training acc: 0.789168, valid loss: 0.466600, valid acc: 0.776832\n",
      "\n"
     ]
    },
    {
     "name": "stderr",
     "output_type": "stream",
     "text": [
      "train minibatch loop: 100%|██████████| 16876/16876 [13:57<00:00, 20.15it/s, accuracy=0.889, cost=0.257]\n",
      "test minibatch loop: 100%|██████████| 4219/4219 [00:35<00:00, 118.68it/s, accuracy=0.724, cost=0.431]\n",
      "train minibatch loop:   0%|          | 3/16876 [00:00<13:59, 20.09it/s, accuracy=0.812, cost=0.388]"
     ]
    },
    {
     "name": "stdout",
     "output_type": "stream",
     "text": [
      "epoch: 20, pass acc: 0.776832, current acc: 0.777884\n",
      "time taken: 873.1035535335541\n",
      "epoch: 20, training loss: 0.445555, training acc: 0.790610, valid loss: 0.465082, valid acc: 0.777884\n",
      "\n"
     ]
    },
    {
     "name": "stderr",
     "output_type": "stream",
     "text": [
      "train minibatch loop: 100%|██████████| 16876/16876 [13:57<00:00, 20.15it/s, accuracy=0.944, cost=0.213]\n",
      "test minibatch loop: 100%|██████████| 4219/4219 [00:35<00:00, 118.73it/s, accuracy=0.724, cost=0.44] \n",
      "train minibatch loop:   0%|          | 3/16876 [00:00<13:54, 20.21it/s, accuracy=0.812, cost=0.429]"
     ]
    },
    {
     "name": "stdout",
     "output_type": "stream",
     "text": [
      "time taken: 873.0824906826019\n",
      "epoch: 21, training loss: 0.444026, training acc: 0.791076, valid loss: 0.464617, valid acc: 0.777632\n",
      "\n"
     ]
    },
    {
     "name": "stderr",
     "output_type": "stream",
     "text": [
      "train minibatch loop: 100%|██████████| 16876/16876 [13:57<00:00, 20.44it/s, accuracy=1, cost=0.231]    \n",
      "test minibatch loop: 100%|██████████| 4219/4219 [00:35<00:00, 118.90it/s, accuracy=0.759, cost=0.431]\n",
      "train minibatch loop:   0%|          | 3/16876 [00:00<13:55, 20.19it/s, accuracy=0.844, cost=0.366]"
     ]
    },
    {
     "name": "stdout",
     "output_type": "stream",
     "text": [
      "epoch: 22, pass acc: 0.777884, current acc: 0.778025\n",
      "time taken: 873.1131408214569\n",
      "epoch: 22, training loss: 0.442452, training acc: 0.791935, valid loss: 0.464123, valid acc: 0.778025\n",
      "\n"
     ]
    },
    {
     "name": "stderr",
     "output_type": "stream",
     "text": [
      "train minibatch loop: 100%|██████████| 16876/16876 [13:57<00:00, 20.15it/s, accuracy=0.944, cost=0.28] \n",
      "test minibatch loop: 100%|██████████| 4219/4219 [00:35<00:00, 118.59it/s, accuracy=0.655, cost=0.534]\n",
      "train minibatch loop:   0%|          | 3/16876 [00:00<13:59, 20.11it/s, accuracy=0.781, cost=0.428]"
     ]
    },
    {
     "name": "stdout",
     "output_type": "stream",
     "text": [
      "epoch: 23, pass acc: 0.778025, current acc: 0.778756\n",
      "time taken: 873.0947358608246\n",
      "epoch: 23, training loss: 0.441143, training acc: 0.792680, valid loss: 0.463258, valid acc: 0.778756\n",
      "\n"
     ]
    },
    {
     "name": "stderr",
     "output_type": "stream",
     "text": [
      "train minibatch loop: 100%|██████████| 16876/16876 [13:57<00:00, 20.15it/s, accuracy=0.944, cost=0.253]\n",
      "test minibatch loop: 100%|██████████| 4219/4219 [00:35<00:00, 118.73it/s, accuracy=0.793, cost=0.455]\n",
      "train minibatch loop:   0%|          | 3/16876 [00:00<13:55, 20.19it/s, accuracy=0.875, cost=0.367]"
     ]
    },
    {
     "name": "stdout",
     "output_type": "stream",
     "text": [
      "epoch: 24, pass acc: 0.778756, current acc: 0.778967\n",
      "time taken: 873.1105782985687\n",
      "epoch: 24, training loss: 0.439897, training acc: 0.793989, valid loss: 0.462837, valid acc: 0.778967\n",
      "\n"
     ]
    },
    {
     "name": "stderr",
     "output_type": "stream",
     "text": [
      "train minibatch loop: 100%|██████████| 16876/16876 [13:57<00:00, 20.15it/s, accuracy=0.889, cost=0.249]\n",
      "test minibatch loop: 100%|██████████| 4219/4219 [00:35<00:00, 118.60it/s, accuracy=0.724, cost=0.513]\n",
      "train minibatch loop:   0%|          | 3/16876 [00:00<14:02, 20.03it/s, accuracy=0.844, cost=0.428]"
     ]
    },
    {
     "name": "stdout",
     "output_type": "stream",
     "text": [
      "time taken: 873.0930559635162\n",
      "epoch: 25, training loss: 0.438801, training acc: 0.794719, valid loss: 0.463401, valid acc: 0.778084\n",
      "\n"
     ]
    },
    {
     "name": "stderr",
     "output_type": "stream",
     "text": [
      "train minibatch loop: 100%|██████████| 16876/16876 [13:57<00:00, 20.15it/s, accuracy=0.889, cost=0.272]\n",
      "test minibatch loop:  51%|█████     | 2152/4219 [00:18<00:17, 118.44it/s, accuracy=0.812, cost=0.469]IOPub message rate exceeded.\n",
      "The notebook server will temporarily stop sending output\n",
      "to the client in order to avoid crashing it.\n",
      "To change this limit, set the config variable\n",
      "`--NotebookApp.iopub_msg_rate_limit`.\n",
      "\n",
      "Current values:\n",
      "NotebookApp.iopub_msg_rate_limit=1000.0 (msgs/sec)\n",
      "NotebookApp.rate_limit_window=3.0 (secs)\n",
      "\n",
      "train minibatch loop:  67%|██████▋   | 11315/16876 [09:21<04:35, 20.15it/s, accuracy=0.781, cost=0.481]IOPub message rate exceeded.\n",
      "The notebook server will temporarily stop sending output\n",
      "to the client in order to avoid crashing it.\n",
      "To change this limit, set the config variable\n",
      "`--NotebookApp.iopub_msg_rate_limit`.\n",
      "\n",
      "Current values:\n",
      "NotebookApp.iopub_msg_rate_limit=1000.0 (msgs/sec)\n",
      "NotebookApp.rate_limit_window=3.0 (secs)\n",
      "\n",
      "test minibatch loop:  99%|█████████▉| 4176/4219 [00:34<00:00, 120.00it/s, accuracy=0.875, cost=0.301]IOPub message rate exceeded.\n",
      "The notebook server will temporarily stop sending output\n",
      "to the client in order to avoid crashing it.\n",
      "To change this limit, set the config variable\n",
      "`--NotebookApp.iopub_msg_rate_limit`.\n",
      "\n",
      "Current values:\n",
      "NotebookApp.iopub_msg_rate_limit=1000.0 (msgs/sec)\n",
      "NotebookApp.rate_limit_window=3.0 (secs)\n",
      "\n"
     ]
    }
   ],
   "source": [
    "from tqdm import tqdm\n",
    "import time\n",
    "\n",
    "EARLY_STOPPING, CURRENT_CHECKPOINT, CURRENT_ACC, EPOCH = 3, 0, 0, 0\n",
    "\n",
    "while True:\n",
    "    lasttime = time.time()\n",
    "    if CURRENT_CHECKPOINT == EARLY_STOPPING:\n",
    "        print('break epoch:%d\\n' % (EPOCH))\n",
    "        break\n",
    "\n",
    "    train_acc, train_loss, test_acc, test_loss = 0, 0, 0, 0\n",
    "    pbar = tqdm(\n",
    "        range(0, len(train_X), batch_size), desc = 'train minibatch loop'\n",
    "    )\n",
    "    for i in pbar:\n",
    "        batch_x = str_idx(train_X[i : min(i + batch_size, len(train_X))], dictionary, maxlen)\n",
    "        batch_y = train_Y[i : min(i + batch_size, len(train_X))]\n",
    "        batch_x_expand = np.expand_dims(batch_x,axis = 1)\n",
    "        acc, cost, _ = sess.run(\n",
    "            [model.accuracy, model.cost, model.optimizer],\n",
    "            feed_dict = {\n",
    "                model.Y: batch_y,\n",
    "                model.X: batch_x\n",
    "            },\n",
    "        )\n",
    "        assert not np.isnan(cost)\n",
    "        train_loss += cost\n",
    "        train_acc += acc\n",
    "        pbar.set_postfix(cost = cost, accuracy = acc)\n",
    "\n",
    "    pbar = tqdm(range(0, len(test_X), batch_size), desc = 'test minibatch loop')\n",
    "    for i in pbar:\n",
    "        batch_x = str_idx(test_X[i : min(i + batch_size, len(test_X))], dictionary, maxlen)\n",
    "        batch_y = test_Y[i : min(i + batch_size, len(test_X))]\n",
    "        batch_x_expand = np.expand_dims(batch_x,axis = 1)\n",
    "        acc, cost = sess.run(\n",
    "            [model.accuracy, model.cost],\n",
    "            feed_dict = {\n",
    "                model.Y: batch_y,\n",
    "                model.X: batch_x\n",
    "            },\n",
    "        )\n",
    "        test_loss += cost\n",
    "        test_acc += acc\n",
    "        pbar.set_postfix(cost = cost, accuracy = acc)\n",
    "\n",
    "    train_loss /= len(train_X) / batch_size\n",
    "    train_acc /= len(train_X) / batch_size\n",
    "    test_loss /= len(test_X) / batch_size\n",
    "    test_acc /= len(test_X) / batch_size\n",
    "\n",
    "    if test_acc > CURRENT_ACC:\n",
    "        print(\n",
    "            'epoch: %d, pass acc: %f, current acc: %f'\n",
    "            % (EPOCH, CURRENT_ACC, test_acc)\n",
    "        )\n",
    "        CURRENT_ACC = test_acc\n",
    "        CURRENT_CHECKPOINT = 0\n",
    "    else:\n",
    "        CURRENT_CHECKPOINT += 1\n",
    "        \n",
    "    print('time taken:', time.time() - lasttime)\n",
    "    print(\n",
    "        'epoch: %d, training loss: %f, training acc: %f, valid loss: %f, valid acc: %f\\n'\n",
    "        % (EPOCH, train_loss, train_acc, test_loss, test_acc)\n",
    "    )\n",
    "    EPOCH += 1"
   ]
  },
  {
   "cell_type": "code",
   "execution_count": 14,
   "metadata": {},
   "outputs": [
    {
     "data": {
      "text/plain": [
       "'only-attention/model.ckpt'"
      ]
     },
     "execution_count": 14,
     "metadata": {},
     "output_type": "execute_result"
    }
   ],
   "source": [
    "saver.save(sess, 'only-attention/model.ckpt')"
   ]
  },
  {
   "cell_type": "code",
   "execution_count": 15,
   "metadata": {},
   "outputs": [
    {
     "data": {
      "text/plain": [
       "array([[0.83869356, 0.16130647]], dtype=float32)"
      ]
     },
     "execution_count": 15,
     "metadata": {},
     "output_type": "execute_result"
    }
   ],
   "source": [
    "text = preprocessing('kerajaan sebenarnya sangat bencikan rakyatnya, minyak naik dan segalanya')\n",
    "new_vector = str_idx([text], dictionary, len(text))\n",
    "sess.run(tf.nn.softmax(model.logits), feed_dict={model.X:new_vector})"
   ]
  },
  {
   "cell_type": "code",
   "execution_count": 18,
   "metadata": {},
   "outputs": [
    {
     "data": {
      "text/plain": [
       "[array([[[0.04035725, 0.95964277],\n",
       "         [0.3335168 , 0.66648316],\n",
       "         [0.5767256 , 0.42327443],\n",
       "         [0.988713  , 0.01128694],\n",
       "         [0.8683654 , 0.13163453],\n",
       "         [0.867992  , 0.13200802],\n",
       "         [0.99281424, 0.00718583],\n",
       "         [0.9350784 , 0.06492158]]], dtype=float32),\n",
       " array([2.8282857e-01, 5.0085597e-02, 1.7758933e-01, 4.7541022e-01,\n",
       "        7.7311522e-03, 1.9795415e-03, 3.9819553e-03, 3.9367162e-04],\n",
       "       dtype=float32)]"
      ]
     },
     "execution_count": 18,
     "metadata": {},
     "output_type": "execute_result"
    }
   ],
   "source": [
    "text = preprocessing('kerajaan sebenarnya sangat bencikan rakyatnya, minyak naik dan segalanya')\n",
    "new_vector = str_idx([text], dictionary, len(text))\n",
    "sess.run([tf.nn.softmax(model.logits_seq), model.attention], feed_dict={model.X:new_vector})"
   ]
  },
  {
   "cell_type": "code",
   "execution_count": 19,
   "metadata": {},
   "outputs": [
    {
     "name": "stderr",
     "output_type": "stream",
     "text": [
      "validation minibatch loop: 100%|██████████| 4219/4219 [00:30<00:00, 139.05it/s]\n"
     ]
    }
   ],
   "source": [
    "real_Y, predict_Y = [], []\n",
    "\n",
    "pbar = tqdm(\n",
    "    range(0, len(test_X), batch_size), desc = 'validation minibatch loop'\n",
    ")\n",
    "for i in pbar:\n",
    "    batch_x = str_idx(test_X[i : min(i + batch_size, len(test_X))], dictionary, maxlen)\n",
    "    batch_y = test_Y[i : min(i + batch_size, len(test_X))]\n",
    "    predict_Y += np.argmax(\n",
    "        sess.run(\n",
    "            model.logits, feed_dict = {model.X: batch_x, model.Y: batch_y}\n",
    "        ),\n",
    "        1,\n",
    "    ).tolist()\n",
    "    real_Y += batch_y"
   ]
  },
  {
   "cell_type": "code",
   "execution_count": 20,
   "metadata": {},
   "outputs": [
    {
     "name": "stdout",
     "output_type": "stream",
     "text": [
      "             precision    recall  f1-score   support\n",
      "\n",
      "   negative       0.77      0.82      0.80     70708\n",
      "   positive       0.79      0.74      0.76     64297\n",
      "\n",
      "avg / total       0.78      0.78      0.78    135005\n",
      "\n"
     ]
    }
   ],
   "source": [
    "print(\n",
    "    metrics.classification_report(\n",
    "        real_Y, predict_Y, target_names = ['negative', 'positive']\n",
    "    )\n",
    ")"
   ]
  },
  {
   "cell_type": "code",
   "execution_count": 21,
   "metadata": {},
   "outputs": [],
   "source": [
    "def freeze_graph(model_dir, output_node_names):\n",
    "\n",
    "    if not tf.gfile.Exists(model_dir):\n",
    "        raise AssertionError(\n",
    "            \"Export directory doesn't exists. Please specify an export \"\n",
    "            'directory: %s' % model_dir\n",
    "        )\n",
    "\n",
    "    checkpoint = tf.train.get_checkpoint_state(model_dir)\n",
    "    input_checkpoint = checkpoint.model_checkpoint_path\n",
    "\n",
    "    absolute_model_dir = '/'.join(input_checkpoint.split('/')[:-1])\n",
    "    output_graph = absolute_model_dir + '/frozen_model.pb'\n",
    "    clear_devices = True\n",
    "    with tf.Session(graph = tf.Graph()) as sess:\n",
    "        saver = tf.train.import_meta_graph(\n",
    "            input_checkpoint + '.meta', clear_devices = clear_devices\n",
    "        )\n",
    "        saver.restore(sess, input_checkpoint)\n",
    "        output_graph_def = tf.graph_util.convert_variables_to_constants(\n",
    "            sess,\n",
    "            tf.get_default_graph().as_graph_def(),\n",
    "            output_node_names.split(','),\n",
    "        )\n",
    "        with tf.gfile.GFile(output_graph, 'wb') as f:\n",
    "            f.write(output_graph_def.SerializeToString())\n",
    "        print('%d ops in the final graph.' % len(output_graph_def.node))"
   ]
  },
  {
   "cell_type": "code",
   "execution_count": 22,
   "metadata": {},
   "outputs": [
    {
     "name": "stdout",
     "output_type": "stream",
     "text": [
      "INFO:tensorflow:Restoring parameters from only-attention/model.ckpt\n",
      "INFO:tensorflow:Froze 7 variables.\n",
      "INFO:tensorflow:Converted 7 variables to const ops.\n",
      "248 ops in the final graph.\n"
     ]
    }
   ],
   "source": [
    "freeze_graph('only-attention', strings)"
   ]
  },
  {
   "cell_type": "code",
   "execution_count": 23,
   "metadata": {},
   "outputs": [],
   "source": [
    "def load_graph(frozen_graph_filename):\n",
    "    with tf.gfile.GFile(frozen_graph_filename, 'rb') as f:\n",
    "        graph_def = tf.GraphDef()\n",
    "        graph_def.ParseFromString(f.read())\n",
    "    with tf.Graph().as_default() as graph:\n",
    "        tf.import_graph_def(graph_def)\n",
    "    return graph"
   ]
  },
  {
   "cell_type": "code",
   "execution_count": 25,
   "metadata": {},
   "outputs": [],
   "source": [
    "g = load_graph('only-attention/frozen_model.pb')\n",
    "x = g.get_tensor_by_name('import/Placeholder:0')\n",
    "logits_seq = g.get_tensor_by_name('import/logits_seq:0')\n",
    "logits = g.get_tensor_by_name('import/logits:0')\n",
    "alphas = g.get_tensor_by_name('import/alphas:0')\n",
    "test_sess = tf.InteractiveSession(graph = g)\n",
    "result = test_sess.run([logits, alphas, logits_seq], feed_dict = {x: new_vector})"
   ]
  },
  {
   "cell_type": "code",
   "execution_count": 26,
   "metadata": {},
   "outputs": [],
   "source": [
    "import matplotlib.pyplot as plt\n",
    "import seaborn as sns\n",
    "sns.set()"
   ]
  },
  {
   "cell_type": "code",
   "execution_count": 28,
   "metadata": {},
   "outputs": [],
   "source": [
    "news_string = 'Kerajaan juga perlu prihatin dan peka terhadap nasib para nelayan yang bergantung rezeki sepenuhnya kepada sumber hasil laut. Malah, projek ini memberikan kesan buruk yang berpanjangan kepada alam sekitar selain menjejaskan mata pencarian para nelayan'"
   ]
  },
  {
   "cell_type": "code",
   "execution_count": 29,
   "metadata": {},
   "outputs": [],
   "source": [
    "text = preprocessing(news_string)\n",
    "new_vector = str_idx([text], dictionary, len(text))\n",
    "result = test_sess.run([tf.nn.softmax(logits), alphas, tf.nn.softmax(logits_seq)], feed_dict = {x: new_vector})"
   ]
  },
  {
   "cell_type": "code",
   "execution_count": 30,
   "metadata": {},
   "outputs": [
    {
     "data": {
      "image/png": "[encoded data removed]",
      "text/plain": [
       "<Figure size 1080x504 with 1 Axes>"
      ]
     },
     "metadata": {
      "needs_background": "light"
     },
     "output_type": "display_data"
    }
   ],
   "source": [
    "plt.figure(figsize = (15, 7))\n",
    "labels = [word for word in text]\n",
    "val = [val for val in result[1]]\n",
    "plt.bar(np.arange(len(labels)), val)\n",
    "plt.xticks(np.arange(len(labels)), labels, rotation = 'vertical')\n",
    "plt.title('negative %f positive %f' % (result[0][0,0], result[0][0,1]))\n",
    "plt.show()"
   ]
  },
  {
   "cell_type": "code",
   "execution_count": null,
   "metadata": {},
   "outputs": [],
   "source": []
  }
 ],
 "metadata": {
  "kernelspec": {
   "display_name": "Python 3",
   "language": "python",
   "name": "python3"
  },
  "language_info": {
   "codemirror_mode": {
    "name": "ipython",
    "version": 3
   },
   "file_extension": ".py",
   "mimetype": "text/x-python",
   "name": "python",
   "nbconvert_exporter": "python",
   "pygments_lexer": "ipython3",
   "version": "3.6.8"
  }
 },
 "nbformat": 4,
 "nbformat_minor": 2
}
