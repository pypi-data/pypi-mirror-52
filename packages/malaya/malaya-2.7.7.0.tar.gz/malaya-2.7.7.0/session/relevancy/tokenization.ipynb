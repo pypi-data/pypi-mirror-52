{
 "cells": [
  {
   "cell_type": "code",
   "execution_count": 1,
   "metadata": {},
   "outputs": [],
   "source": [
    "import os\n",
    "import tensorflow as tf\n",
    "import malaya\n",
    "import json"
   ]
  },
  {
   "cell_type": "code",
   "execution_count": 2,
   "metadata": {},
   "outputs": [],
   "source": [
    "import re\n",
    "\n",
    "tokenizer = malaya.preprocessing._SocialTokenizer().tokenize\n",
    "\n",
    "def is_number_regex(s):\n",
    "    if re.match(\"^\\d+?\\.\\d+?$\", s) is None:\n",
    "        return s.isdigit()\n",
    "    return True\n",
    "\n",
    "def detect_money(word):\n",
    "    if word[:2] == 'rm' and is_number_regex(word[2:]):\n",
    "        return True\n",
    "    else:\n",
    "        return False\n",
    "\n",
    "def preprocessing(string):\n",
    "    tokenized = tokenizer(string)\n",
    "    tokenized = [malaya.stem.naive(w) for w in tokenized]\n",
    "    tokenized = [w.lower() for w in tokenized if len(w) > 1]\n",
    "    tokenized = ['<NUM>' if is_number_regex(w) else w for w in tokenized]\n",
    "    tokenized = ['<MONEY>' if detect_money(w) else w for w in tokenized]\n",
    "    return tokenized\n",
    "\n",
    "def clean_label(label):\n",
    "    string = re.sub('[^A-Za-z\\- ]+', ' ', label)\n",
    "    return re.sub(r'[ ]+', ' ', string.lower()).strip()"
   ]
  },
  {
   "cell_type": "code",
   "execution_count": 3,
   "metadata": {},
   "outputs": [],
   "source": [
    "with open('augmented-relevancy.json') as fopen:\n",
    "    loaded = json.load(fopen)\n",
    "    \n",
    "X = loaded['X']\n",
    "Y = loaded['Y']"
   ]
  },
  {
   "cell_type": "code",
   "execution_count": 4,
   "metadata": {},
   "outputs": [
    {
     "data": {
      "text/plain": [
       "['sesungguh',\n",
       " 'jadi',\n",
       " 'tradisi',\n",
       " 'mana',\n",
       " 'mana',\n",
       " 'calon',\n",
       " 'presiden',\n",
       " 'as',\n",
       " 'pasti',\n",
       " 'lu',\n",
       " 'dapat',\n",
       " 'sokong',\n",
       " 'masyarakat',\n",
       " 'yahudi',\n",
       " 'yang',\n",
       " 'awal',\n",
       " 'ekonomi',\n",
       " 'as',\n",
       " 'untuk',\n",
       " 'jadi',\n",
       " 'presiden',\n",
       " 'namun',\n",
       " 'tidak',\n",
       " 'ramai',\n",
       " 'berani',\n",
       " 'trump',\n",
       " 'dalam',\n",
       " 'ota',\n",
       " 'abui',\n",
       " 'mata',\n",
       " 'yahudi',\n",
       " 'zionism',\n",
       " 'israel']"
      ]
     },
     "execution_count": 4,
     "metadata": {},
     "output_type": "execute_result"
    }
   ],
   "source": [
    "preprocessing('Sesungguhnya menjadi tradisi, mana-mana calon presiden AS pasti perlu mendapat sokongan masyarakat Yahudi yang mengawal ekonomi di AS untuk jadi presiden, namun tidak ramai seberani Trump dalam mengotakan dan mengabui mata Yahudi dan Zionism Israel')"
   ]
  },
  {
   "cell_type": "code",
   "execution_count": 5,
   "metadata": {},
   "outputs": [
    {
     "data": {
      "text/plain": [
       "'dalam masa-masa yang mencabar, jackie mason mewakili suara sebab. dalam klip eksklusif minggu ini untuk perkhabaran pembicaraan, jackie membincangkan bahaya korea utara, dan menjelaskan namun presiden donald trump mampu memenangkan pekerjaan hollywood kiri jika anda. s. perlu menyerang terlebih dahulu. \"Jika dia memutuskan untuk mengebom mereka, seluruh negara akan berada di belakangnya, kerana semua orang akan melihat dia tidak mengizinkan pilihan dan itu satu-satunya kes yang utama dilakukan,\" kata Jackie. \"kecuali hollywood yang tersisa, mereka akan mendapat nauseous.\" \"Trump sanggup larang di samping kiri, mereka akan menjatuhkan cintai dengannya dalam satu minit, jika dia membom menjadualkan untuk sengketa yang lebih baik,\" jelas Jackie. \"seperti jika mereka tidak mempunyai tandas transgender.\" Jackie juga mengatakan tidak hairanlah bahawa selebriti hollywood tidak menyendal mogok truf di lapangan angin syrian bulan ini. \"mereka marah,\" katanya. \"kerana ia hanya dapat menyelamatkan nyawa, itu tidak berniat apa kepada mereka, jika ia hanya memuat alam semesta sekitar, atau perbaikan iklim, mencipta akan menjadi kalangan handalan bahagia di dunia.\" Namun, Jackie mengatakan dia tidak ada apa terhadap selebriti hollywood. mereka mempunyai adanya yang ketegasan di keadaan ini. menonton klip terkini jackie di atas. menuruti daniel nussbaum di twitter: @dznussbaum'"
      ]
     },
     "execution_count": 5,
     "metadata": {},
     "output_type": "execute_result"
    }
   ],
   "source": [
    "X[0]"
   ]
  },
  {
   "cell_type": "code",
   "execution_count": 6,
   "metadata": {},
   "outputs": [
    {
     "name": "stdout",
     "output_type": "stream",
     "text": [
      "10000\n",
      "20000\n",
      "30000\n",
      "40000\n",
      "50000\n",
      "60000\n",
      "70000\n",
      "80000\n",
      "90000\n",
      "100000\n",
      "110000\n",
      "120000\n",
      "130000\n",
      "140000\n",
      "150000\n",
      "160000\n",
      "170000\n",
      "180000\n",
      "190000\n",
      "200000\n"
     ]
    }
   ],
   "source": [
    "for i in range(len(X)):\n",
    "    if (i + 1) % 10000 == 0:\n",
    "        print(i + 1)\n",
    "    X[i] = preprocessing(X[i])"
   ]
  },
  {
   "cell_type": "code",
   "execution_count": 7,
   "metadata": {},
   "outputs": [
    {
     "data": {
      "text/plain": [
       "(209519, 209519)"
      ]
     },
     "execution_count": 7,
     "metadata": {},
     "output_type": "execute_result"
    }
   ],
   "source": [
    "len(X), len(Y)"
   ]
  },
  {
   "cell_type": "code",
   "execution_count": 8,
   "metadata": {},
   "outputs": [],
   "source": [
    "with open('tokenized.json', 'w') as fopen:\n",
    "    json.dump(X, fopen)"
   ]
  }
 ],
 "metadata": {
  "kernelspec": {
   "display_name": "Python 3",
   "language": "python",
   "name": "python3"
  },
  "language_info": {
   "codemirror_mode": {
    "name": "ipython",
    "version": 3
   },
   "file_extension": ".py",
   "mimetype": "text/x-python",
   "name": "python",
   "nbconvert_exporter": "python",
   "pygments_lexer": "ipython3",
   "version": "3.6.8"
  }
 },
 "nbformat": 4,
 "nbformat_minor": 2
}
