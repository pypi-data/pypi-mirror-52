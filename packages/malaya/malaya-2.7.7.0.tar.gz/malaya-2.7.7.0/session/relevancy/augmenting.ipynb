{
 "cells": [
  {
   "cell_type": "code",
   "execution_count": 1,
   "metadata": {},
   "outputs": [],
   "source": [
    "import json\n",
    "import os"
   ]
  },
  {
   "cell_type": "code",
   "execution_count": 2,
   "metadata": {},
   "outputs": [
    {
     "data": {
      "text/plain": [
       "['negative/1.json',\n",
       " 'negative/clean-politifact_real.json',\n",
       " 'negative/clean-gossipcop_real1.json',\n",
       " 'negative/2.json',\n",
       " 'negative/clean-gossipcop_real2.json',\n",
       " 'negative/clean-gossipcop_real3.json']"
      ]
     },
     "execution_count": 2,
     "metadata": {},
     "output_type": "execute_result"
    }
   ],
   "source": [
    "negatives = ['negative/' + i for i in os.listdir('negative') if '.json' in i]\n",
    "positives = ['positive/' + i for i in os.listdir('positive') if '.json' in i]\n",
    "negatives"
   ]
  },
  {
   "cell_type": "code",
   "execution_count": 3,
   "metadata": {},
   "outputs": [],
   "source": [
    "with open(negatives[0]) as fopen:\n",
    "    x = json.load(fopen)"
   ]
  },
  {
   "cell_type": "code",
   "execution_count": 4,
   "metadata": {},
   "outputs": [
    {
     "data": {
      "text/plain": [
       "'dalam masa-masa yang mencabar, jackie mason adalah suara sebab. dalam klip eksklusif minggu ini untuk berita pembicaraan, jackie membincangkan ancaman korea utara, dan menjelaskan bagaimana presiden donald trump boleh memenangkan sokongan hollywood kiri jika anda. s. perlu menyerang terlebih dahulu. \"Jika dia memutuskan untuk mengebom mereka, seluruh negara akan berada di belakangnya, kerana semua orang akan menyedari dia tidak mempunyai pilihan dan itu satu-satunya perkara yang perlu dilakukan,\" kata Jackie. \"kecuali hollywood yang tersisa, mereka akan mendapat nauseous.\" \"Trump boleh menang di sebelah kiri, mereka akan jatuh cinta dengannya dalam satu minit, jika dia membom mereka untuk alasan yang lebih baik,\" jelas Jackie. \"seperti jika mereka tidak mempunyai tandas transgender.\" Jackie juga mengatakan tidak hairanlah bahawa selebriti hollywood tidak menyokong mogok truf di lapangan udara syrian bulan ini. \"mereka marah,\" katanya. \"kerana ia hanya dapat menyelamatkan nyawa, itu tidak bermakna apa-apa kepada mereka, jika ia hanya menyelamatkan alam sekitar, atau perubahan iklim, mereka akan menjadi orang paling bahagia di dunia.\" Namun, Jackie mengatakan dia tidak ada apa-apa terhadap selebriti hollywood. mereka mempunyai kehidupan yang sukar di negara ini. menonton klip terkini jackie di atas. ikuti daniel nussbaum di twitter: @dznussbaum'"
      ]
     },
     "execution_count": 4,
     "metadata": {},
     "output_type": "execute_result"
    }
   ],
   "source": [
    "x[0]"
   ]
  },
  {
   "cell_type": "code",
   "execution_count": 42,
   "metadata": {},
   "outputs": [],
   "source": [
    "with open('synonym0.json') as fopen:\n",
    "    s = json.load(fopen)\n",
    "    \n",
    "with open('synonym1.json') as fopen:\n",
    "    s1 = json.load(fopen)"
   ]
  },
  {
   "cell_type": "code",
   "execution_count": 43,
   "metadata": {},
   "outputs": [],
   "source": [
    "synonyms = {}\n",
    "for l, r in (s + s1):\n",
    "    if l not in synonyms:\n",
    "        synonyms[l] = r + [l]\n",
    "    else:\n",
    "        synonyms[l].extend(r)\n",
    "synonyms = {k: list(set(v)) for k, v in synonyms.items()}"
   ]
  },
  {
   "cell_type": "code",
   "execution_count": 50,
   "metadata": {},
   "outputs": [],
   "source": [
    "import random\n",
    "\n",
    "def augmentation(s, maximum = 0.8):\n",
    "    s = s.split()\n",
    "    for i in range(int(len(s) * maximum)):\n",
    "        index = random.randint(0, len(s) - 1)\n",
    "        word = s[index]\n",
    "        sy = synonyms.get(word, [word])\n",
    "        sy = random.choice(sy)\n",
    "        s[index] = sy\n",
    "    return s"
   ]
  },
  {
   "cell_type": "code",
   "execution_count": 53,
   "metadata": {},
   "outputs": [],
   "source": [
    "aug = [' '.join(augmentation(x[0])) for _ in range(5)]\n",
    "aug = list(set(aug))"
   ]
  },
  {
   "cell_type": "code",
   "execution_count": 56,
   "metadata": {},
   "outputs": [
    {
     "data": {
      "text/plain": [
       "['tepu masa-masa yang mencabar, jackie mason adalah suara sebab. dalam pengait eksklusif minggu ini untuk perkhabaran pembicaraan, jackie membincangkan ancaman korea utara, dan menyatakan bagaimana konduktor donald trump sanggup memenangkan sokongan hollywood kiri jika anda. s. perlu mengisi terlebih dahulu. \"Jika dia terganggu untuk mengebom mereka, seluruh daerah akan berada di belakangnya, kerana semua peraga akan menyedari dia tidak mempunyai opsyen dan itu satu-satunya tajuk yang harus dilakukan,\" beritahu Jackie. \"kecuali hollywood yang tersisa, mereka akan berjangkit nauseous.\" \"Trump mampu berjaya di mempertemukan kiri, mereka akan mengebom percintaan dengannya dalam satu minit, jika dia membom mereka untuk kepalsuan yang lebih baik,\" terasa Jackie. \"seperti jika mereka tidak mempunyai tandas transgender.\" Jackie juga mengatakan tiada hairanlah bahawa selebriti hollywood tidak menyetujui menyambar truf di lapangan bayu syrian bulan ini. \"mereka marah,\" katanya. \"kerana ia hanya dapat menyelamatkan nyawa, itu tidak bermakna apa-apa kepada mereka, jika ia memang jaga kewujudan sekitar, atau perubahan iklim, mereka bentuk akan berdiri orang paling bahagia di dunia.\" Namun, Jackie mengatakan dia tidak tersedia apa-apa terhadap selebriti hollywood. mereka bentuk mempunyai kehidupan yang susah di daerah ini. menonton klip kini jackie di atas. mengikuti daniel nussbaum di twitter: @dznussbaum',\n",
       " 'bahagian dalam masa-masa yang mencabar, jackie mason adalah bahagian sebab. dalam klip eksklusif minggu ini untuk berita pembicaraan, jackie membincangkan ugutan korea utara, dan menjelaskan bagaimana ketua donald trump boleh memenangkan sokongan hollywood kiri jika anda. s. perlu menyerang terlebih dahulu. \"Jika dia memutuskan untuk mengebom mereka, seluruh negara akan berada di belakangnya, kerana semua orang akan menyedari dia tiada mempunyai pilihan dan itu satu-satunya perkara yang perlu dilakukan,\" menyebut Jackie. \"kecuali hollywood yang tersisa, mereka akan mengalu-alukan nauseous.\" \"Trump sanggup mengendap di sebelah kiri, merencanakan akan menurun mengasihi dengannya sebelah dalam satu minit, jika dia membom mengaturkan untuk anasir yang lebih baik,\" ketara Jackie. \"seperti jika mereka bentuk tidak mempunyai tandas transgender.\" Jackie sebaliknya mengatakan tidak hairanlah bahawa selebriti hollywood tidak menyetujui mogok truf di lapangan udara syrian bulan ini. \"mereka marah,\" katanya. \"kerana ia betul-betul dapat mengelakkan nyawa, itu tidak bermakna apa-apa kepada mereka, jika ia hanya menyelamatkan dunia sekitar, atau perubahan iklim, mereka akan menjadi orang handalan bahagia di dunia.\" Namun, Jackie mengatakan dia tidak membawa apa-apa terhadap selebriti hollywood. menjadikan bersetuju cangkerang yang perih di rakyat ini. menonton klip kini jackie di atas. ikuti daniel nussbaum di twitter: @dznussbaum',\n",
       " 'sebelah dalam masa-masa yang mencabar, jackie mason merupakan suara sebab. dalam klip eksklusif minggu ini untuk berita pembicaraan, jackie membincangkan ancaman korea utara, dan bayar bagaimana presiden donald trump boleh memenangkan bimbingan hollywood kiri jika anda. s. asasi mengisi terlebih dahulu. \"Jika dia menghukum untuk mengebom mereka, seluruh ranah akan berada di belakangnya, kerana semua orang akan memahami dia tidak mempunyai pilihan dan itu satu-satunya tokoh yang perlu dilakukan,\" menyesuaikan Jackie. \"kecuali hollywood yang tersisa, merancang akan menampung nauseous.\" \"Trump sanggup menang di sebelah kiri, mereka akan menuruni kasih dengannya dalam serpihan minit, jika dia membom mencipta untuk sebab yang lebih baik,\" terasa Jackie. \"seperti jika menggunting tidak terima tandas transgender.\" Jackie pun mengatakan tidak hairanlah bahawa selebriti hollywood tidak menyokong mematikan truf di lapangan udara syrian bulan ini. \"mereka marah,\" katanya. \"kerana ia terus dapat menyelamatkan nyawa, itu bukan mustahak apa-apa kepada mereka, jika ia hanya menyelamatkan langit sekitar, atau metabolisme iklim, mereka akan menjadi suku paling bahagia di dunia.\" Namun, Jackie mengatakan dia tiada memiliki apa-apa terhadap selebriti hollywood. merancang mempunyai kehidupan yang sukar di negara ini. menonton penyepit terkini jackie di atas. ikuti daniel nussbaum di twitter: @dznussbaum',\n",
       " 'dalam masa-masa yang mencabar, jackie mason berukuran bahagian sebab. mendalam pengepit eksklusif minggu ini untuk berita pembicaraan, jackie membincangkan ancaman korea utara, dan memahami bagaimana pemimpin donald trump boleh memenangkan sokongan hollywood kiri jika anda. s. bersyarat menyerang terlebih dahulu. \"Jika dia membantutkan untuk mengebom mereka, seluruh republik akan berada di belakangnya, kerana semua orang akan menyedari dia tidak mempunyai pilihan dan itu satu-satunya korona yang perlu dilakukan,\" tutur Jackie. \"kecuali hollywood yang tersisa, menjadualkan akan terima nauseous.\" \"Trump sanggup menang di kedudukan kiri, menjadualkan akan jatuh cinta dengannya bahagian dalam esa minit, jika dia membom mereka untuk sebab yang lebih baik,\" jelas Jackie. \"seperti jika menganggap tidak memasukkan jamban transgender.\" Jackie bahkan mengatakan tidak hairanlah bahawa selebriti hollywood bukan meningkat singgah truf di lapangan gaya syrian bulan ini. \"mereka marah,\" katanya. \"kerana ia ha dapat memakamkan nyawa, itu tidak bermakna apa-apa kepada mereka, jika ia hanya menyelamatkan alam semesta sekitar, atau kehilangan iklim, mereka akan berdiri nara paling bahagia di dunia.\" Namun, Jackie mengatakan dia bukan muat apa-apa terhadap selebriti hollywood. mereka mempunyai kehidupan yang keras di ranah ini. menonton klip terkini jackie di atas. menyalin daniel nussbaum di twitter: @dznussbaum',\n",
       " 'dalaman masa-masa yang mencabar, jackie mason adalah suara sebab. dalam sepit eksklusif Ahad ini untuk berita pembicaraan, jackie membincangkan ancaman korea utara, dan menjelaskan bagaimanapun ketua donald trump mampu memenangkan sokongan hollywood kiri jika anda. s. perlu memusingkan terlebih dahulu. \"Jika dia memutuskan untuk mengebom mereka, seluruh negara akan berada di belakangnya, kerana semua orang akan menyedari dia tidak memperoleh pilihan dan itu satu-satunya perkara yang perlu dilakukan,\" kata Jackie. \"kecuali hollywood yang tersisa, menjadikan akan pulang nauseous.\" \"Trump boleh menang di sebelah kiri, merancang akan termasuk cinta dengannya tepu satu minit, jika dia membom menganggap untuk alasan yang kelebihan baik,\" jelas Jackie. \"seperti jika merancang tidak mempunyai pot transgender.\" Jackie agak mengatakan bukan hairanlah bahawa selebriti hollywood bukan menyokong mogok truf di lapangan udara syrian bulan ini. \"mereka marah,\" katanya. \"kerana ia memang dapat menyelamatkan nyawa, itu tidak mustahak apa-apa kepada mereka, jika ia cuma menyelamatkan alam sekitar, atau variasi iklim, mereka akan membentuk orang hebat bahagia di dunia.\" Namun, Jackie mengatakan dia bukan ada apa terhadap selebriti hollywood. menjadikan mempunyai hidup yang keras di ranah ini. menonton penyepit terkini jackie di atas. ikuti daniel nussbaum di twitter: @dznussbaum']"
      ]
     },
     "execution_count": 56,
     "metadata": {},
     "output_type": "execute_result"
    }
   ],
   "source": [
    "aug"
   ]
  },
  {
   "cell_type": "code",
   "execution_count": 59,
   "metadata": {},
   "outputs": [
    {
     "name": "stdout",
     "output_type": "stream",
     "text": [
      "negative/1.json\n",
      "negative/clean-politifact_real.json\n",
      "negative/clean-gossipcop_real1.json\n",
      "negative/2.json\n",
      "negative/clean-gossipcop_real2.json\n",
      "negative/clean-gossipcop_real3.json\n"
     ]
    }
   ],
   "source": [
    "X, Y = [], []\n",
    "for n in negatives:\n",
    "    print(n)\n",
    "    with open(n) as fopen:\n",
    "        x = json.load(fopen)\n",
    "    for r in x:\n",
    "        aug = [' '.join(augmentation(r)) for _ in range(5)]\n",
    "        aug = list(set(aug))\n",
    "        X.extend(aug)\n",
    "        Y.extend([0] * len(aug))"
   ]
  },
  {
   "cell_type": "code",
   "execution_count": 60,
   "metadata": {},
   "outputs": [
    {
     "data": {
      "text/plain": [
       "(134069, 134069)"
      ]
     },
     "execution_count": 60,
     "metadata": {},
     "output_type": "execute_result"
    }
   ],
   "source": [
    "len(X), len(Y)"
   ]
  },
  {
   "cell_type": "code",
   "execution_count": 62,
   "metadata": {},
   "outputs": [
    {
     "name": "stdout",
     "output_type": "stream",
     "text": [
      "positive/positive-fake.json\n",
      "positive/clean-politifact_fake.json\n",
      "positive/clean-gossipcop_fake.json\n"
     ]
    }
   ],
   "source": [
    "for p in positives:\n",
    "    print(p)\n",
    "    with open(p) as fopen:\n",
    "        x = json.load(fopen)\n",
    "    for r in x:\n",
    "        aug = [' '.join(augmentation(r)) for _ in range(5)]\n",
    "        aug = list(set(aug))\n",
    "        X.extend(aug)\n",
    "        Y.extend([1] * len(aug))"
   ]
  },
  {
   "cell_type": "code",
   "execution_count": 63,
   "metadata": {},
   "outputs": [
    {
     "data": {
      "text/plain": [
       "(209519, 209519)"
      ]
     },
     "execution_count": 63,
     "metadata": {},
     "output_type": "execute_result"
    }
   ],
   "source": [
    "len(X), len(Y)"
   ]
  },
  {
   "cell_type": "code",
   "execution_count": 65,
   "metadata": {},
   "outputs": [],
   "source": [
    "with open('augmented-relevancy.json', 'w') as fopen:\n",
    "    json.dump({'X': X, 'Y': Y}, fopen)"
   ]
  },
  {
   "cell_type": "code",
   "execution_count": null,
   "metadata": {},
   "outputs": [],
   "source": []
  }
 ],
 "metadata": {
  "kernelspec": {
   "display_name": "Python 3",
   "language": "python",
   "name": "python3"
  },
  "language_info": {
   "codemirror_mode": {
    "name": "ipython",
    "version": 3
   },
   "file_extension": ".py",
   "mimetype": "text/x-python",
   "name": "python",
   "nbconvert_exporter": "python",
   "pygments_lexer": "ipython3",
   "version": "3.6.8"
  }
 },
 "nbformat": 4,
 "nbformat_minor": 2
}
