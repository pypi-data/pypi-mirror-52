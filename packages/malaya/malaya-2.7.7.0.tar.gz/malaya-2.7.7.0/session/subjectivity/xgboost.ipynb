{
 "cells": [
  {
   "cell_type": "code",
   "execution_count": 1,
   "metadata": {},
   "outputs": [],
   "source": [
    "import re\n",
    "import numpy as np\n",
    "import pandas as pd\n",
    "import collections\n",
    "from sklearn import metrics\n",
    "from sklearn.preprocessing import LabelEncoder\n",
    "from sklearn.model_selection import train_test_split\n",
    "from unidecode import unidecode\n",
    "from nltk.util import ngrams\n",
    "from tqdm import tqdm\n",
    "import time"
   ]
  },
  {
   "cell_type": "code",
   "execution_count": 2,
   "metadata": {},
   "outputs": [],
   "source": [
    "permulaan = [\n",
    "    'bel',\n",
    "    'se',\n",
    "    'ter',\n",
    "    'men',\n",
    "    'meng',\n",
    "    'mem',\n",
    "    'memper',\n",
    "    'di',\n",
    "    'pe',\n",
    "    'me',\n",
    "    'ke',\n",
    "    'ber',\n",
    "    'pen',\n",
    "    'per',\n",
    "]\n",
    "\n",
    "hujung = ['kan', 'kah', 'lah', 'tah', 'nya', 'an', 'wan', 'wati', 'ita']\n",
    "\n",
    "def naive_stemmer(word):\n",
    "    assert isinstance(word, str), 'input must be a string'\n",
    "    hujung_result = re.findall(r'^(.*?)(%s)$' % ('|'.join(hujung)), word)\n",
    "    word = hujung_result[0][0] if len(hujung_result) else word\n",
    "    permulaan_result = re.findall(r'^(.*?)(%s)' % ('|'.join(permulaan[::-1])), word)\n",
    "    permulaan_result.extend(re.findall(r'^(.*?)(%s)' % ('|'.join(permulaan)), word))\n",
    "    mula = permulaan_result if len(permulaan_result) else ''\n",
    "    if len(mula):\n",
    "        mula = mula[1][1] if len(mula[1][1]) > len(mula[0][1]) else mula[0][1]\n",
    "    return word.replace(mula, '')"
   ]
  },
  {
   "cell_type": "code",
   "execution_count": 3,
   "metadata": {},
   "outputs": [],
   "source": [
    "def classification_textcleaning(string):\n",
    "    string = re.sub(\n",
    "        'http\\S+|www.\\S+',\n",
    "        '',\n",
    "        ' '.join(\n",
    "            [i for i in string.split() if i.find('#') < 0 and i.find('@') < 0]\n",
    "        ),\n",
    "    )\n",
    "    string = unidecode(string).replace('.', ' . ').replace(',', ' , ')\n",
    "    string = re.sub('[^A-Za-z ]+', ' ', string)\n",
    "    string = re.sub(r'[ ]+', ' ', string).strip()\n",
    "    string = ' '.join(\n",
    "        [i for i in re.findall('[\\\\w\\']+|[;:\\-\\(\\)&.,!?\"]', string) if len(i)]\n",
    "    )\n",
    "    string = string.lower().split()\n",
    "    string = [(naive_stemmer(word), word) for word in string]\n",
    "    return (\n",
    "        ' '.join([word[0] for word in string if len(word[0]) > 1]),\n",
    "        ' '.join([word[1] for word in string if len(word[0]) > 1]),\n",
    "    )"
   ]
  },
  {
   "cell_type": "code",
   "execution_count": 4,
   "metadata": {},
   "outputs": [],
   "source": [
    "with open('subjectivity-negative-translated.txt','r') as fopen:\n",
    "    texts = fopen.read().split('\\n')\n",
    "labels = [0] * len(texts)\n",
    "\n",
    "with open('subjectivity-positive-translated.txt','r') as fopen:\n",
    "    positive_texts = fopen.read().split('\\n')\n",
    "labels += [1] * len(positive_texts)\n",
    "texts += positive_texts\n",
    "\n",
    "assert len(labels) == len(texts)"
   ]
  },
  {
   "cell_type": "code",
   "execution_count": 5,
   "metadata": {},
   "outputs": [],
   "source": [
    "for i in range(len(texts)):\n",
    "    texts[i] = classification_textcleaning(texts[i])[0]"
   ]
  },
  {
   "cell_type": "code",
   "execution_count": 6,
   "metadata": {},
   "outputs": [],
   "source": [
    "from sklearn.feature_extraction.text import TfidfVectorizer\n",
    "import xgboost as xgb"
   ]
  },
  {
   "cell_type": "code",
   "execution_count": 7,
   "metadata": {},
   "outputs": [
    {
     "data": {
      "text/plain": [
       "(9962, 30504)"
      ]
     },
     "execution_count": 7,
     "metadata": {},
     "output_type": "execute_result"
    }
   ],
   "source": [
    "tfidf = TfidfVectorizer(ngram_range=(1, 3),min_df=2).fit(texts)\n",
    "vectors = tfidf.transform(texts)\n",
    "vectors.shape"
   ]
  },
  {
   "cell_type": "code",
   "execution_count": 8,
   "metadata": {},
   "outputs": [],
   "source": [
    "train_X, test_X, train_Y, test_Y = train_test_split(vectors, labels, test_size = 0.2)"
   ]
  },
  {
   "cell_type": "code",
   "execution_count": 9,
   "metadata": {},
   "outputs": [
    {
     "name": "stdout",
     "output_type": "stream",
     "text": [
      "[0]\tvalidation-mlogloss:0.678167\n",
      "Will train until validation-mlogloss hasn't improved in 100 rounds.\n",
      "[5]\tvalidation-mlogloss:0.618297\n",
      "[10]\tvalidation-mlogloss:0.579638\n",
      "[15]\tvalidation-mlogloss:0.54779\n",
      "[20]\tvalidation-mlogloss:0.526034\n",
      "[25]\tvalidation-mlogloss:0.509992\n",
      "[30]\tvalidation-mlogloss:0.494278\n",
      "[35]\tvalidation-mlogloss:0.481547\n",
      "[40]\tvalidation-mlogloss:0.472083\n",
      "[45]\tvalidation-mlogloss:0.463034\n",
      "[50]\tvalidation-mlogloss:0.455712\n",
      "[55]\tvalidation-mlogloss:0.448212\n",
      "[60]\tvalidation-mlogloss:0.442091\n",
      "[65]\tvalidation-mlogloss:0.43584\n",
      "[70]\tvalidation-mlogloss:0.429555\n",
      "[75]\tvalidation-mlogloss:0.423943\n",
      "[80]\tvalidation-mlogloss:0.419133\n",
      "[85]\tvalidation-mlogloss:0.414704\n",
      "[90]\tvalidation-mlogloss:0.410628\n",
      "[95]\tvalidation-mlogloss:0.406343\n",
      "[100]\tvalidation-mlogloss:0.402458\n",
      "[105]\tvalidation-mlogloss:0.399247\n",
      "[110]\tvalidation-mlogloss:0.395572\n",
      "[115]\tvalidation-mlogloss:0.392212\n",
      "[120]\tvalidation-mlogloss:0.389533\n",
      "[125]\tvalidation-mlogloss:0.387173\n",
      "[130]\tvalidation-mlogloss:0.384787\n",
      "[135]\tvalidation-mlogloss:0.381432\n",
      "[140]\tvalidation-mlogloss:0.379296\n",
      "[145]\tvalidation-mlogloss:0.37719\n",
      "[150]\tvalidation-mlogloss:0.375333\n",
      "[155]\tvalidation-mlogloss:0.372982\n",
      "[160]\tvalidation-mlogloss:0.370508\n",
      "[165]\tvalidation-mlogloss:0.36838\n",
      "[170]\tvalidation-mlogloss:0.367256\n",
      "[175]\tvalidation-mlogloss:0.36592\n",
      "[180]\tvalidation-mlogloss:0.364471\n",
      "[185]\tvalidation-mlogloss:0.362954\n",
      "[190]\tvalidation-mlogloss:0.362018\n",
      "[195]\tvalidation-mlogloss:0.360584\n",
      "[200]\tvalidation-mlogloss:0.358912\n",
      "[205]\tvalidation-mlogloss:0.357634\n",
      "[210]\tvalidation-mlogloss:0.356275\n",
      "[215]\tvalidation-mlogloss:0.355355\n",
      "[220]\tvalidation-mlogloss:0.354119\n",
      "[225]\tvalidation-mlogloss:0.353222\n",
      "[230]\tvalidation-mlogloss:0.352544\n",
      "[235]\tvalidation-mlogloss:0.351337\n",
      "[240]\tvalidation-mlogloss:0.350508\n",
      "[245]\tvalidation-mlogloss:0.349217\n",
      "[250]\tvalidation-mlogloss:0.348477\n",
      "[255]\tvalidation-mlogloss:0.34759\n",
      "[260]\tvalidation-mlogloss:0.346733\n",
      "[265]\tvalidation-mlogloss:0.345878\n",
      "[270]\tvalidation-mlogloss:0.344985\n",
      "[275]\tvalidation-mlogloss:0.344611\n",
      "[280]\tvalidation-mlogloss:0.343882\n",
      "[285]\tvalidation-mlogloss:0.343367\n",
      "[290]\tvalidation-mlogloss:0.343055\n",
      "[295]\tvalidation-mlogloss:0.342535\n",
      "[300]\tvalidation-mlogloss:0.342565\n",
      "[305]\tvalidation-mlogloss:0.342232\n",
      "[310]\tvalidation-mlogloss:0.342343\n",
      "[315]\tvalidation-mlogloss:0.342075\n",
      "[320]\tvalidation-mlogloss:0.341422\n",
      "[325]\tvalidation-mlogloss:0.340825\n",
      "[330]\tvalidation-mlogloss:0.34101\n",
      "[335]\tvalidation-mlogloss:0.340411\n",
      "[340]\tvalidation-mlogloss:0.340088\n",
      "[345]\tvalidation-mlogloss:0.339606\n",
      "[350]\tvalidation-mlogloss:0.339513\n",
      "[355]\tvalidation-mlogloss:0.339674\n",
      "[360]\tvalidation-mlogloss:0.339665\n",
      "[365]\tvalidation-mlogloss:0.339314\n",
      "[370]\tvalidation-mlogloss:0.339456\n",
      "[375]\tvalidation-mlogloss:0.339261\n",
      "[380]\tvalidation-mlogloss:0.339239\n",
      "[385]\tvalidation-mlogloss:0.338879\n",
      "[390]\tvalidation-mlogloss:0.33878\n",
      "[395]\tvalidation-mlogloss:0.338812\n",
      "[400]\tvalidation-mlogloss:0.338825\n",
      "[405]\tvalidation-mlogloss:0.338636\n",
      "[410]\tvalidation-mlogloss:0.338781\n",
      "[415]\tvalidation-mlogloss:0.33864\n",
      "[420]\tvalidation-mlogloss:0.338654\n",
      "[425]\tvalidation-mlogloss:0.338576\n",
      "[430]\tvalidation-mlogloss:0.338382\n",
      "[435]\tvalidation-mlogloss:0.338377\n",
      "[440]\tvalidation-mlogloss:0.338318\n",
      "[445]\tvalidation-mlogloss:0.338398\n",
      "[450]\tvalidation-mlogloss:0.338741\n",
      "[455]\tvalidation-mlogloss:0.338463\n",
      "[460]\tvalidation-mlogloss:0.338379\n",
      "[465]\tvalidation-mlogloss:0.338569\n",
      "[470]\tvalidation-mlogloss:0.338963\n",
      "[475]\tvalidation-mlogloss:0.338911\n",
      "[480]\tvalidation-mlogloss:0.338973\n",
      "[485]\tvalidation-mlogloss:0.338966\n",
      "[490]\tvalidation-mlogloss:0.338993\n",
      "[495]\tvalidation-mlogloss:0.339354\n",
      "[500]\tvalidation-mlogloss:0.339739\n",
      "[505]\tvalidation-mlogloss:0.339522\n",
      "[510]\tvalidation-mlogloss:0.339728\n",
      "[515]\tvalidation-mlogloss:0.33947\n",
      "[520]\tvalidation-mlogloss:0.339772\n",
      "[525]\tvalidation-mlogloss:0.339872\n",
      "[530]\tvalidation-mlogloss:0.340068\n",
      "Stopping. Best iteration:\n",
      "[434]\tvalidation-mlogloss:0.338199\n",
      "\n"
     ]
    }
   ],
   "source": [
    "train_d = xgb.DMatrix(train_X, train_Y)\n",
    "test_d = xgb.DMatrix(test_X, test_Y)\n",
    "params_xgd = {\n",
    "    'min_child_weight': 10.0,\n",
    "    'max_depth': 7,\n",
    "    'objective': 'multi:softprob',\n",
    "    'max_delta_step': 1.8,\n",
    "    'num_class': 2,\n",
    "    'colsample_bytree': 0.4,\n",
    "    'subsample': 0.8,\n",
    "    'learning_rate': 0.1,\n",
    "    'gamma': 0.65,\n",
    "    'silent': True,\n",
    "    'eval_metric': 'mlogloss'\n",
    "}\n",
    "model = xgb.train(params_xgd, train_d, 10000, evals=[(test_d, 'validation')], \n",
    "                  early_stopping_rounds=100, verbose_eval=5)"
   ]
  },
  {
   "cell_type": "code",
   "execution_count": 10,
   "metadata": {},
   "outputs": [
    {
     "name": "stdout",
     "output_type": "stream",
     "text": [
      "              precision    recall  f1-score   support\n",
      "\n",
      "    negative       0.86      0.85      0.85      1003\n",
      "    positive       0.85      0.86      0.85       990\n",
      "\n",
      "   micro avg       0.85      0.85      0.85      1993\n",
      "   macro avg       0.85      0.85      0.85      1993\n",
      "weighted avg       0.85      0.85      0.85      1993\n",
      "\n"
     ]
    }
   ],
   "source": [
    "predicted = np.argmax(model.predict(xgb.DMatrix(test_X),ntree_limit=model.best_ntree_limit),axis=1)\n",
    "print(metrics.classification_report(test_Y, predicted, target_names = ['negative','positive']))"
   ]
  },
  {
   "cell_type": "code",
   "execution_count": 12,
   "metadata": {},
   "outputs": [],
   "source": [
    "import pickle\n",
    "with open('xgboost-subjective.pkl','wb') as fopen:\n",
    "    pickle.dump(model,fopen)\n",
    "\n",
    "with open('tfidf-xgboost-subjective.pkl','wb') as fopen:\n",
    "    pickle.dump(tfidf,fopen)"
   ]
  },
  {
   "cell_type": "code",
   "execution_count": null,
   "metadata": {},
   "outputs": [],
   "source": []
  }
 ],
 "metadata": {
  "kernelspec": {
   "display_name": "Python 3",
   "language": "python",
   "name": "python3"
  },
  "language_info": {
   "codemirror_mode": {
    "name": "ipython",
    "version": 3
   },
   "file_extension": ".py",
   "mimetype": "text/x-python",
   "name": "python",
   "nbconvert_exporter": "python",
   "pygments_lexer": "ipython3",
   "version": "3.5.2"
  }
 },
 "nbformat": 4,
 "nbformat_minor": 2
}
