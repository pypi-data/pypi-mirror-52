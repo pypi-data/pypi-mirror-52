{
 "cells": [
  {
   "cell_type": "code",
   "execution_count": 1,
   "metadata": {},
   "outputs": [],
   "source": [
    "import os\n",
    "import tensorflow as tf\n",
    "import malaya\n",
    "import json\n",
    "import matplotlib.pyplot as plt"
   ]
  },
  {
   "cell_type": "code",
   "execution_count": 2,
   "metadata": {},
   "outputs": [],
   "source": [
    "import re\n",
    "\n",
    "tokenizer = malaya.preprocessing._SocialTokenizer().tokenize\n",
    "\n",
    "def is_number_regex(s):\n",
    "    if re.match(\"^\\d+?\\.\\d+?$\", s) is None:\n",
    "        return s.isdigit()\n",
    "    return True\n",
    "\n",
    "def detect_money(word):\n",
    "    if word[:2] == 'rm' and is_number_regex(word[2:]):\n",
    "        return True\n",
    "    else:\n",
    "        return False\n",
    "\n",
    "def preprocessing(string):\n",
    "    tokenized = tokenizer(string)\n",
    "    tokenized = [malaya.stem.naive(w) for w in tokenized]\n",
    "    tokenized = [w.lower() for w in tokenized if len(w) > 1]\n",
    "    tokenized = ['<NUM>' if is_number_regex(w) else w for w in tokenized]\n",
    "    tokenized = ['<MONEY>' if detect_money(w) else w for w in tokenized]\n",
    "    return tokenized\n",
    "\n",
    "def clean_label(label):\n",
    "    string = re.sub('[^A-Za-z\\- ]+', ' ', label)\n",
    "    return re.sub(r'[ ]+', ' ', string.lower()).strip()"
   ]
  },
  {
   "cell_type": "code",
   "execution_count": 3,
   "metadata": {},
   "outputs": [],
   "source": [
    "with open('augmented-relevancy.json') as fopen:\n",
    "    loaded = json.load(fopen)\n",
    "    \n",
    "X = loaded['X']\n",
    "Y = loaded['Y']\n",
    "del loaded\n",
    "del X"
   ]
  },
  {
   "cell_type": "code",
   "execution_count": 4,
   "metadata": {},
   "outputs": [
    {
     "data": {
      "text/plain": [
       "209519"
      ]
     },
     "execution_count": 4,
     "metadata": {},
     "output_type": "execute_result"
    }
   ],
   "source": [
    "len(Y)"
   ]
  },
  {
   "cell_type": "code",
   "execution_count": 5,
   "metadata": {},
   "outputs": [
    {
     "data": {
      "text/plain": [
       "209519"
      ]
     },
     "execution_count": 5,
     "metadata": {},
     "output_type": "execute_result"
    }
   ],
   "source": [
    "with open('tokenized.json') as fopen:\n",
    "    X = json.load(fopen)\n",
    "len(X)"
   ]
  },
  {
   "cell_type": "code",
   "execution_count": 6,
   "metadata": {},
   "outputs": [],
   "source": [
    "def build_dataset(words, n_words, atleast=5):\n",
    "    count = [['PAD', 0], ['GO', 1], ['EOS', 2], ['UNK', 3]]\n",
    "    counter = collections.Counter(words).most_common(n_words - 10)\n",
    "    counter = [i for i in counter if i[1] >= atleast]\n",
    "    count.extend(counter)\n",
    "    dictionary = dict()\n",
    "    for word, _ in count:\n",
    "        dictionary[word] = len(dictionary)\n",
    "    data = list()\n",
    "    unk_count = 0\n",
    "    for word in words:\n",
    "        index = dictionary.get(word, 0)\n",
    "        if index == 0:\n",
    "            unk_count += 1\n",
    "        data.append(index)\n",
    "    count[0][1] = unk_count\n",
    "    reversed_dictionary = dict(zip(dictionary.values(), dictionary.keys()))\n",
    "    return data, count, dictionary, reversed_dictionary"
   ]
  },
  {
   "cell_type": "code",
   "execution_count": 7,
   "metadata": {},
   "outputs": [
    {
     "name": "stdout",
     "output_type": "stream",
     "text": [
      "vocab from size: 182897\n",
      "Most common words [('yang', 3183855), ('untuk', 1605026), ('deng', 1044792), ('<NUM>', 990691), ('pada', 946745), ('saya', 881156)]\n",
      "Sample data [11, 37, 37, 4, 961, 4570, 4006, 374, 639, 388] ['dalam', 'masa', 'masa', 'yang', 'cabar', 'jackie', 'mason', 'wakili', 'suara', 'bab']\n"
     ]
    },
    {
     "data": {
      "text/plain": [
       "182891"
      ]
     },
     "execution_count": 7,
     "metadata": {},
     "output_type": "execute_result"
    }
   ],
   "source": [
    "import itertools\n",
    "import collections\n",
    "\n",
    "concat = list(itertools.chain(*X))\n",
    "vocabulary_size = len(list(set(concat)))\n",
    "data, count, dictionary, rev_dictionary = build_dataset(concat, vocabulary_size, 1)\n",
    "print('vocab from size: %d'%(vocabulary_size))\n",
    "print('Most common words', count[4:10])\n",
    "print('Sample data', data[:10], [rev_dictionary[i] for i in data[:10]])\n",
    "len(dictionary)"
   ]
  },
  {
   "cell_type": "code",
   "execution_count": 8,
   "metadata": {},
   "outputs": [],
   "source": [
    "with open('relevancy-dictionary.json','w') as fopen:\n",
    "    fopen.write(json.dumps({'dictionary':dictionary,'reverse_dictionary':rev_dictionary}))"
   ]
  },
  {
   "cell_type": "code",
   "execution_count": 9,
   "metadata": {},
   "outputs": [],
   "source": [
    "import numpy as np"
   ]
  },
  {
   "cell_type": "code",
   "execution_count": 10,
   "metadata": {},
   "outputs": [],
   "source": [
    "def position_encoding(inputs):\n",
    "    T = tf.shape(inputs)[1]\n",
    "    repr_dim = inputs.get_shape()[-1].value\n",
    "    pos = tf.reshape(tf.range(0.0, tf.to_float(T), dtype=tf.float32), [-1, 1])\n",
    "    i = np.arange(0, repr_dim, 2, np.float32)\n",
    "    denom = np.reshape(np.power(10000.0, i / repr_dim), [1, -1])\n",
    "    enc = tf.expand_dims(tf.concat([tf.sin(pos / denom), tf.cos(pos / denom)], 1), 0)\n",
    "    return tf.tile(enc, [tf.shape(inputs)[0], 1, 1])\n",
    "\n",
    "def layer_norm(inputs, epsilon=1e-8):\n",
    "    mean, variance = tf.nn.moments(inputs, [-1], keep_dims=True)\n",
    "    normalized = (inputs - mean) / (tf.sqrt(variance + epsilon))\n",
    "    params_shape = inputs.get_shape()[-1:]\n",
    "    gamma = tf.get_variable('gamma', params_shape, tf.float32, tf.ones_initializer())\n",
    "    beta = tf.get_variable('beta', params_shape, tf.float32, tf.zeros_initializer())\n",
    "    return gamma * normalized + beta\n",
    "\n",
    "def cnn_block(x, dilation_rate, pad_sz, hidden_dim, kernel_size):\n",
    "    x = layer_norm(x)\n",
    "    pad = tf.zeros([tf.shape(x)[0], pad_sz, hidden_dim])\n",
    "    x =  tf.layers.conv1d(inputs = tf.concat([pad, x, pad], 1),\n",
    "                          filters = hidden_dim,\n",
    "                          kernel_size = kernel_size,\n",
    "                          dilation_rate = dilation_rate)\n",
    "    x = tf.layers.dropout(x, 0.3, training=True) \n",
    "    x = x[:, :-pad_sz, :]\n",
    "    x = tf.nn.relu(x)\n",
    "    return x\n",
    "\n",
    "def Attention(inputs, num_units, num_heads = 8, activation = None):\n",
    "    T_q = T_k = tf.shape(inputs)[1]\n",
    "    Q_K_V = tf.layers.dense(inputs, 3*num_units, activation)\n",
    "    Q, K, V = tf.split(Q_K_V, 3, -1)\n",
    "    Q_ = tf.concat(tf.split(Q, num_heads, axis=2), 0)\n",
    "    K_ = tf.concat(tf.split(K, num_heads, axis=2), 0)\n",
    "    V_ = tf.concat(tf.split(V, num_heads, axis=2), 0)\n",
    "    align = tf.matmul(Q_, K_, transpose_b=True)\n",
    "    align *= tf.rsqrt(tf.to_float(K_.get_shape()[-1].value))\n",
    "    paddings = tf.fill(tf.shape(align), float('-inf'))\n",
    "    lower_tri = tf.ones([T_q, T_k])\n",
    "    lower_tri = tf.linalg.LinearOperatorLowerTriangular(lower_tri).to_dense()\n",
    "    masks = tf.tile(tf.expand_dims(lower_tri,0), [tf.shape(align)[0],1,1])\n",
    "    align = tf.where(tf.equal(masks, 0), paddings, align)\n",
    "    align = tf.nn.softmax(align)\n",
    "    align = tf.layers.dropout(align, 0.3, training=True) \n",
    "    alignments = tf.transpose(align, [0, 2, 1]) \n",
    "    x = tf.matmul(align, V_)\n",
    "    x = tf.concat(tf.split(x, num_heads, axis=0), 2)\n",
    "    x += inputs\n",
    "    x = layer_norm(x)\n",
    "    return x, alignments\n",
    "\n",
    "class Model:\n",
    "    def __init__(self, dict_size, dimension_output, size_layer, num_layers, learning_rate,\n",
    "                 kernel_size = 5):\n",
    "        self.X = tf.placeholder(tf.int32, [None, None])\n",
    "        self.Y = tf.placeholder(tf.int32, [None])\n",
    "        \n",
    "        embeddings = tf.Variable(\n",
    "            tf.random_uniform([dict_size, size_layer], -1, 1)\n",
    "        )\n",
    "        x = tf.nn.embedding_lookup(embeddings, self.X)\n",
    "        x += position_encoding(x)\n",
    "        \n",
    "        for i in range(num_layers): \n",
    "            dilation_rate = 2 ** i\n",
    "            pad_sz = (kernel_size - 1) * dilation_rate \n",
    "            with tf.variable_scope('block_%d'%i):\n",
    "                a = cnn_block(x, dilation_rate, pad_sz, size_layer, kernel_size)\n",
    "            \n",
    "            x += a\n",
    "        print(x)\n",
    "        train_R, self.alignments = Attention(x, size_layers)\n",
    "        \n",
    "        def logits(x, reuse = False):\n",
    "            with tf.variable_scope('generate_mel', reuse = reuse):\n",
    "                for i in range(num_layers): \n",
    "                    dilation_rate = 2 ** i\n",
    "                    pad_sz = (kernel_size - 1) * dilation_rate \n",
    "                    with tf.variable_scope('block_mel_%d'%i, reuse = reuse):\n",
    "                        x += cnn_block(x, dilation_rate, pad_sz, size_layer, kernel_size)\n",
    "                return tf.layers.dense(x, dimension_output)\n",
    "        \n",
    "        self.logits_seq = logits(train_R)\n",
    "        self.logits_seq = tf.identity(self.logits_seq, name = 'logits_seq')\n",
    "        self.logits = self.logits_seq[:, -1]\n",
    "        self.logits = tf.identity(self.logits, name = 'logits')\n",
    "        print(self.logits)\n",
    "        \n",
    "        self.cost = tf.reduce_mean(\n",
    "            tf.nn.sparse_softmax_cross_entropy_with_logits(\n",
    "                logits = self.logits, labels = self.Y\n",
    "            )\n",
    "        )\n",
    "        \n",
    "        self.cost = self.cost\n",
    "        self.optimizer = tf.train.AdamOptimizer(\n",
    "            learning_rate = learning_rate\n",
    "        ).minimize(self.cost)\n",
    "        correct_pred = tf.equal(\n",
    "            tf.argmax(self.logits, 1, output_type = tf.int32), self.Y\n",
    "        )\n",
    "        self.accuracy = tf.reduce_mean(tf.cast(correct_pred, tf.float32))\n",
    "        self.attention = tf.identity(tf.reduce_mean(self.alignments[0], 1), name = 'alphas')"
   ]
  },
  {
   "cell_type": "code",
   "execution_count": 11,
   "metadata": {},
   "outputs": [
    {
     "name": "stdout",
     "output_type": "stream",
     "text": [
      "Tensor(\"add_6:0\", shape=(?, ?, 128), dtype=float32)\n",
      "Tensor(\"logits:0\", shape=(?, 2), dtype=float32)\n"
     ]
    }
   ],
   "source": [
    "tf.reset_default_graph()\n",
    "sess = tf.InteractiveSession()\n",
    "\n",
    "size_layers = 128\n",
    "learning_rate = 1e-4\n",
    "num_layers = 6\n",
    "\n",
    "model = Model(len(dictionary), 2, size_layers, num_layers, learning_rate)\n",
    "sess.run(tf.global_variables_initializer())"
   ]
  },
  {
   "cell_type": "code",
   "execution_count": 12,
   "metadata": {},
   "outputs": [
    {
     "data": {
      "text/plain": [
       "['Placeholder',\n",
       " 'Placeholder_1',\n",
       " 'Variable',\n",
       " 'block_0/gamma',\n",
       " 'block_0/beta',\n",
       " 'block_0/conv1d/kernel',\n",
       " 'block_0/conv1d/bias',\n",
       " 'block_1/gamma',\n",
       " 'block_1/beta',\n",
       " 'block_1/conv1d/kernel',\n",
       " 'block_1/conv1d/bias',\n",
       " 'block_2/gamma',\n",
       " 'block_2/beta',\n",
       " 'block_2/conv1d/kernel',\n",
       " 'block_2/conv1d/bias',\n",
       " 'block_3/gamma',\n",
       " 'block_3/beta',\n",
       " 'block_3/conv1d/kernel',\n",
       " 'block_3/conv1d/bias',\n",
       " 'block_4/gamma',\n",
       " 'block_4/beta',\n",
       " 'block_4/conv1d/kernel',\n",
       " 'block_4/conv1d/bias',\n",
       " 'block_5/gamma',\n",
       " 'block_5/beta',\n",
       " 'block_5/conv1d/kernel',\n",
       " 'block_5/conv1d/bias',\n",
       " 'dense/kernel',\n",
       " 'dense/bias',\n",
       " 'gamma',\n",
       " 'beta',\n",
       " 'generate_mel/block_mel_0/gamma',\n",
       " 'generate_mel/block_mel_0/beta',\n",
       " 'generate_mel/block_mel_0/conv1d/kernel',\n",
       " 'generate_mel/block_mel_0/conv1d/bias',\n",
       " 'generate_mel/block_mel_1/gamma',\n",
       " 'generate_mel/block_mel_1/beta',\n",
       " 'generate_mel/block_mel_1/conv1d/kernel',\n",
       " 'generate_mel/block_mel_1/conv1d/bias',\n",
       " 'generate_mel/block_mel_2/gamma',\n",
       " 'generate_mel/block_mel_2/beta',\n",
       " 'generate_mel/block_mel_2/conv1d/kernel',\n",
       " 'generate_mel/block_mel_2/conv1d/bias',\n",
       " 'generate_mel/block_mel_3/gamma',\n",
       " 'generate_mel/block_mel_3/beta',\n",
       " 'generate_mel/block_mel_3/conv1d/kernel',\n",
       " 'generate_mel/block_mel_3/conv1d/bias',\n",
       " 'generate_mel/block_mel_4/gamma',\n",
       " 'generate_mel/block_mel_4/beta',\n",
       " 'generate_mel/block_mel_4/conv1d/kernel',\n",
       " 'generate_mel/block_mel_4/conv1d/bias',\n",
       " 'generate_mel/block_mel_5/gamma',\n",
       " 'generate_mel/block_mel_5/beta',\n",
       " 'generate_mel/block_mel_5/conv1d/kernel',\n",
       " 'generate_mel/block_mel_5/conv1d/bias',\n",
       " 'generate_mel/dense/kernel',\n",
       " 'generate_mel/dense/bias',\n",
       " 'logits_seq',\n",
       " 'logits',\n",
       " 'alphas']"
      ]
     },
     "execution_count": 12,
     "metadata": {},
     "output_type": "execute_result"
    }
   ],
   "source": [
    "strings = ','.join(\n",
    "    [\n",
    "        n.name\n",
    "        for n in tf.get_default_graph().as_graph_def().node\n",
    "        if ('Variable' in n.op\n",
    "        or 'Placeholder' in n.name\n",
    "        or 'logits' in n.name\n",
    "        or 'logits_seq' in n.name\n",
    "        or 'alphas' in n.name)\n",
    "        and 'Adam' not in n.name\n",
    "        and '_power' not in n.name\n",
    "    ]\n",
    ")\n",
    "strings.split(',')"
   ]
  },
  {
   "cell_type": "code",
   "execution_count": 13,
   "metadata": {},
   "outputs": [
    {
     "data": {
      "text/plain": [
       "'dilated-cnn-monothonic-attention/model.ckpt'"
      ]
     },
     "execution_count": 13,
     "metadata": {},
     "output_type": "execute_result"
    }
   ],
   "source": [
    "saver = tf.train.Saver(tf.trainable_variables())\n",
    "saver.save(sess, 'dilated-cnn-monothonic-attention/model.ckpt')"
   ]
  },
  {
   "cell_type": "code",
   "execution_count": 14,
   "metadata": {},
   "outputs": [],
   "source": [
    "def str_idx(corpus, dic, maxlen, UNK = 3):\n",
    "    X = np.zeros((len(corpus), maxlen))\n",
    "    for i in range(len(corpus)):\n",
    "        for no, k in enumerate(corpus[i][:maxlen]):\n",
    "            X[i, no] = dic.get(k, UNK)\n",
    "    return X"
   ]
  },
  {
   "cell_type": "code",
   "execution_count": 15,
   "metadata": {},
   "outputs": [],
   "source": [
    "from sklearn.cross_validation import train_test_split\n",
    "\n",
    "train_X, test_X, train_Y, test_Y = train_test_split(X, Y, test_size = 0.2)\n",
    "\n",
    "del X, Y"
   ]
  },
  {
   "cell_type": "code",
   "execution_count": 16,
   "metadata": {},
   "outputs": [
    {
     "data": {
      "text/plain": [
       "(167615, 41904)"
      ]
     },
     "execution_count": 16,
     "metadata": {},
     "output_type": "execute_result"
    }
   ],
   "source": [
    "len(train_X), len(test_X)"
   ]
  },
  {
   "cell_type": "code",
   "execution_count": 17,
   "metadata": {},
   "outputs": [],
   "source": [
    "batch_size = 16\n",
    "max_x = 500"
   ]
  },
  {
   "cell_type": "code",
   "execution_count": 18,
   "metadata": {},
   "outputs": [
    {
     "name": "stderr",
     "output_type": "stream",
     "text": [
      "train minibatch loop: 100%|██████████| 10476/10476 [46:59<00:00,  3.04it/s, accuracy=0.933, cost=0.206]\n",
      "test minibatch loop: 100%|██████████| 2619/2619 [04:09<00:00, 10.20it/s, accuracy=0.438, cost=1.02] \n",
      "train minibatch loop:   0%|          | 0/10476 [00:00<?, ?it/s]"
     ]
    },
    {
     "name": "stdout",
     "output_type": "stream",
     "text": [
      "time taken: 3068.936585664749\n",
      "epoch: 0, training loss: 0.666421, training acc: 0.637842, valid loss: 0.554504, valid acc: 0.737949\n",
      "\n"
     ]
    },
    {
     "name": "stderr",
     "output_type": "stream",
     "text": [
      "train minibatch loop: 100%|██████████| 10476/10476 [46:56<00:00,  3.78it/s, accuracy=1, cost=0.0915]   \n",
      "test minibatch loop: 100%|██████████| 2619/2619 [04:08<00:00, 10.48it/s, accuracy=0.812, cost=0.52]  \n",
      "train minibatch loop:   0%|          | 0/10476 [00:00<?, ?it/s]"
     ]
    },
    {
     "name": "stdout",
     "output_type": "stream",
     "text": [
      "time taken: 3065.2919266223907\n",
      "epoch: 1, training loss: 0.400431, training acc: 0.823811, valid loss: 0.438235, valid acc: 0.826246\n",
      "\n"
     ]
    },
    {
     "name": "stderr",
     "output_type": "stream",
     "text": [
      "train minibatch loop: 100%|██████████| 10476/10476 [46:57<00:00,  3.78it/s, accuracy=1, cost=0.0846]    \n",
      "test minibatch loop: 100%|██████████| 2619/2619 [04:08<00:00, 10.52it/s, accuracy=0.75, cost=0.454]  \n",
      "train minibatch loop:   0%|          | 0/10476 [00:00<?, ?it/s]"
     ]
    },
    {
     "name": "stdout",
     "output_type": "stream",
     "text": [
      "time taken: 3066.7117681503296\n",
      "epoch: 2, training loss: 0.286431, training acc: 0.882248, valid loss: 0.359493, valid acc: 0.866910\n",
      "\n"
     ]
    },
    {
     "name": "stderr",
     "output_type": "stream",
     "text": [
      "train minibatch loop: 100%|██████████| 10476/10476 [46:57<00:00,  3.78it/s, accuracy=1, cost=0.116]     \n",
      "test minibatch loop: 100%|██████████| 2619/2619 [04:08<00:00, 10.53it/s, accuracy=0.812, cost=0.373] \n",
      "train minibatch loop:   0%|          | 0/10476 [00:00<?, ?it/s]"
     ]
    },
    {
     "name": "stdout",
     "output_type": "stream",
     "text": [
      "time taken: 3066.253027200699\n",
      "epoch: 3, training loss: 0.218694, training acc: 0.912502, valid loss: 0.278537, valid acc: 0.895642\n",
      "\n"
     ]
    },
    {
     "name": "stderr",
     "output_type": "stream",
     "text": [
      "train minibatch loop: 100%|██████████| 10476/10476 [46:57<00:00,  3.78it/s, accuracy=0.933, cost=0.0623]\n",
      "test minibatch loop: 100%|██████████| 2619/2619 [04:08<00:00, 10.52it/s, accuracy=0.812, cost=0.31]  "
     ]
    },
    {
     "name": "stdout",
     "output_type": "stream",
     "text": [
      "time taken: 3066.1756496429443\n",
      "epoch: 4, training loss: 0.167653, training acc: 0.934504, valid loss: 0.268135, valid acc: 0.908028\n",
      "\n"
     ]
    },
    {
     "name": "stderr",
     "output_type": "stream",
     "text": [
      "\n"
     ]
    }
   ],
   "source": [
    "from tqdm import tqdm\n",
    "import time\n",
    "\n",
    "for EPOCH in range(5):\n",
    "    lasttime = time.time()\n",
    "\n",
    "    train_acc, train_loss, test_acc, test_loss = 0, 0, 0, 0\n",
    "    pbar = tqdm(\n",
    "        range(0, len(train_X), batch_size), desc = 'train minibatch loop'\n",
    "    )\n",
    "    for i in pbar:\n",
    "        index = min(i + batch_size, len(train_X))\n",
    "        batch_x = train_X[i : index]\n",
    "        batch_y = train_Y[i : index]\n",
    "        max_batch = max([len(x) for x in batch_x])\n",
    "        max_batch = min(max_batch, max_x)\n",
    "        batch_x = str_idx(batch_x, dictionary, max_batch)\n",
    "        \n",
    "        acc, cost, _ = sess.run(\n",
    "            [model.accuracy, model.cost, model.optimizer],\n",
    "            feed_dict = {\n",
    "                model.Y: batch_y,\n",
    "                model.X: batch_x\n",
    "            },\n",
    "        )\n",
    "        assert not np.isnan(cost)\n",
    "        train_loss += cost\n",
    "        train_acc += acc\n",
    "        pbar.set_postfix(cost = cost, accuracy = acc)\n",
    "    \n",
    "    pbar = tqdm(\n",
    "        range(0, len(test_X), batch_size), desc = 'test minibatch loop'\n",
    "    )\n",
    "    for i in pbar:\n",
    "        index = min(i + batch_size, len(test_X))\n",
    "        batch_x = test_X[i : index]\n",
    "        batch_y = test_Y[i : index]\n",
    "        max_batch = max([len(x) for x in batch_x])\n",
    "        max_batch = min(max_batch, max_x)\n",
    "        batch_x = str_idx(batch_x, dictionary, max_batch)\n",
    "        \n",
    "        acc, cost = sess.run(\n",
    "            [model.accuracy, model.cost],\n",
    "            feed_dict = {\n",
    "                model.Y: batch_y,\n",
    "                model.X: batch_x,\n",
    "            },\n",
    "        )\n",
    "        assert not np.isnan(cost)\n",
    "        test_loss += cost\n",
    "        test_acc += acc\n",
    "        pbar.set_postfix(cost = cost, accuracy = acc)\n",
    "    \n",
    "    train_loss /= len(train_X) / batch_size\n",
    "    train_acc /= len(train_X) / batch_size\n",
    "    test_loss /= len(test_X) / batch_size\n",
    "    test_acc /= len(test_X) / batch_size\n",
    "        \n",
    "    print('time taken:', time.time() - lasttime)\n",
    "    print(\n",
    "        'epoch: %d, training loss: %f, training acc: %f, valid loss: %f, valid acc: %f\\n'\n",
    "        % (EPOCH, train_loss, train_acc, test_loss, test_acc)\n",
    "    )"
   ]
  },
  {
   "cell_type": "code",
   "execution_count": 19,
   "metadata": {},
   "outputs": [],
   "source": [
    "testing = 'Sesungguhnya menjadi tradisi, mana-mana calon presiden AS pasti perlu mendapat sokongan masyarakat Yahudi yang mengawal ekonomi di AS untuk jadi presiden, namun tidak ramai seberani Trump dalam mengotakan dan mengabui mata Yahudi dan Zionism Israel'\n",
    "testing = preprocessing(testing)\n",
    "t = testing\n",
    "testing = str_idx([testing], dictionary, len(testing))"
   ]
  },
  {
   "cell_type": "code",
   "execution_count": 20,
   "metadata": {},
   "outputs": [
    {
     "data": {
      "text/plain": [
       "['sesungguh',\n",
       " 'jadi',\n",
       " 'tradisi',\n",
       " 'mana',\n",
       " 'mana',\n",
       " 'calon',\n",
       " 'presiden',\n",
       " 'as',\n",
       " 'pasti',\n",
       " 'lu',\n",
       " 'dapat',\n",
       " 'sokong',\n",
       " 'masyarakat',\n",
       " 'yahudi',\n",
       " 'yang',\n",
       " 'awal',\n",
       " 'ekonomi',\n",
       " 'as',\n",
       " 'untuk',\n",
       " 'jadi',\n",
       " 'presiden',\n",
       " 'namun',\n",
       " 'tidak',\n",
       " 'ramai',\n",
       " 'berani',\n",
       " 'trump',\n",
       " 'dalam',\n",
       " 'ota',\n",
       " 'abui',\n",
       " 'mata',\n",
       " 'yahudi',\n",
       " 'zionism',\n",
       " 'israel']"
      ]
     },
     "execution_count": 20,
     "metadata": {},
     "output_type": "execute_result"
    }
   ],
   "source": [
    "t"
   ]
  },
  {
   "cell_type": "code",
   "execution_count": 21,
   "metadata": {},
   "outputs": [],
   "source": [
    "b, c, d = sess.run([tf.nn.softmax(model.logits), tf.nn.softmax(model.logits_seq), model.attention], \n",
    "                    feed_dict = {model.X: testing})"
   ]
  },
  {
   "cell_type": "code",
   "execution_count": 22,
   "metadata": {},
   "outputs": [
    {
     "data": {
      "text/plain": [
       "array([[0.10316102, 0.896839  ]], dtype=float32)"
      ]
     },
     "execution_count": 22,
     "metadata": {},
     "output_type": "execute_result"
    }
   ],
   "source": [
    "b"
   ]
  },
  {
   "cell_type": "code",
   "execution_count": 23,
   "metadata": {},
   "outputs": [
    {
     "data": {
      "text/plain": [
       "array([[[0.20458561, 0.7954144 ],\n",
       "        [0.20891723, 0.7910828 ],\n",
       "        [0.26299277, 0.7370072 ],\n",
       "        [0.3115242 , 0.6884758 ],\n",
       "        [0.12016144, 0.8798386 ],\n",
       "        [0.2703326 , 0.72966737],\n",
       "        [0.06844044, 0.93155956],\n",
       "        [0.12700671, 0.8729933 ],\n",
       "        [0.11655831, 0.8834416 ],\n",
       "        [0.10850243, 0.89149755],\n",
       "        [0.02827738, 0.9717226 ],\n",
       "        [0.03893825, 0.9610617 ],\n",
       "        [0.08950341, 0.9104966 ],\n",
       "        [0.1154675 , 0.8845325 ],\n",
       "        [0.02425126, 0.9757488 ],\n",
       "        [0.190811  , 0.80918896],\n",
       "        [0.05578459, 0.9442154 ],\n",
       "        [0.09285109, 0.9071489 ],\n",
       "        [0.02413037, 0.97586966],\n",
       "        [0.23477283, 0.76522714],\n",
       "        [0.06896605, 0.9310339 ],\n",
       "        [0.13001539, 0.86998457],\n",
       "        [0.05865331, 0.9413467 ],\n",
       "        [0.16901633, 0.83098364],\n",
       "        [0.13118097, 0.86881906],\n",
       "        [0.05592104, 0.944079  ],\n",
       "        [0.01630562, 0.9836944 ],\n",
       "        [0.08250867, 0.9174914 ],\n",
       "        [0.05632772, 0.9436723 ],\n",
       "        [0.05411347, 0.94588655],\n",
       "        [0.08966929, 0.91033065],\n",
       "        [0.06186686, 0.9381331 ],\n",
       "        [0.10316102, 0.896839  ]]], dtype=float32)"
      ]
     },
     "execution_count": 23,
     "metadata": {},
     "output_type": "execute_result"
    }
   ],
   "source": [
    "c"
   ]
  },
  {
   "cell_type": "code",
   "execution_count": 24,
   "metadata": {},
   "outputs": [
    {
     "data": {
      "text/plain": [
       "array([6.3174367e-02, 1.1996758e-01, 3.8123786e-02, 1.1450567e-01,\n",
       "       1.6318941e-02, 3.3116754e-02, 9.3670673e-04, 7.3650993e-02,\n",
       "       5.3818233e-02, 3.3894209e-03, 5.3144637e-02, 3.0739445e-02,\n",
       "       1.2955000e-03, 2.8437456e-02, 1.6708038e-03, 1.2041924e-03,\n",
       "       2.8376815e-01, 4.0264530e-03, 4.2755278e-03, 3.6988070e-03,\n",
       "       1.8554095e-03, 5.6884525e-04, 2.4780640e-03, 6.3828900e-03,\n",
       "       1.8300259e-02, 2.0665762e-03, 6.9348534e-05, 8.6902449e-04,\n",
       "       8.6928689e-04, 4.4739057e-04, 1.8079695e-04, 1.8393457e-03,\n",
       "       4.9551651e-05], dtype=float32)"
      ]
     },
     "execution_count": 24,
     "metadata": {},
     "output_type": "execute_result"
    }
   ],
   "source": [
    "d"
   ]
  },
  {
   "cell_type": "code",
   "execution_count": 25,
   "metadata": {},
   "outputs": [
    {
     "data": {
      "image/png": "[encoded data removed]",
      "text/plain": [
       "<Figure size 432x288 with 1 Axes>"
      ]
     },
     "metadata": {
      "needs_background": "light"
     },
     "output_type": "display_data"
    }
   ],
   "source": [
    "plt.plot(d)\n",
    "plt.show()"
   ]
  },
  {
   "cell_type": "code",
   "execution_count": 26,
   "metadata": {},
   "outputs": [
    {
     "data": {
      "text/plain": [
       "'dilated-cnn-monothonic-attention/model.ckpt'"
      ]
     },
     "execution_count": 26,
     "metadata": {},
     "output_type": "execute_result"
    }
   ],
   "source": [
    "saver.save(sess, 'dilated-cnn-monothonic-attention/model.ckpt')"
   ]
  },
  {
   "cell_type": "code",
   "execution_count": 27,
   "metadata": {},
   "outputs": [],
   "source": [
    "def freeze_graph(model_dir, output_node_names):\n",
    "\n",
    "    if not tf.gfile.Exists(model_dir):\n",
    "        raise AssertionError(\n",
    "            \"Export directory doesn't exists. Please specify an export \"\n",
    "            'directory: %s' % model_dir\n",
    "        )\n",
    "\n",
    "    checkpoint = tf.train.get_checkpoint_state(model_dir)\n",
    "    input_checkpoint = checkpoint.model_checkpoint_path\n",
    "\n",
    "    absolute_model_dir = '/'.join(input_checkpoint.split('/')[:-1])\n",
    "    output_graph = absolute_model_dir + '/frozen_model.pb'\n",
    "    clear_devices = True\n",
    "    with tf.Session(graph = tf.Graph()) as sess:\n",
    "        saver = tf.train.import_meta_graph(\n",
    "            input_checkpoint + '.meta', clear_devices = clear_devices\n",
    "        )\n",
    "        saver.restore(sess, input_checkpoint)\n",
    "        output_graph_def = tf.graph_util.convert_variables_to_constants(\n",
    "            sess,\n",
    "            tf.get_default_graph().as_graph_def(),\n",
    "            output_node_names.split(','),\n",
    "        )\n",
    "        with tf.gfile.GFile(output_graph, 'wb') as f:\n",
    "            f.write(output_graph_def.SerializeToString())\n",
    "        print('%d ops in the final graph.' % len(output_graph_def.node))"
   ]
  },
  {
   "cell_type": "code",
   "execution_count": 28,
   "metadata": {},
   "outputs": [
    {
     "name": "stdout",
     "output_type": "stream",
     "text": [
      "INFO:tensorflow:Restoring parameters from dilated-cnn-monothonic-attention/model.ckpt\n",
      "INFO:tensorflow:Froze 55 variables.\n",
      "INFO:tensorflow:Converted 55 variables to const ops.\n",
      "1462 ops in the final graph.\n"
     ]
    }
   ],
   "source": [
    "freeze_graph('dilated-cnn-monothonic-attention', strings)"
   ]
  },
  {
   "cell_type": "code",
   "execution_count": 29,
   "metadata": {},
   "outputs": [],
   "source": [
    "def load_graph(frozen_graph_filename):\n",
    "    with tf.gfile.GFile(frozen_graph_filename, 'rb') as f:\n",
    "        graph_def = tf.GraphDef()\n",
    "        graph_def.ParseFromString(f.read())\n",
    "    with tf.Graph().as_default() as graph:\n",
    "        tf.import_graph_def(graph_def)\n",
    "    return graph"
   ]
  },
  {
   "cell_type": "code",
   "execution_count": 30,
   "metadata": {},
   "outputs": [],
   "source": [
    "g = load_graph('dilated-cnn-monothonic-attention/frozen_model.pb')"
   ]
  },
  {
   "cell_type": "code",
   "execution_count": 31,
   "metadata": {},
   "outputs": [],
   "source": [
    "x = g.get_tensor_by_name('import/Placeholder:0')\n",
    "logits = g.get_tensor_by_name('import/logits:0')\n",
    "logits_seq = g.get_tensor_by_name('import/logits_seq:0')\n",
    "alphas = g.get_tensor_by_name('import/alphas:0')"
   ]
  },
  {
   "cell_type": "code",
   "execution_count": 32,
   "metadata": {},
   "outputs": [],
   "source": [
    "test_sess = tf.InteractiveSession(graph = g)\n",
    "result = test_sess.run([tf.nn.softmax(logits), tf.nn.softmax(logits_seq),\n",
    "                       alphas], feed_dict = {x: testing})"
   ]
  },
  {
   "cell_type": "code",
   "execution_count": 33,
   "metadata": {},
   "outputs": [
    {
     "data": {
      "text/plain": [
       "array([[0.21157387, 0.7884261 ]], dtype=float32)"
      ]
     },
     "execution_count": 33,
     "metadata": {},
     "output_type": "execute_result"
    }
   ],
   "source": [
    "result[0]"
   ]
  },
  {
   "cell_type": "code",
   "execution_count": 34,
   "metadata": {},
   "outputs": [
    {
     "data": {
      "text/plain": [
       "array([[[0.3625717 , 0.63742834],\n",
       "        [0.25559983, 0.7444002 ],\n",
       "        [0.13985643, 0.8601436 ],\n",
       "        [0.10029418, 0.8997058 ],\n",
       "        [0.12047913, 0.8795209 ],\n",
       "        [0.37683952, 0.62316054],\n",
       "        [0.16374183, 0.8362582 ],\n",
       "        [0.14067769, 0.8593223 ],\n",
       "        [0.15781894, 0.842181  ],\n",
       "        [0.0505404 , 0.9494597 ],\n",
       "        [0.14093234, 0.8590677 ],\n",
       "        [0.1981986 , 0.8018014 ],\n",
       "        [0.05592136, 0.9440786 ],\n",
       "        [0.07287309, 0.9271269 ],\n",
       "        [0.07496343, 0.92503655],\n",
       "        [0.0328363 , 0.9671637 ],\n",
       "        [0.09447112, 0.9055289 ],\n",
       "        [0.10212212, 0.8978779 ],\n",
       "        [0.03378407, 0.96621597],\n",
       "        [0.2547615 , 0.74523854],\n",
       "        [0.10710595, 0.892894  ],\n",
       "        [0.17671536, 0.82328457],\n",
       "        [0.22523351, 0.7747665 ],\n",
       "        [0.20721424, 0.79278576],\n",
       "        [0.255706  , 0.744294  ],\n",
       "        [0.2150419 , 0.7849581 ],\n",
       "        [0.06138707, 0.93861294],\n",
       "        [0.08178228, 0.91821766],\n",
       "        [0.16665268, 0.8333473 ],\n",
       "        [0.19634217, 0.8036578 ],\n",
       "        [0.1403253 , 0.85967475],\n",
       "        [0.09974875, 0.90025127],\n",
       "        [0.21157387, 0.7884261 ]]], dtype=float32)"
      ]
     },
     "execution_count": 34,
     "metadata": {},
     "output_type": "execute_result"
    }
   ],
   "source": [
    "result[1]"
   ]
  },
  {
   "cell_type": "code",
   "execution_count": 35,
   "metadata": {},
   "outputs": [
    {
     "data": {
      "text/plain": [
       "array([2.2620583e-02, 1.6652049e-01, 8.3995678e-02, 4.7080241e-02,\n",
       "       1.8529581e-01, 5.3071108e-02, 9.2920857e-03, 5.7690583e-02,\n",
       "       7.4108988e-02, 2.0292872e-03, 9.6523352e-02, 3.0451301e-02,\n",
       "       1.5304149e-03, 1.0427203e-02, 6.1753928e-04, 6.6924295e-03,\n",
       "       5.8200452e-02, 2.4306070e-02, 1.2170180e-03, 7.0542404e-03,\n",
       "       9.8375918e-04, 7.9721812e-04, 9.5459344e-03, 2.9507747e-02,\n",
       "       4.8530661e-03, 1.9742327e-03, 2.5347765e-03, 3.0792286e-03,\n",
       "       1.9981235e-02, 7.3444224e-03, 3.9411717e-04, 5.3197327e-05,\n",
       "       0.0000000e+00], dtype=float32)"
      ]
     },
     "execution_count": 35,
     "metadata": {},
     "output_type": "execute_result"
    }
   ],
   "source": [
    "result[2]"
   ]
  },
  {
   "cell_type": "code",
   "execution_count": null,
   "metadata": {},
   "outputs": [],
   "source": []
  }
 ],
 "metadata": {
  "kernelspec": {
   "display_name": "Python 3",
   "language": "python",
   "name": "python3"
  },
  "language_info": {
   "codemirror_mode": {
    "name": "ipython",
    "version": 3
   },
   "file_extension": ".py",
   "mimetype": "text/x-python",
   "name": "python",
   "nbconvert_exporter": "python",
   "pygments_lexer": "ipython3",
   "version": "3.6.8"
  }
 },
 "nbformat": 4,
 "nbformat_minor": 2
}
