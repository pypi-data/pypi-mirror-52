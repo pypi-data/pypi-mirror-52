{
 "cells": [
  {
   "cell_type": "code",
   "execution_count": 1,
   "metadata": {},
   "outputs": [
    {
     "name": "stderr",
     "output_type": "stream",
     "text": [
      "WARNING: Logging before flag parsing goes to stderr.\n",
      "W0716 17:06:20.779078 140390586017536 deprecation_wrapper.py:119] From /home/jupyter/xlnet/model_utils.py:293: The name tf.train.Optimizer is deprecated. Please use tf.compat.v1.train.Optimizer instead.\n",
      "\n"
     ]
    }
   ],
   "source": [
    "import xlnet\n",
    "import numpy as np\n",
    "import tensorflow as tf\n",
    "from tqdm import tqdm\n",
    "import model_utils"
   ]
  },
  {
   "cell_type": "code",
   "execution_count": 2,
   "metadata": {},
   "outputs": [
    {
     "data": {
      "text/plain": [
       "True"
      ]
     },
     "execution_count": 2,
     "metadata": {},
     "output_type": "execute_result"
    }
   ],
   "source": [
    "import sentencepiece as spm\n",
    "from prepro_utils import preprocess_text, encode_ids\n",
    "\n",
    "sp_model = spm.SentencePieceProcessor()\n",
    "sp_model.Load('sp10m.cased.v5.model')"
   ]
  },
  {
   "cell_type": "code",
   "execution_count": 3,
   "metadata": {},
   "outputs": [],
   "source": [
    "# !wget https://raw.githubusercontent.com/huseinzol05/Malaya-Dataset/master/subjectivity/subjectivity-negative-bm.txt\n",
    "# !wget https://raw.githubusercontent.com/huseinzol05/Malaya-Dataset/master/subjectivity/subjectivity-positive-bm.txt"
   ]
  },
  {
   "cell_type": "code",
   "execution_count": 4,
   "metadata": {},
   "outputs": [],
   "source": [
    "with open('subjectivity-negative-bm.txt','r') as fopen:\n",
    "    texts = fopen.read().split('\\n')\n",
    "labels = [0] * len(texts)\n",
    "\n",
    "with open('subjectivity-positive-bm.txt','r') as fopen:\n",
    "    positive_texts = fopen.read().split('\\n')\n",
    "labels += [1] * len(positive_texts)\n",
    "texts += positive_texts\n",
    "\n",
    "assert len(labels) == len(texts)"
   ]
  },
  {
   "cell_type": "code",
   "execution_count": 5,
   "metadata": {},
   "outputs": [],
   "source": [
    "from prepro_utils import preprocess_text, encode_ids\n",
    "\n",
    "def tokenize_fn(text):\n",
    "    text = preprocess_text(text, lower= True)\n",
    "    return encode_ids(sp_model, text)"
   ]
  },
  {
   "cell_type": "code",
   "execution_count": 6,
   "metadata": {},
   "outputs": [
    {
     "name": "stderr",
     "output_type": "stream",
     "text": [
      "100%|██████████| 9962/9962 [00:01<00:00, 6276.27it/s]\n"
     ]
    }
   ],
   "source": [
    "MAX_SEQ_LENGTH = 128\n",
    "\n",
    "SEG_ID_A   = 0\n",
    "SEG_ID_B   = 1\n",
    "SEG_ID_CLS = 2\n",
    "SEG_ID_SEP = 3\n",
    "SEG_ID_PAD = 4\n",
    "\n",
    "special_symbols = {\n",
    "    \"<unk>\"  : 0,\n",
    "    \"<s>\"    : 1,\n",
    "    \"</s>\"   : 2,\n",
    "    \"<cls>\"  : 3,\n",
    "    \"<sep>\"  : 4,\n",
    "    \"<pad>\"  : 5,\n",
    "    \"<mask>\" : 6,\n",
    "    \"<eod>\"  : 7,\n",
    "    \"<eop>\"  : 8,\n",
    "}\n",
    "\n",
    "VOCAB_SIZE = 32000\n",
    "UNK_ID = special_symbols[\"<unk>\"]\n",
    "CLS_ID = special_symbols[\"<cls>\"]\n",
    "SEP_ID = special_symbols[\"<sep>\"]\n",
    "MASK_ID = special_symbols[\"<mask>\"]\n",
    "EOD_ID = special_symbols[\"<eod>\"]\n",
    "\n",
    "input_ids, input_masks, segment_ids = [], [], []\n",
    "\n",
    "for text in tqdm(texts):\n",
    "    tokens_a = tokenize_fn(text)\n",
    "    if len(tokens_a) > MAX_SEQ_LENGTH - 2:\n",
    "        tokens_a = tokens_a[:(MAX_SEQ_LENGTH - 2)]\n",
    "        \n",
    "    tokens = []\n",
    "    segment_id = []\n",
    "    for token in tokens_a:\n",
    "        tokens.append(token)\n",
    "        segment_id.append(SEG_ID_A)\n",
    "    tokens.append(SEP_ID)\n",
    "    segment_id.append(SEG_ID_A)\n",
    "    tokens.append(CLS_ID)\n",
    "    segment_id.append(SEG_ID_CLS)\n",
    "    \n",
    "    input_id = tokens\n",
    "    input_mask = [0] * len(input_id)\n",
    "    if len(input_id) < MAX_SEQ_LENGTH:\n",
    "        delta_len = MAX_SEQ_LENGTH - len(input_id)\n",
    "        input_id = [0] * delta_len + input_id\n",
    "        input_mask = [1] * delta_len + input_mask\n",
    "        segment_id = [SEG_ID_PAD] * delta_len + segment_id\n",
    "    \n",
    "    input_ids.append(input_id)\n",
    "    input_masks.append(input_mask)\n",
    "    segment_ids.append(segment_id)"
   ]
  },
  {
   "cell_type": "code",
   "execution_count": 7,
   "metadata": {},
   "outputs": [
    {
     "name": "stderr",
     "output_type": "stream",
     "text": [
      "W0716 17:06:32.997750 140390586017536 deprecation_wrapper.py:119] From /home/jupyter/xlnet/xlnet.py:63: The name tf.gfile.Open is deprecated. Please use tf.io.gfile.GFile instead.\n",
      "\n"
     ]
    }
   ],
   "source": [
    "kwargs = dict(\n",
    "      is_training=True,\n",
    "      use_tpu=False,\n",
    "      use_bfloat16=False,\n",
    "      dropout=0.0,\n",
    "      dropatt=0.0,\n",
    "      init='normal',\n",
    "      init_range=0.1,\n",
    "      init_std=0.05,\n",
    "      clamp_len=-1)\n",
    "\n",
    "xlnet_parameters = xlnet.RunConfig(**kwargs)\n",
    "xlnet_config = xlnet.XLNetConfig(json_path='output-model4/config.json')"
   ]
  },
  {
   "cell_type": "code",
   "execution_count": 8,
   "metadata": {},
   "outputs": [
    {
     "name": "stdout",
     "output_type": "stream",
     "text": [
      "9962 996\n"
     ]
    }
   ],
   "source": [
    "epoch = 10\n",
    "batch_size = 10\n",
    "warmup_proportion = 0.1\n",
    "num_train_steps = int(len(input_ids) / batch_size * epoch)\n",
    "num_warmup_steps = int(num_train_steps * warmup_proportion)\n",
    "print(num_train_steps, num_warmup_steps)\n",
    "learning_rate = 2e-5\n",
    "\n",
    "training_parameters = dict(\n",
    "      decay_method = 'poly',\n",
    "      train_steps = num_train_steps,\n",
    "      learning_rate = learning_rate,\n",
    "      warmup_steps = num_warmup_steps,\n",
    "      min_lr_ratio = 0.0,\n",
    "      weight_decay = 0.00,\n",
    "      adam_epsilon = 1e-8,\n",
    "      num_core_per_host = 1,\n",
    "      lr_layer_decay_rate = 1,\n",
    "      use_tpu=False,\n",
    "      use_bfloat16=False,\n",
    "      dropout=0.0,\n",
    "      dropatt=0.0,\n",
    "      init='normal',\n",
    "      init_range=0.1,\n",
    "      init_std=0.05,\n",
    "      clip = 1.0,\n",
    "      clamp_len=-1,)"
   ]
  },
  {
   "cell_type": "code",
   "execution_count": 9,
   "metadata": {},
   "outputs": [],
   "source": [
    "class Parameter:\n",
    "    def __init__(self, decay_method, warmup_steps, weight_decay, adam_epsilon, \n",
    "                num_core_per_host, lr_layer_decay_rate, use_tpu, learning_rate, train_steps,\n",
    "                min_lr_ratio, clip, **kwargs):\n",
    "        self.decay_method = decay_method\n",
    "        self.warmup_steps = warmup_steps\n",
    "        self.weight_decay = weight_decay\n",
    "        self.adam_epsilon = adam_epsilon\n",
    "        self.num_core_per_host = num_core_per_host\n",
    "        self.lr_layer_decay_rate = lr_layer_decay_rate\n",
    "        self.use_tpu = use_tpu\n",
    "        self.learning_rate = learning_rate\n",
    "        self.train_steps = train_steps\n",
    "        self.min_lr_ratio = min_lr_ratio\n",
    "        self.clip = clip\n",
    "        \n",
    "training_parameters = Parameter(**training_parameters)"
   ]
  },
  {
   "cell_type": "code",
   "execution_count": 10,
   "metadata": {},
   "outputs": [],
   "source": [
    "class Model:\n",
    "    def __init__(\n",
    "        self,\n",
    "        dimension_output,\n",
    "        learning_rate = 2e-5,\n",
    "    ):\n",
    "        self.X = tf.placeholder(tf.int32, [None, None])\n",
    "        self.segment_ids = tf.placeholder(tf.int32, [None, None])\n",
    "        self.input_masks = tf.placeholder(tf.float32, [None, None])\n",
    "        self.Y = tf.placeholder(tf.int32, [None])\n",
    "        \n",
    "        xlnet_model = xlnet.XLNetModel(\n",
    "            xlnet_config=xlnet_config,\n",
    "            run_config=xlnet_parameters,\n",
    "            input_ids=tf.transpose(self.X, [1, 0]),\n",
    "            seg_ids=tf.transpose(self.segment_ids, [1, 0]),\n",
    "            input_mask=tf.transpose(self.input_masks, [1, 0]))\n",
    "        \n",
    "        summary = xlnet_model.get_pooled_out(\"last\", True)\n",
    "        print(summary)\n",
    "        \n",
    "        self.logits = tf.layers.dense(summary, dimension_output)\n",
    "        \n",
    "        self.cost = tf.reduce_mean(\n",
    "            tf.nn.sparse_softmax_cross_entropy_with_logits(\n",
    "                logits = self.logits, labels = self.Y\n",
    "            )\n",
    "        )\n",
    "        self.learning_rate = learning_rate\n",
    "        self.optimizer = tf.train.AdamOptimizer(learning_rate).minimize(self.cost)\n",
    "        \n",
    "#         self.optimizer, self.learning_rate, _ = model_utils.get_train_op(training_parameters, self.cost)\n",
    "        \n",
    "        correct_pred = tf.equal(\n",
    "            tf.argmax(self.logits, 1, output_type = tf.int32), self.Y\n",
    "        )\n",
    "        self.accuracy = tf.reduce_mean(tf.cast(correct_pred, tf.float32))"
   ]
  },
  {
   "cell_type": "code",
   "execution_count": 11,
   "metadata": {},
   "outputs": [
    {
     "name": "stderr",
     "output_type": "stream",
     "text": [
      "W0716 17:06:45.170339 140390586017536 deprecation_wrapper.py:119] From /home/jupyter/xlnet/xlnet.py:220: The name tf.variable_scope is deprecated. Please use tf.compat.v1.variable_scope instead.\n",
      "\n",
      "W0716 17:06:45.171341 140390586017536 deprecation_wrapper.py:119] From /home/jupyter/xlnet/xlnet.py:220: The name tf.AUTO_REUSE is deprecated. Please use tf.compat.v1.AUTO_REUSE instead.\n",
      "\n",
      "W0716 17:06:45.172147 140390586017536 deprecation_wrapper.py:119] From /home/jupyter/xlnet/modeling.py:451: The name tf.logging.info is deprecated. Please use tf.compat.v1.logging.info instead.\n",
      "\n",
      "W0716 17:06:45.172909 140390586017536 deprecation_wrapper.py:119] From /home/jupyter/xlnet/modeling.py:458: The name tf.get_variable is deprecated. Please use tf.compat.v1.get_variable instead.\n",
      "\n",
      "W0716 17:06:45.243463 140390586017536 deprecation.py:323] From /home/jupyter/xlnet/modeling.py:533: dropout (from tensorflow.python.layers.core) is deprecated and will be removed in a future version.\n",
      "Instructions for updating:\n",
      "Use keras.layers.dropout instead.\n",
      "W0716 17:06:46.509963 140390586017536 lazy_loader.py:50] \n",
      "The TensorFlow contrib module will not be included in TensorFlow 2.0.\n",
      "For more information, please see:\n",
      "  * https://github.com/tensorflow/community/blob/master/rfcs/20180907-contrib-sunset.md\n",
      "  * https://github.com/tensorflow/addons\n",
      "  * https://github.com/tensorflow/io (for I/O related ops)\n",
      "If you depend on functionality not listed there, please file an issue.\n",
      "\n",
      "W0716 17:06:46.530160 140390586017536 deprecation.py:323] From /home/jupyter/xlnet/modeling.py:67: dense (from tensorflow.python.layers.core) is deprecated and will be removed in a future version.\n",
      "Instructions for updating:\n",
      "Use keras.layers.dense instead.\n",
      "W0716 17:06:49.352901 140390586017536 deprecation.py:506] From /usr/local/lib/python3.6/dist-packages/tensorflow/python/ops/init_ops.py:1251: calling VarianceScaling.__init__ (from tensorflow.python.ops.init_ops) with dtype is deprecated and will be removed in a future version.\n",
      "Instructions for updating:\n",
      "Call initializer instance with the dtype argument instead of passing it to the constructor\n"
     ]
    },
    {
     "name": "stdout",
     "output_type": "stream",
     "text": [
      "Tensor(\"model_1/sequnece_summary/summary/Tanh:0\", shape=(?, 256), dtype=float32)\n"
     ]
    }
   ],
   "source": [
    "dimension_output = 2\n",
    "\n",
    "tf.reset_default_graph()\n",
    "sess = tf.InteractiveSession()\n",
    "model = Model(\n",
    "    dimension_output,\n",
    "    learning_rate\n",
    ")\n",
    "\n",
    "sess.run(tf.global_variables_initializer())"
   ]
  },
  {
   "cell_type": "code",
   "execution_count": 12,
   "metadata": {},
   "outputs": [],
   "source": [
    "import collections\n",
    "import re\n",
    "\n",
    "def get_assignment_map_from_checkpoint(tvars, init_checkpoint):\n",
    "    \"\"\"Compute the union of the current variables and checkpoint variables.\"\"\"\n",
    "    assignment_map = {}\n",
    "    initialized_variable_names = {}\n",
    "\n",
    "    name_to_variable = collections.OrderedDict()\n",
    "    for var in tvars:\n",
    "        name = var.name\n",
    "        m = re.match('^(.*):\\\\d+$', name)\n",
    "        if m is not None:\n",
    "            name = m.group(1)\n",
    "        name_to_variable[name] = var\n",
    "\n",
    "    init_vars = tf.train.list_variables(init_checkpoint)\n",
    "\n",
    "    assignment_map = collections.OrderedDict()\n",
    "    for x in init_vars:\n",
    "        (name, var) = (x[0], x[1])\n",
    "        if name not in name_to_variable:\n",
    "            continue\n",
    "        assignment_map[name] = name_to_variable[name]\n",
    "        initialized_variable_names[name] = 1\n",
    "        initialized_variable_names[name + ':0'] = 1\n",
    "\n",
    "    return (assignment_map, initialized_variable_names)"
   ]
  },
  {
   "cell_type": "code",
   "execution_count": 13,
   "metadata": {},
   "outputs": [
    {
     "data": {
      "text/plain": [
       "[<tf.Variable 'model/transformer/r_w_bias:0' shape=(6, 16, 64) dtype=float32_ref>,\n",
       " <tf.Variable 'model/transformer/r_r_bias:0' shape=(6, 16, 64) dtype=float32_ref>,\n",
       " <tf.Variable 'model/transformer/word_embedding/lookup_table:0' shape=(32000, 256) dtype=float32_ref>,\n",
       " <tf.Variable 'model/transformer/r_s_bias:0' shape=(6, 16, 64) dtype=float32_ref>,\n",
       " <tf.Variable 'model/transformer/seg_embed:0' shape=(6, 2, 16, 64) dtype=float32_ref>,\n",
       " <tf.Variable 'model/transformer/layer_0/rel_attn/q/kernel:0' shape=(256, 16, 64) dtype=float32_ref>,\n",
       " <tf.Variable 'model/transformer/layer_0/rel_attn/k/kernel:0' shape=(256, 16, 64) dtype=float32_ref>,\n",
       " <tf.Variable 'model/transformer/layer_0/rel_attn/v/kernel:0' shape=(256, 16, 64) dtype=float32_ref>,\n",
       " <tf.Variable 'model/transformer/layer_0/rel_attn/r/kernel:0' shape=(256, 16, 64) dtype=float32_ref>,\n",
       " <tf.Variable 'model/transformer/layer_0/rel_attn/o/kernel:0' shape=(256, 16, 64) dtype=float32_ref>,\n",
       " <tf.Variable 'model/transformer/layer_0/rel_attn/LayerNorm/beta:0' shape=(256,) dtype=float32_ref>,\n",
       " <tf.Variable 'model/transformer/layer_0/rel_attn/LayerNorm/gamma:0' shape=(256,) dtype=float32_ref>,\n",
       " <tf.Variable 'model/transformer/layer_0/ff/layer_1/kernel:0' shape=(256, 1024) dtype=float32_ref>,\n",
       " <tf.Variable 'model/transformer/layer_0/ff/layer_1/bias:0' shape=(1024,) dtype=float32_ref>,\n",
       " <tf.Variable 'model/transformer/layer_0/ff/layer_2/kernel:0' shape=(1024, 256) dtype=float32_ref>,\n",
       " <tf.Variable 'model/transformer/layer_0/ff/layer_2/bias:0' shape=(256,) dtype=float32_ref>,\n",
       " <tf.Variable 'model/transformer/layer_0/ff/LayerNorm/beta:0' shape=(256,) dtype=float32_ref>,\n",
       " <tf.Variable 'model/transformer/layer_0/ff/LayerNorm/gamma:0' shape=(256,) dtype=float32_ref>,\n",
       " <tf.Variable 'model/transformer/layer_1/rel_attn/q/kernel:0' shape=(256, 16, 64) dtype=float32_ref>,\n",
       " <tf.Variable 'model/transformer/layer_1/rel_attn/k/kernel:0' shape=(256, 16, 64) dtype=float32_ref>,\n",
       " <tf.Variable 'model/transformer/layer_1/rel_attn/v/kernel:0' shape=(256, 16, 64) dtype=float32_ref>,\n",
       " <tf.Variable 'model/transformer/layer_1/rel_attn/r/kernel:0' shape=(256, 16, 64) dtype=float32_ref>,\n",
       " <tf.Variable 'model/transformer/layer_1/rel_attn/o/kernel:0' shape=(256, 16, 64) dtype=float32_ref>,\n",
       " <tf.Variable 'model/transformer/layer_1/rel_attn/LayerNorm/beta:0' shape=(256,) dtype=float32_ref>,\n",
       " <tf.Variable 'model/transformer/layer_1/rel_attn/LayerNorm/gamma:0' shape=(256,) dtype=float32_ref>,\n",
       " <tf.Variable 'model/transformer/layer_1/ff/layer_1/kernel:0' shape=(256, 1024) dtype=float32_ref>,\n",
       " <tf.Variable 'model/transformer/layer_1/ff/layer_1/bias:0' shape=(1024,) dtype=float32_ref>,\n",
       " <tf.Variable 'model/transformer/layer_1/ff/layer_2/kernel:0' shape=(1024, 256) dtype=float32_ref>,\n",
       " <tf.Variable 'model/transformer/layer_1/ff/layer_2/bias:0' shape=(256,) dtype=float32_ref>,\n",
       " <tf.Variable 'model/transformer/layer_1/ff/LayerNorm/beta:0' shape=(256,) dtype=float32_ref>,\n",
       " <tf.Variable 'model/transformer/layer_1/ff/LayerNorm/gamma:0' shape=(256,) dtype=float32_ref>,\n",
       " <tf.Variable 'model/transformer/layer_2/rel_attn/q/kernel:0' shape=(256, 16, 64) dtype=float32_ref>,\n",
       " <tf.Variable 'model/transformer/layer_2/rel_attn/k/kernel:0' shape=(256, 16, 64) dtype=float32_ref>,\n",
       " <tf.Variable 'model/transformer/layer_2/rel_attn/v/kernel:0' shape=(256, 16, 64) dtype=float32_ref>,\n",
       " <tf.Variable 'model/transformer/layer_2/rel_attn/r/kernel:0' shape=(256, 16, 64) dtype=float32_ref>,\n",
       " <tf.Variable 'model/transformer/layer_2/rel_attn/o/kernel:0' shape=(256, 16, 64) dtype=float32_ref>,\n",
       " <tf.Variable 'model/transformer/layer_2/rel_attn/LayerNorm/beta:0' shape=(256,) dtype=float32_ref>,\n",
       " <tf.Variable 'model/transformer/layer_2/rel_attn/LayerNorm/gamma:0' shape=(256,) dtype=float32_ref>,\n",
       " <tf.Variable 'model/transformer/layer_2/ff/layer_1/kernel:0' shape=(256, 1024) dtype=float32_ref>,\n",
       " <tf.Variable 'model/transformer/layer_2/ff/layer_1/bias:0' shape=(1024,) dtype=float32_ref>,\n",
       " <tf.Variable 'model/transformer/layer_2/ff/layer_2/kernel:0' shape=(1024, 256) dtype=float32_ref>,\n",
       " <tf.Variable 'model/transformer/layer_2/ff/layer_2/bias:0' shape=(256,) dtype=float32_ref>,\n",
       " <tf.Variable 'model/transformer/layer_2/ff/LayerNorm/beta:0' shape=(256,) dtype=float32_ref>,\n",
       " <tf.Variable 'model/transformer/layer_2/ff/LayerNorm/gamma:0' shape=(256,) dtype=float32_ref>,\n",
       " <tf.Variable 'model/transformer/layer_3/rel_attn/q/kernel:0' shape=(256, 16, 64) dtype=float32_ref>,\n",
       " <tf.Variable 'model/transformer/layer_3/rel_attn/k/kernel:0' shape=(256, 16, 64) dtype=float32_ref>,\n",
       " <tf.Variable 'model/transformer/layer_3/rel_attn/v/kernel:0' shape=(256, 16, 64) dtype=float32_ref>,\n",
       " <tf.Variable 'model/transformer/layer_3/rel_attn/r/kernel:0' shape=(256, 16, 64) dtype=float32_ref>,\n",
       " <tf.Variable 'model/transformer/layer_3/rel_attn/o/kernel:0' shape=(256, 16, 64) dtype=float32_ref>,\n",
       " <tf.Variable 'model/transformer/layer_3/rel_attn/LayerNorm/beta:0' shape=(256,) dtype=float32_ref>,\n",
       " <tf.Variable 'model/transformer/layer_3/rel_attn/LayerNorm/gamma:0' shape=(256,) dtype=float32_ref>,\n",
       " <tf.Variable 'model/transformer/layer_3/ff/layer_1/kernel:0' shape=(256, 1024) dtype=float32_ref>,\n",
       " <tf.Variable 'model/transformer/layer_3/ff/layer_1/bias:0' shape=(1024,) dtype=float32_ref>,\n",
       " <tf.Variable 'model/transformer/layer_3/ff/layer_2/kernel:0' shape=(1024, 256) dtype=float32_ref>,\n",
       " <tf.Variable 'model/transformer/layer_3/ff/layer_2/bias:0' shape=(256,) dtype=float32_ref>,\n",
       " <tf.Variable 'model/transformer/layer_3/ff/LayerNorm/beta:0' shape=(256,) dtype=float32_ref>,\n",
       " <tf.Variable 'model/transformer/layer_3/ff/LayerNorm/gamma:0' shape=(256,) dtype=float32_ref>,\n",
       " <tf.Variable 'model/transformer/layer_4/rel_attn/q/kernel:0' shape=(256, 16, 64) dtype=float32_ref>,\n",
       " <tf.Variable 'model/transformer/layer_4/rel_attn/k/kernel:0' shape=(256, 16, 64) dtype=float32_ref>,\n",
       " <tf.Variable 'model/transformer/layer_4/rel_attn/v/kernel:0' shape=(256, 16, 64) dtype=float32_ref>,\n",
       " <tf.Variable 'model/transformer/layer_4/rel_attn/r/kernel:0' shape=(256, 16, 64) dtype=float32_ref>,\n",
       " <tf.Variable 'model/transformer/layer_4/rel_attn/o/kernel:0' shape=(256, 16, 64) dtype=float32_ref>,\n",
       " <tf.Variable 'model/transformer/layer_4/rel_attn/LayerNorm/beta:0' shape=(256,) dtype=float32_ref>,\n",
       " <tf.Variable 'model/transformer/layer_4/rel_attn/LayerNorm/gamma:0' shape=(256,) dtype=float32_ref>,\n",
       " <tf.Variable 'model/transformer/layer_4/ff/layer_1/kernel:0' shape=(256, 1024) dtype=float32_ref>,\n",
       " <tf.Variable 'model/transformer/layer_4/ff/layer_1/bias:0' shape=(1024,) dtype=float32_ref>,\n",
       " <tf.Variable 'model/transformer/layer_4/ff/layer_2/kernel:0' shape=(1024, 256) dtype=float32_ref>,\n",
       " <tf.Variable 'model/transformer/layer_4/ff/layer_2/bias:0' shape=(256,) dtype=float32_ref>,\n",
       " <tf.Variable 'model/transformer/layer_4/ff/LayerNorm/beta:0' shape=(256,) dtype=float32_ref>,\n",
       " <tf.Variable 'model/transformer/layer_4/ff/LayerNorm/gamma:0' shape=(256,) dtype=float32_ref>,\n",
       " <tf.Variable 'model/transformer/layer_5/rel_attn/q/kernel:0' shape=(256, 16, 64) dtype=float32_ref>,\n",
       " <tf.Variable 'model/transformer/layer_5/rel_attn/k/kernel:0' shape=(256, 16, 64) dtype=float32_ref>,\n",
       " <tf.Variable 'model/transformer/layer_5/rel_attn/v/kernel:0' shape=(256, 16, 64) dtype=float32_ref>,\n",
       " <tf.Variable 'model/transformer/layer_5/rel_attn/r/kernel:0' shape=(256, 16, 64) dtype=float32_ref>,\n",
       " <tf.Variable 'model/transformer/layer_5/rel_attn/o/kernel:0' shape=(256, 16, 64) dtype=float32_ref>,\n",
       " <tf.Variable 'model/transformer/layer_5/rel_attn/LayerNorm/beta:0' shape=(256,) dtype=float32_ref>,\n",
       " <tf.Variable 'model/transformer/layer_5/rel_attn/LayerNorm/gamma:0' shape=(256,) dtype=float32_ref>,\n",
       " <tf.Variable 'model/transformer/layer_5/ff/layer_1/kernel:0' shape=(256, 1024) dtype=float32_ref>,\n",
       " <tf.Variable 'model/transformer/layer_5/ff/layer_1/bias:0' shape=(1024,) dtype=float32_ref>,\n",
       " <tf.Variable 'model/transformer/layer_5/ff/layer_2/kernel:0' shape=(1024, 256) dtype=float32_ref>,\n",
       " <tf.Variable 'model/transformer/layer_5/ff/layer_2/bias:0' shape=(256,) dtype=float32_ref>,\n",
       " <tf.Variable 'model/transformer/layer_5/ff/LayerNorm/beta:0' shape=(256,) dtype=float32_ref>,\n",
       " <tf.Variable 'model/transformer/layer_5/ff/LayerNorm/gamma:0' shape=(256,) dtype=float32_ref>,\n",
       " <tf.Variable 'model/sequnece_summary/summary/kernel:0' shape=(256, 256) dtype=float32_ref>,\n",
       " <tf.Variable 'model/sequnece_summary/summary/bias:0' shape=(256,) dtype=float32_ref>,\n",
       " <tf.Variable 'dense/kernel:0' shape=(256, 2) dtype=float32_ref>,\n",
       " <tf.Variable 'dense/bias:0' shape=(2,) dtype=float32_ref>]"
      ]
     },
     "execution_count": 13,
     "metadata": {},
     "output_type": "execute_result"
    }
   ],
   "source": [
    "tvars = tf.trainable_variables()\n",
    "tvars"
   ]
  },
  {
   "cell_type": "code",
   "execution_count": 14,
   "metadata": {},
   "outputs": [],
   "source": [
    "initialized_variable_names = {}\n",
    "checkpoint = 'output-model4/model.ckpt'\n",
    "assignment_map, initialized_variable_names = get_assignment_map_from_checkpoint(tvars, \n",
    "                                                                                checkpoint)"
   ]
  },
  {
   "cell_type": "code",
   "execution_count": 15,
   "metadata": {},
   "outputs": [
    {
     "name": "stderr",
     "output_type": "stream",
     "text": [
      "W0716 17:06:55.291638 140390586017536 deprecation.py:323] From /usr/local/lib/python3.6/dist-packages/tensorflow/python/training/saver.py:1276: checkpoint_exists (from tensorflow.python.training.checkpoint_management) is deprecated and will be removed in a future version.\n",
      "Instructions for updating:\n",
      "Use standard file APIs to check for files with this prefix.\n"
     ]
    }
   ],
   "source": [
    "saver = tf.train.Saver(var_list = assignment_map)\n",
    "saver.restore(sess, checkpoint)"
   ]
  },
  {
   "cell_type": "code",
   "execution_count": 16,
   "metadata": {},
   "outputs": [],
   "source": [
    "from sklearn.model_selection import train_test_split\n",
    "\n",
    "train_input_ids, test_input_ids, train_input_masks, test_input_masks, train_segment_ids, test_segment_ids, train_Y, test_Y = train_test_split(\n",
    "    input_ids, input_masks, segment_ids, labels, test_size = 0.2\n",
    ")"
   ]
  },
  {
   "cell_type": "code",
   "execution_count": 17,
   "metadata": {},
   "outputs": [
    {
     "name": "stderr",
     "output_type": "stream",
     "text": [
      "train minibatch loop: 100%|██████████| 797/797 [00:39<00:00, 21.34it/s, accuracy=1, cost=0.0513] \n",
      "test minibatch loop: 100%|██████████| 200/200 [00:04<00:00, 44.88it/s, accuracy=0.667, cost=0.89]\n",
      "train minibatch loop:   0%|          | 3/797 [00:00<00:37, 21.45it/s, accuracy=0.8, cost=0.443]"
     ]
    },
    {
     "name": "stdout",
     "output_type": "stream",
     "text": [
      "epoch: 0, pass acc: 0.000000, current acc: 0.895969\n",
      "time taken: 44.12548756599426\n",
      "epoch: 0, training loss: 0.345737, training acc: 0.846781, valid loss: 0.261241, valid acc: 0.895969\n",
      "\n"
     ]
    },
    {
     "name": "stderr",
     "output_type": "stream",
     "text": [
      "train minibatch loop: 100%|██████████| 797/797 [00:37<00:00, 21.25it/s, accuracy=1, cost=0.00815] \n",
      "test minibatch loop: 100%|██████████| 200/200 [00:03<00:00, 51.54it/s, accuracy=0.667, cost=0.995]\n",
      "train minibatch loop:   0%|          | 3/797 [00:00<00:37, 21.16it/s, accuracy=0.8, cost=0.27]"
     ]
    },
    {
     "name": "stdout",
     "output_type": "stream",
     "text": [
      "epoch: 1, pass acc: 0.895969, current acc: 0.906004\n",
      "time taken: 41.38458967208862\n",
      "epoch: 1, training loss: 0.195034, training acc: 0.927092, valid loss: 0.242538, valid acc: 0.906004\n",
      "\n"
     ]
    },
    {
     "name": "stderr",
     "output_type": "stream",
     "text": [
      "train minibatch loop: 100%|██████████| 797/797 [00:37<00:00, 21.24it/s, accuracy=1, cost=0.00332] \n",
      "test minibatch loop: 100%|██████████| 200/200 [00:03<00:00, 51.30it/s, accuracy=0.667, cost=1.37]\n",
      "train minibatch loop:   0%|          | 3/797 [00:00<00:37, 21.38it/s, accuracy=1, cost=0.103] "
     ]
    },
    {
     "name": "stdout",
     "output_type": "stream",
     "text": [
      "time taken: 41.42720580101013\n",
      "epoch: 2, training loss: 0.098247, training acc: 0.966495, valid loss: 0.279794, valid acc: 0.902994\n",
      "\n"
     ]
    },
    {
     "name": "stderr",
     "output_type": "stream",
     "text": [
      "train minibatch loop: 100%|██████████| 797/797 [00:37<00:00, 21.23it/s, accuracy=1, cost=0.000556]\n",
      "test minibatch loop: 100%|██████████| 200/200 [00:03<00:00, 51.30it/s, accuracy=0.333, cost=1.51]\n",
      "train minibatch loop:   0%|          | 3/797 [00:00<00:37, 21.28it/s, accuracy=0.9, cost=0.145]"
     ]
    },
    {
     "name": "stdout",
     "output_type": "stream",
     "text": [
      "time taken: 41.43684959411621\n",
      "epoch: 3, training loss: 0.047266, training acc: 0.983310, valid loss: 0.452414, valid acc: 0.876233\n",
      "\n"
     ]
    },
    {
     "name": "stderr",
     "output_type": "stream",
     "text": [
      "train minibatch loop: 100%|██████████| 797/797 [00:37<00:00, 21.24it/s, accuracy=1, cost=0.000208]\n",
      "test minibatch loop: 100%|██████████| 200/200 [00:03<00:00, 51.38it/s, accuracy=0.667, cost=1.87]\n",
      "train minibatch loop:   0%|          | 3/797 [00:00<00:37, 21.10it/s, accuracy=1, cost=0.00613]"
     ]
    },
    {
     "name": "stdout",
     "output_type": "stream",
     "text": [
      "epoch: 4, pass acc: 0.906004, current acc: 0.911022\n",
      "time taken: 41.41526246070862\n",
      "epoch: 4, training loss: 0.035602, training acc: 0.987702, valid loss: 0.339392, valid acc: 0.911022\n",
      "\n"
     ]
    },
    {
     "name": "stderr",
     "output_type": "stream",
     "text": [
      "train minibatch loop: 100%|██████████| 797/797 [00:37<00:00, 21.24it/s, accuracy=1, cost=0.000227]\n",
      "test minibatch loop: 100%|██████████| 200/200 [00:03<00:00, 51.39it/s, accuracy=0.667, cost=2.66]\n",
      "train minibatch loop:   0%|          | 3/797 [00:00<00:37, 21.15it/s, accuracy=0.9, cost=0.138]"
     ]
    },
    {
     "name": "stdout",
     "output_type": "stream",
     "text": [
      "time taken: 41.42473101615906\n",
      "epoch: 5, training loss: 0.015959, training acc: 0.994730, valid loss: 0.445245, valid acc: 0.910018\n",
      "\n"
     ]
    },
    {
     "name": "stderr",
     "output_type": "stream",
     "text": [
      "train minibatch loop: 100%|██████████| 797/797 [00:37<00:00, 21.23it/s, accuracy=1, cost=8.59e-5] \n",
      "test minibatch loop: 100%|██████████| 200/200 [00:03<00:00, 51.27it/s, accuracy=0.667, cost=2]   \n",
      "train minibatch loop:   0%|          | 3/797 [00:00<00:37, 21.33it/s, accuracy=1, cost=0.00419] "
     ]
    },
    {
     "name": "stdout",
     "output_type": "stream",
     "text": [
      "time taken: 41.444944858551025\n",
      "epoch: 6, training loss: 0.015803, training acc: 0.993851, valid loss: 0.427622, valid acc: 0.909015\n",
      "\n"
     ]
    },
    {
     "name": "stderr",
     "output_type": "stream",
     "text": [
      "train minibatch loop: 100%|██████████| 797/797 [00:37<00:00, 21.24it/s, accuracy=1, cost=2.55e-5] \n",
      "test minibatch loop: 100%|██████████| 200/200 [00:03<00:00, 51.30it/s, accuracy=0.667, cost=3.24]\n",
      "train minibatch loop:   0%|          | 3/797 [00:00<00:37, 21.08it/s, accuracy=0.9, cost=0.276] "
     ]
    },
    {
     "name": "stdout",
     "output_type": "stream",
     "text": [
      "epoch: 7, pass acc: 0.911022, current acc: 0.919552\n",
      "time taken: 41.42771100997925\n",
      "epoch: 7, training loss: 0.007716, training acc: 0.997741, valid loss: 0.436061, valid acc: 0.919552\n",
      "\n"
     ]
    },
    {
     "name": "stderr",
     "output_type": "stream",
     "text": [
      "train minibatch loop: 100%|██████████| 797/797 [00:37<00:00, 21.12it/s, accuracy=1, cost=2.73e-5] \n",
      "test minibatch loop: 100%|██████████| 200/200 [00:03<00:00, 50.49it/s, accuracy=0.667, cost=3.26]\n",
      "train minibatch loop:   0%|          | 3/797 [00:00<00:38, 20.75it/s, accuracy=1, cost=6.75e-5] "
     ]
    },
    {
     "name": "stdout",
     "output_type": "stream",
     "text": [
      "epoch: 8, pass acc: 0.919552, current acc: 0.920555\n",
      "time taken: 41.705108880996704\n",
      "epoch: 8, training loss: 0.005279, training acc: 0.998369, valid loss: 0.429499, valid acc: 0.920555\n",
      "\n"
     ]
    },
    {
     "name": "stderr",
     "output_type": "stream",
     "text": [
      "train minibatch loop: 100%|██████████| 797/797 [00:38<00:00, 20.88it/s, accuracy=1, cost=4.48e-6] \n",
      "test minibatch loop: 100%|██████████| 200/200 [00:03<00:00, 51.40it/s, accuracy=0.667, cost=3.53]\n",
      "train minibatch loop:   0%|          | 3/797 [00:00<00:37, 21.25it/s, accuracy=1, cost=1.7e-5] "
     ]
    },
    {
     "name": "stdout",
     "output_type": "stream",
     "text": [
      "time taken: 42.06927180290222\n",
      "epoch: 9, training loss: 0.001641, training acc: 0.999749, valid loss: 0.499257, valid acc: 0.919050\n",
      "\n"
     ]
    },
    {
     "name": "stderr",
     "output_type": "stream",
     "text": [
      "train minibatch loop: 100%|██████████| 797/797 [00:37<00:00, 21.20it/s, accuracy=1, cost=3.66e-6] \n",
      "test minibatch loop: 100%|██████████| 200/200 [00:03<00:00, 51.43it/s, accuracy=0.667, cost=3.75]\n",
      "train minibatch loop:   0%|          | 3/797 [00:00<00:37, 21.17it/s, accuracy=1, cost=1.3e-5] "
     ]
    },
    {
     "name": "stdout",
     "output_type": "stream",
     "text": [
      "time taken: 41.492979526519775\n",
      "epoch: 10, training loss: 0.000770, training acc: 1.000000, valid loss: 0.560301, valid acc: 0.916541\n",
      "\n"
     ]
    },
    {
     "name": "stderr",
     "output_type": "stream",
     "text": [
      "train minibatch loop: 100%|██████████| 797/797 [00:37<00:00, 21.43it/s, accuracy=1, cost=3.66e-5] \n",
      "test minibatch loop: 100%|██████████| 200/200 [00:03<00:00, 52.92it/s, accuracy=0.667, cost=3]   "
     ]
    },
    {
     "name": "stdout",
     "output_type": "stream",
     "text": [
      "time taken: 40.976240158081055\n",
      "epoch: 11, training loss: 0.016038, training acc: 0.994353, valid loss: 0.477517, valid acc: 0.913531\n",
      "\n",
      "break epoch:12\n",
      "\n"
     ]
    },
    {
     "name": "stderr",
     "output_type": "stream",
     "text": [
      "\n"
     ]
    }
   ],
   "source": [
    "from tqdm import tqdm\n",
    "import time\n",
    "\n",
    "EARLY_STOPPING, CURRENT_CHECKPOINT, CURRENT_ACC, EPOCH = 3, 0, 0, 0\n",
    "\n",
    "while True:\n",
    "    lasttime = time.time()\n",
    "    if CURRENT_CHECKPOINT == EARLY_STOPPING:\n",
    "        print('break epoch:%d\\n' % (EPOCH))\n",
    "        break\n",
    "\n",
    "    train_acc, train_loss, test_acc, test_loss = 0, 0, 0, 0\n",
    "    pbar = tqdm(\n",
    "        range(0, len(train_input_ids), batch_size), desc = 'train minibatch loop'\n",
    "    )\n",
    "    for i in pbar:\n",
    "        index = min(i + batch_size, len(train_input_ids))\n",
    "        batch_x = train_input_ids[i: index]\n",
    "        batch_masks = train_input_masks[i: index]\n",
    "        batch_segment = train_segment_ids[i: index]\n",
    "        batch_y = train_Y[i: index]\n",
    "        acc, cost, _ = sess.run(\n",
    "            [model.accuracy, model.cost, model.optimizer],\n",
    "            feed_dict = {\n",
    "                model.Y: batch_y,\n",
    "                model.X: batch_x,\n",
    "                model.segment_ids: batch_segment,\n",
    "                model.input_masks: batch_masks\n",
    "            },\n",
    "        )\n",
    "        assert not np.isnan(cost)\n",
    "        train_loss += cost\n",
    "        train_acc += acc\n",
    "        pbar.set_postfix(cost = cost, accuracy = acc)\n",
    "        \n",
    "    pbar = tqdm(range(0, len(test_input_ids), batch_size), desc = 'test minibatch loop')\n",
    "    for i in pbar:\n",
    "        index = min(i + batch_size, len(test_input_ids))\n",
    "        batch_x = test_input_ids[i: index]\n",
    "        batch_masks = test_input_masks[i: index]\n",
    "        batch_segment = test_segment_ids[i: index]\n",
    "        batch_y = test_Y[i: index]\n",
    "        acc, cost = sess.run(\n",
    "            [model.accuracy, model.cost],\n",
    "            feed_dict = {\n",
    "                model.Y: batch_y,\n",
    "                model.X: batch_x,\n",
    "                model.segment_ids: batch_segment,\n",
    "                model.input_masks: batch_masks\n",
    "            },\n",
    "        )\n",
    "        test_loss += cost\n",
    "        test_acc += acc\n",
    "        pbar.set_postfix(cost = cost, accuracy = acc)\n",
    "\n",
    "    train_loss /= len(train_input_ids) / batch_size\n",
    "    train_acc /= len(train_input_ids) / batch_size\n",
    "    test_loss /= len(test_input_ids) / batch_size\n",
    "    test_acc /= len(test_input_ids) / batch_size\n",
    "\n",
    "    if test_acc > CURRENT_ACC:\n",
    "        print(\n",
    "            'epoch: %d, pass acc: %f, current acc: %f'\n",
    "            % (EPOCH, CURRENT_ACC, test_acc)\n",
    "        )\n",
    "        CURRENT_ACC = test_acc\n",
    "        CURRENT_CHECKPOINT = 0\n",
    "    else:\n",
    "        CURRENT_CHECKPOINT += 1\n",
    "        \n",
    "    print('time taken:', time.time() - lasttime)\n",
    "    print(\n",
    "        'epoch: %d, training loss: %f, training acc: %f, valid loss: %f, valid acc: %f\\n'\n",
    "        % (EPOCH, train_loss, train_acc, test_loss, test_acc)\n",
    "    )\n",
    "    EPOCH += 1"
   ]
  },
  {
   "cell_type": "code",
   "execution_count": null,
   "metadata": {},
   "outputs": [],
   "source": []
  }
 ],
 "metadata": {
  "kernelspec": {
   "display_name": "Python 3",
   "language": "python",
   "name": "python3"
  },
  "language_info": {
   "codemirror_mode": {
    "name": "ipython",
    "version": 3
   },
   "file_extension": ".py",
   "mimetype": "text/x-python",
   "name": "python",
   "nbconvert_exporter": "python",
   "pygments_lexer": "ipython3",
   "version": "3.6.8"
  }
 },
 "nbformat": 4,
 "nbformat_minor": 2
}
