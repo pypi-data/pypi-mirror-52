{
 "cells": [
  {
   "cell_type": "code",
   "execution_count": 1,
   "metadata": {},
   "outputs": [],
   "source": [
    "import json\n",
    "import glob\n",
    "import re\n",
    "import malaya"
   ]
  },
  {
   "cell_type": "code",
   "execution_count": 2,
   "metadata": {},
   "outputs": [],
   "source": [
    "tokenizer = malaya.preprocessing._SocialTokenizer().tokenize\n",
    "\n",
    "def is_number_regex(s):\n",
    "    if re.match(\"^\\d+?\\.\\d+?$\", s) is None:\n",
    "        return s.isdigit()\n",
    "    return True\n",
    "\n",
    "def detect_money(word):\n",
    "    if word[:2] == 'rm' and is_number_regex(word[2:]):\n",
    "        return True\n",
    "    else:\n",
    "        return False\n",
    "\n",
    "def preprocessing(string):\n",
    "    tokenized = tokenizer(string)\n",
    "    tokenized = [w.lower() for w in tokenized if len(w) > 2]\n",
    "    tokenized = ['<NUM>' if is_number_regex(w) else w for w in tokenized]\n",
    "    tokenized = ['<MONEY>' if detect_money(w) else w for w in tokenized]\n",
    "    return tokenized"
   ]
  },
  {
   "cell_type": "code",
   "execution_count": 3,
   "metadata": {},
   "outputs": [],
   "source": [
    "left, right, label = [], [], []\n",
    "for file in glob.glob('quora/*.json'):\n",
    "    with open(file) as fopen:\n",
    "        x = json.load(fopen)\n",
    "    for i in x:\n",
    "        splitted = i[0].split(' <> ')\n",
    "        if len(splitted) != 2:\n",
    "            continue\n",
    "        left.append(splitted[0])\n",
    "        right.append(splitted[1])\n",
    "        label.append(i[1])"
   ]
  },
  {
   "cell_type": "code",
   "execution_count": 4,
   "metadata": {},
   "outputs": [
    {
     "data": {
      "text/plain": [
       "(403831, 403831, 403831)"
      ]
     },
     "execution_count": 4,
     "metadata": {},
     "output_type": "execute_result"
    }
   ],
   "source": [
    "len(left), len(right), len(label)"
   ]
  },
  {
   "cell_type": "code",
   "execution_count": 5,
   "metadata": {},
   "outputs": [],
   "source": [
    "with open('synonym0.json') as fopen:\n",
    "    s = json.load(fopen)\n",
    "    \n",
    "with open('synonym1.json') as fopen:\n",
    "    s1 = json.load(fopen)"
   ]
  },
  {
   "cell_type": "code",
   "execution_count": 6,
   "metadata": {},
   "outputs": [],
   "source": [
    "synonyms = {}\n",
    "for l, r in (s + s1):\n",
    "    if l not in synonyms:\n",
    "        synonyms[l] = r + [l]\n",
    "    else:\n",
    "        synonyms[l].extend(r)\n",
    "synonyms = {k: list(set(v)) for k, v in synonyms.items()}"
   ]
  },
  {
   "cell_type": "code",
   "execution_count": 7,
   "metadata": {},
   "outputs": [],
   "source": [
    "import random\n",
    "\n",
    "def augmentation(s, maximum = 0.8):\n",
    "    s = s.lower().split()\n",
    "    for i in range(int(len(s) * maximum)):\n",
    "        index = random.randint(0, len(s) - 1)\n",
    "        word = s[index]\n",
    "        sy = synonyms.get(word, [word])\n",
    "        sy = random.choice(sy)\n",
    "        s[index] = sy\n",
    "    return s"
   ]
  },
  {
   "cell_type": "code",
   "execution_count": 8,
   "metadata": {},
   "outputs": [],
   "source": [
    "train_left, test_left = left[:-50000], left[-50000:]\n",
    "train_right, test_right = right[:-50000], right[-50000:]\n",
    "train_label, test_label = label[:-50000], label[-50000:]"
   ]
  },
  {
   "cell_type": "code",
   "execution_count": 9,
   "metadata": {},
   "outputs": [
    {
     "data": {
      "text/plain": [
       "(353831, 50000)"
      ]
     },
     "execution_count": 9,
     "metadata": {},
     "output_type": "execute_result"
    }
   ],
   "source": [
    "len(train_left), len(test_left)"
   ]
  },
  {
   "cell_type": "code",
   "execution_count": 10,
   "metadata": {},
   "outputs": [
    {
     "data": {
      "text/plain": [
       "['apakah maksud mengecap sejati kepada anda?',\n",
       " 'apakah maksud pilihan sejati kepada anda?',\n",
       " 'apakah maksud mencinta sejati kepada anda?',\n",
       " 'apakah maksud mengasihi sejati kepada anda?',\n",
       " 'apakah maksud cinta sejati kepada anda?',\n",
       " 'apakah maksud menyayangi sejati kepada anda?',\n",
       " 'apakah maksud percintaan sejati kepada anda?']"
      ]
     },
     "execution_count": 10,
     "metadata": {},
     "output_type": "execute_result"
    }
   ],
   "source": [
    "aug = [' '.join(augmentation(train_left[0])) for _ in range(10)] + [train_left[0].lower()]\n",
    "aug = list(set(aug))\n",
    "aug"
   ]
  },
  {
   "cell_type": "code",
   "execution_count": 11,
   "metadata": {},
   "outputs": [
    {
     "data": {
      "text/plain": [
       "['apakah maksud \"cinta sejati\"?']"
      ]
     },
     "execution_count": 11,
     "metadata": {},
     "output_type": "execute_result"
    }
   ],
   "source": [
    "aug = [' '.join(augmentation(train_right[0])) for _ in range(10)] + [train_right[0].lower()]\n",
    "aug = list(set(aug))\n",
    "aug"
   ]
  },
  {
   "cell_type": "code",
   "execution_count": 12,
   "metadata": {},
   "outputs": [
    {
     "data": {
      "text/plain": [
       "0"
      ]
     },
     "execution_count": 12,
     "metadata": {},
     "output_type": "execute_result"
    }
   ],
   "source": [
    "train_label[0]"
   ]
  },
  {
   "cell_type": "code",
   "execution_count": 13,
   "metadata": {},
   "outputs": [
    {
     "name": "stderr",
     "output_type": "stream",
     "text": [
      "100%|██████████| 353831/353831 [00:46<00:00, 7536.26it/s]\n"
     ]
    }
   ],
   "source": [
    "from tqdm import tqdm\n",
    "\n",
    "LEFT, RIGHT, LABEL = [], [], []\n",
    "for i in tqdm(range(len(train_left))):\n",
    "    aug_left = [' '.join(augmentation(train_left[i])) for _ in range(3)] + [train_left[i].lower()]\n",
    "    aug_left = list(set(aug_left))\n",
    "    \n",
    "    aug_right = [' '.join(augmentation(train_right[i])) for _ in range(3)] + [train_right[i].lower()]\n",
    "    aug_right = list(set(aug_right))\n",
    "    \n",
    "    for l in aug_left:\n",
    "        for r in aug_right:\n",
    "            LEFT.append(l)\n",
    "            RIGHT.append(r)\n",
    "            LABEL.append(train_label[i])"
   ]
  },
  {
   "cell_type": "code",
   "execution_count": 14,
   "metadata": {},
   "outputs": [
    {
     "data": {
      "text/plain": [
       "(4136391, 4136391, 4136391)"
      ]
     },
     "execution_count": 14,
     "metadata": {},
     "output_type": "execute_result"
    }
   ],
   "source": [
    "len(LEFT), len(RIGHT), len(LABEL)"
   ]
  },
  {
   "cell_type": "code",
   "execution_count": 15,
   "metadata": {},
   "outputs": [
    {
     "name": "stderr",
     "output_type": "stream",
     "text": [
      "100%|██████████| 4136391/4136391 [10:34<00:00, 6523.13it/s]\n"
     ]
    }
   ],
   "source": [
    "for i in tqdm(range(len(LEFT))):\n",
    "    LEFT[i] = preprocessing(LEFT[i])\n",
    "    RIGHT[i] = preprocessing(RIGHT[i])"
   ]
  },
  {
   "cell_type": "code",
   "execution_count": 16,
   "metadata": {},
   "outputs": [
    {
     "name": "stderr",
     "output_type": "stream",
     "text": [
      "100%|██████████| 50000/50000 [00:06<00:00, 7268.75it/s]\n"
     ]
    }
   ],
   "source": [
    "for i in tqdm(range(len(test_left))):\n",
    "    test_left[i] = preprocessing(test_left[i])\n",
    "    test_right[i] = preprocessing(test_right[i])"
   ]
  },
  {
   "cell_type": "code",
   "execution_count": 17,
   "metadata": {},
   "outputs": [],
   "source": [
    "with open('train-similarity.json', 'w') as fopen:\n",
    "    json.dump({'left': LEFT, 'right': RIGHT, 'label': LABEL}, fopen)"
   ]
  },
  {
   "cell_type": "code",
   "execution_count": 18,
   "metadata": {},
   "outputs": [],
   "source": [
    "with open('test-similarity.json', 'w') as fopen:\n",
    "    json.dump({'left': test_left, 'right': test_right, 'label': test_label}, fopen)"
   ]
  },
  {
   "cell_type": "code",
   "execution_count": null,
   "metadata": {},
   "outputs": [],
   "source": []
  }
 ],
 "metadata": {
  "kernelspec": {
   "display_name": "Python 3",
   "language": "python",
   "name": "python3"
  },
  "language_info": {
   "codemirror_mode": {
    "name": "ipython",
    "version": 3
   },
   "file_extension": ".py",
   "mimetype": "text/x-python",
   "name": "python",
   "nbconvert_exporter": "python",
   "pygments_lexer": "ipython3",
   "version": "3.6.8"
  }
 },
 "nbformat": 4,
 "nbformat_minor": 2
}
