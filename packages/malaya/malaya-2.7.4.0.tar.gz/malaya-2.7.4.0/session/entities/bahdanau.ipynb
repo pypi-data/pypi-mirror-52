{
 "cells": [
  {
   "cell_type": "code",
   "execution_count": 1,
   "metadata": {},
   "outputs": [],
   "source": [
    "import pickle\n",
    "import json\n",
    "import tensorflow as tf\n",
    "import numpy as np"
   ]
  },
  {
   "cell_type": "code",
   "execution_count": 2,
   "metadata": {},
   "outputs": [
    {
     "data": {
      "text/plain": [
       "dict_keys(['train_X', 'test_X', 'train_Y', 'test_Y'])"
      ]
     },
     "execution_count": 2,
     "metadata": {},
     "output_type": "execute_result"
    }
   ],
   "source": [
    "with open('session.pkl', 'rb') as fopen:\n",
    "    data = pickle.load(fopen)\n",
    "data.keys()"
   ]
  },
  {
   "cell_type": "code",
   "execution_count": 3,
   "metadata": {},
   "outputs": [],
   "source": [
    "train_X = data['train_X']\n",
    "test_X = data['test_X']\n",
    "train_Y = data['train_Y']\n",
    "test_Y = data['test_Y']"
   ]
  },
  {
   "cell_type": "code",
   "execution_count": 4,
   "metadata": {},
   "outputs": [
    {
     "data": {
      "text/plain": [
       "dict_keys(['word2idx', 'idx2word', 'tag2idx', 'idx2tag', 'char2idx'])"
      ]
     },
     "execution_count": 4,
     "metadata": {},
     "output_type": "execute_result"
    }
   ],
   "source": [
    "with open('dictionary-entities.json') as fopen:\n",
    "    dictionary = json.load(fopen)\n",
    "dictionary.keys()"
   ]
  },
  {
   "cell_type": "code",
   "execution_count": 5,
   "metadata": {},
   "outputs": [],
   "source": [
    "word2idx = dictionary['word2idx']\n",
    "idx2word = {int(k): v for k, v in dictionary['idx2word'].items()}\n",
    "tag2idx = dictionary['tag2idx']\n",
    "idx2tag = {int(k): v for k, v in dictionary['idx2tag'].items()}\n",
    "char2idx = dictionary['char2idx']"
   ]
  },
  {
   "cell_type": "code",
   "execution_count": 6,
   "metadata": {},
   "outputs": [
    {
     "data": {
      "text/plain": [
       "[('harahap', 'person'),\n",
       " (',', 'OTHER'),\n",
       " ('pedagang', 'OTHER'),\n",
       " ('ikan', 'OTHER'),\n",
       " ('kering', 'OTHER'),\n",
       " (',', 'OTHER'),\n",
       " ('kering', 'OTHER'),\n",
       " (',', 'OTHER'),\n",
       " ('para', 'OTHER'),\n",
       " ('pembeli', 'OTHER'),\n",
       " ('mayoritas', 'OTHER'),\n",
       " ('datang', 'OTHER'),\n",
       " ('dari', 'OTHER'),\n",
       " ('luar', 'OTHER'),\n",
       " ('kota', 'OTHER'),\n",
       " ('seperti', 'OTHER'),\n",
       " ('meranti', 'location'),\n",
       " (',', 'OTHER'),\n",
       " ('riau', 'location'),\n",
       " (',', 'OTHER'),\n",
       " ('jambi', 'location'),\n",
       " (',', 'OTHER'),\n",
       " ('dan', 'OTHER'),\n",
       " ('batam', 'location'),\n",
       " ('.', 'OTHER'),\n",
       " ('cabai', 'OTHER'),\n",
       " ('kering', 'OTHER'),\n",
       " (',', 'OTHER'),\n",
       " ('para', 'OTHER'),\n",
       " ('pembeli', 'OTHER'),\n",
       " ('mayoritas', 'OTHER'),\n",
       " ('datang', 'OTHER'),\n",
       " ('dari', 'OTHER'),\n",
       " ('luar', 'OTHER'),\n",
       " ('kota', 'OTHER'),\n",
       " ('seperti', 'OTHER'),\n",
       " ('chuah', 'location'),\n",
       " (',', 'OTHER'),\n",
       " ('riau', 'location'),\n",
       " (',', 'OTHER'),\n",
       " ('jambi', 'location'),\n",
       " (',', 'OTHER'),\n",
       " ('dan', 'OTHER'),\n",
       " ('batam', 'location'),\n",
       " ('.', 'OTHER'),\n",
       " ('cabai', 'OTHER'),\n",
       " ('para', 'OTHER'),\n",
       " ('pembeli', 'OTHER'),\n",
       " ('mayoritas', 'OTHER'),\n",
       " ('datang', 'OTHER')]"
      ]
     },
     "execution_count": 6,
     "metadata": {},
     "output_type": "execute_result"
    }
   ],
   "source": [
    "list(zip([idx2word[d] for d in train_X[-1]], [idx2tag[d] for d in train_Y[-1]]))"
   ]
  },
  {
   "cell_type": "code",
   "execution_count": 7,
   "metadata": {},
   "outputs": [
    {
     "data": {
      "text/plain": [
       "[('politik', 'OTHER'),\n",
       " ('dari', 'OTHER'),\n",
       " ('Universitas', 'organization'),\n",
       " ('Gadjah', 'organization'),\n",
       " ('Mada', 'organization'),\n",
       " (',', 'OTHER'),\n",
       " ('Arie', 'person'),\n",
       " ('Sudjito', 'person'),\n",
       " (',', 'OTHER'),\n",
       " ('menilai,', 'OTHER'),\n",
       " ('keinginan', 'OTHER'),\n",
       " ('Ketua', 'OTHER'),\n",
       " ('Umum', 'OTHER'),\n",
       " ('Partai', 'organization'),\n",
       " ('Golkar', 'organization'),\n",
       " ('Aburizal', 'person'),\n",
       " ('Bakrie', 'person'),\n",
       " ('untuk', 'OTHER'),\n",
       " ('maju', 'OTHER'),\n",
       " ('kembali', 'OTHER'),\n",
       " ('sebagai', 'OTHER'),\n",
       " ('ketua', 'OTHER'),\n",
       " ('umum', 'OTHER'),\n",
       " ('merupakan', 'OTHER'),\n",
       " ('pemaksaan', 'OTHER'),\n",
       " ('kehendak.', 'OTHER'),\n",
       " ('Menurut', 'OTHER'),\n",
       " ('dia,', 'OTHER'),\n",
       " ('ada', 'OTHER'),\n",
       " ('kesan', 'OTHER'),\n",
       " ('bahwa', 'OTHER'),\n",
       " ('Aburizal', 'person'),\n",
       " ('menggunakan', 'OTHER'),\n",
       " ('segala', 'OTHER'),\n",
       " ('cara', 'OTHER'),\n",
       " ('untuk', 'OTHER'),\n",
       " ('memuluskan', 'OTHER'),\n",
       " ('jalannya', 'OTHER'),\n",
       " ('kembali', 'OTHER'),\n",
       " ('menduduki', 'OTHER'),\n",
       " ('Golkar', 'organization'),\n",
       " ('1.', 'OTHER'),\n",
       " ('Hal', 'OTHER'),\n",
       " ('ini,', 'OTHER'),\n",
       " ('kata', 'OTHER'),\n",
       " ('Arie', 'person'),\n",
       " (',', 'OTHER'),\n",
       " ('berpotensi', 'OTHER'),\n",
       " ('menimbukan', 'OTHER'),\n",
       " ('perpecahan', 'OTHER')]"
      ]
     },
     "execution_count": 7,
     "metadata": {},
     "output_type": "execute_result"
    }
   ],
   "source": [
    "list(zip([idx2word[d] for d in train_X[1]], [idx2tag[d] for d in train_Y[1]]))"
   ]
  },
  {
   "cell_type": "code",
   "execution_count": 8,
   "metadata": {},
   "outputs": [],
   "source": [
    "def generate_char_seq(batch):\n",
    "    x = [[len(idx2word[i]) for i in k] for k in batch]\n",
    "    maxlen = max([j for i in x for j in i])\n",
    "    temp = np.zeros((batch.shape[0],batch.shape[1],maxlen),dtype=np.int32)\n",
    "    for i in range(batch.shape[0]):\n",
    "        for k in range(batch.shape[1]):\n",
    "            for no, c in enumerate(idx2word[batch[i,k]]):\n",
    "                temp[i,k,-1-no] = char2idx[c]\n",
    "    return temp"
   ]
  },
  {
   "cell_type": "code",
   "execution_count": 9,
   "metadata": {},
   "outputs": [
    {
     "data": {
      "text/plain": [
       "(10, 50, 11)"
      ]
     },
     "execution_count": 9,
     "metadata": {},
     "output_type": "execute_result"
    }
   ],
   "source": [
    "generate_char_seq(data['train_X'][:10]).shape"
   ]
  },
  {
   "cell_type": "code",
   "execution_count": 10,
   "metadata": {},
   "outputs": [],
   "source": [
    "class Model:\n",
    "    def __init__(\n",
    "        self,\n",
    "        dim_word,\n",
    "        dim_char,\n",
    "        dropout,\n",
    "        learning_rate,\n",
    "        hidden_size_char,\n",
    "        hidden_size_word,\n",
    "        num_layers,\n",
    "    ):\n",
    "        def cells(size, reuse = False):\n",
    "            return tf.contrib.rnn.DropoutWrapper(\n",
    "                tf.nn.rnn_cell.LSTMCell(\n",
    "                    size,\n",
    "                    initializer = tf.orthogonal_initializer(),\n",
    "                    reuse = reuse,\n",
    "                ),\n",
    "                output_keep_prob = dropout,\n",
    "            )\n",
    "\n",
    "        def bahdanau(embedded, size):\n",
    "            attention_mechanism = tf.contrib.seq2seq.BahdanauAttention(\n",
    "                num_units = hidden_size_word, memory = embedded\n",
    "            )\n",
    "            return tf.contrib.seq2seq.AttentionWrapper(\n",
    "                cell = cells(hidden_size_word),\n",
    "                attention_mechanism = attention_mechanism,\n",
    "                attention_layer_size = hidden_size_word,\n",
    "            )\n",
    "\n",
    "        self.word_ids = tf.placeholder(tf.int32, shape = [None, None])\n",
    "        self.char_ids = tf.placeholder(tf.int32, shape = [None, None, None])\n",
    "        self.labels = tf.placeholder(tf.int32, shape = [None, None])\n",
    "        self.maxlen = tf.shape(self.word_ids)[1]\n",
    "        self.lengths = tf.count_nonzero(self.word_ids, 1)\n",
    "        \n",
    "        self.word_embeddings = tf.Variable(\n",
    "            tf.truncated_normal(\n",
    "                [len(word2idx), dim_word], stddev = 1.0 / np.sqrt(dim_word)\n",
    "            )\n",
    "        )\n",
    "        self.char_embeddings = tf.Variable(\n",
    "            tf.truncated_normal(\n",
    "                [len(char2idx), dim_char], stddev = 1.0 / np.sqrt(dim_char)\n",
    "            )\n",
    "        )\n",
    "\n",
    "        word_embedded = tf.nn.embedding_lookup(\n",
    "            self.word_embeddings, self.word_ids\n",
    "        )\n",
    "        char_embedded = tf.nn.embedding_lookup(\n",
    "            self.char_embeddings, self.char_ids\n",
    "        )\n",
    "        s = tf.shape(char_embedded)\n",
    "        char_embedded = tf.reshape(\n",
    "            char_embedded, shape = [s[0] * s[1], s[-2], dim_char]\n",
    "        )\n",
    "        \n",
    "        for n in range(num_layers):\n",
    "            (out_fw, out_bw), (\n",
    "                state_fw,\n",
    "                state_bw,\n",
    "            ) = tf.nn.bidirectional_dynamic_rnn(\n",
    "                cell_fw = cells(hidden_size_char),\n",
    "                cell_bw = cells(hidden_size_char),\n",
    "                inputs = char_embedded,\n",
    "                dtype = tf.float32,\n",
    "                scope = 'bidirectional_rnn_char_%d' % (n),\n",
    "            )\n",
    "            char_embedded = tf.concat((out_fw, out_bw), 2)\n",
    "        output = tf.reshape(\n",
    "            char_embedded[:, -1], shape = [s[0], s[1], 2 * hidden_size_char]\n",
    "        )\n",
    "        word_embedded = tf.concat([word_embedded, output], axis = -1)\n",
    "\n",
    "        for n in range(num_layers):\n",
    "            (out_fw, out_bw), (\n",
    "                state_fw,\n",
    "                state_bw,\n",
    "            ) = tf.nn.bidirectional_dynamic_rnn(\n",
    "                cell_fw = bahdanau(word_embedded, hidden_size_word),\n",
    "                cell_bw = bahdanau(word_embedded, hidden_size_word),\n",
    "                inputs = word_embedded,\n",
    "                dtype = tf.float32,\n",
    "                scope = 'bidirectional_rnn_word_%d' % (n),\n",
    "            )\n",
    "            word_embedded = tf.concat((out_fw, out_bw), 2)\n",
    "\n",
    "        logits = tf.layers.dense(word_embedded, len(idx2tag))\n",
    "        y_t = self.labels\n",
    "        log_likelihood, transition_params = tf.contrib.crf.crf_log_likelihood(\n",
    "            logits, y_t, self.lengths\n",
    "        )\n",
    "        self.cost = tf.reduce_mean(-log_likelihood)\n",
    "        self.optimizer = tf.train.AdamOptimizer(\n",
    "            learning_rate = learning_rate\n",
    "        ).minimize(self.cost)\n",
    "        mask = tf.sequence_mask(self.lengths, maxlen = self.maxlen)\n",
    "        self.tags_seq, tags_score = tf.contrib.crf.crf_decode(\n",
    "            logits, transition_params, self.lengths\n",
    "        )\n",
    "        self.tags_seq = tf.identity(self.tags_seq, name = 'logits')\n",
    "\n",
    "        y_t = tf.cast(y_t, tf.int32)\n",
    "        self.prediction = tf.boolean_mask(self.tags_seq, mask)\n",
    "        mask_label = tf.boolean_mask(y_t, mask)\n",
    "        correct_pred = tf.equal(self.prediction, mask_label)\n",
    "        correct_index = tf.cast(correct_pred, tf.float32)\n",
    "        self.accuracy = tf.reduce_mean(tf.cast(correct_pred, tf.float32))"
   ]
  },
  {
   "cell_type": "code",
   "execution_count": 11,
   "metadata": {},
   "outputs": [
    {
     "name": "stderr",
     "output_type": "stream",
     "text": [
      "WARNING: Logging before flag parsing goes to stderr.\n",
      "W0802 03:09:38.548239 140429853955904 deprecation.py:506] From /usr/local/lib/python3.6/dist-packages/tensorflow/python/util/deprecation.py:507: calling count_nonzero (from tensorflow.python.ops.math_ops) with axis is deprecated and will be removed in a future version.\n",
      "Instructions for updating:\n",
      "reduction_indices is deprecated, use axis instead\n",
      "W0802 03:09:39.054165 140429853955904 lazy_loader.py:50] \n",
      "The TensorFlow contrib module will not be included in TensorFlow 2.0.\n",
      "For more information, please see:\n",
      "  * https://github.com/tensorflow/community/blob/master/rfcs/20180907-contrib-sunset.md\n",
      "  * https://github.com/tensorflow/addons\n",
      "  * https://github.com/tensorflow/io (for I/O related ops)\n",
      "If you depend on functionality not listed there, please file an issue.\n",
      "\n",
      "W0802 03:09:39.055277 140429853955904 deprecation.py:323] From <ipython-input-10-c6dd067f10d4>:17: LSTMCell.__init__ (from tensorflow.python.ops.rnn_cell_impl) is deprecated and will be removed in a future version.\n",
      "Instructions for updating:\n",
      "This class is equivalent as tf.keras.layers.LSTMCell, and will be replaced by that in Tensorflow 2.0.\n",
      "W0802 03:09:39.060045 140429853955904 deprecation.py:323] From <ipython-input-10-c6dd067f10d4>:69: bidirectional_dynamic_rnn (from tensorflow.python.ops.rnn) is deprecated and will be removed in a future version.\n",
      "Instructions for updating:\n",
      "Please use `keras.layers.Bidirectional(keras.layers.RNN(cell))`, which is equivalent to this API\n",
      "W0802 03:09:39.060616 140429853955904 deprecation.py:323] From /usr/local/lib/python3.6/dist-packages/tensorflow/python/ops/rnn.py:464: dynamic_rnn (from tensorflow.python.ops.rnn) is deprecated and will be removed in a future version.\n",
      "Instructions for updating:\n",
      "Please use `keras.layers.RNN(cell)`, which is equivalent to this API\n",
      "W0802 03:09:39.121063 140429853955904 deprecation.py:506] From /usr/local/lib/python3.6/dist-packages/tensorflow/python/ops/rnn_cell_impl.py:961: calling Zeros.__init__ (from tensorflow.python.ops.init_ops) with dtype is deprecated and will be removed in a future version.\n",
      "Instructions for updating:\n",
      "Call initializer instance with the dtype argument instead of passing it to the constructor\n",
      "W0802 03:09:39.905061 140429853955904 deprecation.py:506] From /usr/local/lib/python3.6/dist-packages/tensorflow/python/ops/init_ops.py:1251: calling VarianceScaling.__init__ (from tensorflow.python.ops.init_ops) with dtype is deprecated and will be removed in a future version.\n",
      "Instructions for updating:\n",
      "Call initializer instance with the dtype argument instead of passing it to the constructor\n",
      "W0802 03:09:41.214139 140429853955904 deprecation.py:323] From <ipython-input-10-c6dd067f10d4>:90: dense (from tensorflow.python.layers.core) is deprecated and will be removed in a future version.\n",
      "Instructions for updating:\n",
      "Use keras.layers.dense instead.\n",
      "W0802 03:09:41.259775 140429853955904 deprecation.py:323] From /usr/local/lib/python3.6/dist-packages/tensorflow/contrib/crf/python/ops/crf.py:99: add_dispatch_support.<locals>.wrapper (from tensorflow.python.ops.array_ops) is deprecated and will be removed in a future version.\n",
      "Instructions for updating:\n",
      "Use tf.where in 2.0, which has the same broadcast rule as np.where\n"
     ]
    }
   ],
   "source": [
    "tf.reset_default_graph()\n",
    "sess = tf.InteractiveSession()\n",
    "\n",
    "dim_word = 128\n",
    "dim_char = 256\n",
    "dropout = 0.8\n",
    "learning_rate = 1e-3\n",
    "hidden_size_char = 128\n",
    "hidden_size_word = 128\n",
    "num_layers = 2\n",
    "batch_size = 64\n",
    "\n",
    "model = Model(dim_word,dim_char,dropout,learning_rate,hidden_size_char,hidden_size_word,num_layers)\n",
    "sess.run(tf.global_variables_initializer())"
   ]
  },
  {
   "cell_type": "code",
   "execution_count": 12,
   "metadata": {},
   "outputs": [],
   "source": [
    "string = 'KUALA LUMPUR: Sempena sambutan Aidilfitri minggu depan, Perdana Menteri Tun Dr Mahathir Mohamad dan Menteri Pengangkutan Anthony Loke Siew Fook menitipkan pesanan khas kepada orang ramai yang mahu pulang ke kampung halaman masing-masing. Dalam video pendek terbitan Jabatan Keselamatan Jalan Raya (JKJR) itu, Dr Mahathir menasihati mereka supaya berhenti berehat dan tidur sebentar  sekiranya mengantuk ketika memandu.'\n",
    "\n",
    "import re\n",
    "\n",
    "def entities_textcleaning(string, lowering = False):\n",
    "    \"\"\"\n",
    "    use by entities recognition, pos recognition and dependency parsing\n",
    "    \"\"\"\n",
    "    string = re.sub('[^A-Za-z0-9\\-\\/() ]+', ' ', string)\n",
    "    string = re.sub(r'[ ]+', ' ', string).strip()\n",
    "    original_string = string.split()\n",
    "    if lowering:\n",
    "        string = string.lower()\n",
    "    string = [\n",
    "        (original_string[no], word.title() if word.isupper() else word)\n",
    "        for no, word in enumerate(string.split())\n",
    "        if len(word)\n",
    "    ]\n",
    "    return [s[0] for s in string], [s[1] for s in string]\n",
    "\n",
    "def char_str_idx(corpus, dic, UNK = 0):\n",
    "    maxlen = max([len(i) for i in corpus])\n",
    "    X = np.zeros((len(corpus), maxlen))\n",
    "    for i in range(len(corpus)):\n",
    "        for no, k in enumerate(corpus[i][:maxlen][::-1]):\n",
    "            val = dic[k] if k in dic else UNK\n",
    "            X[i, -1 - no] = val\n",
    "    return X"
   ]
  },
  {
   "cell_type": "code",
   "execution_count": 15,
   "metadata": {},
   "outputs": [
    {
     "name": "stderr",
     "output_type": "stream",
     "text": [
      "train minibatch loop:  60%|█████▉    | 5474/9191 [1:11:56<55:55,  1.11it/s, accuracy=1, cost=0.00231]     IOPub message rate exceeded.\n",
      "The notebook server will temporarily stop sending output\n",
      "to the client in order to avoid crashing it.\n",
      "To change this limit, set the config variable\n",
      "`--NotebookApp.iopub_msg_rate_limit`.\n",
      "\n",
      "Current values:\n",
      "NotebookApp.iopub_msg_rate_limit=1000.0 (msgs/sec)\n",
      "NotebookApp.rate_limit_window=3.0 (secs)\n",
      "\n",
      "train minibatch loop: 100%|██████████| 9191/9191 [2:00:56<00:00,  1.24it/s, accuracy=1, cost=0.00317]   \n",
      "test minibatch loop: 100%|██████████| 2298/2298 [13:16<00:00,  4.19it/s, accuracy=0.956, cost=16.7] \n",
      "train minibatch loop:   0%|          | 0/9191 [00:00<?, ?it/s]"
     ]
    },
    {
     "name": "stdout",
     "output_type": "stream",
     "text": [
      "time taken: 8052.7077124118805\n",
      "epoch: 0, training loss: 0.189442, training acc: 0.998745, valid loss: 15.468634, valid acc: 0.942164\n",
      "\n",
      "Kuala location\n",
      "Lumpur location\n",
      "Sempena OTHER\n",
      "sambutan OTHER\n",
      "Aidilfitri event\n",
      "minggu time\n",
      "depan time\n",
      "Perdana person\n",
      "Menteri person\n",
      "Tun person\n",
      "Dr person\n",
      "Mahathir person\n",
      "Mohamad person\n",
      "dan OTHER\n",
      "Menteri person\n",
      "Pengangkutan person\n",
      "Anthony person\n",
      "Loke person\n",
      "Siew person\n",
      "Fook person\n",
      "menitipkan person\n",
      "pesanan OTHER\n",
      "khas OTHER\n",
      "kepada OTHER\n",
      "orang quantity\n",
      "ramai quantity\n",
      "yang OTHER\n",
      "mahu OTHER\n",
      "pulang OTHER\n",
      "ke OTHER\n",
      "kampung OTHER\n",
      "halaman OTHER\n",
      "masing-masing OTHER\n",
      "Dalam OTHER\n",
      "video OTHER\n",
      "pendek OTHER\n",
      "terbitan OTHER\n",
      "Jabatan organization\n",
      "Keselamatan organization\n",
      "Jalan organization\n",
      "Raya organization\n",
      "(Jkjr) person\n",
      "itu OTHER\n",
      "Dr person\n",
      "Mahathir person\n",
      "menasihati OTHER\n",
      "mereka OTHER\n",
      "supaya OTHER\n",
      "berhenti OTHER\n",
      "berehat OTHER\n",
      "dan OTHER\n",
      "tidur OTHER\n",
      "sebentar OTHER\n",
      "sekiranya OTHER\n",
      "mengantuk person\n",
      "ketika OTHER\n",
      "memandu OTHER\n"
     ]
    },
    {
     "name": "stderr",
     "output_type": "stream",
     "text": [
      "train minibatch loop: 100%|██████████| 9191/9191 [1:59:51<00:00,  1.26it/s, accuracy=1, cost=0.00309]     \n",
      "test minibatch loop: 100%|██████████| 2298/2298 [12:32<00:00,  2.62it/s, accuracy=0.944, cost=21]   \n"
     ]
    },
    {
     "name": "stdout",
     "output_type": "stream",
     "text": [
      "time taken: 7944.539978504181\n",
      "epoch: 1, training loss: 0.155295, training acc: 0.998993, valid loss: 14.770646, valid acc: 0.945195\n",
      "\n"
     ]
    },
    {
     "name": "stderr",
     "output_type": "stream",
     "text": [
      "\r",
      "train minibatch loop:   0%|          | 0/9191 [00:00<?, ?it/s]"
     ]
    },
    {
     "name": "stdout",
     "output_type": "stream",
     "text": [
      "Kuala location\n",
      "Lumpur location\n",
      "Sempena OTHER\n",
      "sambutan OTHER\n",
      "Aidilfitri OTHER\n",
      "minggu OTHER\n",
      "depan OTHER\n",
      "Perdana person\n",
      "Menteri person\n",
      "Tun person\n",
      "Dr person\n",
      "Mahathir person\n",
      "Mohamad person\n",
      "dan OTHER\n",
      "Menteri person\n",
      "Pengangkutan person\n",
      "Anthony person\n",
      "Loke person\n",
      "Siew person\n",
      "Fook person\n",
      "menitipkan person\n",
      "pesanan OTHER\n",
      "khas OTHER\n",
      "kepada OTHER\n",
      "orang organization\n",
      "ramai OTHER\n",
      "yang OTHER\n",
      "mahu OTHER\n",
      "pulang OTHER\n",
      "ke OTHER\n",
      "kampung location\n",
      "halaman location\n",
      "masing-masing OTHER\n",
      "Dalam OTHER\n",
      "video OTHER\n",
      "pendek OTHER\n",
      "terbitan OTHER\n",
      "Jabatan organization\n",
      "Keselamatan organization\n",
      "Jalan organization\n",
      "Raya organization\n",
      "(Jkjr) person\n",
      "itu OTHER\n",
      "Dr person\n",
      "Mahathir person\n",
      "menasihati OTHER\n",
      "mereka OTHER\n",
      "supaya OTHER\n",
      "berhenti person\n",
      "berehat person\n",
      "dan OTHER\n",
      "tidur OTHER\n",
      "sebentar OTHER\n",
      "sekiranya OTHER\n",
      "mengantuk OTHER\n",
      "ketika OTHER\n",
      "memandu OTHER\n"
     ]
    },
    {
     "name": "stderr",
     "output_type": "stream",
     "text": [
      "train minibatch loop: 100%|██████████| 9191/9191 [1:54:50<00:00,  1.73it/s, accuracy=1, cost=0.000509]    \n",
      "test minibatch loop: 100%|██████████| 2298/2298 [12:40<00:00,  3.47it/s, accuracy=0.956, cost=22.7] "
     ]
    },
    {
     "name": "stdout",
     "output_type": "stream",
     "text": [
      "time taken: 7651.497144460678\n",
      "epoch: 2, training loss: 0.116464, training acc: 0.999273, valid loss: 13.835564, valid acc: 0.948873\n",
      "\n",
      "Kuala location\n",
      "Lumpur location\n",
      "Sempena OTHER\n",
      "sambutan OTHER\n",
      "Aidilfitri event\n",
      "minggu OTHER\n",
      "depan OTHER\n",
      "Perdana organization\n",
      "Menteri person\n",
      "Tun person\n",
      "Dr person\n",
      "Mahathir person\n",
      "Mohamad person\n",
      "dan OTHER\n",
      "Menteri person\n",
      "Pengangkutan person\n",
      "Anthony person\n",
      "Loke person\n",
      "Siew person\n",
      "Fook person\n",
      "menitipkan person\n",
      "pesanan OTHER\n",
      "khas OTHER\n",
      "kepada OTHER\n",
      "orang OTHER\n",
      "ramai OTHER\n",
      "yang OTHER\n",
      "mahu OTHER\n",
      "pulang OTHER\n",
      "ke OTHER\n",
      "kampung location\n",
      "halaman OTHER\n",
      "masing-masing OTHER\n",
      "Dalam OTHER\n",
      "video OTHER\n",
      "pendek OTHER\n",
      "terbitan OTHER\n",
      "Jabatan organization\n",
      "Keselamatan organization\n",
      "Jalan organization\n",
      "Raya organization\n",
      "(Jkjr) person\n",
      "itu OTHER\n",
      "Dr person\n",
      "Mahathir person\n",
      "menasihati OTHER\n",
      "mereka OTHER\n",
      "supaya OTHER\n",
      "berhenti OTHER\n",
      "berehat OTHER\n",
      "dan OTHER\n",
      "tidur OTHER\n",
      "sebentar OTHER\n",
      "sekiranya OTHER\n",
      "mengantuk organization\n",
      "ketika OTHER\n",
      "memandu OTHER\n"
     ]
    },
    {
     "name": "stderr",
     "output_type": "stream",
     "text": [
      "\n"
     ]
    }
   ],
   "source": [
    "from tqdm import tqdm\n",
    "import time\n",
    "\n",
    "for e in range(3):\n",
    "    lasttime = time.time()\n",
    "    train_acc, train_loss, test_acc, test_loss = 0, 0, 0, 0\n",
    "    pbar = tqdm(\n",
    "        range(0, train_X.shape[0], batch_size), desc = 'train minibatch loop'\n",
    "    )\n",
    "    for i in pbar:\n",
    "        index = min(i + batch_size, train_X.shape[0])\n",
    "        batch_x = train_X[i : index]\n",
    "        batch_char = generate_char_seq(batch_x)\n",
    "        batch_y = train_Y[i : index]\n",
    "        acc, cost, _ = sess.run(\n",
    "            [model.accuracy, model.cost, model.optimizer],\n",
    "            feed_dict = {\n",
    "                model.word_ids: batch_x,\n",
    "                model.char_ids: batch_char,\n",
    "                model.labels: batch_y\n",
    "            },\n",
    "        )\n",
    "        assert not np.isnan(cost)\n",
    "        train_loss += cost\n",
    "        train_acc += acc\n",
    "        pbar.set_postfix(cost = cost, accuracy = acc)\n",
    "        \n",
    "    pbar = tqdm(\n",
    "        range(0, test_X.shape[0], batch_size), desc = 'test minibatch loop'\n",
    "    )\n",
    "    for i in pbar:\n",
    "        index = min(i + batch_size, test_X.shape[0])\n",
    "        batch_x = test_X[i : index]\n",
    "        batch_char = generate_char_seq(batch_x)\n",
    "        batch_y = test_Y[i : index]\n",
    "        acc, cost = sess.run(\n",
    "            [model.accuracy, model.cost],\n",
    "            feed_dict = {\n",
    "                model.word_ids: batch_x,\n",
    "                model.char_ids: batch_char,\n",
    "                model.labels: batch_y\n",
    "            },\n",
    "        )\n",
    "        assert not np.isnan(cost)\n",
    "        test_loss += cost\n",
    "        test_acc += acc\n",
    "        pbar.set_postfix(cost = cost, accuracy = acc)\n",
    "    \n",
    "    train_loss /= len(train_X) / batch_size\n",
    "    train_acc /= len(train_X) / batch_size\n",
    "    test_loss /= len(test_X) / batch_size\n",
    "    test_acc /= len(test_X) / batch_size\n",
    "\n",
    "    print('time taken:', time.time() - lasttime)\n",
    "    print(\n",
    "        'epoch: %d, training loss: %f, training acc: %f, valid loss: %f, valid acc: %f\\n'\n",
    "        % (e, train_loss, train_acc, test_loss, test_acc)\n",
    "    )\n",
    "    \n",
    "    sequence = entities_textcleaning(string)[1]\n",
    "    X_seq = char_str_idx([sequence], word2idx, 2)\n",
    "    X_char_seq = generate_char_seq(X_seq)\n",
    "\n",
    "    predicted = sess.run(model.tags_seq,\n",
    "                feed_dict = {\n",
    "                    model.word_ids: X_seq,\n",
    "                    model.char_ids: X_char_seq,\n",
    "                },\n",
    "        )[0]\n",
    "\n",
    "    for i in range(len(predicted)):\n",
    "        print(sequence[i],idx2tag[predicted[i]])"
   ]
  },
  {
   "cell_type": "code",
   "execution_count": 16,
   "metadata": {},
   "outputs": [
    {
     "name": "stdout",
     "output_type": "stream",
     "text": [
      "mahathir person\n",
      "suka OTHER\n",
      "akta law\n",
      "19977 law\n"
     ]
    }
   ],
   "source": [
    "sequence = entities_textcleaning('mahathir suka akta 19977')[1]\n",
    "X_seq = char_str_idx([sequence], word2idx, 2)\n",
    "X_char_seq = generate_char_seq(X_seq)\n",
    "\n",
    "predicted = sess.run(model.tags_seq,\n",
    "            feed_dict = {\n",
    "                model.word_ids: X_seq,\n",
    "                model.char_ids: X_char_seq,\n",
    "            },\n",
    "    )[0]\n",
    "\n",
    "for i in range(len(predicted)):\n",
    "    print(sequence[i],idx2tag[predicted[i]])"
   ]
  },
  {
   "cell_type": "code",
   "execution_count": 17,
   "metadata": {},
   "outputs": [],
   "source": [
    "def pred2label(pred):\n",
    "    out = []\n",
    "    for pred_i in pred:\n",
    "        out_i = []\n",
    "        for p in pred_i:\n",
    "            out_i.append(idx2tag[p])\n",
    "        out.append(out_i)\n",
    "    return out"
   ]
  },
  {
   "cell_type": "code",
   "execution_count": 18,
   "metadata": {},
   "outputs": [
    {
     "name": "stderr",
     "output_type": "stream",
     "text": [
      "validation minibatch loop: 100%|██████████| 2298/2298 [12:14<00:00,  4.29it/s]\n"
     ]
    }
   ],
   "source": [
    "real_Y, predict_Y = [], []\n",
    "\n",
    "pbar = tqdm(\n",
    "    range(0, len(test_X), batch_size), desc = 'validation minibatch loop'\n",
    ")\n",
    "for i in pbar:\n",
    "    batch_x = test_X[i : min(i + batch_size, test_X.shape[0])]\n",
    "    batch_char = generate_char_seq(batch_x)\n",
    "    batch_y = test_Y[i : min(i + batch_size, test_X.shape[0])]\n",
    "    predicted = pred2label(sess.run(model.tags_seq,\n",
    "            feed_dict = {\n",
    "                model.word_ids: batch_x,\n",
    "                model.char_ids: batch_char,\n",
    "            },\n",
    "    ))\n",
    "    real = pred2label(batch_y)\n",
    "    predict_Y.extend(predicted)\n",
    "    real_Y.extend(real)"
   ]
  },
  {
   "cell_type": "code",
   "execution_count": 19,
   "metadata": {},
   "outputs": [
    {
     "name": "stdout",
     "output_type": "stream",
     "text": [
      "              precision    recall  f1-score   support\n",
      "\n",
      "       OTHER   0.974847  0.994647  0.984648   5160854\n",
      "       event   0.984159  0.230737  0.373830    143787\n",
      "         law   0.981267  0.869745  0.922146    146950\n",
      "    location   0.790109  0.969399  0.870619    428869\n",
      "organization   0.950195  0.736809  0.830007    694150\n",
      "      person   0.894418  0.951801  0.922218    507960\n",
      "    quantity   0.873435  0.996122  0.930753     88200\n",
      "        time   0.830533  0.994663  0.905218    179880\n",
      "\n",
      "    accuracy                       0.948443   7350650\n",
      "   macro avg   0.909871  0.842990  0.842430   7350650\n",
      "weighted avg   0.951745  0.948443  0.943289   7350650\n",
      "\n"
     ]
    }
   ],
   "source": [
    "from sklearn.metrics import classification_report\n",
    "print(classification_report(np.array(real_Y).ravel(), np.array(predict_Y).ravel(),\n",
    "                           digits = 6))"
   ]
  },
  {
   "cell_type": "code",
   "execution_count": 20,
   "metadata": {},
   "outputs": [
    {
     "data": {
      "text/plain": [
       "['Placeholder',\n",
       " 'Placeholder_1',\n",
       " 'Placeholder_2',\n",
       " 'Variable',\n",
       " 'Variable_1',\n",
       " 'bidirectional_rnn_char_0/fw/lstm_cell/kernel',\n",
       " 'bidirectional_rnn_char_0/fw/lstm_cell/bias',\n",
       " 'bidirectional_rnn_char_0/bw/lstm_cell/kernel',\n",
       " 'bidirectional_rnn_char_0/bw/lstm_cell/bias',\n",
       " 'bidirectional_rnn_char_1/fw/lstm_cell/kernel',\n",
       " 'bidirectional_rnn_char_1/fw/lstm_cell/bias',\n",
       " 'bidirectional_rnn_char_1/bw/lstm_cell/kernel',\n",
       " 'bidirectional_rnn_char_1/bw/lstm_cell/bias',\n",
       " 'memory_layer/kernel',\n",
       " 'memory_layer_1/kernel',\n",
       " 'bidirectional_rnn_word_0/fw/attention_wrapper/lstm_cell/kernel',\n",
       " 'bidirectional_rnn_word_0/fw/attention_wrapper/lstm_cell/bias',\n",
       " 'bidirectional_rnn_word_0/fw/attention_wrapper/bahdanau_attention/query_layer/kernel',\n",
       " 'bidirectional_rnn_word_0/fw/attention_wrapper/bahdanau_attention/attention_v',\n",
       " 'bidirectional_rnn_word_0/fw/attention_wrapper/attention_layer/kernel',\n",
       " 'bidirectional_rnn_word_0/bw/attention_wrapper/lstm_cell/kernel',\n",
       " 'bidirectional_rnn_word_0/bw/attention_wrapper/lstm_cell/bias',\n",
       " 'bidirectional_rnn_word_0/bw/attention_wrapper/bahdanau_attention/query_layer/kernel',\n",
       " 'bidirectional_rnn_word_0/bw/attention_wrapper/bahdanau_attention/attention_v',\n",
       " 'bidirectional_rnn_word_0/bw/attention_wrapper/attention_layer/kernel',\n",
       " 'memory_layer_2/kernel',\n",
       " 'memory_layer_3/kernel',\n",
       " 'bidirectional_rnn_word_1/fw/attention_wrapper/lstm_cell/kernel',\n",
       " 'bidirectional_rnn_word_1/fw/attention_wrapper/lstm_cell/bias',\n",
       " 'bidirectional_rnn_word_1/fw/attention_wrapper/bahdanau_attention/query_layer/kernel',\n",
       " 'bidirectional_rnn_word_1/fw/attention_wrapper/bahdanau_attention/attention_v',\n",
       " 'bidirectional_rnn_word_1/fw/attention_wrapper/attention_layer/kernel',\n",
       " 'bidirectional_rnn_word_1/bw/attention_wrapper/lstm_cell/kernel',\n",
       " 'bidirectional_rnn_word_1/bw/attention_wrapper/lstm_cell/bias',\n",
       " 'bidirectional_rnn_word_1/bw/attention_wrapper/bahdanau_attention/query_layer/kernel',\n",
       " 'bidirectional_rnn_word_1/bw/attention_wrapper/bahdanau_attention/attention_v',\n",
       " 'bidirectional_rnn_word_1/bw/attention_wrapper/attention_layer/kernel',\n",
       " 'dense/kernel',\n",
       " 'dense/bias',\n",
       " 'transitions',\n",
       " 'logits']"
      ]
     },
     "execution_count": 20,
     "metadata": {},
     "output_type": "execute_result"
    }
   ],
   "source": [
    "saver = tf.train.Saver(tf.trainable_variables())\n",
    "saver.save(sess, 'bahdanau/model.ckpt')\n",
    "\n",
    "strings = ','.join(\n",
    "    [\n",
    "        n.name\n",
    "        for n in tf.get_default_graph().as_graph_def().node\n",
    "        if ('Variable' in n.op\n",
    "        or 'Placeholder' in n.name\n",
    "        or 'logits' in n.name\n",
    "        or 'alphas' in n.name)\n",
    "        and 'Adam' not in n.name\n",
    "        and 'beta' not in n.name\n",
    "        and 'OptimizeLoss' not in n.name\n",
    "        and 'Global_Step' not in n.name\n",
    "    ]\n",
    ")\n",
    "strings.split(',')"
   ]
  },
  {
   "cell_type": "code",
   "execution_count": 21,
   "metadata": {},
   "outputs": [],
   "source": [
    "def freeze_graph(model_dir, output_node_names):\n",
    "\n",
    "    if not tf.gfile.Exists(model_dir):\n",
    "        raise AssertionError(\n",
    "            \"Export directory doesn't exists. Please specify an export \"\n",
    "            'directory: %s' % model_dir\n",
    "        )\n",
    "\n",
    "    checkpoint = tf.train.get_checkpoint_state(model_dir)\n",
    "    input_checkpoint = checkpoint.model_checkpoint_path\n",
    "\n",
    "    absolute_model_dir = '/'.join(input_checkpoint.split('/')[:-1])\n",
    "    output_graph = absolute_model_dir + '/frozen_model.pb'\n",
    "    clear_devices = True\n",
    "    with tf.Session(graph = tf.Graph()) as sess:\n",
    "        saver = tf.train.import_meta_graph(\n",
    "            input_checkpoint + '.meta', clear_devices = clear_devices\n",
    "        )\n",
    "        saver.restore(sess, input_checkpoint)\n",
    "        output_graph_def = tf.graph_util.convert_variables_to_constants(\n",
    "            sess,\n",
    "            tf.get_default_graph().as_graph_def(),\n",
    "            output_node_names.split(','),\n",
    "        )\n",
    "        with tf.gfile.GFile(output_graph, 'wb') as f:\n",
    "            f.write(output_graph_def.SerializeToString())\n",
    "        print('%d ops in the final graph.' % len(output_graph_def.node))\n",
    "        \n",
    "def load_graph(frozen_graph_filename):\n",
    "    with tf.gfile.GFile(frozen_graph_filename, 'rb') as f:\n",
    "        graph_def = tf.GraphDef()\n",
    "        graph_def.ParseFromString(f.read())\n",
    "    with tf.Graph().as_default() as graph:\n",
    "        tf.import_graph_def(graph_def)\n",
    "    return graph\n"
   ]
  },
  {
   "cell_type": "code",
   "execution_count": 22,
   "metadata": {},
   "outputs": [
    {
     "name": "stderr",
     "output_type": "stream",
     "text": [
      "W0803 00:46:58.110622 140429853955904 deprecation.py:323] From /usr/local/lib/python3.6/dist-packages/tensorflow/python/training/saver.py:1276: checkpoint_exists (from tensorflow.python.training.checkpoint_management) is deprecated and will be removed in a future version.\n",
      "Instructions for updating:\n",
      "Use standard file APIs to check for files with this prefix.\n",
      "W0803 00:46:58.593833 140429853955904 deprecation.py:323] From <ipython-input-21-3d8392da7830>:23: convert_variables_to_constants (from tensorflow.python.framework.graph_util_impl) is deprecated and will be removed in a future version.\n",
      "Instructions for updating:\n",
      "Use `tf.compat.v1.graph_util.convert_variables_to_constants`\n",
      "W0803 00:46:58.594611 140429853955904 deprecation.py:323] From /usr/local/lib/python3.6/dist-packages/tensorflow/python/framework/graph_util_impl.py:270: extract_sub_graph (from tensorflow.python.framework.graph_util_impl) is deprecated and will be removed in a future version.\n",
      "Instructions for updating:\n",
      "Use `tf.compat.v1.graph_util.extract_sub_graph`\n"
     ]
    },
    {
     "name": "stdout",
     "output_type": "stream",
     "text": [
      "1928 ops in the final graph.\n"
     ]
    }
   ],
   "source": [
    "freeze_graph('bahdanau', strings)"
   ]
  },
  {
   "cell_type": "code",
   "execution_count": 23,
   "metadata": {},
   "outputs": [],
   "source": [
    "g = load_graph('bahdanau/frozen_model.pb')"
   ]
  },
  {
   "cell_type": "code",
   "execution_count": 25,
   "metadata": {},
   "outputs": [
    {
     "name": "stderr",
     "output_type": "stream",
     "text": [
      "/usr/local/lib/python3.6/dist-packages/tensorflow/python/client/session.py:1735: UserWarning: An interactive session is already active. This can cause out-of-memory errors in some cases. You must explicitly call `InteractiveSession.close()` to release resources held by the other session(s).\n",
      "  warnings.warn('An interactive session is already active. This can '\n"
     ]
    }
   ],
   "source": [
    "word_ids = g.get_tensor_by_name('import/Placeholder:0')\n",
    "char_ids = g.get_tensor_by_name('import/Placeholder_1:0')\n",
    "tags_seq = g.get_tensor_by_name('import/logits:0')\n",
    "tags_state_fw = g.get_tensor_by_name('import/transitions:0')\n",
    "tags_state_bw = g.get_tensor_by_name('import/Variable:0')\n",
    "test_sess = tf.InteractiveSession(graph = g)\n",
    "predicted = test_sess.run([tags_seq, tags_state_fw, tags_state_bw],\n",
    "            feed_dict = {\n",
    "                word_ids: X_seq,\n",
    "                char_ids: X_char_seq,\n",
    "            })"
   ]
  },
  {
   "cell_type": "code",
   "execution_count": 26,
   "metadata": {},
   "outputs": [
    {
     "data": {
      "text/plain": [
       "[array([[6, 2, 8, 8]], dtype=int32),\n",
       " array([[-0.08600868, -0.3673812 , -6.0727143 , -4.3111515 , -3.144992  ,\n",
       "         -3.6502264 , -2.2521126 , -2.1055558 , -2.5405333 , -1.5567911 ],\n",
       "        [-0.19181503, -0.69721836, -5.6127443 , -4.5875454 , -3.4643524 ,\n",
       "         -3.7046876 , -2.973486  , -1.9980274 , -2.3059711 , -2.2200272 ],\n",
       "        [-4.2048063 , -4.8778405 ,  1.7996664 , -1.4549167 , -1.4113306 ,\n",
       "         -1.3110472 , -0.79679346, -1.2164339 , -1.6451806 , -1.3484511 ],\n",
       "        [-3.3417375 , -4.240648  , -1.4909729 ,  1.7231508 , -2.080556  ,\n",
       "         -2.6205368 , -1.1666468 , -3.0111673 , -5.055568  , -3.860059  ],\n",
       "        [-2.7892244 , -2.660718  , -0.8998524 , -2.5417776 ,  2.0364769 ,\n",
       "         -1.7014722 , -2.2487772 , -2.2349706 , -4.590649  , -2.542902  ],\n",
       "        [-2.6509175 , -3.3361633 , -1.3775858 , -1.8805891 , -1.8057353 ,\n",
       "          1.5868361 , -2.1673765 , -4.4093328 , -2.3444242 , -2.2622836 ],\n",
       "        [-2.6717138 , -3.228594  , -0.9509716 , -3.610709  , -1.414489  ,\n",
       "         -1.2622749 ,  1.9575217 , -1.3939179 , -2.8283854 , -2.6840954 ],\n",
       "        [-2.3268974 , -2.2160778 , -1.7262017 , -3.0691407 , -2.7231078 ,\n",
       "         -4.5506024 , -1.9936537 ,  1.6762549 , -7.118695  , -6.4397826 ],\n",
       "        [-2.6719513 , -1.9685316 , -1.6262059 , -3.6093843 , -2.492723  ,\n",
       "         -3.9779072 , -1.649492  , -6.2385063 ,  1.8707654 , -4.9299574 ],\n",
       "        [-2.1439462 , -2.335096  , -1.2659596 , -2.129423  , -2.6345384 ,\n",
       "         -0.94384485, -2.191074  , -5.2770796 , -5.0476093 ,  1.9215627 ]],\n",
       "       dtype=float32),\n",
       " array([[-0.0716918 , -0.11218391, -0.01166906, ...,  0.17281207,\n",
       "         -0.05947913, -0.1470708 ],\n",
       "        [-0.04837331,  0.01773088,  0.00207307, ...,  0.05172361,\n",
       "         -0.03810926, -0.11006851],\n",
       "        [-0.00570843, -0.10027178, -0.08150742, ..., -0.03288291,\n",
       "          0.16000962, -0.07564873],\n",
       "        ...,\n",
       "        [-0.06006321,  0.06504012,  0.00054497, ...,  0.04862266,\n",
       "          0.14526981,  0.11934299],\n",
       "        [ 0.04587488,  0.16395555,  0.10003808, ...,  0.00434222,\n",
       "         -0.00917401,  0.03915589],\n",
       "        [ 0.07355458,  0.03575774, -0.0339374 , ...,  0.10731535,\n",
       "         -0.08410063,  0.11078626]], dtype=float32)]"
      ]
     },
     "execution_count": 26,
     "metadata": {},
     "output_type": "execute_result"
    }
   ],
   "source": [
    "predicted"
   ]
  },
  {
   "cell_type": "code",
   "execution_count": null,
   "metadata": {},
   "outputs": [],
   "source": []
  }
 ],
 "metadata": {
  "kernelspec": {
   "display_name": "Python 3",
   "language": "python",
   "name": "python3"
  },
  "language_info": {
   "codemirror_mode": {
    "name": "ipython",
    "version": 3
   },
   "file_extension": ".py",
   "mimetype": "text/x-python",
   "name": "python",
   "nbconvert_exporter": "python",
   "pygments_lexer": "ipython3",
   "version": "3.6.8"
  }
 },
 "nbformat": 4,
 "nbformat_minor": 2
}
