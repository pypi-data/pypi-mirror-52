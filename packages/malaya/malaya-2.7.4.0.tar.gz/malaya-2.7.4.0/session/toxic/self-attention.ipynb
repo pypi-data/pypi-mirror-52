{
 "cells": [
  {
   "cell_type": "code",
   "execution_count": 1,
   "metadata": {},
   "outputs": [
    {
     "name": "stderr",
     "output_type": "stream",
     "text": [
      "/usr/local/lib/python3.6/dist-packages/sklearn/cross_validation.py:41: DeprecationWarning: This module was deprecated in version 0.18 in favor of the model_selection module into which all the refactored classes and functions are moved. Also note that the interface of the new CV iterators are different from that of this module. This module will be removed in 0.20.\n",
      "  \"This module will be removed in 0.20.\", DeprecationWarning)\n"
     ]
    }
   ],
   "source": [
    "import re\n",
    "import numpy as np\n",
    "import collections\n",
    "from sklearn import metrics\n",
    "from sklearn.cross_validation import train_test_split\n",
    "import tensorflow as tf\n",
    "import pandas as pd\n",
    "from unidecode import unidecode\n",
    "from sklearn.preprocessing import LabelEncoder\n",
    "from tqdm import tqdm\n",
    "import time\n",
    "import malaya"
   ]
  },
  {
   "cell_type": "code",
   "execution_count": 2,
   "metadata": {},
   "outputs": [],
   "source": [
    "tokenizer = malaya.preprocessing._SocialTokenizer().tokenize\n",
    "rules_normalizer = malaya.texts._tatabahasa.rules_normalizer\n",
    "\n",
    "def is_number_regex(s):\n",
    "    if re.match(\"^\\d+?\\.\\d+?$\", s) is None:\n",
    "        return s.isdigit()\n",
    "    return True\n",
    "\n",
    "def detect_money(word):\n",
    "    if word[:2] == 'rm' and is_number_regex(word[2:]):\n",
    "        return True\n",
    "    else:\n",
    "        return False\n",
    "\n",
    "def preprocessing(string):\n",
    "    tokenized = tokenizer(unidecode(string))\n",
    "    tokenized = [malaya.stem.naive(w) for w in tokenized]\n",
    "    tokenized = [w.lower() for w in tokenized if len(w) > 1]\n",
    "    tokenized = [rules_normalizer.get(w, w) for w in tokenized]\n",
    "    tokenized = ['<NUM>' if is_number_regex(w) else w for w in tokenized]\n",
    "    tokenized = ['<MONEY>' if detect_money(w) else w for w in tokenized]\n",
    "    return tokenized"
   ]
  },
  {
   "cell_type": "code",
   "execution_count": 3,
   "metadata": {},
   "outputs": [],
   "source": [
    "def build_dataset(words, n_words):\n",
    "    count = [['GO', 0], ['PAD', 1], ['EOS', 2], ['UNK', 3]]\n",
    "    counter = collections.Counter(words).most_common(n_words)\n",
    "    count.extend(counter)\n",
    "    dictionary = dict()\n",
    "    for word, _ in count:\n",
    "        dictionary[word] = len(dictionary)\n",
    "    data = list()\n",
    "    unk_count = 0\n",
    "    for word in words:\n",
    "        index = dictionary.get(word, 3)\n",
    "        if index == 0:\n",
    "            unk_count += 1\n",
    "        data.append(index)\n",
    "    count[0][1] = unk_count\n",
    "    reversed_dictionary = dict(zip(dictionary.values(), dictionary.keys()))\n",
    "    return data, count, dictionary, reversed_dictionary\n",
    "\n",
    "def str_idx(corpus, dic, maxlen, UNK = 3):\n",
    "    X = np.zeros((len(corpus), maxlen))\n",
    "    for i in range(len(corpus)):\n",
    "        for no, k in enumerate(corpus[i][:maxlen][::-1]):\n",
    "            X[i, -1 - no] = dic.get(k, UNK)\n",
    "    return X"
   ]
  },
  {
   "cell_type": "code",
   "execution_count": 4,
   "metadata": {},
   "outputs": [],
   "source": [
    "import json\n",
    "\n",
    "with open('tokenized.json') as fopen:\n",
    "    dataset = json.load(fopen)\n",
    "texts = dataset['x']\n",
    "labels = dataset['y']\n",
    "del dataset"
   ]
  },
  {
   "cell_type": "code",
   "execution_count": 5,
   "metadata": {},
   "outputs": [],
   "source": [
    "with open('toxicity-dictionary.json') as fopen:\n",
    "    dataset = json.load(fopen)\n",
    "    \n",
    "dictionary = dataset['dictionary']\n",
    "rev_dictionary = dataset['reverse_dictionary']"
   ]
  },
  {
   "cell_type": "code",
   "execution_count": 6,
   "metadata": {},
   "outputs": [],
   "source": [
    "def position_encoding(inputs):\n",
    "    T = tf.shape(inputs)[1]\n",
    "    repr_dim = inputs.get_shape()[-1].value\n",
    "    pos = tf.reshape(tf.range(0.0, tf.to_float(T), dtype=tf.float32), [-1, 1])\n",
    "    i = np.arange(0, repr_dim, 2, np.float32)\n",
    "    denom = np.reshape(np.power(10000.0, i / repr_dim), [1, -1])\n",
    "    enc = tf.expand_dims(tf.concat([tf.sin(pos / denom), tf.cos(pos / denom)], 1), 0)\n",
    "    return tf.tile(enc, [tf.shape(inputs)[0], 1, 1])\n",
    "\n",
    "def layer_norm(inputs, epsilon=1e-8):\n",
    "    mean, variance = tf.nn.moments(inputs, [-1], keep_dims=True)\n",
    "    normalized = (inputs - mean) / (tf.sqrt(variance + epsilon))\n",
    "    params_shape = inputs.get_shape()[-1:]\n",
    "    gamma = tf.get_variable('gamma', params_shape, tf.float32, tf.ones_initializer())\n",
    "    beta = tf.get_variable('beta', params_shape, tf.float32, tf.zeros_initializer())\n",
    "    return gamma * normalized + beta\n",
    "\n",
    "def Attention(inputs, num_units, num_heads = 8, activation = None):\n",
    "    inputs = tf.layers.dropout(inputs, 0.3, training=True)\n",
    "    T_q = T_k = tf.shape(inputs)[1]\n",
    "    Q_K_V = tf.layers.dense(inputs, 3*num_units, activation)\n",
    "    Q, K, V = tf.split(Q_K_V, 3, -1)\n",
    "    Q_ = tf.concat(tf.split(Q, num_heads, axis=2), 0)\n",
    "    K_ = tf.concat(tf.split(K, num_heads, axis=2), 0)\n",
    "    V_ = tf.concat(tf.split(V, num_heads, axis=2), 0)\n",
    "    align = tf.matmul(Q_, K_, transpose_b=True)\n",
    "    align *= tf.rsqrt(tf.to_float(K_.get_shape()[-1].value))\n",
    "    paddings = tf.fill(tf.shape(align), float('-inf'))\n",
    "    lower_tri = tf.ones([T_q, T_k])\n",
    "    lower_tri = tf.linalg.LinearOperatorLowerTriangular(lower_tri).to_dense()\n",
    "    masks = tf.tile(tf.expand_dims(lower_tri,0), [tf.shape(align)[0],1,1])\n",
    "    align = tf.where(tf.equal(masks, 0), paddings, align)\n",
    "    align = tf.nn.softmax(align)\n",
    "    alignments = tf.transpose(align, [0, 2, 1]) \n",
    "    x = tf.matmul(align, V_)\n",
    "    x = tf.concat(tf.split(x, num_heads, axis=0), 2)\n",
    "    x += inputs\n",
    "    x = layer_norm(x)\n",
    "    return x, alignments\n",
    "\n",
    "class Model:\n",
    "    def __init__(self, size_layer, embed_size, dict_size, dimension_output, learning_rate = 1e-3):\n",
    "        self.X = tf.placeholder(tf.int32, [None, None])\n",
    "        self.Y = tf.placeholder(tf.float32, [None, dimension_output])\n",
    "        \n",
    "        encoder_embeddings = tf.Variable(tf.random_uniform([dict_size, embed_size], -1, 1))\n",
    "        x = tf.nn.embedding_lookup(encoder_embeddings, self.X)\n",
    "        x += position_encoding(x)\n",
    "        x = tf.layers.dropout(x, 0.3, training=True) \n",
    "        \n",
    "        x, self.alignments = Attention(x, size_layer)\n",
    "        self.logits_seq = tf.layers.dense(x, dimension_output)\n",
    "        self.logits_seq = tf.identity(self.logits_seq, name = 'logits_seq')\n",
    "        self.logits = self.logits_seq[:,-1]\n",
    "        self.logits = tf.identity(self.logits, name = 'logits')\n",
    "\n",
    "        self.cost = tf.reduce_mean(\n",
    "            tf.nn.sigmoid_cross_entropy_with_logits(\n",
    "                logits = self.logits, labels = self.Y\n",
    "            )\n",
    "        )\n",
    "        self.optimizer = tf.train.AdamOptimizer(\n",
    "            learning_rate = learning_rate\n",
    "        ).minimize(self.cost)\n",
    "        correct_prediction = tf.equal(tf.round(tf.nn.sigmoid(self.logits)), tf.round(self.Y))\n",
    "        all_labels_true = tf.reduce_min(tf.cast(correct_prediction, tf.float32), 1)\n",
    "        self.accuracy = tf.reduce_mean(all_labels_true)\n",
    "        self.attention = tf.identity(tf.reduce_mean(self.alignments[0], 1), name = 'alphas')"
   ]
  },
  {
   "cell_type": "code",
   "execution_count": 8,
   "metadata": {},
   "outputs": [
    {
     "data": {
      "text/plain": [
       "'only-attention/model.ckpt'"
      ]
     },
     "execution_count": 8,
     "metadata": {},
     "output_type": "execute_result"
    }
   ],
   "source": [
    "size_layer = 256\n",
    "num_layers = 2\n",
    "dimension_output = len(labels[0])\n",
    "learning_rate = 1e-4\n",
    "batch_size = 32\n",
    "dropout = 0.8\n",
    "maxlen = 100\n",
    "\n",
    "tf.reset_default_graph()\n",
    "sess = tf.InteractiveSession()\n",
    "model = Model(\n",
    "    size_layer,\n",
    "    size_layer,\n",
    "    len(dictionary),\n",
    "    dimension_output,\n",
    "    learning_rate,\n",
    ")\n",
    "sess.run(tf.global_variables_initializer())\n",
    "saver = tf.train.Saver(tf.trainable_variables())\n",
    "saver.save(sess, 'only-attention/model.ckpt')"
   ]
  },
  {
   "cell_type": "code",
   "execution_count": 9,
   "metadata": {},
   "outputs": [],
   "source": [
    "strings = ','.join(\n",
    "    [\n",
    "        n.name\n",
    "        for n in tf.get_default_graph().as_graph_def().node\n",
    "        if ('Variable' in n.op\n",
    "        or 'Placeholder' in n.name\n",
    "        or 'logits' in n.name\n",
    "        or 'alphas' in n.name)\n",
    "        and 'Adam' not in n.name\n",
    "        and '_power' not in n.name\n",
    "    ]\n",
    ")"
   ]
  },
  {
   "cell_type": "code",
   "execution_count": 10,
   "metadata": {},
   "outputs": [
    {
     "data": {
      "text/plain": [
       "['Placeholder',\n",
       " 'Placeholder_1',\n",
       " 'Variable',\n",
       " 'dense/kernel',\n",
       " 'dense/bias',\n",
       " 'gamma',\n",
       " 'beta',\n",
       " 'dense_1/kernel',\n",
       " 'dense_1/bias',\n",
       " 'logits_seq',\n",
       " 'logits',\n",
       " 'alphas']"
      ]
     },
     "execution_count": 10,
     "metadata": {},
     "output_type": "execute_result"
    }
   ],
   "source": [
    "strings.split(',')"
   ]
  },
  {
   "cell_type": "code",
   "execution_count": 11,
   "metadata": {},
   "outputs": [],
   "source": [
    "train_X, test_X, train_Y, test_Y = train_test_split(\n",
    "    texts, labels, test_size = 0.2\n",
    ")"
   ]
  },
  {
   "cell_type": "code",
   "execution_count": 12,
   "metadata": {},
   "outputs": [
    {
     "name": "stderr",
     "output_type": "stream",
     "text": [
      "train minibatch loop: 100%|██████████| 4801/4801 [03:51<00:00, 20.95it/s, accuracy=0.913, cost=0.147] \n",
      "test minibatch loop: 100%|██████████| 1201/1201 [00:10<00:00, 114.96it/s, accuracy=1, cost=0.0164]    \n",
      "train minibatch loop:   0%|          | 3/4801 [00:00<03:50, 20.80it/s, accuracy=0.812, cost=0.181] "
     ]
    },
    {
     "name": "stdout",
     "output_type": "stream",
     "text": [
      "epoch: 0, pass acc: 0.000000, current acc: 0.898323\n",
      "time taken: 241.76166892051697\n",
      "epoch: 0, training loss: 0.136506, training acc: 0.892439, valid loss: 0.116839, valid acc: 0.898323\n",
      "\n"
     ]
    },
    {
     "name": "stderr",
     "output_type": "stream",
     "text": [
      "train minibatch loop: 100%|██████████| 4801/4801 [03:51<00:00, 20.78it/s, accuracy=0.913, cost=0.0951]\n",
      "test minibatch loop: 100%|██████████| 1201/1201 [00:10<00:00, 116.02it/s, accuracy=1, cost=0.0113]    \n",
      "train minibatch loop:   0%|          | 3/4801 [00:00<03:50, 20.85it/s, accuracy=0.844, cost=0.136] "
     ]
    },
    {
     "name": "stdout",
     "output_type": "stream",
     "text": [
      "epoch: 1, pass acc: 0.898323, current acc: 0.898948\n",
      "time taken: 241.37779450416565\n",
      "epoch: 1, training loss: 0.103845, training acc: 0.900745, valid loss: 0.102865, valid acc: 0.898948\n",
      "\n"
     ]
    },
    {
     "name": "stderr",
     "output_type": "stream",
     "text": [
      "train minibatch loop: 100%|██████████| 4801/4801 [03:50<00:00, 20.80it/s, accuracy=0.913, cost=0.0977]\n",
      "test minibatch loop: 100%|██████████| 1201/1201 [00:10<00:00, 115.86it/s, accuracy=1, cost=0.00858]   \n",
      "train minibatch loop:   0%|          | 3/4801 [00:00<03:51, 20.72it/s, accuracy=0.844, cost=0.121] "
     ]
    },
    {
     "name": "stdout",
     "output_type": "stream",
     "text": [
      "epoch: 2, pass acc: 0.898948, current acc: 0.899547\n",
      "time taken: 241.21398639678955\n",
      "epoch: 2, training loss: 0.095066, training acc: 0.901422, valid loss: 0.097260, valid acc: 0.899547\n",
      "\n"
     ]
    },
    {
     "name": "stderr",
     "output_type": "stream",
     "text": [
      "train minibatch loop: 100%|██████████| 4801/4801 [03:50<00:00, 20.80it/s, accuracy=0.957, cost=0.0653]\n",
      "test minibatch loop: 100%|██████████| 1201/1201 [00:10<00:00, 115.93it/s, accuracy=1, cost=0.0129]    \n",
      "train minibatch loop:   0%|          | 3/4801 [00:00<03:50, 20.82it/s, accuracy=0.812, cost=0.134] "
     ]
    },
    {
     "name": "stdout",
     "output_type": "stream",
     "text": [
      "epoch: 3, pass acc: 0.899547, current acc: 0.899833\n",
      "time taken: 241.1545877456665\n",
      "epoch: 3, training loss: 0.089557, training acc: 0.902200, valid loss: 0.091514, valid acc: 0.899833\n",
      "\n"
     ]
    },
    {
     "name": "stderr",
     "output_type": "stream",
     "text": [
      "train minibatch loop: 100%|██████████| 4801/4801 [03:50<00:00, 20.81it/s, accuracy=0.957, cost=0.0866]\n",
      "test minibatch loop: 100%|██████████| 1201/1201 [00:10<00:00, 115.74it/s, accuracy=1, cost=0.00427]   \n",
      "train minibatch loop:   0%|          | 3/4801 [00:00<03:50, 20.80it/s, accuracy=0.812, cost=0.121] "
     ]
    },
    {
     "name": "stdout",
     "output_type": "stream",
     "text": [
      "epoch: 4, pass acc: 0.899833, current acc: 0.901213\n",
      "time taken: 241.13759565353394\n",
      "epoch: 4, training loss: 0.085141, training acc: 0.902818, valid loss: 0.087218, valid acc: 0.901213\n",
      "\n"
     ]
    },
    {
     "name": "stderr",
     "output_type": "stream",
     "text": [
      "train minibatch loop: 100%|██████████| 4801/4801 [03:50<00:00, 20.80it/s, accuracy=0.957, cost=0.0694]\n",
      "test minibatch loop: 100%|██████████| 1201/1201 [00:10<00:00, 116.05it/s, accuracy=1, cost=0.0121]    \n",
      "train minibatch loop:   0%|          | 3/4801 [00:00<03:50, 20.86it/s, accuracy=0.844, cost=0.0863]"
     ]
    },
    {
     "name": "stdout",
     "output_type": "stream",
     "text": [
      "epoch: 5, pass acc: 0.901213, current acc: 0.901838\n",
      "time taken: 241.12765336036682\n",
      "epoch: 5, training loss: 0.080834, training acc: 0.904100, valid loss: 0.083214, valid acc: 0.901838\n",
      "\n"
     ]
    },
    {
     "name": "stderr",
     "output_type": "stream",
     "text": [
      "train minibatch loop: 100%|██████████| 4801/4801 [03:50<00:00, 20.82it/s, accuracy=0.957, cost=0.0647]\n",
      "test minibatch loop: 100%|██████████| 1201/1201 [00:10<00:00, 116.37it/s, accuracy=1, cost=0.0132]    \n",
      "train minibatch loop:   0%|          | 3/4801 [00:00<03:49, 20.90it/s, accuracy=0.781, cost=0.0845]"
     ]
    },
    {
     "name": "stdout",
     "output_type": "stream",
     "text": [
      "epoch: 6, pass acc: 0.901838, current acc: 0.903296\n",
      "time taken: 240.9689075946808\n",
      "epoch: 6, training loss: 0.077272, training acc: 0.904784, valid loss: 0.080238, valid acc: 0.903296\n",
      "\n"
     ]
    },
    {
     "name": "stderr",
     "output_type": "stream",
     "text": [
      "train minibatch loop: 100%|██████████| 4801/4801 [03:50<00:00, 20.81it/s, accuracy=0.957, cost=0.0635]\n",
      "test minibatch loop: 100%|██████████| 1201/1201 [00:10<00:00, 116.38it/s, accuracy=1, cost=0.00489]   \n",
      "train minibatch loop:   0%|          | 3/4801 [00:00<03:50, 20.82it/s, accuracy=0.812, cost=0.0957]"
     ]
    },
    {
     "name": "stdout",
     "output_type": "stream",
     "text": [
      "time taken: 241.00552201271057\n",
      "epoch: 7, training loss: 0.074848, training acc: 0.905487, valid loss: 0.079158, valid acc: 0.903270\n",
      "\n"
     ]
    },
    {
     "name": "stderr",
     "output_type": "stream",
     "text": [
      "train minibatch loop: 100%|██████████| 4801/4801 [03:50<00:00, 20.82it/s, accuracy=0.957, cost=0.0493]\n",
      "test minibatch loop: 100%|██████████| 1201/1201 [00:10<00:00, 116.43it/s, accuracy=1, cost=0.00674]   \n",
      "train minibatch loop:   0%|          | 3/4801 [00:00<03:50, 20.81it/s, accuracy=0.812, cost=0.129] "
     ]
    },
    {
     "name": "stdout",
     "output_type": "stream",
     "text": [
      "time taken: 240.9566683769226\n",
      "epoch: 8, training loss: 0.072807, training acc: 0.906307, valid loss: 0.076968, valid acc: 0.903140\n",
      "\n"
     ]
    },
    {
     "name": "stderr",
     "output_type": "stream",
     "text": [
      "train minibatch loop: 100%|██████████| 4801/4801 [03:50<00:00, 20.82it/s, accuracy=0.957, cost=0.0676]\n",
      "test minibatch loop: 100%|██████████| 1201/1201 [00:10<00:00, 116.35it/s, accuracy=1, cost=0.00612]   "
     ]
    },
    {
     "name": "stdout",
     "output_type": "stream",
     "text": [
      "time taken: 240.97234177589417\n",
      "epoch: 9, training loss: 0.071114, training acc: 0.907869, valid loss: 0.075624, valid acc: 0.902671\n",
      "\n",
      "break epoch:10\n",
      "\n"
     ]
    },
    {
     "name": "stderr",
     "output_type": "stream",
     "text": [
      "\n"
     ]
    }
   ],
   "source": [
    "from tqdm import tqdm\n",
    "import time\n",
    "\n",
    "EARLY_STOPPING, CURRENT_CHECKPOINT, CURRENT_ACC, EPOCH = 3, 0, 0, 0\n",
    "\n",
    "while True:\n",
    "    lasttime = time.time()\n",
    "    if CURRENT_CHECKPOINT == EARLY_STOPPING:\n",
    "        print('break epoch:%d\\n' % (EPOCH))\n",
    "        break\n",
    "\n",
    "    train_acc, train_loss, test_acc, test_loss = 0, 0, 0, 0\n",
    "    pbar = tqdm(\n",
    "        range(0, len(train_X), batch_size), desc = 'train minibatch loop'\n",
    "    )\n",
    "    for i in pbar:\n",
    "        batch_x = str_idx(train_X[i : min(i + batch_size, len(train_X))], dictionary, maxlen)\n",
    "        batch_y = train_Y[i : min(i + batch_size, len(train_X))]\n",
    "        batch_x_expand = np.expand_dims(batch_x,axis = 1)\n",
    "        acc, cost, _ = sess.run(\n",
    "            [model.accuracy, model.cost, model.optimizer],\n",
    "            feed_dict = {\n",
    "                model.Y: batch_y,\n",
    "                model.X: batch_x\n",
    "            },\n",
    "        )\n",
    "        assert not np.isnan(cost)\n",
    "        train_loss += cost\n",
    "        train_acc += acc\n",
    "        pbar.set_postfix(cost = cost, accuracy = acc)\n",
    "\n",
    "    pbar = tqdm(range(0, len(test_X), batch_size), desc = 'test minibatch loop')\n",
    "    for i in pbar:\n",
    "        batch_x = str_idx(test_X[i : min(i + batch_size, len(test_X))], dictionary, maxlen)\n",
    "        batch_y = test_Y[i : min(i + batch_size, len(test_X))]\n",
    "        batch_x_expand = np.expand_dims(batch_x,axis = 1)\n",
    "        acc, cost = sess.run(\n",
    "            [model.accuracy, model.cost],\n",
    "            feed_dict = {\n",
    "                model.Y: batch_y,\n",
    "                model.X: batch_x\n",
    "            },\n",
    "        )\n",
    "        test_loss += cost\n",
    "        test_acc += acc\n",
    "        pbar.set_postfix(cost = cost, accuracy = acc)\n",
    "\n",
    "    train_loss /= len(train_X) / batch_size\n",
    "    train_acc /= len(train_X) / batch_size\n",
    "    test_loss /= len(test_X) / batch_size\n",
    "    test_acc /= len(test_X) / batch_size\n",
    "\n",
    "    if test_acc > CURRENT_ACC:\n",
    "        print(\n",
    "            'epoch: %d, pass acc: %f, current acc: %f'\n",
    "            % (EPOCH, CURRENT_ACC, test_acc)\n",
    "        )\n",
    "        CURRENT_ACC = test_acc\n",
    "        CURRENT_CHECKPOINT = 0\n",
    "    else:\n",
    "        CURRENT_CHECKPOINT += 1\n",
    "        \n",
    "    print('time taken:', time.time() - lasttime)\n",
    "    print(\n",
    "        'epoch: %d, training loss: %f, training acc: %f, valid loss: %f, valid acc: %f\\n'\n",
    "        % (EPOCH, train_loss, train_acc, test_loss, test_acc)\n",
    "    )\n",
    "    EPOCH += 1"
   ]
  },
  {
   "cell_type": "code",
   "execution_count": 13,
   "metadata": {},
   "outputs": [
    {
     "data": {
      "text/plain": [
       "'only-attention/model.ckpt'"
      ]
     },
     "execution_count": 13,
     "metadata": {},
     "output_type": "execute_result"
    }
   ],
   "source": [
    "saver.save(sess, 'only-attention/model.ckpt')"
   ]
  },
  {
   "cell_type": "code",
   "execution_count": 14,
   "metadata": {},
   "outputs": [
    {
     "data": {
      "text/plain": [
       "array([[0.3315015 , 0.01869684, 0.01216965, 0.0163636 , 0.13262893,\n",
       "        0.2729065 ]], dtype=float32)"
      ]
     },
     "execution_count": 14,
     "metadata": {},
     "output_type": "execute_result"
    }
   ],
   "source": [
    "text = preprocessing('kerajaan sebenarnya sangat bencikan rakyatnya, minyak naik dan segalanya, tapi gay bodoh')\n",
    "new_vector = str_idx([text], dictionary, len(text))\n",
    "sess.run(tf.nn.sigmoid(model.logits), feed_dict={model.X:new_vector})"
   ]
  },
  {
   "cell_type": "code",
   "execution_count": 15,
   "metadata": {},
   "outputs": [
    {
     "data": {
      "text/plain": [
       "array([[[6.0652354e-04, 2.0123320e-03, 3.6770976e-04, 5.6917855e-04,\n",
       "         5.6679390e-04, 1.6016341e-04],\n",
       "        [2.3726411e-02, 2.2312617e-03, 4.8197052e-03, 3.8309365e-03,\n",
       "         1.2273437e-02, 8.0383808e-04],\n",
       "        [3.0553021e-02, 1.1963643e-03, 6.8286746e-03, 3.5382356e-03,\n",
       "         1.4238680e-02, 3.3079090e-03],\n",
       "        [5.4060578e-01, 2.3816165e-02, 1.3812222e-01, 2.4328912e-02,\n",
       "         2.4560468e-01, 1.7712797e-01],\n",
       "        [2.5152368e-02, 1.3602711e-02, 1.9648230e-02, 3.0212464e-02,\n",
       "         3.0157235e-02, 4.1573965e-03],\n",
       "        [3.1011924e-01, 1.3457464e-02, 5.2210525e-02, 7.1576461e-03,\n",
       "         7.0590921e-02, 3.2955125e-02],\n",
       "        [1.4057975e-01, 9.1796927e-03, 2.1016650e-02, 6.6841869e-03,\n",
       "         6.6434622e-02, 2.4952630e-02],\n",
       "        [8.5335553e-02, 6.3630124e-03, 6.5950956e-03, 9.5213028e-03,\n",
       "         1.0843368e-02, 4.7159046e-03],\n",
       "        [1.4287944e-01, 3.9729971e-02, 1.0572384e-02, 3.2806691e-02,\n",
       "         4.5657966e-02, 1.2052376e-02],\n",
       "        [6.8305159e-01, 4.0031414e-02, 7.7751651e-02, 4.6016548e-02,\n",
       "         2.6727679e-01, 7.8109550e-01],\n",
       "        [6.5138584e-01, 2.6553741e-02, 9.3563750e-02, 1.6967397e-02,\n",
       "         4.2986467e-01, 1.1506282e-01]]], dtype=float32)"
      ]
     },
     "execution_count": 15,
     "metadata": {},
     "output_type": "execute_result"
    }
   ],
   "source": [
    "sess.run(tf.nn.sigmoid(model.logits_seq), feed_dict={model.X:new_vector})"
   ]
  },
  {
   "cell_type": "code",
   "execution_count": 16,
   "metadata": {},
   "outputs": [],
   "source": [
    "stack = []\n",
    "pbar = range(0, len(test_X), batch_size)\n",
    "for i in pbar:\n",
    "    batch_x = str_idx(test_X[i : min(i + batch_size, len(test_X))], dictionary, maxlen)\n",
    "    batch_y = test_Y[i : min(i + batch_size, len(test_X))]\n",
    "    stack.append(sess.run(tf.nn.sigmoid(model.logits),\n",
    "                         feed_dict = {model.X: batch_x}))"
   ]
  },
  {
   "cell_type": "code",
   "execution_count": 17,
   "metadata": {},
   "outputs": [
    {
     "name": "stdout",
     "output_type": "stream",
     "text": [
      "               precision    recall  f1-score   support\n",
      "\n",
      "        toxic       0.80      0.53      0.64      3806\n",
      " severe_toxic       0.55      0.17      0.26       417\n",
      "      obscene       0.80      0.55      0.65      2106\n",
      "       threat       0.43      0.02      0.05       122\n",
      "       insult       0.73      0.46      0.56      1989\n",
      "identity_hate       0.54      0.12      0.20       343\n",
      "\n",
      "  avg / total       0.76      0.48      0.58      8783\n",
      "\n"
     ]
    }
   ],
   "source": [
    "print(metrics.classification_report(np.array(test_Y),np.around(np.concatenate(stack,axis=0)),\n",
    "                                    target_names=[\"toxic\", \"severe_toxic\", \"obscene\", \n",
    "                                            \"threat\", \"insult\", \"identity_hate\"]))"
   ]
  },
  {
   "cell_type": "code",
   "execution_count": 18,
   "metadata": {},
   "outputs": [],
   "source": [
    "def freeze_graph(model_dir, output_node_names):\n",
    "\n",
    "    if not tf.gfile.Exists(model_dir):\n",
    "        raise AssertionError(\n",
    "            \"Export directory doesn't exists. Please specify an export \"\n",
    "            'directory: %s' % model_dir\n",
    "        )\n",
    "\n",
    "    checkpoint = tf.train.get_checkpoint_state(model_dir)\n",
    "    input_checkpoint = checkpoint.model_checkpoint_path\n",
    "\n",
    "    absolute_model_dir = '/'.join(input_checkpoint.split('/')[:-1])\n",
    "    output_graph = absolute_model_dir + '/frozen_model.pb'\n",
    "    clear_devices = True\n",
    "    with tf.Session(graph = tf.Graph()) as sess:\n",
    "        saver = tf.train.import_meta_graph(\n",
    "            input_checkpoint + '.meta', clear_devices = clear_devices\n",
    "        )\n",
    "        saver.restore(sess, input_checkpoint)\n",
    "        output_graph_def = tf.graph_util.convert_variables_to_constants(\n",
    "            sess,\n",
    "            tf.get_default_graph().as_graph_def(),\n",
    "            output_node_names.split(','),\n",
    "        )\n",
    "        with tf.gfile.GFile(output_graph, 'wb') as f:\n",
    "            f.write(output_graph_def.SerializeToString())\n",
    "        print('%d ops in the final graph.' % len(output_graph_def.node))"
   ]
  },
  {
   "cell_type": "code",
   "execution_count": 19,
   "metadata": {},
   "outputs": [
    {
     "name": "stdout",
     "output_type": "stream",
     "text": [
      "INFO:tensorflow:Restoring parameters from only-attention/model.ckpt\n",
      "INFO:tensorflow:Froze 7 variables.\n",
      "INFO:tensorflow:Converted 7 variables to const ops.\n",
      "248 ops in the final graph.\n"
     ]
    }
   ],
   "source": [
    "freeze_graph('only-attention', strings)"
   ]
  },
  {
   "cell_type": "code",
   "execution_count": 20,
   "metadata": {},
   "outputs": [],
   "source": [
    "def load_graph(frozen_graph_filename):\n",
    "    with tf.gfile.GFile(frozen_graph_filename, 'rb') as f:\n",
    "        graph_def = tf.GraphDef()\n",
    "        graph_def.ParseFromString(f.read())\n",
    "    with tf.Graph().as_default() as graph:\n",
    "        tf.import_graph_def(graph_def)\n",
    "    return graph"
   ]
  },
  {
   "cell_type": "code",
   "execution_count": 21,
   "metadata": {},
   "outputs": [],
   "source": [
    "g = load_graph('only-attention/frozen_model.pb')\n",
    "x = g.get_tensor_by_name('import/Placeholder:0')\n",
    "logits_seq = g.get_tensor_by_name('import/logits_seq:0')\n",
    "logits = g.get_tensor_by_name('import/logits:0')\n",
    "alphas = g.get_tensor_by_name('import/alphas:0')\n",
    "test_sess = tf.InteractiveSession(graph = g)"
   ]
  },
  {
   "cell_type": "code",
   "execution_count": 22,
   "metadata": {},
   "outputs": [],
   "source": [
    "import matplotlib.pyplot as plt\n",
    "import seaborn as sns\n",
    "sns.set()"
   ]
  },
  {
   "cell_type": "code",
   "execution_count": 23,
   "metadata": {},
   "outputs": [],
   "source": [
    "news_string = 'Kerajaan juga perlu prihatin dan peka terhadap nasib para nelayan yang bergantung rezeki sepenuhnya kepada sumber hasil laut. Malah, projek ini memberikan kesan buruk yang berpanjangan kepada alam sekitar selain menjejaskan mata pencarian para nelayan'"
   ]
  },
  {
   "cell_type": "code",
   "execution_count": 24,
   "metadata": {},
   "outputs": [],
   "source": [
    "text = preprocessing(news_string)\n",
    "new_vector = str_idx([text], dictionary, len(text))\n",
    "result = test_sess.run([tf.nn.sigmoid(logits), alphas, tf.nn.sigmoid(logits_seq)], feed_dict = {x: new_vector})"
   ]
  },
  {
   "cell_type": "code",
   "execution_count": 25,
   "metadata": {},
   "outputs": [
    {
     "data": {
      "image/png": "[encoded data removed]",
      "text/plain": [
       "<Figure size 1080x504 with 1 Axes>"
      ]
     },
     "metadata": {
      "needs_background": "light"
     },
     "output_type": "display_data"
    }
   ],
   "source": [
    "plt.figure(figsize = (15, 7))\n",
    "labels = [word for word in text]\n",
    "val = [val for val in result[1]]\n",
    "plt.bar(np.arange(len(labels)), val)\n",
    "plt.xticks(np.arange(len(labels)), labels, rotation = 'vertical')\n",
    "plt.show()"
   ]
  },
  {
   "cell_type": "code",
   "execution_count": 26,
   "metadata": {},
   "outputs": [
    {
     "data": {
      "text/plain": [
       "array([[[1.56210081e-05, 5.89942683e-05, 4.07346088e-05, 5.22144655e-05,\n",
       "         1.02624954e-05, 4.00837162e-05],\n",
       "        [6.78369761e-05, 1.05222163e-04, 2.23647614e-04, 1.34143829e-05,\n",
       "         8.32171863e-05, 5.55181468e-05],\n",
       "        [2.41727786e-04, 1.97828325e-04, 3.75232834e-04, 1.54550566e-04,\n",
       "         1.38942763e-04, 2.29237936e-04],\n",
       "        [1.64956471e-03, 1.18066825e-03, 1.93875027e-03, 2.83026136e-04,\n",
       "         8.49010539e-04, 1.81022577e-03],\n",
       "        [5.92637062e-03, 5.57923981e-04, 3.90568003e-03, 1.05292427e-04,\n",
       "         2.09255447e-03, 2.13713408e-03],\n",
       "        [1.08235900e-03, 8.31799698e-04, 1.48159685e-03, 1.10484470e-04,\n",
       "         6.29505666e-04, 6.26944238e-04],\n",
       "        [9.88643058e-03, 2.57950998e-03, 3.02876648e-03, 1.34259753e-04,\n",
       "         5.44499699e-03, 1.03080478e-02],\n",
       "        [6.20629918e-03, 1.57323794e-03, 6.81923795e-03, 1.14800455e-03,\n",
       "         3.03406431e-03, 2.31336802e-03],\n",
       "        [6.92411046e-03, 2.50246422e-03, 1.67338492e-03, 6.02958142e-04,\n",
       "         2.53897137e-03, 2.77345441e-03],\n",
       "        [1.06697418e-02, 2.29685055e-03, 3.71825555e-03, 9.73718648e-04,\n",
       "         7.94705283e-03, 4.27839952e-03],\n",
       "        [2.97383894e-03, 1.91570504e-03, 3.32953152e-03, 2.04051335e-04,\n",
       "         1.85954780e-03, 2.05649063e-03],\n",
       "        [1.86453890e-02, 6.86301908e-04, 2.80548166e-03, 1.14253926e-04,\n",
       "         7.96155073e-03, 4.21524188e-03],\n",
       "        [1.22518772e-02, 7.03476777e-04, 1.57548813e-03, 3.56795237e-04,\n",
       "         4.14012698e-03, 5.86590590e-03],\n",
       "        [6.04410982e-03, 2.29049125e-03, 1.68273109e-03, 3.79152771e-04,\n",
       "         3.03114485e-03, 2.05100398e-03],\n",
       "        [1.77476380e-03, 9.52072500e-04, 7.83712487e-04, 1.12409543e-04,\n",
       "         1.18841650e-03, 3.08052171e-04],\n",
       "        [5.34612546e-03, 8.02494178e-04, 1.69710652e-03, 3.08017246e-04,\n",
       "         3.74148221e-04, 5.59177715e-04],\n",
       "        [3.11817741e-03, 6.58518809e-04, 2.44973390e-03, 4.31176668e-05,\n",
       "         7.81678944e-04, 5.91805379e-04],\n",
       "        [8.33695382e-03, 2.62296479e-03, 4.10896726e-03, 1.23504884e-04,\n",
       "         3.00310785e-03, 9.78262979e-04],\n",
       "        [1.92363421e-03, 2.46508629e-04, 1.06334663e-03, 1.08958920e-04,\n",
       "         4.05923667e-04, 3.94009374e-04],\n",
       "        [8.81437492e-03, 1.10202411e-03, 1.66746881e-03, 3.81004153e-04,\n",
       "         3.92812444e-03, 1.46397133e-03],\n",
       "        [1.05077112e-02, 9.60377161e-04, 1.32563140e-03, 7.52539549e-04,\n",
       "         1.84550660e-03, 7.77349400e-04],\n",
       "        [1.12608699e-02, 9.72125679e-04, 4.84530581e-03, 8.68361152e-04,\n",
       "         2.87042279e-03, 4.47260542e-03],\n",
       "        [1.68247893e-02, 7.51634303e-04, 5.21295983e-03, 1.45995742e-04,\n",
       "         2.35998048e-03, 2.21878896e-03],\n",
       "        [1.09338360e-02, 3.61077394e-03, 1.14809945e-02, 9.85462102e-04,\n",
       "         4.60460829e-03, 3.99874896e-03],\n",
       "        [1.62268486e-02, 5.32831589e-04, 2.58872518e-03, 8.16301210e-04,\n",
       "         2.20718514e-03, 9.61189158e-04],\n",
       "        [5.93350688e-03, 2.80001608e-04, 1.34016084e-03, 1.97486268e-04,\n",
       "         7.13743619e-04, 2.47385725e-03],\n",
       "        [4.49258182e-03, 2.70759990e-03, 2.05099536e-03, 1.99650298e-04,\n",
       "         1.31710642e-03, 1.28413748e-03],\n",
       "        [5.30327857e-03, 9.29927046e-04, 6.02955744e-03, 4.00005665e-04,\n",
       "         1.69331231e-03, 1.98340393e-03],\n",
       "        [8.40916764e-03, 8.39518383e-04, 6.33574184e-03, 6.47750348e-05,\n",
       "         2.31710286e-03, 3.32697853e-03],\n",
       "        [2.74032122e-03, 9.32527124e-04, 3.03057116e-03, 7.82770148e-05,\n",
       "         1.27057405e-03, 3.48358299e-03],\n",
       "        [4.60414495e-03, 8.01628223e-04, 2.49649491e-03, 6.43115709e-05,\n",
       "         1.72407238e-03, 2.19165860e-03],\n",
       "        [5.64274844e-03, 7.69336184e-04, 5.10331336e-03, 8.51317454e-05,\n",
       "         1.64923270e-03, 1.29804702e-03],\n",
       "        [1.20486245e-02, 1.05891144e-03, 6.46368554e-03, 3.12916993e-04,\n",
       "         4.58208704e-03, 1.46872317e-03]]], dtype=float32)"
      ]
     },
     "execution_count": 26,
     "metadata": {},
     "output_type": "execute_result"
    }
   ],
   "source": [
    "result[2]"
   ]
  },
  {
   "cell_type": "code",
   "execution_count": null,
   "metadata": {},
   "outputs": [],
   "source": []
  }
 ],
 "metadata": {
  "kernelspec": {
   "display_name": "Python 3",
   "language": "python",
   "name": "python3"
  },
  "language_info": {
   "codemirror_mode": {
    "name": "ipython",
    "version": 3
   },
   "file_extension": ".py",
   "mimetype": "text/x-python",
   "name": "python",
   "nbconvert_exporter": "python",
   "pygments_lexer": "ipython3",
   "version": "3.6.8"
  }
 },
 "nbformat": 4,
 "nbformat_minor": 2
}
