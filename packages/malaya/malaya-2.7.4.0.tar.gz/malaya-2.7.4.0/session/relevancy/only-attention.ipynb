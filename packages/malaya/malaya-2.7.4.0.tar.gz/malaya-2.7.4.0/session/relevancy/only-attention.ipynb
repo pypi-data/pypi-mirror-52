{
 "cells": [
  {
   "cell_type": "code",
   "execution_count": 1,
   "metadata": {},
   "outputs": [],
   "source": [
    "import os\n",
    "import tensorflow as tf\n",
    "import malaya\n",
    "import json\n",
    "import matplotlib.pyplot as plt"
   ]
  },
  {
   "cell_type": "code",
   "execution_count": 2,
   "metadata": {},
   "outputs": [],
   "source": [
    "import re\n",
    "\n",
    "tokenizer = malaya.preprocessing._SocialTokenizer().tokenize\n",
    "\n",
    "def is_number_regex(s):\n",
    "    if re.match(\"^\\d+?\\.\\d+?$\", s) is None:\n",
    "        return s.isdigit()\n",
    "    return True\n",
    "\n",
    "def detect_money(word):\n",
    "    if word[:2] == 'rm' and is_number_regex(word[2:]):\n",
    "        return True\n",
    "    else:\n",
    "        return False\n",
    "\n",
    "def preprocessing(string):\n",
    "    tokenized = tokenizer(string)\n",
    "    tokenized = [malaya.stem.naive(w) for w in tokenized]\n",
    "    tokenized = [w.lower() for w in tokenized if len(w) > 1]\n",
    "    tokenized = ['<NUM>' if is_number_regex(w) else w for w in tokenized]\n",
    "    tokenized = ['<MONEY>' if detect_money(w) else w for w in tokenized]\n",
    "    return tokenized\n",
    "\n",
    "def clean_label(label):\n",
    "    string = re.sub('[^A-Za-z\\- ]+', ' ', label)\n",
    "    return re.sub(r'[ ]+', ' ', string.lower()).strip()"
   ]
  },
  {
   "cell_type": "code",
   "execution_count": 3,
   "metadata": {},
   "outputs": [],
   "source": [
    "with open('augmented-relevancy.json') as fopen:\n",
    "    loaded = json.load(fopen)\n",
    "    \n",
    "X = loaded['X']\n",
    "Y = loaded['Y']\n",
    "del loaded\n",
    "del X"
   ]
  },
  {
   "cell_type": "code",
   "execution_count": 4,
   "metadata": {},
   "outputs": [
    {
     "data": {
      "text/plain": [
       "209519"
      ]
     },
     "execution_count": 4,
     "metadata": {},
     "output_type": "execute_result"
    }
   ],
   "source": [
    "len(Y)"
   ]
  },
  {
   "cell_type": "code",
   "execution_count": 5,
   "metadata": {},
   "outputs": [
    {
     "data": {
      "text/plain": [
       "209519"
      ]
     },
     "execution_count": 5,
     "metadata": {},
     "output_type": "execute_result"
    }
   ],
   "source": [
    "with open('tokenized.json') as fopen:\n",
    "    X = json.load(fopen)\n",
    "len(X)"
   ]
  },
  {
   "cell_type": "code",
   "execution_count": 6,
   "metadata": {},
   "outputs": [],
   "source": [
    "with open('relevancy-dictionary.json') as fopen:\n",
    "    data = json.load(fopen)\n",
    "dictionary = data['dictionary']\n",
    "rev_dictionary = data['reverse_dictionary']"
   ]
  },
  {
   "cell_type": "code",
   "execution_count": 7,
   "metadata": {},
   "outputs": [],
   "source": [
    "import numpy as np"
   ]
  },
  {
   "cell_type": "code",
   "execution_count": 8,
   "metadata": {},
   "outputs": [],
   "source": [
    "def position_encoding(inputs):\n",
    "    T = tf.shape(inputs)[1]\n",
    "    repr_dim = inputs.get_shape()[-1].value\n",
    "    pos = tf.reshape(tf.range(0.0, tf.to_float(T), dtype=tf.float32), [-1, 1])\n",
    "    i = np.arange(0, repr_dim, 2, np.float32)\n",
    "    denom = np.reshape(np.power(10000.0, i / repr_dim), [1, -1])\n",
    "    enc = tf.expand_dims(tf.concat([tf.sin(pos / denom), tf.cos(pos / denom)], 1), 0)\n",
    "    return tf.tile(enc, [tf.shape(inputs)[0], 1, 1])\n",
    "\n",
    "def layer_norm(inputs, epsilon=1e-8):\n",
    "    mean, variance = tf.nn.moments(inputs, [-1], keep_dims=True)\n",
    "    normalized = (inputs - mean) / (tf.sqrt(variance + epsilon))\n",
    "    params_shape = inputs.get_shape()[-1:]\n",
    "    gamma = tf.get_variable('gamma', params_shape, tf.float32, tf.ones_initializer())\n",
    "    beta = tf.get_variable('beta', params_shape, tf.float32, tf.zeros_initializer())\n",
    "    return gamma * normalized + beta\n",
    "\n",
    "def Attention(inputs, num_units, num_heads = 8, activation = None):\n",
    "    inputs = tf.layers.dropout(inputs, 0.3, training=True)\n",
    "    T_q = T_k = tf.shape(inputs)[1]\n",
    "    Q_K_V = tf.layers.dense(inputs, 3*num_units, activation)\n",
    "    Q, K, V = tf.split(Q_K_V, 3, -1)\n",
    "    Q_ = tf.concat(tf.split(Q, num_heads, axis=2), 0)\n",
    "    K_ = tf.concat(tf.split(K, num_heads, axis=2), 0)\n",
    "    V_ = tf.concat(tf.split(V, num_heads, axis=2), 0)\n",
    "    align = tf.matmul(Q_, K_, transpose_b=True)\n",
    "    align *= tf.rsqrt(tf.to_float(K_.get_shape()[-1].value))\n",
    "    paddings = tf.fill(tf.shape(align), float('-inf'))\n",
    "    lower_tri = tf.ones([T_q, T_k])\n",
    "    lower_tri = tf.linalg.LinearOperatorLowerTriangular(lower_tri).to_dense()\n",
    "    masks = tf.tile(tf.expand_dims(lower_tri,0), [tf.shape(align)[0],1,1])\n",
    "    align = tf.where(tf.equal(masks, 0), paddings, align)\n",
    "    align = tf.nn.softmax(align)\n",
    "    alignments = tf.transpose(align, [0, 2, 1]) \n",
    "    x = tf.matmul(align, V_)\n",
    "    x = tf.concat(tf.split(x, num_heads, axis=0), 2)\n",
    "    x += inputs\n",
    "    x = layer_norm(x)\n",
    "    return x, alignments\n",
    "\n",
    "class Model:\n",
    "    def __init__(self, size_layer, embed_size, dict_size, dimension_output, learning_rate = 1e-3):\n",
    "        self.X = tf.placeholder(tf.int32, [None, None])\n",
    "        self.Y = tf.placeholder(tf.int32, [None])\n",
    "        \n",
    "        encoder_embeddings = tf.Variable(tf.random_uniform([dict_size, embed_size], -1, 1))\n",
    "        x = tf.nn.embedding_lookup(encoder_embeddings, self.X)\n",
    "        x += position_encoding(x)\n",
    "        x = tf.layers.dropout(x, 0.3, training=True) \n",
    "        \n",
    "        x, self.alignments = Attention(x, size_layer)\n",
    "        self.logits_seq = tf.layers.dense(x, dimension_output)\n",
    "        self.logits_seq = tf.identity(self.logits_seq, name = 'logits_seq')\n",
    "        self.logits = self.logits_seq[:,-1]\n",
    "        self.logits = tf.identity(self.logits, name = 'logits')\n",
    "\n",
    "        self.cost = tf.reduce_mean(\n",
    "            tf.nn.sparse_softmax_cross_entropy_with_logits(\n",
    "                logits = self.logits, labels = self.Y\n",
    "            )\n",
    "        )\n",
    "        self.optimizer = tf.train.AdamOptimizer(learning_rate).minimize(\n",
    "            self.cost\n",
    "        )\n",
    "        correct_pred = tf.equal(\n",
    "            tf.argmax(self.logits, 1, output_type = tf.int32), self.Y\n",
    "        )\n",
    "        self.accuracy = tf.reduce_mean(tf.cast(correct_pred, tf.float32))\n",
    "        self.attention = tf.identity(tf.reduce_mean(self.alignments[0], 1), name = 'alphas')"
   ]
  },
  {
   "cell_type": "code",
   "execution_count": 9,
   "metadata": {},
   "outputs": [
    {
     "data": {
      "text/plain": [
       "'only-attention/model.ckpt'"
      ]
     },
     "execution_count": 9,
     "metadata": {},
     "output_type": "execute_result"
    }
   ],
   "source": [
    "size_layer = 256\n",
    "dimension_output = 2\n",
    "learning_rate = 1e-4\n",
    "batch_size = 8\n",
    "maxlen = 500\n",
    "\n",
    "tf.reset_default_graph()\n",
    "sess = tf.InteractiveSession()\n",
    "model = Model(\n",
    "    size_layer,\n",
    "    size_layer,\n",
    "    len(dictionary),\n",
    "    dimension_output,\n",
    "    learning_rate,\n",
    ")\n",
    "sess.run(tf.global_variables_initializer())\n",
    "saver = tf.train.Saver(tf.trainable_variables())\n",
    "saver.save(sess, 'only-attention/model.ckpt')"
   ]
  },
  {
   "cell_type": "code",
   "execution_count": 10,
   "metadata": {},
   "outputs": [
    {
     "data": {
      "text/plain": [
       "['Placeholder',\n",
       " 'Placeholder_1',\n",
       " 'Variable',\n",
       " 'dense/kernel',\n",
       " 'dense/bias',\n",
       " 'gamma',\n",
       " 'beta',\n",
       " 'dense_1/kernel',\n",
       " 'dense_1/bias',\n",
       " 'logits_seq',\n",
       " 'logits',\n",
       " 'alphas']"
      ]
     },
     "execution_count": 10,
     "metadata": {},
     "output_type": "execute_result"
    }
   ],
   "source": [
    "strings = ','.join(\n",
    "    [\n",
    "        n.name\n",
    "        for n in tf.get_default_graph().as_graph_def().node\n",
    "        if ('Variable' in n.op\n",
    "        or 'Placeholder' in n.name\n",
    "        or 'logits' in n.name\n",
    "        or 'logits_seq' in n.name\n",
    "        or 'alphas' in n.name)\n",
    "        and 'Adam' not in n.name\n",
    "        and '_power' not in n.name\n",
    "    ]\n",
    ")\n",
    "strings.split(',')"
   ]
  },
  {
   "cell_type": "code",
   "execution_count": 11,
   "metadata": {},
   "outputs": [],
   "source": [
    "def str_idx(corpus, dic, maxlen, UNK = 3):\n",
    "    X = np.zeros((len(corpus), maxlen))\n",
    "    for i in range(len(corpus)):\n",
    "        for no, k in enumerate(corpus[i][:maxlen]):\n",
    "            X[i, no] = dic.get(k, UNK)\n",
    "    return X"
   ]
  },
  {
   "cell_type": "code",
   "execution_count": 12,
   "metadata": {},
   "outputs": [],
   "source": [
    "from sklearn.cross_validation import train_test_split\n",
    "\n",
    "train_X, test_X, train_Y, test_Y = train_test_split(X, Y, test_size = 0.2)\n",
    "\n",
    "del X, Y"
   ]
  },
  {
   "cell_type": "code",
   "execution_count": 13,
   "metadata": {},
   "outputs": [
    {
     "data": {
      "text/plain": [
       "(167615, 41904)"
      ]
     },
     "execution_count": 13,
     "metadata": {},
     "output_type": "execute_result"
    }
   ],
   "source": [
    "len(train_X), len(test_X)"
   ]
  },
  {
   "cell_type": "code",
   "execution_count": 14,
   "metadata": {},
   "outputs": [],
   "source": [
    "max_x = maxlen"
   ]
  },
  {
   "cell_type": "code",
   "execution_count": 21,
   "metadata": {},
   "outputs": [
    {
     "name": "stderr",
     "output_type": "stream",
     "text": [
      "train minibatch loop: 100%|██████████| 20952/20952 [33:26<00:00, 10.44it/s, accuracy=1, cost=0.123]     \n",
      "test minibatch loop: 100%|██████████| 5238/5238 [01:48<00:00, 47.92it/s, accuracy=0.875, cost=0.182] \n",
      "train minibatch loop:   0%|          | 2/20952 [00:00<33:21, 10.47it/s, accuracy=0.875, cost=0.116]"
     ]
    },
    {
     "name": "stdout",
     "output_type": "stream",
     "text": [
      "time taken: 2114.485299348831\n",
      "epoch: 0, training loss: 0.244375, training acc: 0.899072, valid loss: 0.248877, valid acc: 0.897862\n",
      "\n"
     ]
    },
    {
     "name": "stderr",
     "output_type": "stream",
     "text": [
      "train minibatch loop: 100%|██████████| 20952/20952 [33:26<00:00, 10.57it/s, accuracy=1, cost=0.0693]    \n",
      "test minibatch loop: 100%|██████████| 5238/5238 [01:48<00:00, 48.31it/s, accuracy=0.875, cost=0.291] \n",
      "train minibatch loop:   0%|          | 2/20952 [00:00<33:30, 10.42it/s, accuracy=1, cost=0.113]"
     ]
    },
    {
     "name": "stdout",
     "output_type": "stream",
     "text": [
      "time taken: 2114.692099094391\n",
      "epoch: 1, training loss: 0.222622, training acc: 0.908278, valid loss: 0.227713, valid acc: 0.906691\n",
      "\n"
     ]
    },
    {
     "name": "stderr",
     "output_type": "stream",
     "text": [
      "train minibatch loop: 100%|██████████| 20952/20952 [33:26<00:00, 10.58it/s, accuracy=1, cost=0.0636]    \n",
      "test minibatch loop: 100%|██████████| 5238/5238 [01:48<00:00, 48.29it/s, accuracy=0.875, cost=0.195] \n",
      "train minibatch loop:   0%|          | 2/20952 [00:00<33:28, 10.43it/s, accuracy=1, cost=0.087]"
     ]
    },
    {
     "name": "stdout",
     "output_type": "stream",
     "text": [
      "time taken: 2114.9458503723145\n",
      "epoch: 2, training loss: 0.202837, training acc: 0.916654, valid loss: 0.216099, valid acc: 0.912037\n",
      "\n"
     ]
    },
    {
     "name": "stderr",
     "output_type": "stream",
     "text": [
      "train minibatch loop:  74%|███████▍  | 15492/20952 [24:43<08:44, 10.42it/s, accuracy=0.75, cost=0.348]  IOPub message rate exceeded.\n",
      "The notebook server will temporarily stop sending output\n",
      "to the client in order to avoid crashing it.\n",
      "To change this limit, set the config variable\n",
      "`--NotebookApp.iopub_msg_rate_limit`.\n",
      "\n",
      "Current values:\n",
      "NotebookApp.iopub_msg_rate_limit=1000.0 (msgs/sec)\n",
      "NotebookApp.rate_limit_window=3.0 (secs)\n",
      "\n",
      "train minibatch loop: 100%|██████████| 20952/20952 [33:27<00:00, 10.44it/s, accuracy=1, cost=0.0342]    \n",
      "test minibatch loop: 100%|██████████| 5238/5238 [01:49<00:00, 47.96it/s, accuracy=0.875, cost=0.245] \n",
      "train minibatch loop:   0%|          | 2/20952 [00:00<33:21, 10.46it/s, accuracy=0.875, cost=0.204]"
     ]
    },
    {
     "name": "stdout",
     "output_type": "stream",
     "text": [
      "time taken: 2116.475646018982\n",
      "epoch: 3, training loss: 0.188361, training acc: 0.922996, valid loss: 0.208490, valid acc: 0.916189\n",
      "\n"
     ]
    },
    {
     "name": "stderr",
     "output_type": "stream",
     "text": [
      "train minibatch loop: 100%|██████████| 20952/20952 [33:25<00:00, 10.58it/s, accuracy=1, cost=0.0121]    \n",
      "test minibatch loop: 100%|██████████| 5238/5238 [01:48<00:00, 48.32it/s, accuracy=0.875, cost=0.348] "
     ]
    },
    {
     "name": "stdout",
     "output_type": "stream",
     "text": [
      "time taken: 2114.261835336685\n",
      "epoch: 4, training loss: 0.172600, training acc: 0.930239, valid loss: 0.194194, valid acc: 0.923015\n",
      "\n"
     ]
    },
    {
     "name": "stderr",
     "output_type": "stream",
     "text": [
      "\n"
     ]
    }
   ],
   "source": [
    "from tqdm import tqdm\n",
    "import time\n",
    "\n",
    "for EPOCH in range(5):\n",
    "    lasttime = time.time()\n",
    "\n",
    "    train_acc, train_loss, test_acc, test_loss = 0, 0, 0, 0\n",
    "    pbar = tqdm(\n",
    "        range(0, len(train_X), batch_size), desc = 'train minibatch loop'\n",
    "    )\n",
    "    for i in pbar:\n",
    "        index = min(i + batch_size, len(train_X))\n",
    "        batch_x = train_X[i : index]\n",
    "        batch_y = train_Y[i : index]\n",
    "        max_batch = max([len(x) for x in batch_x])\n",
    "        max_batch = min(max_batch, max_x)\n",
    "        batch_x = str_idx(batch_x, dictionary, max_batch)\n",
    "        \n",
    "        acc, cost, _ = sess.run(\n",
    "            [model.accuracy, model.cost, model.optimizer],\n",
    "            feed_dict = {\n",
    "                model.Y: batch_y,\n",
    "                model.X: batch_x\n",
    "            },\n",
    "        )\n",
    "        assert not np.isnan(cost)\n",
    "        train_loss += cost\n",
    "        train_acc += acc\n",
    "        pbar.set_postfix(cost = cost, accuracy = acc)\n",
    "    \n",
    "    pbar = tqdm(\n",
    "        range(0, len(test_X), batch_size), desc = 'test minibatch loop'\n",
    "    )\n",
    "    for i in pbar:\n",
    "        index = min(i + batch_size, len(test_X))\n",
    "        batch_x = test_X[i : index]\n",
    "        batch_y = test_Y[i : index]\n",
    "        max_batch = max([len(x) for x in batch_x])\n",
    "        max_batch = min(max_batch, max_x)\n",
    "        batch_x = str_idx(batch_x, dictionary, max_batch)\n",
    "        \n",
    "        acc, cost = sess.run(\n",
    "            [model.accuracy, model.cost],\n",
    "            feed_dict = {\n",
    "                model.Y: batch_y,\n",
    "                model.X: batch_x,\n",
    "            },\n",
    "        )\n",
    "        assert not np.isnan(cost)\n",
    "        test_loss += cost\n",
    "        test_acc += acc\n",
    "        pbar.set_postfix(cost = cost, accuracy = acc)\n",
    "    \n",
    "    train_loss /= len(train_X) / batch_size\n",
    "    train_acc /= len(train_X) / batch_size\n",
    "    test_loss /= len(test_X) / batch_size\n",
    "    test_acc /= len(test_X) / batch_size\n",
    "        \n",
    "    print('time taken:', time.time() - lasttime)\n",
    "    print(\n",
    "        'epoch: %d, training loss: %f, training acc: %f, valid loss: %f, valid acc: %f\\n'\n",
    "        % (EPOCH, train_loss, train_acc, test_loss, test_acc)\n",
    "    )"
   ]
  },
  {
   "cell_type": "code",
   "execution_count": 39,
   "metadata": {},
   "outputs": [],
   "source": [
    "testing = 'Sesungguhnya menjadi tradisi, mana-mana calon presiden AS pasti perlu mendapat sokongan masyarakat Yahudi yang mengawal ekonomi di AS untuk jadi presiden, namun tidak ramai seberani Trump dalam mengotakan dan mengabui mata Yahudi dan Zionism Israel'\n",
    "testing = preprocessing(testing)\n",
    "t = testing\n",
    "testing = str_idx([testing], dictionary, len(testing))"
   ]
  },
  {
   "cell_type": "code",
   "execution_count": 40,
   "metadata": {},
   "outputs": [
    {
     "data": {
      "text/plain": [
       "['sesungguh',\n",
       " 'jadi',\n",
       " 'tradisi',\n",
       " 'mana',\n",
       " 'mana',\n",
       " 'calon',\n",
       " 'presiden',\n",
       " 'as',\n",
       " 'pasti',\n",
       " 'lu',\n",
       " 'dapat',\n",
       " 'sokong',\n",
       " 'masyarakat',\n",
       " 'yahudi',\n",
       " 'yang',\n",
       " 'awal',\n",
       " 'ekonomi',\n",
       " 'as',\n",
       " 'untuk',\n",
       " 'jadi',\n",
       " 'presiden',\n",
       " 'namun',\n",
       " 'tidak',\n",
       " 'ramai',\n",
       " 'berani',\n",
       " 'trump',\n",
       " 'dalam',\n",
       " 'ota',\n",
       " 'abui',\n",
       " 'mata',\n",
       " 'yahudi',\n",
       " 'zionism',\n",
       " 'israel']"
      ]
     },
     "execution_count": 40,
     "metadata": {},
     "output_type": "execute_result"
    }
   ],
   "source": [
    "t"
   ]
  },
  {
   "cell_type": "code",
   "execution_count": 41,
   "metadata": {},
   "outputs": [],
   "source": [
    "b, c, d = sess.run([tf.nn.softmax(model.logits), tf.nn.softmax(model.logits_seq), model.attention], \n",
    "                    feed_dict = {model.X: testing})"
   ]
  },
  {
   "cell_type": "code",
   "execution_count": 42,
   "metadata": {},
   "outputs": [
    {
     "data": {
      "text/plain": [
       "array([[0.9926528 , 0.00734717]], dtype=float32)"
      ]
     },
     "execution_count": 42,
     "metadata": {},
     "output_type": "execute_result"
    }
   ],
   "source": [
    "b"
   ]
  },
  {
   "cell_type": "code",
   "execution_count": 43,
   "metadata": {},
   "outputs": [
    {
     "data": {
      "text/plain": [
       "array([[[9.99721348e-01, 2.78680644e-04],\n",
       "        [9.97851491e-01, 2.14848598e-03],\n",
       "        [8.84962380e-01, 1.15037575e-01],\n",
       "        [9.95472968e-01, 4.52698302e-03],\n",
       "        [1.82360321e-01, 8.17639709e-01],\n",
       "        [4.80056554e-02, 9.51994359e-01],\n",
       "        [9.75962460e-01, 2.40375232e-02],\n",
       "        [9.92748916e-01, 7.25105964e-03],\n",
       "        [9.91550803e-01, 8.44925363e-03],\n",
       "        [9.80649114e-01, 1.93508845e-02],\n",
       "        [9.50576782e-01, 4.94232401e-02],\n",
       "        [9.73492444e-01, 2.65075620e-02],\n",
       "        [9.89429057e-01, 1.05709629e-02],\n",
       "        [9.90319610e-01, 9.68041457e-03],\n",
       "        [9.96597826e-01, 3.40218726e-03],\n",
       "        [8.83741081e-01, 1.16258942e-01],\n",
       "        [9.93655801e-01, 6.34427927e-03],\n",
       "        [9.87958789e-01, 1.20412484e-02],\n",
       "        [9.00432646e-01, 9.95673686e-02],\n",
       "        [9.73192155e-01, 2.68078055e-02],\n",
       "        [9.72041488e-01, 2.79585067e-02],\n",
       "        [9.51479554e-01, 4.85204719e-02],\n",
       "        [8.65876317e-01, 1.34123728e-01],\n",
       "        [9.30201590e-01, 6.97984546e-02],\n",
       "        [9.13833439e-01, 8.61666128e-02],\n",
       "        [7.95215607e-01, 2.04784393e-01],\n",
       "        [9.69149590e-01, 3.08504310e-02],\n",
       "        [9.64118302e-01, 3.58817801e-02],\n",
       "        [9.88479435e-01, 1.15205441e-02],\n",
       "        [9.90105331e-01, 9.89471935e-03],\n",
       "        [9.93664980e-01, 6.33507222e-03],\n",
       "        [9.89518106e-01, 1.04819573e-02],\n",
       "        [9.92652774e-01, 7.34717166e-03]]], dtype=float32)"
      ]
     },
     "execution_count": 43,
     "metadata": {},
     "output_type": "execute_result"
    }
   ],
   "source": [
    "c"
   ]
  },
  {
   "cell_type": "code",
   "execution_count": 44,
   "metadata": {},
   "outputs": [
    {
     "data": {
      "text/plain": [
       "array([0.19861771, 0.0379051 , 0.06074551, 0.02474108, 0.05489456,\n",
       "       0.07222023, 0.09342257, 0.07365928, 0.05689906, 0.05350484,\n",
       "       0.02639626, 0.0181087 , 0.0213936 , 0.02086836, 0.00993358,\n",
       "       0.03435629, 0.01645491, 0.02005102, 0.01218155, 0.00834859,\n",
       "       0.0077991 , 0.00710016, 0.01192109, 0.0039927 , 0.01081928,\n",
       "       0.00631195, 0.01106844, 0.00624675, 0.01189933, 0.00441268,\n",
       "       0.00183982, 0.00095971, 0.00092618], dtype=float32)"
      ]
     },
     "execution_count": 44,
     "metadata": {},
     "output_type": "execute_result"
    }
   ],
   "source": [
    "d"
   ]
  },
  {
   "cell_type": "code",
   "execution_count": 45,
   "metadata": {},
   "outputs": [
    {
     "data": {
      "image/png": "[encoded data removed]",
      "text/plain": [
       "<Figure size 432x288 with 1 Axes>"
      ]
     },
     "metadata": {
      "needs_background": "light"
     },
     "output_type": "display_data"
    }
   ],
   "source": [
    "plt.plot(d)\n",
    "plt.show()"
   ]
  },
  {
   "cell_type": "code",
   "execution_count": 46,
   "metadata": {},
   "outputs": [
    {
     "data": {
      "text/plain": [
       "'only-attention/model.ckpt'"
      ]
     },
     "execution_count": 46,
     "metadata": {},
     "output_type": "execute_result"
    }
   ],
   "source": [
    "saver.save(sess, 'only-attention/model.ckpt')"
   ]
  },
  {
   "cell_type": "code",
   "execution_count": 47,
   "metadata": {},
   "outputs": [],
   "source": [
    "def freeze_graph(model_dir, output_node_names):\n",
    "\n",
    "    if not tf.gfile.Exists(model_dir):\n",
    "        raise AssertionError(\n",
    "            \"Export directory doesn't exists. Please specify an export \"\n",
    "            'directory: %s' % model_dir\n",
    "        )\n",
    "\n",
    "    checkpoint = tf.train.get_checkpoint_state(model_dir)\n",
    "    input_checkpoint = checkpoint.model_checkpoint_path\n",
    "\n",
    "    absolute_model_dir = '/'.join(input_checkpoint.split('/')[:-1])\n",
    "    output_graph = absolute_model_dir + '/frozen_model.pb'\n",
    "    clear_devices = True\n",
    "    with tf.Session(graph = tf.Graph()) as sess:\n",
    "        saver = tf.train.import_meta_graph(\n",
    "            input_checkpoint + '.meta', clear_devices = clear_devices\n",
    "        )\n",
    "        saver.restore(sess, input_checkpoint)\n",
    "        output_graph_def = tf.graph_util.convert_variables_to_constants(\n",
    "            sess,\n",
    "            tf.get_default_graph().as_graph_def(),\n",
    "            output_node_names.split(','),\n",
    "        )\n",
    "        with tf.gfile.GFile(output_graph, 'wb') as f:\n",
    "            f.write(output_graph_def.SerializeToString())\n",
    "        print('%d ops in the final graph.' % len(output_graph_def.node))"
   ]
  },
  {
   "cell_type": "code",
   "execution_count": 48,
   "metadata": {},
   "outputs": [
    {
     "name": "stdout",
     "output_type": "stream",
     "text": [
      "INFO:tensorflow:Restoring parameters from only-attention/model.ckpt\n",
      "INFO:tensorflow:Froze 7 variables.\n",
      "INFO:tensorflow:Converted 7 variables to const ops.\n",
      "248 ops in the final graph.\n"
     ]
    }
   ],
   "source": [
    "freeze_graph('only-attention', strings)"
   ]
  },
  {
   "cell_type": "code",
   "execution_count": 49,
   "metadata": {},
   "outputs": [],
   "source": [
    "def load_graph(frozen_graph_filename):\n",
    "    with tf.gfile.GFile(frozen_graph_filename, 'rb') as f:\n",
    "        graph_def = tf.GraphDef()\n",
    "        graph_def.ParseFromString(f.read())\n",
    "    with tf.Graph().as_default() as graph:\n",
    "        tf.import_graph_def(graph_def)\n",
    "    return graph"
   ]
  },
  {
   "cell_type": "code",
   "execution_count": 50,
   "metadata": {},
   "outputs": [],
   "source": [
    "g = load_graph('only-attention/frozen_model.pb')"
   ]
  },
  {
   "cell_type": "code",
   "execution_count": 51,
   "metadata": {},
   "outputs": [],
   "source": [
    "x = g.get_tensor_by_name('import/Placeholder:0')\n",
    "logits = g.get_tensor_by_name('import/logits:0')\n",
    "logits_seq = g.get_tensor_by_name('import/logits_seq:0')\n",
    "alphas = g.get_tensor_by_name('import/alphas:0')"
   ]
  },
  {
   "cell_type": "code",
   "execution_count": 52,
   "metadata": {},
   "outputs": [],
   "source": [
    "test_sess = tf.InteractiveSession(graph = g)\n",
    "result = test_sess.run([tf.nn.softmax(logits), tf.nn.softmax(logits_seq),\n",
    "                       alphas], feed_dict = {x: testing})"
   ]
  },
  {
   "cell_type": "code",
   "execution_count": 53,
   "metadata": {},
   "outputs": [
    {
     "data": {
      "text/plain": [
       "array([[0.7628296 , 0.23717038]], dtype=float32)"
      ]
     },
     "execution_count": 53,
     "metadata": {},
     "output_type": "execute_result"
    }
   ],
   "source": [
    "result[0]"
   ]
  },
  {
   "cell_type": "code",
   "execution_count": 54,
   "metadata": {},
   "outputs": [
    {
     "data": {
      "text/plain": [
       "array([[[0.38231325, 0.61768675],\n",
       "        [0.01519727, 0.9848028 ],\n",
       "        [0.14517567, 0.8548243 ],\n",
       "        [0.80922496, 0.19077502],\n",
       "        [0.9147201 , 0.08527987],\n",
       "        [0.89138526, 0.10861477],\n",
       "        [0.83451647, 0.16548353],\n",
       "        [0.9606083 , 0.03939165],\n",
       "        [0.9363214 , 0.06367864],\n",
       "        [0.9454973 , 0.05450267],\n",
       "        [0.98516786, 0.01483216],\n",
       "        [0.9877473 , 0.01225268],\n",
       "        [0.92698395, 0.073016  ],\n",
       "        [0.9687949 , 0.03120516],\n",
       "        [0.9687706 , 0.03122938],\n",
       "        [0.87564087, 0.12435912],\n",
       "        [0.83309096, 0.16690905],\n",
       "        [0.85647386, 0.14352614],\n",
       "        [0.62920225, 0.37079775],\n",
       "        [0.7079018 , 0.2920982 ],\n",
       "        [0.7158209 , 0.2841791 ],\n",
       "        [0.8026356 , 0.19736437],\n",
       "        [0.61922276, 0.3807772 ],\n",
       "        [0.91943884, 0.08056109],\n",
       "        [0.8085456 , 0.19145443],\n",
       "        [0.81125504, 0.18874502],\n",
       "        [0.8847513 , 0.11524865],\n",
       "        [0.6478023 , 0.35219777],\n",
       "        [0.94550276, 0.05449723],\n",
       "        [0.8997208 , 0.10027923],\n",
       "        [0.9475045 , 0.05249546],\n",
       "        [0.9548563 , 0.04514376],\n",
       "        [0.7628296 , 0.23717038]]], dtype=float32)"
      ]
     },
     "execution_count": 54,
     "metadata": {},
     "output_type": "execute_result"
    }
   ],
   "source": [
    "result[1]"
   ]
  },
  {
   "cell_type": "code",
   "execution_count": 55,
   "metadata": {},
   "outputs": [
    {
     "data": {
      "text/plain": [
       "array([0.22430304, 0.04400339, 0.0867021 , 0.03677347, 0.02461758,\n",
       "       0.06074273, 0.06958306, 0.03392227, 0.05117168, 0.0281567 ,\n",
       "       0.02041283, 0.03219548, 0.03398983, 0.02006197, 0.00941218,\n",
       "       0.02186522, 0.01930317, 0.01767851, 0.0202875 , 0.01673273,\n",
       "       0.02446407, 0.0122072 , 0.00853015, 0.02017076, 0.01962015,\n",
       "       0.00611633, 0.01035877, 0.00825041, 0.00631759, 0.00323242,\n",
       "       0.00221459, 0.0018667 , 0.0047354 ], dtype=float32)"
      ]
     },
     "execution_count": 55,
     "metadata": {},
     "output_type": "execute_result"
    }
   ],
   "source": [
    "result[2]"
   ]
  },
  {
   "cell_type": "code",
   "execution_count": null,
   "metadata": {},
   "outputs": [],
   "source": []
  }
 ],
 "metadata": {
  "kernelspec": {
   "display_name": "Python 3",
   "language": "python",
   "name": "python3"
  },
  "language_info": {
   "codemirror_mode": {
    "name": "ipython",
    "version": 3
   },
   "file_extension": ".py",
   "mimetype": "text/x-python",
   "name": "python",
   "nbconvert_exporter": "python",
   "pygments_lexer": "ipython3",
   "version": "3.6.8"
  }
 },
 "nbformat": 4,
 "nbformat_minor": 2
}
