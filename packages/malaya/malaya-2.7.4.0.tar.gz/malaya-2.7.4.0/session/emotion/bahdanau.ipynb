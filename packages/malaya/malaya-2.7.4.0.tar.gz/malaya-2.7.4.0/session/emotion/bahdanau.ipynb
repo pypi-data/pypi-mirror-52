{
 "cells": [
  {
   "cell_type": "code",
   "execution_count": 1,
   "metadata": {},
   "outputs": [
    {
     "name": "stderr",
     "output_type": "stream",
     "text": [
      "/usr/local/lib/python3.6/dist-packages/sklearn/cross_validation.py:41: DeprecationWarning: This module was deprecated in version 0.18 in favor of the model_selection module into which all the refactored classes and functions are moved. Also note that the interface of the new CV iterators are different from that of this module. This module will be removed in 0.20.\n",
      "  \"This module will be removed in 0.20.\", DeprecationWarning)\n"
     ]
    }
   ],
   "source": [
    "import re\n",
    "import numpy as np\n",
    "import collections\n",
    "from sklearn import metrics\n",
    "from sklearn.cross_validation import train_test_split\n",
    "import tensorflow as tf\n",
    "import pandas as pd\n",
    "from unidecode import unidecode\n",
    "from sklearn.preprocessing import LabelEncoder\n",
    "from tqdm import tqdm\n",
    "import time"
   ]
  },
  {
   "cell_type": "code",
   "execution_count": 2,
   "metadata": {},
   "outputs": [],
   "source": [
    "import malaya"
   ]
  },
  {
   "cell_type": "code",
   "execution_count": 3,
   "metadata": {},
   "outputs": [],
   "source": [
    "tokenizer = malaya.preprocessing._SocialTokenizer().tokenize\n",
    "rules_normalizer = malaya.texts._tatabahasa.rules_normalizer\n",
    "\n",
    "def is_number_regex(s):\n",
    "    if re.match(\"^\\d+?\\.\\d+?$\", s) is None:\n",
    "        return s.isdigit()\n",
    "    return True\n",
    "\n",
    "def detect_money(word):\n",
    "    if word[:2] == 'rm' and is_number_regex(word[2:]):\n",
    "        return True\n",
    "    else:\n",
    "        return False\n",
    "\n",
    "def preprocessing(string):\n",
    "    tokenized = tokenizer(unidecode(string))\n",
    "    tokenized = [malaya.stem.naive(w) for w in tokenized]\n",
    "    tokenized = [w.lower() for w in tokenized if len(w) > 1]\n",
    "    tokenized = [rules_normalizer.get(w, w) for w in tokenized]\n",
    "    tokenized = ['<NUM>' if is_number_regex(w) else w for w in tokenized]\n",
    "    tokenized = ['<MONEY>' if detect_money(w) else w for w in tokenized]\n",
    "    return tokenized"
   ]
  },
  {
   "cell_type": "code",
   "execution_count": 4,
   "metadata": {},
   "outputs": [],
   "source": [
    "def build_dataset(words, n_words):\n",
    "    count = [['GO', 0], ['PAD', 1], ['EOS', 2], ['UNK', 3]]\n",
    "    counter = collections.Counter(words).most_common(n_words)\n",
    "    count.extend(counter)\n",
    "    dictionary = dict()\n",
    "    for word, _ in count:\n",
    "        dictionary[word] = len(dictionary)\n",
    "    data = list()\n",
    "    unk_count = 0\n",
    "    for word in words:\n",
    "        index = dictionary.get(word, 3)\n",
    "        if index == 0:\n",
    "            unk_count += 1\n",
    "        data.append(index)\n",
    "    count[0][1] = unk_count\n",
    "    reversed_dictionary = dict(zip(dictionary.values(), dictionary.keys()))\n",
    "    return data, count, dictionary, reversed_dictionary\n",
    "\n",
    "def str_idx(corpus, dic, maxlen, UNK = 3):\n",
    "    X = np.zeros((len(corpus), maxlen))\n",
    "    for i in range(len(corpus)):\n",
    "        for no, k in enumerate(corpus[i][:maxlen][::-1]):\n",
    "            X[i, -1 - no] = dic.get(k, UNK)\n",
    "    return X"
   ]
  },
  {
   "cell_type": "code",
   "execution_count": 5,
   "metadata": {},
   "outputs": [],
   "source": [
    "import json\n",
    "\n",
    "with open('tokenization.json') as fopen:\n",
    "    dataset = json.load(fopen)\n",
    "texts = dataset['texts']\n",
    "labels = dataset['labels']\n",
    "del dataset"
   ]
  },
  {
   "cell_type": "code",
   "execution_count": 6,
   "metadata": {},
   "outputs": [
    {
     "name": "stdout",
     "output_type": "stream",
     "text": [
      "vocab from size: 194731\n",
      "Most common words [('saya', 177803), ('yang', 107888), ('aku', 91097), ('ini', 79339), ('suka', 65113), ('rasa', 64662)]\n",
      "Sample data [273, 2033, 5, 4, 112, 3489, 5, 151, 140, 5] ['buah', 'parti', 'yang', 'saya', 'gi', 'natal', 'yang', 'akhir', 'malam', 'yang']\n"
     ]
    }
   ],
   "source": [
    "import itertools\n",
    "\n",
    "concat = list(itertools.chain(*texts))\n",
    "vocabulary_size = len(list(set(concat)))\n",
    "data, count, dictionary, rev_dictionary = build_dataset(concat, vocabulary_size)\n",
    "print('vocab from size: %d'%(vocabulary_size))\n",
    "print('Most common words', count[4:10])\n",
    "print('Sample data', data[:10], [rev_dictionary[i] for i in data[:10]])"
   ]
  },
  {
   "cell_type": "code",
   "execution_count": 7,
   "metadata": {},
   "outputs": [],
   "source": [
    "with open('emotion-dictionary.json','w') as fopen:\n",
    "    fopen.write(json.dumps({'dictionary':dictionary,'reverse_dictionary':rev_dictionary}))"
   ]
  },
  {
   "cell_type": "code",
   "execution_count": 8,
   "metadata": {},
   "outputs": [],
   "source": [
    "def position_encoding(inputs):\n",
    "    T = tf.shape(inputs)[1]\n",
    "    repr_dim = inputs.get_shape()[-1].value\n",
    "    pos = tf.reshape(tf.range(0.0, tf.to_float(T), dtype=tf.float32), [-1, 1])\n",
    "    i = np.arange(0, repr_dim, 2, np.float32)\n",
    "    denom = np.reshape(np.power(10000.0, i / repr_dim), [1, -1])\n",
    "    enc = tf.expand_dims(tf.concat([tf.sin(pos / denom), tf.cos(pos / denom)], 1), 0)\n",
    "    return tf.tile(enc, [tf.shape(inputs)[0], 1, 1])\n",
    "\n",
    "class Model:\n",
    "    def __init__(\n",
    "        self,\n",
    "        size_layer,\n",
    "        num_layers,\n",
    "        dimension_output,\n",
    "        learning_rate,\n",
    "        dropout,\n",
    "        dict_size,\n",
    "    ):\n",
    "        def cells(size, reuse = False):\n",
    "            return tf.contrib.rnn.DropoutWrapper(\n",
    "                tf.nn.rnn_cell.LSTMCell(\n",
    "                    size,\n",
    "                    initializer = tf.orthogonal_initializer(),\n",
    "                    reuse = reuse,\n",
    "                ),\n",
    "                state_keep_prob = dropout,\n",
    "                output_keep_prob = dropout,\n",
    "            )\n",
    "\n",
    "        self.X = tf.placeholder(tf.int32, [None, None])\n",
    "        self.Y = tf.placeholder(tf.int32, [None])\n",
    "        encoder_embeddings = tf.Variable(\n",
    "            tf.random_uniform([dict_size, size_layer], -1, 1)\n",
    "        )\n",
    "        encoder_embedded = tf.nn.embedding_lookup(encoder_embeddings, self.X)\n",
    "        encoder_embedded += position_encoding(encoder_embedded)\n",
    "        attention_mechanism = tf.contrib.seq2seq.BahdanauAttention(\n",
    "            num_units = size_layer, memory = encoder_embedded\n",
    "        )\n",
    "        rnn_cells = tf.contrib.seq2seq.AttentionWrapper(\n",
    "            cell = tf.nn.rnn_cell.MultiRNNCell(\n",
    "                [cells(size_layer) for _ in range(num_layers)]\n",
    "            ),\n",
    "            attention_mechanism = attention_mechanism,\n",
    "            attention_layer_size = size_layer,\n",
    "            alignment_history = True,\n",
    "        )\n",
    "        outputs, last_state = tf.nn.dynamic_rnn(\n",
    "            rnn_cells, encoder_embedded, dtype = tf.float32\n",
    "        )\n",
    "        self.alignments = tf.transpose(\n",
    "            last_state.alignment_history.stack(), [1, 2, 0]\n",
    "        )\n",
    "        self.logits_seq = tf.layers.dense(outputs, dimension_output)\n",
    "        self.logits_seq = tf.identity(self.logits_seq, name = 'logits_seq')\n",
    "        self.logits = self.logits_seq[:, -1]\n",
    "        self.logits = tf.identity(self.logits, name = 'logits')\n",
    "        self.cost = tf.reduce_mean(\n",
    "            tf.nn.sparse_softmax_cross_entropy_with_logits(\n",
    "                logits = self.logits, labels = self.Y\n",
    "            )\n",
    "        )\n",
    "        self.optimizer = tf.train.AdamOptimizer(\n",
    "            learning_rate = learning_rate\n",
    "        ).minimize(self.cost)\n",
    "        correct_pred = tf.equal(\n",
    "            tf.argmax(self.logits, 1, output_type = tf.int32), self.Y\n",
    "        )\n",
    "        self.accuracy = tf.reduce_mean(tf.cast(correct_pred, tf.float32))\n",
    "        self.attention = tf.nn.softmax(\n",
    "            tf.reduce_sum(self.alignments[0], 1), name = 'alphas'\n",
    "        )"
   ]
  },
  {
   "cell_type": "code",
   "execution_count": 9,
   "metadata": {},
   "outputs": [
    {
     "data": {
      "text/plain": [
       "'bahdanau/model.ckpt'"
      ]
     },
     "execution_count": 9,
     "metadata": {},
     "output_type": "execute_result"
    }
   ],
   "source": [
    "size_layer = 256\n",
    "num_layers = 2\n",
    "dimension_output = 6\n",
    "learning_rate = 1e-4\n",
    "batch_size = 32\n",
    "dropout = 0.8\n",
    "maxlen = 50\n",
    "\n",
    "tf.reset_default_graph()\n",
    "sess = tf.InteractiveSession()\n",
    "model = Model(\n",
    "    size_layer,\n",
    "    num_layers,\n",
    "    dimension_output,\n",
    "    learning_rate,\n",
    "    dropout,\n",
    "    len(dictionary),\n",
    ")\n",
    "sess.run(tf.global_variables_initializer())\n",
    "saver = tf.train.Saver(tf.trainable_variables())\n",
    "saver.save(sess, 'bahdanau/model.ckpt')"
   ]
  },
  {
   "cell_type": "code",
   "execution_count": 10,
   "metadata": {},
   "outputs": [],
   "source": [
    "strings = ','.join(\n",
    "    [\n",
    "        n.name\n",
    "        for n in tf.get_default_graph().as_graph_def().node\n",
    "        if ('Variable' in n.op\n",
    "        or 'Placeholder' in n.name\n",
    "        or 'logits' in n.name\n",
    "        or 'alphas' in n.name)\n",
    "        and 'Adam' not in n.name\n",
    "        and 'beta' not in n.name\n",
    "    ]\n",
    ")"
   ]
  },
  {
   "cell_type": "code",
   "execution_count": 11,
   "metadata": {},
   "outputs": [
    {
     "data": {
      "text/plain": [
       "['Placeholder',\n",
       " 'Placeholder_1',\n",
       " 'Variable',\n",
       " 'memory_layer/kernel',\n",
       " 'rnn/attention_wrapper/multi_rnn_cell/cell_0/lstm_cell/kernel',\n",
       " 'rnn/attention_wrapper/multi_rnn_cell/cell_0/lstm_cell/bias',\n",
       " 'rnn/attention_wrapper/multi_rnn_cell/cell_1/lstm_cell/kernel',\n",
       " 'rnn/attention_wrapper/multi_rnn_cell/cell_1/lstm_cell/bias',\n",
       " 'rnn/attention_wrapper/bahdanau_attention/query_layer/kernel',\n",
       " 'rnn/attention_wrapper/bahdanau_attention/attention_v',\n",
       " 'rnn/attention_wrapper/attention_layer/kernel',\n",
       " 'dense/kernel',\n",
       " 'dense/bias',\n",
       " 'logits_seq',\n",
       " 'logits',\n",
       " 'alphas']"
      ]
     },
     "execution_count": 11,
     "metadata": {},
     "output_type": "execute_result"
    }
   ],
   "source": [
    "strings.split(',')"
   ]
  },
  {
   "cell_type": "code",
   "execution_count": 12,
   "metadata": {},
   "outputs": [
    {
     "data": {
      "text/plain": [
       "[<tf.Variable 'Variable:0' shape=(194735, 256) dtype=float32_ref>,\n",
       " <tf.Variable 'memory_layer/kernel:0' shape=(256, 256) dtype=float32_ref>,\n",
       " <tf.Variable 'rnn/attention_wrapper/multi_rnn_cell/cell_0/lstm_cell/kernel:0' shape=(768, 1024) dtype=float32_ref>,\n",
       " <tf.Variable 'rnn/attention_wrapper/multi_rnn_cell/cell_0/lstm_cell/bias:0' shape=(1024,) dtype=float32_ref>,\n",
       " <tf.Variable 'rnn/attention_wrapper/multi_rnn_cell/cell_1/lstm_cell/kernel:0' shape=(512, 1024) dtype=float32_ref>,\n",
       " <tf.Variable 'rnn/attention_wrapper/multi_rnn_cell/cell_1/lstm_cell/bias:0' shape=(1024,) dtype=float32_ref>,\n",
       " <tf.Variable 'rnn/attention_wrapper/bahdanau_attention/query_layer/kernel:0' shape=(256, 256) dtype=float32_ref>,\n",
       " <tf.Variable 'rnn/attention_wrapper/bahdanau_attention/attention_v:0' shape=(256,) dtype=float32_ref>,\n",
       " <tf.Variable 'rnn/attention_wrapper/attention_layer/kernel:0' shape=(512, 256) dtype=float32_ref>,\n",
       " <tf.Variable 'dense/kernel:0' shape=(256, 6) dtype=float32_ref>,\n",
       " <tf.Variable 'dense/bias:0' shape=(6,) dtype=float32_ref>]"
      ]
     },
     "execution_count": 12,
     "metadata": {},
     "output_type": "execute_result"
    }
   ],
   "source": [
    "tf.trainable_variables()"
   ]
  },
  {
   "cell_type": "code",
   "execution_count": 13,
   "metadata": {},
   "outputs": [],
   "source": [
    "train_X, test_X, train_Y, test_Y = train_test_split(\n",
    "    texts, labels, test_size = 0.2\n",
    ")"
   ]
  },
  {
   "cell_type": "code",
   "execution_count": 14,
   "metadata": {},
   "outputs": [
    {
     "name": "stderr",
     "output_type": "stream",
     "text": [
      "train minibatch loop: 100%|██████████| 10513/10513 [28:26<00:00,  6.17it/s, accuracy=0.821, cost=0.321]\n",
      "test minibatch loop: 100%|██████████| 2629/2629 [01:39<00:00, 26.37it/s, accuracy=0.875, cost=0.331] \n",
      "train minibatch loop:   0%|          | 1/10513 [00:00<28:00,  6.25it/s, accuracy=0.812, cost=0.294]"
     ]
    },
    {
     "name": "stdout",
     "output_type": "stream",
     "text": [
      "epoch: 0, pass acc: 0.000000, current acc: 0.833860\n",
      "time taken: 1806.4379632472992\n",
      "epoch: 0, training loss: 0.507723, training acc: 0.778103, valid loss: 0.358880, valid acc: 0.833860\n",
      "\n"
     ]
    },
    {
     "name": "stderr",
     "output_type": "stream",
     "text": [
      "train minibatch loop: 100%|██████████| 10513/10513 [28:26<00:00,  6.16it/s, accuracy=0.821, cost=0.271] \n",
      "test minibatch loop: 100%|██████████| 2629/2629 [01:39<00:00, 26.37it/s, accuracy=0.75, cost=0.348]  \n",
      "train minibatch loop:   0%|          | 1/10513 [00:00<29:09,  6.01it/s, accuracy=0.812, cost=0.282]"
     ]
    },
    {
     "name": "stdout",
     "output_type": "stream",
     "text": [
      "epoch: 1, pass acc: 0.833860, current acc: 0.851374\n",
      "time taken: 1805.9654252529144\n",
      "epoch: 1, training loss: 0.323606, training acc: 0.846076, valid loss: 0.306598, valid acc: 0.851374\n",
      "\n"
     ]
    },
    {
     "name": "stderr",
     "output_type": "stream",
     "text": [
      "train minibatch loop: 100%|██████████| 10513/10513 [28:24<00:00,  6.23it/s, accuracy=0.893, cost=0.194] \n",
      "test minibatch loop: 100%|██████████| 2629/2629 [01:39<00:00, 26.43it/s, accuracy=0.875, cost=0.244] \n",
      "train minibatch loop:   0%|          | 1/10513 [00:00<28:33,  6.14it/s, accuracy=0.844, cost=0.245]"
     ]
    },
    {
     "name": "stdout",
     "output_type": "stream",
     "text": [
      "epoch: 2, pass acc: 0.851374, current acc: 0.855572\n",
      "time taken: 1804.1147470474243\n",
      "epoch: 2, training loss: 0.286857, training acc: 0.857566, valid loss: 0.290092, valid acc: 0.855572\n",
      "\n"
     ]
    },
    {
     "name": "stderr",
     "output_type": "stream",
     "text": [
      "train minibatch loop: 100%|██████████| 10513/10513 [28:23<00:00,  6.20it/s, accuracy=0.893, cost=0.205] \n",
      "test minibatch loop: 100%|██████████| 2629/2629 [01:39<00:00, 26.44it/s, accuracy=0.875, cost=0.212] \n",
      "train minibatch loop:   0%|          | 1/10513 [00:00<28:32,  6.14it/s, accuracy=0.812, cost=0.258]"
     ]
    },
    {
     "name": "stdout",
     "output_type": "stream",
     "text": [
      "epoch: 3, pass acc: 0.855572, current acc: 0.856321\n",
      "time taken: 1802.9133727550507\n",
      "epoch: 3, training loss: 0.268571, training acc: 0.862905, valid loss: 0.282082, valid acc: 0.856321\n",
      "\n"
     ]
    },
    {
     "name": "stderr",
     "output_type": "stream",
     "text": [
      "train minibatch loop: 100%|██████████| 10513/10513 [28:24<00:00,  6.20it/s, accuracy=0.857, cost=0.176] \n",
      "test minibatch loop: 100%|██████████| 2629/2629 [01:39<00:00, 26.43it/s, accuracy=0.875, cost=0.216] \n",
      "train minibatch loop:   0%|          | 1/10513 [00:00<28:00,  6.26it/s, accuracy=0.812, cost=0.24]"
     ]
    },
    {
     "name": "stdout",
     "output_type": "stream",
     "text": [
      "epoch: 4, pass acc: 0.856321, current acc: 0.858425\n",
      "time taken: 1803.940958738327\n",
      "epoch: 4, training loss: 0.256094, training acc: 0.866911, valid loss: 0.276821, valid acc: 0.858425\n",
      "\n"
     ]
    },
    {
     "name": "stderr",
     "output_type": "stream",
     "text": [
      "train minibatch loop: 100%|██████████| 10513/10513 [28:23<00:00,  6.20it/s, accuracy=0.857, cost=0.22]  \n",
      "test minibatch loop: 100%|██████████| 2629/2629 [01:39<00:00, 26.44it/s, accuracy=1, cost=0.185]     \n",
      "train minibatch loop:   0%|          | 1/10513 [00:00<27:52,  6.29it/s, accuracy=0.812, cost=0.243]"
     ]
    },
    {
     "name": "stdout",
     "output_type": "stream",
     "text": [
      "time taken: 1803.388067483902\n",
      "epoch: 5, training loss: 0.245726, training acc: 0.870467, valid loss: 0.277493, valid acc: 0.857688\n",
      "\n"
     ]
    },
    {
     "name": "stderr",
     "output_type": "stream",
     "text": [
      "train minibatch loop: 100%|██████████| 10513/10513 [28:24<00:00,  6.21it/s, accuracy=0.857, cost=0.228] \n",
      "test minibatch loop: 100%|██████████| 2629/2629 [01:39<00:00, 26.41it/s, accuracy=1, cost=0.191]     \n",
      "train minibatch loop:   0%|          | 1/10513 [00:00<29:00,  6.04it/s, accuracy=0.812, cost=0.261]"
     ]
    },
    {
     "name": "stdout",
     "output_type": "stream",
     "text": [
      "time taken: 1804.126121044159\n",
      "epoch: 6, training loss: 0.237529, training acc: 0.873686, valid loss: 0.276567, valid acc: 0.855631\n",
      "\n"
     ]
    },
    {
     "name": "stderr",
     "output_type": "stream",
     "text": [
      "train minibatch loop: 100%|██████████| 10513/10513 [28:24<00:00,  6.22it/s, accuracy=0.893, cost=0.203] \n",
      "test minibatch loop: 100%|██████████| 2629/2629 [01:39<00:00, 26.42it/s, accuracy=1, cost=0.136]     "
     ]
    },
    {
     "name": "stdout",
     "output_type": "stream",
     "text": [
      "time taken: 1804.089854478836\n",
      "epoch: 7, training loss: 0.230081, training acc: 0.876284, valid loss: 0.281058, valid acc: 0.855274\n",
      "\n",
      "break epoch:8\n",
      "\n"
     ]
    },
    {
     "name": "stderr",
     "output_type": "stream",
     "text": [
      "\n"
     ]
    }
   ],
   "source": [
    "from tqdm import tqdm\n",
    "import time\n",
    "\n",
    "EARLY_STOPPING, CURRENT_CHECKPOINT, CURRENT_ACC, EPOCH = 3, 0, 0, 0\n",
    "\n",
    "while True:\n",
    "    lasttime = time.time()\n",
    "    if CURRENT_CHECKPOINT == EARLY_STOPPING:\n",
    "        print('break epoch:%d\\n' % (EPOCH))\n",
    "        break\n",
    "\n",
    "    train_acc, train_loss, test_acc, test_loss = 0, 0, 0, 0\n",
    "    pbar = tqdm(\n",
    "        range(0, len(train_X), batch_size), desc = 'train minibatch loop'\n",
    "    )\n",
    "    for i in pbar:\n",
    "        batch_x = str_idx(train_X[i : min(i + batch_size, len(train_X))], dictionary, maxlen)\n",
    "        batch_y = train_Y[i : min(i + batch_size, len(train_X))]\n",
    "        batch_x_expand = np.expand_dims(batch_x,axis = 1)\n",
    "        acc, cost, _ = sess.run(\n",
    "            [model.accuracy, model.cost, model.optimizer],\n",
    "            feed_dict = {\n",
    "                model.Y: batch_y,\n",
    "                model.X: batch_x\n",
    "            },\n",
    "        )\n",
    "        assert not np.isnan(cost)\n",
    "        train_loss += cost\n",
    "        train_acc += acc\n",
    "        pbar.set_postfix(cost = cost, accuracy = acc)\n",
    "\n",
    "    pbar = tqdm(range(0, len(test_X), batch_size), desc = 'test minibatch loop')\n",
    "    for i in pbar:\n",
    "        batch_x = str_idx(test_X[i : min(i + batch_size, len(test_X))], dictionary, maxlen)\n",
    "        batch_y = test_Y[i : min(i + batch_size, len(test_X))]\n",
    "        batch_x_expand = np.expand_dims(batch_x,axis = 1)\n",
    "        acc, cost = sess.run(\n",
    "            [model.accuracy, model.cost],\n",
    "            feed_dict = {\n",
    "                model.Y: batch_y,\n",
    "                model.X: batch_x\n",
    "            },\n",
    "        )\n",
    "        test_loss += cost\n",
    "        test_acc += acc\n",
    "        pbar.set_postfix(cost = cost, accuracy = acc)\n",
    "\n",
    "    train_loss /= len(train_X) / batch_size\n",
    "    train_acc /= len(train_X) / batch_size\n",
    "    test_loss /= len(test_X) / batch_size\n",
    "    test_acc /= len(test_X) / batch_size\n",
    "\n",
    "    if test_acc > CURRENT_ACC:\n",
    "        print(\n",
    "            'epoch: %d, pass acc: %f, current acc: %f'\n",
    "            % (EPOCH, CURRENT_ACC, test_acc)\n",
    "        )\n",
    "        CURRENT_ACC = test_acc\n",
    "        CURRENT_CHECKPOINT = 0\n",
    "    else:\n",
    "        CURRENT_CHECKPOINT += 1\n",
    "        \n",
    "    print('time taken:', time.time() - lasttime)\n",
    "    print(\n",
    "        'epoch: %d, training loss: %f, training acc: %f, valid loss: %f, valid acc: %f\\n'\n",
    "        % (EPOCH, train_loss, train_acc, test_loss, test_acc)\n",
    "    )\n",
    "    EPOCH += 1"
   ]
  },
  {
   "cell_type": "code",
   "execution_count": 15,
   "metadata": {},
   "outputs": [
    {
     "data": {
      "text/plain": [
       "'bahdanau/model.ckpt'"
      ]
     },
     "execution_count": 15,
     "metadata": {},
     "output_type": "execute_result"
    }
   ],
   "source": [
    "saver.save(sess, 'bahdanau/model.ckpt')"
   ]
  },
  {
   "cell_type": "code",
   "execution_count": 27,
   "metadata": {},
   "outputs": [
    {
     "data": {
      "text/plain": [
       "array([[9.5579243e-01, 1.7140401e-03, 5.8068730e-05, 8.2103559e-04,\n",
       "        3.7833266e-02, 3.7811873e-03]], dtype=float32)"
      ]
     },
     "execution_count": 27,
     "metadata": {},
     "output_type": "execute_result"
    }
   ],
   "source": [
    "text = preprocessing('kerajaan sebenarnya sangat bencikan rakyatnya, minyak naik dan segalanya')\n",
    "new_vector = str_idx([text], dictionary, len(text))\n",
    "sess.run(tf.nn.softmax(model.logits), feed_dict={model.X:new_vector})"
   ]
  },
  {
   "cell_type": "code",
   "execution_count": 28,
   "metadata": {},
   "outputs": [
    {
     "data": {
      "text/plain": [
       "array([[[8.7503439e-01, 4.0796096e-03, 1.1681291e-02, 1.9761901e-02,\n",
       "         6.7219168e-02, 2.2223648e-02],\n",
       "        [9.0185910e-01, 3.2690407e-03, 4.4285068e-03, 5.0989017e-03,\n",
       "         6.5191031e-02, 2.0153401e-02],\n",
       "        [8.9758867e-01, 3.0799001e-03, 1.5591373e-03, 1.3781149e-03,\n",
       "         7.1173072e-02, 2.5221055e-02],\n",
       "        [9.5248526e-01, 2.3611211e-03, 1.0431354e-04, 2.4577207e-04,\n",
       "         3.9272953e-02, 5.5305962e-03],\n",
       "        [9.6152484e-01, 1.7582704e-03, 1.2012023e-04, 6.5628305e-04,\n",
       "         3.3400975e-02, 2.5393744e-03],\n",
       "        [9.7122645e-01, 1.2968729e-03, 8.8663553e-05, 3.0159278e-04,\n",
       "         2.5308592e-02, 1.7777863e-03],\n",
       "        [9.7071302e-01, 1.3172423e-03, 3.1681499e-05, 4.9125007e-04,\n",
       "         2.5583209e-02, 1.8636443e-03],\n",
       "        [9.4375247e-01, 2.9528595e-03, 7.0040813e-05, 7.4037589e-04,\n",
       "         4.7362212e-02, 5.1220795e-03]]], dtype=float32)"
      ]
     },
     "execution_count": 28,
     "metadata": {},
     "output_type": "execute_result"
    }
   ],
   "source": [
    "sess.run(tf.nn.softmax(model.logits_seq), feed_dict={model.X:new_vector})"
   ]
  },
  {
   "cell_type": "code",
   "execution_count": 18,
   "metadata": {},
   "outputs": [
    {
     "name": "stderr",
     "output_type": "stream",
     "text": [
      "validation minibatch loop: 100%|██████████| 2629/2629 [01:36<00:00, 27.19it/s]\n"
     ]
    }
   ],
   "source": [
    "real_Y, predict_Y = [], []\n",
    "\n",
    "pbar = tqdm(\n",
    "    range(0, len(test_X), batch_size), desc = 'validation minibatch loop'\n",
    ")\n",
    "for i in pbar:\n",
    "    batch_x = str_idx(test_X[i : min(i + batch_size, len(test_X))], dictionary, maxlen)\n",
    "    batch_y = test_Y[i : min(i + batch_size, len(test_X))]\n",
    "    predict_Y += np.argmax(\n",
    "        sess.run(\n",
    "            model.logits, feed_dict = {model.X: batch_x, model.Y: batch_y}\n",
    "        ),\n",
    "        1,\n",
    "    ).tolist()\n",
    "    real_Y += batch_y"
   ]
  },
  {
   "cell_type": "code",
   "execution_count": 19,
   "metadata": {},
   "outputs": [
    {
     "name": "stdout",
     "output_type": "stream",
     "text": [
      "             precision    recall  f1-score   support\n",
      "\n",
      "      anger       0.91      0.92      0.92     14943\n",
      "       fear       0.87      0.86      0.87      7630\n",
      "        joy       0.94      0.89      0.92     16570\n",
      "       love       0.94      0.92      0.93     15729\n",
      "    sadness       0.73      0.91      0.81     19849\n",
      "   surprise       0.77      0.47      0.58      9383\n",
      "\n",
      "avg / total       0.86      0.86      0.85     84104\n",
      "\n"
     ]
    }
   ],
   "source": [
    "print(\n",
    "    metrics.classification_report(\n",
    "        real_Y, predict_Y, target_names = ['anger', 'fear', 'joy', 'love', 'sadness', 'surprise']\n",
    "    )\n",
    ")"
   ]
  },
  {
   "cell_type": "code",
   "execution_count": 29,
   "metadata": {},
   "outputs": [],
   "source": [
    "def freeze_graph(model_dir, output_node_names):\n",
    "\n",
    "    if not tf.gfile.Exists(model_dir):\n",
    "        raise AssertionError(\n",
    "            \"Export directory doesn't exists. Please specify an export \"\n",
    "            'directory: %s' % model_dir\n",
    "        )\n",
    "\n",
    "    checkpoint = tf.train.get_checkpoint_state(model_dir)\n",
    "    input_checkpoint = checkpoint.model_checkpoint_path\n",
    "\n",
    "    absolute_model_dir = '/'.join(input_checkpoint.split('/')[:-1])\n",
    "    output_graph = absolute_model_dir + '/frozen_model.pb'\n",
    "    clear_devices = True\n",
    "    with tf.Session(graph = tf.Graph()) as sess:\n",
    "        saver = tf.train.import_meta_graph(\n",
    "            input_checkpoint + '.meta', clear_devices = clear_devices\n",
    "        )\n",
    "        saver.restore(sess, input_checkpoint)\n",
    "        output_graph_def = tf.graph_util.convert_variables_to_constants(\n",
    "            sess,\n",
    "            tf.get_default_graph().as_graph_def(),\n",
    "            output_node_names.split(','),\n",
    "        )\n",
    "        with tf.gfile.GFile(output_graph, 'wb') as f:\n",
    "            f.write(output_graph_def.SerializeToString())\n",
    "        print('%d ops in the final graph.' % len(output_graph_def.node))"
   ]
  },
  {
   "cell_type": "code",
   "execution_count": 30,
   "metadata": {},
   "outputs": [
    {
     "name": "stdout",
     "output_type": "stream",
     "text": [
      "INFO:tensorflow:Restoring parameters from bahdanau/model.ckpt\n",
      "INFO:tensorflow:Froze 11 variables.\n",
      "INFO:tensorflow:Converted 11 variables to const ops.\n",
      "467 ops in the final graph.\n"
     ]
    }
   ],
   "source": [
    "freeze_graph('bahdanau', strings)"
   ]
  },
  {
   "cell_type": "code",
   "execution_count": 31,
   "metadata": {},
   "outputs": [],
   "source": [
    "def load_graph(frozen_graph_filename):\n",
    "    with tf.gfile.GFile(frozen_graph_filename, 'rb') as f:\n",
    "        graph_def = tf.GraphDef()\n",
    "        graph_def.ParseFromString(f.read())\n",
    "    with tf.Graph().as_default() as graph:\n",
    "        tf.import_graph_def(graph_def)\n",
    "    return graph"
   ]
  },
  {
   "cell_type": "code",
   "execution_count": 32,
   "metadata": {},
   "outputs": [],
   "source": [
    "g = load_graph('bahdanau/frozen_model.pb')\n",
    "x = g.get_tensor_by_name('import/Placeholder:0')\n",
    "logits_seq = g.get_tensor_by_name('import/logits_seq:0')\n",
    "logits = g.get_tensor_by_name('import/logits:0')\n",
    "alphas = g.get_tensor_by_name('import/alphas:0')\n",
    "test_sess = tf.InteractiveSession(graph = g)\n",
    "result = test_sess.run([logits, alphas, logits_seq], feed_dict = {x: new_vector})"
   ]
  },
  {
   "cell_type": "code",
   "execution_count": 33,
   "metadata": {},
   "outputs": [],
   "source": [
    "import matplotlib.pyplot as plt\n",
    "import seaborn as sns\n",
    "sns.set()"
   ]
  },
  {
   "cell_type": "code",
   "execution_count": 34,
   "metadata": {},
   "outputs": [],
   "source": [
    "news_string = 'Kerajaan juga perlu prihatin dan peka terhadap nasib para nelayan yang bergantung rezeki sepenuhnya kepada sumber hasil laut. Malah, projek ini memberikan kesan buruk yang berpanjangan kepada alam sekitar selain menjejaskan mata pencarian para nelayan'"
   ]
  },
  {
   "cell_type": "code",
   "execution_count": 35,
   "metadata": {},
   "outputs": [],
   "source": [
    "text = preprocessing(news_string)\n",
    "new_vector = str_idx([text], dictionary, len(text))\n",
    "result = test_sess.run([tf.nn.softmax(logits), alphas, tf.nn.softmax(logits_seq)], feed_dict = {x: new_vector})"
   ]
  },
  {
   "cell_type": "code",
   "execution_count": 37,
   "metadata": {},
   "outputs": [
    {
     "data": {
      "image/png": "[encoded data removed]",
      "text/plain": [
       "<Figure size 1080x504 with 1 Axes>"
      ]
     },
     "metadata": {
      "needs_background": "light"
     },
     "output_type": "display_data"
    }
   ],
   "source": [
    "plt.figure(figsize = (15, 7))\n",
    "labels = [word for word in text]\n",
    "val = [val for val in result[1]]\n",
    "plt.bar(np.arange(len(labels)), val)\n",
    "plt.xticks(np.arange(len(labels)), labels, rotation = 'vertical')\n",
    "plt.show()"
   ]
  },
  {
   "cell_type": "code",
   "execution_count": 38,
   "metadata": {},
   "outputs": [
    {
     "data": {
      "text/plain": [
       "array([[[2.35456795e-01, 1.13787755e-01, 1.84029154e-02, 1.97571106e-02,\n",
       "         3.58908951e-01, 2.53686517e-01],\n",
       "        [2.87183911e-01, 1.10419728e-01, 6.76609343e-03, 7.39877205e-03,\n",
       "         3.95097911e-01, 1.93133548e-01],\n",
       "        [2.93474674e-01, 9.24961194e-02, 3.47279944e-03, 4.31073969e-03,\n",
       "         3.56325060e-01, 2.49920636e-01],\n",
       "        [2.56820053e-01, 5.62430136e-02, 1.60429871e-03, 1.89781131e-03,\n",
       "         4.57970738e-01, 2.25464091e-01],\n",
       "        [2.02544361e-01, 4.08357903e-02, 9.25916014e-04, 1.67246012e-03,\n",
       "         4.72074866e-01, 2.81946659e-01],\n",
       "        [2.34901190e-01, 3.72201838e-02, 9.34051641e-04, 3.78618250e-03,\n",
       "         4.67558861e-01, 2.55599588e-01],\n",
       "        [2.30352208e-01, 3.63332182e-02, 5.74249076e-04, 4.50069457e-03,\n",
       "         5.30165315e-01, 1.98074311e-01],\n",
       "        [3.16199005e-01, 5.38086556e-02, 7.98433903e-04, 3.22504505e-03,\n",
       "         4.72374409e-01, 1.53594494e-01],\n",
       "        [3.72093201e-01, 8.07847381e-02, 1.16029277e-03, 8.58110841e-03,\n",
       "         4.00474429e-01, 1.36906192e-01],\n",
       "        [3.48099023e-01, 9.85912904e-02, 7.80301460e-04, 6.14602538e-03,\n",
       "         4.21583712e-01, 1.24799639e-01],\n",
       "        [4.58159834e-01, 1.14559680e-01, 1.47025508e-03, 8.31063837e-03,\n",
       "         3.44240725e-01, 7.32589215e-02],\n",
       "        [4.25556540e-01, 8.07259902e-02, 1.31364760e-03, 9.17795300e-03,\n",
       "         3.69142264e-01, 1.14083625e-01],\n",
       "        [3.13975036e-01, 4.59096581e-02, 1.04562438e-03, 8.81653465e-03,\n",
       "         4.93962526e-01, 1.36290550e-01],\n",
       "        [3.50818366e-01, 8.82869139e-02, 1.98974623e-03, 7.22311763e-03,\n",
       "         3.51672143e-01, 2.00009689e-01],\n",
       "        [3.74046803e-01, 1.20451793e-01, 5.28861349e-03, 2.10471358e-02,\n",
       "         2.83919692e-01, 1.95245981e-01],\n",
       "        [3.04730445e-01, 1.15517758e-01, 5.87312644e-03, 1.29045127e-02,\n",
       "         2.74424374e-01, 2.86549807e-01],\n",
       "        [1.94604501e-01, 5.14238626e-02, 2.09061382e-03, 7.68595701e-03,\n",
       "         4.44872350e-01, 2.99322784e-01],\n",
       "        [2.27038041e-01, 7.35674202e-02, 3.24816443e-03, 1.01747196e-02,\n",
       "         4.18274343e-01, 2.67697304e-01],\n",
       "        [1.90988228e-01, 4.45404649e-02, 2.80826143e-03, 1.49607304e-02,\n",
       "         4.83482897e-01, 2.63219416e-01],\n",
       "        [1.58115357e-01, 4.68908474e-02, 1.32713746e-03, 8.10750574e-03,\n",
       "         5.16305923e-01, 2.69253254e-01],\n",
       "        [1.59695268e-01, 4.05595675e-02, 2.52953987e-03, 1.90858319e-02,\n",
       "         5.03372729e-01, 2.74757087e-01],\n",
       "        [9.90831032e-02, 2.99690943e-02, 6.42985106e-04, 5.97228622e-03,\n",
       "         6.21871829e-01, 2.42460698e-01],\n",
       "        [6.32370412e-02, 2.06198059e-02, 1.36884081e-03, 1.10822571e-02,\n",
       "         7.36115038e-01, 1.67576939e-01],\n",
       "        [9.94609147e-02, 3.04586757e-02, 1.19436404e-03, 1.01873660e-02,\n",
       "         5.83668292e-01, 2.75030404e-01],\n",
       "        [1.18240952e-01, 4.62796018e-02, 4.46540164e-03, 8.83052405e-03,\n",
       "         5.36560535e-01, 2.85622954e-01],\n",
       "        [1.68373048e-01, 4.26481292e-02, 2.15630513e-03, 1.12777697e-02,\n",
       "         6.12492979e-01, 1.63051724e-01],\n",
       "        [2.04639912e-01, 2.97683701e-02, 1.23718556e-03, 1.09546883e-02,\n",
       "         5.51710248e-01, 2.01689526e-01],\n",
       "        [1.94204137e-01, 3.81791852e-02, 2.27801059e-03, 9.70285013e-03,\n",
       "         5.78179538e-01, 1.77456304e-01],\n",
       "        [2.75284290e-01, 5.87933771e-02, 3.78756435e-03, 2.32550967e-02,\n",
       "         5.42555988e-01, 9.63237062e-02],\n",
       "        [2.48293668e-01, 4.43365909e-02, 1.66981039e-03, 1.10144736e-02,\n",
       "         5.27103245e-01, 1.67582229e-01],\n",
       "        [1.39217377e-01, 5.81363961e-02, 1.80676254e-03, 5.17370319e-03,\n",
       "         6.59000099e-01, 1.36665672e-01],\n",
       "        [1.60902083e-01, 9.62193534e-02, 1.88768702e-03, 9.67403129e-03,\n",
       "         6.11815453e-01, 1.19501412e-01],\n",
       "        [1.29996046e-01, 1.07502058e-01, 3.87436105e-03, 1.18903676e-02,\n",
       "         6.16897464e-01, 1.29839748e-01]]], dtype=float32)"
      ]
     },
     "execution_count": 38,
     "metadata": {},
     "output_type": "execute_result"
    }
   ],
   "source": [
    "result[2]"
   ]
  },
  {
   "cell_type": "code",
   "execution_count": null,
   "metadata": {},
   "outputs": [],
   "source": []
  }
 ],
 "metadata": {
  "kernelspec": {
   "display_name": "Python 3",
   "language": "python",
   "name": "python3"
  },
  "language_info": {
   "codemirror_mode": {
    "name": "ipython",
    "version": 3
   },
   "file_extension": ".py",
   "mimetype": "text/x-python",
   "name": "python",
   "nbconvert_exporter": "python",
   "pygments_lexer": "ipython3",
   "version": "3.6.8"
  }
 },
 "nbformat": 4,
 "nbformat_minor": 2
}
