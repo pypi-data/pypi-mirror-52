{
 "cells": [
  {
   "cell_type": "code",
   "execution_count": 2,
   "metadata": {
    "outputExpanded": true,
    "tags": []
   },
   "outputs": [
    {
     "name": "stdout",
     "output_type": "stream",
     "text": [
      "Example notebook\n"
     ]
    }
   ],
   "source": [
    "print(\"Example notebook\")\n",
    "x = 3"
   ]
  },
  {
   "cell_type": "markdown",
   "metadata": {},
   "source": [
    "Merely an _example_"
   ]
  },
  {
   "cell_type": "code",
   "execution_count": 3,
   "metadata": {},
   "outputs": [
    {
     "name": "stdout",
     "output_type": "stream",
     "text": [
      "yes \n",
      " huhu\n",
      "3\n"
     ]
    }
   ],
   "source": [
    "print('yes \\n huhu')\n",
    "print(x)"
   ]
  }
 ],
 "metadata": {
  "authors": [
   {
    "name": "Felix Koppe"
   }
  ],
  "description": "",
  "kernelspec": {
   "display_name": "Python 3",
   "language": "python",
   "name": "python3"
  },
  "language_info": {
   "codemirror_mode": {
    "name": "ipython",
    "version": 3
   },
   "file_extension": ".py",
   "mimetype": "text/x-python",
   "name": "python",
   "nbconvert_exporter": "python",
   "pygments_lexer": "ipython3",
   "version": "3.5.5"
  },
  "nteract": {
   "version": "nteract-on-jupyter@2.2.0"
  },
  "tags": [
   "jupytercool"
  ],
  "title": "Huch"
 },
 "nbformat": 4,
 "nbformat_minor": 2
}
