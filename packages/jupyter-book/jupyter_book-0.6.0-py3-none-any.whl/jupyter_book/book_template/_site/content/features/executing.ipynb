{
 "cells": [
  {
   "cell_type": "markdown",
   "metadata": {},
   "source": [
    "# Executing pages of your book\n",
    "\n",
    "✨**experimental**✨\n",
    "\n",
    "Sometimes you'd like to execute each page's content before building its HTML - this\n",
    "ensures that the outputs are up-to-date and that they still run. Jupyter Book\n",
    "has the ability to execute any code in your content when you build each page's HTML.\n",
    "\n",
    "## Default execution behavior\n",
    "\n",
    "By default, Jupyter Book will decide whether to execute your book's content based on\n",
    "the types of files used to store your content. By default, any Jupyter Notebooks will\n",
    "**not be executed**, Jupyter Book assumes that the notebook outputs are already\n",
    "present in the `ipynb` file (see below for how to change this behavior). In addition,\n",
    "**raw markdown** files will also not be executed, as Jupyter Book assumes that any\n",
    "code blocks were meant for viewing only, not running. However, any\n",
    "**[Jupytext documents](jupytext.html) content will be executed** when the page's HTML is built.\n",
    "This can be either `.py`, `.md`, or `.Rmd` files that have jupytext YAML front-matter.\n",
    "\n",
    "There are a few ways to alter this behavior, which we'll cover below:"
   ]
  },
  {
   "cell_type": "markdown",
   "metadata": {},
   "source": [
    "It's possible to **execute your book content at build time**. There are a few convenience\n",
    "functions and options for this:\n",
    "\n",
    "## Run all your book's content when building: **`jupyter-book build --execute`**\n",
    "\n",
    "If you'd like to run each page of your book (where possible) when building the\n",
    "HTML for your book pages, you may use the `--execute` flag when you build each page's HTML. This\n",
    "will cause each `.ipynb` and jupytext-formatted page to be **executed** when it is built.\n",
    "In this case, the source content files will not be modified, but the outputs will be placed\n",
    "in each page's HTML.\n",
    "\n",
    "Remember that the HTML for each page is cached until you update your content. The\n",
    "first time you run `jupyter-book build --execute`, each page of your book will be run\n",
    "and converted to HTML. However, after this, only the pages that have been updated will\n",
    "be executed and converted to HTML, so while this will take a long\n",
    "time the first time you run it (since all your book content will need to run), it\n",
    "should be incrementally faster in subsequent builds.\n",
    "\n",
    "Here's a quick summary of this behavior:\n",
    "\n",
    "| Type | Default | `--execute`|\n",
    "|---|---|---|\n",
    "| Jupyter Notebooks (`.ipynb`) | Doesn't execute| Executes |\n",
    "| Raw markdown (`.md`) | Doesn't execute |  Executes|\n",
    "| Jupytext pages (`.md`, `.Rmd`, `.py`)| Executes |Executes |\n",
    "\n",
    "## Run a single page in-place: **`jupyter-book run`**\n",
    "\n",
    "Jupyter Book also provides a convenience command-line function that executes a\n",
    "single Jupyter Notebook and stores the outputs in the same `ipynb` file.\n",
    "\n",
    "This is a command-line function that allows you to quickly execute pages of\n",
    "your book and store the content in-line. You can use it with a path to a single\n",
    "book page like so:\n",
    "\n",
    "```\n",
    "jupyter-book run path/to/notebook.ipynb\n",
    "```\n",
    "\n",
    "And it will simply run the execute in-place.\n",
    "\n",
    "You can also specify a folder with a **collection** of pages as the first argument:\n",
    "\n",
    "```\n",
    "jupyter-book run path/to/notebook_folder\n",
    "```\n",
    "\n",
    "In this case, all notebooks in this folder and sub-folders will be run in-place.\n"
   ]
  }
 ],
 "metadata": {
  "kernelspec": {
   "display_name": "Python 3",
   "language": "python",
   "name": "python3"
  },
  "language_info": {
   "codemirror_mode": {
    "name": "ipython",
    "version": 3
   },
   "file_extension": ".py",
   "mimetype": "text/x-python",
   "name": "python",
   "nbconvert_exporter": "python",
   "pygments_lexer": "ipython3",
   "version": "3.7.3"
  },
  "widgets": {
   "application/vnd.jupyter.widget-state+json": {
    "state": {},
    "version_major": 2,
    "version_minor": 0
   }
  }
 },
 "nbformat": 4,
 "nbformat_minor": 4
}
