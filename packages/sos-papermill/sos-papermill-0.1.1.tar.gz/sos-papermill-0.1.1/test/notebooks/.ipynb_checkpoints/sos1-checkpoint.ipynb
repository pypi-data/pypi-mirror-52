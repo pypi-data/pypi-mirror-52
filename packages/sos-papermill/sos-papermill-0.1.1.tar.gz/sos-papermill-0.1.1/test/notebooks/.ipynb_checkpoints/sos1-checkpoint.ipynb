{
 "cells": [
  {
   "cell_type": "code",
   "execution_count": 1,
   "metadata": {
    "kernel": "SoS",
    "papermill": {
     "duration": 0.448622,
     "end_time": "2019-09-17T03:21:28.415935",
     "exception": false,
     "start_time": "2019-09-17T03:21:27.967313",
     "status": "completed"
    },
    "tags": []
   },
   "outputs": [],
   "source": [
    "a = 1"
   ]
  },
  {
   "cell_type": "code",
   "execution_count": 1,
   "metadata": {
    "kernel": "Python3",
    "papermill": {
     "duration": 0.01399,
     "end_time": "2019-09-17T03:21:28.433500",
     "exception": false,
     "start_time": "2019-09-17T03:21:28.419510",
     "status": "completed"
    },
    "tags": []
   },
   "outputs": [
    {
     "name": "stderr",
     "output_type": "stream",
     "text": [
      "Magic %get without option --kernel can only be executed by subkernels\n"
     ]
    }
   ],
   "source": [
    "%get a\n",
    "b = a + 100"
   ]
  },
  {
   "cell_type": "code",
   "execution_count": 1,
   "metadata": {
    "kernel": "SoS",
    "papermill": {
     "duration": 1.869996,
     "end_time": "2019-09-17T03:21:30.307327",
     "exception": false,
     "start_time": "2019-09-17T03:21:28.437331",
     "status": "completed"
    },
    "tags": []
   },
   "outputs": [
    {
     "name": "stdout",
     "output_type": "stream",
     "text": [
      "101\n"
     ]
    }
   ],
   "source": [
    "%get b --from Python3\n",
    "print(b)"
   ]
  }
 ],
 "metadata": {
  "kernelspec": {
   "display_name": "SoS",
   "language": "sos",
   "name": "sos"
  },
  "language_info": {
   "codemirror_mode": "sos",
   "file_extension": ".sos",
   "mimetype": "text/x-sos",
   "name": "sos",
   "nbconvert_exporter": "sos_notebook.converter.SoS_Exporter",
   "pygments_lexer": "sos"
  },
  "papermill": {
   "duration": 11.028999,
   "end_time": "2019-09-17T03:21:35.454536",
   "environment_variables": {},
   "exception": null,
   "input_path": "sos_python3.ipynb",
   "output_path": "sos1.ipynb",
   "parameters": {},
   "start_time": "2019-09-17T03:21:24.425537",
   "version": "1.1.0"
  },
  "sos": {
   "kernels": [
    [
     "Python3",
     "python3",
     "Python3",
     "#FFD91A",
     {
      "name": "ipython",
      "version": 3
     }
    ],
    [
     "SoS",
     "sos",
     "",
     "",
     "sos"
    ]
   ],
   "panel": {
    "displayed": true,
    "height": 0
   },
   "version": "0.20.1"
  }
 },
 "nbformat": 4,
 "nbformat_minor": 2
}
