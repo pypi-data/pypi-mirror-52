{
 "cells": [
  {
   "cell_type": "code",
   "execution_count": 1,
   "metadata": {
    "kernel": "SoS",
    "papermill": {
     "duration": 2.50691,
     "end_time": "2019-09-18T15:10:14.006237",
     "exception": false,
     "start_time": "2019-09-18T15:10:11.499327",
     "status": "completed"
    },
    "tags": []
   },
   "outputs": [
    {
     "name": "stdout",
     "output_type": "stream",
     "text": [
      "1\n",
      "2\n",
      "Execution profile of worker process 30886 is saved to /Users/bpeng1/.sos/profile_worker_30886.txt\n",
      "Execution profile of worker process 30885 is saved to /Users/bpeng1/.sos/profile_worker_30885.txt\n",
      "Execution profile of master process 30878 is saved to /Users/bpeng1/.sos/profile_master_30878.txt\n"
     ]
    }
   ],
   "source": [
    "%run &\n",
    "[step_1]\n",
    "print(1)\n",
    "\n",
    "[step_2]\n",
    "print(2)"
   ]
  }
 ],
 "metadata": {
  "kernelspec": {
   "display_name": "SoS",
   "language": "sos",
   "name": "sos"
  },
  "language_info": {
   "codemirror_mode": "sos",
   "file_extension": ".sos",
   "mimetype": "text/x-sos",
   "name": "sos",
   "nbconvert_exporter": "sos_notebook.converter.SoS_Exporter",
   "pygments_lexer": "sos"
  },
  "papermill": {
   "duration": 10.627273,
   "end_time": "2019-09-18T15:10:19.172153",
   "environment_variables": {},
   "exception": null,
   "input_path": "work.ipynb",
   "output_path": "w1.ipynb",
   "parameters": {},
   "start_time": "2019-09-18T15:10:08.544880",
   "version": "1.1.0"
  },
  "sos": {
   "kernels": [],
   "panel": {
    "displayed": true,
    "height": 0
   },
   "version": "0.20.4"
  }
 },
 "nbformat": 4,
 "nbformat_minor": 2
}
