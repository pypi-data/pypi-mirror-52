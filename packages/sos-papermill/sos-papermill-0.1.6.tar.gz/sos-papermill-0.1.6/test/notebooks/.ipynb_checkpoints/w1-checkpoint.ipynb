{
 "cells": [
  {
   "cell_type": "code",
   "execution_count": 1,
   "metadata": {
    "kernel": "SoS",
    "papermill": {
     "duration": 0.454568,
     "end_time": "2019-09-18T03:02:58.830135",
     "exception": false,
     "start_time": "2019-09-18T03:02:58.375567",
     "status": "completed"
    },
    "tags": []
   },
   "outputs": [],
   "source": [
    "%run &\n",
    "[step_1]\n",
    "print(1)\n",
    "\n",
    "[step_2]\n",
    "print(2)"
   ]
  },
  {
   "cell_type": "code",
   "execution_count": 1,
   "metadata": {
    "kernel": "SoS",
    "papermill": {
     "duration": 0.016626,
     "end_time": "2019-09-18T03:02:58.851522",
     "exception": false,
     "start_time": "2019-09-18T03:02:58.834896",
     "status": "completed"
    },
    "tags": []
   },
   "outputs": [
    {
     "data": {
      "text/html": [
       "<textarea id=\"preview_wf_450041\">#!/usr/bin/env sos-runner\n",
       "#fileformat=SOS1.0\n",
       "\n",
       "[step_1]\n",
       "print(1)\n",
       "\n",
       "[step_2]\n",
       "print(2)\n",
       "\n",
       "</textarea>"
      ],
      "text/plain": [
       "#!/usr/bin/env sos-runner\n",
       "#fileformat=SOS1.0\n",
       "\n",
       "[step_1]\n",
       "print(1)\n",
       "\n",
       "[step_2]\n",
       "print(2)\n",
       "\n"
      ]
     },
     "metadata": {},
     "output_type": "display_data"
    }
   ],
   "source": [
    "%preview --workflow"
   ]
  },
  {
   "cell_type": "code",
   "execution_count": 1,
   "metadata": {
    "kernel": "SoS",
    "papermill": {
     "duration": 4.44914,
     "end_time": "2019-09-18T03:03:03.305817",
     "exception": false,
     "start_time": "2019-09-18T03:02:58.856677",
     "status": "completed"
    },
    "tags": []
   },
   "outputs": [
    {
     "data": {
      "text/html": [
       "<div class=\"sos_logging sos_info\">INFO: A queued or running workflow in this cell is canceled</div>"
      ]
     },
     "metadata": {},
     "output_type": "display_data"
    },
    {
     "data": {
      "text/html": [
       "<div class=\"sos_logging sos_info\">INFO: Running <span class=\"sos_highlight\">step_1</span>: \n",
       "</div>"
      ]
     },
     "metadata": {},
     "output_type": "display_data"
    },
    {
     "data": {
      "text/html": [
       "<div class=\"sos_logging sos_info\">INFO: Running <span class=\"sos_highlight\">step_2</span>: \n",
       "</div>"
      ]
     },
     "metadata": {},
     "output_type": "display_data"
    },
    {
     "data": {
      "text/html": [
       "<div class=\"sos_logging sos_info\">INFO: Workflow step (ID=24101d297dc08f90) is executed successfully with 2 completed steps.\n",
       "</div>"
      ]
     },
     "metadata": {},
     "output_type": "display_data"
    }
   ],
   "source": [
    "%sosrun step"
   ]
  },
  {
   "cell_type": "code",
   "execution_count": 1,
   "metadata": {
    "kernel": "SoS",
    "papermill": {
     "duration": 0.020866,
     "end_time": "2019-09-18T03:03:03.333383",
     "exception": false,
     "start_time": "2019-09-18T03:03:03.312517",
     "status": "completed"
    },
    "tags": []
   },
   "outputs": [],
   "source": [
    "%sosrun step &"
   ]
  },
  {
   "cell_type": "code",
   "execution_count": null,
   "metadata": {
    "kernel": "SoS",
    "papermill": {
     "duration": 0.006325,
     "end_time": "2019-09-18T03:03:03.346490",
     "exception": false,
     "start_time": "2019-09-18T03:03:03.340165",
     "status": "completed"
    },
    "tags": []
   },
   "outputs": [],
   "source": []
  }
 ],
 "metadata": {
  "kernelspec": {
   "display_name": "SoS",
   "language": "sos",
   "name": "sos"
  },
  "language_info": {
   "codemirror_mode": "sos",
   "file_extension": ".sos",
   "mimetype": "text/x-sos",
   "name": "sos",
   "nbconvert_exporter": "sos_notebook.converter.SoS_Exporter",
   "pygments_lexer": "sos"
  },
  "papermill": {
   "duration": 13.456677,
   "end_time": "2019-09-18T03:03:08.496329",
   "environment_variables": {},
   "exception": null,
   "input_path": "workflow.ipynb",
   "output_path": "w1.ipynb",
   "parameters": {},
   "start_time": "2019-09-18T03:02:55.039652",
   "version": "1.1.0"
  },
  "sos": {
   "kernels": [],
   "panel": {
    "displayed": true,
    "height": 0
   },
   "version": "0.20.4"
  }
 },
 "nbformat": 4,
 "nbformat_minor": 2
}
