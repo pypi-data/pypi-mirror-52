{
 "cells": [
  {
   "cell_type": "code",
   "execution_count": 1,
   "metadata": {
    "kernel": "Python3",
    "papermill": {
     "duration": 1.990614,
     "end_time": "2019-09-17T17:40:15.482714",
     "exception": false,
     "start_time": "2019-09-17T17:40:13.492100",
     "status": "completed"
    },
    "tags": [
     "parameters"
    ]
   },
   "outputs": [],
   "source": [
    "x = 'Hello World'"
   ]
  },
  {
   "cell_type": "code",
   "execution_count": 1,
   "metadata": {
    "kernel": "SoS",
    "papermill": {
     "duration": 0.053377,
     "end_time": "2019-09-17T17:40:15.539949",
     "exception": false,
     "start_time": "2019-09-17T17:40:15.486572",
     "status": "completed"
    },
    "tags": [
     "injected-parameters"
    ]
   },
   "outputs": [],
   "source": [
    "%put x --to Python3\n",
    "# Parameters\n",
    "x = \"Good Bye\"\n"
   ]
  },
  {
   "cell_type": "code",
   "execution_count": 3,
   "metadata": {
    "kernel": "Bash",
    "papermill": {
     "duration": 4.791652,
     "end_time": "2019-09-17T17:40:20.334891",
     "exception": false,
     "start_time": "2019-09-17T17:40:15.543239",
     "status": "completed"
    },
    "tags": []
   },
   "outputs": [
    {
     "name": "stdout",
     "output_type": "stream",
     "text": [
      "Good Bye\n"
     ]
    }
   ],
   "source": [
    "%get x --from Python3\n",
    "echo $x"
   ]
  }
 ],
 "metadata": {
  "celltoolbar": "Tags",
  "kernelspec": {
   "display_name": "SoS",
   "language": "sos",
   "name": "sos"
  },
  "language_info": {
   "codemirror_mode": "sos",
   "file_extension": ".sos",
   "mimetype": "text/x-sos",
   "name": "sos",
   "nbconvert_exporter": "sos_notebook.converter.SoS_Exporter",
   "pygments_lexer": "sos"
  },
  "papermill": {
   "duration": 15.480023,
   "end_time": "2019-09-17T17:40:25.466309",
   "environment_variables": {},
   "exception": null,
   "input_path": "with_non_sos_param.ipynb",
   "output_path": "sos1.ipynb",
   "parameters": {
    "x": "Good Bye"
   },
   "start_time": "2019-09-17T17:40:09.986286",
   "version": "1.1.0"
  },
  "sos": {
   "kernels": [
    [
     "Bash",
     "calysto_bash",
     "Bash",
     "",
     "shell"
    ],
    [
     "Python3",
     "python3",
     "Python3",
     "#FFD91A",
     {
      "name": "ipython",
      "version": 3
     }
    ],
    [
     "SoS",
     "sos",
     "",
     "",
     "sos"
    ]
   ],
   "panel": {
    "displayed": true,
    "height": 0
   },
   "version": "0.20.4"
  }
 },
 "nbformat": 4,
 "nbformat_minor": 2
}
