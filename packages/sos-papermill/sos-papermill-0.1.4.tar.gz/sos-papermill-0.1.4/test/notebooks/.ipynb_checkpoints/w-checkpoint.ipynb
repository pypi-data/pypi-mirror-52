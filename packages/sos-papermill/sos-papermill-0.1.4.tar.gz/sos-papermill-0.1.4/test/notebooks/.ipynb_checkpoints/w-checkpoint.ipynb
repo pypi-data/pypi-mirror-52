{
 "cells": [
  {
   "cell_type": "code",
   "execution_count": 1,
   "metadata": {
    "kernel": "Python3",
    "papermill": {
     "duration": 1.910231,
     "end_time": "2019-09-17T13:11:52.492111",
     "exception": false,
     "start_time": "2019-09-17T13:11:50.581880",
     "status": "completed"
    },
    "tags": [
     "parameters"
    ]
   },
   "outputs": [],
   "source": [
    "x = 'Hello World'"
   ]
  },
  {
   "cell_type": "code",
   "execution_count": 2,
   "metadata": {
    "kernel": "Python3",
    "papermill": {
     "duration": 0.034273,
     "end_time": "2019-09-17T13:11:52.530078",
     "exception": false,
     "start_time": "2019-09-17T13:11:52.495805",
     "status": "completed"
    },
    "tags": [
     "injected-parameters"
    ]
   },
   "outputs": [],
   "source": [
    "# Parameters\n",
    "x = 10\n"
   ]
  },
  {
   "cell_type": "code",
   "execution_count": 3,
   "metadata": {
    "kernel": "Bash",
    "papermill": {
     "duration": 4.885052,
     "end_time": "2019-09-17T13:11:57.418526",
     "exception": false,
     "start_time": "2019-09-17T13:11:52.533474",
     "status": "completed"
    },
    "tags": []
   },
   "outputs": [
    {
     "name": "stdout",
     "output_type": "stream",
     "text": [
      "10\r\n",
      "\n"
     ]
    }
   ],
   "source": [
    "%get x --from Python3\n",
    "echo $x"
   ]
  },
  {
   "cell_type": "code",
   "execution_count": null,
   "metadata": {
    "kernel": "Bash"
   },
   "outputs": [],
   "source": []
  }
 ],
 "metadata": {
  "celltoolbar": "Tags",
  "kernelspec": {
   "display_name": "SoS",
   "language": "sos",
   "name": "sos"
  },
  "language_info": {
   "codemirror_mode": "sos",
   "file_extension": ".sos",
   "mimetype": "text/x-sos",
   "name": "sos",
   "nbconvert_exporter": "sos_notebook.converter.SoS_Exporter",
   "pygments_lexer": "sos"
  },
  "papermill": {
   "duration": 15.361133,
   "end_time": "2019-09-17T13:12:02.553669",
   "environment_variables": {},
   "exception": null,
   "input_path": "with_param.ipynb",
   "output_path": "w.ipynb",
   "parameters": {
    "x": 10
   },
   "start_time": "2019-09-17T13:11:47.192536",
   "version": "1.1.0"
  },
  "sos": {
   "kernels": [
    [
     "Bash",
     "calysto_bash",
     "Bash",
     "",
     "shell"
    ],
    [
     "Python3",
     "python3",
     "Python3",
     "#FFD91A",
     {
      "name": "ipython",
      "version": 3
     }
    ],
    [
     "SoS",
     "sos",
     "",
     "",
     "sos"
    ]
   ],
   "panel": {
    "displayed": true,
    "height": 0
   },
   "version": "0.20.4"
  }
 },
 "nbformat": 4,
 "nbformat_minor": 2
}
