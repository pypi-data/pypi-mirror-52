{
 "cells": [
  {
   "cell_type": "code",
   "execution_count": 7,
   "metadata": {
    "kernel": "Python3",
    "papermill": {
     "duration": 1.997162,
     "end_time": "2019-09-17T17:07:12.803952",
     "exception": false,
     "start_time": "2019-09-17T17:07:10.806790",
     "status": "completed"
    },
    "tags": [
     "parameters"
    ]
   },
   "outputs": [],
   "source": [
    "x = 'Hello World'"
   ]
  },
  {
   "cell_type": "code",
   "execution_count": 8,
   "metadata": {
    "kernel": "SoS",
    "papermill": {
     "duration": 0.03554,
     "end_time": "2019-09-17T17:07:12.843380",
     "exception": false,
     "start_time": "2019-09-17T17:07:12.807840",
     "status": "completed"
    },
    "tags": [
     "injected-parameters"
    ]
   },
   "outputs": [],
   "source": [
    "%put x --to Python3\n",
    "# Parameters\n",
    "x = 11\n"
   ]
  },
  {
   "cell_type": "code",
   "execution_count": 9,
   "metadata": {
    "kernel": "Bash",
    "papermill": {
     "duration": 4.835513,
     "end_time": "2019-09-17T17:07:17.682319",
     "exception": false,
     "start_time": "2019-09-17T17:07:12.846806",
     "status": "completed"
    },
    "tags": []
   },
   "outputs": [
    {
     "name": "stdout",
     "output_type": "stream",
     "text": [
      "11\r\n",
      "\n"
     ]
    }
   ],
   "source": [
    "%get x --from Python3\n",
    "echo $x"
   ]
  },
  {
   "cell_type": "code",
   "execution_count": null,
   "metadata": {
    "kernel": "Bash"
   },
   "outputs": [],
   "source": []
  }
 ],
 "metadata": {
  "celltoolbar": "Tags",
  "kernelspec": {
   "display_name": "SoS",
   "language": "sos",
   "name": "sos"
  },
  "language_info": {
   "codemirror_mode": "sos",
   "file_extension": ".sos",
   "mimetype": "text/x-sos",
   "name": "sos",
   "nbconvert_exporter": "sos_notebook.converter.SoS_Exporter",
   "pygments_lexer": "sos"
  },
  "papermill": {
   "duration": 15.519122,
   "end_time": "2019-09-17T17:07:22.809980",
   "environment_variables": {},
   "exception": null,
   "input_path": "with_non_sos_param.ipynb",
   "output_path": "sos1.ipynb",
   "parameters": {
    "x": 11
   },
   "start_time": "2019-09-17T17:07:07.290858",
   "version": "1.1.0"
  },
  "sos": {
   "kernels": [
    [
     "Bash",
     "calysto_bash",
     "Bash",
     "",
     "shell"
    ],
    [
     "Python3",
     "python3",
     "Python3",
     "#FFD91A",
     {
      "name": "ipython",
      "version": 3
     }
    ],
    [
     "SoS",
     "sos",
     "",
     "",
     "sos"
    ]
   ],
   "panel": {
    "displayed": true,
    "height": 0
   },
   "version": "0.20.4"
  }
 },
 "nbformat": 4,
 "nbformat_minor": 2
}
