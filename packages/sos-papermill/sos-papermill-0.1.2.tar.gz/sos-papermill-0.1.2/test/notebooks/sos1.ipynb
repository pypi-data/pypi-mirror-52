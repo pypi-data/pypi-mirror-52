{
 "cells": [
  {
   "cell_type": "code",
   "execution_count": 1,
   "metadata": {
    "kernel": "SoS",
    "papermill": {
     "duration": 0.219978,
     "end_time": "2019-09-17T12:26:30.566634",
     "exception": false,
     "start_time": "2019-09-17T12:26:30.346656",
     "status": "completed"
    },
    "tags": []
   },
   "outputs": [],
   "source": [
    "a = 1"
   ]
  },
  {
   "cell_type": "code",
   "execution_count": 2,
   "metadata": {
    "kernel": "Python3",
    "papermill": {
     "duration": 1.612617,
     "end_time": "2019-09-17T12:26:32.183375",
     "exception": false,
     "start_time": "2019-09-17T12:26:30.570758",
     "status": "completed"
    },
    "tags": []
   },
   "outputs": [],
   "source": [
    "%get a\n",
    "b = a + 100"
   ]
  },
  {
   "cell_type": "code",
   "execution_count": 1,
   "metadata": {
    "kernel": "SoS",
    "papermill": {
     "duration": 0.04945,
     "end_time": "2019-09-17T12:26:32.236816",
     "exception": false,
     "start_time": "2019-09-17T12:26:32.187366",
     "status": "completed"
    },
    "tags": []
   },
   "outputs": [
    {
     "name": "stdout",
     "output_type": "stream",
     "text": [
      "101"
     ]
    },
    {
     "name": "stdout",
     "output_type": "stream",
     "text": [
      "\n"
     ]
    }
   ],
   "source": [
    "%get b --from Python3\n",
    "print(b)"
   ]
  },
  {
   "cell_type": "code",
   "execution_count": null,
   "metadata": {
    "kernel": "SoS",
    "papermill": {
     "duration": 0.004176,
     "end_time": "2019-09-17T12:26:32.245424",
     "exception": false,
     "start_time": "2019-09-17T12:26:32.241248",
     "status": "completed"
    },
    "tags": []
   },
   "outputs": [],
   "source": []
  }
 ],
 "metadata": {
  "kernelspec": {
   "display_name": "SoS",
   "language": "sos",
   "name": "sos"
  },
  "language_info": {
   "codemirror_mode": "sos",
   "file_extension": ".sos",
   "mimetype": "text/x-sos",
   "name": "sos",
   "nbconvert_exporter": "sos_notebook.converter.SoS_Exporter",
   "pygments_lexer": "sos"
  },
  "papermill": {
   "duration": 10.293254,
   "end_time": "2019-09-17T12:26:37.379760",
   "environment_variables": {},
   "exception": null,
   "input_path": "sos_python3.ipynb",
   "output_path": "sos1.ipynb",
   "parameters": {},
   "start_time": "2019-09-17T12:26:27.086506",
   "version": "1.1.0"
  },
  "sos": {
   "kernels": [
    [
     "Python3",
     "python3",
     "Python3",
     "#FFD91A",
     {
      "name": "ipython",
      "version": 3
     }
    ],
    [
     "SoS",
     "sos",
     "",
     "",
     "sos"
    ]
   ],
   "panel": {
    "displayed": true,
    "height": 0
   },
   "version": "0.20.3"
  }
 },
 "nbformat": 4,
 "nbformat_minor": 2
}