{
 "cells": [
  {
   "cell_type": "code",
   "execution_count": 1,
   "metadata": {
    "kernel": "Python3",
    "papermill": {
     "duration": 2.097227,
     "end_time": "2019-09-17T17:05:09.454534",
     "exception": false,
     "start_time": "2019-09-17T17:05:07.357307",
     "status": "completed"
    },
    "tags": [
     "parameters"
    ]
   },
   "outputs": [],
   "source": [
    "x = 'Hello World'"
   ]
  },
  {
   "cell_type": "code",
   "execution_count": 1,
   "metadata": {
    "kernel": "SoS",
    "papermill": {
     "duration": 0.036741,
     "end_time": "2019-09-17T17:05:09.496128",
     "exception": false,
     "start_time": "2019-09-17T17:05:09.459387",
     "status": "completed"
    },
    "tags": [
     "injected-parameters"
    ]
   },
   "outputs": [],
   "source": [
    "%put x cmd --to Python3\n",
    "# Parameters\n",
    "x = 11\n",
    "cmd = \"echo\"\n"
   ]
  },
  {
   "cell_type": "code",
   "execution_count": 3,
   "metadata": {
    "kernel": "Bash",
    "papermill": {
     "duration": 4.901678,
     "end_time": "2019-09-17T17:05:14.402397",
     "exception": false,
     "start_time": "2019-09-17T17:05:09.500719",
     "status": "completed"
    },
    "tags": []
   },
   "outputs": [
    {
     "name": "stdout",
     "output_type": "stream",
     "text": [
      "Hello World\n"
     ]
    }
   ],
   "source": [
    "%get x --from Python3\n",
    "echo $x"
   ]
  },
  {
   "cell_type": "code",
   "execution_count": 4,
   "metadata": {
    "kernel": "Bash",
    "papermill": {
     "duration": 1.475679,
     "end_time": "2019-09-17T17:05:15.883082",
     "exception": false,
     "start_time": "2019-09-17T17:05:14.407403",
     "status": "completed"
    },
    "tags": [
     "parameters"
    ]
   },
   "outputs": [],
   "source": [
    "cmd='A'"
   ]
  },
  {
   "cell_type": "code",
   "execution_count": 5,
   "metadata": {
    "kernel": "Python3",
    "papermill": {
     "duration": 5.307114,
     "end_time": "2019-09-17T17:05:21.195104",
     "exception": false,
     "start_time": "2019-09-17T17:05:15.887990",
     "status": "completed"
    },
    "tags": []
   },
   "outputs": [
    {
     "name": "stdout",
     "output_type": "stream",
     "text": [
      "A\n"
     ]
    }
   ],
   "source": [
    "%get cmd --from Bash\n",
    "print(cmd)"
   ]
  }
 ],
 "metadata": {
  "celltoolbar": "Tags",
  "kernelspec": {
   "display_name": "SoS",
   "language": "sos",
   "name": "sos"
  },
  "language_info": {
   "codemirror_mode": "sos",
   "file_extension": ".sos",
   "mimetype": "text/x-sos",
   "name": "sos",
   "nbconvert_exporter": "sos_notebook.converter.SoS_Exporter",
   "pygments_lexer": "sos"
  },
  "papermill": {
   "duration": 22.666469,
   "end_time": "2019-09-17T17:05:26.342314",
   "environment_variables": {},
   "exception": null,
   "input_path": "sos1.ipynb",
   "output_path": "sos2.ipynb",
   "parameters": {
    "cmd": "echo",
    "x": 11
   },
   "start_time": "2019-09-17T17:05:03.675845",
   "version": "1.1.0"
  },
  "sos": {
   "kernels": [
    [
     "Bash",
     "calysto_bash",
     "Bash",
     "#E6EEFF",
     "shell"
    ],
    [
     "Python3",
     "python3",
     "Python3",
     "#FFD91A",
     {
      "name": "ipython",
      "version": 3
     }
    ],
    [
     "SoS",
     "sos",
     "",
     "",
     "sos"
    ]
   ],
   "panel": {
    "displayed": true,
    "height": 0
   },
   "version": "0.20.4"
  }
 },
 "nbformat": 4,
 "nbformat_minor": 2
}
