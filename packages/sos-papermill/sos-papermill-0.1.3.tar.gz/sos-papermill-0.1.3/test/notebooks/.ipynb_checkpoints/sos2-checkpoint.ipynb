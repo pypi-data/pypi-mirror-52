{
 "cells": [
  {
   "cell_type": "code",
   "execution_count": 1,
   "metadata": {
    "kernel": "Python3",
    "papermill": {
     "duration": 1.99296,
     "end_time": "2019-09-17T15:01:30.791480",
     "exception": false,
     "start_time": "2019-09-17T15:01:28.798520",
     "status": "completed"
    },
    "tags": [
     "parameters"
    ]
   },
   "outputs": [],
   "source": [
    "x = 'Hello World'"
   ]
  },
  {
   "cell_type": "code",
   "execution_count": 1,
   "metadata": {
    "kernel": "SoS",
    "papermill": {
     "duration": 0.035687,
     "end_time": "2019-09-17T15:01:30.831894",
     "exception": false,
     "start_time": "2019-09-17T15:01:30.796207",
     "status": "completed"
    },
    "tags": [
     "injected-parameters"
    ]
   },
   "outputs": [],
   "source": [
    "# Parameters\n",
    "x = 11\n",
    "cmd = \"echo\"\n"
   ]
  },
  {
   "cell_type": "code",
   "execution_count": 3,
   "metadata": {
    "kernel": "Bash",
    "papermill": {
     "duration": 4.825632,
     "end_time": "2019-09-17T15:01:35.662194",
     "exception": false,
     "start_time": "2019-09-17T15:01:30.836562",
     "status": "completed"
    },
    "tags": []
   },
   "outputs": [
    {
     "name": "stdout",
     "output_type": "stream",
     "text": [
      "Hello World\n"
     ]
    }
   ],
   "source": [
    "%get x --from Python3\n",
    "echo $x"
   ]
  },
  {
   "cell_type": "code",
   "execution_count": 4,
   "metadata": {
    "kernel": "Bash",
    "papermill": {
     "duration": 1.478275,
     "end_time": "2019-09-17T15:01:37.145510",
     "exception": false,
     "start_time": "2019-09-17T15:01:35.667235",
     "status": "completed"
    },
    "tags": [
     "parameters"
    ]
   },
   "outputs": [],
   "source": [
    "cmd='A'"
   ]
  },
  {
   "cell_type": "code",
   "execution_count": 5,
   "metadata": {
    "kernel": "Python3",
    "papermill": {
     "duration": 5.30651,
     "end_time": "2019-09-17T15:01:42.456961",
     "exception": false,
     "start_time": "2019-09-17T15:01:37.150451",
     "status": "completed"
    },
    "tags": []
   },
   "outputs": [
    {
     "name": "stdout",
     "output_type": "stream",
     "text": [
      "A\n"
     ]
    }
   ],
   "source": [
    "%get cmd --from Bash\n",
    "print(cmd)"
   ]
  }
 ],
 "metadata": {
  "celltoolbar": "Tags",
  "kernelspec": {
   "display_name": "SoS",
   "language": "sos",
   "name": "sos"
  },
  "language_info": {
   "codemirror_mode": "sos",
   "file_extension": ".sos",
   "mimetype": "text/x-sos",
   "name": "sos",
   "nbconvert_exporter": "sos_notebook.converter.SoS_Exporter",
   "pygments_lexer": "sos"
  },
  "papermill": {
   "duration": 22.219872,
   "end_time": "2019-09-17T15:01:47.595942",
   "environment_variables": {},
   "exception": null,
   "input_path": "sos1.ipynb",
   "output_path": "sos2.ipynb",
   "parameters": {
    "cmd": "echo",
    "x": 11
   },
   "start_time": "2019-09-17T15:01:25.376070",
   "version": "1.1.0"
  },
  "sos": {
   "kernels": [
    [
     "Bash",
     "calysto_bash",
     "Bash",
     "#E6EEFF",
     "shell"
    ],
    [
     "Python3",
     "python3",
     "Python3",
     "#FFD91A",
     {
      "name": "ipython",
      "version": 3
     }
    ],
    [
     "SoS",
     "sos",
     "",
     "",
     "sos"
    ]
   ],
   "panel": {
    "displayed": true,
    "height": 0
   },
   "version": "0.20.4"
  }
 },
 "nbformat": 4,
 "nbformat_minor": 2
}
