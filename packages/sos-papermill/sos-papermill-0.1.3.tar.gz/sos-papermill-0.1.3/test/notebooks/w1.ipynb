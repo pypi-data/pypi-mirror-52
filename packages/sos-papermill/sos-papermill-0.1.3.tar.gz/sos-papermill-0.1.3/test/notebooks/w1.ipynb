{
 "cells": [
  {
   "cell_type": "code",
   "execution_count": 1,
   "metadata": {
    "kernel": "Python3",
    "papermill": {
     "duration": 1.989628,
     "end_time": "2019-09-17T13:58:23.019220",
     "exception": false,
     "start_time": "2019-09-17T13:58:21.029592",
     "status": "completed"
    },
    "tags": [
     "parameters"
    ]
   },
   "outputs": [],
   "source": [
    "x = 'Hello World'"
   ]
  },
  {
   "cell_type": "code",
   "execution_count": 2,
   "metadata": {
    "kernel": "Bash",
    "papermill": {
     "duration": 4.92027,
     "end_time": "2019-09-17T13:58:27.942578",
     "exception": false,
     "start_time": "2019-09-17T13:58:23.022308",
     "status": "completed"
    },
    "tags": []
   },
   "outputs": [
    {
     "name": "stdout",
     "output_type": "stream",
     "text": [
      "Hello World\n"
     ]
    }
   ],
   "source": [
    "%get x --from Python3\n",
    "echo $x"
   ]
  }
 ],
 "metadata": {
  "celltoolbar": "Tags",
  "kernelspec": {
   "display_name": "SoS",
   "language": "sos",
   "name": "sos"
  },
  "language_info": {
   "codemirror_mode": "sos",
   "file_extension": ".sos",
   "mimetype": "text/x-sos",
   "name": "sos",
   "nbconvert_exporter": "sos_notebook.converter.SoS_Exporter",
   "pygments_lexer": "sos"
  },
  "papermill": {
   "duration": 15.574772,
   "end_time": "2019-09-17T13:58:33.102840",
   "environment_variables": {},
   "exception": null,
   "input_path": "with_param.ipynb",
   "output_path": "w1.ipynb",
   "parameters": {},
   "start_time": "2019-09-17T13:58:17.528068",
   "version": "1.1.0"
  },
  "sos": {
   "kernels": [
    [
     "Bash",
     "calysto_bash",
     "Bash",
     "",
     "shell"
    ],
    [
     "Python3",
     "python3",
     "Python3",
     "#FFD91A",
     {
      "name": "ipython",
      "version": 3
     }
    ],
    [
     "SoS",
     "sos",
     "",
     "",
     "sos"
    ]
   ],
   "panel": {
    "displayed": true,
    "height": 0
   },
   "version": "0.20.4"
  }
 },
 "nbformat": 4,
 "nbformat_minor": 2
}