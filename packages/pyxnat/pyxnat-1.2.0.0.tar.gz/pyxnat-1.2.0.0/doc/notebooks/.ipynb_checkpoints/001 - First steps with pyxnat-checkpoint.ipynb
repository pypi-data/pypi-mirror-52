{
 "cells": [
  {
   "cell_type": "code",
   "execution_count": 1,
   "metadata": {},
   "outputs": [
    {
     "name": "stdout",
     "output_type": "stream",
     "text": [
      "[<Project Object> IGT1, <Project Object> CENTRAL_hip, <Project Object> CENTRAL_MRTBrain10, <Project Object> PBNC, <Project Object> BPC2019]\n"
     ]
    }
   ],
   "source": [
    "import pyxnat\n",
    "x = pyxnat.Interface(server='https://central.xnat.org',\n",
    "                     user='nosetests', password='nose')\n",
    "\n",
    "projects = list(x.select.projects())\n",
    "print(projects[:5])"
   ]
  },
  {
   "cell_type": "code",
   "execution_count": 2,
   "metadata": {},
   "outputs": [
    {
     "name": "stdout",
     "output_type": "stream",
     "text": [
      "[<Subject Object> CENTRAL_S06228, <Subject Object> CENTRAL_S06242]\n"
     ]
    }
   ],
   "source": [
    "project = x.select.project('xnatDownload')\n",
    "subjects = list(project.subjects())\n",
    "print(subjects)"
   ]
  },
  {
   "cell_type": "code",
   "execution_count": 3,
   "metadata": {},
   "outputs": [
    {
     "name": "stdout",
     "output_type": "stream",
     "text": [
      "['sub-001', '21']\n"
     ]
    }
   ],
   "source": [
    "subject_labels = [e.label() for e in subjects]\n",
    "print(subject_labels)"
   ]
  },
  {
   "cell_type": "code",
   "execution_count": 4,
   "metadata": {},
   "outputs": [
    {
     "name": "stdout",
     "output_type": "stream",
     "text": [
      "anat-T1w\n"
     ]
    }
   ],
   "source": [
    "scan = project.subject('sub-001').experiment('sub-001_ses-01').scan('3')\n",
    "print(scan.attrs.get('type'))"
   ]
  },
  {
   "cell_type": "code",
   "execution_count": 5,
   "metadata": {},
   "outputs": [
    {
     "name": "stdout",
     "output_type": "stream",
     "text": [
      "1.2.840.113619.6.410.190231530529691590095155468966648499671-3-91-1j94hdb.dcm\n"
     ]
    }
   ],
   "source": [
    "resource = scan.resources().first()\n",
    "f = resource.files().first()\n",
    "filename = f.label()\n",
    "\n",
    "print(filename)"
   ]
  },
  {
   "cell_type": "code",
   "execution_count": 6,
   "metadata": {},
   "outputs": [
    {
     "data": {
      "text/plain": [
       "'/tmp/1.2.840.113619.6.410.190231530529691590095155468966648499671-3-91-1j94hdb.dcm'"
      ]
     },
     "execution_count": 6,
     "metadata": {},
     "output_type": "execute_result"
    }
   ],
   "source": [
    "f.get(dest='/tmp/%s'%filename)"
   ]
  }
 ],
 "metadata": {
  "kernelspec": {
   "display_name": "Python 3",
   "language": "python",
   "name": "python3"
  },
  "language_info": {
   "codemirror_mode": {
    "name": "ipython",
    "version": 3
   },
   "file_extension": ".py",
   "mimetype": "text/x-python",
   "name": "python",
   "nbconvert_exporter": "python",
   "pygments_lexer": "ipython3",
   "version": "3.6.7"
  }
 },
 "nbformat": 4,
 "nbformat_minor": 2
}
