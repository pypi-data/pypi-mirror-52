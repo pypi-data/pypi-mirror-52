{
 "cells": [
  {
   "cell_type": "code",
   "execution_count": 1,
   "metadata": {},
   "outputs": [
    {
     "name": "stdout",
     "output_type": "stream",
     "text": [
      "1498 experiments found in both projects\n"
     ]
    }
   ],
   "source": [
    "import pyxnat\n",
    "x = pyxnat.Interface(config='/home/grg/.xnat_bsc.cfg')\n",
    "\n",
    "# We start collecting experiments from a few projects\n",
    "experiments = []\n",
    "for p in ['ALFA_PLUS', 'ALFA_OPCIONAL']:\n",
    "    # For each project, collect existing experiments\n",
    "    # with information e.g. subject_label, scan date\n",
    "    columns = ['subject_label', 'date']\n",
    "    project_exp = x.array.experiments(project_id=p, columns=columns)\n",
    "    # Add them to a big list\n",
    "    experiments.extend(project_exp.data)\n",
    "    \n",
    "print('%s experiments found in both projects'%len(experiments))"
   ]
  },
  {
   "cell_type": "code",
   "execution_count": 2,
   "metadata": {},
   "outputs": [
    {
     "name": "stdout",
     "output_type": "stream",
     "text": [
      "[('BBRC02_E07859', '2019-07-22', 'ALFA_OPCIONAL')]\n"
     ]
    }
   ],
   "source": [
    "# For each experiment, retrieve info e.g. subject label,\n",
    "# acquisition date, session ID.\n",
    "subjects = {}\n",
    "for e in experiments:\n",
    "    subject_label = e['subject_label']\n",
    "    mr_scandate = e['date']\n",
    "    session_id = e['ID']\n",
    "    project_id = e['project']\n",
    "    \n",
    "    # Create a list for each subject and store the information\n",
    "    subjects.setdefault(subject_label, [])\n",
    "    info = (session_id, mr_scandate, project_id)\n",
    "    subjects[subject_label].append(info)\n",
    "    \n",
    "    # Now for each subject, we have the number of existing scans\n",
    "    # and their acquisition dates\n",
    "print(subjects['10010'])"
   ]
  },
  {
   "cell_type": "code",
   "execution_count": 3,
   "metadata": {},
   "outputs": [
    {
     "name": "stdout",
     "output_type": "stream",
     "text": [
      "('10994', [('BBRC_E00048', '2017-02-14', 'ALFA_PLUS'), ('BBRC02_E00014', '2017-05-15', 'ALFA_PLUS')])\n",
      "('10361', [('BBRC02_E03383', '2018-06-20', 'ALFA_PLUS'), ('BBRC_E00529', '2017-02-16', 'ALFA_OPCIONAL')])\n",
      "('10448', [('BBRC02_E03598', '2018-07-06', 'ALFA_PLUS'), ('BBRC_E00242', '2016-10-24', 'ALFA_OPCIONAL')])\n",
      "('66142', [('BBRC02_E00940', '2018-02-05', 'ALFA_PLUS'), ('BBRC_E01120', '2017-06-02', 'ALFA_OPCIONAL')])\n",
      "('11882', [('BBRC02_E02384', '2018-05-16', 'ALFA_PLUS'), ('BBRC02_E05540', '2016-06-30', 'ALFA_OPCIONAL')])\n",
      "77\n"
     ]
    }
   ],
   "source": [
    "# Give me the ones with more than one timepoint\n",
    "longitudinal = {}\n",
    "for subject, sessions in subjects.items():\n",
    "    if len(sessions) > 1:\n",
    "        longitudinal[subject] = sessions\n",
    "        \n",
    "# Print the results\n",
    "for each in list(longitudinal.items())[:5]:\n",
    "    print(each)\n",
    "print(len(longitudinal))"
   ]
  }
 ],
 "metadata": {
  "kernelspec": {
   "display_name": "Python 3",
   "language": "python",
   "name": "python3"
  },
  "language_info": {
   "codemirror_mode": {
    "name": "ipython",
    "version": 3
   },
   "file_extension": ".py",
   "mimetype": "text/x-python",
   "name": "python",
   "nbconvert_exporter": "python",
   "pygments_lexer": "ipython3",
   "version": "3.6.7"
  }
 },
 "nbformat": 4,
 "nbformat_minor": 2
}
