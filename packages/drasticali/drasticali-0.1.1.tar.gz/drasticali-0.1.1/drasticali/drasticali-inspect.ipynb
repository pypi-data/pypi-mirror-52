{
 "cells": [
  {
   "cell_type": "markdown",
   "metadata": {
    "extensions": {
     "jupyter_dashboards": {
      "version": 1,
      "views": {
       "grid_default": {},
       "report_default": {
        "hidden": false
       }
      }
     }
    }
   },
   "source": [
    "<img src='https://user-images.githubusercontent.com/16665629/36117115-329c6220-1041-11e8-98d3-7cd1ce05503c.jpeg'\n",
    "style=\"float:right;margin:0 10px 0px 0;width: 150px;\">\n",
    "\n",
    "# Compare observed and theoretical statistical distributions"
   ]
  },
  {
   "cell_type": "code",
   "execution_count": null,
   "metadata": {
    "extensions": {
     "jupyter_dashboards": {
      "version": 1,
      "views": {
       "grid_default": {},
       "report_default": {
        "hidden": true
       }
      }
     }
    }
   },
   "outputs": [],
   "source": [
    "sky = 'point' # For the example recipes in this project options are ['point', 'extended', 'hdr']\n",
    "\n",
    "models_compare = {\n",
    "    '{}_skymodel1.txt'.format(sky): 'meerkat_{}_clean_mask-cube-image-pybdsf.lsm.html'.format(sky),\n",
    "    '{}_skymodel2.txt'.format(sky): 'meerkat_{}_ddfacet_mask-cube-image-pybdsf.lsm.html'.format(sky),\n",
    "    '{}_skymodel3.txt'.format(sky): 'meerkat_{}_lwimager_mask-cube-image-pybdsf.lsm.html'.format(sky),\n",
    "    '{}_skymodel4.txt'.format(sky): 'meerkat_{}_tclean_mask-cube-image-pybdsf.lsm.html'.format(sky),\n",
    "    '{}_skymodel5.txt'.format(sky): 'meerkat_{}_wsclean_mask-cube-image-pybdsf.lsm.html'.format(sky),\n",
    "}# Copy the appropriate model into 'output' then rename 1-5\n",
    "\n",
    "models_dr = {\n",
    "    'meerkat_{}_clean_mask-cube-image-pybdsf.lsm.html'.format(sky): 'meerkat_{}_clean_mask-cube-residual.fits'.format(sky),\n",
    "    'meerkat_{}_ddfacet_mask-cube-image-pybdsf.lsm.html'.format(sky): 'meerkat_{}_ddfacet_mask.cube.app.residual.fits'.format(sky),\n",
    "    'meerkat_{}_lwimager_mask-cube-image-pybdsf.lsm.html'.format(sky): 'meerkat_{}_lwimager_mask-cube-residual.fits'.format(sky),\n",
    "    'meerkat_{}_tclean_mask-cube-image-pybdsf.lsm.html'.format(sky): 'meerkat_{}_tclean_mask-cube-residual.fits'.format(sky),\n",
    "    'meerkat_{}_wsclean_mask-cube-image-pybdsf.lsm.html'.format(sky): 'meerkat_{}_wsclean_mask-cube-residual.fits'.format(sky),\n",
    "}\n",
    "\n",
    "RESIDUALS = {\n",
    "    'meerkat_{}_clean_mask-cube-residual.fits'.format(sky): 'casa_noise.dirty.image.fits',\n",
    "    'meerkat_{}_ddfacet_mask.cube.app.residual.fits'.format(sky):'ddfacet_noise.cube.app.restored.fits',\n",
    "    'meerkat_{}_lwimager_mask-cube-residual.fits'.format(sky): 'lwimager_noise.dirty.fits',\n",
    "    'meerkat_{}_tclean_mask-cube-residual.fits'.format(sky): 'tclean_noise.dirty.image.fits',\n",
    "    'meerkat_{}_wsclean_mask-cube-residual.fits'.format(sky):'wsclean_noise-cube-dirty.fits',\n",
    "}\n",
    "\n",
    "# tolerance for cross-matching the source\n",
    "if sky is 'point':\n",
    "    tolerance = 0.00001 # point\n",
    "else:\n",
    "    tolerance = 0.0001 # extended"
   ]
  },
  {
   "cell_type": "code",
   "execution_count": null,
   "metadata": {
    "extensions": {
     "jupyter_dashboards": {
      "version": 1,
      "views": {
       "grid_default": {},
       "report_default": {
        "hidden": false
       }
      }
     }
    },
    "format": "row"
   },
   "outputs": [],
   "source": [
    "from ipywidgets import widgets, interact\n",
    "from IPython.display import Javascript, display\n",
    "from IPython.display import HTML\n",
    "\n",
    "def run_all(ev):\n",
    "    # Runn all cells\n",
    "    display(Javascript('IPython.notebook.execute_cell_range(IPython.notebook.get_selected_index()+1,'\n",
    "                       'IPython.notebook.get_selected_index()+24)'))\n",
    "\n",
    "directory = widgets.Text(\n",
    "    value='output',\n",
    "    placeholder='output',\n",
    "    description='work directory:',\n",
    "    disabled=False\n",
    ")\n",
    "\n",
    "button = widgets.Button(description=\"Configure\")\n",
    "button.on_click(run_all)\n",
    "display(button)\n",
    "display(directory)\n",
    "\n",
    "HTML('''<script>\n",
    "code_show=true; \n",
    "function code_toggle() {\n",
    " if (code_show){\n",
    " $('div.input').hide();\n",
    " } else {\n",
    " $('div.input').show();\n",
    " }\n",
    " code_show = !code_show\n",
    "} $( document ).ready(code_toggle);\n",
    "</script>\n",
    "<form action=\"javascript:code_toggle()\"><input type=\"submit\"\n",
    "value=\"Click here to toggle on/off the raw code.\"></form>''')"
   ]
  },
  {
   "cell_type": "code",
   "execution_count": null,
   "metadata": {
    "extensions": {
     "jupyter_dashboards": {
      "version": 1,
      "views": {
       "grid_default": {},
       "report_default": {
        "hidden": false
       }
      }
     }
    }
   },
   "outputs": [],
   "source": [
    "import glob\n",
    "import aimfast\n",
    "import matplotlib\n",
    "import numpy as np\n",
    "from plotly import tools\n",
    "from tabletext import to_text\n",
    "import plotly.graph_objs as go\n",
    "from plotly import offline as py\n",
    "from collections import OrderedDict\n",
    "from scipy.stats import norm, linregress\n",
    "from sklearn.metrics import r2_score, mean_squared_error\n",
    "from plotly.graph_objs import Layout, Figure, XAxis, YAxis\n",
    "from aimfast.aimfast import residual_image_stats, image_dynamic_range, model_dynamic_range\n",
    "py.init_notebook_mode(connected=True)"
   ]
  },
  {
   "cell_type": "markdown",
   "metadata": {},
   "source": [
    "## Photometric Measurements"
   ]
  },
  {
   "cell_type": "code",
   "execution_count": null,
   "metadata": {
    "scrolled": false
   },
   "outputs": [],
   "source": [
    "flux = aimfast.aimfast.plot_photometry(models_compare, all_sources=True, dir=directory.value,\n",
    "                                       label=['clean', 'ddfacet', 'lwimager', 'tclean', 'wsclean'])"
   ]
  },
  {
   "cell_type": "markdown",
   "metadata": {},
   "source": [
    "\n",
    "\n",
    "## Astrometric Measurements"
   ]
  },
  {
   "cell_type": "code",
   "execution_count": null,
   "metadata": {
    "scrolled": false
   },
   "outputs": [],
   "source": [
    "position = aimfast.aimfast.plot_astrometry(models_compare, all_sources=True, dir=directory.value,\n",
    "                                           label=['clean', 'ddfacet', 'lwimager', 'tclean', 'wsclean'])"
   ]
  },
  {
   "cell_type": "markdown",
   "metadata": {},
   "source": [
    "## Morphological Measurements"
   ]
  },
  {
   "cell_type": "code",
   "execution_count": null,
   "metadata": {
    "scrolled": false
   },
   "outputs": [],
   "source": [
    "shape = aimfast.aimfast.plot_morphology(models_compare, all_sources=True, dir=directory.value,\n",
    "                                        label=['clean', 'ddfacet', 'lwimager', 'tclean', 'wsclean'])"
   ]
  },
  {
   "cell_type": "markdown",
   "metadata": {},
   "source": [
    "## Spectral Index Measurements"
   ]
  },
  {
   "cell_type": "code",
   "execution_count": null,
   "metadata": {
    "scrolled": false
   },
   "outputs": [],
   "source": [
    "spectrum = aimfast.aimfast.plot_spectrum(models_compare, all_sources=True, dir=directory.value,\n",
    "                                         label=['clean', 'ddfacet', 'lwimager', 'tclean', 'wsclean'])"
   ]
  },
  {
   "cell_type": "code",
   "execution_count": null,
   "metadata": {
    "scrolled": false
   },
   "outputs": [],
   "source": [
    "import matplotlib\n",
    "import pylab as plt\n",
    "from scipy.stats import norm\n",
    "fig = plt.figure()\n",
    "spi_bins = num_bins = 5\n",
    "i = -1\n",
    "j = 0\n",
    "t = -1\n",
    "counter = 0\n",
    "flux_im = dict()\n",
    "I_min_max = []\n",
    "err_I_min_max = []\n",
    "\n",
    "global_table_data = [[\"Global\", \"Mean\", \"Median\", \"Mode\", \"Standard Deviation\"]]\n",
    "label=['clean', 'ddfacet', 'lwimager', 'tclean', 'wsclean']\n",
    "\n",
    "MEAN = {}\n",
    "MEDIAN = {}\n",
    "MODE = {}\n",
    "STD = {}\n",
    "FLUX_RANGE = {}\n",
    "\n",
    "for input_model, output_model in sorted(models_compare.items()):\n",
    "    i += 1\n",
    "    t += 1\n",
    "    bin_table_data = [[sorted(label)[t].upper(), \"Mean\", \"Median\", \"Mode\", \"Standard Deviation\", \"Flux range (mJy)\"]]\n",
    "    header = '{}-model_1'.format(label[t])\n",
    "    counter+=1\n",
    "    I_in = []\n",
    "    name_labels = []\n",
    "    spi_in_data = []\n",
    "    spi_out_data = []\n",
    "    spi_err_data = []\n",
    "    dist_from_phase = []\n",
    "    key = 'spectrum'\n",
    "    num_data_points = len(spectrum[header][key])\n",
    "    for n in range(num_data_points):\n",
    "        spi_out_data.append(spectrum[header][key][n][0])\n",
    "        spi_err_data.append(spectrum[header][key][n][1])\n",
    "        spi_in_data.append(spectrum[header][key][n][2])\n",
    "        dist_from_phase.append(spectrum[header][key][n][3])\n",
    "        I_in.append(spectrum[header][key][n][4])\n",
    "        name_labels.append(spectrum[header][key][n][5])\n",
    "    zipped_props = zip(I_in, spi_out_data, spi_err_data, spi_in_data, dist_from_phase, name_labels)\n",
    "    (I_in, spi_out_data, spi_err_data, spi_in_data, dist_from_phase, name_labels) = zip(\n",
    "        *sorted(zipped_props, key=lambda x: x[0]))\n",
    "    \n",
    "#===========================================================================================================\n",
    "    spi_in_data_stats = []\n",
    "    spi_out_data_stats = []\n",
    "    for spi_in, spi_out in zip(spi_in_data, spi_out_data):\n",
    "        if spi_out:\n",
    "            spi_in_data_stats.append(spi_in)\n",
    "            spi_out_data_stats.append(spi_out)\n",
    "    spi_R_score = r2_score(spi_in_data_stats, spi_out_data_stats)\n",
    "    spi_MSE = mean_squared_error(spi_in_data_stats, spi_out_data_stats)\n",
    "    spi_out_in = [float(spi_out)/spi_in for spi_out,spi_in in\n",
    "                      zip(spi_out_data_stats,spi_in_data_stats)]\n",
    "    spi_in_data = spi_in_data_stats\n",
    "    spi_out_data = spi_out_data_stats\n",
    "#===========================================================================================================\n",
    "    \n",
    "    ranger = num_data_points/num_bins\n",
    "    start, end = [-ranger, 0]\n",
    "    if num_bins > 1:\n",
    "        meanss = {}\n",
    "        modess = {}\n",
    "        medianss = {}\n",
    "        stdss = {}\n",
    "        flux_rangess = {}\n",
    "        for b in range(num_bins):\n",
    "            end += ranger\n",
    "            start += ranger\n",
    "\n",
    "            low = sorted(np.array(I_in)[start:num_data_points\n",
    "                    if (b + 1) == num_bins\n",
    "                    else end]*aimfast.aimfast.FLUX_UNIT_SCALER['milli'][0])[0]\n",
    "            high = sorted(np.array(I_in)[start:num_data_points\n",
    "                    if (b + 1) == num_bins\n",
    "                    else end]*aimfast.aimfast.FLUX_UNIT_SCALER['milli'][0])[-1]\n",
    "            I_range = \"{}->{} {}\".format(low, high, aimfast.aimfast.FLUX_UNIT_SCALER['milli'][1])\n",
    "            \n",
    "            spi_out_data_range = spi_out_data[start:num_data_points if (b + 1) == num_bins else end],\n",
    "            n, bins, patches = matplotlib.pyplot.hist(spi_out_data_range,\n",
    "                                                      spi_bins, normed=False, facecolor='blue',\n",
    "                                                      orientation='horizontal', alpha=0.5)\n",
    "            (mu, sigma) = norm.fit(spi_out_data_range)\n",
    "            median = np.median(spi_out_data_range)\n",
    "            peak = [bins[i] for i,v in enumerate(n) if v == n.max()][0]\n",
    "            meanss[b] = mu\n",
    "            modess[b] = peak\n",
    "            medianss[b] = median\n",
    "            stdss[b] = sigma\n",
    "            flux_rangess[b] = I_range\n",
    "            \n",
    "            bin_table_data.append([\"BIN-{:d}\".format(b+1), \"{:4f}\".format(mu), \"{:4f}\".format(median),\n",
    "                                  \"{:4f}\".format(peak), \"{:4f}\".format(sigma), \"{:s}\".format(I_range)])\n",
    "            \n",
    "        MEAN[label[t]] = meanss\n",
    "        MEDIAN[label[t]]  = medianss\n",
    "        MODE[label[t]] = modess\n",
    "        STD[label[t]] = stdss\n",
    "        FLUX_RANGE[label[t]] = flux_rangess\n",
    "            \n",
    "    print(to_text(bin_table_data))\n",
    "    n, bins, patches = matplotlib.pyplot.hist(spi_out_data_range,\n",
    "                                              spi_bins, normed=False, facecolor='blue',\n",
    "                                              orientation='horizontal', alpha=0.5)\n",
    "    (mu, sigma) = norm.fit(spi_out_data)\n",
    "    median = np.median(spi_out_data)\n",
    "    peak = [bins[i] for i,v in enumerate(n) if v == n.max()][0]\n",
    "    global_table_data.append([header.split('-model_1')[0].upper(), \"{:4f}\".format(mu), \"{:4f}\".format(median),\n",
    "                            \"{:4f}\".format(peak), \"{:4f}\".format(sigma)])\n",
    "    \n",
    "    MEAN[label[t]]['g'] = mu\n",
    "    MEDIAN[label[t]]['g']  = median\n",
    "    MODE[label[t]]['g'] = peak\n",
    "    STD[label[t]]['g'] = sigma\n",
    "    \n",
    "    counter += 1\n",
    "\n",
    "#overleaf = \"\"\"\n",
    "#    & & BIN-{} [{}] & \\\\\n",
    "# \\hline\\hline\n",
    "# Mean & {:.2f} & {:.2f} & {:.2f} & {:.2f} & {:.2f}\\\\\n",
    "# \\hline\n",
    "# Median & {:.2f} & {:.2f} & {:.2f} & {:.2f} & {:.2f}\\\\\n",
    "# \\hline\n",
    "# Mode & {:.2f} & {:.2f} & {:.2f} & {:.2f} & {:.2f}\\\\\n",
    "# \\hline\n",
    "# Standard deviation & {:.2f} & {:.2f} & {:.2f} & {:.2f} & {:.2f}\\\\\n",
    "# \\hline\\hline\n",
    "# \"\"\"\n",
    "#overall = \"\"\"\n",
    "#     & & & Overall & & \\\\\n",
    "#\\hline\\hline\n",
    "# Mean & {:.2f} & {:.2f} & {:.2f} & {:.2f} & {:.2f}\\\\\n",
    "# \\hline\n",
    "# Median & {:.2f} & {:.2f} & {:.2f} & {:.2f} & {:.2f}\\\\\n",
    "# \\hline\n",
    "# Mode & {:.2f} & {:.2f} & {:.2f} & {:.2f} & {:.2f}\\\\\n",
    "# \\hline\n",
    "# Standard deviation & {:.2f} & {:.2f} & {:.2f} & {:.2f} & {:.2f}\\\\ [1ex]\n",
    "#\"\"\"\n",
    "\n",
    "#for b in range(num_bins):\n",
    "#    print(overleaf.format(b+1, FLUX_RANGE['clean'][b],\n",
    "#                           MEAN['clean'][b], MEAN['ddfacet'][b], MEAN['lwimager'][b], MEAN['tclean'][b], MEAN['wsclean'][b],\n",
    "#                           MEDIAN['clean'][b], MEDIAN['ddfacet'][b], MEDIAN['lwimager'][b], MEDIAN['tclean'][b], MEDIAN['wsclean'][b],\n",
    "#                           MODE['clean'][b], MODE['ddfacet'][b], MODE['lwimager'][b], MODE['tclean'][b], MODE['wsclean'][b],\n",
    "#                           STD['clean'][b], STD['ddfacet'][b], STD['lwimager'][b], STD['tclean'][b], STD['wsclean'][b]\n",
    "#                           ))\n",
    "#b = 'g'\n",
    "#print(overall.format(\n",
    "#                           MEAN['clean'][b], MEAN['ddfacet'][b], MEAN['lwimager'][b], MEAN['tclean'][b], MEAN['wsclean'][b],\n",
    "#                           MEDIAN['clean'][b], MEDIAN['ddfacet'][b], MEDIAN['lwimager'][b], MEDIAN['tclean'][b], MEDIAN['wsclean'][b],\n",
    "#                           MODE['clean'][b], MODE['ddfacet'][b], MODE['lwimager'][b], MODE['tclean'][b], MODE['wsclean'][b],\n",
    "#                           STD['clean'][b], STD['ddfacet'][b], STD['lwimager'][b], STD['tclean'][b], STD['wsclean'][b]\n",
    "#                           ))\n",
    "#    \n",
    "\n",
    "                               \n",
    "plt.close(fig)\n",
    "print(to_text(global_table_data))"
   ]
  },
  {
   "cell_type": "markdown",
   "metadata": {},
   "source": [
    "## Dynamic Range"
   ]
  },
  {
   "cell_type": "code",
   "execution_count": null,
   "metadata": {},
   "outputs": [],
   "source": [
    "prefix = 'meerkat_{}_'.format(sky)\n",
    "if sky in ['point']:\n",
    "    plot_title = 'Point Source Simulation'\n",
    "    expected_dr = np.array([100, 100, 100, 100, 100])\n",
    "elif sky in ['extended']:\n",
    "    plot_title = 'Extended Source Simulation'\n",
    "    expected_dr = np.array([67.5, 67.5, 67.5, 67.5, 67.5])\n",
    "elif sky in ['hdr']:\n",
    "    plot_title = 'High SNR Source Simulation'\n",
    "    expected_dr = np.array([10000, 10000, 10000, 10000, 10000])\n",
    "beam_factor = 6\n",
    "DRs = OrderedDict()\n",
    "im_titles = []\n",
    "dir = directory.value\n",
    "for m, r in models_dr.items():\n",
    "    DRs[r.split('.')[0].split(prefix)[-1].split('_')[0].upper()] = model_dynamic_range(\n",
    "        '{:s}/{:s}'.format(dir, m),'{:s}/{:s}'.format(dir, r), 6, beam_factor)\n",
    "zipped_props = zip(DRs.keys(), DRs.values())\n",
    "ims, values = zip(*sorted(zipped_props, key=lambda x: x[0]))\n",
    "drs, names = [], []\n",
    "for val in values:\n",
    "    drs.append(val['global_rms'])\n",
    "    names.append(\"DR={:f}\".format(val['global_rms']))\n",
    "aimfast.aimfast.aimfast_plotly(X1=ims, Y1=np.array(drs), plot_title=plot_title,\n",
    "                               X2=ims, Y2=expected_dr,\n",
    "                               x_title='Images', y_title='Dynamic Range')"
   ]
  },
  {
   "cell_type": "markdown",
   "metadata": {},
   "source": [
    "## Residual Statistics"
   ]
  },
  {
   "cell_type": "code",
   "execution_count": null,
   "metadata": {},
   "outputs": [],
   "source": [
    "aimfast.aimfast.print_residual_stats(sorted(RESIDUALS.keys()), prefix='meerkat_{}_'.format(sky),\n",
    "                                     suffix='residual.fits', replace='cube-residual',\n",
    "                                     normality='normaltest', units='mJy', dir=directory.value)"
   ]
  },
  {
   "cell_type": "markdown",
   "metadata": {},
   "source": [
    "#### Source residual-to-noise ration measurements"
   ]
  },
  {
   "cell_type": "code",
   "execution_count": null,
   "metadata": {
    "scrolled": false
   },
   "outputs": [],
   "source": [
    "aimfast.aimfast.plot_residuals_noise(RESIDUALS,\n",
    "                                     area_factor=6.0, dir=directory.value,\n",
    "                                     skymodel='{}_skymodel1.txt'.format(sky),\n",
    "                                     label=['clean', 'ddfacet', 'lwimager', 'tclean', 'wsclean'])"
   ]
  },
  {
   "cell_type": "markdown",
   "metadata": {},
   "source": [
    "#### Random source residual-to-noise ration measurements"
   ]
  },
  {
   "cell_type": "code",
   "execution_count": null,
   "metadata": {
    "scrolled": false
   },
   "outputs": [],
   "source": [
    "aimfast.aimfast.plot_residuals_noise(RESIDUALS, skymodel=None,\n",
    "                                     area_factor=5.0, points=100, dir=directory.value,\n",
    "                                     label=['clean', 'ddfacet', 'lwimager', 'tclean', 'wsclean'])"
   ]
  },
  {
   "cell_type": "markdown",
   "metadata": {},
   "source": [
    "## View Reconstructed Maps"
   ]
  },
  {
   "cell_type": "code",
   "execution_count": null,
   "metadata": {
    "scrolled": false
   },
   "outputs": [],
   "source": [
    "%%html\n",
    "<iframe src=\"http://js9.si.edu\" width=990 height=740></iframe>"
   ]
  },
  {
   "cell_type": "markdown",
   "metadata": {
    "extensions": {
     "jupyter_dashboards": {
      "version": 1,
      "views": {
       "grid_default": {},
       "report_default": {
        "hidden": false
       }
      }
     }
    }
   },
   "source": [
    "## Source meta-data"
   ]
  },
  {
   "cell_type": "code",
   "execution_count": null,
   "metadata": {
    "extensions": {
     "jupyter_dashboards": {
      "version": 1,
      "views": {
       "grid_default": {},
       "report_default": {
        "hidden": false
       }
      }
     }
    }
   },
   "outputs": [],
   "source": [
    "imagers = ['clean', 'ddfacet', 'lwimager', 'tclean', 'wsclean']\n",
    "cb_cont = widgets.HBox(background_color='red',height='100px',width='100%')\n",
    "Im = []\n",
    "for imager in sorted(imagers):\n",
    "    Im.append(widgets.Checkbox(description=imager,value=True,width=50))\n",
    "cb_cont.children=[i for i in Im]\n",
    "\n",
    "src_nm = widgets.Text(\n",
    "    value='',\n",
    "    placeholder='ay040',\n",
    "    description='Source Name:',\n",
    "    disabled=False\n",
    ")\n",
    "display(cb_cont)\n",
    "display(src_nm)"
   ]
  },
  {
   "cell_type": "code",
   "execution_count": null,
   "metadata": {
    "extensions": {
     "jupyter_dashboards": {
      "version": 1,
      "views": {
       "grid_default": {},
       "report_default": {
        "hidden": false
       }
      }
     }
    }
   },
   "outputs": [],
   "source": [
    "def run_all(ev):\n",
    "    display(Javascript('IPython.notebook.execute_cell_range(IPython.notebook.get_selected_index()+1,'\n",
    "                       'IPython.notebook.get_selected_index()+2)'))\n",
    "\n",
    "button = widgets.Button(description=\"Search\")\n",
    "button.on_click(run_all)\n",
    "display(button)"
   ]
  },
  {
   "cell_type": "code",
   "execution_count": null,
   "metadata": {},
   "outputs": [],
   "source": [
    "im_search = dict()\n",
    "for i, im in enumerate(sorted(imagers)):\n",
    "    im_search[im] = 1 if cb_cont.children[i].value else 0\n",
    "src_target = src_nm.value\n",
    "results = spectrum\n",
    "for k,v in sorted(im_search.items()):\n",
    "    if v:\n",
    "        model = '{}-model_1'.format(k)\n",
    "        for i, src in enumerate(results[model]['flux']):\n",
    "            if src_target == src[-1]:\n",
    "                pos = results[model]['position'][i]\n",
    "                print('============')\n",
    "                print (\"Source info:\\n============\\n\"\n",
    "                       \"name = %s\\n\"\n",
    "                       \"In_flux = %s Jy\\n\"\n",
    "                       \"Out_flux = %s Jy\\n\"\n",
    "                       \"Out_flux_error = %s Jy\\n\"\n",
    "                       \"Model file = %s\"\n",
    "                       % (src[-1],\n",
    "                          round(src[2], 6),\n",
    "                          round(src[0], 6),\n",
    "                          round(src[1], 6),\n",
    "                          results[model]['models'][-1]))\n",
    "                print('\\n')"
   ]
  }
 ],
 "metadata": {
  "celltoolbar": "Slideshow",
  "extensions": {
   "jupyter_dashboards": {
    "activeView": "report_default",
    "version": 1,
    "views": {
     "grid_default": {
      "name": "grid",
      "type": "grid"
     },
     "report_default": {
      "name": "report",
      "type": "report"
     }
    }
   }
  },
  "kernelspec": {
   "display_name": "Python 2",
   "language": "python",
   "name": "python2"
  },
  "language_info": {
   "codemirror_mode": {
    "name": "ipython",
    "version": 2
   },
   "file_extension": ".py",
   "mimetype": "text/x-python",
   "name": "python",
   "nbconvert_exporter": "python",
   "pygments_lexer": "ipython2",
   "version": "2.7.12"
  },
  "widgets": {
   "application/vnd.jupyter.widget-state+json": {
    "state": {
     "13deb65bdeb0470aa7c72829d9da16f5": {
      "model_module": "@jupyter-widgets/base",
      "model_module_version": "1.1.0",
      "model_name": "LayoutModel",
      "state": {}
     },
     "16c94afb37f6412aaa729588d3273169": {
      "model_module": "@jupyter-widgets/controls",
      "model_module_version": "1.4.0",
      "model_name": "TextModel",
      "state": {
       "description": "Input directory:",
       "layout": "IPY_MODEL_613bc503857a4e0384092ec9864f61f9",
       "placeholder": "input",
       "style": "IPY_MODEL_86cba39e1c3147d289493c1d7ed9e247",
       "value": "/media/athanaseus/JaaVaaS/WIP/run1/run_sim1/output"
      }
     },
     "288035d1842343729368404df2630109": {
      "model_module": "@jupyter-widgets/base",
      "model_module_version": "1.1.0",
      "model_name": "LayoutModel",
      "state": {}
     },
     "2a62e8f726454da5a72e0a65d7d16f10": {
      "model_module": "@jupyter-widgets/controls",
      "model_module_version": "1.4.0",
      "model_name": "ButtonStyleModel",
      "state": {}
     },
     "37f2026fb1754be98b4408f0ec87049c": {
      "model_module": "@jupyter-widgets/controls",
      "model_module_version": "1.4.0",
      "model_name": "IntSliderModel",
      "state": {
       "continuous_update": false,
       "description": "Bin by spi:",
       "layout": "IPY_MODEL_af951d76c6a74d5894207e259390472f",
       "min": 1,
       "style": "IPY_MODEL_f4e6109e45f24a93a0543d0fe26d1932",
       "value": 5
      }
     },
     "4124c5db9bb843abb4eedc8262bae61a": {
      "model_module": "@jupyter-widgets/controls",
      "model_module_version": "1.4.0",
      "model_name": "ButtonModel",
      "state": {
       "description": "Configure",
       "layout": "IPY_MODEL_13deb65bdeb0470aa7c72829d9da16f5",
       "style": "IPY_MODEL_dffaca690ce34dbc9c38cbf114a209d5"
      }
     },
     "4f9b6b72d78849d5b5c3829f49eeef36": {
      "model_module": "@jupyter-widgets/controls",
      "model_module_version": "1.4.0",
      "model_name": "ButtonStyleModel",
      "state": {}
     },
     "588cc60b3b824659a660f5b45ffde503": {
      "model_module": "@jupyter-widgets/base",
      "model_module_version": "1.1.0",
      "model_name": "LayoutModel",
      "state": {}
     },
     "613bc503857a4e0384092ec9864f61f9": {
      "model_module": "@jupyter-widgets/base",
      "model_module_version": "1.1.0",
      "model_name": "LayoutModel",
      "state": {}
     },
     "6d65f0049e3c4996ba8e81421b6458f3": {
      "model_module": "@jupyter-widgets/controls",
      "model_module_version": "1.4.0",
      "model_name": "CheckboxModel",
      "state": {
       "description": "Same Y-scale",
       "disabled": false,
       "layout": "IPY_MODEL_f0cde3ebb3cd436a86174b8bf0b04032",
       "style": "IPY_MODEL_f3c770abc7c244608329b326e1c1807d",
       "value": false
      }
     },
     "6e20f2ebb5cc4ec9b440afaeb89ed4c7": {
      "model_module": "@jupyter-widgets/controls",
      "model_module_version": "1.4.0",
      "model_name": "IntSliderModel",
      "state": {
       "continuous_update": false,
       "description": "Bin by flux(%):",
       "layout": "IPY_MODEL_588cc60b3b824659a660f5b45ffde503",
       "min": 1,
       "style": "IPY_MODEL_97dfbacdc9b24393bf2db5220eaffb15",
       "value": 100
      }
     },
     "7499c1ac3c424a4096750b8383946f02": {
      "model_module": "@jupyter-widgets/controls",
      "model_module_version": "1.4.0",
      "model_name": "TextModel",
      "state": {
       "description": "Input directory:",
       "layout": "IPY_MODEL_288035d1842343729368404df2630109",
       "placeholder": "input",
       "style": "IPY_MODEL_cbd19f2d30f24ae0b4617d43f7951778",
       "value": "input"
      }
     },
     "8016304a821b495381acac10d28e4fb9": {
      "model_module": "@jupyter-widgets/base",
      "model_module_version": "1.1.0",
      "model_name": "LayoutModel",
      "state": {}
     },
     "86cba39e1c3147d289493c1d7ed9e247": {
      "model_module": "@jupyter-widgets/controls",
      "model_module_version": "1.4.0",
      "model_name": "DescriptionStyleModel",
      "state": {
       "description_width": ""
      }
     },
     "8c163ff4b2324784a7afe43ce79d7a11": {
      "model_module": "@jupyter-widgets/base",
      "model_module_version": "1.1.0",
      "model_name": "LayoutModel",
      "state": {}
     },
     "97dfbacdc9b24393bf2db5220eaffb15": {
      "model_module": "@jupyter-widgets/controls",
      "model_module_version": "1.4.0",
      "model_name": "SliderStyleModel",
      "state": {
       "description_width": ""
      }
     },
     "9b7b95267e0d4196a35fb8c96842ee32": {
      "model_module": "@jupyter-widgets/controls",
      "model_module_version": "1.4.0",
      "model_name": "SliderStyleModel",
      "state": {
       "description_width": ""
      }
     },
     "a36964be3c064016998792763690d2f1": {
      "model_module": "@jupyter-widgets/base",
      "model_module_version": "1.1.0",
      "model_name": "LayoutModel",
      "state": {}
     },
     "af951d76c6a74d5894207e259390472f": {
      "model_module": "@jupyter-widgets/base",
      "model_module_version": "1.1.0",
      "model_name": "LayoutModel",
      "state": {}
     },
     "b9002d900bab4ab18be9062ab84be749": {
      "model_module": "@jupyter-widgets/controls",
      "model_module_version": "1.4.0",
      "model_name": "ButtonModel",
      "state": {
       "description": "Configure",
       "layout": "IPY_MODEL_8016304a821b495381acac10d28e4fb9",
       "style": "IPY_MODEL_4f9b6b72d78849d5b5c3829f49eeef36"
      }
     },
     "bd8029b421b4491ca76fef4d5937d31f": {
      "model_module": "@jupyter-widgets/controls",
      "model_module_version": "1.4.0",
      "model_name": "CheckboxModel",
      "state": {
       "description": "Same X-scale",
       "disabled": false,
       "layout": "IPY_MODEL_a36964be3c064016998792763690d2f1",
       "style": "IPY_MODEL_eeedbc3eb58741b29e7cf02a61f798ef",
       "value": false
      }
     },
     "c53cfbea11ea45e3acdbfbdd93257cb2": {
      "model_module": "@jupyter-widgets/base",
      "model_module_version": "1.1.0",
      "model_name": "LayoutModel",
      "state": {}
     },
     "cbd19f2d30f24ae0b4617d43f7951778": {
      "model_module": "@jupyter-widgets/controls",
      "model_module_version": "1.4.0",
      "model_name": "DescriptionStyleModel",
      "state": {
       "description_width": ""
      }
     },
     "cfa2bc71222d485dbf277d1ad889f20a": {
      "model_module": "@jupyter-widgets/controls",
      "model_module_version": "1.4.0",
      "model_name": "IntRangeSliderModel",
      "state": {
       "_model_name": "IntRangeSliderModel",
       "_view_name": "IntRangeSliderView",
       "continuous_update": false,
       "description": "Y-axis limit",
       "layout": "IPY_MODEL_f1e925c37bf84c879ff1b4f6db52a480",
       "max": 150,
       "min": -150,
       "style": "IPY_MODEL_9b7b95267e0d4196a35fb8c96842ee32",
       "value": [
        -80,
        80
       ]
      }
     },
     "dffaca690ce34dbc9c38cbf114a209d5": {
      "model_module": "@jupyter-widgets/controls",
      "model_module_version": "1.4.0",
      "model_name": "ButtonStyleModel",
      "state": {}
     },
     "eeedbc3eb58741b29e7cf02a61f798ef": {
      "model_module": "@jupyter-widgets/controls",
      "model_module_version": "1.4.0",
      "model_name": "DescriptionStyleModel",
      "state": {
       "description_width": ""
      }
     },
     "f0cde3ebb3cd436a86174b8bf0b04032": {
      "model_module": "@jupyter-widgets/base",
      "model_module_version": "1.1.0",
      "model_name": "LayoutModel",
      "state": {}
     },
     "f1e925c37bf84c879ff1b4f6db52a480": {
      "model_module": "@jupyter-widgets/base",
      "model_module_version": "1.1.0",
      "model_name": "LayoutModel",
      "state": {}
     },
     "f3c770abc7c244608329b326e1c1807d": {
      "model_module": "@jupyter-widgets/controls",
      "model_module_version": "1.4.0",
      "model_name": "DescriptionStyleModel",
      "state": {
       "description_width": ""
      }
     },
     "f4e6109e45f24a93a0543d0fe26d1932": {
      "model_module": "@jupyter-widgets/controls",
      "model_module_version": "1.4.0",
      "model_name": "SliderStyleModel",
      "state": {
       "description_width": ""
      }
     },
     "f76618b43fc749d49a5088efc3bd3316": {
      "model_module": "@jupyter-widgets/controls",
      "model_module_version": "1.4.0",
      "model_name": "SliderStyleModel",
      "state": {
       "description_width": ""
      }
     },
     "fb6a9c2e13dc416a95ed58b1dc7cea87": {
      "model_module": "@jupyter-widgets/controls",
      "model_module_version": "1.4.0",
      "model_name": "ButtonModel",
      "state": {
       "description": "PLOT",
       "layout": "IPY_MODEL_c53cfbea11ea45e3acdbfbdd93257cb2",
       "style": "IPY_MODEL_2a62e8f726454da5a72e0a65d7d16f10"
      }
     },
     "ffb3ba02b3e64d2d8a3c01e4d302c720": {
      "model_module": "@jupyter-widgets/controls",
      "model_module_version": "1.4.0",
      "model_name": "IntSliderModel",
      "state": {
       "continuous_update": false,
       "description": "Bin by flux:",
       "layout": "IPY_MODEL_8c163ff4b2324784a7afe43ce79d7a11",
       "min": 1,
       "style": "IPY_MODEL_f76618b43fc749d49a5088efc3bd3316",
       "value": 5
      }
     }
    },
    "version_major": 2,
    "version_minor": 0
   }
  }
 },
 "nbformat": 4,
 "nbformat_minor": 2
}
