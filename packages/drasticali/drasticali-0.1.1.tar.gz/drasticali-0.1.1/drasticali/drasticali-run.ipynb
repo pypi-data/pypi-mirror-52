{
 "cells": [
  {
   "cell_type": "code",
   "execution_count": null,
   "metadata": {
    "extensions": {
     "jupyter_dashboards": {
      "version": 1,
      "views": {
       "grid_default": {},
       "report_default": {}
      }
     }
    }
   },
   "outputs": [],
   "source": [
    "# Don't change the names\n",
    "!mkdir msdir\n",
    "!mkdir input\n",
    "!mkdir output"
   ]
  },
  {
   "cell_type": "code",
   "execution_count": null,
   "metadata": {
    "extensions": {
     "jupyter_dashboards": {
      "version": 1,
      "views": {
       "grid_default": {},
       "report_default": {}
      }
     }
    }
   },
   "outputs": [],
   "source": [
    "import os\n",
    "import json\n",
    "import stimela\n",
    "import pkg_resources\n",
    "from drasticali import drasticali\n",
    "from IPython.display import Javascript\n",
    "from ipywidgets import widgets, interact\n",
    "from drasticali.drasticali import natural_keys"
   ]
  },
  {
   "cell_type": "code",
   "execution_count": null,
   "metadata": {
    "extensions": {
     "jupyter_dashboards": {
      "version": 1,
      "views": {
       "grid_default": {},
       "report_default": {}
      }
     }
    }
   },
   "outputs": [],
   "source": [
    "def run_all(ev):\n",
    "    # Runn all cells\n",
    "    #display(Javascript('IPython.notebook.execute_cells_below()'))\n",
    "    display(Javascript('IPython.notebook.execute_cell_range(IPython.notebook.get_selected_index()+1,'\n",
    "                       'IPython.notebook.get_selected_index()+4)'))\n",
    "\n",
    "button = widgets.Button(description=\"Configure\")\n",
    "button.on_click(run_all)\n",
    "display(button)\n",
    "\n",
    "docker = widgets.Dropdown(options=['Docker', 'uDocker', 'Podman', 'Singularity'],\n",
    "    value='uDocker',\n",
    "    description='Container Tech'\n",
    ")\n",
    "display(docker)\n",
    "\n",
    "from IPython.display import HTML\n",
    "\n",
    "HTML('''<script>\n",
    "code_show=true; \n",
    "function code_toggle() {\n",
    " if (code_show){\n",
    " $('div.input').hide();\n",
    " } else {\n",
    " $('div.input').show();\n",
    " }\n",
    " code_show = !code_show\n",
    "} \n",
    "$( document ).ready(code_toggle);\n",
    "</script>\n",
    "<form action=\"javascript:code_toggle()\"><input type=\"submit\"\n",
    "value=\"Click here to toggle on/off the raw code.\"></form>''')"
   ]
  },
  {
   "cell_type": "code",
   "execution_count": null,
   "metadata": {
    "extensions": {
     "jupyter_dashboards": {
      "version": 1,
      "views": {
       "grid_default": {},
       "report_default": {}
      }
     }
    }
   },
   "outputs": [],
   "source": [
    "DATA = dict()\n",
    "MSDIR = 'msdir'\n",
    "if docker.value in ['Docker']:\n",
    "    recipe = stimela.Recipe('Make Pipeline', ms_dir=MSDIR, JOB_TYPE='docker')\n",
    "elif docker.value in ['uDocker']:\n",
    "    recipe = stimela.Recipe('Make Pipeline', ms_dir=MSDIR, JOB_TYPE='udocker')\n",
    "elif docker.value in ['Podman']:\n",
    "    recipe = stimela.Recipe('Make Pipeline', ms_dir=MSDIR, JOB_TYPE='podman')\n",
    "elif docker.value in ['Singularity']:\n",
    "    recipe = stimela.Recipe('Make Pipeline', ms_dir=MSDIR,\n",
    "                            singularity_image_dir=os.environ[\"SINGULARITY_PULLFOLDER\"])\n",
    "cab_names = ['simms', 'simulator', 'calibrator', 'wsclean', 'ddfacet', 'cleanmask', 'casa_makemask',\n",
    "             'casa_clean', 'lwimager', 'casa_tclean',\n",
    "             'fitstool', 'pybdsm', 'aegean',]#stimela.CAB\n",
    "def setup():\n",
    "    for cab_name in cab_names:\n",
    "        PARAM_FILE_PATH = pkg_resources.resource_filename('stimela', 'cargo/cab/{}'.format(cab_name))\n",
    "        PARAM_FILE = '{}/parameters.json'.format(PARAM_FILE_PATH)\n",
    "\n",
    "        with open(PARAM_FILE) as par:\n",
    "            DATA[cab_name] = json.load(par)\n",
    "setup()"
   ]
  },
  {
   "cell_type": "code",
   "execution_count": null,
   "metadata": {},
   "outputs": [],
   "source": [
    "recipe_file = widgets.Text(\n",
    "    value='',\n",
    "    placeholder='recipe.json',\n",
    "    description='Recipe File:',\n",
    "    disabled=False\n",
    ")\n",
    "display(recipe_file)"
   ]
  },
  {
   "cell_type": "code",
   "execution_count": null,
   "metadata": {},
   "outputs": [],
   "source": [
    "def run_all(ev):\n",
    "    # Runn all cells\n",
    "    #display(Javascript('IPython.notebook.execute_cells_below()'))\n",
    "    display(Javascript('IPython.notebook.execute_cell_range(IPython.notebook.get_selected_index()+1,'\n",
    "                       'IPython.notebook.get_selected_index()+3)'))\n",
    "\n",
    "button = widgets.Button(description=\"LOAD\")\n",
    "button.on_click(run_all)\n",
    "display(button)"
   ]
  },
  {
   "cell_type": "code",
   "execution_count": null,
   "metadata": {},
   "outputs": [],
   "source": [
    "Im = []\n",
    "recipe.jobs = []\n",
    "data = drasticali.get_data(recipe_file.value)\n",
    "cb_cont = widgets.HBox(background_color='red',height='200px',width='100%')\n",
    "data_keys = data.keys()\n",
    "data_keys.sort(key=natural_keys)\n",
    "for dk in data_keys:\n",
    "    Im.append(widgets.Checkbox(description=dk,value=False,width=50))\n",
    "cb_cont.children=[i for i in Im]\n",
    "display(cb_cont)"
   ]
  },
  {
   "cell_type": "code",
   "execution_count": null,
   "metadata": {},
   "outputs": [],
   "source": [
    "def run_all(ev):\n",
    "    # Runn all cells\n",
    "    #display(Javascript('IPython.notebook.execute_cells_below()'))\n",
    "    display(Javascript('IPython.notebook.execute_cell_range(IPython.notebook.get_selected_index()+1,'\n",
    "                       'IPython.notebook.get_selected_index()+5)'))\n",
    "\n",
    "button = widgets.Button(description=\"RUN ALL\")\n",
    "button.on_click(run_all)\n",
    "display(button)"
   ]
  },
  {
   "cell_type": "code",
   "execution_count": null,
   "metadata": {
    "scrolled": false
   },
   "outputs": [],
   "source": [
    "recipe.jobs = []\n",
    "for cab_value in data_keys:\n",
    "    cab_params = data[cab_value]\n",
    "    new_cab_params = dict()\n",
    "    cab_num = cab_value.split('_')[0]\n",
    "    cab_name = cab_value.split('{}_'.format(cab_num))[-1]\n",
    "    cab_func = getattr(drasticali, 'cab_function', None)\n",
    "    for c in cb_cont.children:\n",
    "        if c.description == cab_value:\n",
    "            if c.value:\n",
    "                for cab_param_key, cab_param_value in cab_params.items():\n",
    "                    new_cab_params[str(cab_param_key)] = (str(cab_param_value)\n",
    "                                                          if type(cab_param_value) is unicode\n",
    "                                                          else cab_param_value)\n",
    "                cab_func(recipe, name=cab_name, num=cab_num, parameters=new_cab_params,\n",
    "                         recipes_file=recipe_file.value, dump=False)\n",
    "drasticali.run_all(recipe, recipe_file.value)"
   ]
  },
  {
   "cell_type": "markdown",
   "metadata": {},
   "source": [
    "## Execution Time"
   ]
  },
  {
   "cell_type": "code",
   "execution_count": null,
   "metadata": {},
   "outputs": [],
   "source": [
    "from matplotlib import pyplot as plt\n",
    "from aimfast import aimfast\n",
    "import numpy as np\n",
    "import math\n",
    "%matplotlib inline"
   ]
  },
  {
   "cell_type": "code",
   "execution_count": null,
   "metadata": {
    "scrolled": false
   },
   "outputs": [],
   "source": [
    "cab_ids, times = [], []\n",
    "prefix = recipe_file.value.split('/')[-1].split('.')[0]\n",
    "data = drasticali.get_data('{}_time-it.json'.format(prefix))\n",
    "data_keys = data.keys()\n",
    "data_keys.sort(key=natural_keys)\n",
    "for key in data_keys:\n",
    "    #cab_id = key.split(prefix+'_')[-1]\n",
    "    cab_id = key.split(prefix+'_')[-1].split('_')[0]\n",
    "    time = float(data[key])\n",
    "    cab_ids.append(cab_id)\n",
    "    times.append(time)\n",
    "aimfast.aimfast_plotly(cab_ids, np.array(times), plot_title='Time it', x_title='Cab', y_title='Time(m)', plot_mode1='markers+lines', yfactor=60)"
   ]
  }
 ],
 "metadata": {
  "extensions": {
   "jupyter_dashboards": {
    "activeView": "grid_default",
    "version": 1,
    "views": {
     "grid_default": {
      "cellMargin": 10,
      "defaultCellHeight": 20,
      "maxColumns": 12,
      "name": "grid",
      "type": "grid"
     },
     "report_default": {
      "name": "report",
      "type": "report"
     }
    }
   }
  },
  "kernelspec": {
   "display_name": "Python 2",
   "language": "python",
   "name": "python2"
  },
  "language_info": {
   "codemirror_mode": {
    "name": "ipython",
    "version": 2
   },
   "file_extension": ".py",
   "mimetype": "text/x-python",
   "name": "python",
   "nbconvert_exporter": "python",
   "pygments_lexer": "ipython2",
   "version": "2.7.12"
  }
 },
 "nbformat": 4,
 "nbformat_minor": 2
}
