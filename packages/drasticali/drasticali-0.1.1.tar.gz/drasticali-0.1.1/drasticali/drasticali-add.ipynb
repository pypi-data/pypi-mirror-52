{
 "cells": [
  {
   "cell_type": "code",
   "execution_count": null,
   "metadata": {
    "extensions": {
     "jupyter_dashboards": {
      "version": 1,
      "views": {
       "grid_default": {},
       "report_default": {}
      }
     }
    }
   },
   "outputs": [],
   "source": [
    "# Don't change the names\n",
    "!mkdir msdir\n",
    "!mkdir input\n",
    "!mkdir output"
   ]
  },
  {
   "cell_type": "code",
   "execution_count": null,
   "metadata": {
    "extensions": {
     "jupyter_dashboards": {
      "version": 1,
      "views": {
       "grid_default": {},
       "report_default": {}
      }
     }
    }
   },
   "outputs": [],
   "source": [
    "import os\n",
    "import json\n",
    "import stimela\n",
    "import pkg_resources\n",
    "from drasticali import drasticali\n",
    "from drasticali.drasticali import natural_keys, remove_cab\n",
    "from ipywidgets import widgets, interact\n",
    "from IPython.display import Javascript"
   ]
  },
  {
   "cell_type": "code",
   "execution_count": null,
   "metadata": {
    "extensions": {
     "jupyter_dashboards": {
      "version": 1,
      "views": {
       "grid_default": {},
       "report_default": {}
      }
     }
    }
   },
   "outputs": [],
   "source": [
    "def run_all(ev):\n",
    "    # Runn all cells\n",
    "    #display(Javascript('IPython.notebook.execute_cells_below()'))\n",
    "    display(Javascript('IPython.notebook.execute_cell_range(IPython.notebook.get_selected_index()+1,'\n",
    "                       'IPython.notebook.get_selected_index()+4)'))\n",
    "\n",
    "button = widgets.Button(description=\"Configure\")\n",
    "button.on_click(run_all)\n",
    "display(button)\n",
    "\n",
    "docker = widgets.Dropdown(options=['Docker', 'uDocker', 'Podman', 'Singularity'],\n",
    "    value='uDocker',\n",
    "    description='Container Tech'\n",
    ")\n",
    "display(docker)\n",
    "\n",
    "from IPython.display import HTML\n",
    "\n",
    "HTML('''<script>\n",
    "code_show=true; \n",
    "function code_toggle() {\n",
    " if (code_show){\n",
    " $('div.input').hide();\n",
    " } else {\n",
    " $('div.input').show();\n",
    " }\n",
    " code_show = !code_show\n",
    "} \n",
    "$( document ).ready(code_toggle);\n",
    "</script>\n",
    "<form action=\"javascript:code_toggle()\"><input type=\"submit\"\n",
    "value=\"Click here to toggle on/off the raw code.\"></form>''')"
   ]
  },
  {
   "cell_type": "code",
   "execution_count": null,
   "metadata": {
    "extensions": {
     "jupyter_dashboards": {
      "version": 1,
      "views": {
       "grid_default": {},
       "report_default": {}
      }
     }
    }
   },
   "outputs": [],
   "source": [
    "DATA = dict()\n",
    "MSDIR = 'msdir'\n",
    "if docker.value in ['Docker']:\n",
    "    recipe = stimela.Recipe('Make Pipeline', ms_dir=MSDIR, JOB_TYPE='docker')\n",
    "elif docker.value in ['uDocker']:\n",
    "    recipe = stimela.Recipe('Make Pipeline', ms_dir=MSDIR, JOB_TYPE='udocker')\n",
    "elif docker.value in ['Podman']:\n",
    "    recipe = stimela.Recipe('Make Pipeline', ms_dir=MSDIR, JOB_TYPE='podman')\n",
    "elif docker.value in ['Singularity']:\n",
    "    recipe = stimela.Recipe('Make Pipeline', ms_dir=MSDIR,\n",
    "                            singularity_image_dir=os.environ[\"SINGULARITY_PULLFOLDER\"])\n",
    "cab_names = ['simms', 'simulator', 'calibrator', 'wsclean', 'ddfacet', 'cleanmask', 'casa_makemask',\n",
    "             'casa_clean', 'lwimager', 'casa_tclean',\n",
    "             'fitstool', 'pybdsm', 'aegean',]#stimela.CAB\n",
    "def setup():\n",
    "    for cab_name in cab_names:\n",
    "        PARAM_FILE_PATH = pkg_resources.resource_filename('stimela', 'cargo/cab/{}'.format(cab_name))\n",
    "        PARAM_FILE = '{}/parameters.json'.format(PARAM_FILE_PATH)\n",
    "\n",
    "        with open(PARAM_FILE) as par:\n",
    "            DATA[cab_name] = json.load(par)\n",
    "setup()"
   ]
  },
  {
   "cell_type": "code",
   "execution_count": null,
   "metadata": {},
   "outputs": [],
   "source": [
    "recipe_file = widgets.Text(\n",
    "    value='',\n",
    "    placeholder='recipe.json',\n",
    "    description='Recipe File:',\n",
    "    disabled=False\n",
    ")\n",
    "display(recipe_file)"
   ]
  },
  {
   "cell_type": "code",
   "execution_count": null,
   "metadata": {},
   "outputs": [],
   "source": [
    "def run_all(ev):\n",
    "    # Runn all cells\n",
    "    #display(Javascript('IPython.notebook.execute_cells_below()'))\n",
    "    display(Javascript('IPython.notebook.execute_cell_range(IPython.notebook.get_selected_index()+1,'\n",
    "                       'IPython.notebook.get_selected_index()+4)'))\n",
    "\n",
    "button = widgets.Button(description=\"LOAD\")\n",
    "button.on_click(run_all)\n",
    "display(button)"
   ]
  },
  {
   "cell_type": "markdown",
   "metadata": {
    "extensions": {
     "jupyter_dashboards": {
      "version": 1,
      "views": {
       "grid_default": {},
       "report_default": {}
      }
     }
    }
   },
   "source": [
    "Select cab to use:"
   ]
  },
  {
   "cell_type": "code",
   "execution_count": null,
   "metadata": {
    "extensions": {
     "jupyter_dashboards": {
      "version": 1,
      "views": {
       "grid_default": {},
       "report_default": {}
      }
     }
    }
   },
   "outputs": [],
   "source": [
    "cab = widgets.Dropdown(\n",
    "    options=cab_names,\n",
    "    description='Task:',\n",
    "    disabled=False)\n",
    "display(cab)"
   ]
  },
  {
   "cell_type": "code",
   "execution_count": null,
   "metadata": {},
   "outputs": [],
   "source": [
    "def run_all(ev):\n",
    "    # Runn all cells\n",
    "    #display(Javascript('IPython.notebook.execute_cells_below()'))\n",
    "    display(Javascript('IPython.notebook.execute_cell_range(IPython.notebook.get_selected_index()+1,'\n",
    "                       'IPython.notebook.get_selected_index()+4)'))\n",
    "\n",
    "button = widgets.Button(description=\"SELECT\")\n",
    "button.on_click(run_all)\n",
    "display(button)"
   ]
  },
  {
   "cell_type": "code",
   "execution_count": null,
   "metadata": {
    "extensions": {
     "jupyter_dashboards": {
      "version": 1,
      "views": {
       "grid_default": {},
       "report_default": {}
      }
     }
    },
    "scrolled": false
   },
   "outputs": [],
   "source": [
    "c = DATA[cab.value]\n",
    "print(c['description'])\n",
    "print('')\n",
    "params = c['parameters']\n",
    "PAR = dict()\n",
    "for param in params:\n",
    "    #PAR = dict()\n",
    "    print(\"Name: \" + str(param['name']))\n",
    "    print(\"Info: \" + str(param['info']))\n",
    "    print(\"Type: \" + str(param['dtype']))\n",
    "    if 'default' in param:\n",
    "        print \"Default: \" + str(param['default'])\n",
    "    if 'required' in param:\n",
    "        print \"Required: \" + str(param['required'])\n",
    "    if param['dtype'] in ['str', 'file', 'list:str', #'list:int',\n",
    "                          'list:file', 'list:float', 'list:list'] or param['default'] == None:\n",
    "        PAR[param['name']] = widgets.Text(value=str(param['default']) if 'default' in param else '')\n",
    "    elif param['dtype'] in ['list:int'] and param['default'] != None:\n",
    "        try:\n",
    "            PAR[param['name']] = widgets.IntText(value=param['default'] if 'default' in param else None)\n",
    "        except :\n",
    "            try:\n",
    "                PAR[param['name']] = widgets.Textarea(value=param['default'] if 'default' in param else None)\n",
    "            except:\n",
    "                PAR[param['name']] = widgets.Text(value=str(param['default']) if 'default' in param else None)\n",
    "    elif type(param['dtype']) is list:\n",
    "        PAR[param['name']] = widgets.Textarea(value=str(param['default']) if 'default' in param else '')\n",
    "    elif param['dtype'] in ['int'] and param['default'] != None:\n",
    "        PAR[param['name']] = widgets.IntText(value=param['default'] if 'default' in param else None)\n",
    "    elif param['dtype'] in ['float'] and param['default'] != None:\n",
    "        PAR[param['name']] = widgets.FloatText(value=float(param['default']) if 'default' in param else None)\n",
    "    elif param['dtype'] in ['bool']:\n",
    "        PAR[param['name']] = widgets.Dropdown(options=[True, False],\n",
    "                                              value=bool(param['default']))# if 'default' in param else '')\n",
    "    display(PAR[param['name']])\n",
    "    print('')"
   ]
  },
  {
   "cell_type": "code",
   "execution_count": null,
   "metadata": {},
   "outputs": [],
   "source": [
    "cab_number = widgets.BoundedIntText(\n",
    "    value=0,\n",
    "    min=0,\n",
    "    max=100,\n",
    "    step=1,\n",
    "    description='Cab Number:',\n",
    "    disabled=False\n",
    ")\n",
    "print(\"Note: 0 means append at the end\")\n",
    "display(cab_number)"
   ]
  },
  {
   "cell_type": "code",
   "execution_count": null,
   "metadata": {
    "extensions": {
     "jupyter_dashboards": {
      "version": 1,
      "views": {
       "grid_default": {},
       "report_default": {}
      }
     }
    }
   },
   "outputs": [],
   "source": [
    "def run_all(ev):\n",
    "    # Runn all cells\n",
    "    #display(Javascript('IPython.notebook.execute_cells_below()'))\n",
    "    display(Javascript('IPython.notebook.execute_cell_range(IPython.notebook.get_selected_index()+1,'\n",
    "                       'IPython.notebook.get_selected_index()+3)'))\n",
    "\n",
    "button = widgets.Button(description=\"ADD\")\n",
    "button.on_click(run_all)\n",
    "display(button)\n",
    "\n",
    "cab_params = {}"
   ]
  },
  {
   "cell_type": "code",
   "execution_count": null,
   "metadata": {},
   "outputs": [],
   "source": [
    "cab_num = cab_number.value\n",
    "cab_func_name = cab.value\n",
    "cab_func = getattr(drasticali, 'cab_function', None)\n",
    "for key, val in PAR.items():\n",
    "    if val.value in ['None']:\n",
    "        continue\n",
    "    if type(val.value) is unicode and '\\\\n' in val.value:\n",
    "        cab_params[key] = val.value.split('\\\\n')\n",
    "    ##temp fix since the type must be int\n",
    "    elif key in ['sigma']:\n",
    "        cab_params[key] = int(val.value)\n",
    "    else:\n",
    "        for param in params:\n",
    "            if param['dtype'] in ['int'] and param['name'] == key:\n",
    "                cab_params[key] = int(val.value)\n",
    "                continue\n",
    "            elif param['dtype'] in ['float'] and param['name'] == key:\n",
    "                cab_params[key] = float(val.value)\n",
    "                continue\n",
    "            elif type(param['dtype']) is list and param['name'] == key:\n",
    "                for p in param['dtype']:\n",
    "                    try:\n",
    "                        if p in ['int']:\n",
    "                            cab_params[key] = int(val.value)\n",
    "                        #elif p in ['float']:\n",
    "                        #    cab_params[key] = float(val.value)\n",
    "                        elif type(val.value) is unicode:\n",
    "                            cab_params[key] = str(val.value)\n",
    "                    except ValueError:\n",
    "                        cab_params[key] = str(val.value)\n",
    "                continue\n",
    "            elif type(val.value) is unicode and param['name'] == key:\n",
    "                cab_params[key] = str(val.value)\n",
    "                continue\n",
    "            else:\n",
    "                if param['name'] == key:\n",
    "                    cab_params[key] = val.value\n",
    "\n",
    "cab_func(recipe, name=cab_func_name, num=cab_num, parameters=cab_params,\n",
    "         recipes_file=recipe_file.value, dump=False)\n",
    "\n",
    "drasticali.run_all(recipe, recipe_file.value)"
   ]
  },
  {
   "cell_type": "code",
   "execution_count": null,
   "metadata": {
    "extensions": {
     "jupyter_dashboards": {
      "version": 1,
      "views": {
       "grid_default": {},
       "report_default": {}
      }
     }
    }
   },
   "outputs": [],
   "source": [
    "#%load_ext jupyternotify\n",
    "\n",
    "def run_all(ev):\n",
    "    # Runn all cells\n",
    "    #display(Javascript('IPython.notebook.execute_cells_below()'))\n",
    "    display(Javascript('IPython.notebook.execute_cell_range(IPython.notebook.get_selected_index()+1,'\n",
    "                       'IPython.notebook.get_selected_index()+2)'))\n",
    "\n",
    "button = widgets.Button(description=\"RUN ALL\")\n",
    "button.on_click(run_all)\n",
    "display(button)"
   ]
  },
  {
   "cell_type": "code",
   "execution_count": null,
   "metadata": {
    "extensions": {
     "jupyter_dashboards": {
      "version": 1,
      "views": {
       "grid_default": {},
       "report_default": {}
      }
     }
    },
    "scrolled": false
   },
   "outputs": [],
   "source": [
    "drasticali.run_all(recipe, recipe_file.value)"
   ]
  },
  {
   "cell_type": "markdown",
   "metadata": {},
   "source": [
    "## Remove Unwanted cabs"
   ]
  },
  {
   "cell_type": "code",
   "execution_count": null,
   "metadata": {},
   "outputs": [],
   "source": [
    "data = drasticali.get_data(recipe_file.value)\n",
    "recipe.jobs = []\n",
    "data_keys = data.keys()\n",
    "data_keys.sort(key=natural_keys)\n",
    "cab1 = widgets.Dropdown(\n",
    "    options=data_keys,\n",
    "    description='Task:',\n",
    "    disabled=False)\n",
    "display(cab1)"
   ]
  },
  {
   "cell_type": "code",
   "execution_count": null,
   "metadata": {},
   "outputs": [],
   "source": [
    "def run_all(ev):\n",
    "    # Runn all cells\n",
    "    #display(Javascript('IPython.notebook.execute_cells_below()'))\n",
    "    display(Javascript('IPython.notebook.execute_cell_range(IPython.notebook.get_selected_index()+1,'\n",
    "                       'IPython.notebook.get_selected_index()+2)'))\n",
    "\n",
    "button = widgets.Button(description=\"REMOVE\")\n",
    "button.on_click(run_all)\n",
    "display(button)"
   ]
  },
  {
   "cell_type": "code",
   "execution_count": null,
   "metadata": {},
   "outputs": [],
   "source": [
    "remove_cab(cab1.value, recipe_file.value)"
   ]
  }
 ],
 "metadata": {
  "extensions": {
   "jupyter_dashboards": {
    "activeView": "grid_default",
    "version": 1,
    "views": {
     "grid_default": {
      "cellMargin": 10,
      "defaultCellHeight": 20,
      "maxColumns": 12,
      "name": "grid",
      "type": "grid"
     },
     "report_default": {
      "name": "report",
      "type": "report"
     }
    }
   }
  },
  "kernelspec": {
   "display_name": "Python 2",
   "language": "python",
   "name": "python2"
  },
  "language_info": {
   "codemirror_mode": {
    "name": "ipython",
    "version": 2
   },
   "file_extension": ".py",
   "mimetype": "text/x-python",
   "name": "python",
   "nbconvert_exporter": "python",
   "pygments_lexer": "ipython2",
   "version": "2.7.12"
  }
 },
 "nbformat": 4,
 "nbformat_minor": 2
}
