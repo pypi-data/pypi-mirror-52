{
 "cells": [
  {
   "cell_type": "code",
   "execution_count": null,
   "metadata": {},
   "outputs": [],
   "source": [
    "%load_ext autoreload\n",
    "%autoreload 2"
   ]
  },
  {
   "cell_type": "code",
   "execution_count": null,
   "metadata": {},
   "outputs": [],
   "source": [
    "import pandas as pd\n",
    "import pudl\n",
    "import pudl.constants as pc\n",
    "import pudl.extract.ferc1\n",
    "import sqlalchemy as sa\n",
    "\n",
    "import matplotlib.pyplot as plt\n",
    "import matplotlib as mpl\n",
    "%matplotlib inline"
   ]
  },
  {
   "cell_type": "code",
   "execution_count": null,
   "metadata": {},
   "outputs": [],
   "source": [
    "# For some reason these things don't stick if they're in the same cell as the\n",
    "# %matplotlib inline call above, but if they're separate, they work fine.\n",
    "plt.style.use('ggplot')\n",
    "mpl.rcParams['figure.figsize'] = (10,6)\n",
    "mpl.rcParams['figure.dpi'] = 100\n",
    "pd.options.display.max_columns = 56"
   ]
  },
  {
   "cell_type": "code",
   "execution_count": null,
   "metadata": {},
   "outputs": [],
   "source": [
    "start_year = 2009\n",
    "end_year = 2017\n",
    "defaults = pudl.workspace.setup.get_defaults()\n",
    "pudl_settings = pudl.workspace.setup.derive_paths(pudl_in=defaults[\"pudl_in\"],\n",
    "                                                  pudl_out=defaults[\"pudl_out\"])\n",
    "pudl_engine = sa.create_engine(pudl_settings['pudl_db'])\n",
    "pudl_out = pudl.output.pudltabl.PudlTabl(\n",
    "    pudl_engine=pudl_engine,\n",
    "    freq=\"AS\",\n",
    "    start_date=pd.datetime(start_year, 1, 1),\n",
    "    end_date=pd.datetime(end_year, 12, 31))\n",
    "steam_ferc1 = pudl_out.plants_steam_ferc1()\n",
    "fuel_ferc1 = pudl_out.fuel_ferc1().drop_duplicates(subset=['record_id'])\n",
    "mcoe_df = pudl_out.mcoe()"
   ]
  },
  {
   "cell_type": "code",
   "execution_count": null,
   "metadata": {},
   "outputs": [],
   "source": [
    "nf = pudl.transform.ferc1.fuel_by_plant_ferc1(fuel_ferc1)"
   ]
  },
  {
   "cell_type": "code",
   "execution_count": null,
   "metadata": {},
   "outputs": [],
   "source": [
    "key_cols = [\n",
    "    'report_year',\n",
    "    'utility_id_ferc1',\n",
    "    'plant_name',\n",
    "]\n",
    "ferc_plants = (\n",
    "    pd.merge(nf, steam_ferc1, on=key_cols, how='inner').\n",
    "    assign(heat_rate_mmbtu_mwh=lambda x: x.fuel_mmbtu / x.net_generation_mwh).\n",
    "    merge(steam_ferc1[key_cols+['utility_id_pudl', 'utility_name_ferc1','plant_id_pudl', 'plant_id_ferc1']]).\n",
    "    query(f'report_year >= {start_year}')\n",
    ")\n",
    "ferc_coal_plants = ferc_plants.query(\"primary_fuel_by_mmbtu=='coal'\")\n",
    "ferc_gas_plants = ferc_plants.query(\"primary_fuel_by_mmbtu=='gas'\")\n",
    "\n",
    "eia_plants = mcoe_df.assign(report_year=lambda x: x.report_date.dt.year)\n",
    "eia_coal_plants = eia_plants.query(\"fuel_type_code_pudl=='coal'\")\n",
    "eia_gas_plants = eia_plants.query(\"fuel_type_code_pudl=='gas'\")"
   ]
  },
  {
   "cell_type": "code",
   "execution_count": null,
   "metadata": {},
   "outputs": [],
   "source": [
    "fig, (ferc_ax, eia_ax) = plt.subplots(ncols=1, nrows=2, figsize=(17,8))\n",
    "ylabel = \"Fuel Consumed (mmBTU)\"\n",
    "xlabel = \"Heat Rate (mmBTU/MWh)\"\n",
    "hr_range = (6,14)\n",
    "nbins=40\n",
    "pdf=True\n",
    "\n",
    "ferc_ax.hist(ferc_coal_plants.heat_rate_mmbtu_mwh,\n",
    "             weights=ferc_coal_plants.net_generation_mwh,\n",
    "             label=\"Coal\", density=pdf, range=hr_range, bins=nbins)\n",
    "ferc_ax.hist(ferc_gas_plants.heat_rate_mmbtu_mwh,\n",
    "             weights=ferc_gas_plants.net_generation_mwh,\n",
    "             label=\"Gas\", density=pdf, range=hr_range, bins=nbins)\n",
    "ferc_ax.set_ylabel(ylabel)\n",
    "ferc_ax.set_title(\"FERC Form 1 Heat Rates 2009-2017\")\n",
    "ferc_ax.legend()\n",
    "\n",
    "eia_ax.hist(eia_coal_plants.heat_rate_mmbtu_mwh,\n",
    "            weights=eia_coal_plants.net_generation_mwh,\n",
    "            label=\"Coal\", density=pdf, range=hr_range, bins=nbins)\n",
    "eia_ax.hist(eia_gas_plants.heat_rate_mmbtu_mwh,\n",
    "            weights=eia_gas_plants.net_generation_mwh,\n",
    "            label=\"Gas\", density=pdf, range=hr_range, bins=nbins)\n",
    "eia_ax.set_ylabel(ylabel)\n",
    "eia_ax.set_xlabel(xlabel)\n",
    "eia_ax.set_title(\"EIA 923 Heat Rates 2009-2017\")\n",
    "eia_ax.legend()\n",
    "\n",
    "plt.show()"
   ]
  },
  {
   "cell_type": "markdown",
   "metadata": {},
   "source": [
    "## Comparing FERC & EIA Fuel Costs (\\$/MWh), Grouped by PUDL Plant + Fuel"
   ]
  },
  {
   "cell_type": "code",
   "execution_count": null,
   "metadata": {},
   "outputs": [],
   "source": [
    "fig, (ferc_ax, eia_ax) = plt.subplots(ncols=1, nrows=2, figsize=(17,8))\n",
    "xlabel = \"Fuel Cost ($/MWh)\"\n",
    "ylabel = \"Fuel Cost ($)\"\n",
    "cost_range = (0,80)\n",
    "nbins=40\n",
    "pdf=True\n",
    "\n",
    "ferc_ax.hist((ferc_coal_plants.opex_fuel/ferc_coal_plants.net_generation_mwh), range=cost_range, bins=nbins, weights=ferc_coal_plants.net_generation_mwh, label=\"Coal\", density=pdf, alpha=0.5)\n",
    "ferc_ax.hist((ferc_gas_plants.opex_fuel/ferc_gas_plants.net_generation_mwh), range=cost_range, bins=nbins, weights=ferc_gas_plants.net_generation_mwh, label=\"Gas\", density=pdf, alpha=0.5)\n",
    "ferc_ax.set_ylabel(ylabel)\n",
    "ferc_ax.set_title(\"FERC Form 1 Fuel Costs 2009-2017\")\n",
    "ferc_ax.legend()\n",
    "\n",
    "eia_ax.hist((eia_coal_plants.fuel_cost_per_mwh), range=cost_range, bins=nbins, weights=eia_coal_plants.net_generation_mwh, label=\"Coal\", density=pdf, alpha=0.5)\n",
    "eia_ax.hist((eia_gas_plants.fuel_cost_per_mwh), range=cost_range, bins=nbins, weights=eia_gas_plants.net_generation_mwh, label=\"Gas\", density=pdf, alpha=0.5)\n",
    "eia_ax.set_ylabel(ylabel)\n",
    "eia_ax.set_xlabel(xlabel)\n",
    "eia_ax.set_title(\"EIA 923 Fuel Costs 2009-2017\")\n",
    "eia_ax.legend()\n",
    "\n",
    "plt.show()"
   ]
  },
  {
   "cell_type": "markdown",
   "metadata": {},
   "source": [
    "## PUDL Plant + Fuel Level EIA/FERC Agreement in Annual Heat Rates\n",
    " * Merge FERC & MCOE on [`report_year`, `fuel_type_code_pudl`, `plant_id_pudl`]\n",
    " \n",
    "Stuff to plot (Annual):\n",
    " * Total Fuel Cost (\\$)\n",
    " * Total Heat Content (mmBTU)\n",
    " * Total Net Generation (MWh)\n",
    " * Total Capacity (MW)\n",
    " * Fuel Cost (\\$/MWh)\n",
    " * Fuel Cost (\\$/mmBTU)\n",
    " * Heat Rate (mmBTU/MWh)\n",
    " * Capacity Factor"
   ]
  },
  {
   "cell_type": "code",
   "execution_count": null,
   "metadata": {},
   "outputs": [],
   "source": [
    "pudl_plant_cols = [\n",
    "    'plant_id_pudl',\n",
    "    'primary_fuel_by_mmbtu',\n",
    "    'report_year',\n",
    "]\n",
    "eia_dude = (\n",
    "    eia_plants.\n",
    "    rename(columns={'total_fuel_cost': 'opex_fuel',\n",
    "                    'fuel_type_code_pudl': 'primary_fuel_by_mmbtu'}).\n",
    "    groupby(pudl_plant_cols)['net_generation_mwh',\n",
    "                             'capacity_mw',\n",
    "                             'opex_fuel',\n",
    "                             'total_mmbtu'].\n",
    "    agg(sum).reset_index().\n",
    "    assign(fuel_cost_per_mwh=lambda x: x.opex_fuel / x.net_generation_mwh).\n",
    "    assign(fuel_cost_per_mmbtu=lambda x: x.opex_fuel / x.total_mmbtu).\n",
    "    assign(heat_rate_mmbtu_mwh=lambda x: x.total_mmbtu / x.net_generation_mwh).\n",
    "    assign(capacity_factor=lambda x: x.net_generation_mwh / (8760*x.capacity_mw))\n",
    ")\n",
    "ferc_dude = (\n",
    "    ferc_plants.\n",
    "    rename(columns={'fuel_mmbtu': 'total_mmbtu'}).\n",
    "    groupby(pudl_plant_cols)['net_generation_mwh',\n",
    "                             'capacity_mw',\n",
    "                             'opex_fuel',\n",
    "                             'opex_production_total',\n",
    "                             'total_mmbtu'].\n",
    "    agg(sum).reset_index().\n",
    "    assign(opex_nonfuel_ferc=lambda x: x.opex_production_total - x.opex_fuel).\n",
    "    drop('opex_production_total', axis=1).\n",
    "    assign(fuel_cost_per_mwh=lambda x: x.opex_fuel / x.net_generation_mwh).\n",
    "    assign(fuel_cost_per_mmbtu=lambda x: x.opex_fuel / x.total_mmbtu).\n",
    "    assign(heat_rate_mmbtu_mwh=lambda x: x.total_mmbtu / x.net_generation_mwh).\n",
    "    assign(capacity_factor=lambda x: x.net_generation_mwh / (8760*x.capacity_mw))\n",
    ")\n",
    "pudl_dude = pd.merge(ferc_dude, eia_dude, suffixes=('_ferc', '_eia'), on=pudl_plant_cols)"
   ]
  },
  {
   "cell_type": "code",
   "execution_count": null,
   "metadata": {},
   "outputs": [],
   "source": [
    "def plot_eia_v_ferc(df, fields_to_plot, xy_limits):\n",
    "    \"\"\"\n",
    "    Make plots to compare FERC & EIA reported values for Coal & Gas plants.\n",
    "    \n",
    "    For each of the fields specified in fields_to_plot, create a pair of plots,\n",
    "    one for 'gas' and one for 'coal' in the same frame, showing the EIA quantity\n",
    "    vs. the FERC quantity in a scatter plot.\n",
    "    \"\"\"\n",
    "    for field in fields_to_plot:\n",
    "        field_eia = field+'_eia'\n",
    "        field_ferc = field+'_ferc'\n",
    "        fig, (coal_ax, gas_ax) = plt.subplots(ncols=2, nrows=1, figsize=(11, 5))\n",
    "        \n",
    "        coal_ax.scatter(df.query(\"primary_fuel_by_mmbtu=='coal'\")[field_eia],\n",
    "                        df.query(\"primary_fuel_by_mmbtu=='coal'\")[field_ferc],\n",
    "                        color='black', alpha='0.1', label=field)\n",
    "        coal_ax.set_xlim(xy_limits[field][0],xy_limits[field][1])\n",
    "        coal_ax.set_ylim(xy_limits[field][0],xy_limits[field][1])\n",
    "        coal_ax.set_xlabel('EIA')\n",
    "        coal_ax.set_ylabel('FERC')\n",
    "        coal_ax.set_title(f\"{field} (Coal)\")\n",
    "        \n",
    "        gas_ax.scatter(df.query(\"primary_fuel_by_mmbtu=='gas'\")[field_eia],\n",
    "                       df.query(\"primary_fuel_by_mmbtu=='gas'\")[field_ferc],\n",
    "                       color='blue', alpha='0.1', label=field)\n",
    "        gas_ax.set_xlim(xy_limits[field][0],xy_limits[field][1])\n",
    "        gas_ax.set_ylim(xy_limits[field][0],xy_limits[field][1])\n",
    "        gas_ax.set_xlabel('EIA')\n",
    "        gas_ax.set_ylabel('FERC')\n",
    "        gas_ax.set_title(f\"{field} (Gas)\")"
   ]
  },
  {
   "cell_type": "code",
   "execution_count": null,
   "metadata": {},
   "outputs": [],
   "source": [
    "fields_to_plot = [\n",
    "    # Simple Quantities\n",
    "    'capacity_mw',\n",
    "    'opex_fuel',\n",
    "    'total_mmbtu',\n",
    "    'net_generation_mwh',\n",
    "    # Derived values\n",
    "    'capacity_factor',\n",
    "    'heat_rate_mmbtu_mwh',\n",
    "    'fuel_cost_per_mwh',\n",
    "    'fuel_cost_per_mmbtu',\n",
    "]\n",
    "\n",
    "xy_limits = {\n",
    "    # Simple Quantities\n",
    "    'capacity_mw': (0,4000),\n",
    "    'opex_fuel': (0,5e8),\n",
    "    'total_mmbtu': (0,2e8),\n",
    "    'net_generation_mwh': (0,2e7),\n",
    "    # Derived values\n",
    "    'capacity_factor': (0,1.0),\n",
    "    'heat_rate_mmbtu_mwh': (6,16),\n",
    "    'fuel_cost_per_mwh': (10,80),\n",
    "    'fuel_cost_per_mmbtu': (0,6),\n",
    "}\n",
    "\n",
    "plot_eia_v_ferc(pudl_dude, fields_to_plot, xy_limits)"
   ]
  },
  {
   "cell_type": "code",
   "execution_count": null,
   "metadata": {},
   "outputs": [],
   "source": []
  },
  {
   "cell_type": "code",
   "execution_count": null,
   "metadata": {},
   "outputs": [],
   "source": []
  },
  {
   "cell_type": "code",
   "execution_count": null,
   "metadata": {},
   "outputs": [],
   "source": []
  },
  {
   "cell_type": "code",
   "execution_count": null,
   "metadata": {},
   "outputs": [],
   "source": []
  }
 ],
 "metadata": {
  "kernelspec": {
   "display_name": "Python 3",
   "language": "python",
   "name": "python3"
  },
  "language_info": {
   "codemirror_mode": {
    "name": "ipython",
    "version": 3
   },
   "file_extension": ".py",
   "mimetype": "text/x-python",
   "name": "python",
   "nbconvert_exporter": "python",
   "pygments_lexer": "ipython3",
   "version": "3.7.3"
  }
 },
 "nbformat": 4,
 "nbformat_minor": 4
}
