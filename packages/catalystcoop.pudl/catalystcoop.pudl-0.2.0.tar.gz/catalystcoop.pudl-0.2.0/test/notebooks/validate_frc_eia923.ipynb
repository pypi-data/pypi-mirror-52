{
 "cells": [
  {
   "cell_type": "markdown",
   "metadata": {
    "toc-hr-collapsed": true
   },
   "source": [
    "# Validation of frc_eia923\n",
    "This notebook runs sanity checks on the Fuel Receipts and Costs data that are reported in EIA Form 923. These are the same tests which are run by the frc_eia923 validation tests by PyTest.  The notebook and visualizations are meant to be used as a diagnostic tool, to help understand what's wrong when the PyTest based data validations fail for some reason."
   ]
  },
  {
   "cell_type": "code",
   "execution_count": null,
   "metadata": {},
   "outputs": [],
   "source": [
    "%load_ext autoreload\n",
    "%autoreload 2"
   ]
  },
  {
   "cell_type": "code",
   "execution_count": null,
   "metadata": {},
   "outputs": [],
   "source": [
    "import sys\n",
    "import pandas as pd\n",
    "import sqlalchemy as sa\n",
    "import pudl"
   ]
  },
  {
   "cell_type": "code",
   "execution_count": null,
   "metadata": {},
   "outputs": [],
   "source": [
    "import warnings\n",
    "import logging\n",
    "logger = logging.getLogger()\n",
    "logger.setLevel(logging.INFO)\n",
    "handler = logging.StreamHandler(stream=sys.stdout)\n",
    "formatter = logging.Formatter('%(message)s')\n",
    "handler.setFormatter(formatter)\n",
    "logger.handlers = [handler]"
   ]
  },
  {
   "cell_type": "code",
   "execution_count": null,
   "metadata": {},
   "outputs": [],
   "source": [
    "import matplotlib.pyplot as plt\n",
    "import matplotlib as mpl\n",
    "%matplotlib inline"
   ]
  },
  {
   "cell_type": "code",
   "execution_count": null,
   "metadata": {},
   "outputs": [],
   "source": [
    "plt.style.use('ggplot')\n",
    "mpl.rcParams['figure.figsize'] = (10,4)\n",
    "mpl.rcParams['figure.dpi'] = 150\n",
    "pd.options.display.max_columns = 56"
   ]
  },
  {
   "cell_type": "code",
   "execution_count": null,
   "metadata": {},
   "outputs": [],
   "source": [
    "pudl_settings = pudl.workspace.setup.get_defaults()\n",
    "ferc1_engine = sa.create_engine(pudl_settings['ferc1_db'])\n",
    "pudl_engine = sa.create_engine(pudl_settings['pudl_db'])\n",
    "pudl_settings"
   ]
  },
  {
   "cell_type": "code",
   "execution_count": null,
   "metadata": {},
   "outputs": [],
   "source": [
    "def bounds_histogram(df, data_col, weight_col, query,\n",
    "                     low_q, hi_q, low_bound, hi_bound,\n",
    "                     title=\"\"):\n",
    "    if query !=\"\":\n",
    "        df = df.copy().query(query)\n",
    "    xmin = pudl.validate.weighted_quantile(df[data_col], df[weight_col], 0.01)\n",
    "    xmax = pudl.validate.weighted_quantile(df[data_col], df[weight_col], 0.99)\n",
    "    \n",
    "    plt.hist(df[data_col], weights=df[weight_col], range=(xmin, xmax), bins=50, color=\"black\", label=data_col)\n",
    "\n",
    "    if low_bound:\n",
    "        plt.axvline(low_bound, lw=3, ls='--', color='red', label=f\"lower bound for {low_q:.0%}\")\n",
    "        plt.axvline(pudl.validate.weighted_quantile(df[data_col], df[weight_col], low_q), lw=3, color=\"red\", label=f\"actual {low_q:.0%}\")\n",
    "    if hi_bound:\n",
    "        plt.axvline(hi_bound, lw=3, ls='--', color='blue', label=f\"upper bound for {hi_q:.0%}\")\n",
    "        plt.axvline(pudl.validate.weighted_quantile(df[data_col], df[weight_col], hi_q), lw=3, color=\"blue\", label=f\"actual {hi_q:.0%}\")\n",
    "\n",
    "    plt.title(title)\n",
    "    plt.xlabel(data_col)\n",
    "    plt.ylabel(weight_col)\n",
    "    plt.legend()\n",
    "    plt.show()\n",
    "        \n",
    "def historical_histogram(orig_df, test_df, data_col, weight_col, query=\"\",\n",
    "                         low_q=0.05, mid_q=0.5, hi_q=0.95,\n",
    "                         low_bound=None, hi_bound=None,\n",
    "                         title=\"\"):\n",
    "    if query != \"\":\n",
    "        orig_df = orig_df.copy().query(query)\n",
    "    if test_df is not None:\n",
    "        test_df = test_df.copy().query(query)\n",
    "\n",
    "    xmin = pudl.validate.weighted_quantile(orig_df[data_col], orig_df[weight_col], 0.01)\n",
    "    xmax = pudl.validate.weighted_quantile(orig_df[data_col], orig_df[weight_col], 0.99)\n",
    "\n",
    "    test_alpha = 1.0\n",
    "    if test_df is not None:\n",
    "        plt.hist(test_df[data_col], weights=test_df[weight_col], range=(xmin, xmax), bins=50, color=\"yellow\", alpha=0.5, label=\"Test Distribution\")\n",
    "        test_alpha = 0.5\n",
    "    else:\n",
    "        test_df = orig_df\n",
    "    plt.hist(orig_df[data_col], weights=orig_df[weight_col], range=(xmin, xmax), bins=50, color=\"black\", alpha=test_alpha, label=\"Original Distribution\")\n",
    "    \n",
    "    if low_q:\n",
    "        low_range = pudl.validate.historical_distribution(orig_df, data_col, weight_col, low_q)\n",
    "        plt.axvspan(min(low_range), max(low_range), color=\"red\", alpha=0.2, label=f\"Historical range of {low_q:.0%}\")\n",
    "        plt.axvline(pudl.validate.weighted_quantile(test_df[data_col], test_df[weight_col], low_q), color=\"red\", label=f\"Tested {low_q:.0%}\")\n",
    "    \n",
    "    if mid_q:\n",
    "        mid_range = pudl.validate.historical_distribution(orig_df, data_col, weight_col, mid_q)\n",
    "        plt.axvspan(min(mid_range), max(mid_range), color=\"green\", alpha=0.2, label=f\"historical range of {mid_q:.0%}\")\n",
    "        plt.axvline(pudl.validate.weighted_quantile(test_df[data_col], test_df[weight_col], mid_q), color=\"green\", label=f\"Tested {mid_q:.0%}\")\n",
    "    \n",
    "    if hi_q:\n",
    "        high_range = pudl.validate.historical_distribution(orig_df, data_col, weight_col, hi_q)\n",
    "        plt.axvspan(min(high_range), max(high_range), color=\"blue\", alpha=0.2, label=f\"Historical range of {hi_q:.0%}\")\n",
    "        plt.axvline(pudl.validate.weighted_quantile(test_df[data_col], test_df[weight_col], hi_q), color=\"blue\", label=f\"Tested {hi_q:.0%}\")\n",
    "        \n",
    "    \n",
    "    plt.title(title)\n",
    "    plt.xlabel(data_col)\n",
    "    plt.ylabel(weight_col)\n",
    "    plt.legend()\n",
    "    plt.show()\n",
    "\n",
    "def validate_bounds(df, validation_cases):\n",
    "    for args in validation_cases:\n",
    "        try:\n",
    "            pudl.validate.vs_bounds(df, **args)\n",
    "        except ValueError:\n",
    "            warnings.warn(\"ERROR: Validation Failed\")\n",
    "\n",
    "        bounds_histogram(df, **args)\n",
    "\n",
    "def validate_self(df, validation_cases):\n",
    "    for args in validation_cases:\n",
    "        try:\n",
    "            pudl.validate.vs_self(df, **args)\n",
    "        except ValueError:\n",
    "            warnings.warn(\"ERROR: Validation Failed\")\n",
    "\n",
    "        historical_histogram(df, test_df=None, **args)\n",
    "        \n",
    "def validate_agg(orig_df, agg_df, validation_cases):\n",
    "    for args in validation_cases:\n",
    "        try:\n",
    "            pudl.validate.vs_historical(orig_df, agg_df, **args)\n",
    "        except ValueError:\n",
    "            warnings.warn(\"ERROR: Validation Failed\")\n",
    "\n",
    "        historical_histogram(orig_df, agg_df, **args)"
   ]
  },
  {
   "cell_type": "markdown",
   "metadata": {},
   "source": [
    "## Get the original EIA 923 data\n",
    "First we pull the original (post-ETL) EIA 923 data out of the database. We will use the values in this dataset as a baseline for checking that latter aggregated data and derived values remain valid.  We will also eyeball these values here to make sure they are within the expected range. This may take a minute or two depending on the speed of your machine."
   ]
  },
  {
   "cell_type": "code",
   "execution_count": null,
   "metadata": {},
   "outputs": [],
   "source": [
    "pudl_out_orig = pudl.output.pudltabl.PudlTabl(pudl_engine, freq=None)\n",
    "frc_eia923_orig = pudl_out_orig.frc_eia923()"
   ]
  },
  {
   "cell_type": "markdown",
   "metadata": {
    "toc-hr-collapsed": false
   },
   "source": [
    "# Validation Against Fixed Bounds \n",
    "Some of the variables reported in this table have a fixed range of reasonable values, like the heat content per unit of a given fuel type.  These varaibles can be tested for validity against external standards directly.  In general we have two kinds of tests in this section:\n",
    "* **Tails:** are the exteme values too extreme? Typically, this is at the 5% and 95% level, but depending on the distribution, sometimes other thresholds are used.\n",
    "* **Middle:** Is the central value of the distribution where it should be?"
   ]
  },
  {
   "cell_type": "markdown",
   "metadata": {},
   "source": [
    "## Coal Heat Content (bounds)"
   ]
  },
  {
   "cell_type": "code",
   "execution_count": null,
   "metadata": {},
   "outputs": [],
   "source": [
    "pudl.validate.plot_vs_bounds(frc_eia923_orig, pudl.validate.frc_eia923_coal_heat_content)"
   ]
  },
  {
   "cell_type": "markdown",
   "metadata": {},
   "source": [
    "## Oil Heat Content (bounds)"
   ]
  },
  {
   "cell_type": "code",
   "execution_count": null,
   "metadata": {},
   "outputs": [],
   "source": [
    "pudl.validate.plot_vs_bounds(frc_eia923_orig, pudl.validate.frc_eia923_oil_heat_content)"
   ]
  },
  {
   "cell_type": "markdown",
   "metadata": {},
   "source": [
    "## Natural Gas Heat Content (bounds)\n",
    "Validation vails because of a small portion of the distribution at 1/10th the real heat content."
   ]
  },
  {
   "cell_type": "code",
   "execution_count": null,
   "metadata": {},
   "outputs": [],
   "source": [
    "pudl.validate.plot_vs_bounds(frc_eia923_orig, pudl.validate.frc_eia923_gas_heat_content)"
   ]
  },
  {
   "cell_type": "markdown",
   "metadata": {},
   "source": [
    "## Coal Ash Content (bounds)"
   ]
  },
  {
   "cell_type": "code",
   "execution_count": null,
   "metadata": {},
   "outputs": [],
   "source": [
    "pudl.validate.plot_vs_bounds(frc_eia923_orig, pudl.validate.frc_eia923_coal_ash_content)"
   ]
  },
  {
   "cell_type": "markdown",
   "metadata": {},
   "source": [
    "## Coal Sulfur Content (bounds)"
   ]
  },
  {
   "cell_type": "code",
   "execution_count": null,
   "metadata": {},
   "outputs": [],
   "source": [
    "pudl.validate.plot_vs_bounds(frc_eia923_orig, pudl.validate.frc_eia923_coal_sulfur_content)"
   ]
  },
  {
   "cell_type": "markdown",
   "metadata": {},
   "source": [
    "## Coal Mercury Content (bounds)\n",
    "Currently validation fails for two reasons:\n",
    "* Unrealistically high mercury content in some coal (9.0ppm)\n",
    "* 70% of all coal reports... 0ppm mercury."
   ]
  },
  {
   "cell_type": "code",
   "execution_count": null,
   "metadata": {},
   "outputs": [],
   "source": [
    "pudl.validate.plot_vs_bounds(frc_eia923_orig, pudl.validate.frc_eia923_coal_mercury_content)"
   ]
  },
  {
   "cell_type": "markdown",
   "metadata": {},
   "source": [
    "## Coal Moisture Content (bounds)"
   ]
  },
  {
   "cell_type": "code",
   "execution_count": null,
   "metadata": {},
   "outputs": [],
   "source": [
    "pudl.validate.plot_vs_bounds(frc_eia923_orig, pudl.validate.frc_eia923_coal_moisture_content)"
   ]
  },
  {
   "cell_type": "markdown",
   "metadata": {},
   "source": [
    "# Validating Historical Distributions\n",
    "As a sanity check of the testing process itself, we can check to see whether the entire historical distribution has attributes that place it within the extremes of a historical subsampling of the distribution. In this case, we sample each historical year, and look at the range of values taken on by some quantile, and see whether the same quantile for the whole of the dataset fits within that range"
   ]
  },
  {
   "cell_type": "code",
   "execution_count": null,
   "metadata": {},
   "outputs": [],
   "source": [
    "pudl.validate.plot_vs_self(frc_eia923_orig, pudl.validate.frc_eia923_self)"
   ]
  },
  {
   "cell_type": "markdown",
   "metadata": {},
   "source": [
    "# Validate Monthly Aggregation\n",
    "It's possible that the distribution will change as a function of aggregation, or we might make an error in the aggregation process. These tests check that a collection of quantiles for the original and the data aggregated by month have internally consistent values."
   ]
  },
  {
   "cell_type": "code",
   "execution_count": null,
   "metadata": {},
   "outputs": [],
   "source": [
    "pudl_out_month = pudl.output.pudltabl.PudlTabl(pudl_engine, freq=\"MS\")\n",
    "frc_eia923_month = pudl_out_month.frc_eia923()"
   ]
  },
  {
   "cell_type": "code",
   "execution_count": null,
   "metadata": {},
   "outputs": [],
   "source": [
    "pudl.validate.plot_vs_agg(frc_eia923_orig, frc_eia923_month, pudl.validate.frc_eia923_agg)"
   ]
  },
  {
   "cell_type": "markdown",
   "metadata": {},
   "source": [
    "# Validate Annual Aggregation\n",
    "It's possible that the distribution will change as a function of aggregation, or we might make an error in the aggregation process. These tests check that a collection of quantiles for the original and the data aggregated by year have internally consistent values."
   ]
  },
  {
   "cell_type": "code",
   "execution_count": null,
   "metadata": {},
   "outputs": [],
   "source": [
    "pudl_out_year = pudl.output.pudltabl.PudlTabl(pudl_engine, freq=\"AS\")\n",
    "frc_eia923_year = pudl_out_year.frc_eia923()"
   ]
  },
  {
   "cell_type": "code",
   "execution_count": null,
   "metadata": {},
   "outputs": [],
   "source": [
    "pudl.validate.plot_vs_agg(frc_eia923_orig, frc_eia923_year, pudl.validate.frc_eia923_agg)"
   ]
  }
 ],
 "metadata": {
  "kernelspec": {
   "display_name": "Python 3",
   "language": "python",
   "name": "python3"
  },
  "language_info": {
   "codemirror_mode": {
    "name": "ipython",
    "version": 3
   },
   "file_extension": ".py",
   "mimetype": "text/x-python",
   "name": "python",
   "nbconvert_exporter": "python",
   "pygments_lexer": "ipython3",
   "version": "3.7.3"
  }
 },
 "nbformat": 4,
 "nbformat_minor": 4
}
