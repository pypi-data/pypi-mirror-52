{
 "cells": [
  {
   "cell_type": "code",
   "execution_count": null,
   "metadata": {},
   "outputs": [],
   "source": [
    "import pandas as pd\n",
    "from sklearn.cluster import DBSCAN\n",
    "from pydeck.data_utils import assign_random_colors\n",
    "\n",
    "FOIL_DATA = 'https://raw.githubusercontent.com/fivethirtyeight/uber-tlc-foil-response/master/uber-trip-data/uber-raw-data-jul14.csv'\n",
    "\n",
    "df = pd.read_csv(FOIL_DATA)\n",
    "df.head()"
   ]
  },
  {
   "cell_type": "code",
   "execution_count": null,
   "metadata": {},
   "outputs": [],
   "source": [
    "df['ts'] = df['Date/Time'].apply(lambda d: pd.Timestamp.strptime(d, '%m/%d/%Y %H:%M:%S'))"
   ]
  },
  {
   "cell_type": "code",
   "execution_count": null,
   "metadata": {},
   "outputs": [],
   "source": [
    "df['position'] = df.apply(lambda row: [row['Lon'], row['Lat']], axis=1)"
   ]
  },
  {
   "cell_type": "code",
   "execution_count": null,
   "metadata": {},
   "outputs": [],
   "source": [
    "import pydeck\n",
    "\n",
    "ORANGE_RGB = [255, 140, 0, 50]\n",
    "\n",
    "# Gives us a scatterplot with all the specified attributes\n",
    "scatterplot = pydeck.Layer(\n",
    "    'ScatterplotLayer',\n",
    "    data=df,\n",
    "    radius=5,\n",
    "    get_fill_color=ORANGE_RGB,\n",
    "    get_position='position')"
   ]
  },
  {
   "cell_type": "code",
   "execution_count": null,
   "metadata": {},
   "outputs": [],
   "source": [
    "# Fits a viewport to the center 50% of the data\n",
    "viewport = pydeck.data_utils.autocompute_viewport(df['position'], view_proportion=0.5)"
   ]
  },
  {
   "cell_type": "code",
   "execution_count": null,
   "metadata": {},
   "outputs": [],
   "source": [
    "# Actually configures the plot\n",
    "r = pydeck.Deck(scatterplot, initial_view_state=viewport)"
   ]
  },
  {
   "cell_type": "code",
   "execution_count": null,
   "metadata": {
    "scrolled": true
   },
   "outputs": [],
   "source": [
    "r.show()"
   ]
  },
  {
   "cell_type": "code",
   "execution_count": null,
   "metadata": {},
   "outputs": [],
   "source": [
    "# Runs a DBSCAN clustering algorithm on the geospatial data\n",
    "db = DBSCAN(eps=0.00001, min_samples=60).fit(list(df.position))\n",
    "df['labels'] = db.labels_\n",
    "centroids = df[df['labels'] != -1].groupby('labels').mean().reset_index()\n",
    "# Gives each point a random color\n",
    "colors_lookup = assign_random_colors(df['labels'])\n",
    "colors_lookup['-1'] = [0, 0, 0, 0]  # make -1 (no group) transparent\n",
    "df['color'] = df['labels'].apply(lambda g: colors_lookup[str(g)])\n",
    "\n",
    "# Plot the new data above\n",
    "centroids_plot = pydeck.Layer(\n",
    "    'ScatterplotLayer',\n",
    "    data=df,\n",
    "    radius=30,\n",
    "    stroked=False,\n",
    "    filled=True,\n",
    "    get_fill_color='color',\n",
    "    get_position='position')\n",
    "r.layers[0] = centroids_plot\n",
    "r.update()"
   ]
  }
 ],
 "metadata": {
  "kernelspec": {
   "display_name": "Python 3",
   "language": "python",
   "name": "python3"
  },
  "language_info": {
   "codemirror_mode": {
    "name": "ipython",
    "version": 3
   },
   "file_extension": ".py",
   "mimetype": "text/x-python",
   "name": "python",
   "nbconvert_exporter": "python",
   "pygments_lexer": "ipython3",
   "version": "3.7.3"
  }
 },
 "nbformat": 4,
 "nbformat_minor": 2
}
