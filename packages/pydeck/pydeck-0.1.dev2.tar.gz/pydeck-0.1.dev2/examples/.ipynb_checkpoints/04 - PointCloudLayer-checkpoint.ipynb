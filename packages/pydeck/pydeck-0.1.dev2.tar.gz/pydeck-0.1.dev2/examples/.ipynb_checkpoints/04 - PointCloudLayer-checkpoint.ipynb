{
 "cells": [
  {
   "cell_type": "markdown",
   "metadata": {},
   "source": [
    "# Plotting massive data sets\n",
    "\n",
    "**This notebook is experimental in pydeck's beta version. It may not work on all devices.**\n",
    "\n",
    "This notebook plots 1.6 million points of LIDAR points around the Carnegie Mellon University campus. ([Source](https://github.com/ajduberstein/oakland_point_cloud)) The data points are labeled. With pydeck, we can render these points and interact with them. "
   ]
  },
  {
   "cell_type": "markdown",
   "metadata": {},
   "source": [
    "### Cleaning the data\n",
    "\n",
    "First we need to import the data. We should expect about 1.6M points."
   ]
  },
  {
   "cell_type": "code",
   "execution_count": 15,
   "metadata": {},
   "outputs": [],
   "source": [
    "import pandas as pd\n",
    "\n",
    "URL = 'https://raw.githubusercontent.com/ajduberstein/oakland_point_cloud/master/%s'\n",
    "DATA_URL_1 = URL % 'lidar_chunks_1.csv'\n",
    "DATA_URL_2 = URL % 'lidar_chunks_2.csv'\n",
    "LOOKUP_URL = URL % 'ground_truth_label.csv'\n",
    "lidar = pd.concat([pd.read_csv(DATA_URL_1), pd.read_csv(DATA_URL_2)])\n",
    "lookup = pd.read_csv(LOOKUP_URL)\n",
    "lidar = lidar.merge(lookup)"
   ]
  },
  {
   "cell_type": "code",
   "execution_count": 16,
   "metadata": {},
   "outputs": [
    {
     "name": "stdout",
     "output_type": "stream",
     "text": [
      "Number of points: 1614395\n"
     ]
    }
   ],
   "source": [
    "print('Number of points:', lidar.count()[0])"
   ]
  },
  {
   "cell_type": "markdown",
   "metadata": {},
   "source": [
    "It does not appear to be in a standard coordinate format, so we'll scale it to make it easy to plot on a map. We'll also color objects by label type. The `data_utils.assign_random_colors` assigns a random RGB value to a vector of data labels."
   ]
  },
  {
   "cell_type": "code",
   "execution_count": 17,
   "metadata": {},
   "outputs": [
    {
     "data": {
      "text/html": [
       "<div>\n",
       "<style scoped>\n",
       "    .dataframe tbody tr th:only-of-type {\n",
       "        vertical-align: middle;\n",
       "    }\n",
       "\n",
       "    .dataframe tbody tr th {\n",
       "        vertical-align: top;\n",
       "    }\n",
       "\n",
       "    .dataframe thead th {\n",
       "        text-align: right;\n",
       "    }\n",
       "</style>\n",
       "<table border=\"1\" class=\"dataframe\">\n",
       "  <thead>\n",
       "    <tr style=\"text-align: right;\">\n",
       "      <th></th>\n",
       "      <th>x</th>\n",
       "      <th>y</th>\n",
       "      <th>z</th>\n",
       "      <th>label_id</th>\n",
       "      <th>confidence</th>\n",
       "      <th>label_name</th>\n",
       "      <th>rgb</th>\n",
       "    </tr>\n",
       "  </thead>\n",
       "  <tbody>\n",
       "    <tr>\n",
       "      <td>0</td>\n",
       "      <td>0.000402</td>\n",
       "      <td>0.000472</td>\n",
       "      <td>0.680353</td>\n",
       "      <td>1400</td>\n",
       "      <td>2</td>\n",
       "      <td>facade</td>\n",
       "      <td>[32, 148, 11]</td>\n",
       "    </tr>\n",
       "    <tr>\n",
       "      <td>1</td>\n",
       "      <td>0.000402</td>\n",
       "      <td>0.000472</td>\n",
       "      <td>0.684557</td>\n",
       "      <td>1400</td>\n",
       "      <td>2</td>\n",
       "      <td>facade</td>\n",
       "      <td>[32, 148, 11]</td>\n",
       "    </tr>\n",
       "    <tr>\n",
       "      <td>2</td>\n",
       "      <td>0.000402</td>\n",
       "      <td>0.000472</td>\n",
       "      <td>0.680213</td>\n",
       "      <td>1400</td>\n",
       "      <td>2</td>\n",
       "      <td>facade</td>\n",
       "      <td>[32, 148, 11]</td>\n",
       "    </tr>\n",
       "    <tr>\n",
       "      <td>3</td>\n",
       "      <td>0.000402</td>\n",
       "      <td>0.000472</td>\n",
       "      <td>0.684557</td>\n",
       "      <td>1400</td>\n",
       "      <td>2</td>\n",
       "      <td>facade</td>\n",
       "      <td>[32, 148, 11]</td>\n",
       "    </tr>\n",
       "    <tr>\n",
       "      <td>4</td>\n",
       "      <td>0.000402</td>\n",
       "      <td>0.000472</td>\n",
       "      <td>0.688481</td>\n",
       "      <td>1400</td>\n",
       "      <td>2</td>\n",
       "      <td>facade</td>\n",
       "      <td>[32, 148, 11]</td>\n",
       "    </tr>\n",
       "  </tbody>\n",
       "</table>\n",
       "</div>"
      ],
      "text/plain": [
       "          x         y         z  label_id  confidence label_name  \\\n",
       "0  0.000402  0.000472  0.680353      1400           2    facade    \n",
       "1  0.000402  0.000472  0.684557      1400           2    facade    \n",
       "2  0.000402  0.000472  0.680213      1400           2    facade    \n",
       "3  0.000402  0.000472  0.684557      1400           2    facade    \n",
       "4  0.000402  0.000472  0.688481      1400           2    facade    \n",
       "\n",
       "             rgb  \n",
       "0  [32, 148, 11]  \n",
       "1  [32, 148, 11]  \n",
       "2  [32, 148, 11]  \n",
       "3  [32, 148, 11]  \n",
       "4  [32, 148, 11]  "
      ]
     },
     "execution_count": 17,
     "metadata": {},
     "output_type": "execute_result"
    }
   ],
   "source": [
    "from pydeck import data_utils\n",
    "\n",
    "color_lookup = data_utils.assign_random_colors(lidar['label_name'])\n",
    "lidar['rgb'] = lidar.apply(lambda row: color_lookup.get(row['label_name']), axis=1)\n",
    "# Scaling the points using min-max scaling\n",
    "lidar[['x', 'y', 'z']] -= lidar[['x', 'y', 'z']].max()\n",
    "lidar[['x', 'y', 'z']] /= lidar[['x', 'y', 'z']].min()\n",
    "lidar[['x', 'y']] /= 1000\n",
    "lidar.head()"
   ]
  },
  {
   "cell_type": "markdown",
   "metadata": {},
   "source": [
    "### Plotting the data\n",
    "\n",
    "We'll define a single `PointCloudLayer` and plot it.\n",
    "\n",
    "pydeck by default expects the input of `get_position` to be a string name indicating a single position value. For convenience, you can pass in a string indicating the X/Y/Z coordinate, here `get_position='[x, y, z]'`.\n",
    "\n",
    "We'll zoom to the approximate center of the data by taking a mean of a few hundred points in pandas.\n",
    "\n",
    "This example may take 10-15 seconds to render."
   ]
  },
  {
   "cell_type": "code",
   "execution_count": null,
   "metadata": {},
   "outputs": [],
   "source": [
    "from pydeck import Deck, Layer, ViewState, View\n",
    "\n",
    "point_cloud = Layer(\n",
    "    'PointCloudLayer',\n",
    "    lidar[['x', 'y', 'z', 'rgb']].sample(1000),\n",
    "    get_position='[x, y, z]',\n",
    "    get_color='rgb',\n",
    "    point_size=3)\n",
    "viewport = ViewState(\n",
    "    pitch=60,\n",
    "    bearing=60,\n",
    "    zoom=20,\n",
    "    max_pitch=180,\n",
    "    max_zoom=22,\n",
    "    latitude=lidar.sample(100)['y'].mean(),\n",
    "    longitude=lidar.sample(100)['x'].mean())\n",
    "r = Deck(\n",
    "    point_cloud,\n",
    "    mapbox_key='null',\n",
    "    initial_view_state=viewport)\n",
    "r.show()"
   ]
  },
  {
   "cell_type": "code",
   "execution_count": null,
   "metadata": {},
   "outputs": [],
   "source": []
  },
  {
   "cell_type": "markdown",
   "metadata": {},
   "source": [
    "#### Citations:\n",
    "\n",
    "Contextual Classification with Functional Max-Margin Markov Networks. \n",
    "Daniel Munoz, J. Andrew (Drew) Bagnell, Nicolas Vandapel, and Martial Hebert. \n",
    "IEEE Computer Society Conference on Computer Vision and Pattern Recognition (CVPR), June, 2009."
   ]
  }
 ],
 "metadata": {
  "kernelspec": {
   "display_name": "Python 3",
   "language": "python",
   "name": "python3"
  },
  "language_info": {
   "codemirror_mode": {
    "name": "ipython",
    "version": 3
   },
   "file_extension": ".py",
   "mimetype": "text/x-python",
   "name": "python",
   "nbconvert_exporter": "python",
   "pygments_lexer": "ipython3",
   "version": "3.7.4"
  }
 },
 "nbformat": 4,
 "nbformat_minor": 2
}
