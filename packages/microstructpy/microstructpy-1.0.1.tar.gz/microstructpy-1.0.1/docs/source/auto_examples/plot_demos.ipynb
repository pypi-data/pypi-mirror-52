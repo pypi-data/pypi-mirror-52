{
  "cells": [
    {
      "cell_type": "code",
      "execution_count": null,
      "metadata": {
        "collapsed": false
      },
      "outputs": [],
      "source": [
        "%matplotlib inline"
      ]
    },
    {
      "cell_type": "markdown",
      "metadata": {},
      "source": [
        "\nPlot all demos\n\n\n"
      ]
    },
    {
      "cell_type": "code",
      "execution_count": null,
      "metadata": {
        "collapsed": false
      },
      "outputs": [],
      "source": [
        "import glob\nimport locale\nimport os\nimport subprocess\n\nimport microstructpy as msp\n\nlocale.setlocale(locale.LC_NUMERIC, \"C\")\n\nexample_dir = '../../../examples'\n\n# Run XML files\nxml_pattern = os.path.join(example_dir, '*.xml')\nfor filename in glob.glob(xml_pattern):\n    msp.cli.run_file(filename)\n\n# Run Python Scripts\npy_pattern = os.path.join(example_dir, '*.py')\nfor filename in glob.glob(py_pattern):\n    subprocess.call(['python', filename])"
      ]
    }
  ],
  "metadata": {
    "kernelspec": {
      "display_name": "Python 3",
      "language": "python",
      "name": "python3"
    },
    "language_info": {
      "codemirror_mode": {
        "name": "ipython",
        "version": 3
      },
      "file_extension": ".py",
      "mimetype": "text/x-python",
      "name": "python",
      "nbconvert_exporter": "python",
      "pygments_lexer": "ipython3",
      "version": "3.6.6"
    }
  },
  "nbformat": 4,
  "nbformat_minor": 0
}