{
 "cells": [
  {
   "cell_type": "markdown",
   "metadata": {},
   "source": [
    "# 2D interpolation\n",
    "## Bivariate\n",
    "Perform a bivariate interpolation of gridded data points.\n",
    "\n",
    "The distribution contains a 2D field mss.nc that will be used in this help. This file is located in the tests/dataset directory at the root of the project.\n",
    "\n",
    "> Warning This file is an old version of the sub-sampled quarter step MSS CNES/CLS. Do not use it for\n",
    "> scientific purposes, download the latest updated high-resolution version instead here.\n",
    "\n",
    "The first step is to load the data into memory:\n",
    "    "
   ]
  },
  {
   "cell_type": "code",
   "execution_count": null,
   "metadata": {},
   "outputs": [],
   "source": [
    "import netCDF4\n",
    "import pyinterp.grid\n",
    "import pyinterp.bivariate\n",
    "\n",
    "ds = netCDF4.Dataset(\"tests/dataset/mss.nc\")"
   ]
  },
  {
   "cell_type": "markdown",
   "metadata": {},
   "source": [
    "Afterwards, build the axes associated with the grid:"
   ]
  },
  {
   "cell_type": "code",
   "execution_count": null,
   "metadata": {},
   "outputs": [],
   "source": [
    "import pyinterp.core\n",
    "\n",
    "x_axis = pyinterp.core.Axis(ds.variables[\"lon\"][:], is_circle=True)\n",
    "y_axis = pyinterp.core.Axis(ds.variables[\"lat\"][:])"
   ]
  },
  {
   "cell_type": "markdown",
   "metadata": {},
   "source": [
    "Finally, we can build the object defining the grid to interpolate:"
   ]
  },
  {
   "cell_type": "code",
   "execution_count": null,
   "metadata": {},
   "outputs": [],
   "source": [
    "# The shape of the bivariate values must be (len(x_axis), len(y_axis))\n",
    "mss = ds.variables[\"mss\"][:].T\n",
    "# The undefined values must be set to nan.\n",
    "mss[mss.mask] = float(\"nan\")\n",
    "grid = pyinterp.grid.Grid2D(x_axis, y_axis, mss.data)"
   ]
  },
  {
   "cell_type": "markdown",
   "metadata": {},
   "source": [
    "We will then build the coordinates on which we want to interpolate our grid:"
   ]
  },
  {
   "cell_type": "code",
   "execution_count": null,
   "metadata": {},
   "outputs": [],
   "source": [
    "import numpy as np\n",
    "\n",
    "# The coordinates used for interpolation are shifted to avoid using the\n",
    "# points of the bivariate function.\n",
    "mx, my = np.meshgrid(np.arange(-180, 180, 1) + 1 / 3.0,\n",
    "                     np.arange(-89, 89, 1) + 1 / 3.0,\n",
    "                     indexing='ij')"
   ]
  },
  {
   "cell_type": "markdown",
   "metadata": {},
   "source": [
    "The grid is interpolated to the desired coordinates:"
   ]
  },
  {
   "cell_type": "code",
   "execution_count": null,
   "metadata": {},
   "outputs": [],
   "source": [
    "mss = pyinterp.bivariate.bivariate(grid, mx.flatten(), my.flatten()).reshape(mx.shape)"
   ]
  },
  {
   "cell_type": "markdown",
   "metadata": {},
   "source": [
    "Values can be interpolated with several methods: *bilinear*, *nearest*, and *inverse distance weighting*. Distance calculations, if necessary, are calculated using the [Haversine formula](https://en.wikipedia.org/wiki/Haversine_formula)\n",
    "\n",
    "An experimental module of the library simplifies the use of the library by using xarray and CF information contained in dataset. This module implements all the other interpolators of the regular grids presented below."
   ]
  },
  {
   "cell_type": "code",
   "execution_count": null,
   "metadata": {},
   "outputs": [],
   "source": [
    "import pyinterp.backends.xarray\n",
    "import xarray as xr\n",
    "\n",
    "ds = xr.open_dataset(\"tests/dataset/mss.nc\")\n",
    "interpolator = pyinterp.backends.xarray.Grid2D(ds.data_vars[\"mss\"])\n",
    "mss = interpolator.bivariate(dict(lon=mx.flatten(), lat=my.flatten()))"
   ]
  },
  {
   "cell_type": "markdown",
   "metadata": {},
   "source": [
    "## Bicubic"
   ]
  },
  {
   "cell_type": "markdown",
   "metadata": {},
   "source": [
    "Interpolating data points on two-dimensional regular grid. The interpolated surface is smoother than the corresponding surfaces obtained by bilinear interpolation. Bicubic interpolation is achieved by spline functions provided by GSL."
   ]
  },
  {
   "cell_type": "code",
   "execution_count": null,
   "metadata": {},
   "outputs": [],
   "source": [
    "import pyinterp.bicubic\n",
    "\n",
    "mss = pyinterp.bicubic.bicubic(\n",
    "    grid, mx.flatten(), my.flatten(), nx=3, ny=3).reshape(mx.shape)"
   ]
  },
  {
   "cell_type": "markdown",
   "metadata": {},
   "source": [
    "It is also possible to simplify the interpolation of the dataset by using xarray:"
   ]
  },
  {
   "cell_type": "code",
   "execution_count": null,
   "metadata": {},
   "outputs": [],
   "source": [
    "mss = interpolator.bicubic(dict(lon=mx.flatten(), lat=my.flatten()))"
   ]
  },
  {
   "cell_type": "markdown",
   "metadata": {},
   "source": [
    "# 3D interpolation\n",
    "## Trivariate\n",
    "\n",
    "The **trivariate** interpolation allows to obtain values at arbitrary points in a 3D space of a function defined on a grid.\n",
    "\n",
    "The distribution contains a 3D field `tcw.nc` that will be used in this help. This file is located in the `tests/dataset` directory at the root of the project.\n",
    "\n",
    "This method performs a bilinear interpolation in 2D space by considering the axes of longitude and latitude of the grid, then performs a linear interpolation in the third dimension. Its interface is similar to the *bivariate* interpolation except for a third axis which is handled by this object."
   ]
  },
  {
   "cell_type": "code",
   "execution_count": null,
   "metadata": {},
   "outputs": [],
   "source": [
    "import pyinterp.trivariate\n",
    "\n",
    "ds = netCDF4.Dataset(\"tests/dataset/tcw.nc\")\n",
    "x_axis = pyinterp.core.Axis(ds.variables[\"longitude\"][:], is_circle=True)\n",
    "y_axis = pyinterp.core.Axis(ds.variables[\"latitude\"][:])\n",
    "z_axis = pyinterp.core.Axis(ds.variables[\"time\"][:])\n",
    "# The shape of the bivariate values must be\n",
    "# (len(x_axis), len(y_axis), len(z_axis))\n",
    "tcw = ds.variables['tcw'][:].T\n",
    "# The undefined values must be set to nan.\n",
    "tcw[tcw.mask] = float(\"nan\")\n",
    "grid = pyinterp.grid.Grid3D(\n",
    "    x_axis, y_axis, z_axis, tcw.data)\n",
    "# The coordinates used for interpolation are shifted to avoid using the\n",
    "# points of the bivariate function.\n",
    "mx, my, mz = np.meshgrid(np.arange(-180, 180, 1) + 1 / 3.0,\n",
    "                         np.arange(-89, 89, 1) + 1 / 3.0,\n",
    "                         898500 + 3,\n",
    "                         indexing='ij')\n",
    "tcw = pyinterp.trivariate.trivariate(\n",
    "    grid, mx.flatten(), my.flatten(), mz.flatten()).reshape(mx.shape)"
   ]
  },
  {
   "cell_type": "markdown",
   "metadata": {},
   "source": [
    "It is also possible to simplify the interpolation of the dataset by using xarray:"
   ]
  },
  {
   "cell_type": "code",
   "execution_count": null,
   "metadata": {},
   "outputs": [],
   "source": [
    "ds = xr.open_dataset(\"tests/dataset/tcw.nc\")\n",
    "interpolator = pyinterp.backends.xarray.Grid3D(ds.data_vars[\"tcw\"])\n",
    "tcw = interpolator.trivariate(\n",
    "    dict(longitude=mx.flatten(), latitude=my.flatten(), time=mz.flatten()))"
   ]
  },
  {
   "cell_type": "markdown",
   "metadata": {},
   "source": [
    "# Unstructured grid\n",
    "\n",
    "The interpolation of this object is based on an **R\\*Tree** structure. To begin with, we start by building this object. By default, this object considers WGS-84 geodetic coordinate system. But you can define another one using class **System**."
   ]
  },
  {
   "cell_type": "code",
   "execution_count": null,
   "metadata": {},
   "outputs": [],
   "source": [
    "import pyinterp.rtree\n",
    "\n",
    "mesh = pyinterp.rtree.RTree()"
   ]
  },
  {
   "cell_type": "markdown",
   "metadata": {},
   "source": [
    "Then, we will insert points into the tree. The class allows you to insert points using two algorithms. The first one called **packing** allows you to insert the values in the tree at once. This mechanism is the recommended solution to create an optimized in-memory structure, both in terms of construction time and queries. When this is not possible, you can insert new information into the tree as you go along using the **insert** method."
   ]
  },
  {
   "cell_type": "code",
   "execution_count": null,
   "metadata": {},
   "outputs": [],
   "source": [
    "ds = netCDF4.Dataset(\"tests/dataset/mss.nc\")\n",
    "# The shape of the bivariate values must be (len(longitude), len(latitude))\n",
    "mss = ds.variables['mss'][:].T\n",
    "mss[mss.mask] = float(\"nan\")\n",
    "# Be careful not to enter undefined values in the tree.\n",
    "x_axis, y_axis = np.meshgrid(\n",
    "    ds.variables['lon'][:], ds.variables['lat'][:], indexing='ij')\n",
    "mesh.packing(\n",
    "    np.vstack((x_axis.flatten(), y_axis.flatten())).T,\n",
    "    mss.data.flatten())"
   ]
  },
  {
   "cell_type": "markdown",
   "metadata": {},
   "source": [
    "When the tree is created, you can interpolate the data or make various queries on the tree."
   ]
  },
  {
   "cell_type": "code",
   "execution_count": null,
   "metadata": {},
   "outputs": [],
   "source": [
    "mx, my = np.meshgrid(\n",
    "    np.arange(-180, 180, 1) + 1 / 3.0,\n",
    "    np.arange(-90, 90, 1) + 1 / 3.0,\n",
    "    indexing=\"ij\")\n",
    "mss, neighbors = mesh.inverse_distance_weighting(\n",
    "    np.vstack((mx.flatten(), my.flatten())).T,\n",
    "    within=False,\n",
    "    radius=35434,\n",
    "    k=8,\n",
    "    num_threads=0)"
   ]
  },
  {
   "cell_type": "markdown",
   "metadata": {},
   "source": [
    "# Fill NaN values\n",
    "\n",
    "The undefined values in the grids do not allow interpolation of values located\n",
    "in the neighborhood. This behavior is a concern when you need to interpolate\n",
    "values near the land/sea mask of some maps. The library provides two functions\n",
    "to fill the undefined values.\n",
    "\n",
    "## LOESS\n",
    "\n",
    "The first method applies a weighted local regression to extrapolate the boundary\n",
    "between defined and undefined values. The user must indicate the number of pixels\n",
    "on the X and Y axes to be considered in the calculation. For example:"
   ]
  },
  {
   "cell_type": "code",
   "execution_count": null,
   "metadata": {},
   "outputs": [],
   "source": [
    "ds = xr.open_dataset(\"/home/fbriol/Data/SWOT_GEO/surface_type.nc\")\n",
    "grid = pyinterp.backends.xarray.Grid2D(ds.data_vars[\"mask\"])"
   ]
  },
  {
   "cell_type": "code",
   "execution_count": null,
   "metadata": {},
   "outputs": [],
   "source": [
    "mask = grid.bivariate(dict(lon=lons.flatten(), lat=lats.flatten()), interpolator='nearest').reshape(lons.shape)"
   ]
  },
  {
   "cell_type": "code",
   "execution_count": null,
   "metadata": {},
   "outputs": [],
   "source": [
    "mask = mask == 0"
   ]
  },
  {
   "cell_type": "code",
   "execution_count": null,
   "metadata": {},
   "outputs": [],
   "source": [
    "import pyinterp.fill\n",
    "\n",
    "ds = xr.open_dataset(\"tests/dataset/mss.nc\")\n",
    "grid = pyinterp.backends.xarray.Grid2D(ds.data_vars[\"mss\"])\n",
    "filled = pyinterp.fill.loess(grid, nx=3, ny=3)"
   ]
  },
  {
   "cell_type": "code",
   "execution_count": null,
   "metadata": {},
   "outputs": [],
   "source": [
    "grid.array[~mask] = np.nan"
   ]
  },
  {
   "cell_type": "markdown",
   "metadata": {},
   "source": [
    "The image below illustrates the result:"
   ]
  },
  {
   "cell_type": "code",
   "execution_count": null,
   "metadata": {},
   "outputs": [],
   "source": [
    "import matplotlib.pyplot as plt\n",
    "import cartopy.crs as ccrs\n",
    "%matplotlib inline\n",
    "\n",
    "fig = plt.figure(figsize=(10, 5))\n",
    "ax = fig.add_subplot(121, projection=ccrs.PlateCarree())\n",
    "lons, lats = np.meshgrid(grid.x, grid.y, indexing='ij')\n",
    "ax.contourf(lons, lats, grid.array,\n",
    "            transform=ccrs.PlateCarree())\n",
    "ax.coastlines()\n",
    "ax.set_title(\"Original MSS\")\n",
    "ax.set_extent([80, 170, -45, 30], crs=ccrs.PlateCarree())\n",
    "\n",
    "ax = fig.add_subplot(122, projection=ccrs.PlateCarree())\n",
    "ax.contourf(lons, lats, filled,\n",
    "            transform=ccrs.PlateCarree())\n",
    "ax.coastlines()\n",
    "ax.set_title(\"MSS modified using the LOESS filter\")\n",
    "ax.set_extent([80, 170, -45, 30], crs=ccrs.PlateCarree())\n",
    "plt.show()"
   ]
  },
  {
   "cell_type": "markdown",
   "metadata": {},
   "source": [
    "## Gauss-Seidel\n",
    "\n",
    "The second method consists of replacing all undefined values (NaN)\n",
    "in a grid using the Gauss-Seidel method by relaxation."
   ]
  },
  {
   "cell_type": "code",
   "execution_count": null,
   "metadata": {},
   "outputs": [],
   "source": [
    "has_converged, filled = pyinterp.fill.gauss_seidel(grid)"
   ]
  },
  {
   "cell_type": "markdown",
   "metadata": {},
   "source": [
    "The image below illustrates the result:"
   ]
  },
  {
   "cell_type": "code",
   "execution_count": null,
   "metadata": {},
   "outputs": [],
   "source": [
    "fig = plt.figure(figsize=(10, 5))\n",
    "ax = fig.add_subplot(121, projection=ccrs.PlateCarree())\n",
    "lons, lats = np.meshgrid(grid.x, grid.y, indexing='ij')\n",
    "ax.contourf(lons, lats, grid.array,\n",
    "            transform=ccrs.PlateCarree())\n",
    "ax.coastlines()\n",
    "ax.set_title(\"Original MSS\")\n",
    "ax.set_extent([80, 170, -45, 30], crs=ccrs.PlateCarree())\n",
    "\n",
    "ax = fig.add_subplot(122, projection=ccrs.PlateCarree())\n",
    "ax.contourf(lons, lats, filled,\n",
    "            transform=ccrs.PlateCarree())\n",
    "ax.coastlines()\n",
    "ax.set_title(\"MSS modified using Gauss-Seidel\")\n",
    "ax.set_extent([80, 170, -45, 30], crs=ccrs.PlateCarree())\n",
    "plt.show()"
   ]
  }
 ],
 "metadata": {
  "kernelspec": {
   "display_name": "Python 3",
   "language": "python",
   "name": "python3"
  },
  "language_info": {
   "codemirror_mode": {
    "name": "ipython",
    "version": 3
   },
   "file_extension": ".py",
   "mimetype": "text/x-python",
   "name": "python",
   "nbconvert_exporter": "python",
   "pygments_lexer": "ipython3",
   "version": "3.7.3"
  }
 },
 "nbformat": 4,
 "nbformat_minor": 2
}
