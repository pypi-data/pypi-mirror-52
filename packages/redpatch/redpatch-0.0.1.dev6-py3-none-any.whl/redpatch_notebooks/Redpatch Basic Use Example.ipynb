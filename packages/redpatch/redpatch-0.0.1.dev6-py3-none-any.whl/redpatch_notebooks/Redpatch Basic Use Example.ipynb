{
 "cells": [
  {
   "cell_type": "code",
   "execution_count": 1,
   "metadata": {},
   "outputs": [],
   "source": [
    "import os\n",
    "import ipywidgets as widgets\n",
    "import glob\n",
    "import re\n",
    "from pathlib import Path\n",
    "\n",
    "\n",
    "\n",
    "class FileBrowser(object):\n",
    "    \"\"\" Implements an ipywidgets file chooser.\n",
    "    >>> f = FileBrowser\n",
    "    >>> f.widget() # activate the widget\n",
    "    >>> ...\n",
    "    >>> f.path # get the selected file...\n",
    "    \"\"\"\n",
    "\n",
    "    def __init__(self):\n",
    "        self.path = str(Path.home())\n",
    "        self._update_files()\n",
    "\n",
    "    def _update_files(self):\n",
    "        self.files = list()\n",
    "        self.dirs = list()\n",
    "        if os.path.isdir(self.path):\n",
    "            for f in os.listdir(self.path):\n",
    "                ff = self.path + \"/\" + f\n",
    "                if os.path.isdir(ff) and f[0] != '.':\n",
    "                    self.dirs.append(f)\n",
    "                else:\n",
    "                    if not f.startswith((\".\", \"$\", \"~\")):\n",
    "                        self.files.append(f)\n",
    "\n",
    "    def widget(self):\n",
    "        box = widgets.VBox()\n",
    "        self._update(box)\n",
    "        return box\n",
    "\n",
    "    def _update(self, box):\n",
    "\n",
    "        def on_click(b):\n",
    "            if b.description == 'up one level':\n",
    "                self.path = os.path.split(self.path)[0]\n",
    "            else:\n",
    "                self.path = self.path + \"/\" + b.description\n",
    "            self._update_files()\n",
    "            self._update(box)\n",
    "\n",
    "        buttons = []\n",
    "        # if self.files:\n",
    "        button = widgets.Button(description='up one level', background_color='#aaaaaa')\n",
    "        button.on_click(on_click)\n",
    "        buttons.append(button)\n",
    "        for f in sorted(self.dirs):\n",
    "            button = widgets.Button(description=f)\n",
    "            button.style.button_color = 'lightgreen'\n",
    "            button.on_click(on_click)\n",
    "            buttons.append(button)\n",
    "        for f in sorted(self.files):\n",
    "            button = widgets.Button(description=f, background_color='#ff0000')\n",
    "            button.style.button_color = 'lightblue'\n",
    "            button.on_click(on_click)\n",
    "            buttons.append(button)\n",
    "        box.children = tuple([widgets.HTML(\"You have selected: %s\" % (self.path,))] + buttons)\n",
    "\n"
   ]
  },
  {
   "cell_type": "code",
   "execution_count": 567,
   "metadata": {},
   "outputs": [],
   "source": [
    "from skimage import io\n",
    "from skimage import color\n",
    "from skimage import measure\n",
    "from scipy import ndimage as ndi\n",
    "import redspot\n",
    "import matplotlib.pyplot as plt\n",
    "import numpy as np\n",
    "from skimage import feature\n",
    "from typing import Callable, List, Tuple, Union\n",
    "\n",
    "LEAF_AREA_HUE = tuple([i / 255 for i in(0, 255)])\n",
    "LEAF_AREA_SAT = tuple([i / 255 for i in(50, 255)])\n",
    "LEAF_AREA_VAL = tuple([i / 255 for i in(40, 255)])\n",
    "\n",
    "HEALTHY_HUE = tuple([i / 255 for i in(40, 255)])\n",
    "HEALTHY_SAT = tuple([i / 255 for i in(50, 255)])\n",
    "HEALTHY_VAL = tuple([i / 255 for i in(0, 255)])\n",
    "\n",
    "HEALTHY_RED = (4,155)\n",
    "HEALTHY_GREEN = (120,175)\n",
    "HEALTHY_BLUE = (0,255)\n",
    "\n",
    "LESION_HUE = tuple([i / 255 for i in(0, 35)])\n",
    "LESION_SAT = tuple([i / 255 for i in(0, 255)])\n",
    "LESION_VAL = tuple([i / 255 for i in(5, 185)])\n",
    "\n",
    "\n",
    "def threshold_hsv_img(im: np.ndarray, \n",
    "                      h: Tuple[float,float] = HEALTHY_HUE, \n",
    "                      s: Tuple[float,float] = HEALTHY_SAT, \n",
    "                      v: Tuple[float,float] = HEALTHY_VAL) -> np.ndarray:\n",
    "    \"\"\"returns a logical binary mask array (dtype bool_ of dimension im ( an HSV image) in which pixels in im pass the lower\n",
    "    and upper thresholds specified in h, s and v (hue lower,upper; sat lower,upper and val lower, upper;\n",
    "    respectively) \"\"\"\n",
    "    assert im.dtype.type is np.float64, \"im must be np.ndarray of type float64. Looks like you're not using an HSV image.\"\n",
    "    return _threshold_three_channels(im, c1_limits = h, c2_limits = s, c3_limits = v)\n",
    "\n",
    "\n",
    "def hsv_to_rgb255(img) -> np.ndarray:\n",
    "    \"\"\"given an hsv image in (0.0,1.0) scale, converts to RGB image in (0,255)\"\"\"\n",
    "    return (color.hsv2rgb(img) * 255).astype('int')\n",
    "\n",
    "\n",
    "def threshold_rgb_img(im: np.ndarray, \n",
    "                      r: Tuple[int,int] = HEALTHY_RED, \n",
    "                      g: Tuple[int,int] = HEALTHY_GREEN, \n",
    "                      b: Tuple[int,int] = HEALTHY_BLUE) -> np.ndarray:\n",
    "    \"\"\"returns a logical binary mask array (dtype bool_ of dimension im ( an RGB image) in which pixels in im pass the lower\n",
    "    and upper thresholds specified in r, g and b (red lower,upper; green lower,upper and blue lower, upper;\n",
    "    respectively) \"\"\"\n",
    "    assert im.dtype.type is np.int64, \"im must be np.ndarray of type int in scale (0,255). Looks like you're not using a RGB image in range (0,255).\"\n",
    "    return _threshold_three_channels(im, c1_limits = r, c2_limits = g, c3_limits = b)\n",
    "\n",
    "\n",
    "def _threshold_three_channels(im: np.ndarray, \n",
    "                              c1_limits: Tuple[Union[int,float],Union[int,float]] = (0,1), \n",
    "                              c2_limits: Tuple[Union[int,float],Union[int,float]] = (0,1),\n",
    "                              c3_limits: Tuple[Union[int,float],Union[int,float]] = (0,1)\n",
    "                             ) -> np.ndarray:\n",
    "    \"\"\"returns a logical binary mask array (dtype bool_ of dimension im  in which pixels in im pass the lower\n",
    "    and upper thresholds specified in c1_limits, c2_limits and c3_limits respectively) \"\"\"\n",
    "    \n",
    "    c1 = im[:, :, 0]\n",
    "    c2 = im[:, :, 1]\n",
    "    c3 = im[:, :, 2]\n",
    "    \n",
    "    c1_min,c1_max = c1_limits\n",
    "    c2_min,c2_max = c2_limits\n",
    "    c3_min,c3_max = c3_limits\n",
    "\n",
    "    \n",
    "    c1_mask = np.logical_and(\n",
    "        c1 >= c1_min, c1 <= c1_max\n",
    "    )\n",
    "    c2_mask = np.logical_and(\n",
    "        c2 >= c2_min, c2 <= c2_max\n",
    "    )\n",
    "    c3_mask = np.logical_and(\n",
    "        c3 >= c3_min, c3 <= c3_max\n",
    "    )\n",
    "    return np.logical_and(c1_mask, c2_mask, c3_mask)\n",
    "\n",
    "\n",
    "def load_as_hsv(fname: str) -> np.ndarray:\n",
    "    hsv_img: np.ndarray\n",
    "    \"\"\"takes a file path and opens the image then converts to HSV colour space. \n",
    "    returns numpy array dtype float 64\"\"\"\n",
    "    img = io.imread(fname)\n",
    "    hsv_img = color.rgb2hsv(img)\n",
    "    return hsv_img\n",
    "\n",
    "\n",
    "def preview_mask(m: np.ndarray, width: int = 10, height: int = 5) -> None:\n",
    "    \"\"\"given a binary bool mask array returns a plot in two colours black = 1/True, white = 0/False\"\"\"\n",
    "    plt.figure(figsize=(width, height))\n",
    "    plt.imshow(m, cmap=\"binary_r\")\n",
    "    plt.show()\n",
    "\n",
    "\n",
    "def preview_object_labels(label_array: np.ndarray, binary_image: np.ndarray) -> None:\n",
    "    \"\"\"given a labelled array from ndi.label and a background binary image, returns a plot with\n",
    "    the objects described in the labelled array coloured in. For preview purposes not further analysis \"\"\"\n",
    "    overlay = label2rgb(label_array, image = binary_image, bg_label = 0)\n",
    "    plt.imshow(overlay)\n",
    "    plt.show()\n",
    "\n",
    "\n",
    "def is_long_and_large(obj: measure._regionprops._RegionProperties, major_to_minor: int = 2, min_area: int = 300 * 300) -> List:\n",
    "    \"\"\"\"given a region props object works ; returns True if the object represented has a\n",
    "     major to minor axis ratio of > major_to_minor and takes up pixels of min_area,\n",
    "     False otherwise and None if not calculable\"\"\"\n",
    "    try:\n",
    "        ratio = obj.major_axis_length / obj.minor_axis_length\n",
    "        if ratio  >= major_to_minor and obj.area >= min_area:\n",
    "            return True\n",
    "        else:\n",
    "            return False\n",
    "    except ZeroDivisionError:\n",
    "        return None\n",
    "    \n",
    "    \n",
    "def is_not_small(obj: measure._regionprops._RegionProperties, min_area: int = 50 * 50) -> List:\n",
    "    \"\"\"\"given a region props object ; returns True if takes up pixels of min_area,\n",
    "     False otherwise and None if not calculable\"\"\"\n",
    "    try:\n",
    "        if obj.area >= min_area:\n",
    "            return True\n",
    "        else:\n",
    "            return False\n",
    "    except:\n",
    "        return None\n",
    "\n",
    "\n",
    "\n",
    "def label_image(m: np.ndarray, structure = None, output = None) -> Tuple[np.ndarray, int]:\n",
    "    \"\"\"given a binary mask array, returns a version with the distinct islands labelled by integers,\n",
    "    and a count of objects found. Thin wrapper around ndi.label \"\"\"\n",
    "    label_array: np.ndarray\n",
    "    number_of_labels: int\n",
    "\n",
    "    label_array, number_of_labels = ndi.label(m,structure, output)\n",
    "    return label_array, number_of_labels\n",
    "\n",
    "\n",
    "def get_object_properties(label_array: np.ndarray) -> List[measure._regionprops._RegionProperties]:\n",
    "    \"\"\"given a label array returns a list of computed RegionProperties objects.\"\"\"\n",
    "    return measure.regionprops(label_array, coordinates='xy' )\n",
    "\n",
    "\n",
    "def filter_region_property_list(region_props: List[measure._regionprops._RegionProperties],\n",
    "                            func: Callable[[measure._regionprops._RegionProperties], bool] ) \\\n",
    "        -> List[measure._regionprops._RegionProperties]:\n",
    "    \"\"\"given a list of region props, and a function that returns True/False for each region prop\n",
    "     Returns a list of region props that have passed\"\"\"\n",
    "    return [r for r in region_props if func(r)]\n",
    "\n",
    "\n",
    "def clean_labelled_mask(label_array: np.ndarray, region_props: List[measure._regionprops._RegionProperties]) -> np.ndarray:\n",
    "    \"\"\"given a label array, sets the labels not represented in region_props to Zero - effectively removing them from the image. Intended to be used on label images\"\"\"\n",
    "    labels_to_keep: list = [r.label for r in region_props]\n",
    "    keep_mask = np.isin(label_array, labels_to_keep)\n",
    "    return label_array * keep_mask\n",
    "\n",
    "\n",
    "def extract_image_segment(hsv_img: np.ndarray, region_prop: measure._regionprops._RegionProperties) -> np.ndarray:\n",
    "    \"\"\"given 3D hsv_img returns a slice covered by the bounding box of region_prop\"\"\"\n",
    "    min_row,min_col,max_row,max_col = region_prop.bbox\n",
    "    return hsv_img[min_row:max_row,min_col:max_col]\n",
    "\n",
    "\n",
    "def griffiths_healthy_regions(hsv_img: np.ndarray, \n",
    "                      h: Tuple[float,float] = HEALTHY_HUE, \n",
    "                      s: Tuple[float,float] = HEALTHY_SAT, \n",
    "                      v: Tuple[float,float] = HEALTHY_VAL ) -> Tuple[np.ndarray, int]:\n",
    "    \"\"\"given an image in hsv applies Ciaran Griffiths detection for healthy regions.\n",
    "    returns the mask of pixels and the pixel volume. Note does not convert to RGB - not clear \n",
    "    at this time whether whether that code actually does anything in Ciaran's script.\"\"\"\n",
    "    #TO DO: check with Ciaran whether the RGB change here is actually effective?! \n",
    "    #rgb_img = hsv_to_rgb255(hsv_img)\n",
    "    mask = threshold_hsv_img(hsv_img).astype(int)#,r,g,b)\n",
    "    filled_mask = ndi.binary_fill_holes(mask)\n",
    "    \n",
    "    return (filled_mask, np.sum(mask))\n",
    "\n",
    "\n",
    "def griffiths_lesion_regions(hsv_img, h: Tuple[float,float] = LESION_HUE, s: Tuple[float,float] = LESION_SAT, v: Tuple[float,float] = LESION_VAL, sigma: float = 2.0) -> Tuple[np.ndarray, int]:\n",
    "    \"\"\"given an image in hsv applies Ciaran Griffiths detection for lesion regions.\n",
    "    applies a hsv_space colour threshold, then finds edges with Canny and fills that mask for holes.\n",
    "    returns a labelled mask of objects and the object count.\"\"\"\n",
    "    mask = threshold_hsv_img(hsv_img, h = h, s = s, v = v).astype(int)\n",
    "    #edges = feature.canny(mask, sigma=sigma).astype(int)\n",
    "    lesion_mask = ndi.binary_fill_holes(mask)\n",
    "    return lesion_mask, np.sum(mask)\n",
    "\n",
    "def griffiths_leaf_regions(hsv_img, h: Tuple[float,float] = LEAF_AREA_HUE, s: Tuple[float,float] = LEAF_AREA_SAT, v: Tuple[float,float] = LEAF_AREA_VAL) -> Tuple[np.ndarray, int]:\n",
    "    \"\"\"given an image in hsv applies Ciaran Griffiths detection for leaf area regions.\n",
    "    applies a hsv_space colour threshold and fills that mask for holes.\n",
    "    returns a binary mask object count.\"\"\"\n",
    "    mask = threshold_hsv_img(hsv_img, h = h, s = s, v = v).astype(int)\n",
    "    return ndi.binary_fill_holes(mask)\n",
    "    \n",
    "\n",
    "def clear_background(img: np.ndarray, mask: np.ndarray) -> np.ndarray:\n",
    "    \"\"\"given an image and a binary mask, clears all pixels in the image (ie sets to zero)\n",
    "    the zero/false pixels in the mask\"\"\"\n",
    "    i = img.copy()\n",
    "    a = i[:,:,0] * mask\n",
    "    b = i[:,:,1] * mask\n",
    "    c = i[:,:,2] * mask\n",
    "    return np.dstack([a,b,c])"
   ]
  },
  {
   "cell_type": "markdown",
   "metadata": {},
   "source": [
    "## Loading an image\n",
    "\n",
    "Loading the test image is straightforward. First we create a `FileBrowser object` and navigate to the file we want to use"
   ]
  },
  {
   "cell_type": "code",
   "execution_count": 431,
   "metadata": {},
   "outputs": [
    {
     "data": {
      "application/vnd.jupyter.widget-view+json": {
       "model_id": "99b0bb48dbdd458cb981b8d3eb77111c",
       "version_major": 2,
       "version_minor": 0
      },
      "text/plain": [
       "VBox(children=(HTML(value='You have selected: /Users/macleand'), Button(description='up one level', style=Butt…"
      ]
     },
     "metadata": {},
     "output_type": "display_data"
    }
   ],
   "source": [
    "f = FileBrowser()\n",
    "f.widget()"
   ]
  },
  {
   "cell_type": "markdown",
   "metadata": {},
   "source": [
    "The file path of the file we selected is in the `f.path` attribute. We now pass that to the `redspot.load_as_hsv()` function, which loads the image into an HSV colour space. \n"
   ]
  },
  {
   "cell_type": "code",
   "execution_count": null,
   "metadata": {},
   "outputs": [],
   "source": [
    "hsv_image = load_as_hsv( f.path )"
   ]
  },
  {
   "cell_type": "markdown",
   "metadata": {},
   "source": [
    "We can preview the HSV image by sending an RGB version to the `scikit.color.hsv2rgb()` function and the RGB version result to the `scikit.io.imshow()`. Note we don't save the RGB version anywhere, and we don't convert the HSV image `hsv_image` permanently, it's just done for the preview. Our working image remains in `hsv_image` in HSV colour space"
   ]
  },
  {
   "cell_type": "code",
   "execution_count": 437,
   "metadata": {},
   "outputs": [
    {
     "data": {
      "image/png": "[encoded data removed]",
      "text/plain": [
       "<Figure size 432x288 with 1 Axes>"
      ]
     },
     "metadata": {
      "needs_background": "light"
     },
     "output_type": "display_data"
    }
   ],
   "source": [
    "io.imshow(color.hsv2rgb(hsv_image) )\n",
    "io.show()"
   ]
  },
  {
   "cell_type": "markdown",
   "metadata": {},
   "source": [
    "## Finding the leaf\n",
    "\n",
    "To find the pixels of the leaf, we can use the Griffiths HSV threshold method encapsulated in the function `redspot.griffiths_leaf_region()`. We pass `hsv_image` to run it with default values. The values can be changed, as we'll see later. This function returns a mask - an array of the same dimensions as the image that contains True/False values that state whether a pixel is in the image.\n",
    "\n",
    "We can print it directly, or look at as an image using `redspot.preview_mask()`. White pixels are those `True` ones that `redspot.griffiths_leaf_regions()` believes belong in the leaf\n"
   ]
  },
  {
   "cell_type": "code",
   "execution_count": 500,
   "metadata": {},
   "outputs": [
    {
     "name": "stdout",
     "output_type": "stream",
     "text": [
      "(0.0, 1.0) (0.19607843137254902, 1.0) (0.1568627450980392, 1.0)\n"
     ]
    },
    {
     "data": {
      "image/png": "[encoded data removed]",
      "text/plain": [
       "<Figure size 720x360 with 1 Axes>"
      ]
     },
     "metadata": {
      "needs_background": "light"
     },
     "output_type": "display_data"
    },
    {
     "data": {
      "text/plain": [
       "array([[False, False, False, ..., False, False, False],\n",
       "       [False, False, False, ..., False, False, False],\n",
       "       [False, False, False, ..., False, False, False],\n",
       "       ...,\n",
       "       [False, False, False, ..., False, False, False],\n",
       "       [False, False, False, ..., False, False, False],\n",
       "       [False, False, False, ..., False, False, False]])"
      ]
     },
     "execution_count": 500,
     "metadata": {},
     "output_type": "execute_result"
    }
   ],
   "source": [
    "leaf_area_mask = griffiths_leaf_regions(hsv_image)\n",
    "preview_mask(leaf_area_mask)\n",
    "leaf_area_mask"
   ]
  },
  {
   "cell_type": "markdown",
   "metadata": {},
   "source": [
    "## Finding objects in a mask\n",
    "\n",
    "The next step is to see how many objects are in this mask. This is conceptualised as regions of `True`s in the mask that are disconnected from other `True`, islands of `True`s in effect. \n",
    "\n",
    "We first label each island, converting all the `True`s in the first island to the digit `1`, all the `Trues` in the second island to `2` and so on. This is done with the `redspot.label_image()` function. It returns a new mask where islands have numeric labels and the background has zeroes, and a count of the objects found.\n",
    "\n"
   ]
  },
  {
   "cell_type": "code",
   "execution_count": 553,
   "metadata": {},
   "outputs": [
    {
     "data": {
      "text/plain": [
       "27"
      ]
     },
     "execution_count": 553,
     "metadata": {},
     "output_type": "execute_result"
    }
   ],
   "source": [
    "labelled_leaf_area, leaf_areas_found = label_image(leaf_area_mask)"
   ]
  },
  {
   "cell_type": "markdown",
   "metadata": {},
   "source": [
    "We can preview the objects using the `redspot.preview_object_labels()` function, which takes a label mask and a background image, here we'll use the `leaf_area_mask` we created above."
   ]
  },
  {
   "cell_type": "code",
   "execution_count": 554,
   "metadata": {},
   "outputs": [
    {
     "data": {
      "image/png": "[encoded data removed]",
      "text/plain": [
       "<Figure size 432x288 with 1 Axes>"
      ]
     },
     "metadata": {
      "needs_background": "light"
     },
     "output_type": "display_data"
    }
   ],
   "source": [
    "preview_object_labels(labelled_leaf_area, leaf_area_mask)"
   ]
  },
  {
   "cell_type": "markdown",
   "metadata": {},
   "source": [
    "Looks good! Looks like we found one big leaf object. Let's check that by cross referencing with the number of objects reported... "
   ]
  },
  {
   "cell_type": "code",
   "execution_count": 568,
   "metadata": {},
   "outputs": [
    {
     "data": {
      "text/plain": [
       "27"
      ]
     },
     "execution_count": 568,
     "metadata": {},
     "output_type": "execute_result"
    }
   ],
   "source": [
    "leaf_areas_found"
   ]
  },
  {
   "cell_type": "markdown",
   "metadata": {},
   "source": [
    "Not good. We actually found 27 objects. The huge main one and lots of ones that are so small they don't render in the preview. This is a consequence of having such a straightforward object call. We can get rid of the small ones by calculating the objects sizes and filtering.\n",
    "\n",
    "### Removing noise in the background\n",
    "\n",
    "We can get the properties of objects with the `redspot.get_object_properties()` on the labelled image. This returns a list of `RegionProps` code objects that describe many features of the objects.   "
   ]
  },
  {
   "cell_type": "code",
   "execution_count": null,
   "metadata": {},
   "outputs": [],
   "source": [
    "leaf_area_properties = get_object_properties(labelled_leaf_area)"
   ]
  },
  {
   "cell_type": "markdown",
   "metadata": {},
   "source": [
    "We can then work out which of those to keep. We can filter a list of RegionProps using the `redspot.filter_region_property()` function and a filter function. The second argument `redspot.is_not_small` filters out all objects smaller than 50 by 50 pixels. \n",
    "\n",
    "After this we have one RegionProp left"
   ]
  },
  {
   "cell_type": "code",
   "execution_count": 555,
   "metadata": {},
   "outputs": [
    {
     "data": {
      "text/plain": [
       "1"
      ]
     },
     "execution_count": 555,
     "metadata": {},
     "output_type": "execute_result"
    }
   ],
   "source": [
    "leaf_areas_to_keep = filter_region_property_list(leaf_area_properties, is_not_small)\n",
    "len(leaf_areas_to_keep)"
   ]
  },
  {
   "cell_type": "markdown",
   "metadata": {},
   "source": [
    "Hopefully it's the leaf area. We  remove the labels from the label mask `labelled_leaf_area` that don't appear in our list of RegionProps to keep with `redspot.clean_labelled_mask()`. \n",
    "\n",
    "We can preview the result with `redspot.preview_object_labels()`. "
   ]
  },
  {
   "cell_type": "code",
   "execution_count": 563,
   "metadata": {},
   "outputs": [
    {
     "data": {
      "image/png": "[encoded data removed]",
      "text/plain": [
       "<Figure size 432x288 with 1 Axes>"
      ]
     },
     "metadata": {
      "needs_background": "light"
     },
     "output_type": "display_data"
    }
   ],
   "source": [
    "cleaned_leaf_area = clean_labelled_mask(labelled_leaf_area, leaf_areas_to_keep)\n",
    "preview_object_labels(cleaned_leaf_area, hsv_image)\n"
   ]
  },
  {
   "cell_type": "markdown",
   "metadata": {},
   "source": [
    "Great! Looks like we got the leaf on its own with no other objects.\n",
    "\n",
    "## Extracting the leaf from the background\n",
    "\n",
    "Once we have a leaf mask we can use it to extract the pixels matching it from the background. A slight problem is that our `cleaned_leaf_area` isn't a `True/False` mask (or its numeric equivalent a `1/0` mask), its a zero and any other integer mask - because the labelling process converted all the `1`s in islands to other numbers. We can use this idiom to set the pixels with non-zero values back to 1."
   ]
  },
  {
   "cell_type": "code",
   "execution_count": null,
   "metadata": {},
   "outputs": [],
   "source": [
    "cleaned_leaf_area[cleaned_leaf_area > 0 ] = 1"
   ]
  },
  {
   "cell_type": "markdown",
   "metadata": {},
   "source": [
    "And now we can use the `redspot.clear_background()` function to creat a new `cleared_image` that contains only leaf pixels."
   ]
  },
  {
   "cell_type": "code",
   "execution_count": 566,
   "metadata": {},
   "outputs": [
    {
     "data": {
      "image/png": "[encoded data removed]",
      "text/plain": [
       "<Figure size 432x288 with 1 Axes>"
      ]
     },
     "metadata": {
      "needs_background": "light"
     },
     "output_type": "display_data"
    }
   ],
   "source": [
    "cleared_image = clear_background(hsv_image, cleaned_leaf_area)\n",
    "io.imshow(color.hsv2rgb(cleared_image))\n",
    "io.show()"
   ]
  },
  {
   "cell_type": "markdown",
   "metadata": {},
   "source": [
    "## Finding the healthy regions in the leaf\n",
    "\n",
    "With a cleaned leaf image we can extract the healthy regions using Griffiths HSV method for the healthy regions, again we have the function `redspot.griffiths_healthy_regions()` for this, with default HSV settings. This function returns a mask of the healthy pixels and the `volume`, basically the number of those pixels. \n",
    "\n",
    "We can preview the region found."
   ]
  },
  {
   "cell_type": "code",
   "execution_count": 513,
   "metadata": {},
   "outputs": [
    {
     "data": {
      "image/png": "[encoded data removed]",
      "text/plain": [
       "<Figure size 720x360 with 1 Axes>"
      ]
     },
     "metadata": {
      "needs_background": "light"
     },
     "output_type": "display_data"
    }
   ],
   "source": [
    "healthy_mask, healthy_volume = griffiths_healthy_regions(cleared_image)\n",
    "preview_mask(healthy_mask)"
   ]
  },
  {
   "cell_type": "markdown",
   "metadata": {},
   "source": [
    "An assumption here is that we only really care about the total amount of healthy tissue, and not how many areas of it there are and how big the healthy areas are. If we did care about such things we would need to treat the region slightly differently, more like the lesion areas.\n",
    "\n",
    "## Finding the lesions\n",
    "\n",
    "We can find lesions in a similar way, here we use the `redspot.griffiths_lesion_regions()` function to find the lesion areas with some custom `h`,`s` and `v` values."
   ]
  },
  {
   "cell_type": "code",
   "execution_count": 514,
   "metadata": {},
   "outputs": [
    {
     "name": "stdout",
     "output_type": "stream",
     "text": [
      "(0.0, 0.1607843137254902) (0.14901960784313725, 1.0) (0.43529411764705883, 1.0)\n"
     ]
    },
    {
     "data": {
      "image/png": "[encoded data removed]",
      "text/plain": [
       "<Figure size 720x360 with 1 Axes>"
      ]
     },
     "metadata": {
      "needs_background": "light"
     },
     "output_type": "display_data"
    }
   ],
   "source": [
    "lesion_mask, lesion_volume = griffiths_lesion_regions(cleared_image, h =(0/255, 41/255), s = (38/255, 255/255), v = (111/255, 255/255))\n",
    "preview_mask(lesion_mask)"
   ]
  },
  {
   "cell_type": "markdown",
   "metadata": {},
   "source": [
    "With that mask, we can go through the island labelling and object counting as before"
   ]
  },
  {
   "cell_type": "code",
   "execution_count": 543,
   "metadata": {},
   "outputs": [
    {
     "data": {
      "image/png": "[encoded data removed]",
      "text/plain": [
       "<Figure size 432x288 with 1 Axes>"
      ]
     },
     "metadata": {
      "needs_background": "light"
     },
     "output_type": "display_data"
    }
   ],
   "source": [
    "labelled_lesions, lesion_count = label_image(lesion_mask)\n",
    "preview_object_labels(labelled_lesions, color.hsv2rgb(cleared_image))"
   ]
  },
  {
   "cell_type": "code",
   "execution_count": 544,
   "metadata": {},
   "outputs": [
    {
     "data": {
      "text/plain": [
       "542"
      ]
     },
     "execution_count": 544,
     "metadata": {},
     "output_type": "execute_result"
    }
   ],
   "source": [
    "lesion_count"
   ]
  },
  {
   "cell_type": "markdown",
   "metadata": {},
   "source": [
    "### Filtering lesion areas\n",
    "\n",
    "Looks like we found an awful lot of lesions. We can filter these as before by generating the object property list and checking that "
   ]
  },
  {
   "cell_type": "code",
   "execution_count": 545,
   "metadata": {},
   "outputs": [],
   "source": [
    "lesion_properties_list = get_object_properties(labelled_lesions)"
   ]
  },
  {
   "cell_type": "code",
   "execution_count": 546,
   "metadata": {},
   "outputs": [],
   "source": [
    "lesion_regions_to_keep = filter_region_property_list(lesion_properties_list, is_not_small)"
   ]
  },
  {
   "cell_type": "code",
   "execution_count": 547,
   "metadata": {},
   "outputs": [
    {
     "data": {
      "text/plain": [
       "3"
      ]
     },
     "execution_count": 547,
     "metadata": {},
     "output_type": "execute_result"
    }
   ],
   "source": [
    "len(lesion_regions_to_keep)"
   ]
  },
  {
   "cell_type": "markdown",
   "metadata": {},
   "source": [
    "Great, that left us with a sane three lesion objects. Now We can clean up the object list and the label mask, and preview to make sure we got the right objects"
   ]
  },
  {
   "cell_type": "code",
   "execution_count": 548,
   "metadata": {},
   "outputs": [
    {
     "data": {
      "image/png": "[encoded data removed]",
      "text/plain": [
       "<Figure size 432x288 with 1 Axes>"
      ]
     },
     "metadata": {
      "needs_background": "light"
     },
     "output_type": "display_data"
    }
   ],
   "source": [
    "cleaned_labelled_lesions = clean_labelled_mask(labelled_lesions, lesion_regions_to_keep)\n",
    "preview_object_labels(cleaned_labelled_lesions, lesion_mask)"
   ]
  },
  {
   "cell_type": "markdown",
   "metadata": {},
   "source": [
    "## Reporting lesion information\n",
    "\n",
    "The `lesion_regions_to_keep` list is made up of RegionProps objects for each lesion. "
   ]
  },
  {
   "cell_type": "code",
   "execution_count": 571,
   "metadata": {},
   "outputs": [
    {
     "data": {
      "text/plain": [
       "[<skimage.measure._regionprops._RegionProperties at 0x120a90b00>,\n",
       " <skimage.measure._regionprops._RegionProperties at 0x12b90e128>,\n",
       " <skimage.measure._regionprops._RegionProperties at 0x121c11358>]"
      ]
     },
     "execution_count": 571,
     "metadata": {},
     "output_type": "execute_result"
    }
   ],
   "source": [
    "lesion_regions_to_keep"
   ]
  },
  {
   "cell_type": "markdown",
   "metadata": {},
   "source": [
    "We can use these object to report on the lesion size and other properties"
   ]
  },
  {
   "cell_type": "code",
   "execution_count": 572,
   "metadata": {},
   "outputs": [
    {
     "data": {
      "text/plain": [
       "19653"
      ]
     },
     "execution_count": 572,
     "metadata": {},
     "output_type": "execute_result"
    }
   ],
   "source": [
    "lesion = lesion_regions_to_keep[0]\n",
    "\n",
    "lesion.area"
   ]
  },
  {
   "cell_type": "code",
   "execution_count": 576,
   "metadata": {},
   "outputs": [
    {
     "data": {
      "text/plain": [
       "14"
      ]
     },
     "execution_count": 576,
     "metadata": {},
     "output_type": "execute_result"
    }
   ],
   "source": [
    "lesion.label"
   ]
  },
  {
   "cell_type": "code",
   "execution_count": 577,
   "metadata": {},
   "outputs": [
    {
     "data": {
      "text/plain": [
       "531.212336298275"
      ]
     },
     "execution_count": 577,
     "metadata": {},
     "output_type": "execute_result"
    }
   ],
   "source": [
    "lesion.major_axis_length"
   ]
  },
  {
   "cell_type": "code",
   "execution_count": null,
   "metadata": {},
   "outputs": [],
   "source": []
  }
 ],
 "metadata": {
  "kernelspec": {
   "display_name": "Python 3",
   "language": "python",
   "name": "python3"
  },
  "language_info": {
   "codemirror_mode": {
    "name": "ipython",
    "version": 3
   },
   "file_extension": ".py",
   "mimetype": "text/x-python",
   "name": "python",
   "nbconvert_exporter": "python",
   "pygments_lexer": "ipython3",
   "version": "3.7.3"
  }
 },
 "nbformat": 4,
 "nbformat_minor": 2
}
