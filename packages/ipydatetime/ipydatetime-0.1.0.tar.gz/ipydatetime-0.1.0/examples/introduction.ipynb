{
 "cells": [
  {
   "cell_type": "markdown",
   "metadata": {},
   "source": [
    "# Introduction"
   ]
  },
  {
   "cell_type": "markdown",
   "metadata": {},
   "source": [
    "This package is meant to supply widgets for picking a time and a datetime, using the default HTML5 input controls. For a date-onpy input, use the one in ipywidgets core (`ipywidgets.DatePicker`)."
   ]
  },
  {
   "cell_type": "markdown",
   "metadata": {},
   "source": [
    "## The time picker\n",
    "\n",
    "To create a time picker, use the `TimerPicker` widget from `ipydatetime`:"
   ]
  },
  {
   "cell_type": "code",
   "execution_count": 1,
   "metadata": {},
   "outputs": [],
   "source": [
    "import ipydatetime\n",
    "import ipywidgets\n",
    "import datetime"
   ]
  },
  {
   "cell_type": "code",
   "execution_count": 2,
   "metadata": {},
   "outputs": [],
   "source": [
    "time_picker = ipydatetime.TimePicker()"
   ]
  },
  {
   "cell_type": "code",
   "execution_count": 3,
   "metadata": {},
   "outputs": [
    {
     "data": {
      "application/vnd.jupyter.widget-view+json": {
       "model_id": "bd36fb86a2f941fd8a30170e19e187a2",
       "version_major": 2,
       "version_minor": 0
      },
      "text/plain": [
       "TimePicker(value=None, step=60.0)"
      ]
     },
     "metadata": {},
     "output_type": "display_data"
    }
   ],
   "source": [
    "time_picker"
   ]
  },
  {
   "cell_type": "markdown",
   "metadata": {},
   "source": [
    "Here is a label showing how the kernel will format this value. Note that if the locale setting of the browser and kernel are different, the formatting of the time might also differ:"
   ]
  },
  {
   "cell_type": "code",
   "execution_count": 4,
   "metadata": {},
   "outputs": [
    {
     "data": {
      "application/vnd.jupyter.widget-view+json": {
       "model_id": "3ef1efb3f6e34080944c95542158ff9e",
       "version_major": 2,
       "version_minor": 0
      },
      "text/plain": [
       "Label(value='None')"
      ]
     },
     "metadata": {},
     "output_type": "display_data"
    }
   ],
   "source": [
    "time_lbl = ipywidgets.Label()\n",
    "\n",
    "def update_time(change=None):\n",
    "    time_lbl.value = str(time_picker.value)\n",
    "\n",
    "update_time()\n",
    "time_picker.observe(update_time, names='value')\n",
    "\n",
    "time_lbl"
   ]
  },
  {
   "cell_type": "markdown",
   "metadata": {},
   "source": [
    "By default, the browser only shows hours/minutes. To input seconds and optionally milliseconds, either give an initial value with non-zero seconds (milliseconds), or specify a smaller `step` attribute. "
   ]
  },
  {
   "cell_type": "code",
   "execution_count": 5,
   "metadata": {},
   "outputs": [
    {
     "data": {
      "application/vnd.jupyter.widget-view+json": {
       "model_id": "e10b83d1a2db44ee8c74f3cfa457a27e",
       "version_major": 2,
       "version_minor": 0
      },
      "text/plain": [
       "TimePicker(value=datetime.time(23, 15, 32), step=1.0)"
      ]
     },
     "metadata": {},
     "output_type": "display_data"
    }
   ],
   "source": [
    "ipydatetime.TimePicker(value=datetime.time(23, 15, 32), step=1)"
   ]
  },
  {
   "cell_type": "code",
   "execution_count": 6,
   "metadata": {},
   "outputs": [
    {
     "data": {
      "application/vnd.jupyter.widget-view+json": {
       "model_id": "aa0aae4cb2cb4899a5d3553032bc2f08",
       "version_major": 2,
       "version_minor": 0
      },
      "text/plain": [
       "TimePicker(value=datetime.time(23, 15, 32, 7000), step=0.001)"
      ]
     },
     "metadata": {},
     "output_type": "display_data"
    }
   ],
   "source": [
    "ipydatetime.TimePicker(value=datetime.time(23, 15, 32, 7000), step=0.001)"
   ]
  },
  {
   "cell_type": "code",
   "execution_count": 7,
   "metadata": {},
   "outputs": [
    {
     "data": {
      "application/vnd.jupyter.widget-view+json": {
       "model_id": "3920869b80834ca19d9517f82a008151",
       "version_major": 2,
       "version_minor": 0
      },
      "text/plain": [
       "TimePicker(value=datetime.time(23, 15), step=5.0)"
      ]
     },
     "metadata": {},
     "output_type": "display_data"
    }
   ],
   "source": [
    "ipydatetime.TimePicker(value=datetime.time(23, 15), step=5)"
   ]
  },
  {
   "cell_type": "code",
   "execution_count": 8,
   "metadata": {},
   "outputs": [
    {
     "data": {
      "application/vnd.jupyter.widget-view+json": {
       "model_id": "979ddffc2bee481db4af048ab8fe65ca",
       "version_major": 2,
       "version_minor": 0
      },
      "text/plain": [
       "TimePicker(value=datetime.time(23, 15), step=0.1)"
      ]
     },
     "metadata": {},
     "output_type": "display_data"
    }
   ],
   "source": [
    "ipydatetime.TimePicker(value=datetime.time(23, 15), step=0.1)"
   ]
  },
  {
   "cell_type": "markdown",
   "metadata": {},
   "source": [
    "## The datetime picker\n",
    "\n",
    "To create a datetime picker, use the `DatetimePicker` widget from `ipydatetime`:"
   ]
  },
  {
   "cell_type": "code",
   "execution_count": 9,
   "metadata": {},
   "outputs": [],
   "source": [
    "datetime_picker = ipydatetime.DatetimePicker()"
   ]
  },
  {
   "cell_type": "code",
   "execution_count": 10,
   "metadata": {},
   "outputs": [
    {
     "data": {
      "application/vnd.jupyter.widget-view+json": {
       "model_id": "c89686a7fa2f408f92afa5655c63f524",
       "version_major": 2,
       "version_minor": 0
      },
      "text/plain": [
       "DatetimePicker(value=None)"
      ]
     },
     "metadata": {},
     "output_type": "display_data"
    }
   ],
   "source": [
    "datetime_picker"
   ]
  },
  {
   "cell_type": "markdown",
   "metadata": {},
   "source": [
    "Here is a label showing how the kernel will format this value. As for the `TimePicker`, if the locale setting of the browser and kernel are different, the formatting of the datetime might also differ."
   ]
  },
  {
   "cell_type": "code",
   "execution_count": 11,
   "metadata": {},
   "outputs": [
    {
     "data": {
      "application/vnd.jupyter.widget-view+json": {
       "model_id": "0612ed55f40142f1bb5fffdba53cacdf",
       "version_major": 2,
       "version_minor": 0
      },
      "text/plain": [
       "Label(value='None')"
      ]
     },
     "metadata": {},
     "output_type": "display_data"
    }
   ],
   "source": [
    "datetime_lbl = ipywidgets.Label()\n",
    "\n",
    "def update_datetime(change=None):\n",
    "    if datetime_picker.value is None:\n",
    "        datetime_lbl.value = 'None'\n",
    "    else:\n",
    "        # Present it using kernel system timezone:\n",
    "        datetime_lbl.value = str(datetime_picker.value)\n",
    "\n",
    "update_datetime()\n",
    "datetime_picker.observe(update_datetime, names='value')\n",
    "\n",
    "datetime_lbl"
   ]
  },
  {
   "cell_type": "markdown",
   "metadata": {},
   "source": [
    "### Time zones\n",
    "\n",
    "There are two points worth to note with regards to timezones:\n",
    "- The browser always picks datetimes using *its* timezone.\n",
    "- The kernel always gets the datetimes in UTC. You might want to call `.astimezone()` on it to get it as its local datetime value."
   ]
  }
 ],
 "metadata": {
  "kernelspec": {
   "display_name": "Python 3",
   "language": "python",
   "name": "python3"
  },
  "language_info": {
   "codemirror_mode": {
    "name": "ipython",
    "version": 3
   },
   "file_extension": ".py",
   "mimetype": "text/x-python",
   "name": "python",
   "nbconvert_exporter": "python",
   "pygments_lexer": "ipython3",
   "version": "3.7.1"
  },
  "widgets": {
   "application/vnd.jupyter.widget-state+json": {
    "state": {
     "0612ed55f40142f1bb5fffdba53cacdf": {
      "model_module": "@jupyter-widgets/controls",
      "model_module_version": "1.4.0",
      "model_name": "LabelModel",
      "state": {
       "layout": "IPY_MODEL_5e78ab84cfd2427ca110e1c1110909de",
       "style": "IPY_MODEL_229b420954f34265af9ed817475bd1f9",
       "value": "None"
      }
     },
     "229b420954f34265af9ed817475bd1f9": {
      "model_module": "@jupyter-widgets/controls",
      "model_module_version": "1.4.0",
      "model_name": "DescriptionStyleModel",
      "state": {
       "description_width": ""
      }
     },
     "25073fb0da1b40f9ae04f24d7acc17c0": {
      "model_module": "@jupyter-widgets/controls",
      "model_module_version": "1.4.0",
      "model_name": "DescriptionStyleModel",
      "state": {
       "description_width": ""
      }
     },
     "352423d4b61a482795a5db4297216ea4": {
      "model_module": "@jupyter-widgets/controls",
      "model_module_version": "1.4.0",
      "model_name": "DescriptionStyleModel",
      "state": {
       "description_width": ""
      }
     },
     "3920869b80834ca19d9517f82a008151": {
      "model_module": "jupyter-widget-datetime",
      "model_module_version": "^0.1.0",
      "model_name": "TimeModel",
      "state": {
       "_model_module_version": "^0.1.0",
       "_view_module_version": "^0.1.0",
       "layout": "IPY_MODEL_5be7d7f1b81e4566ae929c8734f5797d",
       "step": 5,
       "style": "IPY_MODEL_3a6dc72d2df24269b0b5012ffb6265be",
       "value": {
        "hours": 23,
        "milliseconds": 0,
        "minutes": 15,
        "seconds": 0
       }
      }
     },
     "3a6dc72d2df24269b0b5012ffb6265be": {
      "model_module": "@jupyter-widgets/controls",
      "model_module_version": "1.4.0",
      "model_name": "DescriptionStyleModel",
      "state": {
       "description_width": ""
      }
     },
     "3c4e103e4adf488dbc5ecabc590db43a": {
      "model_module": "@jupyter-widgets/base",
      "model_module_version": "1.1.0",
      "model_name": "LayoutModel",
      "state": {}
     },
     "3ef1efb3f6e34080944c95542158ff9e": {
      "model_module": "@jupyter-widgets/controls",
      "model_module_version": "1.4.0",
      "model_name": "LabelModel",
      "state": {
       "layout": "IPY_MODEL_b2976162002347b5a69c0d9a0f9e82a5",
       "style": "IPY_MODEL_85bbe5f9f3f84fec9551617d9d89d7a6",
       "value": "None"
      }
     },
     "5be7d7f1b81e4566ae929c8734f5797d": {
      "model_module": "@jupyter-widgets/base",
      "model_module_version": "1.1.0",
      "model_name": "LayoutModel",
      "state": {}
     },
     "5e78ab84cfd2427ca110e1c1110909de": {
      "model_module": "@jupyter-widgets/base",
      "model_module_version": "1.1.0",
      "model_name": "LayoutModel",
      "state": {}
     },
     "6d247484b67049558acf81caa8df9e99": {
      "model_module": "@jupyter-widgets/controls",
      "model_module_version": "1.4.0",
      "model_name": "DescriptionStyleModel",
      "state": {
       "description_width": ""
      }
     },
     "792a6b0648414aa1a36be205f79eba4a": {
      "model_module": "@jupyter-widgets/controls",
      "model_module_version": "1.4.0",
      "model_name": "DescriptionStyleModel",
      "state": {
       "description_width": ""
      }
     },
     "85bbe5f9f3f84fec9551617d9d89d7a6": {
      "model_module": "@jupyter-widgets/controls",
      "model_module_version": "1.4.0",
      "model_name": "DescriptionStyleModel",
      "state": {
       "description_width": ""
      }
     },
     "979ddffc2bee481db4af048ab8fe65ca": {
      "model_module": "jupyter-widget-datetime",
      "model_module_version": "^0.1.0",
      "model_name": "TimeModel",
      "state": {
       "_model_module_version": "^0.1.0",
       "_view_module_version": "^0.1.0",
       "layout": "IPY_MODEL_e6f0dd73191c4b7a965e7b8de9ec0fa7",
       "step": 0.1,
       "style": "IPY_MODEL_352423d4b61a482795a5db4297216ea4",
       "value": {
        "hours": 23,
        "milliseconds": 0,
        "minutes": 15,
        "seconds": 0
       }
      }
     },
     "9f1ec0766d284d0fadaad59d71491467": {
      "model_module": "@jupyter-widgets/controls",
      "model_module_version": "1.4.0",
      "model_name": "DescriptionStyleModel",
      "state": {
       "description_width": ""
      }
     },
     "aa0aae4cb2cb4899a5d3553032bc2f08": {
      "model_module": "jupyter-widget-datetime",
      "model_module_version": "^0.1.0",
      "model_name": "TimeModel",
      "state": {
       "_model_module_version": "^0.1.0",
       "_view_module_version": "^0.1.0",
       "layout": "IPY_MODEL_3c4e103e4adf488dbc5ecabc590db43a",
       "step": 0.001,
       "style": "IPY_MODEL_25073fb0da1b40f9ae04f24d7acc17c0",
       "value": {
        "hours": 23,
        "milliseconds": 7,
        "minutes": 15,
        "seconds": 32
       }
      }
     },
     "b2976162002347b5a69c0d9a0f9e82a5": {
      "model_module": "@jupyter-widgets/base",
      "model_module_version": "1.1.0",
      "model_name": "LayoutModel",
      "state": {}
     },
     "bd36fb86a2f941fd8a30170e19e187a2": {
      "model_module": "jupyter-widget-datetime",
      "model_module_version": "^0.1.0",
      "model_name": "TimeModel",
      "state": {
       "_model_module_version": "^0.1.0",
       "_view_module_version": "^0.1.0",
       "layout": "IPY_MODEL_f0bc16c8892a466ea0ac64898fe4c262",
       "style": "IPY_MODEL_792a6b0648414aa1a36be205f79eba4a"
      }
     },
     "bfc89e24728945dda8a0e759f4fbcdad": {
      "model_module": "@jupyter-widgets/base",
      "model_module_version": "1.1.0",
      "model_name": "LayoutModel",
      "state": {}
     },
     "c89686a7fa2f408f92afa5655c63f524": {
      "model_module": "jupyter-widget-datetime",
      "model_module_version": "^0.1.0",
      "model_name": "DatetimeModel",
      "state": {
       "_model_module_version": "^0.1.0",
       "_model_name": "DatetimeModel",
       "_view_module_version": "^0.1.0",
       "_view_name": "DatetimeView",
       "layout": "IPY_MODEL_e88f96b471584783895d2ee5a9bc8897",
       "style": "IPY_MODEL_9f1ec0766d284d0fadaad59d71491467"
      }
     },
     "e10b83d1a2db44ee8c74f3cfa457a27e": {
      "model_module": "jupyter-widget-datetime",
      "model_module_version": "^0.1.0",
      "model_name": "TimeModel",
      "state": {
       "_model_module_version": "^0.1.0",
       "_view_module_version": "^0.1.0",
       "layout": "IPY_MODEL_bfc89e24728945dda8a0e759f4fbcdad",
       "step": 1,
       "style": "IPY_MODEL_6d247484b67049558acf81caa8df9e99",
       "value": {
        "hours": 23,
        "milliseconds": 0,
        "minutes": 15,
        "seconds": 32
       }
      }
     },
     "e6f0dd73191c4b7a965e7b8de9ec0fa7": {
      "model_module": "@jupyter-widgets/base",
      "model_module_version": "1.1.0",
      "model_name": "LayoutModel",
      "state": {}
     },
     "e88f96b471584783895d2ee5a9bc8897": {
      "model_module": "@jupyter-widgets/base",
      "model_module_version": "1.1.0",
      "model_name": "LayoutModel",
      "state": {}
     },
     "f0bc16c8892a466ea0ac64898fe4c262": {
      "model_module": "@jupyter-widgets/base",
      "model_module_version": "1.1.0",
      "model_name": "LayoutModel",
      "state": {}
     }
    },
    "version_major": 2,
    "version_minor": 0
   }
  }
 },
 "nbformat": 4,
 "nbformat_minor": 2
}
