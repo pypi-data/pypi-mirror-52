{
 "cells": [
  {
   "cell_type": "markdown",
   "metadata": {},
   "source": [
    "# NDVI computation with eodag\n",
    "\n",
    "\n",
    "In this tutorial, we compute a bandmath on a Sentinel-2 source, directly by giving an extent with eodag. The area of interest is the center of Toulouse.\n",
    "\n",
    "Let's start by setting your personal credentials to access [peps service](https://peps.cnes.fr) by filling your username and password bellow:"
   ]
  },
  {
   "cell_type": "code",
   "execution_count": 1,
   "metadata": {},
   "outputs": [],
   "source": [
    "import os\n",
    "os.environ[\"EODAG__PEPS__AUTH__CREDENTIALS__USERNAME\"] = \"PLEASE_CHANGE_ME\"\n",
    "os.environ[\"EODAG__PEPS__AUTH__CREDENTIALS__PASSWORD\"] = \"PLEASE_CHANGE_ME\""
   ]
  },
  {
   "cell_type": "markdown",
   "metadata": {},
   "source": [
    "Then we create a workspace directory where all our files and configuration will live:"
   ]
  },
  {
   "cell_type": "code",
   "execution_count": 1,
   "metadata": {},
   "outputs": [
    {
     "name": "stderr",
     "output_type": "stream",
     "text": [
      "2019-04-15 16:46:36,038-15s eodag.config                     [INFO    ] Loading user configuration from: /tmp/eodag_workspace/eodag_conf.yml\n"
     ]
    }
   ],
   "source": [
    "from eodag.api.core import EODataAccessGateway\n",
    "from eodag.utils.logging import setup_logging\n",
    "\n",
    "workspace = 'eodag_workspace'\n",
    "if not os.path.isdir(workspace):\n",
    "    os.mkdir(workspace)\n",
    "\n",
    "# To have some basic feedback on what eodag is doing, we configure logging to output minimum information\n",
    "setup_logging(verbose=1)\n",
    "dag = EODataAccessGateway()"
   ]
  },
  {
   "cell_type": "markdown",
   "metadata": {},
   "source": [
    "We define an extent and search for the same product type as in the previous tutorial for the entire month of May 2018:"
   ]
  },
  {
   "cell_type": "code",
   "execution_count": 2,
   "metadata": {
    "scrolled": true
   },
   "outputs": [
    {
     "name": "stderr",
     "output_type": "stream",
     "text": [
      "2019-04-15 16:46:41,035-15s eodag.core                       [INFO    ] Searching product type 'S2_MSI_L1C' on provider: peps\n",
      "2019-04-15 16:46:41,037-15s eodag.plugins.search.qssearch    [INFO    ] Sending count request: https://peps.cnes.fr/resto/api/collections/S2ST/search.json?box=1.306,43.527642,1.551819,43.662905&startDate=2018-05-01&cloudCover=[0,1]&productType=S2MSI1C&completionDate=2018-05-31&maxRecords=1&page=1\n",
      "2019-04-15 16:46:41,751-15s eodag.plugins.search.qssearch    [INFO    ] Sending search request: https://peps.cnes.fr/resto/api/collections/S2ST/search.json?box=1.306,43.527642,1.551819,43.662905&startDate=2018-05-01&cloudCover=[0,1]&productType=S2MSI1C&completionDate=2018-05-31&maxRecords=20&page=1\n",
      "2019-04-15 16:46:42,205-15s eodag.core                       [INFO    ] Found 1 result(s) on provider 'peps'\n"
     ]
    },
    {
     "data": {
      "text/plain": [
       "u'S2A_MSIL1C_20180511T105031_N0206_R051_T31TCJ_20180511T125821'"
      ]
     },
     "execution_count": 2,
     "metadata": {},
     "output_type": "execute_result"
    }
   ],
   "source": [
    "product_type = 'S2_MSI_L1C'\n",
    "extent = {\n",
    "    'lonmin': 1.306000,\n",
    "    'lonmax': 1.551819,\n",
    "    'latmin': 43.527642,\n",
    "    'latmax': 43.662905\n",
    "}\n",
    "\n",
    "products, estimated_nbr_of_results = dag.search(\n",
    "    productType=product_type,\n",
    "    start='2018-05-01',\n",
    "    end='2018-05-31',\n",
    "    box=extent,\n",
    "    cloudCover=1\n",
    ")\n",
    "product = products[0]\n",
    "product.properties['title']"
   ]
  },
  {
   "cell_type": "markdown",
   "metadata": {},
   "source": [
    "The method **get_data** allows us to directly retrieve a subset of the EO product without downloading it if it has already been downloaded. If it has not, it is first downloaded locally and then the subset is retrieved. In the final version of eodag, this retrieval will be done without the entire product downloaded locally."
   ]
  },
  {
   "cell_type": "code",
   "execution_count": 3,
   "metadata": {},
   "outputs": [
    {
     "name": "stderr",
     "output_type": "stream",
     "text": [
      "2019-04-15 16:46:42,241-15s eodag.api.product                [WARNING ] Eodag does not support getting data from distant sources by now. Falling back to first downloading the product and then getting the data...\n",
      "2019-04-15 16:46:42,245-15s eodag.plugins.download.http      [INFO    ] Download url: https://peps.cnes.fr/resto/collections/S2ST/c17952c9-0697-5bc2-b874-273ba33d328e/download\n",
      "2019-04-15 16:46:42,251-15s eodag.api.product                [INFO    ] Remote location of the product is still available through its 'remote_location' property: https://peps.cnes.fr/resto/collections/S2ST/c17952c9-0697-5bc2-b874-273ba33d328e/download\n"
     ]
    }
   ],
   "source": [
    "VIR = product.get_data(crs='epsg:4326', resolution=0.0001, band='B04', extent=(1.435905, 43.586857, 1.458907, 43.603827))\n",
    "NIR = product.get_data(crs='epsg:4326', resolution=0.0001, band='B08', extent=(1.435905, 43.586857, 1.458907, 43.603827))\n",
    "NDVI = (NIR - VIR * 1.) / (NIR + VIR)"
   ]
  },
  {
   "cell_type": "markdown",
   "metadata": {},
   "source": [
    "Now we can plot the result and see in green the \"Prairie des Filtres\" on the left, and \"Grand-Rond\"-\"Jardin des plantes\" parks on the right center. In red, the \"Garonne\"."
   ]
  },
  {
   "cell_type": "code",
   "execution_count": 4,
   "metadata": {},
   "outputs": [
    {
     "data": {
      "text/plain": [
       "<matplotlib.image.AxesImage at 0x7fb14b0a93d0>"
      ]
     },
     "execution_count": 4,
     "metadata": {},
     "output_type": "execute_result"
    }
   ],
   "source": [
    "import matplotlib.pyplot as plt\n",
    "\n",
    "plt.imshow(NDVI, cmap='RdYlGn', aspect='auto')",
    "\n",
    "plt.show()"
   ]
  },
  {
   "cell_type": "markdown",
   "metadata": {},
   "source": [
    "Finally we can save this picture and share it with who we want !"
   ]
  },
  {
   "cell_type": "code",
   "execution_count": 5,
   "metadata": {
    "scrolled": false
   },
   "outputs": [
    {
     "data": {
      "text/plain": [
       "<Figure size 432x288 with 0 Axes>"
      ]
     },
     "metadata": {},
     "output_type": "display_data"
    }
   ],
   "source": [
    "plt.savefig(os.path.join(workspace, 'ndvi_toulouse.png'))"
   ]
  }
 ],
 "metadata": {
  "kernelspec": {
   "display_name": "Python (eodag27)",
   "language": "python",
   "name": "eodag27"
  },
  "language_info": {
   "codemirror_mode": {
    "name": "ipython",
    "version": 2
   },
   "file_extension": ".py",
   "mimetype": "text/x-python",
   "name": "python",
   "nbconvert_exporter": "python",
   "pygments_lexer": "ipython2",
   "version": "2.7.15rc1"
  },
  "nbsphinx": {
   "excute": "never"
  },
  "widgets": {
   "application/vnd.jupyter.widget-state+json": {
    "state": {},
    "version_major": 2,
    "version_minor": 0
   }
  }
 },
 "nbformat": 4,
 "nbformat_minor": 2
}
